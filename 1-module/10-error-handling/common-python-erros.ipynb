{
 "metadata": {
  "language_info": {
   "codemirror_mode": {
    "name": "ipython",
    "version": 3
   },
   "file_extension": ".py",
   "mimetype": "text/x-python",
   "name": "python",
   "nbconvert_exporter": "python",
   "pygments_lexer": "ipython3",
   "version": "3.9.1"
  },
  "orig_nbformat": 2,
  "kernelspec": {
   "name": "python391jvsc74a57bd0376f5b0795f81aa7b5d99e448d6274743a66c9892fd26cf11e505993f41df5fa",
   "display_name": "Python 3.9.1 64-bit"
  }
 },
 "nbformat": 4,
 "nbformat_minor": 2,
 "cells": [
  {
   "cell_type": "code",
   "execution_count": 1,
   "metadata": {},
   "outputs": [
    {
     "output_type": "stream",
     "name": "stdout",
     "text": [
      "1762333185648\n1762333186928\n"
     ]
    }
   ],
   "source": [
    "a=\"some\"\n",
    "print(id(a))\n",
    "print(id(\"some\"+\"_\"+\"string\"))"
   ]
  },
  {
   "cell_type": "code",
   "execution_count": 2,
   "metadata": {},
   "outputs": [
    {
     "output_type": "stream",
     "name": "stdout",
     "text": [
      "True\nFalse\nTrue\n"
     ]
    }
   ],
   "source": [
    "a='wtf'\n",
    "b='wtf'\n",
    "print(a is b)\n",
    "\n",
    "a='wtf!'\n",
    "b='wtf!'\n",
    "print(a is b)\n",
    "\n",
    "a, b ='wtf!', 'wtf!'\n",
    "print(a is b)"
   ]
  },
  {
   "cell_type": "code",
   "execution_count": 3,
   "metadata": {},
   "outputs": [
    {
     "output_type": "stream",
     "name": "stdout",
     "text": [
      "True\nTrue\n"
     ]
    }
   ],
   "source": [
    "print('a'*20 == 'aaaaaaaaaaaaaaaaaaaa')\n",
    "print('a'*21 == 'aaaaaaaaaaaaaaaaaaaaa')"
   ]
  }
 ]
}