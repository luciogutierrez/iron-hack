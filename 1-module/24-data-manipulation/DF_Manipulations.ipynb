{
  "nbformat": 4,
  "nbformat_minor": 0,
  "metadata": {
    "colab": {
      "name": "DF Manipulations.ipynb",
      "provenance": [],
      "collapsed_sections": []
    },
    "kernelspec": {
      "name": "python3",
      "display_name": "Python 3"
    },
    "language_info": {
      "name": "python"
    }
  },
  "cells": [
    {
      "cell_type": "markdown",
      "metadata": {
        "id": "DAhkKP2bMJAQ"
      },
      "source": [
        "# Data Frame Manipulation"
      ]
    },
    {
      "cell_type": "code",
      "metadata": {
        "id": "jyrfmSyJL5D2"
      },
      "source": [
        "import pandas as pd"
      ],
      "execution_count": null,
      "outputs": []
    },
    {
      "cell_type": "code",
      "metadata": {
        "colab": {
          "base_uri": "https://localhost:8080/"
        },
        "id": "3fURKh50Mh95",
        "outputId": "86f339ed-0520-4b15-b124-e374c1b3dd4d"
      },
      "source": [
        "from google.colab import drive\n",
        "drive.mount('/content/drive')"
      ],
      "execution_count": null,
      "outputs": [
        {
          "output_type": "stream",
          "text": [
            "Mounted at /content/drive\n"
          ],
          "name": "stdout"
        }
      ]
    },
    {
      "cell_type": "code",
      "metadata": {
        "id": "Y5ZnOPTCMtIT"
      },
      "source": [
        "data = pd.read_csv('/content/drive/MyDrive/Databases/Week 7/vehicles.csv')"
      ],
      "execution_count": null,
      "outputs": []
    },
    {
      "cell_type": "code",
      "metadata": {
        "colab": {
          "base_uri": "https://localhost:8080/"
        },
        "id": "KdgTTPKSM6Jj",
        "outputId": "3bc989f7-0a2e-481c-e4a9-9c66abd61f10"
      },
      "source": [
        "data.columns"
      ],
      "execution_count": null,
      "outputs": [
        {
          "output_type": "execute_result",
          "data": {
            "text/plain": [
              "Index(['Make', 'Model', 'Year', 'Engine Displacement', 'Cylinders',\n",
              "       'Transmission', 'Drivetrain', 'Vehicle Class', 'Fuel Type',\n",
              "       'Fuel Barrels/Year', 'City MPG', 'Highway MPG', 'Combined MPG',\n",
              "       'CO2 Emission Grams/Mile', 'Fuel Cost/Year'],\n",
              "      dtype='object')"
            ]
          },
          "metadata": {
            "tags": []
          },
          "execution_count": 4
        }
      ]
    },
    {
      "cell_type": "code",
      "metadata": {
        "colab": {
          "base_uri": "https://localhost:8080/"
        },
        "id": "sQxZ8z2TNE-t",
        "outputId": "ff5a53b4-a32b-41b8-8acb-9c7afadf089c"
      },
      "source": [
        "data.columns = ['Fabricante', 'Model', 'Year', 'Engine Displacement', 'Cilindraje',\n",
        "       'Transmission', 'Drivetrain', 'Vehicle Class', 'Fuel Type',\n",
        "       'Fuel Barrels/Year', 'City MPG', 'Highway MPG', 'Combined MPG',\n",
        "       'CO2 Emission Grams/Mile', 'Fuel Cost/Year']\n",
        "data.columns       "
      ],
      "execution_count": null,
      "outputs": [
        {
          "output_type": "execute_result",
          "data": {
            "text/plain": [
              "Index(['Fabricante', 'Model', 'Year', 'Engine Displacement', 'Cilindraje',\n",
              "       'Transmission', 'Drivetrain', 'Vehicle Class', 'Fuel Type',\n",
              "       'Fuel Barrels/Year', 'City MPG', 'Highway MPG', 'Combined MPG',\n",
              "       'CO2 Emission Grams/Mile', 'Fuel Cost/Year'],\n",
              "      dtype='object')"
            ]
          },
          "metadata": {
            "tags": []
          },
          "execution_count": 5
        }
      ]
    },
    {
      "cell_type": "code",
      "metadata": {
        "colab": {
          "base_uri": "https://localhost:8080/"
        },
        "id": "2B9nTpmdNwOO",
        "outputId": "bed4e5fe-9d55-45e7-a21c-adf17c08916e"
      },
      "source": [
        "data = data.rename(columns = {'Fabricante':'Marca_fabrica','Cilindraje':'Cilindrada'})\n",
        "data.columns"
      ],
      "execution_count": null,
      "outputs": [
        {
          "output_type": "execute_result",
          "data": {
            "text/plain": [
              "Index(['Marca_fabrica', 'Model', 'Year', 'Engine Displacement', 'Cilindrada',\n",
              "       'Transmission', 'Drivetrain', 'Vehicle Class', 'Fuel Type',\n",
              "       'Fuel Barrels/Year', 'City MPG', 'Highway MPG', 'Combined MPG',\n",
              "       'CO2 Emission Grams/Mile', 'Fuel Cost/Year'],\n",
              "      dtype='object')"
            ]
          },
          "metadata": {
            "tags": []
          },
          "execution_count": 6
        }
      ]
    },
    {
      "cell_type": "code",
      "metadata": {
        "colab": {
          "base_uri": "https://localhost:8080/",
          "height": 160
        },
        "id": "-z2s4tEiOr_A",
        "outputId": "bd2d0593-e9c1-4677-fa2d-661416b77699"
      },
      "source": [
        "data.head(2)"
      ],
      "execution_count": null,
      "outputs": [
        {
          "output_type": "execute_result",
          "data": {
            "text/html": [
              "<div>\n",
              "<style scoped>\n",
              "    .dataframe tbody tr th:only-of-type {\n",
              "        vertical-align: middle;\n",
              "    }\n",
              "\n",
              "    .dataframe tbody tr th {\n",
              "        vertical-align: top;\n",
              "    }\n",
              "\n",
              "    .dataframe thead th {\n",
              "        text-align: right;\n",
              "    }\n",
              "</style>\n",
              "<table border=\"1\" class=\"dataframe\">\n",
              "  <thead>\n",
              "    <tr style=\"text-align: right;\">\n",
              "      <th></th>\n",
              "      <th>Marca_fabrica</th>\n",
              "      <th>Model</th>\n",
              "      <th>Year</th>\n",
              "      <th>Engine Displacement</th>\n",
              "      <th>Cilindrada</th>\n",
              "      <th>Transmission</th>\n",
              "      <th>Drivetrain</th>\n",
              "      <th>Vehicle Class</th>\n",
              "      <th>Fuel Type</th>\n",
              "      <th>Fuel Barrels/Year</th>\n",
              "      <th>City MPG</th>\n",
              "      <th>Highway MPG</th>\n",
              "      <th>Combined MPG</th>\n",
              "      <th>CO2 Emission Grams/Mile</th>\n",
              "      <th>Fuel Cost/Year</th>\n",
              "    </tr>\n",
              "  </thead>\n",
              "  <tbody>\n",
              "    <tr>\n",
              "      <th>0</th>\n",
              "      <td>AM General</td>\n",
              "      <td>DJ Po Vehicle 2WD</td>\n",
              "      <td>1984</td>\n",
              "      <td>2.5</td>\n",
              "      <td>4.0</td>\n",
              "      <td>Automatic 3-spd</td>\n",
              "      <td>2-Wheel Drive</td>\n",
              "      <td>Special Purpose Vehicle 2WD</td>\n",
              "      <td>Regular</td>\n",
              "      <td>19.388824</td>\n",
              "      <td>18</td>\n",
              "      <td>17</td>\n",
              "      <td>17</td>\n",
              "      <td>522.764706</td>\n",
              "      <td>1950</td>\n",
              "    </tr>\n",
              "    <tr>\n",
              "      <th>1</th>\n",
              "      <td>AM General</td>\n",
              "      <td>FJ8c Post Office</td>\n",
              "      <td>1984</td>\n",
              "      <td>4.2</td>\n",
              "      <td>6.0</td>\n",
              "      <td>Automatic 3-spd</td>\n",
              "      <td>2-Wheel Drive</td>\n",
              "      <td>Special Purpose Vehicle 2WD</td>\n",
              "      <td>Regular</td>\n",
              "      <td>25.354615</td>\n",
              "      <td>13</td>\n",
              "      <td>13</td>\n",
              "      <td>13</td>\n",
              "      <td>683.615385</td>\n",
              "      <td>2550</td>\n",
              "    </tr>\n",
              "  </tbody>\n",
              "</table>\n",
              "</div>"
            ],
            "text/plain": [
              "  Marca_fabrica              Model  ...  CO2 Emission Grams/Mile  Fuel Cost/Year\n",
              "0    AM General  DJ Po Vehicle 2WD  ...               522.764706            1950\n",
              "1    AM General   FJ8c Post Office  ...               683.615385            2550\n",
              "\n",
              "[2 rows x 15 columns]"
            ]
          },
          "metadata": {
            "tags": []
          },
          "execution_count": 7
        }
      ]
    },
    {
      "cell_type": "code",
      "metadata": {
        "colab": {
          "base_uri": "https://localhost:8080/",
          "height": 160
        },
        "id": "zidLe0nXOsEl",
        "outputId": "e4995948-b351-42f4-fc7d-1cc91cd604e2"
      },
      "source": [
        "# Moviendo columnas\n",
        "column_order = [ 'Year', 'Model', 'Marca_fabrica', 'Engine Displacement', 'Cilindrada',\n",
        "       'Transmission', 'Drivetrain', 'Vehicle Class', 'Fuel Type',\n",
        "       'Fuel Barrels/Year', 'City MPG', 'Highway MPG', 'Combined MPG',\n",
        "       'CO2 Emission Grams/Mile', 'Fuel Cost/Year']\n",
        "\n",
        "data = data[column_order]\n",
        "data.head(2)"
      ],
      "execution_count": null,
      "outputs": [
        {
          "output_type": "execute_result",
          "data": {
            "text/html": [
              "<div>\n",
              "<style scoped>\n",
              "    .dataframe tbody tr th:only-of-type {\n",
              "        vertical-align: middle;\n",
              "    }\n",
              "\n",
              "    .dataframe tbody tr th {\n",
              "        vertical-align: top;\n",
              "    }\n",
              "\n",
              "    .dataframe thead th {\n",
              "        text-align: right;\n",
              "    }\n",
              "</style>\n",
              "<table border=\"1\" class=\"dataframe\">\n",
              "  <thead>\n",
              "    <tr style=\"text-align: right;\">\n",
              "      <th></th>\n",
              "      <th>Year</th>\n",
              "      <th>Model</th>\n",
              "      <th>Marca_fabrica</th>\n",
              "      <th>Engine Displacement</th>\n",
              "      <th>Cilindrada</th>\n",
              "      <th>Transmission</th>\n",
              "      <th>Drivetrain</th>\n",
              "      <th>Vehicle Class</th>\n",
              "      <th>Fuel Type</th>\n",
              "      <th>Fuel Barrels/Year</th>\n",
              "      <th>City MPG</th>\n",
              "      <th>Highway MPG</th>\n",
              "      <th>Combined MPG</th>\n",
              "      <th>CO2 Emission Grams/Mile</th>\n",
              "      <th>Fuel Cost/Year</th>\n",
              "    </tr>\n",
              "  </thead>\n",
              "  <tbody>\n",
              "    <tr>\n",
              "      <th>0</th>\n",
              "      <td>1984</td>\n",
              "      <td>DJ Po Vehicle 2WD</td>\n",
              "      <td>AM General</td>\n",
              "      <td>2.5</td>\n",
              "      <td>4.0</td>\n",
              "      <td>Automatic 3-spd</td>\n",
              "      <td>2-Wheel Drive</td>\n",
              "      <td>Special Purpose Vehicle 2WD</td>\n",
              "      <td>Regular</td>\n",
              "      <td>19.388824</td>\n",
              "      <td>18</td>\n",
              "      <td>17</td>\n",
              "      <td>17</td>\n",
              "      <td>522.764706</td>\n",
              "      <td>1950</td>\n",
              "    </tr>\n",
              "    <tr>\n",
              "      <th>1</th>\n",
              "      <td>1984</td>\n",
              "      <td>FJ8c Post Office</td>\n",
              "      <td>AM General</td>\n",
              "      <td>4.2</td>\n",
              "      <td>6.0</td>\n",
              "      <td>Automatic 3-spd</td>\n",
              "      <td>2-Wheel Drive</td>\n",
              "      <td>Special Purpose Vehicle 2WD</td>\n",
              "      <td>Regular</td>\n",
              "      <td>25.354615</td>\n",
              "      <td>13</td>\n",
              "      <td>13</td>\n",
              "      <td>13</td>\n",
              "      <td>683.615385</td>\n",
              "      <td>2550</td>\n",
              "    </tr>\n",
              "  </tbody>\n",
              "</table>\n",
              "</div>"
            ],
            "text/plain": [
              "   Year              Model  ... CO2 Emission Grams/Mile  Fuel Cost/Year\n",
              "0  1984  DJ Po Vehicle 2WD  ...              522.764706            1950\n",
              "1  1984   FJ8c Post Office  ...              683.615385            2550\n",
              "\n",
              "[2 rows x 15 columns]"
            ]
          },
          "metadata": {
            "tags": []
          },
          "execution_count": 10
        }
      ]
    },
    {
      "cell_type": "code",
      "metadata": {
        "colab": {
          "base_uri": "https://localhost:8080/",
          "height": 302
        },
        "id": "ZBsntFwcOsJA",
        "outputId": "3c183d55-f260-4cbe-c3d1-f88e91d60407"
      },
      "source": [
        "#Autos Ford, cilindraje mayor igual a 6, MPG menor a 15\n",
        "# Filtrando dataset\n",
        "filtered = data[(data['Marca_fabrica']=='Ford')& (data['Cilindrada']>=6) & (data['Combined MPG']<15)]\n",
        "filtered.head()"
      ],
      "execution_count": null,
      "outputs": [
        {
          "output_type": "execute_result",
          "data": {
            "text/html": [
              "<div>\n",
              "<style scoped>\n",
              "    .dataframe tbody tr th:only-of-type {\n",
              "        vertical-align: middle;\n",
              "    }\n",
              "\n",
              "    .dataframe tbody tr th {\n",
              "        vertical-align: top;\n",
              "    }\n",
              "\n",
              "    .dataframe thead th {\n",
              "        text-align: right;\n",
              "    }\n",
              "</style>\n",
              "<table border=\"1\" class=\"dataframe\">\n",
              "  <thead>\n",
              "    <tr style=\"text-align: right;\">\n",
              "      <th></th>\n",
              "      <th>Year</th>\n",
              "      <th>Model</th>\n",
              "      <th>Marca_fabrica</th>\n",
              "      <th>Engine Displacement</th>\n",
              "      <th>Cilindrada</th>\n",
              "      <th>Transmission</th>\n",
              "      <th>Drivetrain</th>\n",
              "      <th>Vehicle Class</th>\n",
              "      <th>Fuel Type</th>\n",
              "      <th>Fuel Barrels/Year</th>\n",
              "      <th>City MPG</th>\n",
              "      <th>Highway MPG</th>\n",
              "      <th>Combined MPG</th>\n",
              "      <th>CO2 Emission Grams/Mile</th>\n",
              "      <th>Fuel Cost/Year</th>\n",
              "    </tr>\n",
              "  </thead>\n",
              "  <tbody>\n",
              "    <tr>\n",
              "      <th>11526</th>\n",
              "      <td>1984</td>\n",
              "      <td>Bronco 4WD</td>\n",
              "      <td>Ford</td>\n",
              "      <td>4.9</td>\n",
              "      <td>6.0</td>\n",
              "      <td>Automatic 3-spd</td>\n",
              "      <td>4-Wheel or All-Wheel Drive</td>\n",
              "      <td>Special Purpose Vehicle 4WD</td>\n",
              "      <td>Regular</td>\n",
              "      <td>25.354615</td>\n",
              "      <td>12</td>\n",
              "      <td>13</td>\n",
              "      <td>13</td>\n",
              "      <td>683.615385</td>\n",
              "      <td>2550</td>\n",
              "    </tr>\n",
              "    <tr>\n",
              "      <th>11528</th>\n",
              "      <td>1984</td>\n",
              "      <td>Bronco 4WD</td>\n",
              "      <td>Ford</td>\n",
              "      <td>4.9</td>\n",
              "      <td>6.0</td>\n",
              "      <td>Manual 4-spd</td>\n",
              "      <td>4-Wheel or All-Wheel Drive</td>\n",
              "      <td>Special Purpose Vehicle 4WD</td>\n",
              "      <td>Regular</td>\n",
              "      <td>23.543571</td>\n",
              "      <td>13</td>\n",
              "      <td>15</td>\n",
              "      <td>14</td>\n",
              "      <td>634.785714</td>\n",
              "      <td>2400</td>\n",
              "    </tr>\n",
              "    <tr>\n",
              "      <th>11529</th>\n",
              "      <td>1984</td>\n",
              "      <td>Bronco 4WD</td>\n",
              "      <td>Ford</td>\n",
              "      <td>5.0</td>\n",
              "      <td>8.0</td>\n",
              "      <td>Automatic 3-spd</td>\n",
              "      <td>4-Wheel or All-Wheel Drive</td>\n",
              "      <td>Special Purpose Vehicle 4WD</td>\n",
              "      <td>Regular</td>\n",
              "      <td>29.964545</td>\n",
              "      <td>11</td>\n",
              "      <td>12</td>\n",
              "      <td>11</td>\n",
              "      <td>807.909091</td>\n",
              "      <td>3050</td>\n",
              "    </tr>\n",
              "    <tr>\n",
              "      <th>11530</th>\n",
              "      <td>1984</td>\n",
              "      <td>Bronco 4WD</td>\n",
              "      <td>Ford</td>\n",
              "      <td>5.0</td>\n",
              "      <td>8.0</td>\n",
              "      <td>Manual 4-spd</td>\n",
              "      <td>4-Wheel or All-Wheel Drive</td>\n",
              "      <td>Special Purpose Vehicle 4WD</td>\n",
              "      <td>Regular</td>\n",
              "      <td>25.354615</td>\n",
              "      <td>11</td>\n",
              "      <td>15</td>\n",
              "      <td>13</td>\n",
              "      <td>683.615385</td>\n",
              "      <td>2550</td>\n",
              "    </tr>\n",
              "    <tr>\n",
              "      <th>11531</th>\n",
              "      <td>1984</td>\n",
              "      <td>Bronco 4WD</td>\n",
              "      <td>Ford</td>\n",
              "      <td>5.0</td>\n",
              "      <td>8.0</td>\n",
              "      <td>Manual 4-spd</td>\n",
              "      <td>4-Wheel or All-Wheel Drive</td>\n",
              "      <td>Special Purpose Vehicle 4WD</td>\n",
              "      <td>Regular</td>\n",
              "      <td>27.467500</td>\n",
              "      <td>11</td>\n",
              "      <td>13</td>\n",
              "      <td>12</td>\n",
              "      <td>740.583333</td>\n",
              "      <td>2800</td>\n",
              "    </tr>\n",
              "  </tbody>\n",
              "</table>\n",
              "</div>"
            ],
            "text/plain": [
              "       Year       Model  ... CO2 Emission Grams/Mile  Fuel Cost/Year\n",
              "11526  1984  Bronco 4WD  ...              683.615385            2550\n",
              "11528  1984  Bronco 4WD  ...              634.785714            2400\n",
              "11529  1984  Bronco 4WD  ...              807.909091            3050\n",
              "11530  1984  Bronco 4WD  ...              683.615385            2550\n",
              "11531  1984  Bronco 4WD  ...              740.583333            2800\n",
              "\n",
              "[5 rows x 15 columns]"
            ]
          },
          "metadata": {
            "tags": []
          },
          "execution_count": 12
        }
      ]
    },
    {
      "cell_type": "code",
      "metadata": {
        "colab": {
          "base_uri": "https://localhost:8080/"
        },
        "id": "Auz8cxsaTkdG",
        "outputId": "afc3b6f6-2d4c-4e7d-f2d2-28249cff5911"
      },
      "source": [
        "data['Combined MPG'].min()"
      ],
      "execution_count": null,
      "outputs": [
        {
          "output_type": "execute_result",
          "data": {
            "text/plain": [
              "7"
            ]
          },
          "metadata": {
            "tags": []
          },
          "execution_count": 15
        }
      ]
    },
    {
      "cell_type": "code",
      "metadata": {
        "colab": {
          "base_uri": "https://localhost:8080/"
        },
        "id": "NxIeCa3QTlpe",
        "outputId": "9e688098-2e0e-4444-da83-c3a41e074e6b"
      },
      "source": [
        "data['Combined MPG'].max()"
      ],
      "execution_count": null,
      "outputs": [
        {
          "output_type": "execute_result",
          "data": {
            "text/plain": [
              "56"
            ]
          },
          "metadata": {
            "tags": []
          },
          "execution_count": 16
        }
      ]
    },
    {
      "cell_type": "code",
      "metadata": {
        "colab": {
          "base_uri": "https://localhost:8080/"
        },
        "id": "oOyDD5r9OsQv",
        "outputId": "f4de692d-e423-420a-f956-72185ebfe532"
      },
      "source": [
        "#Bins \n",
        "mpg_labels = ['Pésimo', 'Bajo', 'Medio','Alto','Buenisimo']\n",
        "bins = pd.cut(data['Combined MPG'],5,labels = mpg_labels )\n",
        "bins.head(10)"
      ],
      "execution_count": null,
      "outputs": [
        {
          "output_type": "execute_result",
          "data": {
            "text/plain": [
              "0      Bajo\n",
              "1    Pésimo\n",
              "2    Pésimo\n",
              "3    Pésimo\n",
              "4    Pésimo\n",
              "5      Bajo\n",
              "6      Bajo\n",
              "7      Bajo\n",
              "8      Bajo\n",
              "9      Bajo\n",
              "Name: Combined MPG, dtype: category\n",
              "Categories (5, object): ['Pésimo' < 'Bajo' < 'Medio' < 'Alto' < 'Buenisimo']"
            ]
          },
          "metadata": {
            "tags": []
          },
          "execution_count": 13
        }
      ]
    },
    {
      "cell_type": "code",
      "metadata": {
        "colab": {
          "base_uri": "https://localhost:8080/"
        },
        "id": "iWEwjlr2SAZR",
        "outputId": "cf855642-7fdb-496d-b3b8-d79941afb593"
      },
      "source": [
        "bins.value_counts()"
      ],
      "execution_count": null,
      "outputs": [
        {
          "output_type": "execute_result",
          "data": {
            "text/plain": [
              "Bajo         23444\n",
              "Pésimo        9137\n",
              "Medio         3052\n",
              "Alto           275\n",
              "Buenisimo       44\n",
              "Name: Combined MPG, dtype: int64"
            ]
          },
          "metadata": {
            "tags": []
          },
          "execution_count": 14
        }
      ]
    },
    {
      "cell_type": "code",
      "metadata": {
        "colab": {
          "base_uri": "https://localhost:8080/"
        },
        "id": "mgY_WTD8UYBc",
        "outputId": "a1b9200b-ff53-4804-c5fa-40dafd120073"
      },
      "source": [
        "bins = pd.qcut(data['Combined MPG'], 5, labels=mpg_labels)\n",
        "bins.head()"
      ],
      "execution_count": null,
      "outputs": [
        {
          "output_type": "execute_result",
          "data": {
            "text/plain": [
              "0      Bajo\n",
              "1    Pésimo\n",
              "2    Pésimo\n",
              "3    Pésimo\n",
              "4    Pésimo\n",
              "Name: Combined MPG, dtype: category\n",
              "Categories (5, object): ['Pésimo' < 'Bajo' < 'Medio' < 'Alto' < 'Buenisimo']"
            ]
          },
          "metadata": {
            "tags": []
          },
          "execution_count": 22
        }
      ]
    },
    {
      "cell_type": "code",
      "metadata": {
        "colab": {
          "base_uri": "https://localhost:8080/"
        },
        "id": "DGxCc5oBUmzj",
        "outputId": "0058a063-1285-48a4-d8dc-a212ea3f85e4"
      },
      "source": [
        "bins.value_counts()"
      ],
      "execution_count": null,
      "outputs": [
        {
          "output_type": "execute_result",
          "data": {
            "text/plain": [
              "Medio        9533\n",
              "Pésimo       9137\n",
              "Bajo         5979\n",
              "Buenisimo    5716\n",
              "Alto         5587\n",
              "Name: Combined MPG, dtype: int64"
            ]
          },
          "metadata": {
            "tags": []
          },
          "execution_count": 19
        }
      ]
    },
    {
      "cell_type": "code",
      "metadata": {
        "colab": {
          "base_uri": "https://localhost:8080/"
        },
        "id": "0vef27ZIVbya",
        "outputId": "86ec8dea-0b9c-4b0c-b6cf-a99f090189a6"
      },
      "source": [
        "#Obteniedno cuantiles\n",
        "data['Combined MPG'].describe(percentiles=[x/100 for x in range(0, 100, 25)])"
      ],
      "execution_count": null,
      "outputs": [
        {
          "output_type": "execute_result",
          "data": {
            "text/plain": [
              "count    35952.000000\n",
              "mean        19.929322\n",
              "std          5.112409\n",
              "min          7.000000\n",
              "0%           7.000000\n",
              "25%         16.000000\n",
              "50%         19.000000\n",
              "75%         23.000000\n",
              "max         56.000000\n",
              "Name: Combined MPG, dtype: float64"
            ]
          },
          "metadata": {
            "tags": []
          },
          "execution_count": 31
        }
      ]
    },
    {
      "cell_type": "code",
      "metadata": {
        "colab": {
          "base_uri": "https://localhost:8080/"
        },
        "id": "Pnp3SzF5WhHJ",
        "outputId": "26780cd1-a96d-40eb-9f50-cbf8d6e3c7a7"
      },
      "source": [
        "cortes = [7,14,21,23,30,50]\n",
        "bins = pd.cut(data['Combined MPG'], cortes, labels=mpg_labels)\n",
        "bins.value_counts()"
      ],
      "execution_count": null,
      "outputs": [
        {
          "output_type": "execute_result",
          "data": {
            "text/plain": [
              "Bajo         20068\n",
              "Alto          6046\n",
              "Pésimo        4576\n",
              "Medio         4041\n",
              "Buenisimo     1205\n",
              "Name: Combined MPG, dtype: int64"
            ]
          },
          "metadata": {
            "tags": []
          },
          "execution_count": 34
        }
      ]
    },
    {
      "cell_type": "code",
      "metadata": {
        "colab": {
          "base_uri": "https://localhost:8080/"
        },
        "id": "sFyKAyv8aF2V",
        "outputId": "6065ae22-c12c-4d3b-ebf6-ed6c323adc6b"
      },
      "source": [
        "bins.unique()"
      ],
      "execution_count": null,
      "outputs": [
        {
          "output_type": "execute_result",
          "data": {
            "text/plain": [
              "['Bajo', 'Pésimo', 'Medio', 'Alto', 'Buenisimo', NaN]\n",
              "Categories (5, object): ['Pésimo' < 'Bajo' < 'Medio' < 'Alto' < 'Buenisimo']"
            ]
          },
          "metadata": {
            "tags": []
          },
          "execution_count": 36
        }
      ]
    },
    {
      "cell_type": "code",
      "metadata": {
        "colab": {
          "base_uri": "https://localhost:8080/"
        },
        "id": "LWX899ibaYrb",
        "outputId": "1cb46498-0705-46ea-f7c0-85311c5d8e37"
      },
      "source": [
        "#One Hot Enconding\n",
        "data['Drivetrain']"
      ],
      "execution_count": null,
      "outputs": [
        {
          "output_type": "execute_result",
          "data": {
            "text/plain": [
              "0           2-Wheel Drive\n",
              "1           2-Wheel Drive\n",
              "2        Rear-Wheel Drive\n",
              "3        Rear-Wheel Drive\n",
              "4        Rear-Wheel Drive\n",
              "               ...       \n",
              "35947    Rear-Wheel Drive\n",
              "35948    Rear-Wheel Drive\n",
              "35949    Rear-Wheel Drive\n",
              "35950    Rear-Wheel Drive\n",
              "35951    Rear-Wheel Drive\n",
              "Name: Drivetrain, Length: 35952, dtype: object"
            ]
          },
          "metadata": {
            "tags": []
          },
          "execution_count": 37
        }
      ]
    },
    {
      "cell_type": "code",
      "metadata": {
        "colab": {
          "base_uri": "https://localhost:8080/",
          "height": 198
        },
        "id": "YBybyAk6ap2o",
        "outputId": "aa85ceb3-96fa-43a1-a08f-cfe01d4b7ea7"
      },
      "source": [
        "drivetrain = pd.get_dummies(data['Drivetrain'])\n",
        "drivetrain.head(5)"
      ],
      "execution_count": null,
      "outputs": [
        {
          "output_type": "execute_result",
          "data": {
            "text/html": [
              "<div>\n",
              "<style scoped>\n",
              "    .dataframe tbody tr th:only-of-type {\n",
              "        vertical-align: middle;\n",
              "    }\n",
              "\n",
              "    .dataframe tbody tr th {\n",
              "        vertical-align: top;\n",
              "    }\n",
              "\n",
              "    .dataframe thead th {\n",
              "        text-align: right;\n",
              "    }\n",
              "</style>\n",
              "<table border=\"1\" class=\"dataframe\">\n",
              "  <thead>\n",
              "    <tr style=\"text-align: right;\">\n",
              "      <th></th>\n",
              "      <th>2-Wheel Drive</th>\n",
              "      <th>2-Wheel Drive, Front</th>\n",
              "      <th>4-Wheel Drive</th>\n",
              "      <th>4-Wheel or All-Wheel Drive</th>\n",
              "      <th>All-Wheel Drive</th>\n",
              "      <th>Front-Wheel Drive</th>\n",
              "      <th>Part-time 4-Wheel Drive</th>\n",
              "      <th>Rear-Wheel Drive</th>\n",
              "    </tr>\n",
              "  </thead>\n",
              "  <tbody>\n",
              "    <tr>\n",
              "      <th>0</th>\n",
              "      <td>1</td>\n",
              "      <td>0</td>\n",
              "      <td>0</td>\n",
              "      <td>0</td>\n",
              "      <td>0</td>\n",
              "      <td>0</td>\n",
              "      <td>0</td>\n",
              "      <td>0</td>\n",
              "    </tr>\n",
              "    <tr>\n",
              "      <th>1</th>\n",
              "      <td>1</td>\n",
              "      <td>0</td>\n",
              "      <td>0</td>\n",
              "      <td>0</td>\n",
              "      <td>0</td>\n",
              "      <td>0</td>\n",
              "      <td>0</td>\n",
              "      <td>0</td>\n",
              "    </tr>\n",
              "    <tr>\n",
              "      <th>2</th>\n",
              "      <td>0</td>\n",
              "      <td>0</td>\n",
              "      <td>0</td>\n",
              "      <td>0</td>\n",
              "      <td>0</td>\n",
              "      <td>0</td>\n",
              "      <td>0</td>\n",
              "      <td>1</td>\n",
              "    </tr>\n",
              "    <tr>\n",
              "      <th>3</th>\n",
              "      <td>0</td>\n",
              "      <td>0</td>\n",
              "      <td>0</td>\n",
              "      <td>0</td>\n",
              "      <td>0</td>\n",
              "      <td>0</td>\n",
              "      <td>0</td>\n",
              "      <td>1</td>\n",
              "    </tr>\n",
              "    <tr>\n",
              "      <th>4</th>\n",
              "      <td>0</td>\n",
              "      <td>0</td>\n",
              "      <td>0</td>\n",
              "      <td>0</td>\n",
              "      <td>0</td>\n",
              "      <td>0</td>\n",
              "      <td>0</td>\n",
              "      <td>1</td>\n",
              "    </tr>\n",
              "  </tbody>\n",
              "</table>\n",
              "</div>"
            ],
            "text/plain": [
              "   2-Wheel Drive  ...  Rear-Wheel Drive\n",
              "0              1  ...                 0\n",
              "1              1  ...                 0\n",
              "2              0  ...                 1\n",
              "3              0  ...                 1\n",
              "4              0  ...                 1\n",
              "\n",
              "[5 rows x 8 columns]"
            ]
          },
          "metadata": {
            "tags": []
          },
          "execution_count": 38
        }
      ]
    },
    {
      "cell_type": "code",
      "metadata": {
        "colab": {
          "base_uri": "https://localhost:8080/",
          "height": 168
        },
        "id": "1f99WXA9bhSy",
        "outputId": "50460bc8-acfa-477e-8795-cba1647e8b66"
      },
      "source": [
        "data_frame2 = pd.concat([data['Drivetrain'],drivetrain],axis=1)\n",
        "data_frame2.head(4)"
      ],
      "execution_count": null,
      "outputs": [
        {
          "output_type": "execute_result",
          "data": {
            "text/html": [
              "<div>\n",
              "<style scoped>\n",
              "    .dataframe tbody tr th:only-of-type {\n",
              "        vertical-align: middle;\n",
              "    }\n",
              "\n",
              "    .dataframe tbody tr th {\n",
              "        vertical-align: top;\n",
              "    }\n",
              "\n",
              "    .dataframe thead th {\n",
              "        text-align: right;\n",
              "    }\n",
              "</style>\n",
              "<table border=\"1\" class=\"dataframe\">\n",
              "  <thead>\n",
              "    <tr style=\"text-align: right;\">\n",
              "      <th></th>\n",
              "      <th>Drivetrain</th>\n",
              "      <th>2-Wheel Drive</th>\n",
              "      <th>2-Wheel Drive, Front</th>\n",
              "      <th>4-Wheel Drive</th>\n",
              "      <th>4-Wheel or All-Wheel Drive</th>\n",
              "      <th>All-Wheel Drive</th>\n",
              "      <th>Front-Wheel Drive</th>\n",
              "      <th>Part-time 4-Wheel Drive</th>\n",
              "      <th>Rear-Wheel Drive</th>\n",
              "    </tr>\n",
              "  </thead>\n",
              "  <tbody>\n",
              "    <tr>\n",
              "      <th>0</th>\n",
              "      <td>2-Wheel Drive</td>\n",
              "      <td>1</td>\n",
              "      <td>0</td>\n",
              "      <td>0</td>\n",
              "      <td>0</td>\n",
              "      <td>0</td>\n",
              "      <td>0</td>\n",
              "      <td>0</td>\n",
              "      <td>0</td>\n",
              "    </tr>\n",
              "    <tr>\n",
              "      <th>1</th>\n",
              "      <td>2-Wheel Drive</td>\n",
              "      <td>1</td>\n",
              "      <td>0</td>\n",
              "      <td>0</td>\n",
              "      <td>0</td>\n",
              "      <td>0</td>\n",
              "      <td>0</td>\n",
              "      <td>0</td>\n",
              "      <td>0</td>\n",
              "    </tr>\n",
              "    <tr>\n",
              "      <th>2</th>\n",
              "      <td>Rear-Wheel Drive</td>\n",
              "      <td>0</td>\n",
              "      <td>0</td>\n",
              "      <td>0</td>\n",
              "      <td>0</td>\n",
              "      <td>0</td>\n",
              "      <td>0</td>\n",
              "      <td>0</td>\n",
              "      <td>1</td>\n",
              "    </tr>\n",
              "    <tr>\n",
              "      <th>3</th>\n",
              "      <td>Rear-Wheel Drive</td>\n",
              "      <td>0</td>\n",
              "      <td>0</td>\n",
              "      <td>0</td>\n",
              "      <td>0</td>\n",
              "      <td>0</td>\n",
              "      <td>0</td>\n",
              "      <td>0</td>\n",
              "      <td>1</td>\n",
              "    </tr>\n",
              "  </tbody>\n",
              "</table>\n",
              "</div>"
            ],
            "text/plain": [
              "         Drivetrain  2-Wheel Drive  ...  Part-time 4-Wheel Drive  Rear-Wheel Drive\n",
              "0     2-Wheel Drive              1  ...                        0                 0\n",
              "1     2-Wheel Drive              1  ...                        0                 0\n",
              "2  Rear-Wheel Drive              0  ...                        0                 1\n",
              "3  Rear-Wheel Drive              0  ...                        0                 1\n",
              "\n",
              "[4 rows x 9 columns]"
            ]
          },
          "metadata": {
            "tags": []
          },
          "execution_count": 39
        }
      ]
    },
    {
      "cell_type": "code",
      "metadata": {
        "colab": {
          "base_uri": "https://localhost:8080/",
          "height": 407
        },
        "id": "mt7QGWiBcOzP",
        "outputId": "99be14b6-1305-4860-d857-1382c371846b"
      },
      "source": [
        "avg_mpg = data.groupby('Marca_fabrica',as_index=False).agg({'Combined MPG':'mean'})\n",
        "avg_mpg"
      ],
      "execution_count": null,
      "outputs": [
        {
          "output_type": "execute_result",
          "data": {
            "text/html": [
              "<div>\n",
              "<style scoped>\n",
              "    .dataframe tbody tr th:only-of-type {\n",
              "        vertical-align: middle;\n",
              "    }\n",
              "\n",
              "    .dataframe tbody tr th {\n",
              "        vertical-align: top;\n",
              "    }\n",
              "\n",
              "    .dataframe thead th {\n",
              "        text-align: right;\n",
              "    }\n",
              "</style>\n",
              "<table border=\"1\" class=\"dataframe\">\n",
              "  <thead>\n",
              "    <tr style=\"text-align: right;\">\n",
              "      <th></th>\n",
              "      <th>Marca_fabrica</th>\n",
              "      <th>Combined MPG</th>\n",
              "    </tr>\n",
              "  </thead>\n",
              "  <tbody>\n",
              "    <tr>\n",
              "      <th>0</th>\n",
              "      <td>AM General</td>\n",
              "      <td>14.750000</td>\n",
              "    </tr>\n",
              "    <tr>\n",
              "      <th>1</th>\n",
              "      <td>ASC Incorporated</td>\n",
              "      <td>16.000000</td>\n",
              "    </tr>\n",
              "    <tr>\n",
              "      <th>2</th>\n",
              "      <td>Acura</td>\n",
              "      <td>21.506623</td>\n",
              "    </tr>\n",
              "    <tr>\n",
              "      <th>3</th>\n",
              "      <td>Alfa Romeo</td>\n",
              "      <td>19.512195</td>\n",
              "    </tr>\n",
              "    <tr>\n",
              "      <th>4</th>\n",
              "      <td>American Motors Corporation</td>\n",
              "      <td>17.681818</td>\n",
              "    </tr>\n",
              "    <tr>\n",
              "      <th>...</th>\n",
              "      <td>...</td>\n",
              "      <td>...</td>\n",
              "    </tr>\n",
              "    <tr>\n",
              "      <th>122</th>\n",
              "      <td>Volkswagen</td>\n",
              "      <td>24.093601</td>\n",
              "    </tr>\n",
              "    <tr>\n",
              "      <th>123</th>\n",
              "      <td>Volvo</td>\n",
              "      <td>20.605300</td>\n",
              "    </tr>\n",
              "    <tr>\n",
              "      <th>124</th>\n",
              "      <td>Wallace Environmental</td>\n",
              "      <td>13.875000</td>\n",
              "    </tr>\n",
              "    <tr>\n",
              "      <th>125</th>\n",
              "      <td>Yugo</td>\n",
              "      <td>25.000000</td>\n",
              "    </tr>\n",
              "    <tr>\n",
              "      <th>126</th>\n",
              "      <td>smart</td>\n",
              "      <td>35.800000</td>\n",
              "    </tr>\n",
              "  </tbody>\n",
              "</table>\n",
              "<p>127 rows × 2 columns</p>\n",
              "</div>"
            ],
            "text/plain": [
              "                   Marca_fabrica  Combined MPG\n",
              "0                     AM General     14.750000\n",
              "1               ASC Incorporated     16.000000\n",
              "2                          Acura     21.506623\n",
              "3                     Alfa Romeo     19.512195\n",
              "4    American Motors Corporation     17.681818\n",
              "..                           ...           ...\n",
              "122                   Volkswagen     24.093601\n",
              "123                        Volvo     20.605300\n",
              "124        Wallace Environmental     13.875000\n",
              "125                         Yugo     25.000000\n",
              "126                        smart     35.800000\n",
              "\n",
              "[127 rows x 2 columns]"
            ]
          },
          "metadata": {
            "tags": []
          },
          "execution_count": 42
        }
      ]
    },
    {
      "cell_type": "code",
      "metadata": {
        "colab": {
          "base_uri": "https://localhost:8080/",
          "height": 538
        },
        "id": "i67J3uKGdAMq",
        "outputId": "535c5afe-15e5-4e59-8058-19fc33f87b0e"
      },
      "source": [
        "# data = pd.merge(data, avg_mpg, on='Marca_fabrica', how = left)\n",
        "data = pd.merge(left = data, right = avg_mpg, left_on='Marca_fabrica',right_on='Marca_fabrica')\n",
        "data.head(10)"
      ],
      "execution_count": null,
      "outputs": [
        {
          "output_type": "execute_result",
          "data": {
            "text/html": [
              "<div>\n",
              "<style scoped>\n",
              "    .dataframe tbody tr th:only-of-type {\n",
              "        vertical-align: middle;\n",
              "    }\n",
              "\n",
              "    .dataframe tbody tr th {\n",
              "        vertical-align: top;\n",
              "    }\n",
              "\n",
              "    .dataframe thead th {\n",
              "        text-align: right;\n",
              "    }\n",
              "</style>\n",
              "<table border=\"1\" class=\"dataframe\">\n",
              "  <thead>\n",
              "    <tr style=\"text-align: right;\">\n",
              "      <th></th>\n",
              "      <th>Year</th>\n",
              "      <th>Model</th>\n",
              "      <th>Marca_fabrica</th>\n",
              "      <th>Engine Displacement</th>\n",
              "      <th>Cilindrada</th>\n",
              "      <th>Transmission</th>\n",
              "      <th>Drivetrain</th>\n",
              "      <th>Vehicle Class</th>\n",
              "      <th>Fuel Type</th>\n",
              "      <th>Fuel Barrels/Year</th>\n",
              "      <th>City MPG</th>\n",
              "      <th>Highway MPG</th>\n",
              "      <th>Combined MPG_x</th>\n",
              "      <th>CO2 Emission Grams/Mile</th>\n",
              "      <th>Fuel Cost/Year</th>\n",
              "      <th>Combined MPG_y</th>\n",
              "    </tr>\n",
              "  </thead>\n",
              "  <tbody>\n",
              "    <tr>\n",
              "      <th>0</th>\n",
              "      <td>1984</td>\n",
              "      <td>DJ Po Vehicle 2WD</td>\n",
              "      <td>AM General</td>\n",
              "      <td>2.5</td>\n",
              "      <td>4.0</td>\n",
              "      <td>Automatic 3-spd</td>\n",
              "      <td>2-Wheel Drive</td>\n",
              "      <td>Special Purpose Vehicle 2WD</td>\n",
              "      <td>Regular</td>\n",
              "      <td>19.388824</td>\n",
              "      <td>18</td>\n",
              "      <td>17</td>\n",
              "      <td>17</td>\n",
              "      <td>522.764706</td>\n",
              "      <td>1950</td>\n",
              "      <td>14.750000</td>\n",
              "    </tr>\n",
              "    <tr>\n",
              "      <th>1</th>\n",
              "      <td>1984</td>\n",
              "      <td>FJ8c Post Office</td>\n",
              "      <td>AM General</td>\n",
              "      <td>4.2</td>\n",
              "      <td>6.0</td>\n",
              "      <td>Automatic 3-spd</td>\n",
              "      <td>2-Wheel Drive</td>\n",
              "      <td>Special Purpose Vehicle 2WD</td>\n",
              "      <td>Regular</td>\n",
              "      <td>25.354615</td>\n",
              "      <td>13</td>\n",
              "      <td>13</td>\n",
              "      <td>13</td>\n",
              "      <td>683.615385</td>\n",
              "      <td>2550</td>\n",
              "      <td>14.750000</td>\n",
              "    </tr>\n",
              "    <tr>\n",
              "      <th>2</th>\n",
              "      <td>1985</td>\n",
              "      <td>Post Office DJ5 2WD</td>\n",
              "      <td>AM General</td>\n",
              "      <td>2.5</td>\n",
              "      <td>4.0</td>\n",
              "      <td>Automatic 3-spd</td>\n",
              "      <td>Rear-Wheel Drive</td>\n",
              "      <td>Special Purpose Vehicle 2WD</td>\n",
              "      <td>Regular</td>\n",
              "      <td>20.600625</td>\n",
              "      <td>16</td>\n",
              "      <td>17</td>\n",
              "      <td>16</td>\n",
              "      <td>555.437500</td>\n",
              "      <td>2100</td>\n",
              "      <td>14.750000</td>\n",
              "    </tr>\n",
              "    <tr>\n",
              "      <th>3</th>\n",
              "      <td>1985</td>\n",
              "      <td>Post Office DJ8 2WD</td>\n",
              "      <td>AM General</td>\n",
              "      <td>4.2</td>\n",
              "      <td>6.0</td>\n",
              "      <td>Automatic 3-spd</td>\n",
              "      <td>Rear-Wheel Drive</td>\n",
              "      <td>Special Purpose Vehicle 2WD</td>\n",
              "      <td>Regular</td>\n",
              "      <td>25.354615</td>\n",
              "      <td>13</td>\n",
              "      <td>13</td>\n",
              "      <td>13</td>\n",
              "      <td>683.615385</td>\n",
              "      <td>2550</td>\n",
              "      <td>14.750000</td>\n",
              "    </tr>\n",
              "    <tr>\n",
              "      <th>4</th>\n",
              "      <td>1987</td>\n",
              "      <td>GNX</td>\n",
              "      <td>ASC Incorporated</td>\n",
              "      <td>3.8</td>\n",
              "      <td>6.0</td>\n",
              "      <td>Automatic 4-spd</td>\n",
              "      <td>Rear-Wheel Drive</td>\n",
              "      <td>Midsize Cars</td>\n",
              "      <td>Premium</td>\n",
              "      <td>20.600625</td>\n",
              "      <td>14</td>\n",
              "      <td>21</td>\n",
              "      <td>16</td>\n",
              "      <td>555.437500</td>\n",
              "      <td>2550</td>\n",
              "      <td>16.000000</td>\n",
              "    </tr>\n",
              "    <tr>\n",
              "      <th>5</th>\n",
              "      <td>1997</td>\n",
              "      <td>2.2CL/3.0CL</td>\n",
              "      <td>Acura</td>\n",
              "      <td>2.2</td>\n",
              "      <td>4.0</td>\n",
              "      <td>Automatic 4-spd</td>\n",
              "      <td>Front-Wheel Drive</td>\n",
              "      <td>Subcompact Cars</td>\n",
              "      <td>Regular</td>\n",
              "      <td>14.982273</td>\n",
              "      <td>20</td>\n",
              "      <td>26</td>\n",
              "      <td>22</td>\n",
              "      <td>403.954545</td>\n",
              "      <td>1500</td>\n",
              "      <td>21.506623</td>\n",
              "    </tr>\n",
              "    <tr>\n",
              "      <th>6</th>\n",
              "      <td>1997</td>\n",
              "      <td>2.2CL/3.0CL</td>\n",
              "      <td>Acura</td>\n",
              "      <td>2.2</td>\n",
              "      <td>4.0</td>\n",
              "      <td>Manual 5-spd</td>\n",
              "      <td>Front-Wheel Drive</td>\n",
              "      <td>Subcompact Cars</td>\n",
              "      <td>Regular</td>\n",
              "      <td>13.733750</td>\n",
              "      <td>22</td>\n",
              "      <td>28</td>\n",
              "      <td>24</td>\n",
              "      <td>370.291667</td>\n",
              "      <td>1400</td>\n",
              "      <td>21.506623</td>\n",
              "    </tr>\n",
              "    <tr>\n",
              "      <th>7</th>\n",
              "      <td>1997</td>\n",
              "      <td>2.2CL/3.0CL</td>\n",
              "      <td>Acura</td>\n",
              "      <td>3.0</td>\n",
              "      <td>6.0</td>\n",
              "      <td>Automatic 4-spd</td>\n",
              "      <td>Front-Wheel Drive</td>\n",
              "      <td>Subcompact Cars</td>\n",
              "      <td>Regular</td>\n",
              "      <td>16.480500</td>\n",
              "      <td>18</td>\n",
              "      <td>26</td>\n",
              "      <td>20</td>\n",
              "      <td>444.350000</td>\n",
              "      <td>1650</td>\n",
              "      <td>21.506623</td>\n",
              "    </tr>\n",
              "    <tr>\n",
              "      <th>8</th>\n",
              "      <td>1998</td>\n",
              "      <td>2.3CL/3.0CL</td>\n",
              "      <td>Acura</td>\n",
              "      <td>2.3</td>\n",
              "      <td>4.0</td>\n",
              "      <td>Automatic 4-spd</td>\n",
              "      <td>Front-Wheel Drive</td>\n",
              "      <td>Subcompact Cars</td>\n",
              "      <td>Regular</td>\n",
              "      <td>14.982273</td>\n",
              "      <td>19</td>\n",
              "      <td>27</td>\n",
              "      <td>22</td>\n",
              "      <td>403.954545</td>\n",
              "      <td>1500</td>\n",
              "      <td>21.506623</td>\n",
              "    </tr>\n",
              "    <tr>\n",
              "      <th>9</th>\n",
              "      <td>1998</td>\n",
              "      <td>2.3CL/3.0CL</td>\n",
              "      <td>Acura</td>\n",
              "      <td>2.3</td>\n",
              "      <td>4.0</td>\n",
              "      <td>Manual 5-spd</td>\n",
              "      <td>Front-Wheel Drive</td>\n",
              "      <td>Subcompact Cars</td>\n",
              "      <td>Regular</td>\n",
              "      <td>13.733750</td>\n",
              "      <td>21</td>\n",
              "      <td>29</td>\n",
              "      <td>24</td>\n",
              "      <td>370.291667</td>\n",
              "      <td>1400</td>\n",
              "      <td>21.506623</td>\n",
              "    </tr>\n",
              "  </tbody>\n",
              "</table>\n",
              "</div>"
            ],
            "text/plain": [
              "   Year                Model  ... Fuel Cost/Year  Combined MPG_y\n",
              "0  1984    DJ Po Vehicle 2WD  ...           1950       14.750000\n",
              "1  1984     FJ8c Post Office  ...           2550       14.750000\n",
              "2  1985  Post Office DJ5 2WD  ...           2100       14.750000\n",
              "3  1985  Post Office DJ8 2WD  ...           2550       14.750000\n",
              "4  1987                  GNX  ...           2550       16.000000\n",
              "5  1997          2.2CL/3.0CL  ...           1500       21.506623\n",
              "6  1997          2.2CL/3.0CL  ...           1400       21.506623\n",
              "7  1997          2.2CL/3.0CL  ...           1650       21.506623\n",
              "8  1998          2.3CL/3.0CL  ...           1500       21.506623\n",
              "9  1998          2.3CL/3.0CL  ...           1400       21.506623\n",
              "\n",
              "[10 rows x 16 columns]"
            ]
          },
          "metadata": {
            "tags": []
          },
          "execution_count": 43
        }
      ]
    },
    {
      "cell_type": "code",
      "metadata": {
        "id": "mnoP2h2VdAX7"
      },
      "source": [
        "lexus = data[data['Marca_fabrica']=='Lexus']\n",
        "ford = data[data['Marca_fabrica']=='Ford']"
      ],
      "execution_count": null,
      "outputs": []
    },
    {
      "cell_type": "code",
      "metadata": {
        "colab": {
          "base_uri": "https://localhost:8080/",
          "height": 113
        },
        "id": "8xHV-W8NdAec",
        "outputId": "3c0e9b32-3a9a-4051-9b77-8f9a7594ab2f"
      },
      "source": [
        "lexus.head(1)"
      ],
      "execution_count": null,
      "outputs": [
        {
          "output_type": "execute_result",
          "data": {
            "text/html": [
              "<div>\n",
              "<style scoped>\n",
              "    .dataframe tbody tr th:only-of-type {\n",
              "        vertical-align: middle;\n",
              "    }\n",
              "\n",
              "    .dataframe tbody tr th {\n",
              "        vertical-align: top;\n",
              "    }\n",
              "\n",
              "    .dataframe thead th {\n",
              "        text-align: right;\n",
              "    }\n",
              "</style>\n",
              "<table border=\"1\" class=\"dataframe\">\n",
              "  <thead>\n",
              "    <tr style=\"text-align: right;\">\n",
              "      <th></th>\n",
              "      <th>Year</th>\n",
              "      <th>Model</th>\n",
              "      <th>Marca_fabrica</th>\n",
              "      <th>Engine Displacement</th>\n",
              "      <th>Cilindrada</th>\n",
              "      <th>Transmission</th>\n",
              "      <th>Drivetrain</th>\n",
              "      <th>Vehicle Class</th>\n",
              "      <th>Fuel Type</th>\n",
              "      <th>Fuel Barrels/Year</th>\n",
              "      <th>City MPG</th>\n",
              "      <th>Highway MPG</th>\n",
              "      <th>Combined MPG_x</th>\n",
              "      <th>CO2 Emission Grams/Mile</th>\n",
              "      <th>Fuel Cost/Year</th>\n",
              "      <th>Combined MPG_y</th>\n",
              "    </tr>\n",
              "  </thead>\n",
              "  <tbody>\n",
              "    <tr>\n",
              "      <th>21128</th>\n",
              "      <td>2011</td>\n",
              "      <td>CT 200h</td>\n",
              "      <td>Lexus</td>\n",
              "      <td>1.8</td>\n",
              "      <td>4.0</td>\n",
              "      <td>Automatic (variable gear ratios)</td>\n",
              "      <td>Front-Wheel Drive</td>\n",
              "      <td>Compact Cars</td>\n",
              "      <td>Regular</td>\n",
              "      <td>7.847857</td>\n",
              "      <td>43</td>\n",
              "      <td>40</td>\n",
              "      <td>42</td>\n",
              "      <td>211.595238</td>\n",
              "      <td>800</td>\n",
              "      <td>20.982368</td>\n",
              "    </tr>\n",
              "  </tbody>\n",
              "</table>\n",
              "</div>"
            ],
            "text/plain": [
              "       Year    Model  ... Fuel Cost/Year  Combined MPG_y\n",
              "21128  2011  CT 200h  ...            800       20.982368\n",
              "\n",
              "[1 rows x 16 columns]"
            ]
          },
          "metadata": {
            "tags": []
          },
          "execution_count": 45
        }
      ]
    },
    {
      "cell_type": "code",
      "metadata": {
        "colab": {
          "base_uri": "https://localhost:8080/",
          "height": 113
        },
        "id": "8yTSQB9XdAl4",
        "outputId": "48cc83bc-9fdf-4803-e4b9-c789e706e326"
      },
      "source": [
        "ford.head(1)"
      ],
      "execution_count": null,
      "outputs": [
        {
          "output_type": "execute_result",
          "data": {
            "text/html": [
              "<div>\n",
              "<style scoped>\n",
              "    .dataframe tbody tr th:only-of-type {\n",
              "        vertical-align: middle;\n",
              "    }\n",
              "\n",
              "    .dataframe tbody tr th {\n",
              "        vertical-align: top;\n",
              "    }\n",
              "\n",
              "    .dataframe thead th {\n",
              "        text-align: right;\n",
              "    }\n",
              "</style>\n",
              "<table border=\"1\" class=\"dataframe\">\n",
              "  <thead>\n",
              "    <tr style=\"text-align: right;\">\n",
              "      <th></th>\n",
              "      <th>Year</th>\n",
              "      <th>Model</th>\n",
              "      <th>Marca_fabrica</th>\n",
              "      <th>Engine Displacement</th>\n",
              "      <th>Cilindrada</th>\n",
              "      <th>Transmission</th>\n",
              "      <th>Drivetrain</th>\n",
              "      <th>Vehicle Class</th>\n",
              "      <th>Fuel Type</th>\n",
              "      <th>Fuel Barrels/Year</th>\n",
              "      <th>City MPG</th>\n",
              "      <th>Highway MPG</th>\n",
              "      <th>Combined MPG_x</th>\n",
              "      <th>CO2 Emission Grams/Mile</th>\n",
              "      <th>Fuel Cost/Year</th>\n",
              "      <th>Combined MPG_y</th>\n",
              "    </tr>\n",
              "  </thead>\n",
              "  <tbody>\n",
              "    <tr>\n",
              "      <th>11440</th>\n",
              "      <td>1986</td>\n",
              "      <td>Aerostar Van</td>\n",
              "      <td>Ford</td>\n",
              "      <td>2.3</td>\n",
              "      <td>4.0</td>\n",
              "      <td>Automatic 4-spd</td>\n",
              "      <td>Rear-Wheel Drive</td>\n",
              "      <td>Vans</td>\n",
              "      <td>Regular</td>\n",
              "      <td>17.347895</td>\n",
              "      <td>18</td>\n",
              "      <td>22</td>\n",
              "      <td>19</td>\n",
              "      <td>467.736842</td>\n",
              "      <td>1750</td>\n",
              "      <td>18.447726</td>\n",
              "    </tr>\n",
              "  </tbody>\n",
              "</table>\n",
              "</div>"
            ],
            "text/plain": [
              "       Year         Model  ... Fuel Cost/Year  Combined MPG_y\n",
              "11440  1986  Aerostar Van  ...           1750       18.447726\n",
              "\n",
              "[1 rows x 16 columns]"
            ]
          },
          "metadata": {
            "tags": []
          },
          "execution_count": 46
        }
      ]
    },
    {
      "cell_type": "code",
      "metadata": {
        "colab": {
          "base_uri": "https://localhost:8080/",
          "height": 538
        },
        "id": "fKsy6v2LesP7",
        "outputId": "023c08a3-87f7-46dc-e295-af7a2c624ab0"
      },
      "source": [
        "lexus_ford = pd.concat([lexus,ford],axis=0)\n",
        "lexus_ford.head(10)"
      ],
      "execution_count": null,
      "outputs": [
        {
          "output_type": "execute_result",
          "data": {
            "text/html": [
              "<div>\n",
              "<style scoped>\n",
              "    .dataframe tbody tr th:only-of-type {\n",
              "        vertical-align: middle;\n",
              "    }\n",
              "\n",
              "    .dataframe tbody tr th {\n",
              "        vertical-align: top;\n",
              "    }\n",
              "\n",
              "    .dataframe thead th {\n",
              "        text-align: right;\n",
              "    }\n",
              "</style>\n",
              "<table border=\"1\" class=\"dataframe\">\n",
              "  <thead>\n",
              "    <tr style=\"text-align: right;\">\n",
              "      <th></th>\n",
              "      <th>Year</th>\n",
              "      <th>Model</th>\n",
              "      <th>Marca_fabrica</th>\n",
              "      <th>Engine Displacement</th>\n",
              "      <th>Cilindrada</th>\n",
              "      <th>Transmission</th>\n",
              "      <th>Drivetrain</th>\n",
              "      <th>Vehicle Class</th>\n",
              "      <th>Fuel Type</th>\n",
              "      <th>Fuel Barrels/Year</th>\n",
              "      <th>City MPG</th>\n",
              "      <th>Highway MPG</th>\n",
              "      <th>Combined MPG_x</th>\n",
              "      <th>CO2 Emission Grams/Mile</th>\n",
              "      <th>Fuel Cost/Year</th>\n",
              "      <th>Combined MPG_y</th>\n",
              "    </tr>\n",
              "  </thead>\n",
              "  <tbody>\n",
              "    <tr>\n",
              "      <th>21128</th>\n",
              "      <td>2011</td>\n",
              "      <td>CT 200h</td>\n",
              "      <td>Lexus</td>\n",
              "      <td>1.8</td>\n",
              "      <td>4.0</td>\n",
              "      <td>Automatic (variable gear ratios)</td>\n",
              "      <td>Front-Wheel Drive</td>\n",
              "      <td>Compact Cars</td>\n",
              "      <td>Regular</td>\n",
              "      <td>7.847857</td>\n",
              "      <td>43</td>\n",
              "      <td>40</td>\n",
              "      <td>42</td>\n",
              "      <td>211.595238</td>\n",
              "      <td>800</td>\n",
              "      <td>20.982368</td>\n",
              "    </tr>\n",
              "    <tr>\n",
              "      <th>21129</th>\n",
              "      <td>2012</td>\n",
              "      <td>CT 200h</td>\n",
              "      <td>Lexus</td>\n",
              "      <td>1.8</td>\n",
              "      <td>4.0</td>\n",
              "      <td>Automatic (variable gear ratios)</td>\n",
              "      <td>Front-Wheel Drive</td>\n",
              "      <td>Compact Cars</td>\n",
              "      <td>Regular</td>\n",
              "      <td>7.847857</td>\n",
              "      <td>43</td>\n",
              "      <td>40</td>\n",
              "      <td>42</td>\n",
              "      <td>211.595238</td>\n",
              "      <td>800</td>\n",
              "      <td>20.982368</td>\n",
              "    </tr>\n",
              "    <tr>\n",
              "      <th>21130</th>\n",
              "      <td>2013</td>\n",
              "      <td>CT 200h</td>\n",
              "      <td>Lexus</td>\n",
              "      <td>1.8</td>\n",
              "      <td>4.0</td>\n",
              "      <td>Automatic (variable gear ratios)</td>\n",
              "      <td>Front-Wheel Drive</td>\n",
              "      <td>Compact Cars</td>\n",
              "      <td>Regular</td>\n",
              "      <td>7.847857</td>\n",
              "      <td>43</td>\n",
              "      <td>40</td>\n",
              "      <td>42</td>\n",
              "      <td>211.000000</td>\n",
              "      <td>800</td>\n",
              "      <td>20.982368</td>\n",
              "    </tr>\n",
              "    <tr>\n",
              "      <th>21131</th>\n",
              "      <td>2014</td>\n",
              "      <td>CT 200h</td>\n",
              "      <td>Lexus</td>\n",
              "      <td>1.8</td>\n",
              "      <td>4.0</td>\n",
              "      <td>Automatic (variable gear ratios)</td>\n",
              "      <td>Front-Wheel Drive</td>\n",
              "      <td>Compact Cars</td>\n",
              "      <td>Regular</td>\n",
              "      <td>7.847857</td>\n",
              "      <td>43</td>\n",
              "      <td>40</td>\n",
              "      <td>42</td>\n",
              "      <td>179.000000</td>\n",
              "      <td>800</td>\n",
              "      <td>20.982368</td>\n",
              "    </tr>\n",
              "    <tr>\n",
              "      <th>21132</th>\n",
              "      <td>2015</td>\n",
              "      <td>CT 200h</td>\n",
              "      <td>Lexus</td>\n",
              "      <td>1.8</td>\n",
              "      <td>4.0</td>\n",
              "      <td>Automatic (variable gear ratios)</td>\n",
              "      <td>Front-Wheel Drive</td>\n",
              "      <td>Compact Cars</td>\n",
              "      <td>Regular</td>\n",
              "      <td>7.847857</td>\n",
              "      <td>43</td>\n",
              "      <td>40</td>\n",
              "      <td>42</td>\n",
              "      <td>211.000000</td>\n",
              "      <td>800</td>\n",
              "      <td>20.982368</td>\n",
              "    </tr>\n",
              "    <tr>\n",
              "      <th>21133</th>\n",
              "      <td>2016</td>\n",
              "      <td>CT 200h</td>\n",
              "      <td>Lexus</td>\n",
              "      <td>1.8</td>\n",
              "      <td>4.0</td>\n",
              "      <td>Automatic (variable gear ratios)</td>\n",
              "      <td>Front-Wheel Drive</td>\n",
              "      <td>Compact Cars</td>\n",
              "      <td>Regular</td>\n",
              "      <td>7.847857</td>\n",
              "      <td>43</td>\n",
              "      <td>40</td>\n",
              "      <td>42</td>\n",
              "      <td>212.000000</td>\n",
              "      <td>800</td>\n",
              "      <td>20.982368</td>\n",
              "    </tr>\n",
              "    <tr>\n",
              "      <th>21134</th>\n",
              "      <td>2017</td>\n",
              "      <td>CT 200h</td>\n",
              "      <td>Lexus</td>\n",
              "      <td>1.8</td>\n",
              "      <td>4.0</td>\n",
              "      <td>Automatic (variable gear ratios)</td>\n",
              "      <td>Front-Wheel Drive</td>\n",
              "      <td>Compact Cars</td>\n",
              "      <td>Regular</td>\n",
              "      <td>7.847857</td>\n",
              "      <td>43</td>\n",
              "      <td>40</td>\n",
              "      <td>42</td>\n",
              "      <td>212.000000</td>\n",
              "      <td>800</td>\n",
              "      <td>20.982368</td>\n",
              "    </tr>\n",
              "    <tr>\n",
              "      <th>21135</th>\n",
              "      <td>1990</td>\n",
              "      <td>ES 250</td>\n",
              "      <td>Lexus</td>\n",
              "      <td>2.5</td>\n",
              "      <td>6.0</td>\n",
              "      <td>Automatic 4-spd</td>\n",
              "      <td>Front-Wheel Drive</td>\n",
              "      <td>Compact Cars</td>\n",
              "      <td>Regular</td>\n",
              "      <td>17.347895</td>\n",
              "      <td>17</td>\n",
              "      <td>23</td>\n",
              "      <td>19</td>\n",
              "      <td>467.736842</td>\n",
              "      <td>1750</td>\n",
              "      <td>20.982368</td>\n",
              "    </tr>\n",
              "    <tr>\n",
              "      <th>21136</th>\n",
              "      <td>1990</td>\n",
              "      <td>ES 250</td>\n",
              "      <td>Lexus</td>\n",
              "      <td>2.5</td>\n",
              "      <td>6.0</td>\n",
              "      <td>Manual 5-spd</td>\n",
              "      <td>Front-Wheel Drive</td>\n",
              "      <td>Compact Cars</td>\n",
              "      <td>Regular</td>\n",
              "      <td>17.347895</td>\n",
              "      <td>17</td>\n",
              "      <td>24</td>\n",
              "      <td>19</td>\n",
              "      <td>467.736842</td>\n",
              "      <td>1750</td>\n",
              "      <td>20.982368</td>\n",
              "    </tr>\n",
              "    <tr>\n",
              "      <th>21137</th>\n",
              "      <td>1991</td>\n",
              "      <td>ES 250</td>\n",
              "      <td>Lexus</td>\n",
              "      <td>2.5</td>\n",
              "      <td>6.0</td>\n",
              "      <td>Automatic 4-spd</td>\n",
              "      <td>Front-Wheel Drive</td>\n",
              "      <td>Compact Cars</td>\n",
              "      <td>Regular</td>\n",
              "      <td>17.347895</td>\n",
              "      <td>16</td>\n",
              "      <td>23</td>\n",
              "      <td>19</td>\n",
              "      <td>467.736842</td>\n",
              "      <td>1750</td>\n",
              "      <td>20.982368</td>\n",
              "    </tr>\n",
              "  </tbody>\n",
              "</table>\n",
              "</div>"
            ],
            "text/plain": [
              "       Year    Model  ... Fuel Cost/Year  Combined MPG_y\n",
              "21128  2011  CT 200h  ...            800       20.982368\n",
              "21129  2012  CT 200h  ...            800       20.982368\n",
              "21130  2013  CT 200h  ...            800       20.982368\n",
              "21131  2014  CT 200h  ...            800       20.982368\n",
              "21132  2015  CT 200h  ...            800       20.982368\n",
              "21133  2016  CT 200h  ...            800       20.982368\n",
              "21134  2017  CT 200h  ...            800       20.982368\n",
              "21135  1990   ES 250  ...           1750       20.982368\n",
              "21136  1990   ES 250  ...           1750       20.982368\n",
              "21137  1991   ES 250  ...           1750       20.982368\n",
              "\n",
              "[10 rows x 16 columns]"
            ]
          },
          "metadata": {
            "tags": []
          },
          "execution_count": 50
        }
      ]
    },
    {
      "cell_type": "code",
      "metadata": {
        "colab": {
          "base_uri": "https://localhost:8080/",
          "height": 302
        },
        "id": "2O9rJwR0h3wT",
        "outputId": "f0d4ced7-8a70-4318-9208-8123c73c69f7"
      },
      "source": [
        "# Concatenado, ignorando indice.\n",
        "lexus_ford_2 = pd.concat([lexus,ford],axis=0,ignore_index=True)\n",
        "lexus_ford_2.tail()"
      ],
      "execution_count": null,
      "outputs": [
        {
          "output_type": "execute_result",
          "data": {
            "text/html": [
              "<div>\n",
              "<style scoped>\n",
              "    .dataframe tbody tr th:only-of-type {\n",
              "        vertical-align: middle;\n",
              "    }\n",
              "\n",
              "    .dataframe tbody tr th {\n",
              "        vertical-align: top;\n",
              "    }\n",
              "\n",
              "    .dataframe thead th {\n",
              "        text-align: right;\n",
              "    }\n",
              "</style>\n",
              "<table border=\"1\" class=\"dataframe\">\n",
              "  <thead>\n",
              "    <tr style=\"text-align: right;\">\n",
              "      <th></th>\n",
              "      <th>Year</th>\n",
              "      <th>Model</th>\n",
              "      <th>Marca_fabrica</th>\n",
              "      <th>Engine Displacement</th>\n",
              "      <th>Cilindrada</th>\n",
              "      <th>Transmission</th>\n",
              "      <th>Drivetrain</th>\n",
              "      <th>Vehicle Class</th>\n",
              "      <th>Fuel Type</th>\n",
              "      <th>Fuel Barrels/Year</th>\n",
              "      <th>City MPG</th>\n",
              "      <th>Highway MPG</th>\n",
              "      <th>Combined MPG_x</th>\n",
              "      <th>CO2 Emission Grams/Mile</th>\n",
              "      <th>Fuel Cost/Year</th>\n",
              "      <th>Combined MPG_y</th>\n",
              "    </tr>\n",
              "  </thead>\n",
              "  <tbody>\n",
              "    <tr>\n",
              "      <th>3338</th>\n",
              "      <td>2000</td>\n",
              "      <td>Windstar FWD Wagon</td>\n",
              "      <td>Ford</td>\n",
              "      <td>3.0</td>\n",
              "      <td>6.0</td>\n",
              "      <td>Automatic 4-spd</td>\n",
              "      <td>Front-Wheel Drive</td>\n",
              "      <td>Minivan - 2WD</td>\n",
              "      <td>Regular</td>\n",
              "      <td>19.388824</td>\n",
              "      <td>15</td>\n",
              "      <td>21</td>\n",
              "      <td>17</td>\n",
              "      <td>522.764706</td>\n",
              "      <td>1950</td>\n",
              "      <td>18.447726</td>\n",
              "    </tr>\n",
              "    <tr>\n",
              "      <th>3339</th>\n",
              "      <td>2000</td>\n",
              "      <td>Windstar FWD Wagon</td>\n",
              "      <td>Ford</td>\n",
              "      <td>3.8</td>\n",
              "      <td>6.0</td>\n",
              "      <td>Automatic 4-spd</td>\n",
              "      <td>Front-Wheel Drive</td>\n",
              "      <td>Minivan - 2WD</td>\n",
              "      <td>Regular</td>\n",
              "      <td>19.388824</td>\n",
              "      <td>15</td>\n",
              "      <td>21</td>\n",
              "      <td>17</td>\n",
              "      <td>522.764706</td>\n",
              "      <td>1950</td>\n",
              "      <td>18.447726</td>\n",
              "    </tr>\n",
              "    <tr>\n",
              "      <th>3340</th>\n",
              "      <td>2001</td>\n",
              "      <td>Windstar FWD Wagon</td>\n",
              "      <td>Ford</td>\n",
              "      <td>3.8</td>\n",
              "      <td>6.0</td>\n",
              "      <td>Automatic 4-spd</td>\n",
              "      <td>Front-Wheel Drive</td>\n",
              "      <td>Minivan - 2WD</td>\n",
              "      <td>Regular</td>\n",
              "      <td>18.311667</td>\n",
              "      <td>16</td>\n",
              "      <td>22</td>\n",
              "      <td>18</td>\n",
              "      <td>493.722222</td>\n",
              "      <td>1850</td>\n",
              "      <td>18.447726</td>\n",
              "    </tr>\n",
              "    <tr>\n",
              "      <th>3341</th>\n",
              "      <td>2002</td>\n",
              "      <td>Windstar FWD Wagon</td>\n",
              "      <td>Ford</td>\n",
              "      <td>3.8</td>\n",
              "      <td>6.0</td>\n",
              "      <td>Automatic 4-spd</td>\n",
              "      <td>Front-Wheel Drive</td>\n",
              "      <td>Minivan - 2WD</td>\n",
              "      <td>Regular</td>\n",
              "      <td>18.311667</td>\n",
              "      <td>16</td>\n",
              "      <td>21</td>\n",
              "      <td>18</td>\n",
              "      <td>493.722222</td>\n",
              "      <td>1850</td>\n",
              "      <td>18.447726</td>\n",
              "    </tr>\n",
              "    <tr>\n",
              "      <th>3342</th>\n",
              "      <td>2003</td>\n",
              "      <td>Windstar FWD Wagon</td>\n",
              "      <td>Ford</td>\n",
              "      <td>3.8</td>\n",
              "      <td>6.0</td>\n",
              "      <td>Automatic 4-spd</td>\n",
              "      <td>Front-Wheel Drive</td>\n",
              "      <td>Minivan - 2WD</td>\n",
              "      <td>Regular</td>\n",
              "      <td>18.311667</td>\n",
              "      <td>16</td>\n",
              "      <td>22</td>\n",
              "      <td>18</td>\n",
              "      <td>493.722222</td>\n",
              "      <td>1850</td>\n",
              "      <td>18.447726</td>\n",
              "    </tr>\n",
              "  </tbody>\n",
              "</table>\n",
              "</div>"
            ],
            "text/plain": [
              "      Year               Model  ... Fuel Cost/Year  Combined MPG_y\n",
              "3338  2000  Windstar FWD Wagon  ...           1950       18.447726\n",
              "3339  2000  Windstar FWD Wagon  ...           1950       18.447726\n",
              "3340  2001  Windstar FWD Wagon  ...           1850       18.447726\n",
              "3341  2002  Windstar FWD Wagon  ...           1850       18.447726\n",
              "3342  2003  Windstar FWD Wagon  ...           1850       18.447726\n",
              "\n",
              "[5 rows x 16 columns]"
            ]
          },
          "metadata": {
            "tags": []
          },
          "execution_count": 69
        }
      ]
    },
    {
      "cell_type": "code",
      "metadata": {
        "colab": {
          "base_uri": "https://localhost:8080/",
          "height": 407
        },
        "id": "IR0tn5bfesY-",
        "outputId": "d54f6462-0264-4ae5-9a3f-fcca4b307170"
      },
      "source": [
        "#melt\n",
        "data[['Year','Marca_fabrica','Model','Combined MPG_x','Highway MPG','City MPG']]\n"
      ],
      "execution_count": null,
      "outputs": [
        {
          "output_type": "execute_result",
          "data": {
            "text/html": [
              "<div>\n",
              "<style scoped>\n",
              "    .dataframe tbody tr th:only-of-type {\n",
              "        vertical-align: middle;\n",
              "    }\n",
              "\n",
              "    .dataframe tbody tr th {\n",
              "        vertical-align: top;\n",
              "    }\n",
              "\n",
              "    .dataframe thead th {\n",
              "        text-align: right;\n",
              "    }\n",
              "</style>\n",
              "<table border=\"1\" class=\"dataframe\">\n",
              "  <thead>\n",
              "    <tr style=\"text-align: right;\">\n",
              "      <th></th>\n",
              "      <th>Year</th>\n",
              "      <th>Marca_fabrica</th>\n",
              "      <th>Model</th>\n",
              "      <th>Combined MPG_x</th>\n",
              "      <th>Highway MPG</th>\n",
              "      <th>City MPG</th>\n",
              "    </tr>\n",
              "  </thead>\n",
              "  <tbody>\n",
              "    <tr>\n",
              "      <th>0</th>\n",
              "      <td>1984</td>\n",
              "      <td>AM General</td>\n",
              "      <td>DJ Po Vehicle 2WD</td>\n",
              "      <td>17</td>\n",
              "      <td>17</td>\n",
              "      <td>18</td>\n",
              "    </tr>\n",
              "    <tr>\n",
              "      <th>1</th>\n",
              "      <td>1984</td>\n",
              "      <td>AM General</td>\n",
              "      <td>FJ8c Post Office</td>\n",
              "      <td>13</td>\n",
              "      <td>13</td>\n",
              "      <td>13</td>\n",
              "    </tr>\n",
              "    <tr>\n",
              "      <th>2</th>\n",
              "      <td>1985</td>\n",
              "      <td>AM General</td>\n",
              "      <td>Post Office DJ5 2WD</td>\n",
              "      <td>16</td>\n",
              "      <td>17</td>\n",
              "      <td>16</td>\n",
              "    </tr>\n",
              "    <tr>\n",
              "      <th>3</th>\n",
              "      <td>1985</td>\n",
              "      <td>AM General</td>\n",
              "      <td>Post Office DJ8 2WD</td>\n",
              "      <td>13</td>\n",
              "      <td>13</td>\n",
              "      <td>13</td>\n",
              "    </tr>\n",
              "    <tr>\n",
              "      <th>4</th>\n",
              "      <td>1987</td>\n",
              "      <td>ASC Incorporated</td>\n",
              "      <td>GNX</td>\n",
              "      <td>16</td>\n",
              "      <td>21</td>\n",
              "      <td>14</td>\n",
              "    </tr>\n",
              "    <tr>\n",
              "      <th>...</th>\n",
              "      <td>...</td>\n",
              "      <td>...</td>\n",
              "      <td>...</td>\n",
              "      <td>...</td>\n",
              "      <td>...</td>\n",
              "      <td>...</td>\n",
              "    </tr>\n",
              "    <tr>\n",
              "      <th>35947</th>\n",
              "      <td>2013</td>\n",
              "      <td>smart</td>\n",
              "      <td>fortwo coupe</td>\n",
              "      <td>36</td>\n",
              "      <td>38</td>\n",
              "      <td>34</td>\n",
              "    </tr>\n",
              "    <tr>\n",
              "      <th>35948</th>\n",
              "      <td>2014</td>\n",
              "      <td>smart</td>\n",
              "      <td>fortwo coupe</td>\n",
              "      <td>36</td>\n",
              "      <td>38</td>\n",
              "      <td>34</td>\n",
              "    </tr>\n",
              "    <tr>\n",
              "      <th>35949</th>\n",
              "      <td>2015</td>\n",
              "      <td>smart</td>\n",
              "      <td>fortwo coupe</td>\n",
              "      <td>36</td>\n",
              "      <td>38</td>\n",
              "      <td>34</td>\n",
              "    </tr>\n",
              "    <tr>\n",
              "      <th>35950</th>\n",
              "      <td>2016</td>\n",
              "      <td>smart</td>\n",
              "      <td>fortwo coupe</td>\n",
              "      <td>36</td>\n",
              "      <td>39</td>\n",
              "      <td>34</td>\n",
              "    </tr>\n",
              "    <tr>\n",
              "      <th>35951</th>\n",
              "      <td>2016</td>\n",
              "      <td>smart</td>\n",
              "      <td>fortwo coupe</td>\n",
              "      <td>35</td>\n",
              "      <td>39</td>\n",
              "      <td>32</td>\n",
              "    </tr>\n",
              "  </tbody>\n",
              "</table>\n",
              "<p>35952 rows × 6 columns</p>\n",
              "</div>"
            ],
            "text/plain": [
              "       Year     Marca_fabrica  ... Highway MPG  City MPG\n",
              "0      1984        AM General  ...          17        18\n",
              "1      1984        AM General  ...          13        13\n",
              "2      1985        AM General  ...          17        16\n",
              "3      1985        AM General  ...          13        13\n",
              "4      1987  ASC Incorporated  ...          21        14\n",
              "...     ...               ...  ...         ...       ...\n",
              "35947  2013             smart  ...          38        34\n",
              "35948  2014             smart  ...          38        34\n",
              "35949  2015             smart  ...          38        34\n",
              "35950  2016             smart  ...          39        34\n",
              "35951  2016             smart  ...          39        32\n",
              "\n",
              "[35952 rows x 6 columns]"
            ]
          },
          "metadata": {
            "tags": []
          },
          "execution_count": 57
        }
      ]
    },
    {
      "cell_type": "code",
      "metadata": {
        "colab": {
          "base_uri": "https://localhost:8080/",
          "height": 407
        },
        "id": "lYaFrzAWgYRW",
        "outputId": "52a00f2c-89fe-4180-f108-3b3c48df5b49"
      },
      "source": [
        "melted = pd.melt(data, id_vars =['Year','Marca_fabrica','Model'], value_vars = ['Combined MPG_x','Highway MPG','City MPG'])\n",
        "melted"
      ],
      "execution_count": null,
      "outputs": [
        {
          "output_type": "execute_result",
          "data": {
            "text/html": [
              "<div>\n",
              "<style scoped>\n",
              "    .dataframe tbody tr th:only-of-type {\n",
              "        vertical-align: middle;\n",
              "    }\n",
              "\n",
              "    .dataframe tbody tr th {\n",
              "        vertical-align: top;\n",
              "    }\n",
              "\n",
              "    .dataframe thead th {\n",
              "        text-align: right;\n",
              "    }\n",
              "</style>\n",
              "<table border=\"1\" class=\"dataframe\">\n",
              "  <thead>\n",
              "    <tr style=\"text-align: right;\">\n",
              "      <th></th>\n",
              "      <th>Year</th>\n",
              "      <th>Marca_fabrica</th>\n",
              "      <th>Model</th>\n",
              "      <th>variable</th>\n",
              "      <th>value</th>\n",
              "    </tr>\n",
              "  </thead>\n",
              "  <tbody>\n",
              "    <tr>\n",
              "      <th>0</th>\n",
              "      <td>1984</td>\n",
              "      <td>AM General</td>\n",
              "      <td>DJ Po Vehicle 2WD</td>\n",
              "      <td>Combined MPG_x</td>\n",
              "      <td>17</td>\n",
              "    </tr>\n",
              "    <tr>\n",
              "      <th>1</th>\n",
              "      <td>1984</td>\n",
              "      <td>AM General</td>\n",
              "      <td>FJ8c Post Office</td>\n",
              "      <td>Combined MPG_x</td>\n",
              "      <td>13</td>\n",
              "    </tr>\n",
              "    <tr>\n",
              "      <th>2</th>\n",
              "      <td>1985</td>\n",
              "      <td>AM General</td>\n",
              "      <td>Post Office DJ5 2WD</td>\n",
              "      <td>Combined MPG_x</td>\n",
              "      <td>16</td>\n",
              "    </tr>\n",
              "    <tr>\n",
              "      <th>3</th>\n",
              "      <td>1985</td>\n",
              "      <td>AM General</td>\n",
              "      <td>Post Office DJ8 2WD</td>\n",
              "      <td>Combined MPG_x</td>\n",
              "      <td>13</td>\n",
              "    </tr>\n",
              "    <tr>\n",
              "      <th>4</th>\n",
              "      <td>1987</td>\n",
              "      <td>ASC Incorporated</td>\n",
              "      <td>GNX</td>\n",
              "      <td>Combined MPG_x</td>\n",
              "      <td>16</td>\n",
              "    </tr>\n",
              "    <tr>\n",
              "      <th>...</th>\n",
              "      <td>...</td>\n",
              "      <td>...</td>\n",
              "      <td>...</td>\n",
              "      <td>...</td>\n",
              "      <td>...</td>\n",
              "    </tr>\n",
              "    <tr>\n",
              "      <th>107851</th>\n",
              "      <td>2013</td>\n",
              "      <td>smart</td>\n",
              "      <td>fortwo coupe</td>\n",
              "      <td>City MPG</td>\n",
              "      <td>34</td>\n",
              "    </tr>\n",
              "    <tr>\n",
              "      <th>107852</th>\n",
              "      <td>2014</td>\n",
              "      <td>smart</td>\n",
              "      <td>fortwo coupe</td>\n",
              "      <td>City MPG</td>\n",
              "      <td>34</td>\n",
              "    </tr>\n",
              "    <tr>\n",
              "      <th>107853</th>\n",
              "      <td>2015</td>\n",
              "      <td>smart</td>\n",
              "      <td>fortwo coupe</td>\n",
              "      <td>City MPG</td>\n",
              "      <td>34</td>\n",
              "    </tr>\n",
              "    <tr>\n",
              "      <th>107854</th>\n",
              "      <td>2016</td>\n",
              "      <td>smart</td>\n",
              "      <td>fortwo coupe</td>\n",
              "      <td>City MPG</td>\n",
              "      <td>34</td>\n",
              "    </tr>\n",
              "    <tr>\n",
              "      <th>107855</th>\n",
              "      <td>2016</td>\n",
              "      <td>smart</td>\n",
              "      <td>fortwo coupe</td>\n",
              "      <td>City MPG</td>\n",
              "      <td>32</td>\n",
              "    </tr>\n",
              "  </tbody>\n",
              "</table>\n",
              "<p>107856 rows × 5 columns</p>\n",
              "</div>"
            ],
            "text/plain": [
              "        Year     Marca_fabrica                Model        variable  value\n",
              "0       1984        AM General    DJ Po Vehicle 2WD  Combined MPG_x     17\n",
              "1       1984        AM General     FJ8c Post Office  Combined MPG_x     13\n",
              "2       1985        AM General  Post Office DJ5 2WD  Combined MPG_x     16\n",
              "3       1985        AM General  Post Office DJ8 2WD  Combined MPG_x     13\n",
              "4       1987  ASC Incorporated                  GNX  Combined MPG_x     16\n",
              "...      ...               ...                  ...             ...    ...\n",
              "107851  2013             smart         fortwo coupe        City MPG     34\n",
              "107852  2014             smart         fortwo coupe        City MPG     34\n",
              "107853  2015             smart         fortwo coupe        City MPG     34\n",
              "107854  2016             smart         fortwo coupe        City MPG     34\n",
              "107855  2016             smart         fortwo coupe        City MPG     32\n",
              "\n",
              "[107856 rows x 5 columns]"
            ]
          },
          "metadata": {
            "tags": []
          },
          "execution_count": 58
        }
      ]
    },
    {
      "cell_type": "code",
      "metadata": {
        "colab": {
          "base_uri": "https://localhost:8080/",
          "height": 138
        },
        "id": "HZTf8gxWhi5j",
        "outputId": "c2098a29-5a48-413a-d22c-44eb3d86c9c3"
      },
      "source": [
        "#Ejemplo\n",
        "melted[(melted.Year == 1984) & (melted.Marca_fabrica == \"AM General\") & (melted.Model == \"DJ Po Vehicle 2WD\")]\n"
      ],
      "execution_count": null,
      "outputs": [
        {
          "output_type": "execute_result",
          "data": {
            "text/html": [
              "<div>\n",
              "<style scoped>\n",
              "    .dataframe tbody tr th:only-of-type {\n",
              "        vertical-align: middle;\n",
              "    }\n",
              "\n",
              "    .dataframe tbody tr th {\n",
              "        vertical-align: top;\n",
              "    }\n",
              "\n",
              "    .dataframe thead th {\n",
              "        text-align: right;\n",
              "    }\n",
              "</style>\n",
              "<table border=\"1\" class=\"dataframe\">\n",
              "  <thead>\n",
              "    <tr style=\"text-align: right;\">\n",
              "      <th></th>\n",
              "      <th>Year</th>\n",
              "      <th>Marca_fabrica</th>\n",
              "      <th>Model</th>\n",
              "      <th>variable</th>\n",
              "      <th>value</th>\n",
              "    </tr>\n",
              "  </thead>\n",
              "  <tbody>\n",
              "    <tr>\n",
              "      <th>0</th>\n",
              "      <td>1984</td>\n",
              "      <td>AM General</td>\n",
              "      <td>DJ Po Vehicle 2WD</td>\n",
              "      <td>Combined MPG_x</td>\n",
              "      <td>17</td>\n",
              "    </tr>\n",
              "    <tr>\n",
              "      <th>35952</th>\n",
              "      <td>1984</td>\n",
              "      <td>AM General</td>\n",
              "      <td>DJ Po Vehicle 2WD</td>\n",
              "      <td>Highway MPG</td>\n",
              "      <td>17</td>\n",
              "    </tr>\n",
              "    <tr>\n",
              "      <th>71904</th>\n",
              "      <td>1984</td>\n",
              "      <td>AM General</td>\n",
              "      <td>DJ Po Vehicle 2WD</td>\n",
              "      <td>City MPG</td>\n",
              "      <td>18</td>\n",
              "    </tr>\n",
              "  </tbody>\n",
              "</table>\n",
              "</div>"
            ],
            "text/plain": [
              "       Year Marca_fabrica              Model        variable  value\n",
              "0      1984    AM General  DJ Po Vehicle 2WD  Combined MPG_x     17\n",
              "35952  1984    AM General  DJ Po Vehicle 2WD     Highway MPG     17\n",
              "71904  1984    AM General  DJ Po Vehicle 2WD        City MPG     18"
            ]
          },
          "metadata": {
            "tags": []
          },
          "execution_count": 59
        }
      ]
    },
    {
      "cell_type": "markdown",
      "metadata": {
        "id": "sZwfdnb8B1F2"
      },
      "source": [
        "# DataFrame Calcculation & Aggregations"
      ]
    },
    {
      "cell_type": "code",
      "metadata": {
        "id": "5dkOYt2aBm4e"
      },
      "source": [
        "import numpy as np\n",
        "import pandas as pd"
      ],
      "execution_count": null,
      "outputs": []
    },
    {
      "cell_type": "code",
      "metadata": {
        "colab": {
          "base_uri": "https://localhost:8080/"
        },
        "id": "0nLKHRvNB9Mk",
        "outputId": "23d2ca65-ab6d-4b4c-a1c1-6a0ddfc1eafa"
      },
      "source": [
        "from google.colab import drive\n",
        "drive.mount('/content/drive')"
      ],
      "execution_count": null,
      "outputs": [
        {
          "output_type": "stream",
          "text": [
            "Mounted at /content/drive\n"
          ],
          "name": "stdout"
        }
      ]
    },
    {
      "cell_type": "code",
      "metadata": {
        "id": "w8RfAUf2ComE"
      },
      "source": [
        "vehicles = pd.read_csv('/content/drive/MyDrive/Databases/Week 7/vehicles.csv')"
      ],
      "execution_count": null,
      "outputs": []
    },
    {
      "cell_type": "code",
      "metadata": {
        "colab": {
          "base_uri": "https://localhost:8080/",
          "height": 160
        },
        "id": "Hq847UTKC41x",
        "outputId": "56b77272-846a-4c99-9ee1-1fd2be3e84b6"
      },
      "source": [
        "vehicles.head(2)"
      ],
      "execution_count": null,
      "outputs": [
        {
          "output_type": "execute_result",
          "data": {
            "text/html": [
              "<div>\n",
              "<style scoped>\n",
              "    .dataframe tbody tr th:only-of-type {\n",
              "        vertical-align: middle;\n",
              "    }\n",
              "\n",
              "    .dataframe tbody tr th {\n",
              "        vertical-align: top;\n",
              "    }\n",
              "\n",
              "    .dataframe thead th {\n",
              "        text-align: right;\n",
              "    }\n",
              "</style>\n",
              "<table border=\"1\" class=\"dataframe\">\n",
              "  <thead>\n",
              "    <tr style=\"text-align: right;\">\n",
              "      <th></th>\n",
              "      <th>Make</th>\n",
              "      <th>Model</th>\n",
              "      <th>Year</th>\n",
              "      <th>Engine Displacement</th>\n",
              "      <th>Cylinders</th>\n",
              "      <th>Transmission</th>\n",
              "      <th>Drivetrain</th>\n",
              "      <th>Vehicle Class</th>\n",
              "      <th>Fuel Type</th>\n",
              "      <th>Fuel Barrels/Year</th>\n",
              "      <th>City MPG</th>\n",
              "      <th>Highway MPG</th>\n",
              "      <th>Combined MPG</th>\n",
              "      <th>CO2 Emission Grams/Mile</th>\n",
              "      <th>Fuel Cost/Year</th>\n",
              "    </tr>\n",
              "  </thead>\n",
              "  <tbody>\n",
              "    <tr>\n",
              "      <th>0</th>\n",
              "      <td>AM General</td>\n",
              "      <td>DJ Po Vehicle 2WD</td>\n",
              "      <td>1984</td>\n",
              "      <td>2.5</td>\n",
              "      <td>4.0</td>\n",
              "      <td>Automatic 3-spd</td>\n",
              "      <td>2-Wheel Drive</td>\n",
              "      <td>Special Purpose Vehicle 2WD</td>\n",
              "      <td>Regular</td>\n",
              "      <td>19.388824</td>\n",
              "      <td>18</td>\n",
              "      <td>17</td>\n",
              "      <td>17</td>\n",
              "      <td>522.764706</td>\n",
              "      <td>1950</td>\n",
              "    </tr>\n",
              "    <tr>\n",
              "      <th>1</th>\n",
              "      <td>AM General</td>\n",
              "      <td>FJ8c Post Office</td>\n",
              "      <td>1984</td>\n",
              "      <td>4.2</td>\n",
              "      <td>6.0</td>\n",
              "      <td>Automatic 3-spd</td>\n",
              "      <td>2-Wheel Drive</td>\n",
              "      <td>Special Purpose Vehicle 2WD</td>\n",
              "      <td>Regular</td>\n",
              "      <td>25.354615</td>\n",
              "      <td>13</td>\n",
              "      <td>13</td>\n",
              "      <td>13</td>\n",
              "      <td>683.615385</td>\n",
              "      <td>2550</td>\n",
              "    </tr>\n",
              "  </tbody>\n",
              "</table>\n",
              "</div>"
            ],
            "text/plain": [
              "         Make              Model  ...  CO2 Emission Grams/Mile  Fuel Cost/Year\n",
              "0  AM General  DJ Po Vehicle 2WD  ...               522.764706            1950\n",
              "1  AM General   FJ8c Post Office  ...               683.615385            2550\n",
              "\n",
              "[2 rows x 15 columns]"
            ]
          },
          "metadata": {
            "tags": []
          },
          "execution_count": 7
        }
      ]
    },
    {
      "cell_type": "code",
      "metadata": {
        "colab": {
          "base_uri": "https://localhost:8080/",
          "height": 474
        },
        "id": "ynV-4Qf2C92i",
        "outputId": "c0f5b965-5cea-4750-89a4-c4522f9dc11a"
      },
      "source": [
        "vehicles.groupby(['Make'])['City MPG','Highway MPG','Combined MPG'].mean()"
      ],
      "execution_count": null,
      "outputs": [
        {
          "output_type": "stream",
          "text": [
            "/usr/local/lib/python3.7/dist-packages/ipykernel_launcher.py:1: FutureWarning: Indexing with multiple keys (implicitly converted to a tuple of keys) will be deprecated, use a list instead.\n",
            "  \"\"\"Entry point for launching an IPython kernel.\n"
          ],
          "name": "stderr"
        },
        {
          "output_type": "execute_result",
          "data": {
            "text/html": [
              "<div>\n",
              "<style scoped>\n",
              "    .dataframe tbody tr th:only-of-type {\n",
              "        vertical-align: middle;\n",
              "    }\n",
              "\n",
              "    .dataframe tbody tr th {\n",
              "        vertical-align: top;\n",
              "    }\n",
              "\n",
              "    .dataframe thead th {\n",
              "        text-align: right;\n",
              "    }\n",
              "</style>\n",
              "<table border=\"1\" class=\"dataframe\">\n",
              "  <thead>\n",
              "    <tr style=\"text-align: right;\">\n",
              "      <th></th>\n",
              "      <th>City MPG</th>\n",
              "      <th>Highway MPG</th>\n",
              "      <th>Combined MPG</th>\n",
              "    </tr>\n",
              "    <tr>\n",
              "      <th>Make</th>\n",
              "      <th></th>\n",
              "      <th></th>\n",
              "      <th></th>\n",
              "    </tr>\n",
              "  </thead>\n",
              "  <tbody>\n",
              "    <tr>\n",
              "      <th>AM General</th>\n",
              "      <td>15.000000</td>\n",
              "      <td>15.000000</td>\n",
              "      <td>14.750000</td>\n",
              "    </tr>\n",
              "    <tr>\n",
              "      <th>ASC Incorporated</th>\n",
              "      <td>14.000000</td>\n",
              "      <td>21.000000</td>\n",
              "      <td>16.000000</td>\n",
              "    </tr>\n",
              "    <tr>\n",
              "      <th>Acura</th>\n",
              "      <td>18.890728</td>\n",
              "      <td>25.940397</td>\n",
              "      <td>21.506623</td>\n",
              "    </tr>\n",
              "    <tr>\n",
              "      <th>Alfa Romeo</th>\n",
              "      <td>17.097561</td>\n",
              "      <td>23.902439</td>\n",
              "      <td>19.512195</td>\n",
              "    </tr>\n",
              "    <tr>\n",
              "      <th>American Motors Corporation</th>\n",
              "      <td>16.045455</td>\n",
              "      <td>20.181818</td>\n",
              "      <td>17.681818</td>\n",
              "    </tr>\n",
              "    <tr>\n",
              "      <th>...</th>\n",
              "      <td>...</td>\n",
              "      <td>...</td>\n",
              "      <td>...</td>\n",
              "    </tr>\n",
              "    <tr>\n",
              "      <th>Volkswagen</th>\n",
              "      <td>21.226361</td>\n",
              "      <td>28.985673</td>\n",
              "      <td>24.093601</td>\n",
              "    </tr>\n",
              "    <tr>\n",
              "      <th>Volvo</th>\n",
              "      <td>17.981869</td>\n",
              "      <td>25.064156</td>\n",
              "      <td>20.605300</td>\n",
              "    </tr>\n",
              "    <tr>\n",
              "      <th>Wallace Environmental</th>\n",
              "      <td>12.437500</td>\n",
              "      <td>16.000000</td>\n",
              "      <td>13.875000</td>\n",
              "    </tr>\n",
              "    <tr>\n",
              "      <th>Yugo</th>\n",
              "      <td>23.000000</td>\n",
              "      <td>28.250000</td>\n",
              "      <td>25.000000</td>\n",
              "    </tr>\n",
              "    <tr>\n",
              "      <th>smart</th>\n",
              "      <td>33.300000</td>\n",
              "      <td>39.300000</td>\n",
              "      <td>35.800000</td>\n",
              "    </tr>\n",
              "  </tbody>\n",
              "</table>\n",
              "<p>127 rows × 3 columns</p>\n",
              "</div>"
            ],
            "text/plain": [
              "                              City MPG  Highway MPG  Combined MPG\n",
              "Make                                                             \n",
              "AM General                   15.000000    15.000000     14.750000\n",
              "ASC Incorporated             14.000000    21.000000     16.000000\n",
              "Acura                        18.890728    25.940397     21.506623\n",
              "Alfa Romeo                   17.097561    23.902439     19.512195\n",
              "American Motors Corporation  16.045455    20.181818     17.681818\n",
              "...                                ...          ...           ...\n",
              "Volkswagen                   21.226361    28.985673     24.093601\n",
              "Volvo                        17.981869    25.064156     20.605300\n",
              "Wallace Environmental        12.437500    16.000000     13.875000\n",
              "Yugo                         23.000000    28.250000     25.000000\n",
              "smart                        33.300000    39.300000     35.800000\n",
              "\n",
              "[127 rows x 3 columns]"
            ]
          },
          "metadata": {
            "tags": []
          },
          "execution_count": 8
        }
      ]
    },
    {
      "cell_type": "code",
      "metadata": {
        "colab": {
          "base_uri": "https://localhost:8080/",
          "height": 474
        },
        "id": "i-OjX431DdnE",
        "outputId": "296bfef0-203d-443c-e4a5-c57c190fad1c"
      },
      "source": [
        "vehicles.groupby(['Make'])['City MPG','Highway MPG','Combined MPG'].sum()"
      ],
      "execution_count": null,
      "outputs": [
        {
          "output_type": "stream",
          "text": [
            "/usr/local/lib/python3.7/dist-packages/ipykernel_launcher.py:1: FutureWarning: Indexing with multiple keys (implicitly converted to a tuple of keys) will be deprecated, use a list instead.\n",
            "  \"\"\"Entry point for launching an IPython kernel.\n"
          ],
          "name": "stderr"
        },
        {
          "output_type": "execute_result",
          "data": {
            "text/html": [
              "<div>\n",
              "<style scoped>\n",
              "    .dataframe tbody tr th:only-of-type {\n",
              "        vertical-align: middle;\n",
              "    }\n",
              "\n",
              "    .dataframe tbody tr th {\n",
              "        vertical-align: top;\n",
              "    }\n",
              "\n",
              "    .dataframe thead th {\n",
              "        text-align: right;\n",
              "    }\n",
              "</style>\n",
              "<table border=\"1\" class=\"dataframe\">\n",
              "  <thead>\n",
              "    <tr style=\"text-align: right;\">\n",
              "      <th></th>\n",
              "      <th>City MPG</th>\n",
              "      <th>Highway MPG</th>\n",
              "      <th>Combined MPG</th>\n",
              "    </tr>\n",
              "    <tr>\n",
              "      <th>Make</th>\n",
              "      <th></th>\n",
              "      <th></th>\n",
              "      <th></th>\n",
              "    </tr>\n",
              "  </thead>\n",
              "  <tbody>\n",
              "    <tr>\n",
              "      <th>AM General</th>\n",
              "      <td>60</td>\n",
              "      <td>60</td>\n",
              "      <td>59</td>\n",
              "    </tr>\n",
              "    <tr>\n",
              "      <th>ASC Incorporated</th>\n",
              "      <td>14</td>\n",
              "      <td>21</td>\n",
              "      <td>16</td>\n",
              "    </tr>\n",
              "    <tr>\n",
              "      <th>Acura</th>\n",
              "      <td>5705</td>\n",
              "      <td>7834</td>\n",
              "      <td>6495</td>\n",
              "    </tr>\n",
              "    <tr>\n",
              "      <th>Alfa Romeo</th>\n",
              "      <td>701</td>\n",
              "      <td>980</td>\n",
              "      <td>800</td>\n",
              "    </tr>\n",
              "    <tr>\n",
              "      <th>American Motors Corporation</th>\n",
              "      <td>353</td>\n",
              "      <td>444</td>\n",
              "      <td>389</td>\n",
              "    </tr>\n",
              "    <tr>\n",
              "      <th>...</th>\n",
              "      <td>...</td>\n",
              "      <td>...</td>\n",
              "      <td>...</td>\n",
              "    </tr>\n",
              "    <tr>\n",
              "      <th>Volkswagen</th>\n",
              "      <td>22224</td>\n",
              "      <td>30348</td>\n",
              "      <td>25226</td>\n",
              "    </tr>\n",
              "    <tr>\n",
              "      <th>Volvo</th>\n",
              "      <td>12893</td>\n",
              "      <td>17971</td>\n",
              "      <td>14774</td>\n",
              "    </tr>\n",
              "    <tr>\n",
              "      <th>Wallace Environmental</th>\n",
              "      <td>398</td>\n",
              "      <td>512</td>\n",
              "      <td>444</td>\n",
              "    </tr>\n",
              "    <tr>\n",
              "      <th>Yugo</th>\n",
              "      <td>184</td>\n",
              "      <td>226</td>\n",
              "      <td>200</td>\n",
              "    </tr>\n",
              "    <tr>\n",
              "      <th>smart</th>\n",
              "      <td>666</td>\n",
              "      <td>786</td>\n",
              "      <td>716</td>\n",
              "    </tr>\n",
              "  </tbody>\n",
              "</table>\n",
              "<p>127 rows × 3 columns</p>\n",
              "</div>"
            ],
            "text/plain": [
              "                             City MPG  Highway MPG  Combined MPG\n",
              "Make                                                            \n",
              "AM General                         60           60            59\n",
              "ASC Incorporated                   14           21            16\n",
              "Acura                            5705         7834          6495\n",
              "Alfa Romeo                        701          980           800\n",
              "American Motors Corporation       353          444           389\n",
              "...                               ...          ...           ...\n",
              "Volkswagen                      22224        30348         25226\n",
              "Volvo                           12893        17971         14774\n",
              "Wallace Environmental             398          512           444\n",
              "Yugo                              184          226           200\n",
              "smart                             666          786           716\n",
              "\n",
              "[127 rows x 3 columns]"
            ]
          },
          "metadata": {
            "tags": []
          },
          "execution_count": 9
        }
      ]
    },
    {
      "cell_type": "code",
      "metadata": {
        "colab": {
          "base_uri": "https://localhost:8080/",
          "height": 474
        },
        "id": "fP1D_mPCDpDb",
        "outputId": "20c0b18e-31f7-479d-a20b-16d4d57d4b21"
      },
      "source": [
        "vehicles.groupby(['Make'])['City MPG','Highway MPG','Combined MPG'].median()"
      ],
      "execution_count": null,
      "outputs": [
        {
          "output_type": "stream",
          "text": [
            "/usr/local/lib/python3.7/dist-packages/ipykernel_launcher.py:1: FutureWarning: Indexing with multiple keys (implicitly converted to a tuple of keys) will be deprecated, use a list instead.\n",
            "  \"\"\"Entry point for launching an IPython kernel.\n"
          ],
          "name": "stderr"
        },
        {
          "output_type": "execute_result",
          "data": {
            "text/html": [
              "<div>\n",
              "<style scoped>\n",
              "    .dataframe tbody tr th:only-of-type {\n",
              "        vertical-align: middle;\n",
              "    }\n",
              "\n",
              "    .dataframe tbody tr th {\n",
              "        vertical-align: top;\n",
              "    }\n",
              "\n",
              "    .dataframe thead th {\n",
              "        text-align: right;\n",
              "    }\n",
              "</style>\n",
              "<table border=\"1\" class=\"dataframe\">\n",
              "  <thead>\n",
              "    <tr style=\"text-align: right;\">\n",
              "      <th></th>\n",
              "      <th>City MPG</th>\n",
              "      <th>Highway MPG</th>\n",
              "      <th>Combined MPG</th>\n",
              "    </tr>\n",
              "    <tr>\n",
              "      <th>Make</th>\n",
              "      <th></th>\n",
              "      <th></th>\n",
              "      <th></th>\n",
              "    </tr>\n",
              "  </thead>\n",
              "  <tbody>\n",
              "    <tr>\n",
              "      <th>AM General</th>\n",
              "      <td>14.5</td>\n",
              "      <td>15.0</td>\n",
              "      <td>14.5</td>\n",
              "    </tr>\n",
              "    <tr>\n",
              "      <th>ASC Incorporated</th>\n",
              "      <td>14.0</td>\n",
              "      <td>21.0</td>\n",
              "      <td>16.0</td>\n",
              "    </tr>\n",
              "    <tr>\n",
              "      <th>Acura</th>\n",
              "      <td>18.0</td>\n",
              "      <td>26.0</td>\n",
              "      <td>21.0</td>\n",
              "    </tr>\n",
              "    <tr>\n",
              "      <th>Alfa Romeo</th>\n",
              "      <td>16.0</td>\n",
              "      <td>23.0</td>\n",
              "      <td>19.0</td>\n",
              "    </tr>\n",
              "    <tr>\n",
              "      <th>American Motors Corporation</th>\n",
              "      <td>15.0</td>\n",
              "      <td>20.0</td>\n",
              "      <td>17.0</td>\n",
              "    </tr>\n",
              "    <tr>\n",
              "      <th>...</th>\n",
              "      <td>...</td>\n",
              "      <td>...</td>\n",
              "      <td>...</td>\n",
              "    </tr>\n",
              "    <tr>\n",
              "      <th>Volkswagen</th>\n",
              "      <td>21.0</td>\n",
              "      <td>28.0</td>\n",
              "      <td>23.0</td>\n",
              "    </tr>\n",
              "    <tr>\n",
              "      <th>Volvo</th>\n",
              "      <td>18.0</td>\n",
              "      <td>25.0</td>\n",
              "      <td>20.0</td>\n",
              "    </tr>\n",
              "    <tr>\n",
              "      <th>Wallace Environmental</th>\n",
              "      <td>11.0</td>\n",
              "      <td>15.0</td>\n",
              "      <td>13.0</td>\n",
              "    </tr>\n",
              "    <tr>\n",
              "      <th>Yugo</th>\n",
              "      <td>23.0</td>\n",
              "      <td>28.5</td>\n",
              "      <td>25.0</td>\n",
              "    </tr>\n",
              "    <tr>\n",
              "      <th>smart</th>\n",
              "      <td>33.0</td>\n",
              "      <td>38.5</td>\n",
              "      <td>36.0</td>\n",
              "    </tr>\n",
              "  </tbody>\n",
              "</table>\n",
              "<p>127 rows × 3 columns</p>\n",
              "</div>"
            ],
            "text/plain": [
              "                             City MPG  Highway MPG  Combined MPG\n",
              "Make                                                            \n",
              "AM General                       14.5         15.0          14.5\n",
              "ASC Incorporated                 14.0         21.0          16.0\n",
              "Acura                            18.0         26.0          21.0\n",
              "Alfa Romeo                       16.0         23.0          19.0\n",
              "American Motors Corporation      15.0         20.0          17.0\n",
              "...                               ...          ...           ...\n",
              "Volkswagen                       21.0         28.0          23.0\n",
              "Volvo                            18.0         25.0          20.0\n",
              "Wallace Environmental            11.0         15.0          13.0\n",
              "Yugo                             23.0         28.5          25.0\n",
              "smart                            33.0         38.5          36.0\n",
              "\n",
              "[127 rows x 3 columns]"
            ]
          },
          "metadata": {
            "tags": []
          },
          "execution_count": 10
        }
      ]
    },
    {
      "cell_type": "code",
      "metadata": {
        "colab": {
          "base_uri": "https://localhost:8080/",
          "height": 468
        },
        "id": "VqbL9EUxDyjU",
        "outputId": "0a3cde51-651f-4bf9-b817-0398de15d925"
      },
      "source": [
        "vehicles.groupby('Fuel Type', as_index=False)['Combined MPG'].agg(['mean','median','std','min','max'])"
      ],
      "execution_count": null,
      "outputs": [
        {
          "output_type": "execute_result",
          "data": {
            "text/html": [
              "<div>\n",
              "<style scoped>\n",
              "    .dataframe tbody tr th:only-of-type {\n",
              "        vertical-align: middle;\n",
              "    }\n",
              "\n",
              "    .dataframe tbody tr th {\n",
              "        vertical-align: top;\n",
              "    }\n",
              "\n",
              "    .dataframe thead th {\n",
              "        text-align: right;\n",
              "    }\n",
              "</style>\n",
              "<table border=\"1\" class=\"dataframe\">\n",
              "  <thead>\n",
              "    <tr style=\"text-align: right;\">\n",
              "      <th></th>\n",
              "      <th>mean</th>\n",
              "      <th>median</th>\n",
              "      <th>std</th>\n",
              "      <th>min</th>\n",
              "      <th>max</th>\n",
              "    </tr>\n",
              "    <tr>\n",
              "      <th>Fuel Type</th>\n",
              "      <th></th>\n",
              "      <th></th>\n",
              "      <th></th>\n",
              "      <th></th>\n",
              "      <th></th>\n",
              "    </tr>\n",
              "  </thead>\n",
              "  <tbody>\n",
              "    <tr>\n",
              "      <th>CNG</th>\n",
              "      <td>18.133333</td>\n",
              "      <td>14.5</td>\n",
              "      <td>7.436663</td>\n",
              "      <td>9</td>\n",
              "      <td>31</td>\n",
              "    </tr>\n",
              "    <tr>\n",
              "      <th>Diesel</th>\n",
              "      <td>23.488474</td>\n",
              "      <td>21.0</td>\n",
              "      <td>7.054702</td>\n",
              "      <td>14</td>\n",
              "      <td>40</td>\n",
              "    </tr>\n",
              "    <tr>\n",
              "      <th>Gasoline or E85</th>\n",
              "      <td>17.572385</td>\n",
              "      <td>17.0</td>\n",
              "      <td>3.822538</td>\n",
              "      <td>11</td>\n",
              "      <td>33</td>\n",
              "    </tr>\n",
              "    <tr>\n",
              "      <th>Gasoline or natural gas</th>\n",
              "      <td>15.350000</td>\n",
              "      <td>12.0</td>\n",
              "      <td>5.343712</td>\n",
              "      <td>10</td>\n",
              "      <td>24</td>\n",
              "    </tr>\n",
              "    <tr>\n",
              "      <th>Gasoline or propane</th>\n",
              "      <td>13.500000</td>\n",
              "      <td>13.5</td>\n",
              "      <td>1.603567</td>\n",
              "      <td>12</td>\n",
              "      <td>15</td>\n",
              "    </tr>\n",
              "    <tr>\n",
              "      <th>Midgrade</th>\n",
              "      <td>17.378378</td>\n",
              "      <td>17.0</td>\n",
              "      <td>1.848381</td>\n",
              "      <td>15</td>\n",
              "      <td>24</td>\n",
              "    </tr>\n",
              "    <tr>\n",
              "      <th>Premium</th>\n",
              "      <td>19.343816</td>\n",
              "      <td>19.0</td>\n",
              "      <td>4.097972</td>\n",
              "      <td>7</td>\n",
              "      <td>45</td>\n",
              "    </tr>\n",
              "    <tr>\n",
              "      <th>Premium Gas or Electricity</th>\n",
              "      <td>31.647059</td>\n",
              "      <td>33.0</td>\n",
              "      <td>7.158397</td>\n",
              "      <td>20</td>\n",
              "      <td>39</td>\n",
              "    </tr>\n",
              "    <tr>\n",
              "      <th>Premium and Electricity</th>\n",
              "      <td>26.300000</td>\n",
              "      <td>25.5</td>\n",
              "      <td>5.141165</td>\n",
              "      <td>17</td>\n",
              "      <td>39</td>\n",
              "    </tr>\n",
              "    <tr>\n",
              "      <th>Premium or E85</th>\n",
              "      <td>20.090909</td>\n",
              "      <td>20.0</td>\n",
              "      <td>3.676502</td>\n",
              "      <td>13</td>\n",
              "      <td>27</td>\n",
              "    </tr>\n",
              "    <tr>\n",
              "      <th>Regular</th>\n",
              "      <td>20.144698</td>\n",
              "      <td>20.0</td>\n",
              "      <td>5.317500</td>\n",
              "      <td>8</td>\n",
              "      <td>56</td>\n",
              "    </tr>\n",
              "    <tr>\n",
              "      <th>Regular Gas and Electricity</th>\n",
              "      <td>41.937500</td>\n",
              "      <td>38.5</td>\n",
              "      <td>5.246824</td>\n",
              "      <td>38</td>\n",
              "      <td>50</td>\n",
              "    </tr>\n",
              "    <tr>\n",
              "      <th>Regular Gas or Electricity</th>\n",
              "      <td>42.000000</td>\n",
              "      <td>42.0</td>\n",
              "      <td>0.000000</td>\n",
              "      <td>42</td>\n",
              "      <td>42</td>\n",
              "    </tr>\n",
              "  </tbody>\n",
              "</table>\n",
              "</div>"
            ],
            "text/plain": [
              "                                  mean  median       std  min  max\n",
              "Fuel Type                                                         \n",
              "CNG                          18.133333    14.5  7.436663    9   31\n",
              "Diesel                       23.488474    21.0  7.054702   14   40\n",
              "Gasoline or E85              17.572385    17.0  3.822538   11   33\n",
              "Gasoline or natural gas      15.350000    12.0  5.343712   10   24\n",
              "Gasoline or propane          13.500000    13.5  1.603567   12   15\n",
              "Midgrade                     17.378378    17.0  1.848381   15   24\n",
              "Premium                      19.343816    19.0  4.097972    7   45\n",
              "Premium Gas or Electricity   31.647059    33.0  7.158397   20   39\n",
              "Premium and Electricity      26.300000    25.5  5.141165   17   39\n",
              "Premium or E85               20.090909    20.0  3.676502   13   27\n",
              "Regular                      20.144698    20.0  5.317500    8   56\n",
              "Regular Gas and Electricity  41.937500    38.5  5.246824   38   50\n",
              "Regular Gas or Electricity   42.000000    42.0  0.000000   42   42"
            ]
          },
          "metadata": {
            "tags": []
          },
          "execution_count": 22
        }
      ]
    },
    {
      "cell_type": "code",
      "metadata": {
        "id": "_YYQPdWlFDv3"
      },
      "source": [
        "from scipy import stats\n",
        "\n",
        "def agg_mode(x):\n",
        "  mode = stats.mode(x)\n",
        "  return(mode[0])"
      ],
      "execution_count": null,
      "outputs": []
    },
    {
      "cell_type": "code",
      "metadata": {
        "colab": {
          "base_uri": "https://localhost:8080/"
        },
        "id": "48Qexv37GTyO",
        "outputId": "2ed386c0-9606-4373-8336-fe1afd910d3d"
      },
      "source": [
        "vehicles.groupby(['Fuel Type'])['Combined MPG'].agg(agg_mode)"
      ],
      "execution_count": null,
      "outputs": [
        {
          "output_type": "execute_result",
          "data": {
            "text/plain": [
              "Fuel Type\n",
              "CNG                            12\n",
              "Diesel                         17\n",
              "Gasoline or E85                14\n",
              "Gasoline or natural gas        12\n",
              "Gasoline or propane            12\n",
              "Midgrade                       17\n",
              "Premium                        19\n",
              "Premium Gas or Electricity     37\n",
              "Premium and Electricity        25\n",
              "Premium or E85                 23\n",
              "Regular                        18\n",
              "Regular Gas and Electricity    38\n",
              "Regular Gas or Electricity     42\n",
              "Name: Combined MPG, dtype: int64"
            ]
          },
          "metadata": {
            "tags": []
          },
          "execution_count": 30
        }
      ]
    },
    {
      "cell_type": "markdown",
      "metadata": {
        "id": "19I3sIG7Hd2Z"
      },
      "source": [
        "# Data Pipelines"
      ]
    },
    {
      "cell_type": "code",
      "metadata": {
        "colab": {
          "base_uri": "https://localhost:8080/"
        },
        "id": "UEL-ZMI3H8v9",
        "outputId": "d9a9bc3c-49ce-4d10-a208-2c09ea5cd0a0"
      },
      "source": [
        "data_sucio = pd.read_csv('/content/drive/MyDrive/Databases/Week 7/vehicles_messy.csv')"
      ],
      "execution_count": null,
      "outputs": [
        {
          "output_type": "stream",
          "text": [
            "/usr/local/lib/python3.7/dist-packages/IPython/core/interactiveshell.py:2718: DtypeWarning: Columns (70,71,72,73,74,76,79) have mixed types.Specify dtype option on import or set low_memory=False.\n",
            "  interactivity=interactivity, compiler=compiler, result=result)\n"
          ],
          "name": "stderr"
        }
      ]
    },
    {
      "cell_type": "code",
      "metadata": {
        "colab": {
          "base_uri": "https://localhost:8080/"
        },
        "id": "iaYxJRPUaeLH",
        "outputId": "807c5538-e20e-4ee8-dedc-bf9f94ed71c7"
      },
      "source": [
        "data_sucio.columns"
      ],
      "execution_count": null,
      "outputs": [
        {
          "output_type": "execute_result",
          "data": {
            "text/plain": [
              "Index(['barrels08', 'barrelsA08', 'charge120', 'charge240', 'city08',\n",
              "       'city08U', 'cityA08', 'cityA08U', 'cityCD', 'cityE', 'cityUF', 'co2',\n",
              "       'co2A', 'co2TailpipeAGpm', 'co2TailpipeGpm', 'comb08', 'comb08U',\n",
              "       'combA08', 'combA08U', 'combE', 'combinedCD', 'combinedUF', 'cylinders',\n",
              "       'displ', 'drive', 'engId', 'eng_dscr', 'feScore', 'fuelCost08',\n",
              "       'fuelCostA08', 'fuelType', 'fuelType1', 'ghgScore', 'ghgScoreA',\n",
              "       'highway08', 'highway08U', 'highwayA08', 'highwayA08U', 'highwayCD',\n",
              "       'highwayE', 'highwayUF', 'hlv', 'hpv', 'id', 'lv2', 'lv4', 'make',\n",
              "       'model', 'mpgData', 'phevBlended', 'pv2', 'pv4', 'range', 'rangeCity',\n",
              "       'rangeCityA', 'rangeHwy', 'rangeHwyA', 'trany', 'UCity', 'UCityA',\n",
              "       'UHighway', 'UHighwayA', 'VClass', 'year', 'youSaveSpend', 'guzzler',\n",
              "       'trans_dscr', 'tCharger', 'sCharger', 'atvType', 'fuelType2', 'rangeA',\n",
              "       'evMotor', 'mfrCode', 'c240Dscr', 'charge240b', 'c240bDscr',\n",
              "       'createdOn', 'modifiedOn', 'startStop', 'phevCity', 'phevHwy',\n",
              "       'phevComb'],\n",
              "      dtype='object')"
            ]
          },
          "metadata": {
            "tags": []
          },
          "execution_count": 47
        }
      ]
    },
    {
      "cell_type": "code",
      "metadata": {
        "colab": {
          "base_uri": "https://localhost:8080/",
          "height": 226
        },
        "id": "HHPCPyfMIEK_",
        "outputId": "38ec20a5-69ed-4e3d-c651-9500a65fc9d0"
      },
      "source": [
        "data_sucio.head(2)"
      ],
      "execution_count": null,
      "outputs": [
        {
          "output_type": "execute_result",
          "data": {
            "text/html": [
              "<div>\n",
              "<style scoped>\n",
              "    .dataframe tbody tr th:only-of-type {\n",
              "        vertical-align: middle;\n",
              "    }\n",
              "\n",
              "    .dataframe tbody tr th {\n",
              "        vertical-align: top;\n",
              "    }\n",
              "\n",
              "    .dataframe thead th {\n",
              "        text-align: right;\n",
              "    }\n",
              "</style>\n",
              "<table border=\"1\" class=\"dataframe\">\n",
              "  <thead>\n",
              "    <tr style=\"text-align: right;\">\n",
              "      <th></th>\n",
              "      <th>barrels08</th>\n",
              "      <th>barrelsA08</th>\n",
              "      <th>charge120</th>\n",
              "      <th>charge240</th>\n",
              "      <th>city08</th>\n",
              "      <th>city08U</th>\n",
              "      <th>cityA08</th>\n",
              "      <th>cityA08U</th>\n",
              "      <th>cityCD</th>\n",
              "      <th>cityE</th>\n",
              "      <th>cityUF</th>\n",
              "      <th>co2</th>\n",
              "      <th>co2A</th>\n",
              "      <th>co2TailpipeAGpm</th>\n",
              "      <th>co2TailpipeGpm</th>\n",
              "      <th>comb08</th>\n",
              "      <th>comb08U</th>\n",
              "      <th>combA08</th>\n",
              "      <th>combA08U</th>\n",
              "      <th>combE</th>\n",
              "      <th>combinedCD</th>\n",
              "      <th>combinedUF</th>\n",
              "      <th>cylinders</th>\n",
              "      <th>displ</th>\n",
              "      <th>drive</th>\n",
              "      <th>engId</th>\n",
              "      <th>eng_dscr</th>\n",
              "      <th>feScore</th>\n",
              "      <th>fuelCost08</th>\n",
              "      <th>fuelCostA08</th>\n",
              "      <th>fuelType</th>\n",
              "      <th>fuelType1</th>\n",
              "      <th>ghgScore</th>\n",
              "      <th>ghgScoreA</th>\n",
              "      <th>highway08</th>\n",
              "      <th>highway08U</th>\n",
              "      <th>highwayA08</th>\n",
              "      <th>highwayA08U</th>\n",
              "      <th>highwayCD</th>\n",
              "      <th>highwayE</th>\n",
              "      <th>...</th>\n",
              "      <th>id</th>\n",
              "      <th>lv2</th>\n",
              "      <th>lv4</th>\n",
              "      <th>make</th>\n",
              "      <th>model</th>\n",
              "      <th>mpgData</th>\n",
              "      <th>phevBlended</th>\n",
              "      <th>pv2</th>\n",
              "      <th>pv4</th>\n",
              "      <th>range</th>\n",
              "      <th>rangeCity</th>\n",
              "      <th>rangeCityA</th>\n",
              "      <th>rangeHwy</th>\n",
              "      <th>rangeHwyA</th>\n",
              "      <th>trany</th>\n",
              "      <th>UCity</th>\n",
              "      <th>UCityA</th>\n",
              "      <th>UHighway</th>\n",
              "      <th>UHighwayA</th>\n",
              "      <th>VClass</th>\n",
              "      <th>year</th>\n",
              "      <th>youSaveSpend</th>\n",
              "      <th>guzzler</th>\n",
              "      <th>trans_dscr</th>\n",
              "      <th>tCharger</th>\n",
              "      <th>sCharger</th>\n",
              "      <th>atvType</th>\n",
              "      <th>fuelType2</th>\n",
              "      <th>rangeA</th>\n",
              "      <th>evMotor</th>\n",
              "      <th>mfrCode</th>\n",
              "      <th>c240Dscr</th>\n",
              "      <th>charge240b</th>\n",
              "      <th>c240bDscr</th>\n",
              "      <th>createdOn</th>\n",
              "      <th>modifiedOn</th>\n",
              "      <th>startStop</th>\n",
              "      <th>phevCity</th>\n",
              "      <th>phevHwy</th>\n",
              "      <th>phevComb</th>\n",
              "    </tr>\n",
              "  </thead>\n",
              "  <tbody>\n",
              "    <tr>\n",
              "      <th>0</th>\n",
              "      <td>15.695714</td>\n",
              "      <td>0.0</td>\n",
              "      <td>0.0</td>\n",
              "      <td>0.0</td>\n",
              "      <td>19</td>\n",
              "      <td>0.0</td>\n",
              "      <td>0</td>\n",
              "      <td>0.0</td>\n",
              "      <td>0.0</td>\n",
              "      <td>0.0</td>\n",
              "      <td>0.0</td>\n",
              "      <td>-1</td>\n",
              "      <td>-1</td>\n",
              "      <td>0.0</td>\n",
              "      <td>423.190476</td>\n",
              "      <td>21</td>\n",
              "      <td>0.0</td>\n",
              "      <td>0</td>\n",
              "      <td>0.0</td>\n",
              "      <td>0.0</td>\n",
              "      <td>0.0</td>\n",
              "      <td>0.0</td>\n",
              "      <td>4.0</td>\n",
              "      <td>2.0</td>\n",
              "      <td>Rear-Wheel Drive</td>\n",
              "      <td>9011</td>\n",
              "      <td>(FFS)</td>\n",
              "      <td>-1</td>\n",
              "      <td>1600</td>\n",
              "      <td>0</td>\n",
              "      <td>Regular</td>\n",
              "      <td>Regular Gasoline</td>\n",
              "      <td>-1</td>\n",
              "      <td>-1</td>\n",
              "      <td>25</td>\n",
              "      <td>0.0</td>\n",
              "      <td>0</td>\n",
              "      <td>0.0</td>\n",
              "      <td>0.0</td>\n",
              "      <td>0.0</td>\n",
              "      <td>...</td>\n",
              "      <td>1</td>\n",
              "      <td>0</td>\n",
              "      <td>0</td>\n",
              "      <td>Alfa Romeo</td>\n",
              "      <td>Spider Veloce 2000</td>\n",
              "      <td>Y</td>\n",
              "      <td>False</td>\n",
              "      <td>0</td>\n",
              "      <td>0</td>\n",
              "      <td>0</td>\n",
              "      <td>0.0</td>\n",
              "      <td>0.0</td>\n",
              "      <td>0.0</td>\n",
              "      <td>0.0</td>\n",
              "      <td>Manual 5-spd</td>\n",
              "      <td>23.3333</td>\n",
              "      <td>0.0</td>\n",
              "      <td>35.0</td>\n",
              "      <td>0.0</td>\n",
              "      <td>Two Seaters</td>\n",
              "      <td>1985</td>\n",
              "      <td>-1250</td>\n",
              "      <td>NaN</td>\n",
              "      <td>NaN</td>\n",
              "      <td>NaN</td>\n",
              "      <td>NaN</td>\n",
              "      <td>NaN</td>\n",
              "      <td>NaN</td>\n",
              "      <td>NaN</td>\n",
              "      <td>NaN</td>\n",
              "      <td>NaN</td>\n",
              "      <td>NaN</td>\n",
              "      <td>0.0</td>\n",
              "      <td>NaN</td>\n",
              "      <td>Tue Jan 01 00:00:00 EST 2013</td>\n",
              "      <td>Tue Jan 01 00:00:00 EST 2013</td>\n",
              "      <td>NaN</td>\n",
              "      <td>0</td>\n",
              "      <td>0</td>\n",
              "      <td>0</td>\n",
              "    </tr>\n",
              "    <tr>\n",
              "      <th>1</th>\n",
              "      <td>29.964545</td>\n",
              "      <td>0.0</td>\n",
              "      <td>0.0</td>\n",
              "      <td>0.0</td>\n",
              "      <td>9</td>\n",
              "      <td>0.0</td>\n",
              "      <td>0</td>\n",
              "      <td>0.0</td>\n",
              "      <td>0.0</td>\n",
              "      <td>0.0</td>\n",
              "      <td>0.0</td>\n",
              "      <td>-1</td>\n",
              "      <td>-1</td>\n",
              "      <td>0.0</td>\n",
              "      <td>807.909091</td>\n",
              "      <td>11</td>\n",
              "      <td>0.0</td>\n",
              "      <td>0</td>\n",
              "      <td>0.0</td>\n",
              "      <td>0.0</td>\n",
              "      <td>0.0</td>\n",
              "      <td>0.0</td>\n",
              "      <td>12.0</td>\n",
              "      <td>4.9</td>\n",
              "      <td>Rear-Wheel Drive</td>\n",
              "      <td>22020</td>\n",
              "      <td>(GUZZLER)</td>\n",
              "      <td>-1</td>\n",
              "      <td>3050</td>\n",
              "      <td>0</td>\n",
              "      <td>Regular</td>\n",
              "      <td>Regular Gasoline</td>\n",
              "      <td>-1</td>\n",
              "      <td>-1</td>\n",
              "      <td>14</td>\n",
              "      <td>0.0</td>\n",
              "      <td>0</td>\n",
              "      <td>0.0</td>\n",
              "      <td>0.0</td>\n",
              "      <td>0.0</td>\n",
              "      <td>...</td>\n",
              "      <td>10</td>\n",
              "      <td>0</td>\n",
              "      <td>0</td>\n",
              "      <td>Ferrari</td>\n",
              "      <td>Testarossa</td>\n",
              "      <td>N</td>\n",
              "      <td>False</td>\n",
              "      <td>0</td>\n",
              "      <td>0</td>\n",
              "      <td>0</td>\n",
              "      <td>0.0</td>\n",
              "      <td>0.0</td>\n",
              "      <td>0.0</td>\n",
              "      <td>0.0</td>\n",
              "      <td>Manual 5-spd</td>\n",
              "      <td>11.0000</td>\n",
              "      <td>0.0</td>\n",
              "      <td>19.0</td>\n",
              "      <td>0.0</td>\n",
              "      <td>Two Seaters</td>\n",
              "      <td>1985</td>\n",
              "      <td>-8500</td>\n",
              "      <td>T</td>\n",
              "      <td>NaN</td>\n",
              "      <td>NaN</td>\n",
              "      <td>NaN</td>\n",
              "      <td>NaN</td>\n",
              "      <td>NaN</td>\n",
              "      <td>NaN</td>\n",
              "      <td>NaN</td>\n",
              "      <td>NaN</td>\n",
              "      <td>NaN</td>\n",
              "      <td>0.0</td>\n",
              "      <td>NaN</td>\n",
              "      <td>Tue Jan 01 00:00:00 EST 2013</td>\n",
              "      <td>Tue Jan 01 00:00:00 EST 2013</td>\n",
              "      <td>NaN</td>\n",
              "      <td>0</td>\n",
              "      <td>0</td>\n",
              "      <td>0</td>\n",
              "    </tr>\n",
              "  </tbody>\n",
              "</table>\n",
              "<p>2 rows × 83 columns</p>\n",
              "</div>"
            ],
            "text/plain": [
              "   barrels08  barrelsA08  charge120  ...  phevCity  phevHwy  phevComb\n",
              "0  15.695714         0.0        0.0  ...         0        0         0\n",
              "1  29.964545         0.0        0.0  ...         0        0         0\n",
              "\n",
              "[2 rows x 83 columns]"
            ]
          },
          "metadata": {
            "tags": []
          },
          "execution_count": 32
        }
      ]
    },
    {
      "cell_type": "code",
      "metadata": {
        "id": "fj6WOXzKIUIM"
      },
      "source": [
        "null_cols = data_sucio.isnull().sum()"
      ],
      "execution_count": null,
      "outputs": []
    },
    {
      "cell_type": "code",
      "metadata": {
        "colab": {
          "base_uri": "https://localhost:8080/"
        },
        "id": "VzNs-HYJJDEP",
        "outputId": "5922738c-2044-4816-e2dc-8b03149be882"
      },
      "source": [
        " null_cols[null_cols > 10000].index"
      ],
      "execution_count": null,
      "outputs": [
        {
          "output_type": "execute_result",
          "data": {
            "text/plain": [
              "Index(['eng_dscr', 'guzzler', 'trans_dscr', 'tCharger', 'sCharger', 'atvType',\n",
              "       'fuelType2', 'rangeA', 'evMotor', 'mfrCode', 'c240Dscr', 'c240bDscr',\n",
              "       'startStop'],\n",
              "      dtype='object')"
            ]
          },
          "metadata": {
            "tags": []
          },
          "execution_count": 37
        }
      ]
    },
    {
      "cell_type": "code",
      "metadata": {
        "id": "BvDWX0fYHdWk"
      },
      "source": [
        "def tratamiento_nulos(df):\n",
        "  df_null = df.copy()\n",
        "  columnas_no_mover = ['displ', 'cylinders', 'drive', 'trany']\n",
        "  null_cols = df_null.isnull().sum()\n",
        "  null_cols.drop(columnas_no_mover, inplace=True)\n",
        "\n",
        "  columns_to_drop = list(null_cols[null_cols > 10000].index)\n",
        "  df_null = df_null.drop(columns_to_drop, axis = 1)\n",
        "\n",
        "  for col in columnas_no_mover:\n",
        "    if col in ['displ','cylinders']:\n",
        "      df_null[col] = df_null[col].fillna(0)\n",
        "    elif col == 'drive':\n",
        "      df_null[col] = df_null[col].fillna('Front-Wheel Drive')\n",
        "    else:\n",
        "      df_null[col] = df_null[col].fillna('Manual')\n",
        "      \n",
        "  return df_null\n",
        "  \n"
      ],
      "execution_count": null,
      "outputs": []
    },
    {
      "cell_type": "code",
      "metadata": {
        "id": "p6rK-vVvHc36"
      },
      "source": [
        "def low_variance(df):\n",
        "  df_lv = df.copy()\n",
        "  low_variance = []\n",
        "\n",
        "  for col in df_lv._get_numeric_data():\n",
        "    minimum = min(df_lv[col])\n",
        "    noventa_perc = np.percentile(df_lv[col],90)\n",
        "    if noventa_perc == minimum:\n",
        "      low_variance.append(col)\n",
        "  \n",
        "  df_lv = df_lv.drop(low_variance, axis = 1)\n",
        "\n",
        "  return df_lv\n",
        "\n",
        "\n"
      ],
      "execution_count": null,
      "outputs": []
    },
    {
      "cell_type": "code",
      "metadata": {
        "id": "o7L6oWhhPKSX"
      },
      "source": [
        "def final_shape(df):\n",
        "  df_clean = df.copy()\n",
        "\n",
        "  columnas_a_seleccionar = ['make', 'model', 'year', 'displ', 'cylinders',\n",
        "                  'trany', 'drive', 'VClass','fuelType','barrels08',\n",
        "                  'city08', 'highway08', 'comb08', 'co2TailpipeGpm', 'fuelCost08']\n",
        "\n",
        "  df_clean = df_clean[columnas_a_seleccionar].drop_duplicates()\n",
        "  \n",
        "  df_clean.columns = ['fabricante', 'model', 'year', 'displ', 'cilindraje',\n",
        "                  'traccion', 'drive', 'VClass','fuelType','barrels08',\n",
        "                  'city08', 'highway08', 'Combined MPG', 'co2TailpipeGpm', 'fuelCost08']\n",
        "\n",
        "  column_order = ['year','fabricante', 'model','traccion', 'displ', 'cilindraje',\n",
        "                   'drive', 'VClass','fuelType','barrels08',\n",
        "                  'city08', 'highway08', 'Combined MPG', 'co2TailpipeGpm', 'fuelCost08']\n",
        "\n",
        "  df_clean = df_clean[column_order]\n",
        "\n",
        "  cortes = [7,14,21,23,30,40]\n",
        "  mpg_labels = [\"Muy bajo\",\"bajo\",\"Moderado\",\"Alto\",\"Muy alto\"]\n",
        "  df_clean[\"Etiquetas MPG\"] = pd.cut(df_clean['Combined MPG'],cortes, labels = mpg_labels)\n",
        "\n",
        "  avg_mpg = df_clean.groupby('fabricante',as_index = False).agg({'Combined MPG':'mean'})\n",
        "  \n",
        "  df_clean = pd.merge(df_clean, avg_mpg, on='fabricante')\n",
        "\n",
        "  return df_clean"
      ],
      "execution_count": null,
      "outputs": []
    },
    {
      "cell_type": "code",
      "metadata": {
        "id": "riwjVr22WLT9"
      },
      "source": [
        "def preparacion_df_limpio(path):\n",
        "  df = pd.read_csv('/content/drive/MyDrive/Databases/Week 7/vehicles_messy.csv')\n",
        "  print('Dataset Cargado')\n",
        "\n",
        "  df_null = tratamiento_nulos(df)\n",
        "  print('Nulos borrados :D')\n",
        "\n",
        "  df_lv = low_variance(df_null)\n",
        "  print('Adiós varianza baja')\n",
        "  \n",
        "  df_clean = final_shape(df_lv)\n",
        "  print('Listo el final')\n",
        "\n",
        "  df_clean.to_csv(path)\n",
        "  \n",
        "  return df_clean\n"
      ],
      "execution_count": null,
      "outputs": []
    },
    {
      "cell_type": "code",
      "metadata": {
        "colab": {
          "base_uri": "https://localhost:8080/"
        },
        "id": "6LaOoYDHYEDJ",
        "outputId": "8935e5a2-888a-49d5-a195-3ae68ee17339"
      },
      "source": [
        "mi_df_bonito = preparacion_df_limpio('./dataset_al100.csv')"
      ],
      "execution_count": null,
      "outputs": [
        {
          "output_type": "stream",
          "text": [
            "/usr/local/lib/python3.7/dist-packages/IPython/core/interactiveshell.py:2822: DtypeWarning: Columns (70,71,72,73,74,76,79) have mixed types.Specify dtype option on import or set low_memory=False.\n",
            "  if self.run_code(code, result):\n"
          ],
          "name": "stderr"
        },
        {
          "output_type": "stream",
          "text": [
            "Dataset Cargado\n",
            "Nulos borrados :D\n",
            "Adiós varianza baja\n",
            "Listo el final\n"
          ],
          "name": "stdout"
        }
      ]
    },
    {
      "cell_type": "code",
      "metadata": {
        "id": "OxvYo2plbhUW",
        "colab": {
          "base_uri": "https://localhost:8080/",
          "height": 302
        },
        "outputId": "d70e4cca-4d2d-492c-d224-158024f26757"
      },
      "source": [
        "mi_df_bonito.head()"
      ],
      "execution_count": null,
      "outputs": [
        {
          "output_type": "execute_result",
          "data": {
            "text/html": [
              "<div>\n",
              "<style scoped>\n",
              "    .dataframe tbody tr th:only-of-type {\n",
              "        vertical-align: middle;\n",
              "    }\n",
              "\n",
              "    .dataframe tbody tr th {\n",
              "        vertical-align: top;\n",
              "    }\n",
              "\n",
              "    .dataframe thead th {\n",
              "        text-align: right;\n",
              "    }\n",
              "</style>\n",
              "<table border=\"1\" class=\"dataframe\">\n",
              "  <thead>\n",
              "    <tr style=\"text-align: right;\">\n",
              "      <th></th>\n",
              "      <th>year</th>\n",
              "      <th>fabricante</th>\n",
              "      <th>model</th>\n",
              "      <th>traccion</th>\n",
              "      <th>displ</th>\n",
              "      <th>cilindraje</th>\n",
              "      <th>drive</th>\n",
              "      <th>VClass</th>\n",
              "      <th>fuelType</th>\n",
              "      <th>barrels08</th>\n",
              "      <th>city08</th>\n",
              "      <th>highway08</th>\n",
              "      <th>Combined MPG_x</th>\n",
              "      <th>co2TailpipeGpm</th>\n",
              "      <th>fuelCost08</th>\n",
              "      <th>Etiquetas MPG</th>\n",
              "      <th>Combined MPG_y</th>\n",
              "    </tr>\n",
              "  </thead>\n",
              "  <tbody>\n",
              "    <tr>\n",
              "      <th>0</th>\n",
              "      <td>1985</td>\n",
              "      <td>Alfa Romeo</td>\n",
              "      <td>Spider Veloce 2000</td>\n",
              "      <td>Manual 5-spd</td>\n",
              "      <td>2.0</td>\n",
              "      <td>4.0</td>\n",
              "      <td>Rear-Wheel Drive</td>\n",
              "      <td>Two Seaters</td>\n",
              "      <td>Regular</td>\n",
              "      <td>15.695714</td>\n",
              "      <td>19</td>\n",
              "      <td>25</td>\n",
              "      <td>21</td>\n",
              "      <td>423.190476</td>\n",
              "      <td>1600</td>\n",
              "      <td>bajo</td>\n",
              "      <td>19.55814</td>\n",
              "    </tr>\n",
              "    <tr>\n",
              "      <th>1</th>\n",
              "      <td>1994</td>\n",
              "      <td>Alfa Romeo</td>\n",
              "      <td>Spider</td>\n",
              "      <td>Manual 5-spd</td>\n",
              "      <td>2.0</td>\n",
              "      <td>4.0</td>\n",
              "      <td>Rear-Wheel Drive</td>\n",
              "      <td>Two Seaters</td>\n",
              "      <td>Premium</td>\n",
              "      <td>14.982273</td>\n",
              "      <td>19</td>\n",
              "      <td>27</td>\n",
              "      <td>22</td>\n",
              "      <td>403.954545</td>\n",
              "      <td>1850</td>\n",
              "      <td>Moderado</td>\n",
              "      <td>19.55814</td>\n",
              "    </tr>\n",
              "    <tr>\n",
              "      <th>2</th>\n",
              "      <td>1994</td>\n",
              "      <td>Alfa Romeo</td>\n",
              "      <td>164</td>\n",
              "      <td>Automatic 4-spd</td>\n",
              "      <td>3.0</td>\n",
              "      <td>6.0</td>\n",
              "      <td>Front-Wheel Drive</td>\n",
              "      <td>Compact Cars</td>\n",
              "      <td>Premium</td>\n",
              "      <td>20.600625</td>\n",
              "      <td>14</td>\n",
              "      <td>20</td>\n",
              "      <td>16</td>\n",
              "      <td>555.437500</td>\n",
              "      <td>2550</td>\n",
              "      <td>bajo</td>\n",
              "      <td>19.55814</td>\n",
              "    </tr>\n",
              "    <tr>\n",
              "      <th>3</th>\n",
              "      <td>1994</td>\n",
              "      <td>Alfa Romeo</td>\n",
              "      <td>164</td>\n",
              "      <td>Manual 5-spd</td>\n",
              "      <td>3.0</td>\n",
              "      <td>6.0</td>\n",
              "      <td>Front-Wheel Drive</td>\n",
              "      <td>Compact Cars</td>\n",
              "      <td>Premium</td>\n",
              "      <td>18.311667</td>\n",
              "      <td>15</td>\n",
              "      <td>22</td>\n",
              "      <td>18</td>\n",
              "      <td>493.722222</td>\n",
              "      <td>2250</td>\n",
              "      <td>bajo</td>\n",
              "      <td>19.55814</td>\n",
              "    </tr>\n",
              "    <tr>\n",
              "      <th>4</th>\n",
              "      <td>1995</td>\n",
              "      <td>Alfa Romeo</td>\n",
              "      <td>164</td>\n",
              "      <td>Automatic 4-spd</td>\n",
              "      <td>3.0</td>\n",
              "      <td>6.0</td>\n",
              "      <td>Front-Wheel Drive</td>\n",
              "      <td>Compact Cars</td>\n",
              "      <td>Premium</td>\n",
              "      <td>20.600625</td>\n",
              "      <td>14</td>\n",
              "      <td>20</td>\n",
              "      <td>16</td>\n",
              "      <td>555.437500</td>\n",
              "      <td>2550</td>\n",
              "      <td>bajo</td>\n",
              "      <td>19.55814</td>\n",
              "    </tr>\n",
              "  </tbody>\n",
              "</table>\n",
              "</div>"
            ],
            "text/plain": [
              "   year  fabricante  ... Etiquetas MPG Combined MPG_y\n",
              "0  1985  Alfa Romeo  ...          bajo       19.55814\n",
              "1  1994  Alfa Romeo  ...      Moderado       19.55814\n",
              "2  1994  Alfa Romeo  ...          bajo       19.55814\n",
              "3  1994  Alfa Romeo  ...          bajo       19.55814\n",
              "4  1995  Alfa Romeo  ...          bajo       19.55814\n",
              "\n",
              "[5 rows x 17 columns]"
            ]
          },
          "metadata": {
            "tags": []
          },
          "execution_count": 52
        }
      ]
    }
  ]
}