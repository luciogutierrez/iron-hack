{
 "metadata": {
  "language_info": {
   "codemirror_mode": {
    "name": "ipython",
    "version": 3
   },
   "file_extension": ".py",
   "mimetype": "text/x-python",
   "name": "python",
   "nbconvert_exporter": "python",
   "pygments_lexer": "ipython3",
   "version": "3.9.1"
  },
  "orig_nbformat": 2,
  "kernelspec": {
   "name": "python391jvsc74a57bd0376f5b0795f81aa7b5d99e448d6274743a66c9892fd26cf11e505993f41df5fa",
   "display_name": "Python 3.9.1 64-bit"
  }
 },
 "nbformat": 4,
 "nbformat_minor": 2,
 "cells": [
  {
   "source": [
    "# List Comprehension"
   ],
   "cell_type": "markdown",
   "metadata": {}
  },
  {
   "source": [
    "** Unpacking **"
   ],
   "cell_type": "markdown",
   "metadata": {}
  },
  {
   "cell_type": "code",
   "execution_count": 3,
   "metadata": {},
   "outputs": [
    {
     "output_type": "execute_result",
     "data": {
      "text/plain": [
       "[1, 2]"
      ]
     },
     "metadata": {},
     "execution_count": 3
    }
   ],
   "source": [
    "variable = [1,2]\n",
    "variable"
   ]
  },
  {
   "cell_type": "code",
   "execution_count": 7,
   "metadata": {},
   "outputs": [
    {
     "output_type": "stream",
     "name": "stdout",
     "text": [
      "1\n2\n"
     ]
    }
   ],
   "source": [
    "a, b = 1, 2\n",
    "print(a)\n",
    "print(b)"
   ]
  },
  {
   "cell_type": "code",
   "execution_count": 9,
   "metadata": {},
   "outputs": [
    {
     "output_type": "stream",
     "name": "stdout",
     "text": [
      "1\n2\n"
     ]
    }
   ],
   "source": [
    "a, b = [1, 2]\n",
    "print(a)\n",
    "print(b)"
   ]
  },
  {
   "cell_type": "code",
   "execution_count": 10,
   "metadata": {},
   "outputs": [
    {
     "output_type": "stream",
     "name": "stdout",
     "text": [
      "1\n2\n"
     ]
    }
   ],
   "source": [
    "a, b = (1, 2)\n",
    "print(a)\n",
    "print(b)"
   ]
  },
  {
   "cell_type": "code",
   "execution_count": 13,
   "metadata": {},
   "outputs": [
    {
     "output_type": "stream",
     "name": "stdout",
     "text": [
      "uno\ndos\ntres\n"
     ]
    }
   ],
   "source": [
    "num_dict = {'uno':1, 'dos':2, 'tres':3}\n",
    "a, b, c = num_dict\n",
    "print(a)\n",
    "print(b)\n",
    "print(c)\n"
   ]
  },
  {
   "cell_type": "code",
   "execution_count": 14,
   "metadata": {},
   "outputs": [
    {
     "output_type": "stream",
     "name": "stdout",
     "text": [
      "1\n2\n3\n"
     ]
    }
   ],
   "source": [
    "num_dict = {'uno':1, 'dos':2, 'tres':3}\n",
    "a, b, c = num_dict.values()\n",
    "print(a)\n",
    "print(b)\n",
    "print(c)\n"
   ]
  },
  {
   "cell_type": "code",
   "execution_count": 15,
   "metadata": {},
   "outputs": [
    {
     "output_type": "stream",
     "name": "stdout",
     "text": [
      "('uno', 1)\n('dos', 2)\n('tres', 3)\n"
     ]
    }
   ],
   "source": [
    "num_dict = {'uno':1, 'dos':2, 'tres':3}\n",
    "a, b, c = num_dict.items()\n",
    "print(a)\n",
    "print(b)\n",
    "print(c)\n"
   ]
  },
  {
   "cell_type": "code",
   "execution_count": 16,
   "metadata": {},
   "outputs": [
    {
     "output_type": "stream",
     "name": "stdout",
     "text": [
      "0\n1\n2\n"
     ]
    }
   ],
   "source": [
    "a, b, c = range(3)\n",
    "print(a)\n",
    "print(b)\n",
    "print(c)\n"
   ]
  },
  {
   "cell_type": "code",
   "execution_count": 18,
   "metadata": {},
   "outputs": [
    {
     "output_type": "stream",
     "name": "stdout",
     "text": [
      "a = 1 b=0\na = 0 b=1\n"
     ]
    }
   ],
   "source": [
    "print( f'a = {a}', f'b={b}')\n",
    "a, b = b, a\n",
    "print( f'a = {a}', f'b={b}')"
   ]
  },
  {
   "cell_type": "code",
   "execution_count": 21,
   "metadata": {},
   "outputs": [
    {
     "output_type": "stream",
     "name": "stdout",
     "text": [
      "[1, 1, 2, 3, 5, 8, 13, 21, 34, 55]\n"
     ]
    }
   ],
   "source": [
    "# creación de lista fibonacci\n",
    "a = 0\n",
    "b = 1\n",
    "lista = []\n",
    "for i in range(10):\n",
    "    a, b = b, b + a\n",
    "    lista.append(a)\n",
    "print(lista)\n"
   ]
  },
  {
   "source": [
    "# List Comprehension"
   ],
   "cell_type": "markdown",
   "metadata": {}
  },
  {
   "cell_type": "code",
   "execution_count": 23,
   "metadata": {},
   "outputs": [
    {
     "output_type": "stream",
     "name": "stdout",
     "text": [
      "CDMX\nEdo. Mex\nPuebla\nYcatan\n"
     ]
    }
   ],
   "source": [
    "edos = ['CDMX','Edo. Mex','Puebla','Ycatan']\n",
    "\n",
    "for i in edos:\n",
    "    print(i)\n"
   ]
  },
  {
   "cell_type": "code",
   "execution_count": 24,
   "metadata": {},
   "outputs": [
    {
     "output_type": "stream",
     "name": "stdout",
     "text": [
      "CDMX\nEdo. Mex\nPuebla\nYcatan\n"
     ]
    }
   ],
   "source": [
    "# no es la mejor practica\n",
    "for i in range(len(edos)):\n",
    "    print(edos[i])"
   ]
  },
  {
   "cell_type": "code",
   "execution_count": 25,
   "metadata": {},
   "outputs": [
    {
     "output_type": "stream",
     "name": "stdout",
     "text": [
      "0 CDMX\n1 Edo. Mex\n2 Puebla\n3 Ycatan\n"
     ]
    }
   ],
   "source": [
    "# enumerate regresa el indice y el nombre del item\n",
    "edos = ['CDMX','Edo. Mex','Puebla','Ycatan']\n",
    "for indice, estado in enumerate(edos):\n",
    "    print(indice, estado)"
   ]
  },
  {
   "cell_type": "code",
   "execution_count": 26,
   "metadata": {},
   "outputs": [
    {
     "output_type": "stream",
     "name": "stdout",
     "text": [
      "10 CDMX\n11 Edo. Mex\n12 Puebla\n13 Ycatan\n"
     ]
    }
   ],
   "source": [
    "# enumerate regresa el indice y el nombre del item\n",
    "edos = ['CDMX','Edo. Mex','Puebla','Ycatan']\n",
    "for indice, estado in enumerate(edos, start=10):\n",
    "    print(indice, estado)"
   ]
  },
  {
   "cell_type": "code",
   "execution_count": 34,
   "metadata": {},
   "outputs": [
    {
     "output_type": "stream",
     "name": "stdout",
     "text": [
      "CDMX 5M\nEdo. Mex 10M\nPuebla 2M\nHidalgo 1M\nYcatan 4M\nJalisco 1M\n"
     ]
    }
   ],
   "source": [
    "# enumerate regresa el indice y el nombre del item\n",
    "edos = ['CDMX','Edo. Mex','Puebla','Hidalgo','Ycatan','Jalisco']\n",
    "poblacion = [5, 10, 2, 1,4,1]\n",
    "\n",
    "for i in range(len(edos)):\n",
    "    print(edos[i],str(poblacion[i])+'M')\n",
    "\n"
   ]
  },
  {
   "cell_type": "code",
   "execution_count": 37,
   "metadata": {},
   "outputs": [
    {
     "output_type": "stream",
     "name": "stdout",
     "text": [
      "CDMX 5M\nEdo. Mex 10M\nPuebla 2M\nHidalgo 1M\nYcatan 4M\nJalisco 1M\n"
     ]
    }
   ],
   "source": [
    "# empacarlos en zip\n",
    "edos = ['CDMX','Edo. Mex','Puebla','Hidalgo','Ycatan','Jalisco']\n",
    "poblacion = [5, 10, 2, 1,4,1]\n",
    "\n",
    "for edo, pob in zip(edos, poblacion):\n",
    "    print(edo,str(pob)+'M')\n"
   ]
  },
  {
   "cell_type": "code",
   "execution_count": 38,
   "metadata": {},
   "outputs": [
    {
     "output_type": "stream",
     "name": "stdout",
     "text": [
      "CDMX 5M 100\nEdo. Mex 10M 200\nPuebla 2M 300\nHidalgo 1M 200\nYcatan 4M 100\n"
     ]
    }
   ],
   "source": [
    "# empacarlos en zip\n",
    "edos = ['CDMX','Edo. Mex','Puebla','Hidalgo','Ycatan','Jalisco']\n",
    "poblacion = [5, 10, 2, 1,4,1]\n",
    "metros = [100, 200, 300, 200, 100]\n",
    "\n",
    "for edo, pob, met in zip(edos, poblacion, metros):\n",
    "    print(edo,str(pob)+'M', met)\n"
   ]
  },
  {
   "cell_type": "code",
   "execution_count": 41,
   "metadata": {},
   "outputs": [
    {
     "output_type": "stream",
     "name": "stdout",
     "text": [
      "[('CDMX', 5), ('Edo. Mex', 10), ('Puebla', 2), ('Hidalgo', 1), ('Ycatan', 4), ('Jalisco', 1)]\n"
     ]
    }
   ],
   "source": [
    "edo_pob = [(edo, pob) for edo, pob in zip(edos, poblacion)]\n",
    "print(edo_pob)"
   ]
  },
  {
   "cell_type": "code",
   "execution_count": 42,
   "metadata": {},
   "outputs": [
    {
     "output_type": "stream",
     "name": "stdout",
     "text": [
      "Wall time: 2.19 s\n"
     ]
    }
   ],
   "source": [
    "# el tiempo de los list comprehension es mucho mas rapido que un for simple\n",
    "%%time\n",
    "a=[]\n",
    "for x in range(10000000):\n",
    "    a.append(x)\n"
   ]
  },
  {
   "cell_type": "code",
   "execution_count": 43,
   "metadata": {},
   "outputs": [
    {
     "output_type": "stream",
     "name": "stdout",
     "text": [
      "Wall time: 1.18 s\n"
     ]
    }
   ],
   "source": [
    "# el tiempo de los list comprehension es mucho mas rapido que un for simple\n",
    "%%time\n",
    "a = [x for x in range(10000000)]\n"
   ]
  },
  {
   "cell_type": "code",
   "execution_count": 44,
   "metadata": {},
   "outputs": [
    {
     "output_type": "stream",
     "name": "stdout",
     "text": [
      "[0, 2, 4, 6, 8]\n"
     ]
    }
   ],
   "source": [
    "lista = []\n",
    "for i in range(0, 10, 2):\n",
    "    lista.append(i)\n",
    "print(lista)    "
   ]
  },
  {
   "cell_type": "code",
   "execution_count": 45,
   "metadata": {},
   "outputs": [
    {
     "output_type": "execute_result",
     "data": {
      "text/plain": [
       "[0, 2, 4, 6, 8]"
      ]
     },
     "metadata": {},
     "execution_count": 45
    }
   ],
   "source": [
    "lista = [i for i in range(0, 10, 2)]\n",
    "lista"
   ]
  },
  {
   "cell_type": "code",
   "execution_count": 48,
   "metadata": {},
   "outputs": [
    {
     "output_type": "stream",
     "name": "stdout",
     "text": [
      "[0, 2, 4, 6, 8, 10, 12, 14, 16, 18, 20, 22, 24, 26, 28, 30, 32, 34, 36, 38, 40, 42, 44, 46, 48, 50, 52, 54, 56, 58, 60, 62, 64, 66, 68, 70, 72, 74, 76, 78, 80, 82, 84, 86, 88, 90, 92, 94, 96, 98]\n"
     ]
    }
   ],
   "source": [
    "super_duper_lista = list()\n",
    "\n",
    "for i in range(100):\n",
    "    if i % 2 == 0:\n",
    "        super_duper_lista.append(i)\n",
    "\n",
    "print(super_duper_lista)"
   ]
  },
  {
   "cell_type": "code",
   "execution_count": 50,
   "metadata": {},
   "outputs": [
    {
     "output_type": "stream",
     "name": "stdout",
     "text": [
      "[0, 2, 4, 6, 8, 10, 12, 14, 16, 18, 20, 22, 24, 26, 28, 30, 32, 34, 36, 38, 40, 42, 44, 46, 48, 50, 52, 54, 56, 58, 60, 62, 64, 66, 68, 70, 72, 74, 76, 78, 80, 82, 84, 86, 88, 90, 92, 94, 96, 98]\n"
     ]
    }
   ],
   "source": [
    "lista = [i for i in range(0, 100) if i % 2 == 0]\n",
    "print(lista)"
   ]
  },
  {
   "cell_type": "code",
   "execution_count": 54,
   "metadata": {},
   "outputs": [
    {
     "output_type": "stream",
     "name": "stdout",
     "text": [
      "[0, 'impar', 2, 'impar', 4, 'impar', 6, 'impar', 8, 'impar', 10, 'impar', 12, 'impar', 14, 'impar', 16, 'impar', 18, 'impar', 20, 'impar', 22, 'impar', 24, 'impar', 26, 'impar', 28, 'impar', 30, 'impar', 32, 'impar', 34, 'impar', 36, 'impar', 38, 'impar', 40, 'impar', 42, 'impar', 44, 'impar', 46, 'impar', 48, 'impar', 50, 'impar', 52, 'impar', 54, 'impar', 56, 'impar', 58, 'impar', 60, 'impar', 62, 'impar', 64, 'impar', 66, 'impar', 68, 'impar', 70, 'impar', 72, 'impar', 74, 'impar', 76, 'impar', 78, 'impar', 80, 'impar', 82, 'impar', 84, 'impar', 86, 'impar', 88, 'impar', 90, 'impar', 92, 'impar', 94, 'impar', 96, 'impar', 98, 'impar']\n"
     ]
    }
   ],
   "source": [
    "lista = [i if i % 2 == 0 else 'impar' for i in range(0, 100)]\n",
    "print(lista)"
   ]
  },
  {
   "cell_type": "code",
   "execution_count": 55,
   "metadata": {},
   "outputs": [
    {
     "output_type": "execute_result",
     "data": {
      "text/plain": [
       "[0, 1, 4, 9, 16]"
      ]
     },
     "metadata": {},
     "execution_count": 55
    }
   ],
   "source": [
    "lista = [n ** 2 for n in range(5)]\n",
    "lista"
   ]
  },
  {
   "cell_type": "code",
   "execution_count": 56,
   "metadata": {},
   "outputs": [
    {
     "output_type": "stream",
     "name": "stdout",
     "text": [
      "[('A', 'A'), ('A', 'B'), ('A', 'C'), ('A', 'D'), ('B', 'B'), ('B', 'C'), ('B', 'D'), ('C', 'C'), ('C', 'D'), ('D', 'D')]\n"
     ]
    }
   ],
   "source": [
    "letras = 'ABCD'\n",
    "\n",
    "pares = []\n",
    "\n",
    "for a in range(len(letras)):\n",
    "    for b in range(a, len(letras)):\n",
    "        pares.append((letras[a], letras[b]))\n",
    "\n",
    "print(pares)"
   ]
  },
  {
   "cell_type": "code",
   "execution_count": 61,
   "metadata": {},
   "outputs": [
    {
     "output_type": "stream",
     "name": "stdout",
     "text": [
      "[('A', 'A'), ('A', 'B'), ('A', 'C'), ('A', 'D'), ('B', 'B'), ('B', 'C'), ('B', 'D'), ('C', 'C'), ('C', 'D'), ('D', 'D')]\n"
     ]
    }
   ],
   "source": [
    "letras = 'ABCD'\n",
    "pares = [(letras[a], letras[b]) for a in range(len(letras)) \n",
    "                                for b in range(a,len(letras))]\n",
    "print(pares)"
   ]
  },
  {
   "cell_type": "code",
   "execution_count": 63,
   "metadata": {},
   "outputs": [
    {
     "output_type": "stream",
     "name": "stdout",
     "text": [
      "[(1, 1, 1.4142135623730951), (1, 2, 2.23606797749979), (1, 3, 3.1622776601683795), (1, 4, 4.123105625617661), (1, 5, 5.0990195135927845), (1, 6, 6.082762530298219), (1, 7, 7.0710678118654755), (1, 8, 8.06225774829855), (1, 9, 9.055385138137417), (2, 2, 2.8284271247461903), (2, 3, 3.605551275463989), (2, 4, 4.47213595499958), (2, 5, 5.385164807134504), (2, 6, 6.324555320336759), (2, 7, 7.280109889280518), (2, 8, 8.246211251235321), (2, 9, 9.219544457292887), (3, 3, 4.242640687119285), (3, 4, 5.0), (3, 5, 5.830951894845301), (3, 6, 6.708203932499369), (3, 7, 7.615773105863909), (3, 8, 8.54400374531753), (3, 9, 9.486832980505138), (4, 4, 5.656854249492381), (4, 5, 6.4031242374328485), (4, 6, 7.211102550927978), (4, 7, 8.06225774829855), (4, 8, 8.94427190999916), (4, 9, 9.848857801796104), (5, 5, 7.0710678118654755), (5, 6, 7.810249675906654), (5, 7, 8.602325267042627), (5, 8, 9.433981132056603), (5, 9, 10.295630140987), (6, 6, 8.48528137423857), (6, 7, 9.219544457292887), (6, 8, 10.0), (6, 9, 10.816653826391969), (7, 7, 9.899494936611665), (7, 8, 10.63014581273465), (7, 9, 11.40175425099138), (8, 8, 11.313708498984761), (8, 9, 12.041594578792296), (9, 9, 12.727922061357855)]\n"
     ]
    }
   ],
   "source": [
    "from math import sqrt\n",
    "mx = 10\n",
    "triples = [(a,b, sqrt(a**2 + b**2))\n",
    "          for a in range(1, mx)\n",
    "          for b in range(a,mx)]\n",
    "print(triples)\n",
    "\n"
   ]
  },
  {
   "cell_type": "code",
   "execution_count": 66,
   "metadata": {},
   "outputs": [
    {
     "output_type": "stream",
     "name": "stdout",
     "text": [
      "[100, 'se paso', 150, 125, 'se paso', 'se paso']\n"
     ]
    }
   ],
   "source": [
    "numeros = [100, 200, 150, 125, 300, 500]\n",
    "numeros_filtrados = [i if i < 200 else 'se paso' for i in numeros]\n",
    "print(numeros_filtrados)\n",
    "\n"
   ]
  },
  {
   "cell_type": "code",
   "execution_count": 68,
   "metadata": {},
   "outputs": [
    {
     "output_type": "stream",
     "name": "stdout",
     "text": [
      "[100, 'se paso', 150, 125, 'se paso', 'se paso']\n"
     ]
    }
   ],
   "source": [
    "def doscientos_para_arriba(numero):\n",
    "    return numero if numero < 200 else 'se paso'\n",
    "\n",
    "numeros = [100, 200, 150, 125, 300, 500]\n",
    "numeros_filtrados = [doscientos_para_arriba(i) for i in numeros]\n",
    "print(numeros_filtrados)"
   ]
  },
  {
   "cell_type": "code",
   "execution_count": 70,
   "metadata": {},
   "outputs": [
    {
     "output_type": "execute_result",
     "data": {
      "text/plain": [
       "[[0, 1, 2, 3, 4, 5, 6],\n",
       " [0, 1, 2, 3, 4, 5, 6],\n",
       " [0, 1, 2, 3, 4, 5, 6],\n",
       " [0, 1, 2, 3, 4, 5, 6],\n",
       " [0, 1, 2, 3, 4, 5, 6]]"
      ]
     },
     "metadata": {},
     "execution_count": 70
    }
   ],
   "source": [
    "matriz = [[i for i in range(7)]\n",
    "             for j in range(5)]\n",
    "matriz"
   ]
  },
  {
   "cell_type": "code",
   "execution_count": 73,
   "metadata": {},
   "outputs": [
    {
     "output_type": "execute_result",
     "data": {
      "text/plain": [
       "[[[0, 1, 2], [0, 1, 2], [0, 1, 2], [0, 1, 2], [0, 1, 2], [0, 1, 2], [0, 1, 2]],\n",
       " [[0, 1, 2], [0, 1, 2], [0, 1, 2], [0, 1, 2], [0, 1, 2], [0, 1, 2], [0, 1, 2]],\n",
       " [[0, 1, 2], [0, 1, 2], [0, 1, 2], [0, 1, 2], [0, 1, 2], [0, 1, 2], [0, 1, 2]],\n",
       " [[0, 1, 2], [0, 1, 2], [0, 1, 2], [0, 1, 2], [0, 1, 2], [0, 1, 2], [0, 1, 2]],\n",
       " [[0, 1, 2], [0, 1, 2], [0, 1, 2], [0, 1, 2], [0, 1, 2], [0, 1, 2], [0, 1, 2]]]"
      ]
     },
     "metadata": {},
     "execution_count": 73
    }
   ],
   "source": [
    "matriz = [[[k for k in range(3)]\n",
    "              for i in range(7)]\n",
    "              for j in range(5)]\n",
    "matriz"
   ]
  },
  {
   "source": [
    "# Dict Comprehension"
   ],
   "cell_type": "markdown",
   "metadata": {}
  },
  {
   "cell_type": "code",
   "execution_count": 74,
   "metadata": {},
   "outputs": [
    {
     "output_type": "stream",
     "name": "stdout",
     "text": [
      "{'a': 1, 'b': 2, 'c': 3, 'd': 4, 'e': 5, 'f': 6, 'g': 7, 'h': 8, 'i': 9, 'j': 10, 'k': 11, 'l': 12, 'm': 13, 'n': 14, 'o': 15, 'p': 16, 'q': 17, 'r': 18, 's': 19, 't': 20, 'u': 21, 'v': 22, 'w': 23, 'x': 24, 'y': 25, 'z': 26}\n"
     ]
    }
   ],
   "source": [
    "from string import ascii_lowercase\n",
    "letter_map = dict((c, k) for k, c in enumerate(ascii_lowercase,1))\n",
    "print(letter_map)\n",
    "\n"
   ]
  },
  {
   "cell_type": "code",
   "execution_count": 76,
   "metadata": {},
   "outputs": [
    {
     "output_type": "stream",
     "name": "stdout",
     "text": [
      "{'I': 'i', 'r': 'R', 'o': 'O', 'n': 'N', 'H': 'h', 'a': 'A', 'c': 'C', 'k': 'K'}\n"
     ]
    }
   ],
   "source": [
    "palabra = \"IronnHackk\"\n",
    "swaps = {letra: letra.swapcase() for letra in palabra }\n",
    "print(swaps)"
   ]
  },
  {
   "cell_type": "code",
   "execution_count": 79,
   "metadata": {},
   "outputs": [
    {
     "output_type": "stream",
     "name": "stdout",
     "text": [
      "['Alejo', 'Irving', 'Sofia', 'Ricardo']\n{'Alejo': [75, 96, 72, 61, 90], 'Irving': [52, 92, 59, 65, 85], 'Sofia': [82, 67, 81, 68, 58], 'Ricardo': [77, 98, 71, 75, 50]}\n"
     ]
    }
   ],
   "source": [
    "import random\n",
    "alumnos = ['Alejo','Irving','Sofia','Ricardo']\n",
    "print(alumnos)\n",
    "\n",
    "calificaciones = {alumno:[random.randrange(50,100) for cali in range(5)]\n",
    "                                                   for alumno in alumnos}\n",
    "print(calificaciones)"
   ]
  },
  {
   "source": [
    "** Set Comprehensions **"
   ],
   "cell_type": "markdown",
   "metadata": {}
  },
  {
   "cell_type": "code",
   "execution_count": 81,
   "metadata": {},
   "outputs": [
    {
     "output_type": "stream",
     "name": "stdout",
     "text": [
      "True\n{'H', 'l', 'e', 'o'}\n{'H', 'l', 'e', 'o'}\n"
     ]
    }
   ],
   "source": [
    "word = 'Hello'\n",
    "letters_1 = set(c for c in word)\n",
    "letters_2 = {c for c in word}\n",
    "\n",
    "print(letters_1 == letters_2)\n",
    "print(letters_1)\n",
    "print(letters_2)\n",
    "\n"
   ]
  },
  {
   "cell_type": "code",
   "execution_count": 83,
   "metadata": {},
   "outputs": [
    {
     "output_type": "stream",
     "name": "stdout",
     "text": [
      "True\n"
     ]
    }
   ],
   "source": [
    "# Sets\n",
    "conjunto = set([1, 2, 3])\n",
    "conjunto2 = {1, 2, 3}\n",
    "print(conjunto == conjunto2)"
   ]
  }
 ]
}