{
 "metadata": {
  "language_info": {
   "codemirror_mode": {
    "name": "ipython",
    "version": 3
   },
   "file_extension": ".py",
   "mimetype": "text/x-python",
   "name": "python",
   "nbconvert_exporter": "python",
   "pygments_lexer": "ipython3",
   "version": "3.9.1"
  },
  "orig_nbformat": 2,
  "kernelspec": {
   "name": "python391jvsc74a57bd0376f5b0795f81aa7b5d99e448d6274743a66c9892fd26cf11e505993f41df5fa",
   "display_name": "Python 3.9.1 64-bit"
  }
 },
 "nbformat": 4,
 "nbformat_minor": 2,
 "cells": [
  {
   "source": [
    "# Programación Funcional"
   ],
   "cell_type": "markdown",
   "metadata": {}
  },
  {
   "cell_type": "code",
   "execution_count": 2,
   "metadata": {},
   "outputs": [
    {
     "output_type": "execute_result",
     "data": {
      "text/plain": [
       "'Join was a man of many talents'"
      ]
     },
     "metadata": {},
     "execution_count": 2
    }
   ],
   "source": [
    "def list2string(lst):\n",
    "    string = ' '.join(lst)\n",
    "    return string\n",
    "\n",
    "to_string = ['Join','was','a','man','of','many','talents']\n",
    "list2string(to_string)"
   ]
  },
  {
   "source": [
    "## Variables globales frente a variables locales"
   ],
   "cell_type": "markdown",
   "metadata": {}
  },
  {
   "cell_type": "code",
   "execution_count": 3,
   "metadata": {},
   "outputs": [
    {
     "output_type": "stream",
     "name": "stdout",
     "text": [
      "9 18\n"
     ]
    }
   ],
   "source": [
    "a=9\n",
    "\n",
    "def multiply(number, multiplier=2):\n",
    "    b = number * multiplier\n",
    "    return b\n",
    "\n",
    "c = multiply(a)\n",
    "print(a, c)\n"
   ]
  },
  {
   "cell_type": "code",
   "execution_count": 4,
   "metadata": {},
   "outputs": [
    {
     "output_type": "error",
     "ename": "NameError",
     "evalue": "name 'b' is not defined",
     "traceback": [
      "\u001b[1;31m---------------------------------------------------------------------------\u001b[0m",
      "\u001b[1;31mNameError\u001b[0m                                 Traceback (most recent call last)",
      "\u001b[1;32m<ipython-input-4-67e500defa1b>\u001b[0m in \u001b[0;36m<module>\u001b[1;34m\u001b[0m\n\u001b[1;32m----> 1\u001b[1;33m \u001b[0mprint\u001b[0m\u001b[1;33m(\u001b[0m\u001b[0mb\u001b[0m\u001b[1;33m)\u001b[0m\u001b[1;33m\u001b[0m\u001b[1;33m\u001b[0m\u001b[0m\n\u001b[0m",
      "\u001b[1;31mNameError\u001b[0m: name 'b' is not defined"
     ]
    }
   ],
   "source": [
    "print(b)"
   ]
  },
  {
   "cell_type": "code",
   "execution_count": 5,
   "metadata": {},
   "outputs": [
    {
     "output_type": "execute_result",
     "data": {
      "text/plain": [
       "500"
      ]
     },
     "metadata": {},
     "execution_count": 5
    }
   ],
   "source": [
    "multiply(100, multiplier=5)"
   ]
  },
  {
   "cell_type": "code",
   "execution_count": 7,
   "metadata": {},
   "outputs": [
    {
     "output_type": "execute_result",
     "data": {
      "text/plain": [
       "                       Column        Mean\n",
       "0                 COMPACTNESS   93.678487\n",
       "1                 CIRCULARITY   44.861702\n",
       "2        DISTANCE_CIRCULARITY   82.088652\n",
       "3                RADIUS_RATIO  168.940898\n",
       "4        PR.AXIS_ASPECT_RATIO   61.693853\n",
       "5     MAX.LENGTH_ASPECT_RATIO    8.567376\n",
       "6               SCATTER_RATIO  168.839243\n",
       "7               ELONGATEDNESS   40.933806\n",
       "8      PR.AXIS_RECTANGULARITY   20.582742\n",
       "9   MAX.LENGTH_RECTANGULARITY  147.998818\n",
       "10      SCALED_VARIANCE_MAJOR  188.625296\n",
       "11      SCALED_VARIANCE_MINOR  439.911348\n",
       "12  SCALED_RADIUS_OF_GYRATION  174.703310\n",
       "13       SKEWNESS_ABOUT_MAJOR   72.462175\n",
       "14       SKEWNESS_ABOUT_MINOR    6.377069\n",
       "15       KURTOSIS_ABOUT_MAJOR   12.599291\n",
       "16       KURTOSIS_ABOUT_MINOR  188.932624\n",
       "17              HOLLOWS_RATIO  195.632388"
      ],
      "text/html": "<div>\n<style scoped>\n    .dataframe tbody tr th:only-of-type {\n        vertical-align: middle;\n    }\n\n    .dataframe tbody tr th {\n        vertical-align: top;\n    }\n\n    .dataframe thead th {\n        text-align: right;\n    }\n</style>\n<table border=\"1\" class=\"dataframe\">\n  <thead>\n    <tr style=\"text-align: right;\">\n      <th></th>\n      <th>Column</th>\n      <th>Mean</th>\n    </tr>\n  </thead>\n  <tbody>\n    <tr>\n      <th>0</th>\n      <td>COMPACTNESS</td>\n      <td>93.678487</td>\n    </tr>\n    <tr>\n      <th>1</th>\n      <td>CIRCULARITY</td>\n      <td>44.861702</td>\n    </tr>\n    <tr>\n      <th>2</th>\n      <td>DISTANCE_CIRCULARITY</td>\n      <td>82.088652</td>\n    </tr>\n    <tr>\n      <th>3</th>\n      <td>RADIUS_RATIO</td>\n      <td>168.940898</td>\n    </tr>\n    <tr>\n      <th>4</th>\n      <td>PR.AXIS_ASPECT_RATIO</td>\n      <td>61.693853</td>\n    </tr>\n    <tr>\n      <th>5</th>\n      <td>MAX.LENGTH_ASPECT_RATIO</td>\n      <td>8.567376</td>\n    </tr>\n    <tr>\n      <th>6</th>\n      <td>SCATTER_RATIO</td>\n      <td>168.839243</td>\n    </tr>\n    <tr>\n      <th>7</th>\n      <td>ELONGATEDNESS</td>\n      <td>40.933806</td>\n    </tr>\n    <tr>\n      <th>8</th>\n      <td>PR.AXIS_RECTANGULARITY</td>\n      <td>20.582742</td>\n    </tr>\n    <tr>\n      <th>9</th>\n      <td>MAX.LENGTH_RECTANGULARITY</td>\n      <td>147.998818</td>\n    </tr>\n    <tr>\n      <th>10</th>\n      <td>SCALED_VARIANCE_MAJOR</td>\n      <td>188.625296</td>\n    </tr>\n    <tr>\n      <th>11</th>\n      <td>SCALED_VARIANCE_MINOR</td>\n      <td>439.911348</td>\n    </tr>\n    <tr>\n      <th>12</th>\n      <td>SCALED_RADIUS_OF_GYRATION</td>\n      <td>174.703310</td>\n    </tr>\n    <tr>\n      <th>13</th>\n      <td>SKEWNESS_ABOUT_MAJOR</td>\n      <td>72.462175</td>\n    </tr>\n    <tr>\n      <th>14</th>\n      <td>SKEWNESS_ABOUT_MINOR</td>\n      <td>6.377069</td>\n    </tr>\n    <tr>\n      <th>15</th>\n      <td>KURTOSIS_ABOUT_MAJOR</td>\n      <td>12.599291</td>\n    </tr>\n    <tr>\n      <th>16</th>\n      <td>KURTOSIS_ABOUT_MINOR</td>\n      <td>188.932624</td>\n    </tr>\n    <tr>\n      <th>17</th>\n      <td>HOLLOWS_RATIO</td>\n      <td>195.632388</td>\n    </tr>\n  </tbody>\n</table>\n</div>"
     },
     "metadata": {},
     "execution_count": 7
    }
   ],
   "source": [
    "import pandas as pd\n",
    "df = pd.read_csv('./vehicles.csv')\n",
    "\n",
    "def get_means(df):\n",
    "    numeric = df._get_numeric_data()\n",
    "    means = pd.DataFrame(numeric.mean()).reset_index()\n",
    "    means.columns = [\"Column\",\"Mean\"]\n",
    "    return means\n",
    "\n",
    "mean_df = get_means(df)\n",
    "mean_df"
   ]
  },
  {
   "cell_type": "code",
   "execution_count": null,
   "metadata": {},
   "outputs": [],
   "source": []
  }
 ]
}