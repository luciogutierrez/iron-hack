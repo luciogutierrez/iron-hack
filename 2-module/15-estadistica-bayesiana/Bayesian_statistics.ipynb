{
  "cells": [
    {
      "cell_type": "markdown",
      "metadata": {
        "id": "gfPdATJtlQWq"
      },
      "source": [
        "### Conceptos básicos"
      ]
    },
    {
      "cell_type": "markdown",
      "metadata": {
        "id": "ZPvm7GdloTuE"
      },
      "source": [
        "La probabilidad de A dado B significa la probabiliad de que pase A una vez que ya sabemos que B pasó, se usa la notación\n",
        "$$P(A|B)=\\frac{P(A\\cap B)}{P(B)}$$\n",
        "Si despejamos podemos obtener $$P(A\\cap B)=P(A|B)P(B)$$\n",
        "$$P(B\\cap A)=P(B|A)P(A)$$\n",
        "Recordemos que dos eventos son independientes sii\n",
        "$$P(A|B)=P(A)$$\n",
        "Fijándonos en la ecuación de arriba eso resulta en \n",
        "$$P(A\\cap B)=P(A)P(B)$$\n",
        "El teorema de Bayes nos dice que \n",
        "$$P(A|B)=\\frac{P(B|A)P(A)}{P(B)}$$"
      ]
    },
    {
      "cell_type": "markdown",
      "metadata": {
        "id": "o3yRkLG7px47"
      },
      "source": [
        "Un caso particular de ese teorema es cuando $A=A_1$ pertenece a una partición y podemos hacer\n",
        "$$P(A_1|B)=\\frac{P(B|A_1)P(A_1)}{P(B|A_1)P(A_1)+\\cdots+P(B|A_n)P(A_n)}$$\n",
        "\n",
        "---"
      ]
    },
    {
      "cell_type": "markdown",
      "metadata": {
        "id": "ndAfo3qoZTLX"
      },
      "source": [
        "#### Ejemplo cajas de galletas\n",
        "\n",
        "---\n",
        "\n",
        "\n",
        "\n",
        "---\n",
        "\n",
        "\n",
        "\n",
        "---\n",
        "\n",
        "\n",
        "Caja 1= 10 galletas de chocolate \\\\\n",
        "Caja 2= 5 galletas de chocolate y 5 galletas de coco \\\\\n",
        "Vamos a tomar una galleta sin ver y queremos obtener lo siguiente."
      ]
    },
    {
      "cell_type": "markdown",
      "metadata": {
        "id": "WBmIEz5nkdLt"
      },
      "source": [
        "$P(Caja1 | Chocolate)$ \\\\\n",
        "La probabilidad que la galleta obtenida sea de la caja1 si sabemos que es de chocolate"
      ]
    },
    {
      "cell_type": "markdown",
      "metadata": {
        "id": "a7bSl0BtiY80"
      },
      "source": [
        "\n",
        "$P(Caja1 | Chocolate)=\\frac{P(Chocolate|Caja1)P(Caja1)}{P(Chocolate)}$ \\\\\n",
        "$P(Chocolate | Caja1)=1$ \\\\\n",
        "$ P(Chocolate|Caja2)=1/2$ \\\\\n",
        "La siguientes probas son 1/2 porque la galleta la tomamos de una caja sin ver \\\\\n",
        "$P(Caja1)=1/2$ \\\\\n",
        "$P(Caja2)=1/2$ \\\\\n",
        "$P(Chocolate)=P(Chocolate|Caja1)P(Caja1) + P(Chocolate|Caja2)P(Caja2)=1*1/2+1/2*1/2=3/4$\n"
      ]
    },
    {
      "cell_type": "markdown",
      "metadata": {
        "id": "iQO9r2t8lCNO"
      },
      "source": [
        "$P(Caja1 | Chocolate)=\\frac{1*1/2}{3/4}=4/6=2/3$\n",
        "\n",
        "---"
      ]
    },
    {
      "cell_type": "markdown",
      "metadata": {
        "id": "HjIV-jpQHWJ1"
      },
      "source": [
        "### Terminología Bayes\n",
        "$$P(A|B)=\\frac{P(B|A)P(A)}{P(B)}$$\n",
        "$P(A)$ priori. \\\\\n",
        "$P(B|A)$ likelihood. \\\\\n",
        "$P(B)$ marginal. \\\\\n",
        "$P(A|B)$ posteriori. \\\\"
      ]
    },
    {
      "cell_type": "code",
      "execution_count": 48,
      "metadata": {
        "id": "szWOjcnd1_3n"
      },
      "outputs": [],
      "source": [
        "import numpy as np"
      ]
    },
    {
      "cell_type": "code",
      "execution_count": 49,
      "metadata": {
        "id": "GoHLRD2Zi_8p"
      },
      "outputs": [],
      "source": [
        "priors = [1/2, 1/2]\r\n",
        "likelihoods = [1, 1/2]\r\n",
        "#np.multiply(priors, likelihoods) = [1/2, 1/4]\r\n",
        "def bayes(priors, likelihoods):\r\n",
        "  marginal = sum(np.multiply(priors, likelihoods))\r\n",
        "  num = np.multiply(priors, likelihoods)\r\n",
        "  posteriori = np.divide(num, marginal)\r\n",
        "  return posteriori"
      ]
    },
    {
      "cell_type": "code",
      "execution_count": 50,
      "metadata": {
        "colab": {
          "base_uri": "https://localhost:8080/"
        },
        "id": "gc2lPStPkwmJ",
        "outputId": "b8786a94-9e52-4ba4-b696-8cefaf182526"
      },
      "outputs": [
        {
          "data": {
            "text/plain": [
              "array([0.66666667, 0.33333333])"
            ]
          },
          "execution_count": 50,
          "metadata": {
            "tags": []
          },
          "output_type": "execute_result"
        }
      ],
      "source": [
        "bayes(priors, likelihoods)"
      ]
    },
    {
      "cell_type": "markdown",
      "metadata": {
        "id": "FD1G1qz7YdLS"
      },
      "source": [
        "### Bayes en medicina\n",
        "Primero veamos terminología que no será de utilidad un poco más adelante"
      ]
    },
    {
      "cell_type": "markdown",
      "metadata": {
        "id": "jxeMq1WjqaGy"
      },
      "source": [
        "![Sensib/especif](https://pbs.twimg.com/media/EV-bnxjUwAcZW_B.jpg)"
      ]
    },
    {
      "cell_type": "markdown",
      "metadata": {
        "id": "bbGNvcwhmRmX"
      },
      "source": [
        "P(A | B) = 1 - P(A|not B) = 1 - (1-P(not A| not B)) = P(not A| not B)\n",
        "\n",
        "P(A)=P(A)P(A|B) + P(A)P(A|not B)=P(A)[P(A|B) + P(A|not B)]\n",
        "\n",
        "P(A) = P(A)[P(A|B) + P(A|not B)]"
      ]
    },
    {
      "cell_type": "markdown",
      "metadata": {
        "id": "7yuwrwb2mx2o"
      },
      "source": []
    },
    {
      "cell_type": "markdown",
      "metadata": {
        "id": "PQIkoTQrtJiA"
      },
      "source": [
        "Supongamos que tenemos una prueba que nos ayuda a identificar si una persona ha consumido o no alguna droga específica. \\\\\n",
        "Sabiendo lo de arriba vamos a crear una función que nos ayude a calcular la probabilidad de que una persona consumiera drogas, dado que la prueba sale positiva, elgunas probabilidades importantes son:\n",
        "\n",
        "---\n",
        "$P(usuario | positivo)=\\frac{P(positivo|usuario)P(usuario)}{P(postivo)}$ \\\\\n",
        "$P(positivo)$ = P(positivo | usuario)*P(usuario) + P(positivo | no\\; usuario)*P(no\\; usuario) \\\\\n",
        "$P(positivo | usuario)=$ Sensibilidad \\\\\n",
        "$P(positivo | no\\; usuario)=1-P(negativo | no\\;usuario)$ \\\\\n",
        "$P(negativo | no\\;usuario)$ =Especificidad \\\\\n",
        "$P(usuario)=$ Prevalencia\n"
      ]
    },
    {
      "cell_type": "code",
      "execution_count": 51,
      "metadata": {
        "id": "rdm6BlUq2Ddk"
      },
      "outputs": [],
      "source": [
        "def proba_usuario(flag = 0.5, sensibilidad = 0.99, especificidad = 0.99, preval = 0.01, verbose = False):\n",
        "\n",
        "  prob_usuario = preval\n",
        "  prob_no_usuario = 1 - preval\n",
        "\n",
        "  prob_positivo_usuario = sensibilidad\n",
        "  prob_negativo_no_usuario = especificidad\n",
        "  prob_negativo_usuario = 1 - sensibilidad\n",
        "  prob_positivo_no_usuario = 1 - especificidad\n",
        "\n",
        "  prob_positivo = prob_positivo_usuario*prob_usuario + prob_positivo_no_usuario*prob_no_usuario\n",
        "  num = prob_positivo_usuario*prob_usuario\n",
        "  proba_posteriori = num/prob_positivo\n",
        "\n",
        "  if verbose:\n",
        "    if proba_posteriori > flag:\n",
        "      print(\"Que paso ai sharli\")\n",
        "\n",
        "    else:\n",
        "      print(\"Ah pos nocierto que ingieres\")\n",
        "\n",
        "  return proba_posteriori"
      ]
    },
    {
      "cell_type": "code",
      "execution_count": 52,
      "metadata": {
        "id": "JxqDOVCaq1A5"
      },
      "outputs": [],
      "source": [
        "import matplotlib.pyplot as plt"
      ]
    },
    {
      "cell_type": "code",
      "execution_count": 53,
      "metadata": {
        "colab": {
          "base_uri": "https://localhost:8080/"
        },
        "id": "lrHGd-dSuduc",
        "outputId": "1ee6cb61-2ec9-47dd-ca7e-039a7582acf3"
      },
      "outputs": [
        {
          "data": {
            "text/plain": [
              "0.16101694915254225"
            ]
          },
          "execution_count": 53,
          "metadata": {
            "tags": []
          },
          "output_type": "execute_result"
        }
      ],
      "source": [
        "proba_usuario(sensibilidad = .95, especificidad = 0.95, preval = 0.01)"
      ]
    },
    {
      "cell_type": "code",
      "execution_count": 54,
      "metadata": {
        "colab": {
          "base_uri": "https://localhost:8080/",
          "height": 334
        },
        "id": "X-bVkJZluUWD",
        "outputId": "06bdfeca-c48b-4c5d-96c9-74a7f7d357ac"
      },
      "outputs": [
        {
          "data": {
            "image/png": "[encoded data removed]",
            "text/plain": [
              "<Figure size 720x360 with 1 Axes>"
            ]
          },
          "metadata": {
            "tags": []
          },
          "output_type": "display_data"
        }
      ],
      "source": [
        "probabilidades = []\n",
        "prevalencias = []\n",
        "for preva in [i*.001 for i in range(1,201,2)]:\n",
        "    prevalencias.append(preva*100)\n",
        "    p=proba_usuario(sensibilidad = 0.95, especificidad = 0.95, preval = preva)\n",
        "    probabilidades.append(p)\n",
        "plt.figure(figsize=(10, 5),facecolor='w')\n",
        "plt.plot(prevalencias, probabilidades)\n",
        "plt.xlabel('Porcentaje de la población que es usuario')\n",
        "plt.ylabel('Probabilidad de usuario | prueba positiva')\n",
        "plt.show()"
      ]
    },
    {
      "cell_type": "code",
      "execution_count": 55,
      "metadata": {
        "colab": {
          "base_uri": "https://localhost:8080/",
          "height": 334
        },
        "id": "wR3eDoYiuUD1",
        "outputId": "e535b734-774d-43e3-a450-7269a8128caa"
      },
      "outputs": [
        {
          "data": {
            "image/png": "[encoded data removed]",
            "text/plain": [
              "<Figure size 720x360 with 1 Axes>"
            ]
          },
          "metadata": {
            "tags": []
          },
          "output_type": "display_data"
        }
      ],
      "source": [
        "probabilidades = []\n",
        "sensibilidades = []\n",
        "for sensib in [i*.001+0.95 for i in range(1,51,2)]:\n",
        "    sensibilidades.append(sensib*100)\n",
        "    p=proba_usuario(sensibilidad = sensib, especificidad = 0.95, preval = 0.01)\n",
        "    probabilidades.append(p)\n",
        "plt.figure(figsize=(10, 5),facecolor='w')\n",
        "plt.plot(sensibilidades, probabilidades)\n",
        "plt.xlabel('Sensibilidad')\n",
        "plt.ylabel('Probabilidad de usuario | prueba positiva')\n",
        "plt.show()"
      ]
    },
    {
      "cell_type": "code",
      "execution_count": 56,
      "metadata": {
        "colab": {
          "base_uri": "https://localhost:8080/",
          "height": 334
        },
        "id": "gxkTthBGx6OI",
        "outputId": "95f34616-7ac2-463c-dbf5-cb4be6ee6c75"
      },
      "outputs": [
        {
          "data": {
            "image/png": "[encoded data removed]",
            "text/plain": [
              "<Figure size 720x360 with 1 Axes>"
            ]
          },
          "metadata": {
            "tags": []
          },
          "output_type": "display_data"
        }
      ],
      "source": [
        "probabilidades = []\n",
        "especificidades = []\n",
        "for especif in [i*.001+0.95 for i in range(1,51,2)]:\n",
        "    especificidades.append(especif*100)\n",
        "    p=proba_usuario(sensibilidad = 0.95, especificidad = especif, preval = 0.01)\n",
        "    probabilidades.append(p)\n",
        "plt.figure(figsize=(10, 5),facecolor='w')\n",
        "plt.plot(especificidades, probabilidades)\n",
        "plt.xlabel('Especificidad')\n",
        "plt.ylabel('Probabilidad de usuario | prueba positiva')\n",
        "plt.show()"
      ]
    },
    {
      "cell_type": "code",
      "execution_count": 57,
      "metadata": {
        "colab": {
          "base_uri": "https://localhost:8080/"
        },
        "id": "YnMpT4euyXhn",
        "outputId": "d8553534-f343-4e6a-d688-d686fc74a4f7"
      },
      "outputs": [
        {
          "name": "stdout",
          "output_type": "stream",
          "text": [
            "Ah pos nocierto que ingieres\n"
          ]
        }
      ],
      "source": [
        "p = proba_usuario(sensibilidad=0.95, especificidad=0.95, preval=0.005, verbose=True)"
      ]
    },
    {
      "cell_type": "code",
      "execution_count": 58,
      "metadata": {
        "colab": {
          "base_uri": "https://localhost:8080/"
        },
        "id": "btOGxRfKzk-X",
        "outputId": "ccaa6679-e7a9-4c54-bf1b-aae20e860ecb"
      },
      "outputs": [
        {
          "data": {
            "text/plain": [
              "0.08715596330275223"
            ]
          },
          "execution_count": 58,
          "metadata": {
            "tags": []
          },
          "output_type": "execute_result"
        }
      ],
      "source": [
        "p"
      ]
    },
    {
      "cell_type": "code",
      "execution_count": 59,
      "metadata": {
        "colab": {
          "base_uri": "https://localhost:8080/"
        },
        "id": "WTPx7PtIzrrC",
        "outputId": "e2d77195-0343-4e07-cf4c-be4a71805720"
      },
      "outputs": [
        {
          "name": "stdout",
          "output_type": "stream",
          "text": [
            "Que paso ai sharli\n"
          ]
        }
      ],
      "source": [
        "p1 = proba_usuario(sensibilidad=0.95, especificidad=0.95, preval=0.08715596330275223, verbose=True)"
      ]
    },
    {
      "cell_type": "code",
      "execution_count": null,
      "metadata": {
        "colab": {
          "base_uri": "https://localhost:8080/"
        },
        "id": "p9wkFPHD0D0V",
        "outputId": "a86d337d-315e-469c-d0f8-98d947eacb25"
      },
      "outputs": [
        {
          "data": {
            "text/plain": [
              "0.6446428571428567"
            ]
          },
          "execution_count": 36,
          "metadata": {
            "tags": []
          },
          "output_type": "execute_result"
        }
      ],
      "source": [
        "p1"
      ]
    },
    {
      "cell_type": "markdown",
      "metadata": {
        "id": "cdKeWzJkSX7P"
      },
      "source": [
        "Estadística bayesiana en la vida real trata de estimar algún parámetro con una distribución conocida usando muestras observadas para actualizar la distribución de dicho parámetro"
      ]
    },
    {
      "cell_type": "markdown",
      "metadata": {
        "id": "BpLLgSPT4_mC"
      },
      "source": [
        "Suppose we have just launched an online store that sells fidget spinners, and we are trying to estimate what percentage of visitors to our online store will make a purchase.\n",
        "\n",
        "Prior to seeing any traffic or purchase data, we have no idea what to expect so we will start with the assumption that all percentages are equally likely. This is called a uniform prior because we can use a uniform distribution to represent the fact that every rate has an equal chance of being the actual rate of purchase. To set this up in Python, we are going to use Numpy to generate a uniform distribution from 100,000 random draws of numbers between 0 and 1."
      ]
    },
    {
      "cell_type": "markdown",
      "metadata": {
        "id": "o8Y2epc_7mzt"
      },
      "source": [
        "Un dia nos compraron de 10 personas de 50 que visitaron el sitio"
      ]
    },
    {
      "cell_type": "code",
      "execution_count": 60,
      "metadata": {
        "id": "GChZxfBF3Cch"
      },
      "outputs": [],
      "source": [
        "# Frecuentista\n",
        "# Informacion previa no es de ayuda\n",
        "# P = compraron/total = 10/50 = 0.2"
      ]
    },
    {
      "cell_type": "code",
      "execution_count": 61,
      "metadata": {
        "id": "G8-y3xcL4UY6"
      },
      "outputs": [],
      "source": [
        "import pandas as pd"
      ]
    },
    {
      "cell_type": "code",
      "execution_count": 62,
      "metadata": {
        "id": "uhNaZlBf3A-r"
      },
      "outputs": [],
      "source": [
        "#Bayesiana\n",
        "# Informaion previa si es de ayuda"
      ]
    },
    {
      "cell_type": "code",
      "execution_count": 63,
      "metadata": {
        "id": "K5K-qhgq8Ks7"
      },
      "outputs": [],
      "source": [
        "n_draws = 100000\n",
        "prior = pd.Series(np.random.uniform(0, 1, size=n_draws))"
      ]
    },
    {
      "cell_type": "code",
      "execution_count": 64,
      "metadata": {
        "colab": {
          "base_uri": "https://localhost:8080/"
        },
        "id": "eFc9PAOD8pzo",
        "outputId": "fbf055a5-ed1c-4342-a386-0628d7771487"
      },
      "outputs": [
        {
          "data": {
            "text/plain": [
              "0    0.876694\n",
              "1    0.618614\n",
              "2    0.125310\n",
              "3    0.375088\n",
              "4    0.143912\n",
              "dtype: float64"
            ]
          },
          "execution_count": 64,
          "metadata": {
            "tags": []
          },
          "output_type": "execute_result"
        }
      ],
      "source": [
        "prior.head()"
      ]
    },
    {
      "cell_type": "code",
      "execution_count": 65,
      "metadata": {
        "colab": {
          "base_uri": "https://localhost:8080/",
          "height": 282
        },
        "id": "MaQXH5D48myU",
        "outputId": "a8685c4b-3614-400e-b439-660b873c8994"
      },
      "outputs": [
        {
          "data": {
            "text/plain": [
              "<matplotlib.axes._subplots.AxesSubplot at 0x7f4551097b50>"
            ]
          },
          "execution_count": 65,
          "metadata": {
            "tags": []
          },
          "output_type": "execute_result"
        },
        {
          "data": {
            "image/png": "[encoded data removed]",
            "text/plain": [
              "<Figure size 432x288 with 1 Axes>"
            ]
          },
          "metadata": {
            "needs_background": "light",
            "tags": []
          },
          "output_type": "display_data"
        }
      ],
      "source": [
        "prior.hist()"
      ]
    },
    {
      "cell_type": "code",
      "execution_count": 66,
      "metadata": {
        "id": "R4FXDJQH81wy"
      },
      "outputs": [],
      "source": [
        "def generative_model(param):\n",
        "\n",
        "  result = np.random.binomial(50, param)\n",
        "  return result"
      ]
    },
    {
      "cell_type": "code",
      "execution_count": 67,
      "metadata": {
        "colab": {
          "base_uri": "https://localhost:8080/"
        },
        "id": "9CVURC3D9LNE",
        "outputId": "75941c24-5f8e-4a8c-bc1e-b22abc65c392"
      },
      "outputs": [
        {
          "data": {
            "text/plain": [
              "9"
            ]
          },
          "execution_count": 67,
          "metadata": {
            "tags": []
          },
          "output_type": "execute_result"
        }
      ],
      "source": [
        "generative_model(0.13)"
      ]
    },
    {
      "cell_type": "code",
      "execution_count": 68,
      "metadata": {
        "colab": {
          "base_uri": "https://localhost:8080/"
        },
        "id": "sNYeqZUq9lG_",
        "outputId": "9471e4fd-d4c8-4337-c1f9-cc28ccd4095d"
      },
      "outputs": [
        {
          "data": {
            "text/plain": [
              "0.8766939793133686"
            ]
          },
          "execution_count": 68,
          "metadata": {
            "tags": []
          },
          "output_type": "execute_result"
        }
      ],
      "source": [
        "prior[0]"
      ]
    },
    {
      "cell_type": "code",
      "execution_count": 69,
      "metadata": {
        "colab": {
          "base_uri": "https://localhost:8080/"
        },
        "id": "sdDMxsye9pED",
        "outputId": "3b8507c6-cde2-43e5-af9d-2e0aeac58a32"
      },
      "outputs": [
        {
          "data": {
            "text/plain": [
              "4"
            ]
          },
          "execution_count": 69,
          "metadata": {
            "tags": []
          },
          "output_type": "execute_result"
        }
      ],
      "source": [
        "generative_model(0.08373834693095616)"
      ]
    },
    {
      "cell_type": "code",
      "execution_count": 70,
      "metadata": {
        "id": "rCQmL7i39rY8"
      },
      "outputs": [],
      "source": [
        "compraron = list()\n",
        "for proba in prior:\n",
        "  compraron.append(generative_model(proba))"
      ]
    },
    {
      "cell_type": "code",
      "execution_count": 71,
      "metadata": {
        "colab": {
          "base_uri": "https://localhost:8080/"
        },
        "id": "SihS3lxT94Qd",
        "outputId": "4b0eadf0-db29-4601-b2c7-5b3f9d8c6782"
      },
      "outputs": [
        {
          "data": {
            "text/plain": [
              "45"
            ]
          },
          "execution_count": 71,
          "metadata": {
            "tags": []
          },
          "output_type": "execute_result"
        }
      ],
      "source": [
        "compraron[0]"
      ]
    },
    {
      "cell_type": "code",
      "execution_count": 72,
      "metadata": {
        "colab": {
          "base_uri": "https://localhost:8080/"
        },
        "id": "5YTZrhts98Fo",
        "outputId": "7d5f8517-878f-4537-c253-48e4ed2b1dd5"
      },
      "outputs": [
        {
          "data": {
            "text/plain": [
              "0    0.876694\n",
              "1    0.618614\n",
              "2    0.125310\n",
              "3    0.375088\n",
              "4    0.143912\n",
              "5    0.163135\n",
              "6    0.526604\n",
              "7    0.428181\n",
              "8    0.621679\n",
              "9    0.908131\n",
              "dtype: float64"
            ]
          },
          "execution_count": 72,
          "metadata": {
            "tags": []
          },
          "output_type": "execute_result"
        }
      ],
      "source": [
        "prior[:10]"
      ]
    },
    {
      "cell_type": "code",
      "execution_count": 73,
      "metadata": {
        "colab": {
          "base_uri": "https://localhost:8080/"
        },
        "id": "toCUFlIx991n",
        "outputId": "b86b607e-c24f-4e80-e87d-ec04b7de7aa7"
      },
      "outputs": [
        {
          "data": {
            "text/plain": [
              "[45, 28, 6, 21, 13, 13, 26, 27, 30, 43]"
            ]
          },
          "execution_count": 73,
          "metadata": {
            "tags": []
          },
          "output_type": "execute_result"
        }
      ],
      "source": [
        "compraron[:10]"
      ]
    },
    {
      "cell_type": "code",
      "execution_count": 74,
      "metadata": {
        "id": "eCF9z2Jr-IYJ"
      },
      "outputs": [],
      "source": [
        "posterior = prior[list(map(lambda x: x == 10, compraron))]"
      ]
    },
    {
      "cell_type": "code",
      "execution_count": 75,
      "metadata": {
        "colab": {
          "base_uri": "https://localhost:8080/"
        },
        "id": "Lkcbzbfp-mk4",
        "outputId": "1714c197-21c6-4eb1-c1da-06a4af0b47ad"
      },
      "outputs": [
        {
          "data": {
            "text/plain": [
              "0    0.876694\n",
              "1    0.618614\n",
              "2    0.125310\n",
              "3    0.375088\n",
              "4    0.143912\n",
              "dtype: float64"
            ]
          },
          "execution_count": 75,
          "metadata": {
            "tags": []
          },
          "output_type": "execute_result"
        }
      ],
      "source": [
        "prior.head()"
      ]
    },
    {
      "cell_type": "code",
      "execution_count": 76,
      "metadata": {
        "colab": {
          "base_uri": "https://localhost:8080/"
        },
        "id": "XqplItbZ-jJ8",
        "outputId": "7880d990-0d87-4a24-8249-86f74a47e85a"
      },
      "outputs": [
        {
          "data": {
            "text/plain": [
              "39       0.137158\n",
              "80       0.230815\n",
              "110      0.137489\n",
              "113      0.166381\n",
              "170      0.159891\n",
              "           ...   \n",
              "99651    0.253571\n",
              "99673    0.181151\n",
              "99735    0.192622\n",
              "99760    0.214475\n",
              "99999    0.335326\n",
              "Length: 1928, dtype: float64"
            ]
          },
          "execution_count": 76,
          "metadata": {
            "tags": []
          },
          "output_type": "execute_result"
        }
      ],
      "source": [
        "posterior"
      ]
    },
    {
      "cell_type": "code",
      "execution_count": 77,
      "metadata": {
        "colab": {
          "base_uri": "https://localhost:8080/",
          "height": 283
        },
        "id": "KAET6fW5-uz9",
        "outputId": "c4c076ed-846d-4239-ca2a-0e4147a41861"
      },
      "outputs": [
        {
          "data": {
            "text/plain": [
              "<matplotlib.axes._subplots.AxesSubplot at 0x7f4550d34dd0>"
            ]
          },
          "execution_count": 77,
          "metadata": {
            "tags": []
          },
          "output_type": "execute_result"
        },
        {
          "data": {
            "image/png": "[encoded data removed]",
            "text/plain": [
              "<Figure size 432x288 with 1 Axes>"
            ]
          },
          "metadata": {
            "needs_background": "light",
            "tags": []
          },
          "output_type": "display_data"
        }
      ],
      "source": [
        "posterior.hist()"
      ]
    },
    {
      "cell_type": "markdown",
      "metadata": {
        "id": "wyqk1eMJxcTV"
      },
      "source": [
        "Binomial(n,p) \\\\\n",
        "En este caso nuestro parámetro que estimaremos es p, ya depende del programmador saber qué siginifica, en caso de la binomial es la probabilidad de que un usuario compre."
      ]
    },
    {
      "cell_type": "markdown",
      "metadata": {
        "id": "aOi8D_9R_TiN"
      },
      "source": [
        "---\n",
        "\n",
        "Supongamos que abrimos una caseta en algún punto de la república y queremos modelar el número de automóviles que pasaran cada dia, sabemos que lo podemos modelar con una distribución $Poisson(\\lambda)$ (número de éxitos en un tiempo o distancia fijos). \\\\\n",
        " Si tuvieramos el valor de $\\lambda$ podríamos sacar muchas cosas entonces trataremos de estimarlo (recordemos que $\\lambda$ será el promedio de autómoviles que pasaran por hora en la caseta)"
      ]
    },
    {
      "cell_type": "code",
      "execution_count": 2,
      "metadata": {
        "colab": {
          "base_uri": "https://localhost:8080/"
        },
        "id": "NDV59zbF_TrQ",
        "outputId": "e176d9c3-8f62-42d7-fc7b-8ab6ba4f6d08"
      },
      "outputs": [
        {
          "name": "stdout",
          "output_type": "stream",
          "text": [
            "Mounted at /content/drive\n"
          ]
        }
      ],
      "source": [
        "# from google.colab import drive\r\n",
        "# drive.mount(\"/content/drive\")"
      ]
    },
    {
      "cell_type": "code",
      "execution_count": 1,
      "metadata": {
        "id": "vO0tSNCtU_2Q"
      },
      "outputs": [],
      "source": [
        "import pandas as pd\n",
        "import numpy as np\n",
        "import matplotlib.pyplot as plt"
      ]
    },
    {
      "cell_type": "code",
      "execution_count": 2,
      "metadata": {
        "id": "F-3pMbsyADnJ"
      },
      "outputs": [],
      "source": [
        "df = pd.read_csv('../../datasets/Casetas.csv')"
      ]
    },
    {
      "cell_type": "code",
      "execution_count": 3,
      "metadata": {
        "colab": {
          "base_uri": "https://localhost:8080/",
          "height": 204
        },
        "id": "PWNjcKRwATHO",
        "outputId": "022af0c8-1914-4364-862b-5a52bac9e84b"
      },
      "outputs": [
        {
          "data": {
            "text/html": [
              "<div>\n",
              "<style scoped>\n",
              "    .dataframe tbody tr th:only-of-type {\n",
              "        vertical-align: middle;\n",
              "    }\n",
              "\n",
              "    .dataframe tbody tr th {\n",
              "        vertical-align: top;\n",
              "    }\n",
              "\n",
              "    .dataframe thead th {\n",
              "        text-align: right;\n",
              "    }\n",
              "</style>\n",
              "<table border=\"1\" class=\"dataframe\">\n",
              "  <thead>\n",
              "    <tr style=\"text-align: right;\">\n",
              "      <th></th>\n",
              "      <th>caseta</th>\n",
              "      <th>vehiculo</th>\n",
              "      <th>fecha</th>\n",
              "    </tr>\n",
              "  </thead>\n",
              "  <tbody>\n",
              "    <tr>\n",
              "      <th>0</th>\n",
              "      <td>DB3</td>\n",
              "      <td>Auto</td>\n",
              "      <td>2018-03-17</td>\n",
              "    </tr>\n",
              "    <tr>\n",
              "      <th>1</th>\n",
              "      <td>PQ8</td>\n",
              "      <td>Auto</td>\n",
              "      <td>2019-11-22</td>\n",
              "    </tr>\n",
              "    <tr>\n",
              "      <th>2</th>\n",
              "      <td>UB7</td>\n",
              "      <td>Auto</td>\n",
              "      <td>2017-01-17</td>\n",
              "    </tr>\n",
              "    <tr>\n",
              "      <th>3</th>\n",
              "      <td>AA4</td>\n",
              "      <td>Auto</td>\n",
              "      <td>2017-03-30</td>\n",
              "    </tr>\n",
              "    <tr>\n",
              "      <th>4</th>\n",
              "      <td>TW3</td>\n",
              "      <td>Moto</td>\n",
              "      <td>2017-01-11</td>\n",
              "    </tr>\n",
              "  </tbody>\n",
              "</table>\n",
              "</div>"
            ],
            "text/plain": [
              "  caseta vehiculo       fecha\n",
              "0    DB3     Auto  2018-03-17\n",
              "1    PQ8     Auto  2019-11-22\n",
              "2    UB7     Auto  2017-01-17\n",
              "3    AA4     Auto  2017-03-30\n",
              "4    TW3     Moto  2017-01-11"
            ]
          },
          "execution_count": 3,
          "metadata": {},
          "output_type": "execute_result"
        }
      ],
      "source": [
        "df.head()"
      ]
    },
    {
      "cell_type": "code",
      "execution_count": 13,
      "metadata": {
        "colab": {
          "base_uri": "https://localhost:8080/"
        },
        "id": "otlLq-MwAWZr",
        "outputId": "e729efd0-9c0d-4a2d-8ec8-ad6fb1b38eac"
      },
      "outputs": [
        {
          "name": "stdout",
          "output_type": "stream",
          "text": [
            "<class 'pandas.core.frame.DataFrame'>\n",
            "RangeIndex: 1531110 entries, 0 to 1531109\n",
            "Data columns (total 3 columns):\n",
            " #   Column    Non-Null Count    Dtype \n",
            "---  ------    --------------    ----- \n",
            " 0   caseta    1531110 non-null  object\n",
            " 1   vehiculo  1531110 non-null  object\n",
            " 2   fecha     1531110 non-null  object\n",
            "dtypes: object(3)\n",
            "memory usage: 35.0+ MB\n"
          ]
        }
      ],
      "source": [
        "df.info()"
      ]
    },
    {
      "cell_type": "code",
      "execution_count": 14,
      "metadata": {
        "colab": {
          "base_uri": "https://localhost:8080/"
        },
        "id": "O643vXHdAY4G",
        "outputId": "a85b3213-36b5-43b0-aba7-8497a688ff08"
      },
      "outputs": [
        {
          "data": {
            "text/plain": [
              "array(['Auto', 'Moto', '2/3/4', '5/6', 'ExCarga', 'ExLigero'],\n",
              "      dtype=object)"
            ]
          },
          "execution_count": 14,
          "metadata": {
            "tags": []
          },
          "output_type": "execute_result"
        }
      ],
      "source": [
        "df.vehiculo.unique()"
      ]
    },
    {
      "cell_type": "code",
      "execution_count": 15,
      "metadata": {
        "colab": {
          "base_uri": "https://localhost:8080/"
        },
        "id": "wY5pO8rLAicn",
        "outputId": "812c2e1c-f5df-42f1-9232-499765114c71"
      },
      "outputs": [
        {
          "data": {
            "text/plain": [
              "array(['2018-03-17', '2019-11-22', '2017-01-17', ..., '2019-09-30',\n",
              "       '2019-03-18', '2018-08-27'], dtype=object)"
            ]
          },
          "execution_count": 15,
          "metadata": {
            "tags": []
          },
          "output_type": "execute_result"
        }
      ],
      "source": [
        "df.fecha.unique()"
      ]
    },
    {
      "cell_type": "code",
      "execution_count": 16,
      "metadata": {
        "id": "k5X2Zvc0Asg8"
      },
      "outputs": [],
      "source": [
        "df.fecha = df.fecha.astype(np.datetime64)"
      ]
    },
    {
      "cell_type": "code",
      "execution_count": 17,
      "metadata": {
        "colab": {
          "base_uri": "https://localhost:8080/"
        },
        "id": "4yq6Xn1aBB8d",
        "outputId": "ca64c896-4c44-41d1-ae7b-9249ebf14bba"
      },
      "outputs": [
        {
          "name": "stdout",
          "output_type": "stream",
          "text": [
            "<class 'pandas.core.frame.DataFrame'>\n",
            "RangeIndex: 1531110 entries, 0 to 1531109\n",
            "Data columns (total 3 columns):\n",
            " #   Column    Non-Null Count    Dtype         \n",
            "---  ------    --------------    -----         \n",
            " 0   caseta    1531110 non-null  object        \n",
            " 1   vehiculo  1531110 non-null  object        \n",
            " 2   fecha     1531110 non-null  datetime64[ns]\n",
            "dtypes: datetime64[ns](1), object(2)\n",
            "memory usage: 35.0+ MB\n"
          ]
        }
      ],
      "source": [
        "df.info()"
      ]
    },
    {
      "cell_type": "code",
      "execution_count": 18,
      "metadata": {
        "colab": {
          "base_uri": "https://localhost:8080/"
        },
        "id": "IHEO-ImoBJ_B",
        "outputId": "a5164f07-ff91-407b-f827-d238ae387293"
      },
      "outputs": [
        {
          "data": {
            "text/plain": [
              "Timestamp('2017-01-01 00:00:00')"
            ]
          },
          "execution_count": 18,
          "metadata": {
            "tags": []
          },
          "output_type": "execute_result"
        }
      ],
      "source": [
        "df.fecha.min()"
      ]
    },
    {
      "cell_type": "code",
      "execution_count": 19,
      "metadata": {
        "colab": {
          "base_uri": "https://localhost:8080/"
        },
        "id": "pCOzCbEqBNLo",
        "outputId": "4d7886c5-ee79-4c8d-afd7-983df0f9bd31"
      },
      "outputs": [
        {
          "data": {
            "text/plain": [
              "Timestamp('2019-12-31 00:00:00')"
            ]
          },
          "execution_count": 19,
          "metadata": {
            "tags": []
          },
          "output_type": "execute_result"
        }
      ],
      "source": [
        "df.fecha.max()"
      ]
    },
    {
      "cell_type": "code",
      "execution_count": 20,
      "metadata": {
        "colab": {
          "base_uri": "https://localhost:8080/",
          "height": 204
        },
        "id": "UzjGR4GRBOPf",
        "outputId": "7bb6ff3f-da56-4b4e-cdac-6e17c7a9abc9"
      },
      "outputs": [
        {
          "data": {
            "text/html": [
              "<div>\n",
              "<style scoped>\n",
              "    .dataframe tbody tr th:only-of-type {\n",
              "        vertical-align: middle;\n",
              "    }\n",
              "\n",
              "    .dataframe tbody tr th {\n",
              "        vertical-align: top;\n",
              "    }\n",
              "\n",
              "    .dataframe thead th {\n",
              "        text-align: right;\n",
              "    }\n",
              "</style>\n",
              "<table border=\"1\" class=\"dataframe\">\n",
              "  <thead>\n",
              "    <tr style=\"text-align: right;\">\n",
              "      <th></th>\n",
              "      <th>caseta</th>\n",
              "      <th>vehiculo</th>\n",
              "      <th>fecha</th>\n",
              "    </tr>\n",
              "  </thead>\n",
              "  <tbody>\n",
              "    <tr>\n",
              "      <th>0</th>\n",
              "      <td>DB3</td>\n",
              "      <td>Auto</td>\n",
              "      <td>2018-03-17</td>\n",
              "    </tr>\n",
              "    <tr>\n",
              "      <th>1</th>\n",
              "      <td>PQ8</td>\n",
              "      <td>Auto</td>\n",
              "      <td>2019-11-22</td>\n",
              "    </tr>\n",
              "    <tr>\n",
              "      <th>2</th>\n",
              "      <td>UB7</td>\n",
              "      <td>Auto</td>\n",
              "      <td>2017-01-17</td>\n",
              "    </tr>\n",
              "    <tr>\n",
              "      <th>3</th>\n",
              "      <td>AA4</td>\n",
              "      <td>Auto</td>\n",
              "      <td>2017-03-30</td>\n",
              "    </tr>\n",
              "    <tr>\n",
              "      <th>4</th>\n",
              "      <td>TW3</td>\n",
              "      <td>Moto</td>\n",
              "      <td>2017-01-11</td>\n",
              "    </tr>\n",
              "  </tbody>\n",
              "</table>\n",
              "</div>"
            ],
            "text/plain": [
              "  caseta vehiculo      fecha\n",
              "0    DB3     Auto 2018-03-17\n",
              "1    PQ8     Auto 2019-11-22\n",
              "2    UB7     Auto 2017-01-17\n",
              "3    AA4     Auto 2017-03-30\n",
              "4    TW3     Moto 2017-01-11"
            ]
          },
          "execution_count": 20,
          "metadata": {
            "tags": []
          },
          "output_type": "execute_result"
        }
      ],
      "source": [
        "df.head()"
      ]
    },
    {
      "cell_type": "code",
      "execution_count": 21,
      "metadata": {
        "id": "l3wMuBdxBRMK"
      },
      "outputs": [],
      "source": [
        "df_ord = df.sort_values(['caseta','fecha'])"
      ]
    },
    {
      "cell_type": "code",
      "execution_count": 22,
      "metadata": {
        "id": "OvusUtWfBfj0"
      },
      "outputs": [],
      "source": [
        "#df_ord.head(20)"
      ]
    },
    {
      "cell_type": "code",
      "execution_count": 23,
      "metadata": {
        "colab": {
          "base_uri": "https://localhost:8080/",
          "height": 282
        },
        "id": "t8CvK9SxB7Wb",
        "outputId": "0d2dc4c5-1ffe-4f37-fb2c-380e29ca1e37"
      },
      "outputs": [
        {
          "data": {
            "text/plain": [
              "<matplotlib.axes._subplots.AxesSubplot at 0x7f4551825250>"
            ]
          },
          "execution_count": 23,
          "metadata": {
            "tags": []
          },
          "output_type": "execute_result"
        },
        {
          "data": {
            "image/png": "[encoded data removed]",
            "text/plain": [
              "<Figure size 432x288 with 1 Axes>"
            ]
          },
          "metadata": {
            "needs_background": "light",
            "tags": []
          },
          "output_type": "display_data"
        }
      ],
      "source": [
        "df_ord.value_counts('fecha').hist()"
      ]
    },
    {
      "cell_type": "code",
      "execution_count": 24,
      "metadata": {
        "id": "dOFv7pXBBtGy"
      },
      "outputs": [],
      "source": [
        "df_gb = df_ord.groupby(['caseta', 'fecha'], as_index=False).agg('count')"
      ]
    },
    {
      "cell_type": "code",
      "execution_count": 25,
      "metadata": {
        "colab": {
          "base_uri": "https://localhost:8080/",
          "height": 204
        },
        "id": "jKtGeXgbC4z9",
        "outputId": "561cb9f8-3cf8-494e-e3ce-e1feeffd6f2d"
      },
      "outputs": [
        {
          "data": {
            "text/html": [
              "<div>\n",
              "<style scoped>\n",
              "    .dataframe tbody tr th:only-of-type {\n",
              "        vertical-align: middle;\n",
              "    }\n",
              "\n",
              "    .dataframe tbody tr th {\n",
              "        vertical-align: top;\n",
              "    }\n",
              "\n",
              "    .dataframe thead th {\n",
              "        text-align: right;\n",
              "    }\n",
              "</style>\n",
              "<table border=\"1\" class=\"dataframe\">\n",
              "  <thead>\n",
              "    <tr style=\"text-align: right;\">\n",
              "      <th></th>\n",
              "      <th>caseta</th>\n",
              "      <th>fecha</th>\n",
              "      <th>vehiculo</th>\n",
              "    </tr>\n",
              "  </thead>\n",
              "  <tbody>\n",
              "    <tr>\n",
              "      <th>0</th>\n",
              "      <td>AA2</td>\n",
              "      <td>2017-01-01</td>\n",
              "      <td>14</td>\n",
              "    </tr>\n",
              "    <tr>\n",
              "      <th>1</th>\n",
              "      <td>AA2</td>\n",
              "      <td>2017-01-02</td>\n",
              "      <td>7</td>\n",
              "    </tr>\n",
              "    <tr>\n",
              "      <th>2</th>\n",
              "      <td>AA2</td>\n",
              "      <td>2017-01-03</td>\n",
              "      <td>10</td>\n",
              "    </tr>\n",
              "    <tr>\n",
              "      <th>3</th>\n",
              "      <td>AA2</td>\n",
              "      <td>2017-01-04</td>\n",
              "      <td>14</td>\n",
              "    </tr>\n",
              "    <tr>\n",
              "      <th>4</th>\n",
              "      <td>AA2</td>\n",
              "      <td>2017-01-05</td>\n",
              "      <td>7</td>\n",
              "    </tr>\n",
              "  </tbody>\n",
              "</table>\n",
              "</div>"
            ],
            "text/plain": [
              "  caseta      fecha  vehiculo\n",
              "0    AA2 2017-01-01        14\n",
              "1    AA2 2017-01-02         7\n",
              "2    AA2 2017-01-03        10\n",
              "3    AA2 2017-01-04        14\n",
              "4    AA2 2017-01-05         7"
            ]
          },
          "execution_count": 25,
          "metadata": {
            "tags": []
          },
          "output_type": "execute_result"
        }
      ],
      "source": [
        "df_gb.head(5)"
      ]
    },
    {
      "cell_type": "code",
      "execution_count": 26,
      "metadata": {
        "colab": {
          "base_uri": "https://localhost:8080/",
          "height": 282
        },
        "id": "vGh-sCdkCTnu",
        "outputId": "c14fda25-0976-4ec6-aa47-8037cd2047c4"
      },
      "outputs": [
        {
          "data": {
            "text/plain": [
              "<matplotlib.axes._subplots.AxesSubplot at 0x7f45512bfb50>"
            ]
          },
          "execution_count": 26,
          "metadata": {
            "tags": []
          },
          "output_type": "execute_result"
        },
        {
          "data": {
            "image/png": "[encoded data removed]",
            "text/plain": [
              "<Figure size 432x288 with 1 Axes>"
            ]
          },
          "metadata": {
            "needs_background": "light",
            "tags": []
          },
          "output_type": "display_data"
        }
      ],
      "source": [
        "df_gb.vehiculo.hist()"
      ]
    },
    {
      "cell_type": "code",
      "execution_count": 27,
      "metadata": {
        "colab": {
          "base_uri": "https://localhost:8080/",
          "height": 282
        },
        "id": "Vnh22kyDCelw",
        "outputId": "4d8f9660-2a55-4731-9784-0457109c1ead"
      },
      "outputs": [
        {
          "data": {
            "text/plain": [
              "<matplotlib.axes._subplots.AxesSubplot at 0x7f455125b350>"
            ]
          },
          "execution_count": 27,
          "metadata": {
            "tags": []
          },
          "output_type": "execute_result"
        },
        {
          "data": {
            "image/png": "[encoded data removed]",
            "text/plain": [
              "<Figure size 432x288 with 1 Axes>"
            ]
          },
          "metadata": {
            "needs_background": "light",
            "tags": []
          },
          "output_type": "display_data"
        }
      ],
      "source": [
        "medias = df_gb.vehiculo\n",
        "medias.hist()"
      ]
    },
    {
      "cell_type": "code",
      "execution_count": 37,
      "metadata": {
        "colab": {
          "base_uri": "https://localhost:8080/"
        },
        "id": "BALKZE0GCwwL",
        "outputId": "e9849ac3-13f2-46af-a0b9-7035d1e5089e"
      },
      "outputs": [
        {
          "data": {
            "text/plain": [
              "0    14\n",
              "1     7\n",
              "2    10\n",
              "3    14\n",
              "4     7\n",
              "Name: vehiculo, dtype: int64"
            ]
          },
          "execution_count": 37,
          "metadata": {
            "tags": []
          },
          "output_type": "execute_result"
        }
      ],
      "source": [
        "medias.head()"
      ]
    },
    {
      "cell_type": "markdown",
      "metadata": {
        "id": "TQe2dD_PDqeL"
      },
      "source": [
        "Abrí la caseta y vi que pasaron 8 automoviles"
      ]
    },
    {
      "cell_type": "code",
      "execution_count": 38,
      "metadata": {
        "id": "jkyDFglbEz4n"
      },
      "outputs": [],
      "source": [
        "parametros = medias"
      ]
    },
    {
      "cell_type": "code",
      "execution_count": 39,
      "metadata": {
        "colab": {
          "base_uri": "https://localhost:8080/"
        },
        "id": "WTRpuu9-FAD-",
        "outputId": "238c0ac9-a008-46b2-e261-68233751fcdf"
      },
      "outputs": [
        {
          "data": {
            "text/plain": [
              "array([14,  7, 10, ..., 11, 14, 11])"
            ]
          },
          "execution_count": 39,
          "metadata": {
            "tags": []
          },
          "output_type": "execute_result"
        }
      ],
      "source": [
        "medias.values"
      ]
    },
    {
      "cell_type": "code",
      "execution_count": 40,
      "metadata": {
        "colab": {
          "base_uri": "https://localhost:8080/"
        },
        "id": "Hb9tm6z-E-s0",
        "outputId": "22cb319e-cfd2-4bdc-b48e-cbf5146c65cc"
      },
      "outputs": [
        {
          "data": {
            "text/plain": [
              "array([14,  7, 10, ..., 11, 14, 11])"
            ]
          },
          "execution_count": 40,
          "metadata": {
            "tags": []
          },
          "output_type": "execute_result"
        }
      ],
      "source": [
        "parametros.values"
      ]
    },
    {
      "cell_type": "code",
      "execution_count": 41,
      "metadata": {
        "id": "7WOHMBMYDb8a"
      },
      "outputs": [],
      "source": [
        "def generative_model_poisson(param):\n",
        "\n",
        "  result = np.random.poisson(param)\n",
        "  return result"
      ]
    },
    {
      "cell_type": "code",
      "execution_count": 42,
      "metadata": {
        "id": "NjOHMDYcEO4o"
      },
      "outputs": [],
      "source": [
        "pasaron = list()\n",
        "for l in parametros:\n",
        "  pasaron.append(generative_model_poisson(l))"
      ]
    },
    {
      "cell_type": "code",
      "execution_count": null,
      "metadata": {
        "colab": {
          "base_uri": "https://localhost:8080/"
        },
        "id": "a74XVxuAErEj",
        "outputId": "4529baa9-5664-4db0-9b01-d14e83edf179"
      },
      "outputs": [
        {
          "data": {
            "text/plain": [
              "[17, 7, 13, 14, 8, 10, 9, 10, 3, 12]"
            ]
          },
          "execution_count": 159,
          "metadata": {
            "tags": []
          },
          "output_type": "execute_result"
        }
      ],
      "source": [
        "pasaron[:10]"
      ]
    },
    {
      "cell_type": "code",
      "execution_count": 44,
      "metadata": {
        "id": "UUlq0MFOEuHg"
      },
      "outputs": [],
      "source": [
        "posterior = parametros[list(map(lambda x: x==12, pasaron))]"
      ]
    },
    {
      "cell_type": "code",
      "execution_count": 45,
      "metadata": {
        "colab": {
          "base_uri": "https://localhost:8080/",
          "height": 282
        },
        "id": "g1fuhQqOFgk5",
        "outputId": "2232d971-7da8-4f0f-ed35-cbe320c62980"
      },
      "outputs": [
        {
          "data": {
            "text/plain": [
              "<matplotlib.axes._subplots.AxesSubplot at 0x7f4551184950>"
            ]
          },
          "execution_count": 45,
          "metadata": {
            "tags": []
          },
          "output_type": "execute_result"
        },
        {
          "data": {
            "image/png": "[encoded data removed]",
            "text/plain": [
              "<Figure size 432x288 with 1 Axes>"
            ]
          },
          "metadata": {
            "needs_background": "light",
            "tags": []
          },
          "output_type": "display_data"
        }
      ],
      "source": [
        "medias.hist()"
      ]
    },
    {
      "cell_type": "code",
      "execution_count": 46,
      "metadata": {
        "colab": {
          "base_uri": "https://localhost:8080/",
          "height": 285
        },
        "id": "COzp5f2TFYCH",
        "outputId": "0df4ee8b-2140-4a5b-b757-eb5ca91f0465"
      },
      "outputs": [
        {
          "data": {
            "text/plain": [
              "<matplotlib.axes._subplots.AxesSubplot at 0x7f455111b410>"
            ]
          },
          "execution_count": 46,
          "metadata": {
            "tags": []
          },
          "output_type": "execute_result"
        },
        {
          "data": {
            "image/png": "[encoded data removed]",
            "text/plain": [
              "<Figure size 432x288 with 1 Axes>"
            ]
          },
          "metadata": {
            "needs_background": "light",
            "tags": []
          },
          "output_type": "display_data"
        }
      ],
      "source": [
        "posterior.hist()"
      ]
    },
    {
      "cell_type": "code",
      "execution_count": 47,
      "metadata": {
        "colab": {
          "base_uri": "https://localhost:8080/"
        },
        "id": "az8v1UCtFYwk",
        "outputId": "2784bc10-089b-4c3b-d8ce-fafd5dc296df"
      },
      "outputs": [
        {
          "data": {
            "text/plain": [
              "(6241,)"
            ]
          },
          "execution_count": 47,
          "metadata": {
            "tags": []
          },
          "output_type": "execute_result"
        }
      ],
      "source": [
        "posterior.shape"
      ]
    },
    {
      "cell_type": "code",
      "execution_count": 78,
      "metadata": {
        "colab": {
          "base_uri": "https://localhost:8080/"
        },
        "id": "0xNnUTACXPq1",
        "outputId": "5d24a73e-44e4-4b78-d9d9-bc6585b3b365"
      },
      "outputs": [
        {
          "data": {
            "text/plain": [
              "count    1928.000000\n",
              "mean        0.211297\n",
              "std         0.056142\n",
              "min         0.063676\n",
              "25%         0.170130\n",
              "50%         0.208407\n",
              "75%         0.245370\n",
              "max         0.432905\n",
              "dtype: float64"
            ]
          },
          "execution_count": 78,
          "metadata": {
            "tags": []
          },
          "output_type": "execute_result"
        }
      ],
      "source": [
        "posterior.describe()"
      ]
    },
    {
      "cell_type": "code",
      "execution_count": 79,
      "metadata": {
        "colab": {
          "base_uri": "https://localhost:8080/"
        },
        "id": "YRfa7DDQYr5s",
        "outputId": "ca47ce21-db7b-410e-8313-62d2b023714a"
      },
      "outputs": [
        {
          "name": "stdout",
          "output_type": "stream",
          "text": [
            "(-inf, 0.31043594000911157)\n"
          ]
        }
      ],
      "source": [
        "# Intervalo de confianza del 95%\n",
        "print(f'(-inf, {posterior.quantile(0.95)})')"
      ]
    },
    {
      "cell_type": "code",
      "execution_count": 80,
      "metadata": {
        "colab": {
          "base_uri": "https://localhost:8080/"
        },
        "id": "CeapjY2mZhbO",
        "outputId": "de283a44-09bc-45dc-b09d-59bcf9d719e0"
      },
      "outputs": [
        {
          "name": "stdout",
          "output_type": "stream",
          "text": [
            "(0.12550324181101968, inf)\n"
          ]
        }
      ],
      "source": [
        "# Intervalo de confianza del 95%\n",
        "print(f'({posterior.quantile(0.05)}, inf)')"
      ]
    },
    {
      "cell_type": "code",
      "execution_count": 81,
      "metadata": {
        "colab": {
          "base_uri": "https://localhost:8080/"
        },
        "id": "vUvpEATaZvqN",
        "outputId": "0a6e7920-1cad-49c5-9849-bf5f8ad79fef"
      },
      "outputs": [
        {
          "name": "stdout",
          "output_type": "stream",
          "text": [
            "(0.11399313802951036, 0.3327078601268798)\n"
          ]
        }
      ],
      "source": [
        "# Intervalo de confianza del 5%\n",
        "print(f'({posterior.quantile(0.025)}, {posterior.quantile(0.975)})')"
      ]
    },
    {
      "cell_type": "code",
      "execution_count": null,
      "metadata": {
        "id": "TMomnQ-taBso"
      },
      "outputs": [],
      "source": []
    }
  ],
  "metadata": {
    "colab": {
      "collapsed_sections": [],
      "name": "Bayesian_statistics.ipynb",
      "provenance": []
    },
    "interpreter": {
      "hash": "376f5b0795f81aa7b5d99e448d6274743a66c9892fd26cf11e505993f41df5fa"
    },
    "kernelspec": {
      "display_name": "Python 3.9.6 64-bit",
      "name": "python3"
    },
    "language_info": {
      "name": "python",
      "version": ""
    }
  },
  "nbformat": 4,
  "nbformat_minor": 0
}