{
 "cells": [
  {
   "cell_type": "markdown",
   "metadata": {},
   "source": [
    "# Imports"
   ]
  },
  {
   "cell_type": "code",
   "execution_count": 1,
   "metadata": {},
   "outputs": [],
   "source": [
    "# Librerias a utilizar\r\n",
    "#-------------------------------------------------\r\n",
    "# tratamiento de datos \r\n",
    "import pandas as pd\r\n",
    "import numpy as np\r\n",
    "#-------------------------------------------------\r\n",
    "# gráficos\r\n",
    "import matplotlib.pyplot as plt\r\n",
    "from matplotlib import style\r\n",
    "import seaborn as sns\r\n",
    "#-------------------------------------------------\r\n",
    "# procesado y modelado\r\n",
    "from scipy.stats import pearsonr\r\n",
    "from sklearn.linear_model import LinearRegression\r\n",
    "from sklearn.model_selection import train_test_split\r\n",
    "from sklearn.metrics import r2_score\r\n",
    "from sklearn.metrics import mean_squared_error\r\n",
    "import statsmodels.api as sm\r\n",
    "import statsmodels.formula.api as smf\r\n",
    "#-------------------------------------------------\r\n",
    "# configuración de warnings\r\n",
    "import warnings"
   ]
  },
  {
   "cell_type": "markdown",
   "metadata": {},
   "source": [
    "# Configuración de matplotlib"
   ]
  },
  {
   "cell_type": "code",
   "execution_count": 2,
   "metadata": {},
   "outputs": [],
   "source": [
    "# Congirucaciókn de matplotlib\r\n",
    "plt.rcParams['image.cmap'] = 'bwr'\r\n",
    "plt.rcParams['savefig.bbox'] = 'tight'\r\n",
    "style.use('ggplot') or plt.style.use('ggplot')"
   ]
  },
  {
   "cell_type": "markdown",
   "metadata": {},
   "source": [
    "# Datos"
   ]
  },
  {
   "cell_type": "code",
   "execution_count": 3,
   "metadata": {},
   "outputs": [
    {
     "data": {
      "text/html": [
       "<div>\n",
       "<style scoped>\n",
       "    .dataframe tbody tr th:only-of-type {\n",
       "        vertical-align: middle;\n",
       "    }\n",
       "\n",
       "    .dataframe tbody tr th {\n",
       "        vertical-align: top;\n",
       "    }\n",
       "\n",
       "    .dataframe thead th {\n",
       "        text-align: right;\n",
       "    }\n",
       "</style>\n",
       "<table border=\"1\" class=\"dataframe\">\n",
       "  <thead>\n",
       "    <tr style=\"text-align: right;\">\n",
       "      <th></th>\n",
       "      <th>equipos</th>\n",
       "      <th>bateos</th>\n",
       "      <th>runs</th>\n",
       "    </tr>\n",
       "  </thead>\n",
       "  <tbody>\n",
       "    <tr>\n",
       "      <th>0</th>\n",
       "      <td>Texas</td>\n",
       "      <td>5659</td>\n",
       "      <td>855</td>\n",
       "    </tr>\n",
       "    <tr>\n",
       "      <th>1</th>\n",
       "      <td>Boston</td>\n",
       "      <td>5710</td>\n",
       "      <td>875</td>\n",
       "    </tr>\n",
       "    <tr>\n",
       "      <th>2</th>\n",
       "      <td>Detroit</td>\n",
       "      <td>5563</td>\n",
       "      <td>787</td>\n",
       "    </tr>\n",
       "  </tbody>\n",
       "</table>\n",
       "</div>"
      ],
      "text/plain": [
       "   equipos  bateos  runs\n",
       "0    Texas    5659   855\n",
       "1   Boston    5710   875\n",
       "2  Detroit    5563   787"
      ]
     },
     "execution_count": 3,
     "metadata": {},
     "output_type": "execute_result"
    }
   ],
   "source": [
    "# Datos\r\n",
    "equipos = [\"Texas\",\"Boston\",\"Detroit\",\"Kansas\",\"St.\",\"New_S.\",\"New_Y.\",\r\n",
    "           \"Milwaukee\",\"Colorado\",\"Houston\",\"Baltimore\",\"Los_An.\",\"Chicago\",\r\n",
    "           \"Cincinnati\",\"Los_P.\",\"Philadelphia\",\"Chicago\",\"Cleveland\",\"Arizona\",\r\n",
    "           \"Toronto\",\"Minnesota\",\"Florida\",\"Pittsburgh\",\"Oakland\",\"Tampa\",\r\n",
    "           \"Atlanta\",\"Washington\",\"San.F\",\"San.I\",\"Seattle\"]\r\n",
    "bateos = [5659,  5710, 5563, 5672, 5532, 5600, 5518, 5447, 5544, 5598,\r\n",
    "          5585, 5436, 5549, 5612, 5513, 5579, 5502, 5509, 5421, 5559,\r\n",
    "          5487, 5508, 5421, 5452, 5436, 5528, 5441, 5486, 5417, 5421]\r\n",
    "\r\n",
    "runs = [855, 875, 787, 730, 762, 718, 867, 721, 735, 615, 708, 644, 654, 735,\r\n",
    "        667, 713, 654, 704, 731, 743, 619, 625, 610, 645, 707, 641, 624, 570,\r\n",
    "        593, 556]\r\n",
    "\r\n",
    "data = pd.DataFrame({'equipos': equipos, 'bateos': bateos, 'runs': runs})\r\n",
    "data.head(3)"
   ]
  },
  {
   "cell_type": "markdown",
   "metadata": {},
   "source": [
    "# Representación Gráfica"
   ]
  },
  {
   "cell_type": "code",
   "execution_count": 4,
   "metadata": {},
   "outputs": [
    {
     "data": {
      "image/png": "[encoded data removed]",
      "text/plain": [
       "<Figure size 432x276.48 with 1 Axes>"
      ]
     },
     "metadata": {},
     "output_type": "display_data"
    }
   ],
   "source": [
    "# representación gráfica\r\n",
    "fig, ax = plt.subplots(figsize=(6, 3.84))\r\n",
    "data.plot(x='bateos', y='runs', c='firebrick', kind='scatter', ax=ax)\r\n",
    "ax.set_title('Distribución de bateos y runs');"
   ]
  },
  {
   "cell_type": "code",
   "execution_count": 24,
   "metadata": {},
   "outputs": [
    {
     "name": "stdout",
     "output_type": "stream",
     "text": [
      "coeficiente de correlación de pearson:  0.6106270467206688\n",
      "P-value:  0.0003388351359791963\n"
     ]
    }
   ],
   "source": [
    "# correlación líneal entre las dos variables\r\n",
    "corr_test = pearsonr(x=data['bateos'], y=data['runs'])\r\n",
    "print('coeficiente de correlación de pearson: ', corr_test[0])\r\n",
    "print('P-value: ', corr_test[1])\r\n"
   ]
  },
  {
   "cell_type": "markdown",
   "metadata": {},
   "source": [
    "El gráfico y el test de correlación muestran una relación lineal, de intensidad considerable (r = 0.61) y significativa (p-value = 0.000339). Tiene sentido intentar generar un modelo de regresión lineal con el objetivo de predecir el número de runs en función del número de bateos del equipo.\r\n"
   ]
  },
  {
   "cell_type": "markdown",
   "metadata": {},
   "source": [
    "# Ajuste del modelo"
   ]
  },
  {
   "cell_type": "code",
   "execution_count": 48,
   "metadata": {},
   "outputs": [
    {
     "data": {
      "text/plain": [
       "LinearRegression()"
      ]
     },
     "execution_count": 48,
     "metadata": {},
     "output_type": "execute_result"
    }
   ],
   "source": [
    "# se ajusta el modelo empleando como variable respuesta runs y como prredictor bateos\r\n",
    "# División de los datos en train y test\r\n",
    "X = data['bateos']\r\n",
    "y = data['runs']\r\n",
    "\r\n",
    "X_train, X_test, y_train, y_test = train_test_split(\r\n",
    "                                        X.values.reshape(-1,1),\r\n",
    "                                        y.values.reshape(-1,1),\r\n",
    "                                        train_size   = 0.8,\r\n",
    "                                        random_state = 1234,\r\n",
    "                                        shuffle      = True\r\n",
    "                                    )\r\n",
    "\r\n",
    "# Creación del modelo\r\n",
    "# ==============================================================================\r\n",
    "modelo = LinearRegression()\r\n",
    "modelo.fit(X = X_train.reshape(-1, 1), y = y_train)"
   ]
  },
  {
   "cell_type": "code",
   "execution_count": 49,
   "metadata": {},
   "outputs": [
    {
     "name": "stdout",
     "output_type": "stream",
     "text": [
      "Intercept: [-2367.7028413]\n",
      "Coeficiente: [('b', 0.5528713534479736)]\n",
      "Coeficiente de determinación R^2: 0.3586119899498744\n"
     ]
    }
   ],
   "source": [
    "# informaciónd el modelo\r\n",
    "print(\"Intercept:\", modelo.intercept_)\r\n",
    "print(\"Coeficiente:\", list(zip(X.name, modelo.coef_.flatten(), )))\r\n",
    "print(\"Coeficiente de determinación R^2:\", modelo.score(X.values.reshape(-1, 1), y))"
   ]
  },
  {
   "cell_type": "markdown",
   "metadata": {},
   "source": [
    "Una vez entrenado el modelo, se evalúa la capacidad predictiva empleando el conjunto de test."
   ]
  },
  {
   "cell_type": "code",
   "execution_count": 54,
   "metadata": {},
   "outputs": [
    {
     "name": "stdout",
     "output_type": "stream",
     "text": [
      "[[643.78742093]\n",
      " [720.0836677 ]\n",
      " [690.78148597]]\n",
      "\n",
      "El error (rmse) de test es: 59.336716083360486\n"
     ]
    }
   ],
   "source": [
    "# Evualuación error del modelo\r\n",
    "predicciones = modelo.predict(X = X_test)\r\n",
    "print(predicciones[:3,])\r\n",
    "\r\n",
    "rmse = mean_squared_error(\r\n",
    "    y_true = y_test,\r\n",
    "    y_pred = predicciones,\r\n",
    "    squared = False\r\n",
    ")\r\n",
    "\r\n",
    "print()\r\n",
    "print(f'El error (rmse) de test es: {rmse}')"
   ]
  },
  {
   "cell_type": "markdown",
   "metadata": {},
   "source": [
    "# Modelando con Statsmodels"
   ]
  },
  {
   "cell_type": "code",
   "execution_count": 62,
   "metadata": {},
   "outputs": [],
   "source": [
    "# División de los datos en train y test\r\n",
    "X = data['bateos']\r\n",
    "y = data['runs']\r\n",
    "\r\n",
    "X_train, X_test, y_train, y_test = train_test_split(\r\n",
    "                                        X.values.reshape(-1,1),\r\n",
    "                                        y.values.reshape(-1,1),\r\n",
    "                                        train_size   = 0.8,\r\n",
    "                                        random_state = 1234,\r\n",
    "                                        shuffle      = True\r\n",
    "                                    )\r\n",
    "#----------------------------------------------------------------"
   ]
  },
  {
   "cell_type": "code",
   "execution_count": 76,
   "metadata": {},
   "outputs": [
    {
     "name": "stdout",
     "output_type": "stream",
     "text": [
      "                            OLS Regression Results                            \n",
      "==============================================================================\n",
      "Dep. Variable:                      y   R-squared:                       0.271\n",
      "Model:                            OLS   Adj. R-squared:                  0.238\n",
      "Method:                 Least Squares   F-statistic:                     8.191\n",
      "Date:                Mon, 05 Jul 2021   Prob (F-statistic):            0.00906\n",
      "Time:                        12:37:19   Log-Likelihood:                -134.71\n",
      "No. Observations:                  24   AIC:                             273.4\n",
      "Df Residuals:                      22   BIC:                             275.8\n",
      "Df Model:                           1                                         \n",
      "Covariance Type:            nonrobust                                         \n",
      "==============================================================================\n",
      "                 coef    std err          t      P>|t|      [0.025      0.975]\n",
      "------------------------------------------------------------------------------\n",
      "const      -2367.7028   1066.357     -2.220      0.037   -4579.192    -156.214\n",
      "x1             0.5529      0.193      2.862      0.009       0.152       0.953\n",
      "==============================================================================\n",
      "Omnibus:                        5.033   Durbin-Watson:                   1.902\n",
      "Prob(Omnibus):                  0.081   Jarque-Bera (JB):                3.170\n",
      "Skew:                           0.829   Prob(JB):                        0.205\n",
      "Kurtosis:                       3.650   Cond. No.                     4.17e+05\n",
      "==============================================================================\n",
      "\n",
      "Notes:\n",
      "[1] Standard Errors assume that the covariance matrix of the errors is correctly specified.\n",
      "[2] The condition number is large, 4.17e+05. This might indicate that there are\n",
      "strong multicollinearity or other numerical problems.\n"
     ]
    }
   ],
   "source": [
    "# Creación del modelo utilizando matrices como en scikitlearn\r\n",
    "# # A la matriz de predictores se le tiene que añadir una columna de 1s para el intercept del modelo\r\n",
    "X_train = sm.add_constant(X_train, prepend=True)\r\n",
    "modelo = sm.OLS(endog=y_train, exog=X_train,)\r\n",
    "modelo = modelo.fit()\r\n",
    "print(modelo.summary())\r\n"
   ]
  },
  {
   "cell_type": "markdown",
   "metadata": {},
   "source": [
    "# Intervalos de confianza de los coeficientes"
   ]
  },
  {
   "cell_type": "code",
   "execution_count": 68,
   "metadata": {},
   "outputs": [
    {
     "data": {
      "text/plain": [
       "array([[-4.57919205e+03, -1.56213633e+02],\n",
       "       [ 1.52244180e-01,  9.53498527e-01]])"
      ]
     },
     "execution_count": 68,
     "metadata": {},
     "output_type": "execute_result"
    }
   ],
   "source": [
    "# intervalos de confianza para los coeficientes del modelo\r\n",
    "modelo.conf_int(alpha=0.05)\r\n"
   ]
  },
  {
   "cell_type": "markdown",
   "metadata": {},
   "source": [
    "# Predicciones"
   ]
  },
  {
   "cell_type": "markdown",
   "metadata": {},
   "source": [
    "Una vez entrenado el modelo, se pueden obtener predicciones para nuevos datos. Los modelos de statsmodels permiten calcular las predicciones de dos formas:\r\n",
    "\r\n",
    "### .predict(): devuelve únicamente el valor de las predicciones.\r\n",
    "### .get_prediction().summary_frame(): devuelve, además de las predicciones, los intervalos de confianza asociados."
   ]
  },
  {
   "cell_type": "markdown",
   "metadata": {},
   "source": [
    "# Representación gráfica del modelo\r\n",
    "\r\n",
    "### Además de la línea de mínimos cuadrados, es recomendable incluir los límites superior e inferior del intervalo de confianza. \r\n",
    "### Esto permite identificar la región en la que, según el modelo generado y para un determinado nivel de confianza, \r\n",
    "### se encuentra el valor promedio de la variable respuesta."
   ]
  },
  {
   "cell_type": "code",
   "execution_count": 73,
   "metadata": {},
   "outputs": [
    {
     "data": {
      "text/html": [
       "<div>\n",
       "<style scoped>\n",
       "    .dataframe tbody tr th:only-of-type {\n",
       "        vertical-align: middle;\n",
       "    }\n",
       "\n",
       "    .dataframe tbody tr th {\n",
       "        vertical-align: top;\n",
       "    }\n",
       "\n",
       "    .dataframe thead th {\n",
       "        text-align: right;\n",
       "    }\n",
       "</style>\n",
       "<table border=\"1\" class=\"dataframe\">\n",
       "  <thead>\n",
       "    <tr style=\"text-align: right;\">\n",
       "      <th></th>\n",
       "      <th>mean</th>\n",
       "      <th>mean_se</th>\n",
       "      <th>mean_ci_lower</th>\n",
       "      <th>mean_ci_upper</th>\n",
       "      <th>obs_ci_lower</th>\n",
       "      <th>obs_ci_upper</th>\n",
       "      <th>x</th>\n",
       "      <th>y</th>\n",
       "    </tr>\n",
       "  </thead>\n",
       "  <tbody>\n",
       "    <tr>\n",
       "      <th>4</th>\n",
       "      <td>629.412766</td>\n",
       "      <td>23.713237</td>\n",
       "      <td>580.234522</td>\n",
       "      <td>678.591009</td>\n",
       "      <td>477.670673</td>\n",
       "      <td>781.154858</td>\n",
       "      <td>5421.0</td>\n",
       "      <td>610</td>\n",
       "    </tr>\n",
       "    <tr>\n",
       "      <th>17</th>\n",
       "      <td>629.412766</td>\n",
       "      <td>23.713237</td>\n",
       "      <td>580.234522</td>\n",
       "      <td>678.591009</td>\n",
       "      <td>477.670673</td>\n",
       "      <td>781.154858</td>\n",
       "      <td>5421.0</td>\n",
       "      <td>556</td>\n",
       "    </tr>\n",
       "    <tr>\n",
       "      <th>10</th>\n",
       "      <td>629.412766</td>\n",
       "      <td>23.713237</td>\n",
       "      <td>580.234522</td>\n",
       "      <td>678.591009</td>\n",
       "      <td>477.670673</td>\n",
       "      <td>781.154858</td>\n",
       "      <td>5421.0</td>\n",
       "      <td>731</td>\n",
       "    </tr>\n",
       "    <tr>\n",
       "      <th>5</th>\n",
       "      <td>637.705836</td>\n",
       "      <td>21.455690</td>\n",
       "      <td>593.209459</td>\n",
       "      <td>682.202213</td>\n",
       "      <td>487.415815</td>\n",
       "      <td>787.995858</td>\n",
       "      <td>5436.0</td>\n",
       "      <td>707</td>\n",
       "    </tr>\n",
       "  </tbody>\n",
       "</table>\n",
       "</div>"
      ],
      "text/plain": [
       "          mean    mean_se  mean_ci_lower  mean_ci_upper  obs_ci_lower  \\\n",
       "4   629.412766  23.713237     580.234522     678.591009    477.670673   \n",
       "17  629.412766  23.713237     580.234522     678.591009    477.670673   \n",
       "10  629.412766  23.713237     580.234522     678.591009    477.670673   \n",
       "5   637.705836  21.455690     593.209459     682.202213    487.415815   \n",
       "\n",
       "    obs_ci_upper       x    y  \n",
       "4     781.154858  5421.0  610  \n",
       "17    781.154858  5421.0  556  \n",
       "10    781.154858  5421.0  731  \n",
       "5     787.995858  5436.0  707  "
      ]
     },
     "execution_count": 73,
     "metadata": {},
     "output_type": "execute_result"
    }
   ],
   "source": [
    "# predicciones con intervalo de confianza del 95%\r\n",
    "predicciones = modelo.get_prediction(exog = X_train).summary_frame(alpha=0.05)\r\n",
    "predicciones['x'] = X_train[:,1]\r\n",
    "predicciones['y'] = y_train\r\n",
    "predicciones = predicciones.sort_values('x')\r\n",
    "predicciones.head(4)\r\n"
   ]
  },
  {
   "cell_type": "code",
   "execution_count": 75,
   "metadata": {},
   "outputs": [
    {
     "data": {
      "image/png": "[encoded data removed]",
      "text/plain": [
       "<Figure size 432x276.48 with 1 Axes>"
      ]
     },
     "metadata": {},
     "output_type": "display_data"
    }
   ],
   "source": [
    "# grafica del modelo \r\n",
    "fig, ax = plt.subplots(figsize=(6, 3.84))\r\n",
    "ax.scatter(predicciones['x'], predicciones['y'], marker='o', color = \"gray\")\r\n",
    "ax.plot(predicciones['x'], predicciones[\"mean\"], linestyle='-', label=\"OLS\")\r\n",
    "ax.plot(predicciones['x'], predicciones[\"mean_ci_lower\"], linestyle='--', color='red', label=\"95% CI\")\r\n",
    "ax.plot(predicciones['x'], predicciones[\"mean_ci_upper\"], linestyle='--', color='red')\r\n",
    "ax.fill_between(predicciones['x'], predicciones[\"mean_ci_lower\"], predicciones[\"mean_ci_upper\"], alpha=0.1)\r\n",
    "ax.legend();"
   ]
  },
  {
   "cell_type": "code",
   "execution_count": null,
   "metadata": {},
   "outputs": [],
   "source": []
  }
 ],
 "metadata": {
  "interpreter": {
   "hash": "376f5b0795f81aa7b5d99e448d6274743a66c9892fd26cf11e505993f41df5fa"
  },
  "kernelspec": {
   "display_name": "Python 3.9.6 64-bit",
   "name": "python3"
  },
  "language_info": {
   "codemirror_mode": {
    "name": "ipython",
    "version": 3
   },
   "file_extension": ".py",
   "mimetype": "text/x-python",
   "name": "python",
   "nbconvert_exporter": "python",
   "pygments_lexer": "ipython3",
   "version": "3.9.6"
  },
  "orig_nbformat": 4
 },
 "nbformat": 4,
 "nbformat_minor": 2
}