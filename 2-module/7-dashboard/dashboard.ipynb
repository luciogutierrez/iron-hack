{
 "metadata": {
  "language_info": {
   "codemirror_mode": {
    "name": "ipython",
    "version": 3
   },
   "file_extension": ".py",
   "mimetype": "text/x-python",
   "name": "python",
   "nbconvert_exporter": "python",
   "pygments_lexer": "ipython3",
   "version": "3.9.5"
  },
  "orig_nbformat": 2,
  "kernelspec": {
   "name": "python395jvsc74a57bd0376f5b0795f81aa7b5d99e448d6274743a66c9892fd26cf11e505993f41df5fa",
   "display_name": "Python 3.9.5 64-bit"
  }
 },
 "nbformat": 4,
 "nbformat_minor": 2,
 "cells": [
  {
   "cell_type": "code",
   "execution_count": 10,
   "metadata": {},
   "outputs": [],
   "source": [
    "import dash\n",
    "import dash_core_components as dcc\n",
    "import dash_html_components as html\n",
    "import pandas as pd"
   ]
  },
  {
   "cell_type": "code",
   "execution_count": 4,
   "metadata": {},
   "outputs": [
    {
     "output_type": "execute_result",
     "data": {
      "text/plain": [
       "(18249, 14)"
      ]
     },
     "metadata": {},
     "execution_count": 4
    }
   ],
   "source": [
    "data = pd.read_csv('../../datasets/avocado.csv')\n",
    "data.shape"
   ]
  },
  {
   "cell_type": "code",
   "execution_count": 7,
   "metadata": {},
   "outputs": [
    {
     "output_type": "execute_result",
     "data": {
      "text/plain": [
       "   Unnamed: 0        Date  AveragePrice  Total Volume     4046       4225  \\\n",
       "0           0  2015-12-27          1.33      64236.62  1036.74   54454.85   \n",
       "1           1  2015-12-20          1.35      54876.98   674.28   44638.81   \n",
       "2           2  2015-12-13          0.93     118220.22   794.70  109149.67   \n",
       "3           3  2015-12-06          1.08      78992.15  1132.00   71976.41   \n",
       "4           4  2015-11-29          1.28      51039.60   941.48   43838.39   \n",
       "\n",
       "     4770  Total Bags  Small Bags  Large Bags  XLarge Bags          type  \\\n",
       "0   48.16     8696.87     8603.62       93.25          0.0  conventional   \n",
       "1   58.33     9505.56     9408.07       97.49          0.0  conventional   \n",
       "2  130.50     8145.35     8042.21      103.14          0.0  conventional   \n",
       "3   72.58     5811.16     5677.40      133.76          0.0  conventional   \n",
       "4   75.78     6183.95     5986.26      197.69          0.0  conventional   \n",
       "\n",
       "   year  region  \n",
       "0  2015  Albany  \n",
       "1  2015  Albany  \n",
       "2  2015  Albany  \n",
       "3  2015  Albany  \n",
       "4  2015  Albany  "
      ],
      "text/html": "<div>\n<style scoped>\n    .dataframe tbody tr th:only-of-type {\n        vertical-align: middle;\n    }\n\n    .dataframe tbody tr th {\n        vertical-align: top;\n    }\n\n    .dataframe thead th {\n        text-align: right;\n    }\n</style>\n<table border=\"1\" class=\"dataframe\">\n  <thead>\n    <tr style=\"text-align: right;\">\n      <th></th>\n      <th>Unnamed: 0</th>\n      <th>Date</th>\n      <th>AveragePrice</th>\n      <th>Total Volume</th>\n      <th>4046</th>\n      <th>4225</th>\n      <th>4770</th>\n      <th>Total Bags</th>\n      <th>Small Bags</th>\n      <th>Large Bags</th>\n      <th>XLarge Bags</th>\n      <th>type</th>\n      <th>year</th>\n      <th>region</th>\n    </tr>\n  </thead>\n  <tbody>\n    <tr>\n      <th>0</th>\n      <td>0</td>\n      <td>2015-12-27</td>\n      <td>1.33</td>\n      <td>64236.62</td>\n      <td>1036.74</td>\n      <td>54454.85</td>\n      <td>48.16</td>\n      <td>8696.87</td>\n      <td>8603.62</td>\n      <td>93.25</td>\n      <td>0.0</td>\n      <td>conventional</td>\n      <td>2015</td>\n      <td>Albany</td>\n    </tr>\n    <tr>\n      <th>1</th>\n      <td>1</td>\n      <td>2015-12-20</td>\n      <td>1.35</td>\n      <td>54876.98</td>\n      <td>674.28</td>\n      <td>44638.81</td>\n      <td>58.33</td>\n      <td>9505.56</td>\n      <td>9408.07</td>\n      <td>97.49</td>\n      <td>0.0</td>\n      <td>conventional</td>\n      <td>2015</td>\n      <td>Albany</td>\n    </tr>\n    <tr>\n      <th>2</th>\n      <td>2</td>\n      <td>2015-12-13</td>\n      <td>0.93</td>\n      <td>118220.22</td>\n      <td>794.70</td>\n      <td>109149.67</td>\n      <td>130.50</td>\n      <td>8145.35</td>\n      <td>8042.21</td>\n      <td>103.14</td>\n      <td>0.0</td>\n      <td>conventional</td>\n      <td>2015</td>\n      <td>Albany</td>\n    </tr>\n    <tr>\n      <th>3</th>\n      <td>3</td>\n      <td>2015-12-06</td>\n      <td>1.08</td>\n      <td>78992.15</td>\n      <td>1132.00</td>\n      <td>71976.41</td>\n      <td>72.58</td>\n      <td>5811.16</td>\n      <td>5677.40</td>\n      <td>133.76</td>\n      <td>0.0</td>\n      <td>conventional</td>\n      <td>2015</td>\n      <td>Albany</td>\n    </tr>\n    <tr>\n      <th>4</th>\n      <td>4</td>\n      <td>2015-11-29</td>\n      <td>1.28</td>\n      <td>51039.60</td>\n      <td>941.48</td>\n      <td>43838.39</td>\n      <td>75.78</td>\n      <td>6183.95</td>\n      <td>5986.26</td>\n      <td>197.69</td>\n      <td>0.0</td>\n      <td>conventional</td>\n      <td>2015</td>\n      <td>Albany</td>\n    </tr>\n  </tbody>\n</table>\n</div>"
     },
     "metadata": {},
     "execution_count": 7
    }
   ],
   "source": [
    "data = data.query(\"type == 'conventional' and region == 'Albany'\")\n",
    "data.head()"
   ]
  },
  {
   "cell_type": "code",
   "execution_count": 8,
   "metadata": {},
   "outputs": [
    {
     "output_type": "stream",
     "name": "stdout",
     "text": [
      "<class 'pandas.core.frame.DataFrame'>\nInt64Index: 169 entries, 0 to 8489\nData columns (total 14 columns):\n #   Column        Non-Null Count  Dtype  \n---  ------        --------------  -----  \n 0   Unnamed: 0    169 non-null    int64  \n 1   Date          169 non-null    object \n 2   AveragePrice  169 non-null    float64\n 3   Total Volume  169 non-null    float64\n 4   4046          169 non-null    float64\n 5   4225          169 non-null    float64\n 6   4770          169 non-null    float64\n 7   Total Bags    169 non-null    float64\n 8   Small Bags    169 non-null    float64\n 9   Large Bags    169 non-null    float64\n 10  XLarge Bags   169 non-null    float64\n 11  type          169 non-null    object \n 12  year          169 non-null    int64  \n 13  region        169 non-null    object \ndtypes: float64(9), int64(2), object(3)\nmemory usage: 23.9+ KB\n"
     ]
    }
   ],
   "source": [
    "data.info()"
   ]
  },
  {
   "cell_type": "code",
   "execution_count": 15,
   "metadata": {},
   "outputs": [],
   "source": [
    "data = data.copy()\n",
    "data['Date'] = pd.to_datetime(data['Date'], format='%Y-%m-%d')\n",
    "data.sort_values('Date', inplace=True)"
   ]
  },
  {
   "cell_type": "code",
   "execution_count": 16,
   "metadata": {},
   "outputs": [
    {
     "output_type": "execute_result",
     "data": {
      "text/plain": [
       "    Unnamed: 0       Date  AveragePrice  Total Volume     4046      4225  \\\n",
       "51          51 2015-01-04          1.22      40873.28  2819.50  28287.42   \n",
       "50          50 2015-01-11          1.24      41195.08  1002.85  31640.34   \n",
       "49          49 2015-01-18          1.17      44511.28   914.14  31540.32   \n",
       "48          48 2015-01-25          1.06      45147.50   941.38  33196.16   \n",
       "47          47 2015-02-01          0.99      70873.60  1353.90  60017.20   \n",
       "\n",
       "      4770  Total Bags  Small Bags  Large Bags  XLarge Bags          type  \\\n",
       "51   49.90     9716.46     9186.93      529.53          0.0  conventional   \n",
       "50  127.12     8424.77     8036.04      388.73          0.0  conventional   \n",
       "49  135.77    11921.05    11651.09      269.96          0.0  conventional   \n",
       "48  164.14    10845.82    10103.35      742.47          0.0  conventional   \n",
       "47  179.32     9323.18     9170.82      152.36          0.0  conventional   \n",
       "\n",
       "    year  region  \n",
       "51  2015  Albany  \n",
       "50  2015  Albany  \n",
       "49  2015  Albany  \n",
       "48  2015  Albany  \n",
       "47  2015  Albany  "
      ],
      "text/html": "<div>\n<style scoped>\n    .dataframe tbody tr th:only-of-type {\n        vertical-align: middle;\n    }\n\n    .dataframe tbody tr th {\n        vertical-align: top;\n    }\n\n    .dataframe thead th {\n        text-align: right;\n    }\n</style>\n<table border=\"1\" class=\"dataframe\">\n  <thead>\n    <tr style=\"text-align: right;\">\n      <th></th>\n      <th>Unnamed: 0</th>\n      <th>Date</th>\n      <th>AveragePrice</th>\n      <th>Total Volume</th>\n      <th>4046</th>\n      <th>4225</th>\n      <th>4770</th>\n      <th>Total Bags</th>\n      <th>Small Bags</th>\n      <th>Large Bags</th>\n      <th>XLarge Bags</th>\n      <th>type</th>\n      <th>year</th>\n      <th>region</th>\n    </tr>\n  </thead>\n  <tbody>\n    <tr>\n      <th>51</th>\n      <td>51</td>\n      <td>2015-01-04</td>\n      <td>1.22</td>\n      <td>40873.28</td>\n      <td>2819.50</td>\n      <td>28287.42</td>\n      <td>49.90</td>\n      <td>9716.46</td>\n      <td>9186.93</td>\n      <td>529.53</td>\n      <td>0.0</td>\n      <td>conventional</td>\n      <td>2015</td>\n      <td>Albany</td>\n    </tr>\n    <tr>\n      <th>50</th>\n      <td>50</td>\n      <td>2015-01-11</td>\n      <td>1.24</td>\n      <td>41195.08</td>\n      <td>1002.85</td>\n      <td>31640.34</td>\n      <td>127.12</td>\n      <td>8424.77</td>\n      <td>8036.04</td>\n      <td>388.73</td>\n      <td>0.0</td>\n      <td>conventional</td>\n      <td>2015</td>\n      <td>Albany</td>\n    </tr>\n    <tr>\n      <th>49</th>\n      <td>49</td>\n      <td>2015-01-18</td>\n      <td>1.17</td>\n      <td>44511.28</td>\n      <td>914.14</td>\n      <td>31540.32</td>\n      <td>135.77</td>\n      <td>11921.05</td>\n      <td>11651.09</td>\n      <td>269.96</td>\n      <td>0.0</td>\n      <td>conventional</td>\n      <td>2015</td>\n      <td>Albany</td>\n    </tr>\n    <tr>\n      <th>48</th>\n      <td>48</td>\n      <td>2015-01-25</td>\n      <td>1.06</td>\n      <td>45147.50</td>\n      <td>941.38</td>\n      <td>33196.16</td>\n      <td>164.14</td>\n      <td>10845.82</td>\n      <td>10103.35</td>\n      <td>742.47</td>\n      <td>0.0</td>\n      <td>conventional</td>\n      <td>2015</td>\n      <td>Albany</td>\n    </tr>\n    <tr>\n      <th>47</th>\n      <td>47</td>\n      <td>2015-02-01</td>\n      <td>0.99</td>\n      <td>70873.60</td>\n      <td>1353.90</td>\n      <td>60017.20</td>\n      <td>179.32</td>\n      <td>9323.18</td>\n      <td>9170.82</td>\n      <td>152.36</td>\n      <td>0.0</td>\n      <td>conventional</td>\n      <td>2015</td>\n      <td>Albany</td>\n    </tr>\n  </tbody>\n</table>\n</div>"
     },
     "metadata": {},
     "execution_count": 16
    }
   ],
   "source": [
    "data.head()"
   ]
  },
  {
   "cell_type": "code",
   "execution_count": null,
   "metadata": {},
   "outputs": [],
   "source": []
  }
 ]
}