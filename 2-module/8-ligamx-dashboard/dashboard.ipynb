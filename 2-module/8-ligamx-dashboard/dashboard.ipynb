{
 "metadata": {
  "language_info": {
   "codemirror_mode": {
    "name": "ipython",
    "version": 3
   },
   "file_extension": ".py",
   "mimetype": "text/x-python",
   "name": "python",
   "nbconvert_exporter": "python",
   "pygments_lexer": "ipython3",
   "version": "3.9.5"
  },
  "orig_nbformat": 2,
  "kernelspec": {
   "name": "python3",
   "display_name": "Python 3.9.5 64-bit"
  },
  "interpreter": {
   "hash": "376f5b0795f81aa7b5d99e448d6274743a66c9892fd26cf11e505993f41df5fa"
  }
 },
 "nbformat": 4,
 "nbformat_minor": 2,
 "cells": [
  {
   "cell_type": "code",
   "execution_count": 4,
   "metadata": {},
   "outputs": [],
   "source": [
    "import pandas as pd\n"
   ]
  },
  {
   "cell_type": "code",
   "execution_count": 6,
   "metadata": {},
   "outputs": [
    {
     "output_type": "execute_result",
     "data": {
      "text/plain": [
       "   Unnamed: 0   equipo  jornada  gf  gc  gt local  gd  pj  pg  ...  pts  gf_a  \\\n",
       "0           0  América        1   2   1   3     L   1   1   1  ...    3     2   \n",
       "1           1  América        2   0   1   1     V  -1   1   0  ...    0     2   \n",
       "2           2  América        3   2   0   2     L   2   1   1  ...    3     4   \n",
       "3           3  América        4   1   1   2     V   0   1   0  ...    1     5   \n",
       "4           4  América        5   1   0   1     L   1   1   1  ...    3     6   \n",
       "\n",
       "   gc_a  gt_a  gd_a  pj_a  pg_a  pe_a  pp_a  pts_a  \n",
       "0     1     3     1     1     1     0     0      3  \n",
       "1     2     4     0     2     1     0     1      3  \n",
       "2     2     6     2     3     2     0     1      6  \n",
       "3     3     8     2     4     2     1     1      7  \n",
       "4     3     9     3     5     3     1     1     10  \n",
       "\n",
       "[5 rows x 22 columns]"
      ],
      "text/html": "<div>\n<style scoped>\n    .dataframe tbody tr th:only-of-type {\n        vertical-align: middle;\n    }\n\n    .dataframe tbody tr th {\n        vertical-align: top;\n    }\n\n    .dataframe thead th {\n        text-align: right;\n    }\n</style>\n<table border=\"1\" class=\"dataframe\">\n  <thead>\n    <tr style=\"text-align: right;\">\n      <th></th>\n      <th>Unnamed: 0</th>\n      <th>equipo</th>\n      <th>jornada</th>\n      <th>gf</th>\n      <th>gc</th>\n      <th>gt</th>\n      <th>local</th>\n      <th>gd</th>\n      <th>pj</th>\n      <th>pg</th>\n      <th>...</th>\n      <th>pts</th>\n      <th>gf_a</th>\n      <th>gc_a</th>\n      <th>gt_a</th>\n      <th>gd_a</th>\n      <th>pj_a</th>\n      <th>pg_a</th>\n      <th>pe_a</th>\n      <th>pp_a</th>\n      <th>pts_a</th>\n    </tr>\n  </thead>\n  <tbody>\n    <tr>\n      <th>0</th>\n      <td>0</td>\n      <td>América</td>\n      <td>1</td>\n      <td>2</td>\n      <td>1</td>\n      <td>3</td>\n      <td>L</td>\n      <td>1</td>\n      <td>1</td>\n      <td>1</td>\n      <td>...</td>\n      <td>3</td>\n      <td>2</td>\n      <td>1</td>\n      <td>3</td>\n      <td>1</td>\n      <td>1</td>\n      <td>1</td>\n      <td>0</td>\n      <td>0</td>\n      <td>3</td>\n    </tr>\n    <tr>\n      <th>1</th>\n      <td>1</td>\n      <td>América</td>\n      <td>2</td>\n      <td>0</td>\n      <td>1</td>\n      <td>1</td>\n      <td>V</td>\n      <td>-1</td>\n      <td>1</td>\n      <td>0</td>\n      <td>...</td>\n      <td>0</td>\n      <td>2</td>\n      <td>2</td>\n      <td>4</td>\n      <td>0</td>\n      <td>2</td>\n      <td>1</td>\n      <td>0</td>\n      <td>1</td>\n      <td>3</td>\n    </tr>\n    <tr>\n      <th>2</th>\n      <td>2</td>\n      <td>América</td>\n      <td>3</td>\n      <td>2</td>\n      <td>0</td>\n      <td>2</td>\n      <td>L</td>\n      <td>2</td>\n      <td>1</td>\n      <td>1</td>\n      <td>...</td>\n      <td>3</td>\n      <td>4</td>\n      <td>2</td>\n      <td>6</td>\n      <td>2</td>\n      <td>3</td>\n      <td>2</td>\n      <td>0</td>\n      <td>1</td>\n      <td>6</td>\n    </tr>\n    <tr>\n      <th>3</th>\n      <td>3</td>\n      <td>América</td>\n      <td>4</td>\n      <td>1</td>\n      <td>1</td>\n      <td>2</td>\n      <td>V</td>\n      <td>0</td>\n      <td>1</td>\n      <td>0</td>\n      <td>...</td>\n      <td>1</td>\n      <td>5</td>\n      <td>3</td>\n      <td>8</td>\n      <td>2</td>\n      <td>4</td>\n      <td>2</td>\n      <td>1</td>\n      <td>1</td>\n      <td>7</td>\n    </tr>\n    <tr>\n      <th>4</th>\n      <td>4</td>\n      <td>América</td>\n      <td>5</td>\n      <td>1</td>\n      <td>0</td>\n      <td>1</td>\n      <td>L</td>\n      <td>1</td>\n      <td>1</td>\n      <td>1</td>\n      <td>...</td>\n      <td>3</td>\n      <td>6</td>\n      <td>3</td>\n      <td>9</td>\n      <td>3</td>\n      <td>5</td>\n      <td>3</td>\n      <td>1</td>\n      <td>1</td>\n      <td>10</td>\n    </tr>\n  </tbody>\n</table>\n<p>5 rows × 22 columns</p>\n</div>"
     },
     "metadata": {},
     "execution_count": 6
    }
   ],
   "source": [
    "data = pd.read_csv(\"liga-mx-c-2021.csv\")\n",
    "data.head()"
   ]
  },
  {
   "cell_type": "code",
   "execution_count": 35,
   "metadata": {},
   "outputs": [
    {
     "output_type": "execute_result",
     "data": {
      "text/plain": [
       "{'gf_a': 'Goles a favor',\n",
       " 'gc_a': 'Goles en Contra',\n",
       " 'gd_a': 'Diferencia de goles',\n",
       " 'pts_a': 'Puntos'}"
      ]
     },
     "metadata": {},
     "execution_count": 35
    }
   ],
   "source": [
    "indicadores = {'gf_a':'Goles a favor','gc_a':'Goles en Contra','gd_a':'Diferencia de goles','pts_a':'Puntos'}\n",
    "indicadores"
   ]
  },
  {
   "cell_type": "code",
   "execution_count": 36,
   "metadata": {},
   "outputs": [
    {
     "output_type": "stream",
     "name": "stdout",
     "text": [
      "Goles a favor\nGoles en Contra\nDiferencia de goles\nPuntos\n"
     ]
    }
   ],
   "source": [
    "for indicador in indicadores.values():\n",
    "    print(indicador)\n"
   ]
  },
  {
   "cell_type": "code",
   "execution_count": 37,
   "metadata": {},
   "outputs": [
    {
     "output_type": "execute_result",
     "data": {
      "text/plain": [
       "{'gf_a': 'Goles a favor',\n",
       " 'gc_a': 'Goles en Contra',\n",
       " 'gd_a': 'Diferencia de goles',\n",
       " 'pts_a': 'Puntos'}"
      ]
     },
     "metadata": {},
     "execution_count": 37
    }
   ],
   "source": [
    "indicadores"
   ]
  },
  {
   "cell_type": "code",
   "execution_count": 38,
   "metadata": {},
   "outputs": [
    {
     "output_type": "execute_result",
     "data": {
      "text/plain": [
       "'Puntos'"
      ]
     },
     "metadata": {},
     "execution_count": 38
    }
   ],
   "source": [
    "indicador"
   ]
  },
  {
   "cell_type": "code",
   "execution_count": 41,
   "metadata": {},
   "outputs": [
    {
     "output_type": "execute_result",
     "data": {
      "text/plain": [
       "0       3\n",
       "1       3\n",
       "2       6\n",
       "3       7\n",
       "4      10\n",
       "       ..\n",
       "301    19\n",
       "302    19\n",
       "303    19\n",
       "304    22\n",
       "305    22\n",
       "Name: kpi, Length: 306, dtype: int64"
      ]
     },
     "metadata": {},
     "execution_count": 41
    }
   ],
   "source": [
    "indicador = 'Puntos'\n",
    "campo = ''.join([key for key, name in indicadores.items() if name == indicador])\n",
    "data['kpi'] = data[campo]\n",
    "data['kpi']"
   ]
  },
  {
   "cell_type": "code",
   "execution_count": null,
   "metadata": {},
   "outputs": [],
   "source": []
  }
 ]
}