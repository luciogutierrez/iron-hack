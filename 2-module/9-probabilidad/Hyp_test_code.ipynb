{
  "nbformat": 4,
  "nbformat_minor": 0,
  "metadata": {
    "colab": {
      "name": "Hyp_test_code.ipynb",
      "provenance": [],
      "collapsed_sections": []
    },
    "kernelspec": {
      "name": "python3",
      "display_name": "Python 3.9.5 64-bit"
    },
    "interpreter": {
      "hash": "376f5b0795f81aa7b5d99e448d6274743a66c9892fd26cf11e505993f41df5fa"
    }
  },
  "cells": [
    {
      "cell_type": "code",
      "metadata": {
        "id": "hJSRnoNnXC3V"
      },
      "source": [
        "from statistics import mean\n",
        "import numpy as np\n",
        "import pandas as pd\n",
        "import matplotlib.pyplot as plt\n",
        "import seaborn as sns\n",
        "import scipy.stats as stats"
      ],
      "execution_count": 1,
      "outputs": []
    },
    {
      "cell_type": "code",
      "metadata": {
        "colab": {
          "base_uri": "https://localhost:8080/"
        },
        "id": "qGz5xfPorur1",
        "outputId": "ec48e845-5910-44a1-aa35-bc1bddc1975f"
      },
      "source": [
        "# from google.colab import drive\n",
        "# drive.mount('/content/drive')"
      ],
      "execution_count": null,
      "outputs": [
        {
          "output_type": "stream",
          "text": [
            "Mounted at /content/drive\n"
          ],
          "name": "stdout"
        }
      ]
    },
    {
      "cell_type": "code",
      "execution_count": 3,
      "metadata": {},
      "outputs": [
        {
          "output_type": "execute_result",
          "data": {
            "text/plain": [
              "                    ip  compra       fecha\n",
              "0  0146.0104.0044.0034       0  2020-01-01\n",
              "1  0166.0231.0189.0175       1  2020-01-01\n",
              "2  0031.0086.0235.0176       0  2020-01-01\n",
              "3  0128.0126.0101.0178       0  2020-01-01\n",
              "4  0096.0176.0164.0068       0  2020-01-01"
            ],
            "text/html": "<div>\n<style scoped>\n    .dataframe tbody tr th:only-of-type {\n        vertical-align: middle;\n    }\n\n    .dataframe tbody tr th {\n        vertical-align: top;\n    }\n\n    .dataframe thead th {\n        text-align: right;\n    }\n</style>\n<table border=\"1\" class=\"dataframe\">\n  <thead>\n    <tr style=\"text-align: right;\">\n      <th></th>\n      <th>ip</th>\n      <th>compra</th>\n      <th>fecha</th>\n    </tr>\n  </thead>\n  <tbody>\n    <tr>\n      <th>0</th>\n      <td>0146.0104.0044.0034</td>\n      <td>0</td>\n      <td>2020-01-01</td>\n    </tr>\n    <tr>\n      <th>1</th>\n      <td>0166.0231.0189.0175</td>\n      <td>1</td>\n      <td>2020-01-01</td>\n    </tr>\n    <tr>\n      <th>2</th>\n      <td>0031.0086.0235.0176</td>\n      <td>0</td>\n      <td>2020-01-01</td>\n    </tr>\n    <tr>\n      <th>3</th>\n      <td>0128.0126.0101.0178</td>\n      <td>0</td>\n      <td>2020-01-01</td>\n    </tr>\n    <tr>\n      <th>4</th>\n      <td>0096.0176.0164.0068</td>\n      <td>0</td>\n      <td>2020-01-01</td>\n    </tr>\n  </tbody>\n</table>\n</div>"
          },
          "metadata": {},
          "execution_count": 3
        }
      ],
      "source": [
        "df = pd.read_csv('../../datasets/ventas_enero_2020.csv')\n",
        "df.head()"
      ]
    },
    {
      "cell_type": "code",
      "execution_count": 4,
      "metadata": {},
      "outputs": [
        {
          "output_type": "stream",
          "name": "stdout",
          "text": [
            "<class 'pandas.core.frame.DataFrame'>\nRangeIndex: 1500 entries, 0 to 1499\nData columns (total 3 columns):\n #   Column  Non-Null Count  Dtype \n---  ------  --------------  ----- \n 0   ip      1500 non-null   object\n 1   compra  1500 non-null   int64 \n 2   fecha   1500 non-null   object\ndtypes: int64(1), object(2)\nmemory usage: 35.3+ KB\n"
          ]
        }
      ],
      "source": [
        "df.info()"
      ]
    },
    {
      "cell_type": "code",
      "execution_count": 5,
      "metadata": {},
      "outputs": [
        {
          "output_type": "execute_result",
          "data": {
            "text/plain": [
              "0       0\n",
              "1       1\n",
              "2       0\n",
              "3       0\n",
              "4       0\n",
              "       ..\n",
              "1495    1\n",
              "1496    0\n",
              "1497    0\n",
              "1498    0\n",
              "1499    0\n",
              "Name: compra, Length: 1500, dtype: int64"
            ]
          },
          "metadata": {},
          "execution_count": 5
        }
      ],
      "source": [
        "df.compra"
      ]
    },
    {
      "cell_type": "code",
      "execution_count": 6,
      "metadata": {},
      "outputs": [
        {
          "output_type": "execute_result",
          "data": {
            "text/plain": [
              "0.2846666666666667"
            ]
          },
          "metadata": {},
          "execution_count": 6
        }
      ],
      "source": [
        "# media de bernoullies\n",
        "df.compra.mean()"
      ]
    },
    {
      "cell_type": "code",
      "execution_count": 22,
      "metadata": {},
      "outputs": [
        {
          "output_type": "execute_result",
          "data": {
            "text/plain": [
              "<scipy.stats._distn_infrastructure.rv_frozen at 0x240c2021f40>"
            ]
          },
          "metadata": {},
          "execution_count": 22
        }
      ],
      "source": [
        "estimacionz_ventas = stats.binom(100, df.compra.mean())\n",
        "estimacionz_ventas"
      ]
    },
    {
      "cell_type": "code",
      "execution_count": 17,
      "metadata": {},
      "outputs": [],
      "source": [
        "y = [x for x in range(101)]"
      ]
    },
    {
      "cell_type": "code",
      "execution_count": 20,
      "metadata": {},
      "outputs": [],
      "source": [
        "from scipy.stats import binom"
      ]
    },
    {
      "cell_type": "code",
      "execution_count": 23,
      "metadata": {},
      "outputs": [
        {
          "output_type": "display_data",
          "data": {
            "text/plain": "<Figure size 432x288 with 1 Axes>",
            "image/svg+xml": "<?xml version=\"1.0\" encoding=\"utf-8\" standalone=\"no\"?>\r\n<!DOCTYPE svg PUBLIC \"-//W3C//DTD SVG 1.1//EN\"\r\n  \"http://www.w3.org/Graphics/SVG/1.1/DTD/svg11.dtd\">\r\n<!-- Created with matplotlib (https://matplotlib.org/) -->\r\n<svg height=\"248.518125pt\" version=\"1.1\" viewBox=\"0 0 378.465625 248.518125\" width=\"378.465625pt\" xmlns=\"http://www.w3.org/2000/svg\" xmlns:xlink=\"http://www.w3.org/1999/xlink\">\r\n <metadata>\r\n  <rdf:RDF xmlns:cc=\"http://creativecommons.org/ns#\" xmlns:dc=\"http://purl.org/dc/elements/1.1/\" xmlns:rdf=\"http://www.w3.org/1999/02/22-rdf-syntax-ns#\">\r\n   <cc:Work>\r\n    <dc:type rdf:resource=\"http://purl.org/dc/dcmitype/StillImage\"/>\r\n    <dc:date>2021-06-26T13:34:09.987189</dc:date>\r\n    <dc:format>image/svg+xml</dc:format>\r\n    <dc:creator>\r\n     <cc:Agent>\r\n      <dc:title>Matplotlib v3.3.4, https://matplotlib.org/</dc:title>\r\n     </cc:Agent>\r\n    </dc:creator>\r\n   </cc:Work>\r\n  </rdf:RDF>\r\n </metadata>\r\n <defs>\r\n  <style type=\"text/css\">*{stroke-linecap:butt;stroke-linejoin:round;}</style>\r\n </defs>\r\n <g id=\"figure_1\">\r\n  <g id=\"patch_1\">\r\n   <path d=\"M 0 248.518125 \r\nL 378.465625 248.518125 \r\nL 378.465625 0 \r\nL 0 0 \r\nz\r\n\" style=\"fill:none;\"/>\r\n  </g>\r\n  <g id=\"axes_1\">\r\n   <g id=\"patch_2\">\r\n    <path d=\"M 36.465625 224.64 \r\nL 371.265625 224.64 \r\nL 371.265625 7.2 \r\nL 36.465625 7.2 \r\nz\r\n\" style=\"fill:#ffffff;\"/>\r\n   </g>\r\n   <g id=\"PathCollection_1\">\r\n    <defs>\r\n     <path d=\"M 0 3 \r\nC 0.795609 3 1.55874 2.683901 2.12132 2.12132 \r\nC 2.683901 1.55874 3 0.795609 3 0 \r\nC 3 -0.795609 2.683901 -1.55874 2.12132 -2.12132 \r\nC 1.55874 -2.683901 0.795609 -3 0 -3 \r\nC -0.795609 -3 -1.55874 -2.683901 -2.12132 -2.12132 \r\nC -2.683901 -1.55874 -3 -0.795609 -3 0 \r\nC -3 0.795609 -2.683901 1.55874 -2.12132 2.12132 \r\nC -1.55874 2.683901 -0.795609 3 0 3 \r\nz\r\n\" id=\"mbe2c49ae78\" style=\"stroke:#1f77b4;\"/>\r\n    </defs>\r\n    <g clip-path=\"url(#p6d49127f36)\">\r\n     <use style=\"fill:#1f77b4;stroke:#1f77b4;\" x=\"51.683807\" xlink:href=\"#mbe2c49ae78\" y=\"214.756364\"/>\r\n     <use style=\"fill:#1f77b4;stroke:#1f77b4;\" x=\"54.727443\" xlink:href=\"#mbe2c49ae78\" y=\"214.756364\"/>\r\n     <use style=\"fill:#1f77b4;stroke:#1f77b4;\" x=\"57.77108\" xlink:href=\"#mbe2c49ae78\" y=\"214.756364\"/>\r\n     <use style=\"fill:#1f77b4;stroke:#1f77b4;\" x=\"60.814716\" xlink:href=\"#mbe2c49ae78\" y=\"214.756364\"/>\r\n     <use style=\"fill:#1f77b4;stroke:#1f77b4;\" x=\"63.858352\" xlink:href=\"#mbe2c49ae78\" y=\"214.756363\"/>\r\n     <use style=\"fill:#1f77b4;stroke:#1f77b4;\" x=\"66.901989\" xlink:href=\"#mbe2c49ae78\" y=\"214.756359\"/>\r\n     <use style=\"fill:#1f77b4;stroke:#1f77b4;\" x=\"69.945625\" xlink:href=\"#mbe2c49ae78\" y=\"214.756334\"/>\r\n     <use style=\"fill:#1f77b4;stroke:#1f77b4;\" x=\"72.989261\" xlink:href=\"#mbe2c49ae78\" y=\"214.756203\"/>\r\n     <use style=\"fill:#1f77b4;stroke:#1f77b4;\" x=\"76.032898\" xlink:href=\"#mbe2c49ae78\" y=\"214.755622\"/>\r\n     <use style=\"fill:#1f77b4;stroke:#1f77b4;\" x=\"79.076534\" xlink:href=\"#mbe2c49ae78\" y=\"214.753346\"/>\r\n     <use style=\"fill:#1f77b4;stroke:#1f77b4;\" x=\"82.12017\" xlink:href=\"#mbe2c49ae78\" y=\"214.745437\"/>\r\n     <use style=\"fill:#1f77b4;stroke:#1f77b4;\" x=\"85.163807\" xlink:href=\"#mbe2c49ae78\" y=\"214.720788\"/>\r\n     <use style=\"fill:#1f77b4;stroke:#1f77b4;\" x=\"88.207443\" xlink:href=\"#mbe2c49ae78\" y=\"214.651363\"/>\r\n     <use style=\"fill:#1f77b4;stroke:#1f77b4;\" x=\"91.25108\" xlink:href=\"#mbe2c49ae78\" y=\"214.473511\"/>\r\n     <use style=\"fill:#1f77b4;stroke:#1f77b4;\" x=\"94.294716\" xlink:href=\"#mbe2c49ae78\" y=\"214.056877\"/>\r\n     <use style=\"fill:#1f77b4;stroke:#1f77b4;\" x=\"97.338352\" xlink:href=\"#mbe2c49ae78\" y=\"213.16043\"/>\r\n     <use style=\"fill:#1f77b4;stroke:#1f77b4;\" x=\"100.381989\" xlink:href=\"#mbe2c49ae78\" y=\"211.382387\"/>\r\n     <use style=\"fill:#1f77b4;stroke:#1f77b4;\" x=\"103.425625\" xlink:href=\"#mbe2c49ae78\" y=\"208.12198\"/>\r\n     <use style=\"fill:#1f77b4;stroke:#1f77b4;\" x=\"106.469261\" xlink:href=\"#mbe2c49ae78\" y=\"202.582335\"/>\r\n     <use style=\"fill:#1f77b4;stroke:#1f77b4;\" x=\"109.512898\" xlink:href=\"#mbe2c49ae78\" y=\"193.847871\"/>\r\n     <use style=\"fill:#1f77b4;stroke:#1f77b4;\" x=\"112.556534\" xlink:href=\"#mbe2c49ae78\" y=\"181.058226\"/>\r\n     <use style=\"fill:#1f77b4;stroke:#1f77b4;\" x=\"115.60017\" xlink:href=\"#mbe2c49ae78\" y=\"163.67003\"/>\r\n     <use style=\"fill:#1f77b4;stroke:#1f77b4;\" x=\"118.643807\" xlink:href=\"#mbe2c49ae78\" y=\"141.753936\"/>\r\n     <use style=\"fill:#1f77b4;stroke:#1f77b4;\" x=\"121.687443\" xlink:href=\"#mbe2c49ae78\" y=\"116.23459\"/>\r\n     <use style=\"fill:#1f77b4;stroke:#1f77b4;\" x=\"124.73108\" xlink:href=\"#mbe2c49ae78\" y=\"88.968176\"/>\r\n     <use style=\"fill:#1f77b4;stroke:#1f77b4;\" x=\"127.774716\" xlink:href=\"#mbe2c49ae78\" y=\"62.581965\"/>\r\n     <use style=\"fill:#1f77b4;stroke:#1f77b4;\" x=\"130.818352\" xlink:href=\"#mbe2c49ae78\" y=\"40.070539\"/>\r\n     <use style=\"fill:#1f77b4;stroke:#1f77b4;\" x=\"133.861989\" xlink:href=\"#mbe2c49ae78\" y=\"24.230573\"/>\r\n     <use style=\"fill:#1f77b4;stroke:#1f77b4;\" x=\"136.905625\" xlink:href=\"#mbe2c49ae78\" y=\"17.083636\"/>\r\n     <use style=\"fill:#1f77b4;stroke:#1f77b4;\" x=\"139.949261\" xlink:href=\"#mbe2c49ae78\" y=\"19.453143\"/>\r\n     <use style=\"fill:#1f77b4;stroke:#1f77b4;\" x=\"142.992898\" xlink:href=\"#mbe2c49ae78\" y=\"30.817011\"/>\r\n     <use style=\"fill:#1f77b4;stroke:#1f77b4;\" x=\"146.036534\" xlink:href=\"#mbe2c49ae78\" y=\"49.46919\"/>\r\n     <use style=\"fill:#1f77b4;stroke:#1f77b4;\" x=\"149.08017\" xlink:href=\"#mbe2c49ae78\" y=\"72.926914\"/>\r\n     <use style=\"fill:#1f77b4;stroke:#1f77b4;\" x=\"152.123807\" xlink:href=\"#mbe2c49ae78\" y=\"98.453732\"/>\r\n     <use style=\"fill:#1f77b4;stroke:#1f77b4;\" x=\"155.167443\" xlink:href=\"#mbe2c49ae78\" y=\"123.552427\"/>\r\n     <use style=\"fill:#1f77b4;stroke:#1f77b4;\" x=\"158.21108\" xlink:href=\"#mbe2c49ae78\" y=\"146.315162\"/>\r\n     <use style=\"fill:#1f77b4;stroke:#1f77b4;\" x=\"161.254716\" xlink:href=\"#mbe2c49ae78\" y=\"165.579975\"/>\r\n     <use style=\"fill:#1f77b4;stroke:#1f77b4;\" x=\"164.298352\" xlink:href=\"#mbe2c49ae78\" y=\"180.906023\"/>\r\n     <use style=\"fill:#1f77b4;stroke:#1f77b4;\" x=\"167.341989\" xlink:href=\"#mbe2c49ae78\" y=\"192.423308\"/>\r\n     <use style=\"fill:#1f77b4;stroke:#1f77b4;\" x=\"170.385625\" xlink:href=\"#mbe2c49ae78\" y=\"200.627625\"/>\r\n     <use style=\"fill:#1f77b4;stroke:#1f77b4;\" x=\"173.429261\" xlink:href=\"#mbe2c49ae78\" y=\"206.18201\"/>\r\n     <use style=\"fill:#1f77b4;stroke:#1f77b4;\" x=\"176.472898\" xlink:href=\"#mbe2c49ae78\" y=\"209.762957\"/>\r\n     <use style=\"fill:#1f77b4;stroke:#1f77b4;\" x=\"179.516534\" xlink:href=\"#mbe2c49ae78\" y=\"211.964927\"/>\r\n     <use style=\"fill:#1f77b4;stroke:#1f77b4;\" x=\"182.56017\" xlink:href=\"#mbe2c49ae78\" y=\"213.258006\"/>\r\n     <use style=\"fill:#1f77b4;stroke:#1f77b4;\" x=\"185.603807\" xlink:href=\"#mbe2c49ae78\" y=\"213.983922\"/>\r\n     <use style=\"fill:#1f77b4;stroke:#1f77b4;\" x=\"188.647443\" xlink:href=\"#mbe2c49ae78\" y=\"214.37383\"/>\r\n     <use style=\"fill:#1f77b4;stroke:#1f77b4;\" x=\"191.69108\" xlink:href=\"#mbe2c49ae78\" y=\"214.574351\"/>\r\n     <use style=\"fill:#1f77b4;stroke:#1f77b4;\" x=\"194.734716\" xlink:href=\"#mbe2c49ae78\" y=\"214.673144\"/>\r\n     <use style=\"fill:#1f77b4;stroke:#1f77b4;\" x=\"197.778352\" xlink:href=\"#mbe2c49ae78\" y=\"214.719797\"/>\r\n     <use style=\"fill:#1f77b4;stroke:#1f77b4;\" x=\"200.821989\" xlink:href=\"#mbe2c49ae78\" y=\"214.740921\"/>\r\n     <use style=\"fill:#1f77b4;stroke:#1f77b4;\" x=\"203.865625\" xlink:href=\"#mbe2c49ae78\" y=\"214.750095\"/>\r\n     <use style=\"fill:#1f77b4;stroke:#1f77b4;\" x=\"206.909261\" xlink:href=\"#mbe2c49ae78\" y=\"214.753918\"/>\r\n     <use style=\"fill:#1f77b4;stroke:#1f77b4;\" x=\"209.952898\" xlink:href=\"#mbe2c49ae78\" y=\"214.755447\"/>\r\n     <use style=\"fill:#1f77b4;stroke:#1f77b4;\" x=\"212.996534\" xlink:href=\"#mbe2c49ae78\" y=\"214.756033\"/>\r\n     <use style=\"fill:#1f77b4;stroke:#1f77b4;\" x=\"216.04017\" xlink:href=\"#mbe2c49ae78\" y=\"214.756249\"/>\r\n     <use style=\"fill:#1f77b4;stroke:#1f77b4;\" x=\"219.083807\" xlink:href=\"#mbe2c49ae78\" y=\"214.756326\"/>\r\n     <use style=\"fill:#1f77b4;stroke:#1f77b4;\" x=\"222.127443\" xlink:href=\"#mbe2c49ae78\" y=\"214.756351\"/>\r\n     <use style=\"fill:#1f77b4;stroke:#1f77b4;\" x=\"225.17108\" xlink:href=\"#mbe2c49ae78\" y=\"214.75636\"/>\r\n     <use style=\"fill:#1f77b4;stroke:#1f77b4;\" x=\"228.214716\" xlink:href=\"#mbe2c49ae78\" y=\"214.756363\"/>\r\n     <use style=\"fill:#1f77b4;stroke:#1f77b4;\" x=\"231.258352\" xlink:href=\"#mbe2c49ae78\" y=\"214.756363\"/>\r\n     <use style=\"fill:#1f77b4;stroke:#1f77b4;\" x=\"234.301989\" xlink:href=\"#mbe2c49ae78\" y=\"214.756364\"/>\r\n     <use style=\"fill:#1f77b4;stroke:#1f77b4;\" x=\"237.345625\" xlink:href=\"#mbe2c49ae78\" y=\"214.756364\"/>\r\n     <use style=\"fill:#1f77b4;stroke:#1f77b4;\" x=\"240.389261\" xlink:href=\"#mbe2c49ae78\" y=\"214.756364\"/>\r\n     <use style=\"fill:#1f77b4;stroke:#1f77b4;\" x=\"243.432898\" xlink:href=\"#mbe2c49ae78\" y=\"214.756364\"/>\r\n     <use style=\"fill:#1f77b4;stroke:#1f77b4;\" x=\"246.476534\" xlink:href=\"#mbe2c49ae78\" y=\"214.756364\"/>\r\n     <use style=\"fill:#1f77b4;stroke:#1f77b4;\" x=\"249.52017\" xlink:href=\"#mbe2c49ae78\" y=\"214.756364\"/>\r\n     <use style=\"fill:#1f77b4;stroke:#1f77b4;\" x=\"252.563807\" xlink:href=\"#mbe2c49ae78\" y=\"214.756364\"/>\r\n     <use style=\"fill:#1f77b4;stroke:#1f77b4;\" x=\"255.607443\" xlink:href=\"#mbe2c49ae78\" y=\"214.756364\"/>\r\n     <use style=\"fill:#1f77b4;stroke:#1f77b4;\" x=\"258.65108\" xlink:href=\"#mbe2c49ae78\" y=\"214.756364\"/>\r\n     <use style=\"fill:#1f77b4;stroke:#1f77b4;\" x=\"261.694716\" xlink:href=\"#mbe2c49ae78\" y=\"214.756364\"/>\r\n     <use style=\"fill:#1f77b4;stroke:#1f77b4;\" x=\"264.738352\" xlink:href=\"#mbe2c49ae78\" y=\"214.756364\"/>\r\n     <use style=\"fill:#1f77b4;stroke:#1f77b4;\" x=\"267.781989\" xlink:href=\"#mbe2c49ae78\" y=\"214.756364\"/>\r\n     <use style=\"fill:#1f77b4;stroke:#1f77b4;\" x=\"270.825625\" xlink:href=\"#mbe2c49ae78\" y=\"214.756364\"/>\r\n     <use style=\"fill:#1f77b4;stroke:#1f77b4;\" x=\"273.869261\" xlink:href=\"#mbe2c49ae78\" y=\"214.756364\"/>\r\n     <use style=\"fill:#1f77b4;stroke:#1f77b4;\" x=\"276.912898\" xlink:href=\"#mbe2c49ae78\" y=\"214.756364\"/>\r\n     <use style=\"fill:#1f77b4;stroke:#1f77b4;\" x=\"279.956534\" xlink:href=\"#mbe2c49ae78\" y=\"214.756364\"/>\r\n     <use style=\"fill:#1f77b4;stroke:#1f77b4;\" x=\"283.00017\" xlink:href=\"#mbe2c49ae78\" y=\"214.756364\"/>\r\n     <use style=\"fill:#1f77b4;stroke:#1f77b4;\" x=\"286.043807\" xlink:href=\"#mbe2c49ae78\" y=\"214.756364\"/>\r\n     <use style=\"fill:#1f77b4;stroke:#1f77b4;\" x=\"289.087443\" xlink:href=\"#mbe2c49ae78\" y=\"214.756364\"/>\r\n     <use style=\"fill:#1f77b4;stroke:#1f77b4;\" x=\"292.13108\" xlink:href=\"#mbe2c49ae78\" y=\"214.756364\"/>\r\n     <use style=\"fill:#1f77b4;stroke:#1f77b4;\" x=\"295.174716\" xlink:href=\"#mbe2c49ae78\" y=\"214.756364\"/>\r\n     <use style=\"fill:#1f77b4;stroke:#1f77b4;\" x=\"298.218352\" xlink:href=\"#mbe2c49ae78\" y=\"214.756364\"/>\r\n     <use style=\"fill:#1f77b4;stroke:#1f77b4;\" x=\"301.261989\" xlink:href=\"#mbe2c49ae78\" y=\"214.756364\"/>\r\n     <use style=\"fill:#1f77b4;stroke:#1f77b4;\" x=\"304.305625\" xlink:href=\"#mbe2c49ae78\" y=\"214.756364\"/>\r\n     <use style=\"fill:#1f77b4;stroke:#1f77b4;\" x=\"307.349261\" xlink:href=\"#mbe2c49ae78\" y=\"214.756364\"/>\r\n     <use style=\"fill:#1f77b4;stroke:#1f77b4;\" x=\"310.392898\" xlink:href=\"#mbe2c49ae78\" y=\"214.756364\"/>\r\n     <use style=\"fill:#1f77b4;stroke:#1f77b4;\" x=\"313.436534\" xlink:href=\"#mbe2c49ae78\" y=\"214.756364\"/>\r\n     <use style=\"fill:#1f77b4;stroke:#1f77b4;\" x=\"316.48017\" xlink:href=\"#mbe2c49ae78\" y=\"214.756364\"/>\r\n     <use style=\"fill:#1f77b4;stroke:#1f77b4;\" x=\"319.523807\" xlink:href=\"#mbe2c49ae78\" y=\"214.756364\"/>\r\n     <use style=\"fill:#1f77b4;stroke:#1f77b4;\" x=\"322.567443\" xlink:href=\"#mbe2c49ae78\" y=\"214.756364\"/>\r\n     <use style=\"fill:#1f77b4;stroke:#1f77b4;\" x=\"325.61108\" xlink:href=\"#mbe2c49ae78\" y=\"214.756364\"/>\r\n     <use style=\"fill:#1f77b4;stroke:#1f77b4;\" x=\"328.654716\" xlink:href=\"#mbe2c49ae78\" y=\"214.756364\"/>\r\n     <use style=\"fill:#1f77b4;stroke:#1f77b4;\" x=\"331.698352\" xlink:href=\"#mbe2c49ae78\" y=\"214.756364\"/>\r\n     <use style=\"fill:#1f77b4;stroke:#1f77b4;\" x=\"334.741989\" xlink:href=\"#mbe2c49ae78\" y=\"214.756364\"/>\r\n     <use style=\"fill:#1f77b4;stroke:#1f77b4;\" x=\"337.785625\" xlink:href=\"#mbe2c49ae78\" y=\"214.756364\"/>\r\n     <use style=\"fill:#1f77b4;stroke:#1f77b4;\" x=\"340.829261\" xlink:href=\"#mbe2c49ae78\" y=\"214.756364\"/>\r\n     <use style=\"fill:#1f77b4;stroke:#1f77b4;\" x=\"343.872898\" xlink:href=\"#mbe2c49ae78\" y=\"214.756364\"/>\r\n     <use style=\"fill:#1f77b4;stroke:#1f77b4;\" x=\"346.916534\" xlink:href=\"#mbe2c49ae78\" y=\"214.756364\"/>\r\n     <use style=\"fill:#1f77b4;stroke:#1f77b4;\" x=\"349.96017\" xlink:href=\"#mbe2c49ae78\" y=\"214.756364\"/>\r\n     <use style=\"fill:#1f77b4;stroke:#1f77b4;\" x=\"353.003807\" xlink:href=\"#mbe2c49ae78\" y=\"214.756364\"/>\r\n     <use style=\"fill:#1f77b4;stroke:#1f77b4;\" x=\"356.047443\" xlink:href=\"#mbe2c49ae78\" y=\"214.756364\"/>\r\n    </g>\r\n   </g>\r\n   <g id=\"matplotlib.axis_1\">\r\n    <g id=\"xtick_1\">\r\n     <g id=\"line2d_1\">\r\n      <defs>\r\n       <path d=\"M 0 0 \r\nL 0 3.5 \r\n\" id=\"m4b41274edb\" style=\"stroke:#000000;stroke-width:0.8;\"/>\r\n      </defs>\r\n      <g>\r\n       <use style=\"stroke:#000000;stroke-width:0.8;\" x=\"51.683807\" xlink:href=\"#m4b41274edb\" y=\"224.64\"/>\r\n      </g>\r\n     </g>\r\n     <g id=\"text_1\">\r\n      <!-- 0 -->\r\n      <g transform=\"translate(48.502557 239.238437)scale(0.1 -0.1)\">\r\n       <defs>\r\n        <path d=\"M 31.78125 66.40625 \r\nQ 24.171875 66.40625 20.328125 58.90625 \r\nQ 16.5 51.421875 16.5 36.375 \r\nQ 16.5 21.390625 20.328125 13.890625 \r\nQ 24.171875 6.390625 31.78125 6.390625 \r\nQ 39.453125 6.390625 43.28125 13.890625 \r\nQ 47.125 21.390625 47.125 36.375 \r\nQ 47.125 51.421875 43.28125 58.90625 \r\nQ 39.453125 66.40625 31.78125 66.40625 \r\nz\r\nM 31.78125 74.21875 \r\nQ 44.046875 74.21875 50.515625 64.515625 \r\nQ 56.984375 54.828125 56.984375 36.375 \r\nQ 56.984375 17.96875 50.515625 8.265625 \r\nQ 44.046875 -1.421875 31.78125 -1.421875 \r\nQ 19.53125 -1.421875 13.0625 8.265625 \r\nQ 6.59375 17.96875 6.59375 36.375 \r\nQ 6.59375 54.828125 13.0625 64.515625 \r\nQ 19.53125 74.21875 31.78125 74.21875 \r\nz\r\n\" id=\"DejaVuSans-48\"/>\r\n       </defs>\r\n       <use xlink:href=\"#DejaVuSans-48\"/>\r\n      </g>\r\n     </g>\r\n    </g>\r\n    <g id=\"xtick_2\">\r\n     <g id=\"line2d_2\">\r\n      <g>\r\n       <use style=\"stroke:#000000;stroke-width:0.8;\" x=\"112.556534\" xlink:href=\"#m4b41274edb\" y=\"224.64\"/>\r\n      </g>\r\n     </g>\r\n     <g id=\"text_2\">\r\n      <!-- 20 -->\r\n      <g transform=\"translate(106.194034 239.238437)scale(0.1 -0.1)\">\r\n       <defs>\r\n        <path d=\"M 19.1875 8.296875 \r\nL 53.609375 8.296875 \r\nL 53.609375 0 \r\nL 7.328125 0 \r\nL 7.328125 8.296875 \r\nQ 12.9375 14.109375 22.625 23.890625 \r\nQ 32.328125 33.6875 34.8125 36.53125 \r\nQ 39.546875 41.84375 41.421875 45.53125 \r\nQ 43.3125 49.21875 43.3125 52.78125 \r\nQ 43.3125 58.59375 39.234375 62.25 \r\nQ 35.15625 65.921875 28.609375 65.921875 \r\nQ 23.96875 65.921875 18.8125 64.3125 \r\nQ 13.671875 62.703125 7.8125 59.421875 \r\nL 7.8125 69.390625 \r\nQ 13.765625 71.78125 18.9375 73 \r\nQ 24.125 74.21875 28.421875 74.21875 \r\nQ 39.75 74.21875 46.484375 68.546875 \r\nQ 53.21875 62.890625 53.21875 53.421875 \r\nQ 53.21875 48.921875 51.53125 44.890625 \r\nQ 49.859375 40.875 45.40625 35.40625 \r\nQ 44.1875 33.984375 37.640625 27.21875 \r\nQ 31.109375 20.453125 19.1875 8.296875 \r\nz\r\n\" id=\"DejaVuSans-50\"/>\r\n       </defs>\r\n       <use xlink:href=\"#DejaVuSans-50\"/>\r\n       <use x=\"63.623047\" xlink:href=\"#DejaVuSans-48\"/>\r\n      </g>\r\n     </g>\r\n    </g>\r\n    <g id=\"xtick_3\">\r\n     <g id=\"line2d_3\">\r\n      <g>\r\n       <use style=\"stroke:#000000;stroke-width:0.8;\" x=\"173.429261\" xlink:href=\"#m4b41274edb\" y=\"224.64\"/>\r\n      </g>\r\n     </g>\r\n     <g id=\"text_3\">\r\n      <!-- 40 -->\r\n      <g transform=\"translate(167.066761 239.238437)scale(0.1 -0.1)\">\r\n       <defs>\r\n        <path d=\"M 37.796875 64.3125 \r\nL 12.890625 25.390625 \r\nL 37.796875 25.390625 \r\nz\r\nM 35.203125 72.90625 \r\nL 47.609375 72.90625 \r\nL 47.609375 25.390625 \r\nL 58.015625 25.390625 \r\nL 58.015625 17.1875 \r\nL 47.609375 17.1875 \r\nL 47.609375 0 \r\nL 37.796875 0 \r\nL 37.796875 17.1875 \r\nL 4.890625 17.1875 \r\nL 4.890625 26.703125 \r\nz\r\n\" id=\"DejaVuSans-52\"/>\r\n       </defs>\r\n       <use xlink:href=\"#DejaVuSans-52\"/>\r\n       <use x=\"63.623047\" xlink:href=\"#DejaVuSans-48\"/>\r\n      </g>\r\n     </g>\r\n    </g>\r\n    <g id=\"xtick_4\">\r\n     <g id=\"line2d_4\">\r\n      <g>\r\n       <use style=\"stroke:#000000;stroke-width:0.8;\" x=\"234.301989\" xlink:href=\"#m4b41274edb\" y=\"224.64\"/>\r\n      </g>\r\n     </g>\r\n     <g id=\"text_4\">\r\n      <!-- 60 -->\r\n      <g transform=\"translate(227.939489 239.238437)scale(0.1 -0.1)\">\r\n       <defs>\r\n        <path d=\"M 33.015625 40.375 \r\nQ 26.375 40.375 22.484375 35.828125 \r\nQ 18.609375 31.296875 18.609375 23.390625 \r\nQ 18.609375 15.53125 22.484375 10.953125 \r\nQ 26.375 6.390625 33.015625 6.390625 \r\nQ 39.65625 6.390625 43.53125 10.953125 \r\nQ 47.40625 15.53125 47.40625 23.390625 \r\nQ 47.40625 31.296875 43.53125 35.828125 \r\nQ 39.65625 40.375 33.015625 40.375 \r\nz\r\nM 52.59375 71.296875 \r\nL 52.59375 62.3125 \r\nQ 48.875 64.0625 45.09375 64.984375 \r\nQ 41.3125 65.921875 37.59375 65.921875 \r\nQ 27.828125 65.921875 22.671875 59.328125 \r\nQ 17.53125 52.734375 16.796875 39.40625 \r\nQ 19.671875 43.65625 24.015625 45.921875 \r\nQ 28.375 48.1875 33.59375 48.1875 \r\nQ 44.578125 48.1875 50.953125 41.515625 \r\nQ 57.328125 34.859375 57.328125 23.390625 \r\nQ 57.328125 12.15625 50.6875 5.359375 \r\nQ 44.046875 -1.421875 33.015625 -1.421875 \r\nQ 20.359375 -1.421875 13.671875 8.265625 \r\nQ 6.984375 17.96875 6.984375 36.375 \r\nQ 6.984375 53.65625 15.1875 63.9375 \r\nQ 23.390625 74.21875 37.203125 74.21875 \r\nQ 40.921875 74.21875 44.703125 73.484375 \r\nQ 48.484375 72.75 52.59375 71.296875 \r\nz\r\n\" id=\"DejaVuSans-54\"/>\r\n       </defs>\r\n       <use xlink:href=\"#DejaVuSans-54\"/>\r\n       <use x=\"63.623047\" xlink:href=\"#DejaVuSans-48\"/>\r\n      </g>\r\n     </g>\r\n    </g>\r\n    <g id=\"xtick_5\">\r\n     <g id=\"line2d_5\">\r\n      <g>\r\n       <use style=\"stroke:#000000;stroke-width:0.8;\" x=\"295.174716\" xlink:href=\"#m4b41274edb\" y=\"224.64\"/>\r\n      </g>\r\n     </g>\r\n     <g id=\"text_5\">\r\n      <!-- 80 -->\r\n      <g transform=\"translate(288.812216 239.238437)scale(0.1 -0.1)\">\r\n       <defs>\r\n        <path d=\"M 31.78125 34.625 \r\nQ 24.75 34.625 20.71875 30.859375 \r\nQ 16.703125 27.09375 16.703125 20.515625 \r\nQ 16.703125 13.921875 20.71875 10.15625 \r\nQ 24.75 6.390625 31.78125 6.390625 \r\nQ 38.8125 6.390625 42.859375 10.171875 \r\nQ 46.921875 13.96875 46.921875 20.515625 \r\nQ 46.921875 27.09375 42.890625 30.859375 \r\nQ 38.875 34.625 31.78125 34.625 \r\nz\r\nM 21.921875 38.8125 \r\nQ 15.578125 40.375 12.03125 44.71875 \r\nQ 8.5 49.078125 8.5 55.328125 \r\nQ 8.5 64.0625 14.71875 69.140625 \r\nQ 20.953125 74.21875 31.78125 74.21875 \r\nQ 42.671875 74.21875 48.875 69.140625 \r\nQ 55.078125 64.0625 55.078125 55.328125 \r\nQ 55.078125 49.078125 51.53125 44.71875 \r\nQ 48 40.375 41.703125 38.8125 \r\nQ 48.828125 37.15625 52.796875 32.3125 \r\nQ 56.78125 27.484375 56.78125 20.515625 \r\nQ 56.78125 9.90625 50.3125 4.234375 \r\nQ 43.84375 -1.421875 31.78125 -1.421875 \r\nQ 19.734375 -1.421875 13.25 4.234375 \r\nQ 6.78125 9.90625 6.78125 20.515625 \r\nQ 6.78125 27.484375 10.78125 32.3125 \r\nQ 14.796875 37.15625 21.921875 38.8125 \r\nz\r\nM 18.3125 54.390625 \r\nQ 18.3125 48.734375 21.84375 45.5625 \r\nQ 25.390625 42.390625 31.78125 42.390625 \r\nQ 38.140625 42.390625 41.71875 45.5625 \r\nQ 45.3125 48.734375 45.3125 54.390625 \r\nQ 45.3125 60.0625 41.71875 63.234375 \r\nQ 38.140625 66.40625 31.78125 66.40625 \r\nQ 25.390625 66.40625 21.84375 63.234375 \r\nQ 18.3125 60.0625 18.3125 54.390625 \r\nz\r\n\" id=\"DejaVuSans-56\"/>\r\n       </defs>\r\n       <use xlink:href=\"#DejaVuSans-56\"/>\r\n       <use x=\"63.623047\" xlink:href=\"#DejaVuSans-48\"/>\r\n      </g>\r\n     </g>\r\n    </g>\r\n    <g id=\"xtick_6\">\r\n     <g id=\"line2d_6\">\r\n      <g>\r\n       <use style=\"stroke:#000000;stroke-width:0.8;\" x=\"356.047443\" xlink:href=\"#m4b41274edb\" y=\"224.64\"/>\r\n      </g>\r\n     </g>\r\n     <g id=\"text_6\">\r\n      <!-- 100 -->\r\n      <g transform=\"translate(346.503693 239.238437)scale(0.1 -0.1)\">\r\n       <defs>\r\n        <path d=\"M 12.40625 8.296875 \r\nL 28.515625 8.296875 \r\nL 28.515625 63.921875 \r\nL 10.984375 60.40625 \r\nL 10.984375 69.390625 \r\nL 28.421875 72.90625 \r\nL 38.28125 72.90625 \r\nL 38.28125 8.296875 \r\nL 54.390625 8.296875 \r\nL 54.390625 0 \r\nL 12.40625 0 \r\nz\r\n\" id=\"DejaVuSans-49\"/>\r\n       </defs>\r\n       <use xlink:href=\"#DejaVuSans-49\"/>\r\n       <use x=\"63.623047\" xlink:href=\"#DejaVuSans-48\"/>\r\n       <use x=\"127.246094\" xlink:href=\"#DejaVuSans-48\"/>\r\n      </g>\r\n     </g>\r\n    </g>\r\n   </g>\r\n   <g id=\"matplotlib.axis_2\">\r\n    <g id=\"ytick_1\">\r\n     <g id=\"line2d_7\">\r\n      <defs>\r\n       <path d=\"M 0 0 \r\nL -3.5 0 \r\n\" id=\"m1d95a05109\" style=\"stroke:#000000;stroke-width:0.8;\"/>\r\n      </defs>\r\n      <g>\r\n       <use style=\"stroke:#000000;stroke-width:0.8;\" x=\"36.465625\" xlink:href=\"#m1d95a05109\" y=\"214.756364\"/>\r\n      </g>\r\n     </g>\r\n     <g id=\"text_7\">\r\n      <!-- 0.00 -->\r\n      <g transform=\"translate(7.2 218.555582)scale(0.1 -0.1)\">\r\n       <defs>\r\n        <path d=\"M 10.6875 12.40625 \r\nL 21 12.40625 \r\nL 21 0 \r\nL 10.6875 0 \r\nz\r\n\" id=\"DejaVuSans-46\"/>\r\n       </defs>\r\n       <use xlink:href=\"#DejaVuSans-48\"/>\r\n       <use x=\"63.623047\" xlink:href=\"#DejaVuSans-46\"/>\r\n       <use x=\"95.410156\" xlink:href=\"#DejaVuSans-48\"/>\r\n       <use x=\"159.033203\" xlink:href=\"#DejaVuSans-48\"/>\r\n      </g>\r\n     </g>\r\n    </g>\r\n    <g id=\"ytick_2\">\r\n     <g id=\"line2d_8\">\r\n      <g>\r\n       <use style=\"stroke:#000000;stroke-width:0.8;\" x=\"36.465625\" xlink:href=\"#m1d95a05109\" y=\"169.874052\"/>\r\n      </g>\r\n     </g>\r\n     <g id=\"text_8\">\r\n      <!-- 0.02 -->\r\n      <g transform=\"translate(7.2 173.67327)scale(0.1 -0.1)\">\r\n       <use xlink:href=\"#DejaVuSans-48\"/>\r\n       <use x=\"63.623047\" xlink:href=\"#DejaVuSans-46\"/>\r\n       <use x=\"95.410156\" xlink:href=\"#DejaVuSans-48\"/>\r\n       <use x=\"159.033203\" xlink:href=\"#DejaVuSans-50\"/>\r\n      </g>\r\n     </g>\r\n    </g>\r\n    <g id=\"ytick_3\">\r\n     <g id=\"line2d_9\">\r\n      <g>\r\n       <use style=\"stroke:#000000;stroke-width:0.8;\" x=\"36.465625\" xlink:href=\"#m1d95a05109\" y=\"124.991739\"/>\r\n      </g>\r\n     </g>\r\n     <g id=\"text_9\">\r\n      <!-- 0.04 -->\r\n      <g transform=\"translate(7.2 128.790958)scale(0.1 -0.1)\">\r\n       <use xlink:href=\"#DejaVuSans-48\"/>\r\n       <use x=\"63.623047\" xlink:href=\"#DejaVuSans-46\"/>\r\n       <use x=\"95.410156\" xlink:href=\"#DejaVuSans-48\"/>\r\n       <use x=\"159.033203\" xlink:href=\"#DejaVuSans-52\"/>\r\n      </g>\r\n     </g>\r\n    </g>\r\n    <g id=\"ytick_4\">\r\n     <g id=\"line2d_10\">\r\n      <g>\r\n       <use style=\"stroke:#000000;stroke-width:0.8;\" x=\"36.465625\" xlink:href=\"#m1d95a05109\" y=\"80.109427\"/>\r\n      </g>\r\n     </g>\r\n     <g id=\"text_10\">\r\n      <!-- 0.06 -->\r\n      <g transform=\"translate(7.2 83.908646)scale(0.1 -0.1)\">\r\n       <use xlink:href=\"#DejaVuSans-48\"/>\r\n       <use x=\"63.623047\" xlink:href=\"#DejaVuSans-46\"/>\r\n       <use x=\"95.410156\" xlink:href=\"#DejaVuSans-48\"/>\r\n       <use x=\"159.033203\" xlink:href=\"#DejaVuSans-54\"/>\r\n      </g>\r\n     </g>\r\n    </g>\r\n    <g id=\"ytick_5\">\r\n     <g id=\"line2d_11\">\r\n      <g>\r\n       <use style=\"stroke:#000000;stroke-width:0.8;\" x=\"36.465625\" xlink:href=\"#m1d95a05109\" y=\"35.227115\"/>\r\n      </g>\r\n     </g>\r\n     <g id=\"text_11\">\r\n      <!-- 0.08 -->\r\n      <g transform=\"translate(7.2 39.026334)scale(0.1 -0.1)\">\r\n       <use xlink:href=\"#DejaVuSans-48\"/>\r\n       <use x=\"63.623047\" xlink:href=\"#DejaVuSans-46\"/>\r\n       <use x=\"95.410156\" xlink:href=\"#DejaVuSans-48\"/>\r\n       <use x=\"159.033203\" xlink:href=\"#DejaVuSans-56\"/>\r\n      </g>\r\n     </g>\r\n    </g>\r\n   </g>\r\n   <g id=\"patch_3\">\r\n    <path d=\"M 36.465625 224.64 \r\nL 36.465625 7.2 \r\n\" style=\"fill:none;stroke:#000000;stroke-linecap:square;stroke-linejoin:miter;stroke-width:0.8;\"/>\r\n   </g>\r\n   <g id=\"patch_4\">\r\n    <path d=\"M 371.265625 224.64 \r\nL 371.265625 7.2 \r\n\" style=\"fill:none;stroke:#000000;stroke-linecap:square;stroke-linejoin:miter;stroke-width:0.8;\"/>\r\n   </g>\r\n   <g id=\"patch_5\">\r\n    <path d=\"M 36.465625 224.64 \r\nL 371.265625 224.64 \r\n\" style=\"fill:none;stroke:#000000;stroke-linecap:square;stroke-linejoin:miter;stroke-width:0.8;\"/>\r\n   </g>\r\n   <g id=\"patch_6\">\r\n    <path d=\"M 36.465625 7.2 \r\nL 371.265625 7.2 \r\n\" style=\"fill:none;stroke:#000000;stroke-linecap:square;stroke-linejoin:miter;stroke-width:0.8;\"/>\r\n   </g>\r\n  </g>\r\n </g>\r\n <defs>\r\n  <clipPath id=\"p6d49127f36\">\r\n   <rect height=\"217.44\" width=\"334.8\" x=\"36.465625\" y=\"7.2\"/>\r\n  </clipPath>\r\n </defs>\r\n</svg>\r\n",
            "image/png": "[encoded data removed]"
          },
          "metadata": {
            "needs_background": "light"
          }
        }
      ],
      "source": [
        "plt.scatter(y, estimacionz_ventas.pmf(y));"
      ]
    },
    {
      "cell_type": "code",
      "execution_count": 24,
      "metadata": {},
      "outputs": [
        {
          "output_type": "execute_result",
          "data": {
            "text/plain": [
              "(20.0, 37.0)"
            ]
          },
          "metadata": {},
          "execution_count": 24
        }
      ],
      "source": [
        "estimacionz_ventas.interval(0.95)"
      ]
    },
    {
      "cell_type": "code",
      "execution_count": 27,
      "metadata": {},
      "outputs": [
        {
          "output_type": "execute_result",
          "data": {
            "text/plain": [
              "   Unnamed: 0   country                                        description  \\\n",
              "0           0     Italy  Aromas include tropical fruit, broom, brimston...   \n",
              "1           1  Portugal  This is ripe and fruity, a wine that is smooth...   \n",
              "\n",
              "    designation  points  price           province region_1 region_2  \\\n",
              "0  Vulkà Bianco      87    NaN  Sicily & Sardinia     Etna      NaN   \n",
              "1      Avidagos      87   15.0              Douro      NaN      NaN   \n",
              "\n",
              "     taster_name taster_twitter_handle  \\\n",
              "0  Kerin O’Keefe          @kerinokeefe   \n",
              "1     Roger Voss            @vossroger   \n",
              "\n",
              "                                           title         variety  \\\n",
              "0              Nicosia 2013 Vulkà Bianco  (Etna)     White Blend   \n",
              "1  Quinta dos Avidagos 2011 Avidagos Red (Douro)  Portuguese Red   \n",
              "\n",
              "                winery  \n",
              "0              Nicosia  \n",
              "1  Quinta dos Avidagos  "
            ],
            "text/html": "<div>\n<style scoped>\n    .dataframe tbody tr th:only-of-type {\n        vertical-align: middle;\n    }\n\n    .dataframe tbody tr th {\n        vertical-align: top;\n    }\n\n    .dataframe thead th {\n        text-align: right;\n    }\n</style>\n<table border=\"1\" class=\"dataframe\">\n  <thead>\n    <tr style=\"text-align: right;\">\n      <th></th>\n      <th>Unnamed: 0</th>\n      <th>country</th>\n      <th>description</th>\n      <th>designation</th>\n      <th>points</th>\n      <th>price</th>\n      <th>province</th>\n      <th>region_1</th>\n      <th>region_2</th>\n      <th>taster_name</th>\n      <th>taster_twitter_handle</th>\n      <th>title</th>\n      <th>variety</th>\n      <th>winery</th>\n    </tr>\n  </thead>\n  <tbody>\n    <tr>\n      <th>0</th>\n      <td>0</td>\n      <td>Italy</td>\n      <td>Aromas include tropical fruit, broom, brimston...</td>\n      <td>Vulkà Bianco</td>\n      <td>87</td>\n      <td>NaN</td>\n      <td>Sicily &amp; Sardinia</td>\n      <td>Etna</td>\n      <td>NaN</td>\n      <td>Kerin O’Keefe</td>\n      <td>@kerinokeefe</td>\n      <td>Nicosia 2013 Vulkà Bianco  (Etna)</td>\n      <td>White Blend</td>\n      <td>Nicosia</td>\n    </tr>\n    <tr>\n      <th>1</th>\n      <td>1</td>\n      <td>Portugal</td>\n      <td>This is ripe and fruity, a wine that is smooth...</td>\n      <td>Avidagos</td>\n      <td>87</td>\n      <td>15.0</td>\n      <td>Douro</td>\n      <td>NaN</td>\n      <td>NaN</td>\n      <td>Roger Voss</td>\n      <td>@vossroger</td>\n      <td>Quinta dos Avidagos 2011 Avidagos Red (Douro)</td>\n      <td>Portuguese Red</td>\n      <td>Quinta dos Avidagos</td>\n    </tr>\n  </tbody>\n</table>\n</div>"
          },
          "metadata": {},
          "execution_count": 27
        }
      ],
      "source": [
        "vinos = pd.read_csv('../../datasets/winemag-data-130k-v2.csv')\n",
        "vinos.head(2)"
      ]
    },
    {
      "cell_type": "code",
      "execution_count": 28,
      "metadata": {},
      "outputs": [
        {
          "output_type": "stream",
          "name": "stdout",
          "text": [
            "<class 'pandas.core.frame.DataFrame'>\nRangeIndex: 129971 entries, 0 to 129970\nData columns (total 14 columns):\n #   Column                 Non-Null Count   Dtype  \n---  ------                 --------------   -----  \n 0   Unnamed: 0             129971 non-null  int64  \n 1   country                129908 non-null  object \n 2   description            129971 non-null  object \n 3   designation            92506 non-null   object \n 4   points                 129971 non-null  int64  \n 5   price                  120975 non-null  float64\n 6   province               129908 non-null  object \n 7   region_1               108724 non-null  object \n 8   region_2               50511 non-null   object \n 9   taster_name            103727 non-null  object \n 10  taster_twitter_handle  98758 non-null   object \n 11  title                  129971 non-null  object \n 12  variety                129970 non-null  object \n 13  winery                 129971 non-null  object \ndtypes: float64(1), int64(2), object(11)\nmemory usage: 13.9+ MB\n"
          ]
        }
      ],
      "source": [
        "vinos.info()"
      ]
    },
    {
      "cell_type": "code",
      "execution_count": 30,
      "metadata": {},
      "outputs": [],
      "source": [
        "vinos.drop('Unnamed: 0', axis=1, inplace=True)"
      ]
    },
    {
      "cell_type": "code",
      "execution_count": 31,
      "metadata": {},
      "outputs": [
        {
          "output_type": "stream",
          "name": "stdout",
          "text": [
            "<class 'pandas.core.frame.DataFrame'>\nRangeIndex: 129971 entries, 0 to 129970\nData columns (total 13 columns):\n #   Column                 Non-Null Count   Dtype  \n---  ------                 --------------   -----  \n 0   country                129908 non-null  object \n 1   description            129971 non-null  object \n 2   designation            92506 non-null   object \n 3   points                 129971 non-null  int64  \n 4   price                  120975 non-null  float64\n 5   province               129908 non-null  object \n 6   region_1               108724 non-null  object \n 7   region_2               50511 non-null   object \n 8   taster_name            103727 non-null  object \n 9   taster_twitter_handle  98758 non-null   object \n 10  title                  129971 non-null  object \n 11  variety                129970 non-null  object \n 12  winery                 129971 non-null  object \ndtypes: float64(1), int64(1), object(11)\nmemory usage: 12.9+ MB\n"
          ]
        }
      ],
      "source": [
        "vinos.info()"
      ]
    },
    {
      "cell_type": "code",
      "execution_count": 33,
      "metadata": {},
      "outputs": [
        {
          "output_type": "execute_result",
          "data": {
            "text/plain": [
              "              points          price\n",
              "count  129971.000000  120975.000000\n",
              "mean       88.447138      35.363389\n",
              "std         3.039730      41.022218\n",
              "min        80.000000       4.000000\n",
              "25%        86.000000      17.000000\n",
              "50%        88.000000      25.000000\n",
              "75%        91.000000      42.000000\n",
              "max       100.000000    3300.000000"
            ],
            "text/html": "<div>\n<style scoped>\n    .dataframe tbody tr th:only-of-type {\n        vertical-align: middle;\n    }\n\n    .dataframe tbody tr th {\n        vertical-align: top;\n    }\n\n    .dataframe thead th {\n        text-align: right;\n    }\n</style>\n<table border=\"1\" class=\"dataframe\">\n  <thead>\n    <tr style=\"text-align: right;\">\n      <th></th>\n      <th>points</th>\n      <th>price</th>\n    </tr>\n  </thead>\n  <tbody>\n    <tr>\n      <th>count</th>\n      <td>129971.000000</td>\n      <td>120975.000000</td>\n    </tr>\n    <tr>\n      <th>mean</th>\n      <td>88.447138</td>\n      <td>35.363389</td>\n    </tr>\n    <tr>\n      <th>std</th>\n      <td>3.039730</td>\n      <td>41.022218</td>\n    </tr>\n    <tr>\n      <th>min</th>\n      <td>80.000000</td>\n      <td>4.000000</td>\n    </tr>\n    <tr>\n      <th>25%</th>\n      <td>86.000000</td>\n      <td>17.000000</td>\n    </tr>\n    <tr>\n      <th>50%</th>\n      <td>88.000000</td>\n      <td>25.000000</td>\n    </tr>\n    <tr>\n      <th>75%</th>\n      <td>91.000000</td>\n      <td>42.000000</td>\n    </tr>\n    <tr>\n      <th>max</th>\n      <td>100.000000</td>\n      <td>3300.000000</td>\n    </tr>\n  </tbody>\n</table>\n</div>"
          },
          "metadata": {},
          "execution_count": 33
        }
      ],
      "source": [
        "vinos.describe()"
      ]
    },
    {
      "cell_type": "markdown",
      "metadata": {
        "id": "5CuPWGb4tmxY"
      },
      "source": [
        "### Prueba Z\n",
        "\n",
        "Es la manera estadística de probar nuestra hipótesis si:\n",
        "* Conocemos la varianza de la población o\n",
        "* No conocemos la varianza, pero nuestra muestra es $n>=30$ \\\\\n",
        "\n",
        "Tenemos que \\\\\n",
        "\n",
        "$Z =\\frac{\\bar x - \\mu}{\\frac {\\sigma}{\\sqrt n}}$ \\\\\n",
        "donde \\\\\n",
        "$\n",
        "\\bar x $ = Media de la muestra \\\\\n",
        "$\\mu $= media de la población \\\\\n",
        "$\\sigma $ = Desviación estándar de la población \\\\\n",
        "$n $= Tamaño de la muestra\n",
        "\n",
        "Ejemplo:\n",
        "\n",
        "En este dataset de reviews de vinos, vamos a asumir que los datos  de puntaje de los vinos están distribuidos de forma\n",
        "normal.\n",
        "--->Points: The number of points WineEnthusiast rated the wine on a scale of 1-100<---\n",
        "\n",
        "Entonces definimos nuestra media poblacional ($\\mu$) y desviación estándar ($\\sigma$). Estos serán nuestros\n",
        "parámetros. Estamos asumiendo aquí que los datos que tenemos son los datos de la población, sin muestreo."
      ]
    },
    {
      "cell_type": "code",
      "execution_count": 36,
      "metadata": {},
      "outputs": [
        {
          "output_type": "display_data",
          "data": {
            "text/plain": "<Figure size 432x288 with 1 Axes>",
            "image/svg+xml": "<?xml version=\"1.0\" encoding=\"utf-8\" standalone=\"no\"?>\r\n<!DOCTYPE svg PUBLIC \"-//W3C//DTD SVG 1.1//EN\"\r\n  \"http://www.w3.org/Graphics/SVG/1.1/DTD/svg11.dtd\">\r\n<!-- Created with matplotlib (https://matplotlib.org/) -->\r\n<svg height=\"248.518125pt\" version=\"1.1\" viewBox=\"0 0 388.0125 248.518125\" width=\"388.0125pt\" xmlns=\"http://www.w3.org/2000/svg\" xmlns:xlink=\"http://www.w3.org/1999/xlink\">\r\n <metadata>\r\n  <rdf:RDF xmlns:cc=\"http://creativecommons.org/ns#\" xmlns:dc=\"http://purl.org/dc/elements/1.1/\" xmlns:rdf=\"http://www.w3.org/1999/02/22-rdf-syntax-ns#\">\r\n   <cc:Work>\r\n    <dc:type rdf:resource=\"http://purl.org/dc/dcmitype/StillImage\"/>\r\n    <dc:date>2021-06-26T13:46:13.346247</dc:date>\r\n    <dc:format>image/svg+xml</dc:format>\r\n    <dc:creator>\r\n     <cc:Agent>\r\n      <dc:title>Matplotlib v3.3.4, https://matplotlib.org/</dc:title>\r\n     </cc:Agent>\r\n    </dc:creator>\r\n   </cc:Work>\r\n  </rdf:RDF>\r\n </metadata>\r\n <defs>\r\n  <style type=\"text/css\">*{stroke-linecap:butt;stroke-linejoin:round;}</style>\r\n </defs>\r\n <g id=\"figure_1\">\r\n  <g id=\"patch_1\">\r\n   <path d=\"M 0 248.518125 \r\nL 388.0125 248.518125 \r\nL 388.0125 0 \r\nL 0 0 \r\nz\r\n\" style=\"fill:none;\"/>\r\n  </g>\r\n  <g id=\"axes_1\">\r\n   <g id=\"patch_2\">\r\n    <path d=\"M 46.0125 224.64 \r\nL 380.8125 224.64 \r\nL 380.8125 7.2 \r\nL 46.0125 7.2 \r\nz\r\n\" style=\"fill:#ffffff;\"/>\r\n   </g>\r\n   <g id=\"patch_3\">\r\n    <path clip-path=\"url(#pf648b729aa)\" d=\"M 61.230682 224.64 \r\nL 91.667045 224.64 \r\nL 91.667045 217.00392 \r\nL 61.230682 217.00392 \r\nz\r\n\" style=\"fill:#1f77b4;\"/>\r\n   </g>\r\n   <g id=\"patch_4\">\r\n    <path clip-path=\"url(#pf648b729aa)\" d=\"M 91.667045 224.64 \r\nL 122.103409 224.64 \r\nL 122.103409 190.554616 \r\nL 91.667045 190.554616 \r\nz\r\n\" style=\"fill:#1f77b4;\"/>\r\n   </g>\r\n   <g id=\"patch_5\">\r\n    <path clip-path=\"url(#pf648b729aa)\" d=\"M 122.103409 224.64 \r\nL 152.539773 224.64 \r\nL 152.539773 112.377707 \r\nL 122.103409 112.377707 \r\nz\r\n\" style=\"fill:#1f77b4;\"/>\r\n   </g>\r\n   <g id=\"patch_6\">\r\n    <path clip-path=\"url(#pf648b729aa)\" d=\"M 152.539773 224.64 \r\nL 182.976136 224.64 \r\nL 182.976136 17.554286 \r\nL 152.539773 17.554286 \r\nz\r\n\" style=\"fill:#1f77b4;\"/>\r\n   </g>\r\n   <g id=\"patch_7\">\r\n    <path clip-path=\"url(#pf648b729aa)\" d=\"M 182.976136 224.64 \r\nL 213.4125 224.64 \r\nL 213.4125 18.255487 \r\nL 182.976136 18.255487 \r\nz\r\n\" style=\"fill:#1f77b4;\"/>\r\n   </g>\r\n   <g id=\"patch_8\">\r\n    <path clip-path=\"url(#pf648b729aa)\" d=\"M 213.4125 224.64 \r\nL 243.848864 224.64 \r\nL 243.848864 36.935484 \r\nL 213.4125 36.935484 \r\nz\r\n\" style=\"fill:#1f77b4;\"/>\r\n   </g>\r\n   <g id=\"patch_9\">\r\n    <path clip-path=\"url(#pf648b729aa)\" d=\"M 243.848864 224.64 \r\nL 274.285227 224.64 \r\nL 274.285227 111.732602 \r\nL 243.848864 111.732602 \r\nz\r\n\" style=\"fill:#1f77b4;\"/>\r\n   </g>\r\n   <g id=\"patch_10\">\r\n    <path clip-path=\"url(#pf648b729aa)\" d=\"M 274.285227 224.64 \r\nL 304.721591 224.64 \r\nL 304.721591 187.525427 \r\nL 274.285227 187.525427 \r\nz\r\n\" style=\"fill:#1f77b4;\"/>\r\n   </g>\r\n   <g id=\"patch_11\">\r\n    <path clip-path=\"url(#pf648b729aa)\" d=\"M 304.721591 224.64 \r\nL 335.157955 224.64 \r\nL 335.157955 219.366968 \r\nL 304.721591 219.366968 \r\nz\r\n\" style=\"fill:#1f77b4;\"/>\r\n   </g>\r\n   <g id=\"patch_12\">\r\n    <path clip-path=\"url(#pf648b729aa)\" d=\"M 335.157955 224.64 \r\nL 365.594318 224.64 \r\nL 365.594318 223.735451 \r\nL 335.157955 223.735451 \r\nz\r\n\" style=\"fill:#1f77b4;\"/>\r\n   </g>\r\n   <g id=\"matplotlib.axis_1\">\r\n    <g id=\"xtick_1\">\r\n     <g id=\"line2d_1\">\r\n      <path clip-path=\"url(#pf648b729aa)\" d=\"M 61.230682 224.64 \r\nL 61.230682 7.2 \r\n\" style=\"fill:none;stroke:#b0b0b0;stroke-linecap:square;stroke-width:0.8;\"/>\r\n     </g>\r\n     <g id=\"line2d_2\">\r\n      <defs>\r\n       <path d=\"M 0 0 \r\nL 0 3.5 \r\n\" id=\"m60b3f03e35\" style=\"stroke:#000000;stroke-width:0.8;\"/>\r\n      </defs>\r\n      <g>\r\n       <use style=\"stroke:#000000;stroke-width:0.8;\" x=\"61.230682\" xlink:href=\"#m60b3f03e35\" y=\"224.64\"/>\r\n      </g>\r\n     </g>\r\n     <g id=\"text_1\">\r\n      <!-- 80.0 -->\r\n      <g transform=\"translate(50.097869 239.238438)scale(0.1 -0.1)\">\r\n       <defs>\r\n        <path d=\"M 31.78125 34.625 \r\nQ 24.75 34.625 20.71875 30.859375 \r\nQ 16.703125 27.09375 16.703125 20.515625 \r\nQ 16.703125 13.921875 20.71875 10.15625 \r\nQ 24.75 6.390625 31.78125 6.390625 \r\nQ 38.8125 6.390625 42.859375 10.171875 \r\nQ 46.921875 13.96875 46.921875 20.515625 \r\nQ 46.921875 27.09375 42.890625 30.859375 \r\nQ 38.875 34.625 31.78125 34.625 \r\nz\r\nM 21.921875 38.8125 \r\nQ 15.578125 40.375 12.03125 44.71875 \r\nQ 8.5 49.078125 8.5 55.328125 \r\nQ 8.5 64.0625 14.71875 69.140625 \r\nQ 20.953125 74.21875 31.78125 74.21875 \r\nQ 42.671875 74.21875 48.875 69.140625 \r\nQ 55.078125 64.0625 55.078125 55.328125 \r\nQ 55.078125 49.078125 51.53125 44.71875 \r\nQ 48 40.375 41.703125 38.8125 \r\nQ 48.828125 37.15625 52.796875 32.3125 \r\nQ 56.78125 27.484375 56.78125 20.515625 \r\nQ 56.78125 9.90625 50.3125 4.234375 \r\nQ 43.84375 -1.421875 31.78125 -1.421875 \r\nQ 19.734375 -1.421875 13.25 4.234375 \r\nQ 6.78125 9.90625 6.78125 20.515625 \r\nQ 6.78125 27.484375 10.78125 32.3125 \r\nQ 14.796875 37.15625 21.921875 38.8125 \r\nz\r\nM 18.3125 54.390625 \r\nQ 18.3125 48.734375 21.84375 45.5625 \r\nQ 25.390625 42.390625 31.78125 42.390625 \r\nQ 38.140625 42.390625 41.71875 45.5625 \r\nQ 45.3125 48.734375 45.3125 54.390625 \r\nQ 45.3125 60.0625 41.71875 63.234375 \r\nQ 38.140625 66.40625 31.78125 66.40625 \r\nQ 25.390625 66.40625 21.84375 63.234375 \r\nQ 18.3125 60.0625 18.3125 54.390625 \r\nz\r\n\" id=\"DejaVuSans-56\"/>\r\n        <path d=\"M 31.78125 66.40625 \r\nQ 24.171875 66.40625 20.328125 58.90625 \r\nQ 16.5 51.421875 16.5 36.375 \r\nQ 16.5 21.390625 20.328125 13.890625 \r\nQ 24.171875 6.390625 31.78125 6.390625 \r\nQ 39.453125 6.390625 43.28125 13.890625 \r\nQ 47.125 21.390625 47.125 36.375 \r\nQ 47.125 51.421875 43.28125 58.90625 \r\nQ 39.453125 66.40625 31.78125 66.40625 \r\nz\r\nM 31.78125 74.21875 \r\nQ 44.046875 74.21875 50.515625 64.515625 \r\nQ 56.984375 54.828125 56.984375 36.375 \r\nQ 56.984375 17.96875 50.515625 8.265625 \r\nQ 44.046875 -1.421875 31.78125 -1.421875 \r\nQ 19.53125 -1.421875 13.0625 8.265625 \r\nQ 6.59375 17.96875 6.59375 36.375 \r\nQ 6.59375 54.828125 13.0625 64.515625 \r\nQ 19.53125 74.21875 31.78125 74.21875 \r\nz\r\n\" id=\"DejaVuSans-48\"/>\r\n        <path d=\"M 10.6875 12.40625 \r\nL 21 12.40625 \r\nL 21 0 \r\nL 10.6875 0 \r\nz\r\n\" id=\"DejaVuSans-46\"/>\r\n       </defs>\r\n       <use xlink:href=\"#DejaVuSans-56\"/>\r\n       <use x=\"63.623047\" xlink:href=\"#DejaVuSans-48\"/>\r\n       <use x=\"127.246094\" xlink:href=\"#DejaVuSans-46\"/>\r\n       <use x=\"159.033203\" xlink:href=\"#DejaVuSans-48\"/>\r\n      </g>\r\n     </g>\r\n    </g>\r\n    <g id=\"xtick_2\">\r\n     <g id=\"line2d_3\">\r\n      <path clip-path=\"url(#pf648b729aa)\" d=\"M 99.276136 224.64 \r\nL 99.276136 7.2 \r\n\" style=\"fill:none;stroke:#b0b0b0;stroke-linecap:square;stroke-width:0.8;\"/>\r\n     </g>\r\n     <g id=\"line2d_4\">\r\n      <g>\r\n       <use style=\"stroke:#000000;stroke-width:0.8;\" x=\"99.276136\" xlink:href=\"#m60b3f03e35\" y=\"224.64\"/>\r\n      </g>\r\n     </g>\r\n     <g id=\"text_2\">\r\n      <!-- 82.5 -->\r\n      <g transform=\"translate(88.143324 239.238438)scale(0.1 -0.1)\">\r\n       <defs>\r\n        <path d=\"M 19.1875 8.296875 \r\nL 53.609375 8.296875 \r\nL 53.609375 0 \r\nL 7.328125 0 \r\nL 7.328125 8.296875 \r\nQ 12.9375 14.109375 22.625 23.890625 \r\nQ 32.328125 33.6875 34.8125 36.53125 \r\nQ 39.546875 41.84375 41.421875 45.53125 \r\nQ 43.3125 49.21875 43.3125 52.78125 \r\nQ 43.3125 58.59375 39.234375 62.25 \r\nQ 35.15625 65.921875 28.609375 65.921875 \r\nQ 23.96875 65.921875 18.8125 64.3125 \r\nQ 13.671875 62.703125 7.8125 59.421875 \r\nL 7.8125 69.390625 \r\nQ 13.765625 71.78125 18.9375 73 \r\nQ 24.125 74.21875 28.421875 74.21875 \r\nQ 39.75 74.21875 46.484375 68.546875 \r\nQ 53.21875 62.890625 53.21875 53.421875 \r\nQ 53.21875 48.921875 51.53125 44.890625 \r\nQ 49.859375 40.875 45.40625 35.40625 \r\nQ 44.1875 33.984375 37.640625 27.21875 \r\nQ 31.109375 20.453125 19.1875 8.296875 \r\nz\r\n\" id=\"DejaVuSans-50\"/>\r\n        <path d=\"M 10.796875 72.90625 \r\nL 49.515625 72.90625 \r\nL 49.515625 64.59375 \r\nL 19.828125 64.59375 \r\nL 19.828125 46.734375 \r\nQ 21.96875 47.46875 24.109375 47.828125 \r\nQ 26.265625 48.1875 28.421875 48.1875 \r\nQ 40.625 48.1875 47.75 41.5 \r\nQ 54.890625 34.8125 54.890625 23.390625 \r\nQ 54.890625 11.625 47.5625 5.09375 \r\nQ 40.234375 -1.421875 26.90625 -1.421875 \r\nQ 22.3125 -1.421875 17.546875 -0.640625 \r\nQ 12.796875 0.140625 7.71875 1.703125 \r\nL 7.71875 11.625 \r\nQ 12.109375 9.234375 16.796875 8.0625 \r\nQ 21.484375 6.890625 26.703125 6.890625 \r\nQ 35.15625 6.890625 40.078125 11.328125 \r\nQ 45.015625 15.765625 45.015625 23.390625 \r\nQ 45.015625 31 40.078125 35.4375 \r\nQ 35.15625 39.890625 26.703125 39.890625 \r\nQ 22.75 39.890625 18.8125 39.015625 \r\nQ 14.890625 38.140625 10.796875 36.28125 \r\nz\r\n\" id=\"DejaVuSans-53\"/>\r\n       </defs>\r\n       <use xlink:href=\"#DejaVuSans-56\"/>\r\n       <use x=\"63.623047\" xlink:href=\"#DejaVuSans-50\"/>\r\n       <use x=\"127.246094\" xlink:href=\"#DejaVuSans-46\"/>\r\n       <use x=\"159.033203\" xlink:href=\"#DejaVuSans-53\"/>\r\n      </g>\r\n     </g>\r\n    </g>\r\n    <g id=\"xtick_3\">\r\n     <g id=\"line2d_5\">\r\n      <path clip-path=\"url(#pf648b729aa)\" d=\"M 137.321591 224.64 \r\nL 137.321591 7.2 \r\n\" style=\"fill:none;stroke:#b0b0b0;stroke-linecap:square;stroke-width:0.8;\"/>\r\n     </g>\r\n     <g id=\"line2d_6\">\r\n      <g>\r\n       <use style=\"stroke:#000000;stroke-width:0.8;\" x=\"137.321591\" xlink:href=\"#m60b3f03e35\" y=\"224.64\"/>\r\n      </g>\r\n     </g>\r\n     <g id=\"text_3\">\r\n      <!-- 85.0 -->\r\n      <g transform=\"translate(126.188778 239.238438)scale(0.1 -0.1)\">\r\n       <use xlink:href=\"#DejaVuSans-56\"/>\r\n       <use x=\"63.623047\" xlink:href=\"#DejaVuSans-53\"/>\r\n       <use x=\"127.246094\" xlink:href=\"#DejaVuSans-46\"/>\r\n       <use x=\"159.033203\" xlink:href=\"#DejaVuSans-48\"/>\r\n      </g>\r\n     </g>\r\n    </g>\r\n    <g id=\"xtick_4\">\r\n     <g id=\"line2d_7\">\r\n      <path clip-path=\"url(#pf648b729aa)\" d=\"M 175.367045 224.64 \r\nL 175.367045 7.2 \r\n\" style=\"fill:none;stroke:#b0b0b0;stroke-linecap:square;stroke-width:0.8;\"/>\r\n     </g>\r\n     <g id=\"line2d_8\">\r\n      <g>\r\n       <use style=\"stroke:#000000;stroke-width:0.8;\" x=\"175.367045\" xlink:href=\"#m60b3f03e35\" y=\"224.64\"/>\r\n      </g>\r\n     </g>\r\n     <g id=\"text_4\">\r\n      <!-- 87.5 -->\r\n      <g transform=\"translate(164.234233 239.238438)scale(0.1 -0.1)\">\r\n       <defs>\r\n        <path d=\"M 8.203125 72.90625 \r\nL 55.078125 72.90625 \r\nL 55.078125 68.703125 \r\nL 28.609375 0 \r\nL 18.3125 0 \r\nL 43.21875 64.59375 \r\nL 8.203125 64.59375 \r\nz\r\n\" id=\"DejaVuSans-55\"/>\r\n       </defs>\r\n       <use xlink:href=\"#DejaVuSans-56\"/>\r\n       <use x=\"63.623047\" xlink:href=\"#DejaVuSans-55\"/>\r\n       <use x=\"127.246094\" xlink:href=\"#DejaVuSans-46\"/>\r\n       <use x=\"159.033203\" xlink:href=\"#DejaVuSans-53\"/>\r\n      </g>\r\n     </g>\r\n    </g>\r\n    <g id=\"xtick_5\">\r\n     <g id=\"line2d_9\">\r\n      <path clip-path=\"url(#pf648b729aa)\" d=\"M 213.4125 224.64 \r\nL 213.4125 7.2 \r\n\" style=\"fill:none;stroke:#b0b0b0;stroke-linecap:square;stroke-width:0.8;\"/>\r\n     </g>\r\n     <g id=\"line2d_10\">\r\n      <g>\r\n       <use style=\"stroke:#000000;stroke-width:0.8;\" x=\"213.4125\" xlink:href=\"#m60b3f03e35\" y=\"224.64\"/>\r\n      </g>\r\n     </g>\r\n     <g id=\"text_5\">\r\n      <!-- 90.0 -->\r\n      <g transform=\"translate(202.279688 239.238438)scale(0.1 -0.1)\">\r\n       <defs>\r\n        <path d=\"M 10.984375 1.515625 \r\nL 10.984375 10.5 \r\nQ 14.703125 8.734375 18.5 7.8125 \r\nQ 22.3125 6.890625 25.984375 6.890625 \r\nQ 35.75 6.890625 40.890625 13.453125 \r\nQ 46.046875 20.015625 46.78125 33.40625 \r\nQ 43.953125 29.203125 39.59375 26.953125 \r\nQ 35.25 24.703125 29.984375 24.703125 \r\nQ 19.046875 24.703125 12.671875 31.3125 \r\nQ 6.296875 37.9375 6.296875 49.421875 \r\nQ 6.296875 60.640625 12.9375 67.421875 \r\nQ 19.578125 74.21875 30.609375 74.21875 \r\nQ 43.265625 74.21875 49.921875 64.515625 \r\nQ 56.59375 54.828125 56.59375 36.375 \r\nQ 56.59375 19.140625 48.40625 8.859375 \r\nQ 40.234375 -1.421875 26.421875 -1.421875 \r\nQ 22.703125 -1.421875 18.890625 -0.6875 \r\nQ 15.09375 0.046875 10.984375 1.515625 \r\nz\r\nM 30.609375 32.421875 \r\nQ 37.25 32.421875 41.125 36.953125 \r\nQ 45.015625 41.5 45.015625 49.421875 \r\nQ 45.015625 57.28125 41.125 61.84375 \r\nQ 37.25 66.40625 30.609375 66.40625 \r\nQ 23.96875 66.40625 20.09375 61.84375 \r\nQ 16.21875 57.28125 16.21875 49.421875 \r\nQ 16.21875 41.5 20.09375 36.953125 \r\nQ 23.96875 32.421875 30.609375 32.421875 \r\nz\r\n\" id=\"DejaVuSans-57\"/>\r\n       </defs>\r\n       <use xlink:href=\"#DejaVuSans-57\"/>\r\n       <use x=\"63.623047\" xlink:href=\"#DejaVuSans-48\"/>\r\n       <use x=\"127.246094\" xlink:href=\"#DejaVuSans-46\"/>\r\n       <use x=\"159.033203\" xlink:href=\"#DejaVuSans-48\"/>\r\n      </g>\r\n     </g>\r\n    </g>\r\n    <g id=\"xtick_6\">\r\n     <g id=\"line2d_11\">\r\n      <path clip-path=\"url(#pf648b729aa)\" d=\"M 251.457955 224.64 \r\nL 251.457955 7.2 \r\n\" style=\"fill:none;stroke:#b0b0b0;stroke-linecap:square;stroke-width:0.8;\"/>\r\n     </g>\r\n     <g id=\"line2d_12\">\r\n      <g>\r\n       <use style=\"stroke:#000000;stroke-width:0.8;\" x=\"251.457955\" xlink:href=\"#m60b3f03e35\" y=\"224.64\"/>\r\n      </g>\r\n     </g>\r\n     <g id=\"text_6\">\r\n      <!-- 92.5 -->\r\n      <g transform=\"translate(240.325142 239.238438)scale(0.1 -0.1)\">\r\n       <use xlink:href=\"#DejaVuSans-57\"/>\r\n       <use x=\"63.623047\" xlink:href=\"#DejaVuSans-50\"/>\r\n       <use x=\"127.246094\" xlink:href=\"#DejaVuSans-46\"/>\r\n       <use x=\"159.033203\" xlink:href=\"#DejaVuSans-53\"/>\r\n      </g>\r\n     </g>\r\n    </g>\r\n    <g id=\"xtick_7\">\r\n     <g id=\"line2d_13\">\r\n      <path clip-path=\"url(#pf648b729aa)\" d=\"M 289.503409 224.64 \r\nL 289.503409 7.2 \r\n\" style=\"fill:none;stroke:#b0b0b0;stroke-linecap:square;stroke-width:0.8;\"/>\r\n     </g>\r\n     <g id=\"line2d_14\">\r\n      <g>\r\n       <use style=\"stroke:#000000;stroke-width:0.8;\" x=\"289.503409\" xlink:href=\"#m60b3f03e35\" y=\"224.64\"/>\r\n      </g>\r\n     </g>\r\n     <g id=\"text_7\">\r\n      <!-- 95.0 -->\r\n      <g transform=\"translate(278.370597 239.238438)scale(0.1 -0.1)\">\r\n       <use xlink:href=\"#DejaVuSans-57\"/>\r\n       <use x=\"63.623047\" xlink:href=\"#DejaVuSans-53\"/>\r\n       <use x=\"127.246094\" xlink:href=\"#DejaVuSans-46\"/>\r\n       <use x=\"159.033203\" xlink:href=\"#DejaVuSans-48\"/>\r\n      </g>\r\n     </g>\r\n    </g>\r\n    <g id=\"xtick_8\">\r\n     <g id=\"line2d_15\">\r\n      <path clip-path=\"url(#pf648b729aa)\" d=\"M 327.548864 224.64 \r\nL 327.548864 7.2 \r\n\" style=\"fill:none;stroke:#b0b0b0;stroke-linecap:square;stroke-width:0.8;\"/>\r\n     </g>\r\n     <g id=\"line2d_16\">\r\n      <g>\r\n       <use style=\"stroke:#000000;stroke-width:0.8;\" x=\"327.548864\" xlink:href=\"#m60b3f03e35\" y=\"224.64\"/>\r\n      </g>\r\n     </g>\r\n     <g id=\"text_8\">\r\n      <!-- 97.5 -->\r\n      <g transform=\"translate(316.416051 239.238438)scale(0.1 -0.1)\">\r\n       <use xlink:href=\"#DejaVuSans-57\"/>\r\n       <use x=\"63.623047\" xlink:href=\"#DejaVuSans-55\"/>\r\n       <use x=\"127.246094\" xlink:href=\"#DejaVuSans-46\"/>\r\n       <use x=\"159.033203\" xlink:href=\"#DejaVuSans-53\"/>\r\n      </g>\r\n     </g>\r\n    </g>\r\n    <g id=\"xtick_9\">\r\n     <g id=\"line2d_17\">\r\n      <path clip-path=\"url(#pf648b729aa)\" d=\"M 365.594318 224.64 \r\nL 365.594318 7.2 \r\n\" style=\"fill:none;stroke:#b0b0b0;stroke-linecap:square;stroke-width:0.8;\"/>\r\n     </g>\r\n     <g id=\"line2d_18\">\r\n      <g>\r\n       <use style=\"stroke:#000000;stroke-width:0.8;\" x=\"365.594318\" xlink:href=\"#m60b3f03e35\" y=\"224.64\"/>\r\n      </g>\r\n     </g>\r\n     <g id=\"text_9\">\r\n      <!-- 100.0 -->\r\n      <g transform=\"translate(351.280256 239.238438)scale(0.1 -0.1)\">\r\n       <defs>\r\n        <path d=\"M 12.40625 8.296875 \r\nL 28.515625 8.296875 \r\nL 28.515625 63.921875 \r\nL 10.984375 60.40625 \r\nL 10.984375 69.390625 \r\nL 28.421875 72.90625 \r\nL 38.28125 72.90625 \r\nL 38.28125 8.296875 \r\nL 54.390625 8.296875 \r\nL 54.390625 0 \r\nL 12.40625 0 \r\nz\r\n\" id=\"DejaVuSans-49\"/>\r\n       </defs>\r\n       <use xlink:href=\"#DejaVuSans-49\"/>\r\n       <use x=\"63.623047\" xlink:href=\"#DejaVuSans-48\"/>\r\n       <use x=\"127.246094\" xlink:href=\"#DejaVuSans-48\"/>\r\n       <use x=\"190.869141\" xlink:href=\"#DejaVuSans-46\"/>\r\n       <use x=\"222.65625\" xlink:href=\"#DejaVuSans-48\"/>\r\n      </g>\r\n     </g>\r\n    </g>\r\n   </g>\r\n   <g id=\"matplotlib.axis_2\">\r\n    <g id=\"ytick_1\">\r\n     <g id=\"line2d_19\">\r\n      <path clip-path=\"url(#pf648b729aa)\" d=\"M 46.0125 224.64 \r\nL 380.8125 224.64 \r\n\" style=\"fill:none;stroke:#b0b0b0;stroke-linecap:square;stroke-width:0.8;\"/>\r\n     </g>\r\n     <g id=\"line2d_20\">\r\n      <defs>\r\n       <path d=\"M 0 0 \r\nL -3.5 0 \r\n\" id=\"mb7192fb6c7\" style=\"stroke:#000000;stroke-width:0.8;\"/>\r\n      </defs>\r\n      <g>\r\n       <use style=\"stroke:#000000;stroke-width:0.8;\" x=\"46.0125\" xlink:href=\"#mb7192fb6c7\" y=\"224.64\"/>\r\n      </g>\r\n     </g>\r\n     <g id=\"text_10\">\r\n      <!-- 0 -->\r\n      <g transform=\"translate(32.65 228.439219)scale(0.1 -0.1)\">\r\n       <use xlink:href=\"#DejaVuSans-48\"/>\r\n      </g>\r\n     </g>\r\n    </g>\r\n    <g id=\"ytick_2\">\r\n     <g id=\"line2d_21\">\r\n      <path clip-path=\"url(#pf648b729aa)\" d=\"M 46.0125 189.579946 \r\nL 380.8125 189.579946 \r\n\" style=\"fill:none;stroke:#b0b0b0;stroke-linecap:square;stroke-width:0.8;\"/>\r\n     </g>\r\n     <g id=\"line2d_22\">\r\n      <g>\r\n       <use style=\"stroke:#000000;stroke-width:0.8;\" x=\"46.0125\" xlink:href=\"#mb7192fb6c7\" y=\"189.579946\"/>\r\n      </g>\r\n     </g>\r\n     <g id=\"text_11\">\r\n      <!-- 5000 -->\r\n      <g transform=\"translate(13.5625 193.379165)scale(0.1 -0.1)\">\r\n       <use xlink:href=\"#DejaVuSans-53\"/>\r\n       <use x=\"63.623047\" xlink:href=\"#DejaVuSans-48\"/>\r\n       <use x=\"127.246094\" xlink:href=\"#DejaVuSans-48\"/>\r\n       <use x=\"190.869141\" xlink:href=\"#DejaVuSans-48\"/>\r\n      </g>\r\n     </g>\r\n    </g>\r\n    <g id=\"ytick_3\">\r\n     <g id=\"line2d_23\">\r\n      <path clip-path=\"url(#pf648b729aa)\" d=\"M 46.0125 154.519892 \r\nL 380.8125 154.519892 \r\n\" style=\"fill:none;stroke:#b0b0b0;stroke-linecap:square;stroke-width:0.8;\"/>\r\n     </g>\r\n     <g id=\"line2d_24\">\r\n      <g>\r\n       <use style=\"stroke:#000000;stroke-width:0.8;\" x=\"46.0125\" xlink:href=\"#mb7192fb6c7\" y=\"154.519892\"/>\r\n      </g>\r\n     </g>\r\n     <g id=\"text_12\">\r\n      <!-- 10000 -->\r\n      <g transform=\"translate(7.2 158.319111)scale(0.1 -0.1)\">\r\n       <use xlink:href=\"#DejaVuSans-49\"/>\r\n       <use x=\"63.623047\" xlink:href=\"#DejaVuSans-48\"/>\r\n       <use x=\"127.246094\" xlink:href=\"#DejaVuSans-48\"/>\r\n       <use x=\"190.869141\" xlink:href=\"#DejaVuSans-48\"/>\r\n       <use x=\"254.492188\" xlink:href=\"#DejaVuSans-48\"/>\r\n      </g>\r\n     </g>\r\n    </g>\r\n    <g id=\"ytick_4\">\r\n     <g id=\"line2d_25\">\r\n      <path clip-path=\"url(#pf648b729aa)\" d=\"M 46.0125 119.459838 \r\nL 380.8125 119.459838 \r\n\" style=\"fill:none;stroke:#b0b0b0;stroke-linecap:square;stroke-width:0.8;\"/>\r\n     </g>\r\n     <g id=\"line2d_26\">\r\n      <g>\r\n       <use style=\"stroke:#000000;stroke-width:0.8;\" x=\"46.0125\" xlink:href=\"#mb7192fb6c7\" y=\"119.459838\"/>\r\n      </g>\r\n     </g>\r\n     <g id=\"text_13\">\r\n      <!-- 15000 -->\r\n      <g transform=\"translate(7.2 123.259057)scale(0.1 -0.1)\">\r\n       <use xlink:href=\"#DejaVuSans-49\"/>\r\n       <use x=\"63.623047\" xlink:href=\"#DejaVuSans-53\"/>\r\n       <use x=\"127.246094\" xlink:href=\"#DejaVuSans-48\"/>\r\n       <use x=\"190.869141\" xlink:href=\"#DejaVuSans-48\"/>\r\n       <use x=\"254.492188\" xlink:href=\"#DejaVuSans-48\"/>\r\n      </g>\r\n     </g>\r\n    </g>\r\n    <g id=\"ytick_5\">\r\n     <g id=\"line2d_27\">\r\n      <path clip-path=\"url(#pf648b729aa)\" d=\"M 46.0125 84.399784 \r\nL 380.8125 84.399784 \r\n\" style=\"fill:none;stroke:#b0b0b0;stroke-linecap:square;stroke-width:0.8;\"/>\r\n     </g>\r\n     <g id=\"line2d_28\">\r\n      <g>\r\n       <use style=\"stroke:#000000;stroke-width:0.8;\" x=\"46.0125\" xlink:href=\"#mb7192fb6c7\" y=\"84.399784\"/>\r\n      </g>\r\n     </g>\r\n     <g id=\"text_14\">\r\n      <!-- 20000 -->\r\n      <g transform=\"translate(7.2 88.199003)scale(0.1 -0.1)\">\r\n       <use xlink:href=\"#DejaVuSans-50\"/>\r\n       <use x=\"63.623047\" xlink:href=\"#DejaVuSans-48\"/>\r\n       <use x=\"127.246094\" xlink:href=\"#DejaVuSans-48\"/>\r\n       <use x=\"190.869141\" xlink:href=\"#DejaVuSans-48\"/>\r\n       <use x=\"254.492188\" xlink:href=\"#DejaVuSans-48\"/>\r\n      </g>\r\n     </g>\r\n    </g>\r\n    <g id=\"ytick_6\">\r\n     <g id=\"line2d_29\">\r\n      <path clip-path=\"url(#pf648b729aa)\" d=\"M 46.0125 49.339731 \r\nL 380.8125 49.339731 \r\n\" style=\"fill:none;stroke:#b0b0b0;stroke-linecap:square;stroke-width:0.8;\"/>\r\n     </g>\r\n     <g id=\"line2d_30\">\r\n      <g>\r\n       <use style=\"stroke:#000000;stroke-width:0.8;\" x=\"46.0125\" xlink:href=\"#mb7192fb6c7\" y=\"49.339731\"/>\r\n      </g>\r\n     </g>\r\n     <g id=\"text_15\">\r\n      <!-- 25000 -->\r\n      <g transform=\"translate(7.2 53.138949)scale(0.1 -0.1)\">\r\n       <use xlink:href=\"#DejaVuSans-50\"/>\r\n       <use x=\"63.623047\" xlink:href=\"#DejaVuSans-53\"/>\r\n       <use x=\"127.246094\" xlink:href=\"#DejaVuSans-48\"/>\r\n       <use x=\"190.869141\" xlink:href=\"#DejaVuSans-48\"/>\r\n       <use x=\"254.492188\" xlink:href=\"#DejaVuSans-48\"/>\r\n      </g>\r\n     </g>\r\n    </g>\r\n    <g id=\"ytick_7\">\r\n     <g id=\"line2d_31\">\r\n      <path clip-path=\"url(#pf648b729aa)\" d=\"M 46.0125 14.279677 \r\nL 380.8125 14.279677 \r\n\" style=\"fill:none;stroke:#b0b0b0;stroke-linecap:square;stroke-width:0.8;\"/>\r\n     </g>\r\n     <g id=\"line2d_32\">\r\n      <g>\r\n       <use style=\"stroke:#000000;stroke-width:0.8;\" x=\"46.0125\" xlink:href=\"#mb7192fb6c7\" y=\"14.279677\"/>\r\n      </g>\r\n     </g>\r\n     <g id=\"text_16\">\r\n      <!-- 30000 -->\r\n      <g transform=\"translate(7.2 18.078895)scale(0.1 -0.1)\">\r\n       <defs>\r\n        <path d=\"M 40.578125 39.3125 \r\nQ 47.65625 37.796875 51.625 33 \r\nQ 55.609375 28.21875 55.609375 21.1875 \r\nQ 55.609375 10.40625 48.1875 4.484375 \r\nQ 40.765625 -1.421875 27.09375 -1.421875 \r\nQ 22.515625 -1.421875 17.65625 -0.515625 \r\nQ 12.796875 0.390625 7.625 2.203125 \r\nL 7.625 11.71875 \r\nQ 11.71875 9.328125 16.59375 8.109375 \r\nQ 21.484375 6.890625 26.8125 6.890625 \r\nQ 36.078125 6.890625 40.9375 10.546875 \r\nQ 45.796875 14.203125 45.796875 21.1875 \r\nQ 45.796875 27.640625 41.28125 31.265625 \r\nQ 36.765625 34.90625 28.71875 34.90625 \r\nL 20.21875 34.90625 \r\nL 20.21875 43.015625 \r\nL 29.109375 43.015625 \r\nQ 36.375 43.015625 40.234375 45.921875 \r\nQ 44.09375 48.828125 44.09375 54.296875 \r\nQ 44.09375 59.90625 40.109375 62.90625 \r\nQ 36.140625 65.921875 28.71875 65.921875 \r\nQ 24.65625 65.921875 20.015625 65.03125 \r\nQ 15.375 64.15625 9.8125 62.3125 \r\nL 9.8125 71.09375 \r\nQ 15.4375 72.65625 20.34375 73.4375 \r\nQ 25.25 74.21875 29.59375 74.21875 \r\nQ 40.828125 74.21875 47.359375 69.109375 \r\nQ 53.90625 64.015625 53.90625 55.328125 \r\nQ 53.90625 49.265625 50.4375 45.09375 \r\nQ 46.96875 40.921875 40.578125 39.3125 \r\nz\r\n\" id=\"DejaVuSans-51\"/>\r\n       </defs>\r\n       <use xlink:href=\"#DejaVuSans-51\"/>\r\n       <use x=\"63.623047\" xlink:href=\"#DejaVuSans-48\"/>\r\n       <use x=\"127.246094\" xlink:href=\"#DejaVuSans-48\"/>\r\n       <use x=\"190.869141\" xlink:href=\"#DejaVuSans-48\"/>\r\n       <use x=\"254.492188\" xlink:href=\"#DejaVuSans-48\"/>\r\n      </g>\r\n     </g>\r\n    </g>\r\n   </g>\r\n   <g id=\"patch_13\">\r\n    <path d=\"M 46.0125 224.64 \r\nL 46.0125 7.2 \r\n\" style=\"fill:none;stroke:#000000;stroke-linecap:square;stroke-linejoin:miter;stroke-width:0.8;\"/>\r\n   </g>\r\n   <g id=\"patch_14\">\r\n    <path d=\"M 380.8125 224.64 \r\nL 380.8125 7.2 \r\n\" style=\"fill:none;stroke:#000000;stroke-linecap:square;stroke-linejoin:miter;stroke-width:0.8;\"/>\r\n   </g>\r\n   <g id=\"patch_15\">\r\n    <path d=\"M 46.0125 224.64 \r\nL 380.8125 224.64 \r\n\" style=\"fill:none;stroke:#000000;stroke-linecap:square;stroke-linejoin:miter;stroke-width:0.8;\"/>\r\n   </g>\r\n   <g id=\"patch_16\">\r\n    <path d=\"M 46.0125 7.2 \r\nL 380.8125 7.2 \r\n\" style=\"fill:none;stroke:#000000;stroke-linecap:square;stroke-linejoin:miter;stroke-width:0.8;\"/>\r\n   </g>\r\n  </g>\r\n </g>\r\n <defs>\r\n  <clipPath id=\"pf648b729aa\">\r\n   <rect height=\"217.44\" width=\"334.8\" x=\"46.0125\" y=\"7.2\"/>\r\n  </clipPath>\r\n </defs>\r\n</svg>\r\n",
            "image/png": "[encoded data removed]"
          },
          "metadata": {
            "needs_background": "light"
          }
        }
      ],
      "source": [
        "vinos.points.hist();"
      ]
    },
    {
      "cell_type": "code",
      "execution_count": 39,
      "metadata": {},
      "outputs": [
        {
          "output_type": "stream",
          "name": "stdout",
          "text": [
            "88.44713820775404\n3.039730202916003\n"
          ]
        }
      ],
      "source": [
        "points = vinos.points\n",
        "mu = points.mean()\n",
        "sigma = points.std()\n",
        "print(mu)\n",
        "print(sigma)"
      ]
    },
    {
      "cell_type": "markdown",
      "metadata": {
        "id": "jLpMJiDmgUkr"
      },
      "source": [
        "# Ejemplo\n",
        "\n",
        "Suponiendo que tengo una muestra de n=10 puntajes de vinos con una media muestral de $\\bar{x}$ = 90.2.\n",
        "Esta muestra viene de la misma población que las evaluaciones que tengo aquí?\n",
        "\n",
        "Para probar, vamos a utilizar una prueba z de 1 muestra. Primero, declaramos hipótesis nula e hipótesis alternativa:\n",
        "\n",
        "$H_0$: La muestra es de la misma población de enólogos -> $\\bar{x} = \\mu$\n",
        "\n",
        "$H_A$: La muestra no viene de la misma población de enólogos -> $\\bar{x} \\neq \\mu$\n",
        "\n",
        "Enseguida, específicamos qué nivel de significancia vamos a utilizar. En estadística, un nivel de signficancia común\n",
        "es el de $\\alpha \\leq 0.05$. Vamos a comprobar utilizando un $\\alpha = 0.05$\n",
        "\n",
        "Luego, vamos a nuestra [tabla z] para buscar el valor crítico de z que corresponde con este nivel de significancia.\n",
        "Nuestra prueba tendrá 2 colas porque no nos importa si la media muestral es mayor o menor que la media poblacional.\n",
        "Solamente estamos probando si son iguales o diferentes.\n",
        "\n",
        "[tabla z]: https://www.sjsu.edu/faculty/gerstman/StatPrimer/z-two-tails.pdf\n",
        "\n"
      ]
    },
    {
      "cell_type": "code",
      "metadata": {
        "id": "iMzWjnq9LYRp"
      },
      "source": [
        "# se obtiene de la tabla z dependiendo el grado de exactitud deseado\n",
        "z_test = 1.65\n",
        "x_bar = 90.2\n",
        "print(mu)\n",
        "print(sigma)\n",
        "n = 10"
      ],
      "execution_count": 50,
      "outputs": [
        {
          "output_type": "stream",
          "name": "stdout",
          "text": [
            "88.44713820775404\n3.039730202916003\n"
          ]
        }
      ]
    },
    {
      "cell_type": "code",
      "execution_count": 51,
      "metadata": {},
      "outputs": [
        {
          "output_type": "execute_result",
          "data": {
            "text/plain": [
              "1.8235288387320392"
            ]
          },
          "metadata": {},
          "execution_count": 51
        }
      ],
      "source": [
        "standard_error = sigma / np.sqrt(n)\n",
        "z_stat = (x_bar - mu) / standard_error\n",
        "z_stat"
      ]
    },
    {
      "cell_type": "code",
      "execution_count": 54,
      "metadata": {},
      "outputs": [
        {
          "output_type": "stream",
          "name": "stdout",
          "text": [
            "Valor de z:1.8235288387320392, mayor que 1.65\n podemos rechazar la hipotesis, con una confianza del 90%\n"
          ]
        }
      ],
      "source": [
        "if z_stat < z_test:\n",
        "    print(f'Valor de z:{z_stat}, menor que {z_test}\\n No podemos rechazar la hipotesis')\n",
        "else:    \n",
        "    print(f'Valor de z:{z_stat}, mayor que {z_test}\\n podemos rechazar la hipotesis, con una confianza del 90%')"
      ]
    },
    {
      "cell_type": "markdown",
      "metadata": {
        "id": "X_GxbyJsgZzB"
      },
      "source": [
        "Calculamos el valor de z para nuestra media muestral comparada con la media poblacional dividiendo la diferencia\n",
        "entre las dos medias entre la desviación estándar de la muestra, que es el error estándar: $\\frac{\\sigma}{\\sqrt{n}}$.\n",
        "\n",
        "Si este estadístico es menor que nuestro valor crítico de z, entonces no rechazamos la hipótesis nula; de\n",
        "lo contrario, rechazamos la hipótesis nula en favor de la alternativa."
      ]
    },
    {
      "cell_type": "code",
      "metadata": {
        "id": "_J-YmeR1Le4l"
      },
      "source": [],
      "execution_count": null,
      "outputs": []
    },
    {
      "cell_type": "markdown",
      "metadata": {
        "id": "IU8rL_YHg0Li"
      },
      "source": [
        "### Prueba T\n",
        "\n",
        "En el ejercicio anterior, asumimos que conocemos la media y desviación estándar poblacional, entonces estamos\n",
        "comparando nuestra muestra con esta población. Sin embargo, durante la mayoría de las veces no vamos a conocer estos\n",
        "datos.\n",
        "\n",
        "Nos permite medir nuestra hipótesis cuando:\n",
        "* No conocemos la varianza de la población\n",
        "* Nuestra muestra es pequeña, n < 30 \n",
        "\n",
        "$t$ = $\n",
        "\\frac {\\bar x - \\mu}{\\frac {s}{\\sqrt n}}\n",
        "$ \\\\\n",
        "donde \\\\\n",
        "$\n",
        "\\bar x $ = Media de la muestra \\\\\n",
        "$\\mu $= media de la población \\\\\n",
        "$s $ = Desviación estándar de la muestra \\\\\n",
        "$n $= Tamaño de la muestra\n",
        "\n",
        "\n",
        "\n",
        "![alt text](https://andyjconnelly.files.wordpress.com/2017/05/distributions1.png 'Ejemplo Normal vs T-Student')\n",
        "\n",
        "Entonces, si no conocemos los parámetros de nuestra población, pero sabemos que la distribución de nuestra muestra se\n",
        " asemeja a la normal (simétrica con tendencia a la media), lo más probable es que tengamos una distribución T de\n",
        " Student. En esta distribución, cuanto mayor la muestra, más similar a la normal será.\n",
        "\n",
        " La prueba T es calculada de forma semejante a la prueba z, pero está basada en esta distribución y por lo tanto\n",
        " tiene valores de referencia distintos."
      ]
    },
    {
      "cell_type": "markdown",
      "metadata": {
        "id": "NiTmnE3lg4vT"
      },
      "source": [
        "### Prueba T de 1 Muestra\n",
        "\n",
        "Supongamos que tengo una muestra y quiero comparar con un valor específico. En nuestro ejemplo, vamos a suponer que\n",
        "yo sé que la evaluación promedio de los vinos en Francia es de 88, y quiero saber si los vinos nuevos (\"Nouveau\") tiene\n",
        "una media de evaluación semejante a la población general. Voy a probar lo mismo con los vinos que están designados\n",
        "como \"Prestige\"\n",
        "\n",
        "En este caso, usamos una Prueba T de 1 sola muestra, ya que estamos comparando el valor de esta media con un valor de\n",
        " referencia (benchmark).\n",
        "\n",
        "Nuestras hipótesis:\n",
        "\n",
        "$H_0$: $\\bar{x} - \\mu = 0$ - es decir, no hay diferencia entre la media muestral y $\\mu$.\n",
        "\n",
        "$H_A$: $\\bar{x} - \\mu \\neq 0$ - prueba de dos colas\n",
        "\n",
        "$\\alpha = 0.05$\n",
        "\n",
        "Aquí veo en mi [tabla T]\n",
        "\n",
        "[tabla T]: https://www.sjsu.edu/faculty/gerstman/StatPrimer/t-table.pdf\n"
      ]
    },
    {
      "cell_type": "markdown",
      "metadata": {
        "id": "HRlzYKi0D0C9"
      },
      "source": [
        "---"
      ]
    },
    {
      "cell_type": "code",
      "metadata": {
        "id": "838auZyoLqpX"
      },
      "source": [
        "vinos[vinos.country == 'France'].head(2)"
      ],
      "execution_count": 56,
      "outputs": [
        {
          "output_type": "execute_result",
          "data": {
            "text/plain": [
              "  country                                        description  designation  \\\n",
              "7  France  This dry and restrained wine offers spice in p...          NaN   \n",
              "9  France  This has great depth of flavor with its fresh ...  Les Natures   \n",
              "\n",
              "   points  price province region_1 region_2 taster_name taster_twitter_handle  \\\n",
              "7      87   24.0   Alsace   Alsace      NaN  Roger Voss            @vossroger   \n",
              "9      87   27.0   Alsace   Alsace      NaN  Roger Voss            @vossroger   \n",
              "\n",
              "                                               title         variety  \\\n",
              "7              Trimbach 2012 Gewurztraminer (Alsace)  Gewürztraminer   \n",
              "9  Jean-Baptiste Adam 2012 Les Natures Pinot Gris...      Pinot Gris   \n",
              "\n",
              "               winery  \n",
              "7            Trimbach  \n",
              "9  Jean-Baptiste Adam  "
            ],
            "text/html": "<div>\n<style scoped>\n    .dataframe tbody tr th:only-of-type {\n        vertical-align: middle;\n    }\n\n    .dataframe tbody tr th {\n        vertical-align: top;\n    }\n\n    .dataframe thead th {\n        text-align: right;\n    }\n</style>\n<table border=\"1\" class=\"dataframe\">\n  <thead>\n    <tr style=\"text-align: right;\">\n      <th></th>\n      <th>country</th>\n      <th>description</th>\n      <th>designation</th>\n      <th>points</th>\n      <th>price</th>\n      <th>province</th>\n      <th>region_1</th>\n      <th>region_2</th>\n      <th>taster_name</th>\n      <th>taster_twitter_handle</th>\n      <th>title</th>\n      <th>variety</th>\n      <th>winery</th>\n    </tr>\n  </thead>\n  <tbody>\n    <tr>\n      <th>7</th>\n      <td>France</td>\n      <td>This dry and restrained wine offers spice in p...</td>\n      <td>NaN</td>\n      <td>87</td>\n      <td>24.0</td>\n      <td>Alsace</td>\n      <td>Alsace</td>\n      <td>NaN</td>\n      <td>Roger Voss</td>\n      <td>@vossroger</td>\n      <td>Trimbach 2012 Gewurztraminer (Alsace)</td>\n      <td>Gewürztraminer</td>\n      <td>Trimbach</td>\n    </tr>\n    <tr>\n      <th>9</th>\n      <td>France</td>\n      <td>This has great depth of flavor with its fresh ...</td>\n      <td>Les Natures</td>\n      <td>87</td>\n      <td>27.0</td>\n      <td>Alsace</td>\n      <td>Alsace</td>\n      <td>NaN</td>\n      <td>Roger Voss</td>\n      <td>@vossroger</td>\n      <td>Jean-Baptiste Adam 2012 Les Natures Pinot Gris...</td>\n      <td>Pinot Gris</td>\n      <td>Jean-Baptiste Adam</td>\n    </tr>\n  </tbody>\n</table>\n</div>"
          },
          "metadata": {},
          "execution_count": 56
        }
      ]
    },
    {
      "cell_type": "code",
      "execution_count": 59,
      "metadata": {},
      "outputs": [],
      "source": [
        "frances = vinos[vinos.country == 'France'].points\n",
        "fr_n = vinos[(vinos.country == 'France')&(vinos.designation == 'Nouveau')].points"
      ]
    },
    {
      "cell_type": "code",
      "execution_count": 74,
      "metadata": {},
      "outputs": [
        {
          "output_type": "stream",
          "name": "stderr",
          "text": [
            "C:\\Users\\lgutierrez\\AppData\\Local\\Programs\\Python\\Python39\\lib\\site-packages\\seaborn\\distributions.py:2557: FutureWarning: `distplot` is a deprecated function and will be removed in a future version. Please adapt your code to use either `displot` (a figure-level function with similar flexibility) or `histplot` (an axes-level function for histograms).\n",
            "  warnings.warn(msg, FutureWarning)\n",
            "C:\\Users\\lgutierrez\\AppData\\Local\\Programs\\Python\\Python39\\lib\\site-packages\\seaborn\\distributions.py:2557: FutureWarning: `distplot` is a deprecated function and will be removed in a future version. Please adapt your code to use either `displot` (a figure-level function with similar flexibility) or `histplot` (an axes-level function for histograms).\n",
            "  warnings.warn(msg, FutureWarning)\n"
          ]
        },
        {
          "output_type": "display_data",
          "data": {
            "text/plain": "<Figure size 432x288 with 1 Axes>",
            "image/svg+xml": "<?xml version=\"1.0\" encoding=\"utf-8\" standalone=\"no\"?>\r\n<!DOCTYPE svg PUBLIC \"-//W3C//DTD SVG 1.1//EN\"\r\n  \"http://www.w3.org/Graphics/SVG/1.1/DTD/svg11.dtd\">\r\n<!-- Created with matplotlib (https://matplotlib.org/) -->\r\n<svg height=\"262.19625pt\" version=\"1.1\" viewBox=\"0 0 385.78125 262.19625\" width=\"385.78125pt\" xmlns=\"http://www.w3.org/2000/svg\" xmlns:xlink=\"http://www.w3.org/1999/xlink\">\r\n <metadata>\r\n  <rdf:RDF xmlns:cc=\"http://creativecommons.org/ns#\" xmlns:dc=\"http://purl.org/dc/elements/1.1/\" xmlns:rdf=\"http://www.w3.org/1999/02/22-rdf-syntax-ns#\">\r\n   <cc:Work>\r\n    <dc:type rdf:resource=\"http://purl.org/dc/dcmitype/StillImage\"/>\r\n    <dc:date>2021-06-26T14:37:46.073387</dc:date>\r\n    <dc:format>image/svg+xml</dc:format>\r\n    <dc:creator>\r\n     <cc:Agent>\r\n      <dc:title>Matplotlib v3.3.4, https://matplotlib.org/</dc:title>\r\n     </cc:Agent>\r\n    </dc:creator>\r\n   </cc:Work>\r\n  </rdf:RDF>\r\n </metadata>\r\n <defs>\r\n  <style type=\"text/css\">*{stroke-linecap:butt;stroke-linejoin:round;}</style>\r\n </defs>\r\n <g id=\"figure_1\">\r\n  <g id=\"patch_1\">\r\n   <path d=\"M 0 262.19625 \r\nL 385.78125 262.19625 \r\nL 385.78125 0 \r\nL 0 0 \r\nz\r\n\" style=\"fill:none;\"/>\r\n  </g>\r\n  <g id=\"axes_1\">\r\n   <g id=\"patch_2\">\r\n    <path d=\"M 43.78125 224.64 \r\nL 378.58125 224.64 \r\nL 378.58125 7.2 \r\nL 43.78125 7.2 \r\nz\r\n\" style=\"fill:#ffffff;\"/>\r\n   </g>\r\n   <g id=\"patch_3\">\r\n    <path clip-path=\"url(#pbe7755bc11)\" d=\"M 75.731634 224.64 \r\nL 81.149618 224.64 \r\nL 81.149618 224.020688 \r\nL 75.731634 224.020688 \r\nz\r\n\" style=\"fill:#0000ff;opacity:0.4;\"/>\r\n   </g>\r\n   <g id=\"patch_4\">\r\n    <path clip-path=\"url(#pbe7755bc11)\" d=\"M 81.149618 224.64 \r\nL 86.567603 224.64 \r\nL 86.567603 224.64 \r\nL 81.149618 224.64 \r\nz\r\n\" style=\"fill:#0000ff;opacity:0.4;\"/>\r\n   </g>\r\n   <g id=\"patch_5\">\r\n    <path clip-path=\"url(#pbe7755bc11)\" d=\"M 86.567603 224.64 \r\nL 91.985588 224.64 \r\nL 91.985588 223.153652 \r\nL 86.567603 223.153652 \r\nz\r\n\" style=\"fill:#0000ff;opacity:0.4;\"/>\r\n   </g>\r\n   <g id=\"patch_6\">\r\n    <path clip-path=\"url(#pbe7755bc11)\" d=\"M 91.985588 224.64 \r\nL 97.403572 224.64 \r\nL 97.403572 224.64 \r\nL 91.985588 224.64 \r\nz\r\n\" style=\"fill:#0000ff;opacity:0.4;\"/>\r\n   </g>\r\n   <g id=\"patch_7\">\r\n    <path clip-path=\"url(#pbe7755bc11)\" d=\"M 97.403572 224.64 \r\nL 102.821557 224.64 \r\nL 102.821557 224.64 \r\nL 97.403572 224.64 \r\nz\r\n\" style=\"fill:#0000ff;opacity:0.4;\"/>\r\n   </g>\r\n   <g id=\"patch_8\">\r\n    <path clip-path=\"url(#pbe7755bc11)\" d=\"M 102.821557 224.64 \r\nL 108.239542 224.64 \r\nL 108.239542 220.222245 \r\nL 102.821557 220.222245 \r\nz\r\n\" style=\"fill:#0000ff;opacity:0.4;\"/>\r\n   </g>\r\n   <g id=\"patch_9\">\r\n    <path clip-path=\"url(#pbe7755bc11)\" d=\"M 108.239542 224.64 \r\nL 113.657526 224.64 \r\nL 113.657526 224.64 \r\nL 108.239542 224.64 \r\nz\r\n\" style=\"fill:#0000ff;opacity:0.4;\"/>\r\n   </g>\r\n   <g id=\"patch_10\">\r\n    <path clip-path=\"url(#pbe7755bc11)\" d=\"M 113.657526 224.64 \r\nL 119.075511 224.64 \r\nL 119.075511 212.212483 \r\nL 113.657526 212.212483 \r\nz\r\n\" style=\"fill:#0000ff;opacity:0.4;\"/>\r\n   </g>\r\n   <g id=\"patch_11\">\r\n    <path clip-path=\"url(#pbe7755bc11)\" d=\"M 119.075511 224.64 \r\nL 124.493496 224.64 \r\nL 124.493496 224.64 \r\nL 119.075511 224.64 \r\nz\r\n\" style=\"fill:#0000ff;opacity:0.4;\"/>\r\n   </g>\r\n   <g id=\"patch_12\">\r\n    <path clip-path=\"url(#pbe7755bc11)\" d=\"M 124.493496 224.64 \r\nL 129.91148 224.64 \r\nL 129.91148 224.64 \r\nL 124.493496 224.64 \r\nz\r\n\" style=\"fill:#0000ff;opacity:0.4;\"/>\r\n   </g>\r\n   <g id=\"patch_13\">\r\n    <path clip-path=\"url(#pbe7755bc11)\" d=\"M 129.91148 224.64 \r\nL 135.329465 224.64 \r\nL 135.329465 179.719273 \r\nL 129.91148 179.719273 \r\nz\r\n\" style=\"fill:#0000ff;opacity:0.4;\"/>\r\n   </g>\r\n   <g id=\"patch_14\">\r\n    <path clip-path=\"url(#pbe7755bc11)\" d=\"M 135.329465 224.64 \r\nL 140.74745 224.64 \r\nL 140.74745 224.64 \r\nL 135.329465 224.64 \r\nz\r\n\" style=\"fill:#0000ff;opacity:0.4;\"/>\r\n   </g>\r\n   <g id=\"patch_15\">\r\n    <path clip-path=\"url(#pbe7755bc11)\" d=\"M 140.74745 224.64 \r\nL 146.165434 224.64 \r\nL 146.165434 154.079776 \r\nL 140.74745 154.079776 \r\nz\r\n\" style=\"fill:#0000ff;opacity:0.4;\"/>\r\n   </g>\r\n   <g id=\"patch_16\">\r\n    <path clip-path=\"url(#pbe7755bc11)\" d=\"M 146.165434 224.64 \r\nL 151.583419 224.64 \r\nL 151.583419 224.64 \r\nL 146.165434 224.64 \r\nz\r\n\" style=\"fill:#0000ff;opacity:0.4;\"/>\r\n   </g>\r\n   <g id=\"patch_17\">\r\n    <path clip-path=\"url(#pbe7755bc11)\" d=\"M 151.583419 224.64 \r\nL 157.001404 224.64 \r\nL 157.001404 224.64 \r\nL 151.583419 224.64 \r\nz\r\n\" style=\"fill:#0000ff;opacity:0.4;\"/>\r\n   </g>\r\n   <g id=\"patch_18\">\r\n    <path clip-path=\"url(#pbe7755bc11)\" d=\"M 157.001404 224.64 \r\nL 162.419388 224.64 \r\nL 162.419388 141.074235 \r\nL 157.001404 141.074235 \r\nz\r\n\" style=\"fill:#0000ff;opacity:0.4;\"/>\r\n   </g>\r\n   <g id=\"patch_19\">\r\n    <path clip-path=\"url(#pbe7755bc11)\" d=\"M 162.419388 224.64 \r\nL 167.837373 224.64 \r\nL 167.837373 224.64 \r\nL 162.419388 224.64 \r\nz\r\n\" style=\"fill:#0000ff;opacity:0.4;\"/>\r\n   </g>\r\n   <g id=\"patch_20\">\r\n    <path clip-path=\"url(#pbe7755bc11)\" d=\"M 167.837373 224.64 \r\nL 173.255357 224.64 \r\nL 173.255357 117.540398 \r\nL 167.837373 117.540398 \r\nz\r\n\" style=\"fill:#0000ff;opacity:0.4;\"/>\r\n   </g>\r\n   <g id=\"patch_21\">\r\n    <path clip-path=\"url(#pbe7755bc11)\" d=\"M 173.255357 224.64 \r\nL 178.673342 224.64 \r\nL 178.673342 224.64 \r\nL 173.255357 224.64 \r\nz\r\n\" style=\"fill:#0000ff;opacity:0.4;\"/>\r\n   </g>\r\n   <g id=\"patch_22\">\r\n    <path clip-path=\"url(#pbe7755bc11)\" d=\"M 178.673342 224.64 \r\nL 184.091327 224.64 \r\nL 184.091327 224.64 \r\nL 178.673342 224.64 \r\nz\r\n\" style=\"fill:#0000ff;opacity:0.4;\"/>\r\n   </g>\r\n   <g id=\"patch_23\">\r\n    <path clip-path=\"url(#pbe7755bc11)\" d=\"M 184.091327 224.64 \r\nL 189.509311 224.64 \r\nL 189.509311 104.989018 \r\nL 184.091327 104.989018 \r\nz\r\n\" style=\"fill:#0000ff;opacity:0.4;\"/>\r\n   </g>\r\n   <g id=\"patch_24\">\r\n    <path clip-path=\"url(#pbe7755bc11)\" d=\"M 189.509311 224.64 \r\nL 194.927296 224.64 \r\nL 194.927296 224.64 \r\nL 189.509311 224.64 \r\nz\r\n\" style=\"fill:#0000ff;opacity:0.4;\"/>\r\n   </g>\r\n   <g id=\"patch_25\">\r\n    <path clip-path=\"url(#pbe7755bc11)\" d=\"M 194.927296 224.64 \r\nL 200.345281 224.64 \r\nL 200.345281 136.739054 \r\nL 194.927296 136.739054 \r\nz\r\n\" style=\"fill:#0000ff;opacity:0.4;\"/>\r\n   </g>\r\n   <g id=\"patch_26\">\r\n    <path clip-path=\"url(#pbe7755bc11)\" d=\"M 200.345281 224.64 \r\nL 205.763265 224.64 \r\nL 205.763265 224.64 \r\nL 200.345281 224.64 \r\nz\r\n\" style=\"fill:#0000ff;opacity:0.4;\"/>\r\n   </g>\r\n   <g id=\"patch_27\">\r\n    <path clip-path=\"url(#pbe7755bc11)\" d=\"M 205.763265 224.64 \r\nL 211.18125 224.64 \r\nL 211.18125 224.64 \r\nL 205.763265 224.64 \r\nz\r\n\" style=\"fill:#0000ff;opacity:0.4;\"/>\r\n   </g>\r\n   <g id=\"patch_28\">\r\n    <path clip-path=\"url(#pbe7755bc11)\" d=\"M 211.18125 224.64 \r\nL 216.599235 224.64 \r\nL 216.599235 119.852494 \r\nL 211.18125 119.852494 \r\nz\r\n\" style=\"fill:#0000ff;opacity:0.4;\"/>\r\n   </g>\r\n   <g id=\"patch_29\">\r\n    <path clip-path=\"url(#pbe7755bc11)\" d=\"M 216.599235 224.64 \r\nL 222.017219 224.64 \r\nL 222.017219 224.64 \r\nL 216.599235 224.64 \r\nz\r\n\" style=\"fill:#0000ff;opacity:0.4;\"/>\r\n   </g>\r\n   <g id=\"patch_30\">\r\n    <path clip-path=\"url(#pbe7755bc11)\" d=\"M 222.017219 224.64 \r\nL 227.435204 224.64 \r\nL 227.435204 140.82651 \r\nL 222.017219 140.82651 \r\nz\r\n\" style=\"fill:#0000ff;opacity:0.4;\"/>\r\n   </g>\r\n   <g id=\"patch_31\">\r\n    <path clip-path=\"url(#pbe7755bc11)\" d=\"M 227.435204 224.64 \r\nL 232.853189 224.64 \r\nL 232.853189 224.64 \r\nL 227.435204 224.64 \r\nz\r\n\" style=\"fill:#0000ff;opacity:0.4;\"/>\r\n   </g>\r\n   <g id=\"patch_32\">\r\n    <path clip-path=\"url(#pbe7755bc11)\" d=\"M 232.853189 224.64 \r\nL 238.271173 224.64 \r\nL 238.271173 224.64 \r\nL 232.853189 224.64 \r\nz\r\n\" style=\"fill:#0000ff;opacity:0.4;\"/>\r\n   </g>\r\n   <g id=\"patch_33\">\r\n    <path clip-path=\"url(#pbe7755bc11)\" d=\"M 238.271173 224.64 \r\nL 243.689158 224.64 \r\nL 243.689158 154.038489 \r\nL 238.271173 154.038489 \r\nz\r\n\" style=\"fill:#0000ff;opacity:0.4;\"/>\r\n   </g>\r\n   <g id=\"patch_34\">\r\n    <path clip-path=\"url(#pbe7755bc11)\" d=\"M 243.689158 224.64 \r\nL 249.107143 224.64 \r\nL 249.107143 224.64 \r\nL 243.689158 224.64 \r\nz\r\n\" style=\"fill:#0000ff;opacity:0.4;\"/>\r\n   </g>\r\n   <g id=\"patch_35\">\r\n    <path clip-path=\"url(#pbe7755bc11)\" d=\"M 249.107143 224.64 \r\nL 254.525127 224.64 \r\nL 254.525127 167.126605 \r\nL 249.107143 167.126605 \r\nz\r\n\" style=\"fill:#0000ff;opacity:0.4;\"/>\r\n   </g>\r\n   <g id=\"patch_36\">\r\n    <path clip-path=\"url(#pbe7755bc11)\" d=\"M 254.525127 224.64 \r\nL 259.943112 224.64 \r\nL 259.943112 224.64 \r\nL 254.525127 224.64 \r\nz\r\n\" style=\"fill:#0000ff;opacity:0.4;\"/>\r\n   </g>\r\n   <g id=\"patch_37\">\r\n    <path clip-path=\"url(#pbe7755bc11)\" d=\"M 259.943112 224.64 \r\nL 265.361096 224.64 \r\nL 265.361096 224.64 \r\nL 259.943112 224.64 \r\nz\r\n\" style=\"fill:#0000ff;opacity:0.4;\"/>\r\n   </g>\r\n   <g id=\"patch_38\">\r\n    <path clip-path=\"url(#pbe7755bc11)\" d=\"M 265.361096 224.64 \r\nL 270.779081 224.64 \r\nL 270.779081 189.297957 \r\nL 265.361096 189.297957 \r\nz\r\n\" style=\"fill:#0000ff;opacity:0.4;\"/>\r\n   </g>\r\n   <g id=\"patch_39\">\r\n    <path clip-path=\"url(#pbe7755bc11)\" d=\"M 270.779081 224.64 \r\nL 276.197066 224.64 \r\nL 276.197066 224.64 \r\nL 270.779081 224.64 \r\nz\r\n\" style=\"fill:#0000ff;opacity:0.4;\"/>\r\n   </g>\r\n   <g id=\"patch_40\">\r\n    <path clip-path=\"url(#pbe7755bc11)\" d=\"M 276.197066 224.64 \r\nL 281.61505 224.64 \r\nL 281.61505 207.58829 \r\nL 276.197066 207.58829 \r\nz\r\n\" style=\"fill:#0000ff;opacity:0.4;\"/>\r\n   </g>\r\n   <g id=\"patch_41\">\r\n    <path clip-path=\"url(#pbe7755bc11)\" d=\"M 281.61505 224.64 \r\nL 287.033035 224.64 \r\nL 287.033035 224.64 \r\nL 281.61505 224.64 \r\nz\r\n\" style=\"fill:#0000ff;opacity:0.4;\"/>\r\n   </g>\r\n   <g id=\"patch_42\">\r\n    <path clip-path=\"url(#pbe7755bc11)\" d=\"M 287.033035 224.64 \r\nL 292.45102 224.64 \r\nL 292.45102 224.64 \r\nL 287.033035 224.64 \r\nz\r\n\" style=\"fill:#0000ff;opacity:0.4;\"/>\r\n   </g>\r\n   <g id=\"patch_43\">\r\n    <path clip-path=\"url(#pbe7755bc11)\" d=\"M 292.45102 224.64 \r\nL 297.869004 224.64 \r\nL 297.869004 218.653322 \r\nL 292.45102 218.653322 \r\nz\r\n\" style=\"fill:#0000ff;opacity:0.4;\"/>\r\n   </g>\r\n   <g id=\"patch_44\">\r\n    <path clip-path=\"url(#pbe7755bc11)\" d=\"M 297.869004 224.64 \r\nL 303.286989 224.64 \r\nL 303.286989 224.64 \r\nL 297.869004 224.64 \r\nz\r\n\" style=\"fill:#0000ff;opacity:0.4;\"/>\r\n   </g>\r\n   <g id=\"patch_45\">\r\n    <path clip-path=\"url(#pbe7755bc11)\" d=\"M 303.286989 224.64 \r\nL 308.704974 224.64 \r\nL 308.704974 221.74988 \r\nL 303.286989 221.74988 \r\nz\r\n\" style=\"fill:#0000ff;opacity:0.4;\"/>\r\n   </g>\r\n   <g id=\"patch_46\">\r\n    <path clip-path=\"url(#pbe7755bc11)\" d=\"M 308.704974 224.64 \r\nL 314.122958 224.64 \r\nL 314.122958 224.64 \r\nL 308.704974 224.64 \r\nz\r\n\" style=\"fill:#0000ff;opacity:0.4;\"/>\r\n   </g>\r\n   <g id=\"patch_47\">\r\n    <path clip-path=\"url(#pbe7755bc11)\" d=\"M 314.122958 224.64 \r\nL 319.540943 224.64 \r\nL 319.540943 224.64 \r\nL 314.122958 224.64 \r\nz\r\n\" style=\"fill:#0000ff;opacity:0.4;\"/>\r\n   </g>\r\n   <g id=\"patch_48\">\r\n    <path clip-path=\"url(#pbe7755bc11)\" d=\"M 319.540943 224.64 \r\nL 324.958928 224.64 \r\nL 324.958928 223.772964 \r\nL 319.540943 223.772964 \r\nz\r\n\" style=\"fill:#0000ff;opacity:0.4;\"/>\r\n   </g>\r\n   <g id=\"patch_49\">\r\n    <path clip-path=\"url(#pbe7755bc11)\" d=\"M 324.958928 224.64 \r\nL 330.376912 224.64 \r\nL 330.376912 224.64 \r\nL 324.958928 224.64 \r\nz\r\n\" style=\"fill:#0000ff;opacity:0.4;\"/>\r\n   </g>\r\n   <g id=\"patch_50\">\r\n    <path clip-path=\"url(#pbe7755bc11)\" d=\"M 330.376912 224.64 \r\nL 335.794897 224.64 \r\nL 335.794897 224.309701 \r\nL 330.376912 224.309701 \r\nz\r\n\" style=\"fill:#0000ff;opacity:0.4;\"/>\r\n   </g>\r\n   <g id=\"patch_51\">\r\n    <path clip-path=\"url(#pbe7755bc11)\" d=\"M 335.794897 224.64 \r\nL 341.212882 224.64 \r\nL 341.212882 224.64 \r\nL 335.794897 224.64 \r\nz\r\n\" style=\"fill:#0000ff;opacity:0.4;\"/>\r\n   </g>\r\n   <g id=\"patch_52\">\r\n    <path clip-path=\"url(#pbe7755bc11)\" d=\"M 341.212882 224.64 \r\nL 346.630866 224.64 \r\nL 346.630866 224.309701 \r\nL 341.212882 224.309701 \r\nz\r\n\" style=\"fill:#0000ff;opacity:0.4;\"/>\r\n   </g>\r\n   <g id=\"patch_53\">\r\n    <path clip-path=\"url(#pbe7755bc11)\" d=\"M 116.366519 224.64 \r\nL 124.106497 224.64 \r\nL 124.106497 190.125714 \r\nL 116.366519 190.125714 \r\nz\r\n\" style=\"fill:#ff0000;opacity:0.4;\"/>\r\n   </g>\r\n   <g id=\"patch_54\">\r\n    <path clip-path=\"url(#pbe7755bc11)\" d=\"M 124.106497 224.64 \r\nL 131.846475 224.64 \r\nL 131.846475 121.097143 \r\nL 124.106497 121.097143 \r\nz\r\n\" style=\"fill:#ff0000;opacity:0.4;\"/>\r\n   </g>\r\n   <g id=\"patch_55\">\r\n    <path clip-path=\"url(#pbe7755bc11)\" d=\"M 131.846475 224.64 \r\nL 139.586453 224.64 \r\nL 139.586453 224.64 \r\nL 131.846475 224.64 \r\nz\r\n\" style=\"fill:#ff0000;opacity:0.4;\"/>\r\n   </g>\r\n   <g id=\"patch_56\">\r\n    <path clip-path=\"url(#pbe7755bc11)\" d=\"M 139.586453 224.64 \r\nL 147.326431 224.64 \r\nL 147.326431 17.554286 \r\nL 139.586453 17.554286 \r\nz\r\n\" style=\"fill:#ff0000;opacity:0.4;\"/>\r\n   </g>\r\n   <g id=\"patch_57\">\r\n    <path clip-path=\"url(#pbe7755bc11)\" d=\"M 147.326431 224.64 \r\nL 155.066409 224.64 \r\nL 155.066409 224.64 \r\nL 147.326431 224.64 \r\nz\r\n\" style=\"fill:#ff0000;opacity:0.4;\"/>\r\n   </g>\r\n   <g id=\"patch_58\">\r\n    <path clip-path=\"url(#pbe7755bc11)\" d=\"M 155.066409 224.64 \r\nL 162.806387 224.64 \r\nL 162.806387 17.554286 \r\nL 155.066409 17.554286 \r\nz\r\n\" style=\"fill:#ff0000;opacity:0.4;\"/>\r\n   </g>\r\n   <g id=\"patch_59\">\r\n    <path clip-path=\"url(#pbe7755bc11)\" d=\"M 162.806387 224.64 \r\nL 170.546365 224.64 \r\nL 170.546365 138.354286 \r\nL 162.806387 138.354286 \r\nz\r\n\" style=\"fill:#ff0000;opacity:0.4;\"/>\r\n   </g>\r\n   <g id=\"matplotlib.axis_1\">\r\n    <g id=\"xtick_1\">\r\n     <g id=\"line2d_1\">\r\n      <defs>\r\n       <path d=\"M 0 0 \r\nL 0 3.5 \r\n\" id=\"m01470fe80d\" style=\"stroke:#000000;stroke-width:0.8;\"/>\r\n      </defs>\r\n      <g>\r\n       <use style=\"stroke:#000000;stroke-width:0.8;\" x=\"75.731634\" xlink:href=\"#m01470fe80d\" y=\"224.64\"/>\r\n      </g>\r\n     </g>\r\n     <g id=\"text_1\">\r\n      <!-- 80 -->\r\n      <g transform=\"translate(69.369134 239.238437)scale(0.1 -0.1)\">\r\n       <defs>\r\n        <path d=\"M 31.78125 34.625 \r\nQ 24.75 34.625 20.71875 30.859375 \r\nQ 16.703125 27.09375 16.703125 20.515625 \r\nQ 16.703125 13.921875 20.71875 10.15625 \r\nQ 24.75 6.390625 31.78125 6.390625 \r\nQ 38.8125 6.390625 42.859375 10.171875 \r\nQ 46.921875 13.96875 46.921875 20.515625 \r\nQ 46.921875 27.09375 42.890625 30.859375 \r\nQ 38.875 34.625 31.78125 34.625 \r\nz\r\nM 21.921875 38.8125 \r\nQ 15.578125 40.375 12.03125 44.71875 \r\nQ 8.5 49.078125 8.5 55.328125 \r\nQ 8.5 64.0625 14.71875 69.140625 \r\nQ 20.953125 74.21875 31.78125 74.21875 \r\nQ 42.671875 74.21875 48.875 69.140625 \r\nQ 55.078125 64.0625 55.078125 55.328125 \r\nQ 55.078125 49.078125 51.53125 44.71875 \r\nQ 48 40.375 41.703125 38.8125 \r\nQ 48.828125 37.15625 52.796875 32.3125 \r\nQ 56.78125 27.484375 56.78125 20.515625 \r\nQ 56.78125 9.90625 50.3125 4.234375 \r\nQ 43.84375 -1.421875 31.78125 -1.421875 \r\nQ 19.734375 -1.421875 13.25 4.234375 \r\nQ 6.78125 9.90625 6.78125 20.515625 \r\nQ 6.78125 27.484375 10.78125 32.3125 \r\nQ 14.796875 37.15625 21.921875 38.8125 \r\nz\r\nM 18.3125 54.390625 \r\nQ 18.3125 48.734375 21.84375 45.5625 \r\nQ 25.390625 42.390625 31.78125 42.390625 \r\nQ 38.140625 42.390625 41.71875 45.5625 \r\nQ 45.3125 48.734375 45.3125 54.390625 \r\nQ 45.3125 60.0625 41.71875 63.234375 \r\nQ 38.140625 66.40625 31.78125 66.40625 \r\nQ 25.390625 66.40625 21.84375 63.234375 \r\nQ 18.3125 60.0625 18.3125 54.390625 \r\nz\r\n\" id=\"DejaVuSans-56\"/>\r\n        <path d=\"M 31.78125 66.40625 \r\nQ 24.171875 66.40625 20.328125 58.90625 \r\nQ 16.5 51.421875 16.5 36.375 \r\nQ 16.5 21.390625 20.328125 13.890625 \r\nQ 24.171875 6.390625 31.78125 6.390625 \r\nQ 39.453125 6.390625 43.28125 13.890625 \r\nQ 47.125 21.390625 47.125 36.375 \r\nQ 47.125 51.421875 43.28125 58.90625 \r\nQ 39.453125 66.40625 31.78125 66.40625 \r\nz\r\nM 31.78125 74.21875 \r\nQ 44.046875 74.21875 50.515625 64.515625 \r\nQ 56.984375 54.828125 56.984375 36.375 \r\nQ 56.984375 17.96875 50.515625 8.265625 \r\nQ 44.046875 -1.421875 31.78125 -1.421875 \r\nQ 19.53125 -1.421875 13.0625 8.265625 \r\nQ 6.59375 17.96875 6.59375 36.375 \r\nQ 6.59375 54.828125 13.0625 64.515625 \r\nQ 19.53125 74.21875 31.78125 74.21875 \r\nz\r\n\" id=\"DejaVuSans-48\"/>\r\n       </defs>\r\n       <use xlink:href=\"#DejaVuSans-56\"/>\r\n       <use x=\"63.623047\" xlink:href=\"#DejaVuSans-48\"/>\r\n      </g>\r\n     </g>\r\n    </g>\r\n    <g id=\"xtick_2\">\r\n     <g id=\"line2d_2\">\r\n      <g>\r\n       <use style=\"stroke:#000000;stroke-width:0.8;\" x=\"143.456442\" xlink:href=\"#m01470fe80d\" y=\"224.64\"/>\r\n      </g>\r\n     </g>\r\n     <g id=\"text_2\">\r\n      <!-- 85 -->\r\n      <g transform=\"translate(137.093942 239.238437)scale(0.1 -0.1)\">\r\n       <defs>\r\n        <path d=\"M 10.796875 72.90625 \r\nL 49.515625 72.90625 \r\nL 49.515625 64.59375 \r\nL 19.828125 64.59375 \r\nL 19.828125 46.734375 \r\nQ 21.96875 47.46875 24.109375 47.828125 \r\nQ 26.265625 48.1875 28.421875 48.1875 \r\nQ 40.625 48.1875 47.75 41.5 \r\nQ 54.890625 34.8125 54.890625 23.390625 \r\nQ 54.890625 11.625 47.5625 5.09375 \r\nQ 40.234375 -1.421875 26.90625 -1.421875 \r\nQ 22.3125 -1.421875 17.546875 -0.640625 \r\nQ 12.796875 0.140625 7.71875 1.703125 \r\nL 7.71875 11.625 \r\nQ 12.109375 9.234375 16.796875 8.0625 \r\nQ 21.484375 6.890625 26.703125 6.890625 \r\nQ 35.15625 6.890625 40.078125 11.328125 \r\nQ 45.015625 15.765625 45.015625 23.390625 \r\nQ 45.015625 31 40.078125 35.4375 \r\nQ 35.15625 39.890625 26.703125 39.890625 \r\nQ 22.75 39.890625 18.8125 39.015625 \r\nQ 14.890625 38.140625 10.796875 36.28125 \r\nz\r\n\" id=\"DejaVuSans-53\"/>\r\n       </defs>\r\n       <use xlink:href=\"#DejaVuSans-56\"/>\r\n       <use x=\"63.623047\" xlink:href=\"#DejaVuSans-53\"/>\r\n      </g>\r\n     </g>\r\n    </g>\r\n    <g id=\"xtick_3\">\r\n     <g id=\"line2d_3\">\r\n      <g>\r\n       <use style=\"stroke:#000000;stroke-width:0.8;\" x=\"211.18125\" xlink:href=\"#m01470fe80d\" y=\"224.64\"/>\r\n      </g>\r\n     </g>\r\n     <g id=\"text_3\">\r\n      <!-- 90 -->\r\n      <g transform=\"translate(204.81875 239.238437)scale(0.1 -0.1)\">\r\n       <defs>\r\n        <path d=\"M 10.984375 1.515625 \r\nL 10.984375 10.5 \r\nQ 14.703125 8.734375 18.5 7.8125 \r\nQ 22.3125 6.890625 25.984375 6.890625 \r\nQ 35.75 6.890625 40.890625 13.453125 \r\nQ 46.046875 20.015625 46.78125 33.40625 \r\nQ 43.953125 29.203125 39.59375 26.953125 \r\nQ 35.25 24.703125 29.984375 24.703125 \r\nQ 19.046875 24.703125 12.671875 31.3125 \r\nQ 6.296875 37.9375 6.296875 49.421875 \r\nQ 6.296875 60.640625 12.9375 67.421875 \r\nQ 19.578125 74.21875 30.609375 74.21875 \r\nQ 43.265625 74.21875 49.921875 64.515625 \r\nQ 56.59375 54.828125 56.59375 36.375 \r\nQ 56.59375 19.140625 48.40625 8.859375 \r\nQ 40.234375 -1.421875 26.421875 -1.421875 \r\nQ 22.703125 -1.421875 18.890625 -0.6875 \r\nQ 15.09375 0.046875 10.984375 1.515625 \r\nz\r\nM 30.609375 32.421875 \r\nQ 37.25 32.421875 41.125 36.953125 \r\nQ 45.015625 41.5 45.015625 49.421875 \r\nQ 45.015625 57.28125 41.125 61.84375 \r\nQ 37.25 66.40625 30.609375 66.40625 \r\nQ 23.96875 66.40625 20.09375 61.84375 \r\nQ 16.21875 57.28125 16.21875 49.421875 \r\nQ 16.21875 41.5 20.09375 36.953125 \r\nQ 23.96875 32.421875 30.609375 32.421875 \r\nz\r\n\" id=\"DejaVuSans-57\"/>\r\n       </defs>\r\n       <use xlink:href=\"#DejaVuSans-57\"/>\r\n       <use x=\"63.623047\" xlink:href=\"#DejaVuSans-48\"/>\r\n      </g>\r\n     </g>\r\n    </g>\r\n    <g id=\"xtick_4\">\r\n     <g id=\"line2d_4\">\r\n      <g>\r\n       <use style=\"stroke:#000000;stroke-width:0.8;\" x=\"278.906058\" xlink:href=\"#m01470fe80d\" y=\"224.64\"/>\r\n      </g>\r\n     </g>\r\n     <g id=\"text_4\">\r\n      <!-- 95 -->\r\n      <g transform=\"translate(272.543558 239.238437)scale(0.1 -0.1)\">\r\n       <use xlink:href=\"#DejaVuSans-57\"/>\r\n       <use x=\"63.623047\" xlink:href=\"#DejaVuSans-53\"/>\r\n      </g>\r\n     </g>\r\n    </g>\r\n    <g id=\"xtick_5\">\r\n     <g id=\"line2d_5\">\r\n      <g>\r\n       <use style=\"stroke:#000000;stroke-width:0.8;\" x=\"346.630866\" xlink:href=\"#m01470fe80d\" y=\"224.64\"/>\r\n      </g>\r\n     </g>\r\n     <g id=\"text_5\">\r\n      <!-- 100 -->\r\n      <g transform=\"translate(337.087116 239.238437)scale(0.1 -0.1)\">\r\n       <defs>\r\n        <path d=\"M 12.40625 8.296875 \r\nL 28.515625 8.296875 \r\nL 28.515625 63.921875 \r\nL 10.984375 60.40625 \r\nL 10.984375 69.390625 \r\nL 28.421875 72.90625 \r\nL 38.28125 72.90625 \r\nL 38.28125 8.296875 \r\nL 54.390625 8.296875 \r\nL 54.390625 0 \r\nL 12.40625 0 \r\nz\r\n\" id=\"DejaVuSans-49\"/>\r\n       </defs>\r\n       <use xlink:href=\"#DejaVuSans-49\"/>\r\n       <use x=\"63.623047\" xlink:href=\"#DejaVuSans-48\"/>\r\n       <use x=\"127.246094\" xlink:href=\"#DejaVuSans-48\"/>\r\n      </g>\r\n     </g>\r\n    </g>\r\n    <g id=\"text_6\">\r\n     <!-- points -->\r\n     <g transform=\"translate(195.825 252.916562)scale(0.1 -0.1)\">\r\n      <defs>\r\n       <path d=\"M 18.109375 8.203125 \r\nL 18.109375 -20.796875 \r\nL 9.078125 -20.796875 \r\nL 9.078125 54.6875 \r\nL 18.109375 54.6875 \r\nL 18.109375 46.390625 \r\nQ 20.953125 51.265625 25.265625 53.625 \r\nQ 29.59375 56 35.59375 56 \r\nQ 45.5625 56 51.78125 48.09375 \r\nQ 58.015625 40.1875 58.015625 27.296875 \r\nQ 58.015625 14.40625 51.78125 6.484375 \r\nQ 45.5625 -1.421875 35.59375 -1.421875 \r\nQ 29.59375 -1.421875 25.265625 0.953125 \r\nQ 20.953125 3.328125 18.109375 8.203125 \r\nz\r\nM 48.6875 27.296875 \r\nQ 48.6875 37.203125 44.609375 42.84375 \r\nQ 40.53125 48.484375 33.40625 48.484375 \r\nQ 26.265625 48.484375 22.1875 42.84375 \r\nQ 18.109375 37.203125 18.109375 27.296875 \r\nQ 18.109375 17.390625 22.1875 11.75 \r\nQ 26.265625 6.109375 33.40625 6.109375 \r\nQ 40.53125 6.109375 44.609375 11.75 \r\nQ 48.6875 17.390625 48.6875 27.296875 \r\nz\r\n\" id=\"DejaVuSans-112\"/>\r\n       <path d=\"M 30.609375 48.390625 \r\nQ 23.390625 48.390625 19.1875 42.75 \r\nQ 14.984375 37.109375 14.984375 27.296875 \r\nQ 14.984375 17.484375 19.15625 11.84375 \r\nQ 23.34375 6.203125 30.609375 6.203125 \r\nQ 37.796875 6.203125 41.984375 11.859375 \r\nQ 46.1875 17.53125 46.1875 27.296875 \r\nQ 46.1875 37.015625 41.984375 42.703125 \r\nQ 37.796875 48.390625 30.609375 48.390625 \r\nz\r\nM 30.609375 56 \r\nQ 42.328125 56 49.015625 48.375 \r\nQ 55.71875 40.765625 55.71875 27.296875 \r\nQ 55.71875 13.875 49.015625 6.21875 \r\nQ 42.328125 -1.421875 30.609375 -1.421875 \r\nQ 18.84375 -1.421875 12.171875 6.21875 \r\nQ 5.515625 13.875 5.515625 27.296875 \r\nQ 5.515625 40.765625 12.171875 48.375 \r\nQ 18.84375 56 30.609375 56 \r\nz\r\n\" id=\"DejaVuSans-111\"/>\r\n       <path d=\"M 9.421875 54.6875 \r\nL 18.40625 54.6875 \r\nL 18.40625 0 \r\nL 9.421875 0 \r\nz\r\nM 9.421875 75.984375 \r\nL 18.40625 75.984375 \r\nL 18.40625 64.59375 \r\nL 9.421875 64.59375 \r\nz\r\n\" id=\"DejaVuSans-105\"/>\r\n       <path d=\"M 54.890625 33.015625 \r\nL 54.890625 0 \r\nL 45.90625 0 \r\nL 45.90625 32.71875 \r\nQ 45.90625 40.484375 42.875 44.328125 \r\nQ 39.84375 48.1875 33.796875 48.1875 \r\nQ 26.515625 48.1875 22.3125 43.546875 \r\nQ 18.109375 38.921875 18.109375 30.90625 \r\nL 18.109375 0 \r\nL 9.078125 0 \r\nL 9.078125 54.6875 \r\nL 18.109375 54.6875 \r\nL 18.109375 46.1875 \r\nQ 21.34375 51.125 25.703125 53.5625 \r\nQ 30.078125 56 35.796875 56 \r\nQ 45.21875 56 50.046875 50.171875 \r\nQ 54.890625 44.34375 54.890625 33.015625 \r\nz\r\n\" id=\"DejaVuSans-110\"/>\r\n       <path d=\"M 18.3125 70.21875 \r\nL 18.3125 54.6875 \r\nL 36.8125 54.6875 \r\nL 36.8125 47.703125 \r\nL 18.3125 47.703125 \r\nL 18.3125 18.015625 \r\nQ 18.3125 11.328125 20.140625 9.421875 \r\nQ 21.96875 7.515625 27.59375 7.515625 \r\nL 36.8125 7.515625 \r\nL 36.8125 0 \r\nL 27.59375 0 \r\nQ 17.1875 0 13.234375 3.875 \r\nQ 9.28125 7.765625 9.28125 18.015625 \r\nL 9.28125 47.703125 \r\nL 2.6875 47.703125 \r\nL 2.6875 54.6875 \r\nL 9.28125 54.6875 \r\nL 9.28125 70.21875 \r\nz\r\n\" id=\"DejaVuSans-116\"/>\r\n       <path d=\"M 44.28125 53.078125 \r\nL 44.28125 44.578125 \r\nQ 40.484375 46.53125 36.375 47.5 \r\nQ 32.28125 48.484375 27.875 48.484375 \r\nQ 21.1875 48.484375 17.84375 46.4375 \r\nQ 14.5 44.390625 14.5 40.28125 \r\nQ 14.5 37.15625 16.890625 35.375 \r\nQ 19.28125 33.59375 26.515625 31.984375 \r\nL 29.59375 31.296875 \r\nQ 39.15625 29.25 43.1875 25.515625 \r\nQ 47.21875 21.78125 47.21875 15.09375 \r\nQ 47.21875 7.46875 41.1875 3.015625 \r\nQ 35.15625 -1.421875 24.609375 -1.421875 \r\nQ 20.21875 -1.421875 15.453125 -0.5625 \r\nQ 10.6875 0.296875 5.421875 2 \r\nL 5.421875 11.28125 \r\nQ 10.40625 8.6875 15.234375 7.390625 \r\nQ 20.0625 6.109375 24.8125 6.109375 \r\nQ 31.15625 6.109375 34.5625 8.28125 \r\nQ 37.984375 10.453125 37.984375 14.40625 \r\nQ 37.984375 18.0625 35.515625 20.015625 \r\nQ 33.0625 21.96875 24.703125 23.78125 \r\nL 21.578125 24.515625 \r\nQ 13.234375 26.265625 9.515625 29.90625 \r\nQ 5.8125 33.546875 5.8125 39.890625 \r\nQ 5.8125 47.609375 11.28125 51.796875 \r\nQ 16.75 56 26.8125 56 \r\nQ 31.78125 56 36.171875 55.265625 \r\nQ 40.578125 54.546875 44.28125 53.078125 \r\nz\r\n\" id=\"DejaVuSans-115\"/>\r\n      </defs>\r\n      <use xlink:href=\"#DejaVuSans-112\"/>\r\n      <use x=\"63.476562\" xlink:href=\"#DejaVuSans-111\"/>\r\n      <use x=\"124.658203\" xlink:href=\"#DejaVuSans-105\"/>\r\n      <use x=\"152.441406\" xlink:href=\"#DejaVuSans-110\"/>\r\n      <use x=\"215.820312\" xlink:href=\"#DejaVuSans-116\"/>\r\n      <use x=\"255.029297\" xlink:href=\"#DejaVuSans-115\"/>\r\n     </g>\r\n    </g>\r\n   </g>\r\n   <g id=\"matplotlib.axis_2\">\r\n    <g id=\"ytick_1\">\r\n     <g id=\"line2d_6\">\r\n      <defs>\r\n       <path d=\"M 0 0 \r\nL -3.5 0 \r\n\" id=\"m77d41c7eb8\" style=\"stroke:#000000;stroke-width:0.8;\"/>\r\n      </defs>\r\n      <g>\r\n       <use style=\"stroke:#000000;stroke-width:0.8;\" x=\"43.78125\" xlink:href=\"#m77d41c7eb8\" y=\"224.64\"/>\r\n      </g>\r\n     </g>\r\n     <g id=\"text_7\">\r\n      <!-- 0.0 -->\r\n      <g transform=\"translate(20.878125 228.439219)scale(0.1 -0.1)\">\r\n       <defs>\r\n        <path d=\"M 10.6875 12.40625 \r\nL 21 12.40625 \r\nL 21 0 \r\nL 10.6875 0 \r\nz\r\n\" id=\"DejaVuSans-46\"/>\r\n       </defs>\r\n       <use xlink:href=\"#DejaVuSans-48\"/>\r\n       <use x=\"63.623047\" xlink:href=\"#DejaVuSans-46\"/>\r\n       <use x=\"95.410156\" xlink:href=\"#DejaVuSans-48\"/>\r\n      </g>\r\n     </g>\r\n    </g>\r\n    <g id=\"ytick_2\">\r\n     <g id=\"line2d_7\">\r\n      <g>\r\n       <use style=\"stroke:#000000;stroke-width:0.8;\" x=\"43.78125\" xlink:href=\"#m77d41c7eb8\" y=\"188.153469\"/>\r\n      </g>\r\n     </g>\r\n     <g id=\"text_8\">\r\n      <!-- 0.1 -->\r\n      <g transform=\"translate(20.878125 191.952688)scale(0.1 -0.1)\">\r\n       <use xlink:href=\"#DejaVuSans-48\"/>\r\n       <use x=\"63.623047\" xlink:href=\"#DejaVuSans-46\"/>\r\n       <use x=\"95.410156\" xlink:href=\"#DejaVuSans-49\"/>\r\n      </g>\r\n     </g>\r\n    </g>\r\n    <g id=\"ytick_3\">\r\n     <g id=\"line2d_8\">\r\n      <g>\r\n       <use style=\"stroke:#000000;stroke-width:0.8;\" x=\"43.78125\" xlink:href=\"#m77d41c7eb8\" y=\"151.666939\"/>\r\n      </g>\r\n     </g>\r\n     <g id=\"text_9\">\r\n      <!-- 0.2 -->\r\n      <g transform=\"translate(20.878125 155.466158)scale(0.1 -0.1)\">\r\n       <defs>\r\n        <path d=\"M 19.1875 8.296875 \r\nL 53.609375 8.296875 \r\nL 53.609375 0 \r\nL 7.328125 0 \r\nL 7.328125 8.296875 \r\nQ 12.9375 14.109375 22.625 23.890625 \r\nQ 32.328125 33.6875 34.8125 36.53125 \r\nQ 39.546875 41.84375 41.421875 45.53125 \r\nQ 43.3125 49.21875 43.3125 52.78125 \r\nQ 43.3125 58.59375 39.234375 62.25 \r\nQ 35.15625 65.921875 28.609375 65.921875 \r\nQ 23.96875 65.921875 18.8125 64.3125 \r\nQ 13.671875 62.703125 7.8125 59.421875 \r\nL 7.8125 69.390625 \r\nQ 13.765625 71.78125 18.9375 73 \r\nQ 24.125 74.21875 28.421875 74.21875 \r\nQ 39.75 74.21875 46.484375 68.546875 \r\nQ 53.21875 62.890625 53.21875 53.421875 \r\nQ 53.21875 48.921875 51.53125 44.890625 \r\nQ 49.859375 40.875 45.40625 35.40625 \r\nQ 44.1875 33.984375 37.640625 27.21875 \r\nQ 31.109375 20.453125 19.1875 8.296875 \r\nz\r\n\" id=\"DejaVuSans-50\"/>\r\n       </defs>\r\n       <use xlink:href=\"#DejaVuSans-48\"/>\r\n       <use x=\"63.623047\" xlink:href=\"#DejaVuSans-46\"/>\r\n       <use x=\"95.410156\" xlink:href=\"#DejaVuSans-50\"/>\r\n      </g>\r\n     </g>\r\n    </g>\r\n    <g id=\"ytick_4\">\r\n     <g id=\"line2d_9\">\r\n      <g>\r\n       <use style=\"stroke:#000000;stroke-width:0.8;\" x=\"43.78125\" xlink:href=\"#m77d41c7eb8\" y=\"115.180408\"/>\r\n      </g>\r\n     </g>\r\n     <g id=\"text_10\">\r\n      <!-- 0.3 -->\r\n      <g transform=\"translate(20.878125 118.979627)scale(0.1 -0.1)\">\r\n       <defs>\r\n        <path d=\"M 40.578125 39.3125 \r\nQ 47.65625 37.796875 51.625 33 \r\nQ 55.609375 28.21875 55.609375 21.1875 \r\nQ 55.609375 10.40625 48.1875 4.484375 \r\nQ 40.765625 -1.421875 27.09375 -1.421875 \r\nQ 22.515625 -1.421875 17.65625 -0.515625 \r\nQ 12.796875 0.390625 7.625 2.203125 \r\nL 7.625 11.71875 \r\nQ 11.71875 9.328125 16.59375 8.109375 \r\nQ 21.484375 6.890625 26.8125 6.890625 \r\nQ 36.078125 6.890625 40.9375 10.546875 \r\nQ 45.796875 14.203125 45.796875 21.1875 \r\nQ 45.796875 27.640625 41.28125 31.265625 \r\nQ 36.765625 34.90625 28.71875 34.90625 \r\nL 20.21875 34.90625 \r\nL 20.21875 43.015625 \r\nL 29.109375 43.015625 \r\nQ 36.375 43.015625 40.234375 45.921875 \r\nQ 44.09375 48.828125 44.09375 54.296875 \r\nQ 44.09375 59.90625 40.109375 62.90625 \r\nQ 36.140625 65.921875 28.71875 65.921875 \r\nQ 24.65625 65.921875 20.015625 65.03125 \r\nQ 15.375 64.15625 9.8125 62.3125 \r\nL 9.8125 71.09375 \r\nQ 15.4375 72.65625 20.34375 73.4375 \r\nQ 25.25 74.21875 29.59375 74.21875 \r\nQ 40.828125 74.21875 47.359375 69.109375 \r\nQ 53.90625 64.015625 53.90625 55.328125 \r\nQ 53.90625 49.265625 50.4375 45.09375 \r\nQ 46.96875 40.921875 40.578125 39.3125 \r\nz\r\n\" id=\"DejaVuSans-51\"/>\r\n       </defs>\r\n       <use xlink:href=\"#DejaVuSans-48\"/>\r\n       <use x=\"63.623047\" xlink:href=\"#DejaVuSans-46\"/>\r\n       <use x=\"95.410156\" xlink:href=\"#DejaVuSans-51\"/>\r\n      </g>\r\n     </g>\r\n    </g>\r\n    <g id=\"ytick_5\">\r\n     <g id=\"line2d_10\">\r\n      <g>\r\n       <use style=\"stroke:#000000;stroke-width:0.8;\" x=\"43.78125\" xlink:href=\"#m77d41c7eb8\" y=\"78.693878\"/>\r\n      </g>\r\n     </g>\r\n     <g id=\"text_11\">\r\n      <!-- 0.4 -->\r\n      <g transform=\"translate(20.878125 82.493096)scale(0.1 -0.1)\">\r\n       <defs>\r\n        <path d=\"M 37.796875 64.3125 \r\nL 12.890625 25.390625 \r\nL 37.796875 25.390625 \r\nz\r\nM 35.203125 72.90625 \r\nL 47.609375 72.90625 \r\nL 47.609375 25.390625 \r\nL 58.015625 25.390625 \r\nL 58.015625 17.1875 \r\nL 47.609375 17.1875 \r\nL 47.609375 0 \r\nL 37.796875 0 \r\nL 37.796875 17.1875 \r\nL 4.890625 17.1875 \r\nL 4.890625 26.703125 \r\nz\r\n\" id=\"DejaVuSans-52\"/>\r\n       </defs>\r\n       <use xlink:href=\"#DejaVuSans-48\"/>\r\n       <use x=\"63.623047\" xlink:href=\"#DejaVuSans-46\"/>\r\n       <use x=\"95.410156\" xlink:href=\"#DejaVuSans-52\"/>\r\n      </g>\r\n     </g>\r\n    </g>\r\n    <g id=\"ytick_6\">\r\n     <g id=\"line2d_11\">\r\n      <g>\r\n       <use style=\"stroke:#000000;stroke-width:0.8;\" x=\"43.78125\" xlink:href=\"#m77d41c7eb8\" y=\"42.207347\"/>\r\n      </g>\r\n     </g>\r\n     <g id=\"text_12\">\r\n      <!-- 0.5 -->\r\n      <g transform=\"translate(20.878125 46.006566)scale(0.1 -0.1)\">\r\n       <use xlink:href=\"#DejaVuSans-48\"/>\r\n       <use x=\"63.623047\" xlink:href=\"#DejaVuSans-46\"/>\r\n       <use x=\"95.410156\" xlink:href=\"#DejaVuSans-53\"/>\r\n      </g>\r\n     </g>\r\n    </g>\r\n    <g id=\"text_13\">\r\n     <!-- Density -->\r\n     <g transform=\"translate(14.798438 134.928594)rotate(-90)scale(0.1 -0.1)\">\r\n      <defs>\r\n       <path d=\"M 19.671875 64.796875 \r\nL 19.671875 8.109375 \r\nL 31.59375 8.109375 \r\nQ 46.6875 8.109375 53.6875 14.9375 \r\nQ 60.6875 21.78125 60.6875 36.53125 \r\nQ 60.6875 51.171875 53.6875 57.984375 \r\nQ 46.6875 64.796875 31.59375 64.796875 \r\nz\r\nM 9.8125 72.90625 \r\nL 30.078125 72.90625 \r\nQ 51.265625 72.90625 61.171875 64.09375 \r\nQ 71.09375 55.28125 71.09375 36.53125 \r\nQ 71.09375 17.671875 61.125 8.828125 \r\nQ 51.171875 0 30.078125 0 \r\nL 9.8125 0 \r\nz\r\n\" id=\"DejaVuSans-68\"/>\r\n       <path d=\"M 56.203125 29.59375 \r\nL 56.203125 25.203125 \r\nL 14.890625 25.203125 \r\nQ 15.484375 15.921875 20.484375 11.0625 \r\nQ 25.484375 6.203125 34.421875 6.203125 \r\nQ 39.59375 6.203125 44.453125 7.46875 \r\nQ 49.3125 8.734375 54.109375 11.28125 \r\nL 54.109375 2.78125 \r\nQ 49.265625 0.734375 44.1875 -0.34375 \r\nQ 39.109375 -1.421875 33.890625 -1.421875 \r\nQ 20.796875 -1.421875 13.15625 6.1875 \r\nQ 5.515625 13.8125 5.515625 26.8125 \r\nQ 5.515625 40.234375 12.765625 48.109375 \r\nQ 20.015625 56 32.328125 56 \r\nQ 43.359375 56 49.78125 48.890625 \r\nQ 56.203125 41.796875 56.203125 29.59375 \r\nz\r\nM 47.21875 32.234375 \r\nQ 47.125 39.59375 43.09375 43.984375 \r\nQ 39.0625 48.390625 32.421875 48.390625 \r\nQ 24.90625 48.390625 20.390625 44.140625 \r\nQ 15.875 39.890625 15.1875 32.171875 \r\nz\r\n\" id=\"DejaVuSans-101\"/>\r\n       <path d=\"M 32.171875 -5.078125 \r\nQ 28.375 -14.84375 24.75 -17.8125 \r\nQ 21.140625 -20.796875 15.09375 -20.796875 \r\nL 7.90625 -20.796875 \r\nL 7.90625 -13.28125 \r\nL 13.1875 -13.28125 \r\nQ 16.890625 -13.28125 18.9375 -11.515625 \r\nQ 21 -9.765625 23.484375 -3.21875 \r\nL 25.09375 0.875 \r\nL 2.984375 54.6875 \r\nL 12.5 54.6875 \r\nL 29.59375 11.921875 \r\nL 46.6875 54.6875 \r\nL 56.203125 54.6875 \r\nz\r\n\" id=\"DejaVuSans-121\"/>\r\n      </defs>\r\n      <use xlink:href=\"#DejaVuSans-68\"/>\r\n      <use x=\"77.001953\" xlink:href=\"#DejaVuSans-101\"/>\r\n      <use x=\"138.525391\" xlink:href=\"#DejaVuSans-110\"/>\r\n      <use x=\"201.904297\" xlink:href=\"#DejaVuSans-115\"/>\r\n      <use x=\"254.003906\" xlink:href=\"#DejaVuSans-105\"/>\r\n      <use x=\"281.787109\" xlink:href=\"#DejaVuSans-116\"/>\r\n      <use x=\"320.996094\" xlink:href=\"#DejaVuSans-121\"/>\r\n     </g>\r\n    </g>\r\n   </g>\r\n   <g id=\"line2d_12\">\r\n    <path clip-path=\"url(#pbe7755bc11)\" d=\"M 58.999432 224.637334 \r\nL 69.70569 224.504889 \r\nL 92.647673 223.832844 \r\nL 95.706604 223.579366 \r\nL 107.942328 221.967937 \r\nL 109.471794 221.533894 \r\nL 112.530725 220.326297 \r\nL 115.589656 219.101538 \r\nL 118.648587 217.912661 \r\nL 120.178052 217.011915 \r\nL 121.707518 215.67479 \r\nL 123.236983 213.837164 \r\nL 127.82538 207.285161 \r\nL 129.354845 205.878983 \r\nL 130.884311 205.17552 \r\nL 133.943242 204.809801 \r\nL 135.472707 204.202094 \r\nL 137.002173 202.825263 \r\nL 138.531638 200.713579 \r\nL 140.061104 198.274309 \r\nL 141.590569 196.127426 \r\nL 143.120035 194.827421 \r\nL 144.6495 194.594269 \r\nL 146.178966 195.187089 \r\nL 147.708431 195.992653 \r\nL 149.237897 196.298246 \r\nL 150.767362 195.624968 \r\nL 152.296828 193.961313 \r\nL 153.826293 191.778214 \r\nL 155.355759 189.808356 \r\nL 156.885224 188.687716 \r\nL 158.41469 188.630185 \r\nL 161.473621 189.944204 \r\nL 163.003086 189.763189 \r\nL 164.532552 188.296623 \r\nL 166.062017 185.685831 \r\nL 167.591483 182.644583 \r\nL 169.120948 180.148308 \r\nL 170.650414 178.978231 \r\nL 172.17988 179.337541 \r\nL 175.238811 182.18312 \r\nL 176.768276 182.687281 \r\nL 178.297742 181.698462 \r\nL 179.827207 179.410665 \r\nL 181.356673 176.695143 \r\nL 182.886138 174.717356 \r\nL 184.415604 174.410949 \r\nL 185.945069 176.056732 \r\nL 187.474535 179.164428 \r\nL 189.004 182.707574 \r\nL 190.533466 185.591622 \r\nL 192.062931 187.127957 \r\nL 193.592397 187.292777 \r\nL 196.651328 186.063879 \r\nL 198.180793 186.144351 \r\nL 199.710259 187.031178 \r\nL 201.239724 188.283498 \r\nL 202.76919 189.129657 \r\nL 204.298655 188.879533 \r\nL 205.828121 187.30729 \r\nL 208.887052 182.293014 \r\nL 210.416517 180.734526 \r\nL 211.945983 180.790504 \r\nL 213.475448 182.472977 \r\nL 216.534379 187.850444 \r\nL 218.063845 189.680529 \r\nL 219.59331 190.235929 \r\nL 221.122776 189.737288 \r\nL 222.652241 188.8861 \r\nL 224.181707 188.50296 \r\nL 225.711172 189.129459 \r\nL 227.240638 190.782354 \r\nL 228.770103 192.969093 \r\nL 230.299569 194.945486 \r\nL 231.829034 196.082413 \r\nL 233.3585 196.162921 \r\nL 234.887965 195.472005 \r\nL 236.417431 194.645021 \r\nL 237.946896 194.355807 \r\nL 239.476362 194.998135 \r\nL 241.005827 196.511621 \r\nL 242.535293 198.429 \r\nL 244.064758 200.11347 \r\nL 245.594224 201.066047 \r\nL 247.123689 201.155367 \r\nL 250.18262 200.151354 \r\nL 251.712086 200.169309 \r\nL 253.241552 201.029219 \r\nL 254.771017 202.666965 \r\nL 257.829948 206.609159 \r\nL 259.359414 207.997048 \r\nL 260.888879 208.730041 \r\nL 262.418345 208.977787 \r\nL 263.94781 209.101717 \r\nL 265.477276 209.472188 \r\nL 267.006741 210.302025 \r\nL 268.536207 211.56961 \r\nL 271.595138 214.463971 \r\nL 273.124603 215.559216 \r\nL 274.654069 216.260907 \r\nL 276.183534 216.654883 \r\nL 279.242465 217.28444 \r\nL 280.771931 217.831184 \r\nL 283.830862 219.405053 \r\nL 285.360327 220.199756 \r\nL 286.889793 220.845436 \r\nL 288.419258 221.300015 \r\nL 291.478189 221.795981 \r\nL 296.066586 222.471804 \r\nL 299.125517 222.972086 \r\nL 302.184448 223.243453 \r\nL 308.30231 223.526726 \r\nL 315.949637 224.137594 \r\nL 328.185361 224.450944 \r\nL 341.950551 224.513683 \r\nL 352.65681 224.568321 \r\nL 363.363068 224.638578 \r\nL 363.363068 224.638578 \r\n\" style=\"fill:none;stroke:#0000ff;stroke-linecap:square;stroke-width:1.5;\"/>\r\n   </g>\r\n   <g id=\"line2d_13\">\r\n    <path clip-path=\"url(#pbe7755bc11)\" d=\"M 95.021807 224.47333 \r\nL 97.455708 224.200673 \r\nL 99.402829 223.762303 \r\nL 100.86317 223.234578 \r\nL 102.32351 222.479845 \r\nL 103.783851 221.451271 \r\nL 105.244192 220.115692 \r\nL 106.704533 218.462855 \r\nL 108.164873 216.511057 \r\nL 110.111994 213.524788 \r\nL 113.032676 208.514057 \r\nL 115.953358 203.075804 \r\nL 117.900479 199.054754 \r\nL 119.8476 194.460271 \r\nL 121.794721 189.128372 \r\nL 123.741842 183.097208 \r\nL 128.609644 166.822058 \r\nL 132.990666 151.977291 \r\nL 134.937787 144.508632 \r\nL 137.371689 134.168623 \r\nL 139.80559 123.851928 \r\nL 141.265931 118.519818 \r\nL 142.239491 115.578471 \r\nL 143.213052 113.21246 \r\nL 144.186612 111.437944 \r\nL 145.160173 110.218675 \r\nL 146.133733 109.473192 \r\nL 147.107294 109.089664 \r\nL 148.080854 108.945995 \r\nL 150.027975 108.968405 \r\nL 152.461877 109.199514 \r\nL 153.435437 109.496975 \r\nL 154.408998 110.076537 \r\nL 155.382558 111.069562 \r\nL 156.356119 112.594625 \r\nL 157.329679 114.737252 \r\nL 158.30324 117.535066 \r\nL 159.2768 120.970669 \r\nL 160.737141 127.152531 \r\nL 162.684262 136.642816 \r\nL 166.091724 153.553651 \r\nL 168.525625 164.28506 \r\nL 171.933087 177.930728 \r\nL 178.74801 204.528612 \r\nL 180.208351 209.307345 \r\nL 181.668692 213.384443 \r\nL 183.129033 216.694703 \r\nL 184.102593 218.479468 \r\nL 185.076154 219.948656 \r\nL 186.049714 221.131842 \r\nL 187.023275 222.064209 \r\nL 188.483616 223.074462 \r\nL 189.943956 223.727283 \r\nL 191.404297 224.129661 \r\nL 191.891077 224.223459 \r\nL 191.891077 224.223459 \r\n\" style=\"fill:none;stroke:#ff0000;stroke-linecap:square;stroke-width:1.5;\"/>\r\n   </g>\r\n   <g id=\"patch_60\">\r\n    <path d=\"M 43.78125 224.64 \r\nL 43.78125 7.2 \r\n\" style=\"fill:none;stroke:#000000;stroke-linecap:square;stroke-linejoin:miter;stroke-width:0.8;\"/>\r\n   </g>\r\n   <g id=\"patch_61\">\r\n    <path d=\"M 378.58125 224.64 \r\nL 378.58125 7.2 \r\n\" style=\"fill:none;stroke:#000000;stroke-linecap:square;stroke-linejoin:miter;stroke-width:0.8;\"/>\r\n   </g>\r\n   <g id=\"patch_62\">\r\n    <path d=\"M 43.78125 224.64 \r\nL 378.58125 224.64 \r\n\" style=\"fill:none;stroke:#000000;stroke-linecap:square;stroke-linejoin:miter;stroke-width:0.8;\"/>\r\n   </g>\r\n   <g id=\"patch_63\">\r\n    <path d=\"M 43.78125 7.2 \r\nL 378.58125 7.2 \r\n\" style=\"fill:none;stroke:#000000;stroke-linecap:square;stroke-linejoin:miter;stroke-width:0.8;\"/>\r\n   </g>\r\n  </g>\r\n </g>\r\n <defs>\r\n  <clipPath id=\"pbe7755bc11\">\r\n   <rect height=\"217.44\" width=\"334.8\" x=\"43.78125\" y=\"7.2\"/>\r\n  </clipPath>\r\n </defs>\r\n</svg>\r\n",
            "image/png": "[encoded data removed]"
          },
          "metadata": {
            "needs_background": "light"
          }
        }
      ],
      "source": [
        "plt.figure()\n",
        "sns.distplot(frances, hist=True, color='b');\n",
        "sns.distplot(fr_n, hist=True, color='r');"
      ]
    },
    {
      "cell_type": "code",
      "execution_count": 75,
      "metadata": {},
      "outputs": [
        {
          "output_type": "execute_result",
          "data": {
            "text/plain": [
              "Ttest_1sampResult(statistic=-19.801986102576723, pvalue=6.082659615924452e-21)"
            ]
          },
          "metadata": {},
          "execution_count": 75
        }
      ],
      "source": [
        "stats.ttest_1samp(fr_n, frances.mean())"
      ]
    },
    {
      "cell_type": "markdown",
      "metadata": {
        "id": "0f0j9qAgqQQJ"
      },
      "source": [
        "# Two Sample Hypothesis Tests with Scipy"
      ]
    },
    {
      "cell_type": "markdown",
      "metadata": {
        "id": "AeHDoXhCD86F"
      },
      "source": [
        "# Matched Pairs\n",
        "\n",
        "Significa que los datos en las dos muestras son dependientes. (las dos muestras son dependientes, contienen al mismo grupo de personas)\n",
        "\n"
      ]
    },
    {
      "cell_type": "code",
      "metadata": {
        "id": "mjdGOsuyL9yS"
      },
      "source": [
        "pen = pd.read_csv('../../datasets/pinguinos.csv')\n",
        "pen"
      ],
      "execution_count": 77,
      "outputs": [
        {
          "output_type": "execute_result",
          "data": {
            "text/plain": [
              "    huevo_chico  huevo_grande\n",
              "0            79           133\n",
              "1            93           143\n",
              "2           100           164\n",
              "3           105           171\n",
              "4           101           165\n",
              "5            96           159\n",
              "6            96           162\n",
              "7           109           170\n",
              "8            70           127\n",
              "9            71           133\n",
              "10           87           148"
            ],
            "text/html": "<div>\n<style scoped>\n    .dataframe tbody tr th:only-of-type {\n        vertical-align: middle;\n    }\n\n    .dataframe tbody tr th {\n        vertical-align: top;\n    }\n\n    .dataframe thead th {\n        text-align: right;\n    }\n</style>\n<table border=\"1\" class=\"dataframe\">\n  <thead>\n    <tr style=\"text-align: right;\">\n      <th></th>\n      <th>huevo_chico</th>\n      <th>huevo_grande</th>\n    </tr>\n  </thead>\n  <tbody>\n    <tr>\n      <th>0</th>\n      <td>79</td>\n      <td>133</td>\n    </tr>\n    <tr>\n      <th>1</th>\n      <td>93</td>\n      <td>143</td>\n    </tr>\n    <tr>\n      <th>2</th>\n      <td>100</td>\n      <td>164</td>\n    </tr>\n    <tr>\n      <th>3</th>\n      <td>105</td>\n      <td>171</td>\n    </tr>\n    <tr>\n      <th>4</th>\n      <td>101</td>\n      <td>165</td>\n    </tr>\n    <tr>\n      <th>5</th>\n      <td>96</td>\n      <td>159</td>\n    </tr>\n    <tr>\n      <th>6</th>\n      <td>96</td>\n      <td>162</td>\n    </tr>\n    <tr>\n      <th>7</th>\n      <td>109</td>\n      <td>170</td>\n    </tr>\n    <tr>\n      <th>8</th>\n      <td>70</td>\n      <td>127</td>\n    </tr>\n    <tr>\n      <th>9</th>\n      <td>71</td>\n      <td>133</td>\n    </tr>\n    <tr>\n      <th>10</th>\n      <td>87</td>\n      <td>148</td>\n    </tr>\n  </tbody>\n</table>\n</div>"
          },
          "metadata": {},
          "execution_count": 77
        }
      ]
    },
    {
      "cell_type": "code",
      "execution_count": 78,
      "metadata": {},
      "outputs": [],
      "source": [
        "from scipy.stats import ttest_rel, ttest_1samp"
      ]
    },
    {
      "cell_type": "code",
      "execution_count": 79,
      "metadata": {},
      "outputs": [
        {
          "output_type": "execute_result",
          "data": {
            "text/plain": [
              "Ttest_relResult(statistic=-39.6385073836747, pvalue=2.4963107834499585e-12)"
            ]
          },
          "metadata": {},
          "execution_count": 79
        }
      ],
      "source": [
        "ttest_rel(pen.huevo_chico, pen.huevo_grande)"
      ]
    },
    {
      "cell_type": "code",
      "execution_count": 80,
      "metadata": {},
      "outputs": [
        {
          "output_type": "execute_result",
          "data": {
            "text/plain": [
              "Ttest_1sampResult(statistic=-39.6385073836747, pvalue=2.4963107834499585e-12)"
            ]
          },
          "metadata": {},
          "execution_count": 80
        }
      ],
      "source": [
        "ttest_1samp(pen.huevo_chico - pen.huevo_grande, 0)"
      ]
    },
    {
      "cell_type": "markdown",
      "metadata": {
        "id": "yFx4cT0FEkUv"
      },
      "source": [
        "---\n",
        "# Independent Samples\n",
        "\n",
        "---\n",
        "\n",
        "\n",
        "\n",
        "**Independent Samples**\n",
        "\n",
        "Consideramos aquellos casos  en los que tenemos dos o más ejemplos que no hacen match entre ellos. Por ejemplo A/B test en páginas web dado que un usuario ve una interfaz diferente a los otros. \n",
        "\n",
        "Se deben cumplir ciertos estatutos:\n",
        "\n",
        "\n",
        "1.   Independencia de los datos: Que un dato no afecte al otro\n",
        "2.   Las muestras fueron tomadas aleatoriamente de una población que se distribuye normalmente\n",
        "\n",
        "Podemos tener dos casos:\n",
        "\n",
        "\n",
        "1.   Varianzas iguales \n",
        "2.   Varianzas diferentes\n",
        "\n",
        "Nuesta hipótesis aquí son:\n",
        "\n",
        "$\n",
        "H_0 = \\mu_1 = \\mu_2 \\\\\n",
        "H_1 = \\mu_1 \\neq \\mu_2\n",
        "$\n"
      ]
    },
    {
      "cell_type": "code",
      "metadata": {
        "id": "JQZcpNaSMP6w"
      },
      "source": [],
      "execution_count": null,
      "outputs": []
    }
  ]
}