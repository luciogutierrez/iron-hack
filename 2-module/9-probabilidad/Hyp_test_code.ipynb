{
  "cells": [
    {
      "cell_type": "code",
      "execution_count": 1,
      "metadata": {
        "id": "hJSRnoNnXC3V"
      },
      "outputs": [],
      "source": [
        "from statistics import mean\n",
        "import numpy as np\n",
        "import pandas as pd\n",
        "import matplotlib.pyplot as plt\n",
        "import seaborn as sns\n",
        "import scipy.stats as stats"
      ]
    },
    {
      "cell_type": "code",
      "execution_count": 2,
      "metadata": {
        "colab": {
          "base_uri": "https://localhost:8080/"
        },
        "id": "qGz5xfPorur1",
        "outputId": "ec48e845-5910-44a1-aa35-bc1bddc1975f"
      },
      "outputs": [],
      "source": [
        "# from google.colab import drive\n",
        "# drive.mount('/content/drive')"
      ]
    },
    {
      "cell_type": "code",
      "execution_count": 3,
      "metadata": {},
      "outputs": [
        {
          "data": {
            "text/html": [
              "<div>\n",
              "<style scoped>\n",
              "    .dataframe tbody tr th:only-of-type {\n",
              "        vertical-align: middle;\n",
              "    }\n",
              "\n",
              "    .dataframe tbody tr th {\n",
              "        vertical-align: top;\n",
              "    }\n",
              "\n",
              "    .dataframe thead th {\n",
              "        text-align: right;\n",
              "    }\n",
              "</style>\n",
              "<table border=\"1\" class=\"dataframe\">\n",
              "  <thead>\n",
              "    <tr style=\"text-align: right;\">\n",
              "      <th></th>\n",
              "      <th>ip</th>\n",
              "      <th>compra</th>\n",
              "      <th>fecha</th>\n",
              "    </tr>\n",
              "  </thead>\n",
              "  <tbody>\n",
              "    <tr>\n",
              "      <th>0</th>\n",
              "      <td>0146.0104.0044.0034</td>\n",
              "      <td>0</td>\n",
              "      <td>2020-01-01</td>\n",
              "    </tr>\n",
              "    <tr>\n",
              "      <th>1</th>\n",
              "      <td>0166.0231.0189.0175</td>\n",
              "      <td>1</td>\n",
              "      <td>2020-01-01</td>\n",
              "    </tr>\n",
              "    <tr>\n",
              "      <th>2</th>\n",
              "      <td>0031.0086.0235.0176</td>\n",
              "      <td>0</td>\n",
              "      <td>2020-01-01</td>\n",
              "    </tr>\n",
              "    <tr>\n",
              "      <th>3</th>\n",
              "      <td>0128.0126.0101.0178</td>\n",
              "      <td>0</td>\n",
              "      <td>2020-01-01</td>\n",
              "    </tr>\n",
              "    <tr>\n",
              "      <th>4</th>\n",
              "      <td>0096.0176.0164.0068</td>\n",
              "      <td>0</td>\n",
              "      <td>2020-01-01</td>\n",
              "    </tr>\n",
              "  </tbody>\n",
              "</table>\n",
              "</div>"
            ],
            "text/plain": [
              "                    ip  compra       fecha\n",
              "0  0146.0104.0044.0034       0  2020-01-01\n",
              "1  0166.0231.0189.0175       1  2020-01-01\n",
              "2  0031.0086.0235.0176       0  2020-01-01\n",
              "3  0128.0126.0101.0178       0  2020-01-01\n",
              "4  0096.0176.0164.0068       0  2020-01-01"
            ]
          },
          "execution_count": 3,
          "metadata": {},
          "output_type": "execute_result"
        }
      ],
      "source": [
        "df = pd.read_csv('../../datasets/ventas_enero_2020.csv')\n",
        "df.head()"
      ]
    },
    {
      "cell_type": "code",
      "execution_count": 4,
      "metadata": {},
      "outputs": [
        {
          "name": "stdout",
          "output_type": "stream",
          "text": [
            "<class 'pandas.core.frame.DataFrame'>\n",
            "RangeIndex: 1500 entries, 0 to 1499\n",
            "Data columns (total 3 columns):\n",
            " #   Column  Non-Null Count  Dtype \n",
            "---  ------  --------------  ----- \n",
            " 0   ip      1500 non-null   object\n",
            " 1   compra  1500 non-null   int64 \n",
            " 2   fecha   1500 non-null   object\n",
            "dtypes: int64(1), object(2)\n",
            "memory usage: 35.3+ KB\n"
          ]
        }
      ],
      "source": [
        "df.info()"
      ]
    },
    {
      "cell_type": "code",
      "execution_count": 5,
      "metadata": {},
      "outputs": [
        {
          "data": {
            "text/plain": [
              "0       0\n",
              "1       1\n",
              "2       0\n",
              "3       0\n",
              "4       0\n",
              "       ..\n",
              "1495    1\n",
              "1496    0\n",
              "1497    0\n",
              "1498    0\n",
              "1499    0\n",
              "Name: compra, Length: 1500, dtype: int64"
            ]
          },
          "execution_count": 5,
          "metadata": {},
          "output_type": "execute_result"
        }
      ],
      "source": [
        "df.compra"
      ]
    },
    {
      "cell_type": "code",
      "execution_count": 7,
      "metadata": {},
      "outputs": [
        {
          "data": {
            "text/plain": [
              "0.2846666666666667"
            ]
          },
          "execution_count": 7,
          "metadata": {},
          "output_type": "execute_result"
        }
      ],
      "source": [
        "# media de bernoullies\n",
        "df.compra.mean()"
      ]
    },
    {
      "cell_type": "code",
      "execution_count": 8,
      "metadata": {},
      "outputs": [
        {
          "data": {
            "text/plain": [
              "<scipy.stats._distn_infrastructure.rv_frozen at 0x11826fccd60>"
            ]
          },
          "execution_count": 8,
          "metadata": {},
          "output_type": "execute_result"
        }
      ],
      "source": [
        "estimacionz_ventas = stats.binom(100, df.compra.mean())\n",
        "estimacionz_ventas"
      ]
    },
    {
      "cell_type": "code",
      "execution_count": 9,
      "metadata": {},
      "outputs": [],
      "source": [
        "y = [x for x in range(101)]"
      ]
    },
    {
      "cell_type": "code",
      "execution_count": 10,
      "metadata": {},
      "outputs": [],
      "source": [
        "from scipy.stats import binom"
      ]
    },
    {
      "cell_type": "code",
      "execution_count": 11,
      "metadata": {},
      "outputs": [
        {
          "data": {
            "image/png": "[encoded data removed]",
            "text/plain": [
              "<Figure size 432x288 with 1 Axes>"
            ]
          },
          "metadata": {
            "needs_background": "light"
          },
          "output_type": "display_data"
        }
      ],
      "source": [
        "plt.scatter(y, estimacionz_ventas.pmf(y));"
      ]
    },
    {
      "cell_type": "code",
      "execution_count": 12,
      "metadata": {},
      "outputs": [
        {
          "data": {
            "text/plain": [
              "(20.0, 37.0)"
            ]
          },
          "execution_count": 12,
          "metadata": {},
          "output_type": "execute_result"
        }
      ],
      "source": [
        "estimacionz_ventas.interval(0.95)"
      ]
    },
    {
      "cell_type": "code",
      "execution_count": 13,
      "metadata": {},
      "outputs": [
        {
          "data": {
            "text/html": [
              "<div>\n",
              "<style scoped>\n",
              "    .dataframe tbody tr th:only-of-type {\n",
              "        vertical-align: middle;\n",
              "    }\n",
              "\n",
              "    .dataframe tbody tr th {\n",
              "        vertical-align: top;\n",
              "    }\n",
              "\n",
              "    .dataframe thead th {\n",
              "        text-align: right;\n",
              "    }\n",
              "</style>\n",
              "<table border=\"1\" class=\"dataframe\">\n",
              "  <thead>\n",
              "    <tr style=\"text-align: right;\">\n",
              "      <th></th>\n",
              "      <th>Unnamed: 0</th>\n",
              "      <th>country</th>\n",
              "      <th>description</th>\n",
              "      <th>designation</th>\n",
              "      <th>points</th>\n",
              "      <th>price</th>\n",
              "      <th>province</th>\n",
              "      <th>region_1</th>\n",
              "      <th>region_2</th>\n",
              "      <th>taster_name</th>\n",
              "      <th>taster_twitter_handle</th>\n",
              "      <th>title</th>\n",
              "      <th>variety</th>\n",
              "      <th>winery</th>\n",
              "    </tr>\n",
              "  </thead>\n",
              "  <tbody>\n",
              "    <tr>\n",
              "      <th>0</th>\n",
              "      <td>0</td>\n",
              "      <td>Italy</td>\n",
              "      <td>Aromas include tropical fruit, broom, brimston...</td>\n",
              "      <td>Vulkà Bianco</td>\n",
              "      <td>87</td>\n",
              "      <td>NaN</td>\n",
              "      <td>Sicily &amp; Sardinia</td>\n",
              "      <td>Etna</td>\n",
              "      <td>NaN</td>\n",
              "      <td>Kerin O’Keefe</td>\n",
              "      <td>@kerinokeefe</td>\n",
              "      <td>Nicosia 2013 Vulkà Bianco  (Etna)</td>\n",
              "      <td>White Blend</td>\n",
              "      <td>Nicosia</td>\n",
              "    </tr>\n",
              "    <tr>\n",
              "      <th>1</th>\n",
              "      <td>1</td>\n",
              "      <td>Portugal</td>\n",
              "      <td>This is ripe and fruity, a wine that is smooth...</td>\n",
              "      <td>Avidagos</td>\n",
              "      <td>87</td>\n",
              "      <td>15.0</td>\n",
              "      <td>Douro</td>\n",
              "      <td>NaN</td>\n",
              "      <td>NaN</td>\n",
              "      <td>Roger Voss</td>\n",
              "      <td>@vossroger</td>\n",
              "      <td>Quinta dos Avidagos 2011 Avidagos Red (Douro)</td>\n",
              "      <td>Portuguese Red</td>\n",
              "      <td>Quinta dos Avidagos</td>\n",
              "    </tr>\n",
              "  </tbody>\n",
              "</table>\n",
              "</div>"
            ],
            "text/plain": [
              "   Unnamed: 0   country                                        description  \\\n",
              "0           0     Italy  Aromas include tropical fruit, broom, brimston...   \n",
              "1           1  Portugal  This is ripe and fruity, a wine that is smooth...   \n",
              "\n",
              "    designation  points  price           province region_1 region_2  \\\n",
              "0  Vulkà Bianco      87    NaN  Sicily & Sardinia     Etna      NaN   \n",
              "1      Avidagos      87   15.0              Douro      NaN      NaN   \n",
              "\n",
              "     taster_name taster_twitter_handle  \\\n",
              "0  Kerin O’Keefe          @kerinokeefe   \n",
              "1     Roger Voss            @vossroger   \n",
              "\n",
              "                                           title         variety  \\\n",
              "0              Nicosia 2013 Vulkà Bianco  (Etna)     White Blend   \n",
              "1  Quinta dos Avidagos 2011 Avidagos Red (Douro)  Portuguese Red   \n",
              "\n",
              "                winery  \n",
              "0              Nicosia  \n",
              "1  Quinta dos Avidagos  "
            ]
          },
          "execution_count": 13,
          "metadata": {},
          "output_type": "execute_result"
        }
      ],
      "source": [
        "vinos = pd.read_csv('../../datasets/winemag-data-130k-v2.csv')\n",
        "vinos.head(2)"
      ]
    },
    {
      "cell_type": "code",
      "execution_count": 14,
      "metadata": {},
      "outputs": [
        {
          "name": "stdout",
          "output_type": "stream",
          "text": [
            "<class 'pandas.core.frame.DataFrame'>\n",
            "RangeIndex: 129971 entries, 0 to 129970\n",
            "Data columns (total 14 columns):\n",
            " #   Column                 Non-Null Count   Dtype  \n",
            "---  ------                 --------------   -----  \n",
            " 0   Unnamed: 0             129971 non-null  int64  \n",
            " 1   country                129908 non-null  object \n",
            " 2   description            129971 non-null  object \n",
            " 3   designation            92506 non-null   object \n",
            " 4   points                 129971 non-null  int64  \n",
            " 5   price                  120975 non-null  float64\n",
            " 6   province               129908 non-null  object \n",
            " 7   region_1               108724 non-null  object \n",
            " 8   region_2               50511 non-null   object \n",
            " 9   taster_name            103727 non-null  object \n",
            " 10  taster_twitter_handle  98758 non-null   object \n",
            " 11  title                  129971 non-null  object \n",
            " 12  variety                129970 non-null  object \n",
            " 13  winery                 129971 non-null  object \n",
            "dtypes: float64(1), int64(2), object(11)\n",
            "memory usage: 13.9+ MB\n"
          ]
        }
      ],
      "source": [
        "vinos.info()"
      ]
    },
    {
      "cell_type": "code",
      "execution_count": 15,
      "metadata": {},
      "outputs": [],
      "source": [
        "vinos.drop('Unnamed: 0', axis=1, inplace=True)"
      ]
    },
    {
      "cell_type": "code",
      "execution_count": 16,
      "metadata": {},
      "outputs": [
        {
          "name": "stdout",
          "output_type": "stream",
          "text": [
            "<class 'pandas.core.frame.DataFrame'>\n",
            "RangeIndex: 129971 entries, 0 to 129970\n",
            "Data columns (total 13 columns):\n",
            " #   Column                 Non-Null Count   Dtype  \n",
            "---  ------                 --------------   -----  \n",
            " 0   country                129908 non-null  object \n",
            " 1   description            129971 non-null  object \n",
            " 2   designation            92506 non-null   object \n",
            " 3   points                 129971 non-null  int64  \n",
            " 4   price                  120975 non-null  float64\n",
            " 5   province               129908 non-null  object \n",
            " 6   region_1               108724 non-null  object \n",
            " 7   region_2               50511 non-null   object \n",
            " 8   taster_name            103727 non-null  object \n",
            " 9   taster_twitter_handle  98758 non-null   object \n",
            " 10  title                  129971 non-null  object \n",
            " 11  variety                129970 non-null  object \n",
            " 12  winery                 129971 non-null  object \n",
            "dtypes: float64(1), int64(1), object(11)\n",
            "memory usage: 12.9+ MB\n"
          ]
        }
      ],
      "source": [
        "vinos.info()"
      ]
    },
    {
      "cell_type": "code",
      "execution_count": 17,
      "metadata": {},
      "outputs": [
        {
          "data": {
            "text/html": [
              "<div>\n",
              "<style scoped>\n",
              "    .dataframe tbody tr th:only-of-type {\n",
              "        vertical-align: middle;\n",
              "    }\n",
              "\n",
              "    .dataframe tbody tr th {\n",
              "        vertical-align: top;\n",
              "    }\n",
              "\n",
              "    .dataframe thead th {\n",
              "        text-align: right;\n",
              "    }\n",
              "</style>\n",
              "<table border=\"1\" class=\"dataframe\">\n",
              "  <thead>\n",
              "    <tr style=\"text-align: right;\">\n",
              "      <th></th>\n",
              "      <th>points</th>\n",
              "      <th>price</th>\n",
              "    </tr>\n",
              "  </thead>\n",
              "  <tbody>\n",
              "    <tr>\n",
              "      <th>count</th>\n",
              "      <td>129971.000000</td>\n",
              "      <td>120975.000000</td>\n",
              "    </tr>\n",
              "    <tr>\n",
              "      <th>mean</th>\n",
              "      <td>88.447138</td>\n",
              "      <td>35.363389</td>\n",
              "    </tr>\n",
              "    <tr>\n",
              "      <th>std</th>\n",
              "      <td>3.039730</td>\n",
              "      <td>41.022218</td>\n",
              "    </tr>\n",
              "    <tr>\n",
              "      <th>min</th>\n",
              "      <td>80.000000</td>\n",
              "      <td>4.000000</td>\n",
              "    </tr>\n",
              "    <tr>\n",
              "      <th>25%</th>\n",
              "      <td>86.000000</td>\n",
              "      <td>17.000000</td>\n",
              "    </tr>\n",
              "    <tr>\n",
              "      <th>50%</th>\n",
              "      <td>88.000000</td>\n",
              "      <td>25.000000</td>\n",
              "    </tr>\n",
              "    <tr>\n",
              "      <th>75%</th>\n",
              "      <td>91.000000</td>\n",
              "      <td>42.000000</td>\n",
              "    </tr>\n",
              "    <tr>\n",
              "      <th>max</th>\n",
              "      <td>100.000000</td>\n",
              "      <td>3300.000000</td>\n",
              "    </tr>\n",
              "  </tbody>\n",
              "</table>\n",
              "</div>"
            ],
            "text/plain": [
              "              points          price\n",
              "count  129971.000000  120975.000000\n",
              "mean       88.447138      35.363389\n",
              "std         3.039730      41.022218\n",
              "min        80.000000       4.000000\n",
              "25%        86.000000      17.000000\n",
              "50%        88.000000      25.000000\n",
              "75%        91.000000      42.000000\n",
              "max       100.000000    3300.000000"
            ]
          },
          "execution_count": 17,
          "metadata": {},
          "output_type": "execute_result"
        }
      ],
      "source": [
        "vinos.describe()"
      ]
    },
    {
      "cell_type": "markdown",
      "metadata": {
        "id": "5CuPWGb4tmxY"
      },
      "source": [
        "### Prueba Z\n",
        "\n",
        "Es la manera estadística de probar nuestra hipótesis si:\n",
        "* Conocemos la varianza de la población o\n",
        "* No conocemos la varianza, pero nuestra muestra es $n>=30$ \\\\\n",
        "\n",
        "Tenemos que \\\\\n",
        "\n",
        "$Z =\\frac{\\bar x - \\mu}{\\frac {\\sigma}{\\sqrt n}}$ \\\\\n",
        "donde \\\\\n",
        "$\n",
        "\\bar x $ = Media de la muestra \\\\\n",
        "$\\mu $= media de la población \\\\\n",
        "$\\sigma $ = Desviación estándar de la población \\\\\n",
        "$n $= Tamaño de la muestra\n",
        "\n",
        "Ejemplo:\n",
        "\n",
        "En este dataset de reviews de vinos, vamos a asumir que los datos  de puntaje de los vinos están distribuidos de forma\n",
        "normal.\n",
        "--->Points: The number of points WineEnthusiast rated the wine on a scale of 1-100<---\n",
        "\n",
        "Entonces definimos nuestra media poblacional ($\\mu$) y desviación estándar ($\\sigma$). Estos serán nuestros\n",
        "parámetros. Estamos asumiendo aquí que los datos que tenemos son los datos de la población, sin muestreo."
      ]
    },
    {
      "cell_type": "code",
      "execution_count": 18,
      "metadata": {},
      "outputs": [
        {
          "data": {
            "image/png": "[encoded data removed]",
            "text/plain": [
              "<Figure size 432x288 with 1 Axes>"
            ]
          },
          "metadata": {
            "needs_background": "light"
          },
          "output_type": "display_data"
        }
      ],
      "source": [
        "vinos.points.hist();"
      ]
    },
    {
      "cell_type": "code",
      "execution_count": 19,
      "metadata": {},
      "outputs": [
        {
          "name": "stdout",
          "output_type": "stream",
          "text": [
            "88.44713820775404\n",
            "3.039730202916003\n"
          ]
        }
      ],
      "source": [
        "points = vinos.points\n",
        "mu = points.mean()\n",
        "sigma = points.std()\n",
        "print(mu)\n",
        "print(sigma)"
      ]
    },
    {
      "cell_type": "markdown",
      "metadata": {
        "id": "jLpMJiDmgUkr"
      },
      "source": [
        "# Ejemplo\n",
        "\n",
        "Suponiendo que tengo una muestra de n=10 puntajes de vinos con una media muestral de $\\bar{x}$ = 90.2.\n",
        "Esta muestra viene de la misma población que las evaluaciones que tengo aquí?\n",
        "\n",
        "Para probar, vamos a utilizar una prueba z de 1 muestra. Primero, declaramos hipótesis nula e hipótesis alternativa:\n",
        "\n",
        "$H_0$: La muestra es de la misma población de enólogos -> $\\bar{x} = \\mu$\n",
        "\n",
        "$H_A$: La muestra no viene de la misma población de enólogos -> $\\bar{x} \\neq \\mu$\n",
        "\n",
        "Enseguida, específicamos qué nivel de significancia vamos a utilizar. En estadística, un nivel de signficancia común\n",
        "es el de $\\alpha \\leq 0.05$. Vamos a comprobar utilizando un $\\alpha = 0.05$\n",
        "\n",
        "Luego, vamos a nuestra [tabla z] para buscar el valor crítico de z que corresponde con este nivel de significancia.\n",
        "Nuestra prueba tendrá 2 colas porque no nos importa si la media muestral es mayor o menor que la media poblacional.\n",
        "Solamente estamos probando si son iguales o diferentes.\n",
        "\n",
        "[tabla z]: https://www.sjsu.edu/faculty/gerstman/StatPrimer/z-two-tails.pdf\n",
        "\n"
      ]
    },
    {
      "cell_type": "code",
      "execution_count": 20,
      "metadata": {
        "id": "iMzWjnq9LYRp"
      },
      "outputs": [
        {
          "name": "stdout",
          "output_type": "stream",
          "text": [
            "88.44713820775404\n",
            "3.039730202916003\n"
          ]
        }
      ],
      "source": [
        "# se obtiene de la tabla z dependiendo el grado de exactitud deseado\n",
        "z_test = 1.65\n",
        "x_bar = 90.2\n",
        "print(mu)\n",
        "print(sigma)\n",
        "n = 10"
      ]
    },
    {
      "cell_type": "code",
      "execution_count": 21,
      "metadata": {},
      "outputs": [
        {
          "data": {
            "text/plain": [
              "1.8235288387320392"
            ]
          },
          "execution_count": 21,
          "metadata": {},
          "output_type": "execute_result"
        }
      ],
      "source": [
        "standard_error = sigma / np.sqrt(n)\n",
        "z_stat = (x_bar - mu) / standard_error\n",
        "z_stat"
      ]
    },
    {
      "cell_type": "code",
      "execution_count": 22,
      "metadata": {},
      "outputs": [
        {
          "name": "stdout",
          "output_type": "stream",
          "text": [
            "Valor de z:1.8235288387320392, mayor que 1.65\n",
            " podemos rechazar la hipotesis, con una confianza del 90%\n"
          ]
        }
      ],
      "source": [
        "if z_stat < z_test:\n",
        "    print(f'Valor de z:{z_stat}, menor que {z_test}\\n No podemos rechazar la hipotesis')\n",
        "else:    \n",
        "    print(f'Valor de z:{z_stat}, mayor que {z_test}\\n podemos rechazar la hipotesis, con una confianza del 90%')"
      ]
    },
    {
      "cell_type": "markdown",
      "metadata": {
        "id": "X_GxbyJsgZzB"
      },
      "source": [
        "Calculamos el valor de z para nuestra media muestral comparada con la media poblacional dividiendo la diferencia\n",
        "entre las dos medias entre la desviación estándar de la muestra, que es el error estándar: $\\frac{\\sigma}{\\sqrt{n}}$.\n",
        "\n",
        "Si este estadístico es menor que nuestro valor crítico de z, entonces no rechazamos la hipótesis nula; de\n",
        "lo contrario, rechazamos la hipótesis nula en favor de la alternativa."
      ]
    },
    {
      "cell_type": "code",
      "execution_count": null,
      "metadata": {
        "id": "_J-YmeR1Le4l"
      },
      "outputs": [],
      "source": []
    },
    {
      "cell_type": "markdown",
      "metadata": {
        "id": "IU8rL_YHg0Li"
      },
      "source": [
        "### Prueba T\n",
        "\n",
        "En el ejercicio anterior, asumimos que conocemos la media y desviación estándar poblacional, entonces estamos\n",
        "comparando nuestra muestra con esta población. Sin embargo, durante la mayoría de las veces no vamos a conocer estos\n",
        "datos.\n",
        "\n",
        "Nos permite medir nuestra hipótesis cuando:\n",
        "* No conocemos la varianza de la población\n",
        "* Nuestra muestra es pequeña, n < 30 \n",
        "\n",
        "$t$ = $\n",
        "\\frac {\\bar x - \\mu}{\\frac {s}{\\sqrt n}}\n",
        "$ \\\\\n",
        "donde \\\\\n",
        "$\n",
        "\\bar x $ = Media de la muestra \\\\\n",
        "$\\mu $= media de la población \\\\\n",
        "$s $ = Desviación estándar de la muestra \\\\\n",
        "$n $= Tamaño de la muestra\n",
        "\n",
        "\n",
        "\n",
        "![alt text](https://andyjconnelly.files.wordpress.com/2017/05/distributions1.png 'Ejemplo Normal vs T-Student')\n",
        "\n",
        "Entonces, si no conocemos los parámetros de nuestra población, pero sabemos que la distribución de nuestra muestra se\n",
        " asemeja a la normal (simétrica con tendencia a la media), lo más probable es que tengamos una distribución T de\n",
        " Student. En esta distribución, cuanto mayor la muestra, más similar a la normal será.\n",
        "\n",
        " La prueba T es calculada de forma semejante a la prueba z, pero está basada en esta distribución y por lo tanto\n",
        " tiene valores de referencia distintos."
      ]
    },
    {
      "cell_type": "markdown",
      "metadata": {
        "id": "NiTmnE3lg4vT"
      },
      "source": [
        "### Prueba T de 1 Muestra\n",
        "\n",
        "Supongamos que tengo una muestra y quiero comparar con un valor específico. En nuestro ejemplo, vamos a suponer que\n",
        "yo sé que la evaluación promedio de los vinos en Francia es de 88, y quiero saber si los vinos nuevos (\"Nouveau\") tiene\n",
        "una media de evaluación semejante a la población general. Voy a probar lo mismo con los vinos que están designados\n",
        "como \"Prestige\"\n",
        "\n",
        "En este caso, usamos una Prueba T de 1 sola muestra, ya que estamos comparando el valor de esta media con un valor de\n",
        " referencia (benchmark).\n",
        "\n",
        "Nuestras hipótesis:\n",
        "\n",
        "$H_0$: $\\bar{x} - \\mu = 0$ - es decir, no hay diferencia entre la media muestral y $\\mu$.\n",
        "\n",
        "$H_A$: $\\bar{x} - \\mu \\neq 0$ - prueba de dos colas\n",
        "\n",
        "$\\alpha = 0.05$\n",
        "\n",
        "Aquí veo en mi [tabla T]\n",
        "\n",
        "[tabla T]: https://www.sjsu.edu/faculty/gerstman/StatPrimer/t-table.pdf\n"
      ]
    },
    {
      "cell_type": "markdown",
      "metadata": {
        "id": "HRlzYKi0D0C9"
      },
      "source": [
        "---"
      ]
    },
    {
      "cell_type": "code",
      "execution_count": 23,
      "metadata": {
        "id": "838auZyoLqpX"
      },
      "outputs": [
        {
          "data": {
            "text/html": [
              "<div>\n",
              "<style scoped>\n",
              "    .dataframe tbody tr th:only-of-type {\n",
              "        vertical-align: middle;\n",
              "    }\n",
              "\n",
              "    .dataframe tbody tr th {\n",
              "        vertical-align: top;\n",
              "    }\n",
              "\n",
              "    .dataframe thead th {\n",
              "        text-align: right;\n",
              "    }\n",
              "</style>\n",
              "<table border=\"1\" class=\"dataframe\">\n",
              "  <thead>\n",
              "    <tr style=\"text-align: right;\">\n",
              "      <th></th>\n",
              "      <th>country</th>\n",
              "      <th>description</th>\n",
              "      <th>designation</th>\n",
              "      <th>points</th>\n",
              "      <th>price</th>\n",
              "      <th>province</th>\n",
              "      <th>region_1</th>\n",
              "      <th>region_2</th>\n",
              "      <th>taster_name</th>\n",
              "      <th>taster_twitter_handle</th>\n",
              "      <th>title</th>\n",
              "      <th>variety</th>\n",
              "      <th>winery</th>\n",
              "    </tr>\n",
              "  </thead>\n",
              "  <tbody>\n",
              "    <tr>\n",
              "      <th>7</th>\n",
              "      <td>France</td>\n",
              "      <td>This dry and restrained wine offers spice in p...</td>\n",
              "      <td>NaN</td>\n",
              "      <td>87</td>\n",
              "      <td>24.0</td>\n",
              "      <td>Alsace</td>\n",
              "      <td>Alsace</td>\n",
              "      <td>NaN</td>\n",
              "      <td>Roger Voss</td>\n",
              "      <td>@vossroger</td>\n",
              "      <td>Trimbach 2012 Gewurztraminer (Alsace)</td>\n",
              "      <td>Gewürztraminer</td>\n",
              "      <td>Trimbach</td>\n",
              "    </tr>\n",
              "    <tr>\n",
              "      <th>9</th>\n",
              "      <td>France</td>\n",
              "      <td>This has great depth of flavor with its fresh ...</td>\n",
              "      <td>Les Natures</td>\n",
              "      <td>87</td>\n",
              "      <td>27.0</td>\n",
              "      <td>Alsace</td>\n",
              "      <td>Alsace</td>\n",
              "      <td>NaN</td>\n",
              "      <td>Roger Voss</td>\n",
              "      <td>@vossroger</td>\n",
              "      <td>Jean-Baptiste Adam 2012 Les Natures Pinot Gris...</td>\n",
              "      <td>Pinot Gris</td>\n",
              "      <td>Jean-Baptiste Adam</td>\n",
              "    </tr>\n",
              "  </tbody>\n",
              "</table>\n",
              "</div>"
            ],
            "text/plain": [
              "  country                                        description  designation  \\\n",
              "7  France  This dry and restrained wine offers spice in p...          NaN   \n",
              "9  France  This has great depth of flavor with its fresh ...  Les Natures   \n",
              "\n",
              "   points  price province region_1 region_2 taster_name taster_twitter_handle  \\\n",
              "7      87   24.0   Alsace   Alsace      NaN  Roger Voss            @vossroger   \n",
              "9      87   27.0   Alsace   Alsace      NaN  Roger Voss            @vossroger   \n",
              "\n",
              "                                               title         variety  \\\n",
              "7              Trimbach 2012 Gewurztraminer (Alsace)  Gewürztraminer   \n",
              "9  Jean-Baptiste Adam 2012 Les Natures Pinot Gris...      Pinot Gris   \n",
              "\n",
              "               winery  \n",
              "7            Trimbach  \n",
              "9  Jean-Baptiste Adam  "
            ]
          },
          "execution_count": 23,
          "metadata": {},
          "output_type": "execute_result"
        }
      ],
      "source": [
        "vinos[vinos.country == 'France'].head(2)"
      ]
    },
    {
      "cell_type": "code",
      "execution_count": 24,
      "metadata": {},
      "outputs": [],
      "source": [
        "frances = vinos[vinos.country == 'France'].points\n",
        "fr_n = vinos[(vinos.country == 'France')&(vinos.designation == 'Nouveau')].points"
      ]
    },
    {
      "cell_type": "code",
      "execution_count": 31,
      "metadata": {},
      "outputs": [
        {
          "name": "stderr",
          "output_type": "stream",
          "text": [
            "C:\\Users\\lgutierrez\\AppData\\Local\\Programs\\Python\\Python39\\lib\\site-packages\\seaborn\\distributions.py:2557: FutureWarning: `distplot` is a deprecated function and will be removed in a future version. Please adapt your code to use either `displot` (a figure-level function with similar flexibility) or `histplot` (an axes-level function for histograms).\n",
            "  warnings.warn(msg, FutureWarning)\n",
            "C:\\Users\\lgutierrez\\AppData\\Local\\Programs\\Python\\Python39\\lib\\site-packages\\seaborn\\distributions.py:2557: FutureWarning: `distplot` is a deprecated function and will be removed in a future version. Please adapt your code to use either `displot` (a figure-level function with similar flexibility) or `histplot` (an axes-level function for histograms).\n",
            "  warnings.warn(msg, FutureWarning)\n"
          ]
        },
        {
          "data": {
            "image/png": "[encoded data removed]",
            "text/plain": [
              "<Figure size 432x288 with 1 Axes>"
            ]
          },
          "metadata": {
            "needs_background": "light"
          },
          "output_type": "display_data"
        }
      ],
      "source": [
        "plt.figure()\n",
        "sns.distplot(frances, hist=True, color='b');\n",
        "sns.distplot(fr_n, hist=True, color='r');"
      ]
    },
    {
      "cell_type": "code",
      "execution_count": 32,
      "metadata": {},
      "outputs": [
        {
          "data": {
            "text/plain": [
              "Ttest_1sampResult(statistic=-19.801986102576723, pvalue=6.082659615924452e-21)"
            ]
          },
          "execution_count": 32,
          "metadata": {},
          "output_type": "execute_result"
        }
      ],
      "source": [
        "stats.ttest_1samp(fr_n, frances.mean())"
      ]
    },
    {
      "cell_type": "markdown",
      "metadata": {
        "id": "0f0j9qAgqQQJ"
      },
      "source": [
        "# Two Sample Hypothesis Tests with Scipy"
      ]
    },
    {
      "cell_type": "markdown",
      "metadata": {
        "id": "AeHDoXhCD86F"
      },
      "source": [
        "# Matched Pairs\n",
        "\n",
        "Significa que los datos en las dos muestras son dependientes. (las dos muestras son dependientes, contienen al mismo grupo de personas)\n",
        "\n"
      ]
    },
    {
      "cell_type": "code",
      "execution_count": 27,
      "metadata": {
        "id": "mjdGOsuyL9yS"
      },
      "outputs": [
        {
          "data": {
            "text/html": [
              "<div>\n",
              "<style scoped>\n",
              "    .dataframe tbody tr th:only-of-type {\n",
              "        vertical-align: middle;\n",
              "    }\n",
              "\n",
              "    .dataframe tbody tr th {\n",
              "        vertical-align: top;\n",
              "    }\n",
              "\n",
              "    .dataframe thead th {\n",
              "        text-align: right;\n",
              "    }\n",
              "</style>\n",
              "<table border=\"1\" class=\"dataframe\">\n",
              "  <thead>\n",
              "    <tr style=\"text-align: right;\">\n",
              "      <th></th>\n",
              "      <th>huevo_chico</th>\n",
              "      <th>huevo_grande</th>\n",
              "    </tr>\n",
              "  </thead>\n",
              "  <tbody>\n",
              "    <tr>\n",
              "      <th>0</th>\n",
              "      <td>79</td>\n",
              "      <td>133</td>\n",
              "    </tr>\n",
              "    <tr>\n",
              "      <th>1</th>\n",
              "      <td>93</td>\n",
              "      <td>143</td>\n",
              "    </tr>\n",
              "    <tr>\n",
              "      <th>2</th>\n",
              "      <td>100</td>\n",
              "      <td>164</td>\n",
              "    </tr>\n",
              "    <tr>\n",
              "      <th>3</th>\n",
              "      <td>105</td>\n",
              "      <td>171</td>\n",
              "    </tr>\n",
              "    <tr>\n",
              "      <th>4</th>\n",
              "      <td>101</td>\n",
              "      <td>165</td>\n",
              "    </tr>\n",
              "    <tr>\n",
              "      <th>5</th>\n",
              "      <td>96</td>\n",
              "      <td>159</td>\n",
              "    </tr>\n",
              "    <tr>\n",
              "      <th>6</th>\n",
              "      <td>96</td>\n",
              "      <td>162</td>\n",
              "    </tr>\n",
              "    <tr>\n",
              "      <th>7</th>\n",
              "      <td>109</td>\n",
              "      <td>170</td>\n",
              "    </tr>\n",
              "    <tr>\n",
              "      <th>8</th>\n",
              "      <td>70</td>\n",
              "      <td>127</td>\n",
              "    </tr>\n",
              "    <tr>\n",
              "      <th>9</th>\n",
              "      <td>71</td>\n",
              "      <td>133</td>\n",
              "    </tr>\n",
              "    <tr>\n",
              "      <th>10</th>\n",
              "      <td>87</td>\n",
              "      <td>148</td>\n",
              "    </tr>\n",
              "  </tbody>\n",
              "</table>\n",
              "</div>"
            ],
            "text/plain": [
              "    huevo_chico  huevo_grande\n",
              "0            79           133\n",
              "1            93           143\n",
              "2           100           164\n",
              "3           105           171\n",
              "4           101           165\n",
              "5            96           159\n",
              "6            96           162\n",
              "7           109           170\n",
              "8            70           127\n",
              "9            71           133\n",
              "10           87           148"
            ]
          },
          "execution_count": 27,
          "metadata": {},
          "output_type": "execute_result"
        }
      ],
      "source": [
        "pen = pd.read_csv('../../datasets/pinguinos.csv')\n",
        "pen"
      ]
    },
    {
      "cell_type": "code",
      "execution_count": 33,
      "metadata": {},
      "outputs": [],
      "source": [
        "from scipy.stats import ttest_rel, ttest_1samp"
      ]
    },
    {
      "cell_type": "code",
      "execution_count": 34,
      "metadata": {},
      "outputs": [
        {
          "data": {
            "text/plain": [
              "Ttest_relResult(statistic=-39.6385073836747, pvalue=2.4963107834499585e-12)"
            ]
          },
          "execution_count": 34,
          "metadata": {},
          "output_type": "execute_result"
        }
      ],
      "source": [
        "ttest_rel(pen.huevo_chico, pen.huevo_grande)"
      ]
    },
    {
      "cell_type": "code",
      "execution_count": 35,
      "metadata": {},
      "outputs": [
        {
          "data": {
            "text/plain": [
              "Ttest_1sampResult(statistic=-39.6385073836747, pvalue=2.4963107834499585e-12)"
            ]
          },
          "execution_count": 35,
          "metadata": {},
          "output_type": "execute_result"
        }
      ],
      "source": [
        "ttest_1samp(pen.huevo_chico - pen.huevo_grande, 0)"
      ]
    },
    {
      "cell_type": "markdown",
      "metadata": {
        "id": "yFx4cT0FEkUv"
      },
      "source": [
        "---\n",
        "# Independent Samples\n",
        "\n",
        "---\n",
        "\n",
        "\n",
        "\n",
        "**Independent Samples**\n",
        "\n",
        "Consideramos aquellos casos  en los que tenemos dos o más ejemplos que no hacen match entre ellos. Por ejemplo A/B test en páginas web dado que un usuario ve una interfaz diferente a los otros. \n",
        "\n",
        "Se deben cumplir ciertos estatutos:\n",
        "\n",
        "\n",
        "1.   Independencia de los datos: Que un dato no afecte al otro\n",
        "2.   Las muestras fueron tomadas aleatoriamente de una población que se distribuye normalmente\n",
        "\n",
        "Podemos tener dos casos:\n",
        "\n",
        "\n",
        "1.   Varianzas iguales \n",
        "2.   Varianzas diferentes\n",
        "\n",
        "Nuesta hipótesis aquí son:\n",
        "\n",
        "$\n",
        "H_0 = \\mu_1 = \\mu_2 \\\\\n",
        "H_1 = \\mu_1 \\neq \\mu_2\n",
        "$\n"
      ]
    },
    {
      "cell_type": "code",
      "execution_count": 36,
      "metadata": {
        "id": "JQZcpNaSMP6w"
      },
      "outputs": [
        {
          "data": {
            "text/html": [
              "<div>\n",
              "<style scoped>\n",
              "    .dataframe tbody tr th:only-of-type {\n",
              "        vertical-align: middle;\n",
              "    }\n",
              "\n",
              "    .dataframe tbody tr th {\n",
              "        vertical-align: top;\n",
              "    }\n",
              "\n",
              "    .dataframe thead th {\n",
              "        text-align: right;\n",
              "    }\n",
              "</style>\n",
              "<table border=\"1\" class=\"dataframe\">\n",
              "  <thead>\n",
              "    <tr style=\"text-align: right;\">\n",
              "      <th></th>\n",
              "      <th>Sexo</th>\n",
              "      <th>Trat</th>\n",
              "      <th>Puntaje</th>\n",
              "    </tr>\n",
              "  </thead>\n",
              "  <tbody>\n",
              "    <tr>\n",
              "      <th>0</th>\n",
              "      <td>Hombre</td>\n",
              "      <td>Control</td>\n",
              "      <td>10.155054</td>\n",
              "    </tr>\n",
              "    <tr>\n",
              "      <th>1</th>\n",
              "      <td>Hombre</td>\n",
              "      <td>Control</td>\n",
              "      <td>11.194200</td>\n",
              "    </tr>\n",
              "    <tr>\n",
              "      <th>2</th>\n",
              "      <td>Hombre</td>\n",
              "      <td>Control</td>\n",
              "      <td>11.759109</td>\n",
              "    </tr>\n",
              "    <tr>\n",
              "      <th>3</th>\n",
              "      <td>Hombre</td>\n",
              "      <td>Control</td>\n",
              "      <td>9.358012</td>\n",
              "    </tr>\n",
              "    <tr>\n",
              "      <th>4</th>\n",
              "      <td>Hombre</td>\n",
              "      <td>Control</td>\n",
              "      <td>11.300387</td>\n",
              "    </tr>\n",
              "  </tbody>\n",
              "</table>\n",
              "</div>"
            ],
            "text/plain": [
              "     Sexo     Trat    Puntaje\n",
              "0  Hombre  Control  10.155054\n",
              "1  Hombre  Control  11.194200\n",
              "2  Hombre  Control  11.759109\n",
              "3  Hombre  Control   9.358012\n",
              "4  Hombre  Control  11.300387"
            ]
          },
          "execution_count": 36,
          "metadata": {},
          "output_type": "execute_result"
        }
      ],
      "source": [
        "df_medi = pd.read_csv('../../datasets/medicamentos.csv')\r\n",
        "df_medi.head()"
      ]
    },
    {
      "cell_type": "code",
      "execution_count": 37,
      "metadata": {},
      "outputs": [
        {
          "data": {
            "text/plain": [
              "array(['Control', 'Trat1', 'Trat2'], dtype=object)"
            ]
          },
          "execution_count": 37,
          "metadata": {},
          "output_type": "execute_result"
        }
      ],
      "source": [
        "df_medi.Trat.unique()"
      ]
    },
    {
      "cell_type": "code",
      "execution_count": 38,
      "metadata": {},
      "outputs": [
        {
          "data": {
            "text/html": [
              "<div>\n",
              "<style scoped>\n",
              "    .dataframe tbody tr th:only-of-type {\n",
              "        vertical-align: middle;\n",
              "    }\n",
              "\n",
              "    .dataframe tbody tr th {\n",
              "        vertical-align: top;\n",
              "    }\n",
              "\n",
              "    .dataframe thead th {\n",
              "        text-align: right;\n",
              "    }\n",
              "</style>\n",
              "<table border=\"1\" class=\"dataframe\">\n",
              "  <thead>\n",
              "    <tr style=\"text-align: right;\">\n",
              "      <th>Sexo</th>\n",
              "      <th>Hombre</th>\n",
              "      <th>Mujer</th>\n",
              "    </tr>\n",
              "    <tr>\n",
              "      <th>Trat</th>\n",
              "      <th></th>\n",
              "      <th></th>\n",
              "    </tr>\n",
              "  </thead>\n",
              "  <tbody>\n",
              "    <tr>\n",
              "      <th>Control</th>\n",
              "      <td>10.824535</td>\n",
              "      <td>11.201002</td>\n",
              "    </tr>\n",
              "    <tr>\n",
              "      <th>Trat1</th>\n",
              "      <td>6.596051</td>\n",
              "      <td>5.140778</td>\n",
              "    </tr>\n",
              "    <tr>\n",
              "      <th>Trat2</th>\n",
              "      <td>7.688968</td>\n",
              "      <td>7.920856</td>\n",
              "    </tr>\n",
              "  </tbody>\n",
              "</table>\n",
              "</div>"
            ],
            "text/plain": [
              "Sexo        Hombre      Mujer\n",
              "Trat                         \n",
              "Control  10.824535  11.201002\n",
              "Trat1     6.596051   5.140778\n",
              "Trat2     7.688968   7.920856"
            ]
          },
          "execution_count": 38,
          "metadata": {},
          "output_type": "execute_result"
        }
      ],
      "source": [
        "df_medi.pivot_table(values='Puntaje', index='Trat', columns='Sexo')"
      ]
    },
    {
      "cell_type": "code",
      "execution_count": 39,
      "metadata": {},
      "outputs": [],
      "source": [
        "import seaborn as sns"
      ]
    },
    {
      "cell_type": "code",
      "execution_count": 52,
      "metadata": {},
      "outputs": [
        {
          "data": {
            "image/png": "[encoded data removed]",
            "text/plain": [
              "<Figure size 432x288 with 1 Axes>"
            ]
          },
          "metadata": {
            "needs_background": "light"
          },
          "output_type": "display_data"
        }
      ],
      "source": [
        "sns.boxplot(x='Trat', y='Puntaje', hue='Sexo', data=df_medi);"
      ]
    },
    {
      "cell_type": "code",
      "execution_count": 44,
      "metadata": {},
      "outputs": [
        {
          "data": {
            "image/png": "[encoded data removed]",
            "text/plain": [
              "<Figure size 432x288 with 1 Axes>"
            ]
          },
          "metadata": {
            "needs_background": "light"
          },
          "output_type": "display_data"
        }
      ],
      "source": [
        "sns.boxplot(x='Trat', y='Puntaje', data=df_medi);"
      ]
    },
    {
      "cell_type": "code",
      "execution_count": 45,
      "metadata": {},
      "outputs": [
        {
          "data": {
            "image/png": "[encoded data removed]",
            "text/plain": [
              "<Figure size 432x288 with 1 Axes>"
            ]
          },
          "metadata": {
            "needs_background": "light"
          },
          "output_type": "display_data"
        }
      ],
      "source": [
        "sns.boxplot(x='Sexo', y='Puntaje', data=df_medi);"
      ]
    },
    {
      "cell_type": "code",
      "execution_count": 46,
      "metadata": {},
      "outputs": [],
      "source": [
        "from scipy.stats import ttest_ind"
      ]
    },
    {
      "cell_type": "code",
      "execution_count": 48,
      "metadata": {},
      "outputs": [],
      "source": [
        "a = df_medi[df_medi.Trat=='Control'].Puntaje\r\n",
        "b = df_medi[df_medi.Trat=='Trat1'].Puntaje\r\n",
        "c = df_medi[df_medi.Trat=='Trat2'].Puntaje"
      ]
    },
    {
      "cell_type": "code",
      "execution_count": 50,
      "metadata": {},
      "outputs": [
        {
          "data": {
            "text/plain": [
              "Ttest_indResult(statistic=-21.460179196778043, pvalue=1.8271430334190028e-34)"
            ]
          },
          "execution_count": 50,
          "metadata": {},
          "output_type": "execute_result"
        }
      ],
      "source": [
        "# cuando la varianza es igual\r\n",
        "ttest_ind(c, a, equal_var=True)"
      ]
    },
    {
      "cell_type": "code",
      "execution_count": 51,
      "metadata": {},
      "outputs": [
        {
          "data": {
            "text/plain": [
              "Ttest_indResult(statistic=11.016690650891123, pvalue=1.680578506549734e-16)"
            ]
          },
          "execution_count": 51,
          "metadata": {},
          "output_type": "execute_result"
        }
      ],
      "source": [
        "# cuando la varianza es diferente\r\n",
        "ttest_ind(c, b, equal_var=False)"
      ]
    },
    {
      "cell_type": "code",
      "execution_count": null,
      "metadata": {},
      "outputs": [],
      "source": []
    }
  ],
  "metadata": {
    "colab": {
      "collapsed_sections": [],
      "name": "Hyp_test_code.ipynb",
      "provenance": []
    },
    "interpreter": {
      "hash": "376f5b0795f81aa7b5d99e448d6274743a66c9892fd26cf11e505993f41df5fa"
    },
    "kernelspec": {
      "display_name": "Python 3.9.5 64-bit",
      "name": "python3"
    },
    "language_info": {
      "codemirror_mode": {
        "name": "ipython",
        "version": 3
      },
      "file_extension": ".py",
      "mimetype": "text/x-python",
      "name": "python",
      "nbconvert_exporter": "python",
      "pygments_lexer": "ipython3",
      "version": "3.9.5"
    }
  },
  "nbformat": 4,
  "nbformat_minor": 0
}