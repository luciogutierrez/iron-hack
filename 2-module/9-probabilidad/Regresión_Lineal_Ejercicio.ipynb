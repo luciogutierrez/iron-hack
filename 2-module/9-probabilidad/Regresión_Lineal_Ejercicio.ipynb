{
  "cells": [
    {
      "cell_type": "code",
      "execution_count": 1,
      "source": [
        "import pandas as pd\r\n",
        "import numpy as np\r\n",
        "from sklearn.datasets import load_boston\r\n",
        "from sklearn.model_selection import train_test_split\r\n",
        "from sklearn.linear_model import LinearRegression\r\n",
        "from sklearn.linear_model import Ridge\r\n",
        "import matplotlib.pyplot as plt"
      ],
      "outputs": [],
      "metadata": {
        "id": "8ac8ZDt0lq6K"
      }
    },
    {
      "cell_type": "code",
      "execution_count": 2,
      "source": [
        "boston = load_boston()"
      ],
      "outputs": [],
      "metadata": {
        "id": "jcV-THQkoAoi"
      }
    },
    {
      "cell_type": "code",
      "execution_count": 3,
      "source": [
        "df = pd.DataFrame(boston.data, columns = boston.feature_names)\r\n",
        "df['Price'] = boston.target\r\n",
        "df.head()"
      ],
      "outputs": [
        {
          "output_type": "execute_result",
          "data": {
            "text/plain": [
              "      CRIM    ZN  INDUS  CHAS    NOX     RM   AGE     DIS  RAD    TAX  \\\n",
              "0  0.00632  18.0   2.31   0.0  0.538  6.575  65.2  4.0900  1.0  296.0   \n",
              "1  0.02731   0.0   7.07   0.0  0.469  6.421  78.9  4.9671  2.0  242.0   \n",
              "2  0.02729   0.0   7.07   0.0  0.469  7.185  61.1  4.9671  2.0  242.0   \n",
              "3  0.03237   0.0   2.18   0.0  0.458  6.998  45.8  6.0622  3.0  222.0   \n",
              "4  0.06905   0.0   2.18   0.0  0.458  7.147  54.2  6.0622  3.0  222.0   \n",
              "\n",
              "   PTRATIO       B  LSTAT  Price  \n",
              "0     15.3  396.90   4.98   24.0  \n",
              "1     17.8  396.90   9.14   21.6  \n",
              "2     17.8  392.83   4.03   34.7  \n",
              "3     18.7  394.63   2.94   33.4  \n",
              "4     18.7  396.90   5.33   36.2  "
            ],
            "text/html": [
              "<div>\n",
              "<style scoped>\n",
              "    .dataframe tbody tr th:only-of-type {\n",
              "        vertical-align: middle;\n",
              "    }\n",
              "\n",
              "    .dataframe tbody tr th {\n",
              "        vertical-align: top;\n",
              "    }\n",
              "\n",
              "    .dataframe thead th {\n",
              "        text-align: right;\n",
              "    }\n",
              "</style>\n",
              "<table border=\"1\" class=\"dataframe\">\n",
              "  <thead>\n",
              "    <tr style=\"text-align: right;\">\n",
              "      <th></th>\n",
              "      <th>CRIM</th>\n",
              "      <th>ZN</th>\n",
              "      <th>INDUS</th>\n",
              "      <th>CHAS</th>\n",
              "      <th>NOX</th>\n",
              "      <th>RM</th>\n",
              "      <th>AGE</th>\n",
              "      <th>DIS</th>\n",
              "      <th>RAD</th>\n",
              "      <th>TAX</th>\n",
              "      <th>PTRATIO</th>\n",
              "      <th>B</th>\n",
              "      <th>LSTAT</th>\n",
              "      <th>Price</th>\n",
              "    </tr>\n",
              "  </thead>\n",
              "  <tbody>\n",
              "    <tr>\n",
              "      <th>0</th>\n",
              "      <td>0.00632</td>\n",
              "      <td>18.0</td>\n",
              "      <td>2.31</td>\n",
              "      <td>0.0</td>\n",
              "      <td>0.538</td>\n",
              "      <td>6.575</td>\n",
              "      <td>65.2</td>\n",
              "      <td>4.0900</td>\n",
              "      <td>1.0</td>\n",
              "      <td>296.0</td>\n",
              "      <td>15.3</td>\n",
              "      <td>396.90</td>\n",
              "      <td>4.98</td>\n",
              "      <td>24.0</td>\n",
              "    </tr>\n",
              "    <tr>\n",
              "      <th>1</th>\n",
              "      <td>0.02731</td>\n",
              "      <td>0.0</td>\n",
              "      <td>7.07</td>\n",
              "      <td>0.0</td>\n",
              "      <td>0.469</td>\n",
              "      <td>6.421</td>\n",
              "      <td>78.9</td>\n",
              "      <td>4.9671</td>\n",
              "      <td>2.0</td>\n",
              "      <td>242.0</td>\n",
              "      <td>17.8</td>\n",
              "      <td>396.90</td>\n",
              "      <td>9.14</td>\n",
              "      <td>21.6</td>\n",
              "    </tr>\n",
              "    <tr>\n",
              "      <th>2</th>\n",
              "      <td>0.02729</td>\n",
              "      <td>0.0</td>\n",
              "      <td>7.07</td>\n",
              "      <td>0.0</td>\n",
              "      <td>0.469</td>\n",
              "      <td>7.185</td>\n",
              "      <td>61.1</td>\n",
              "      <td>4.9671</td>\n",
              "      <td>2.0</td>\n",
              "      <td>242.0</td>\n",
              "      <td>17.8</td>\n",
              "      <td>392.83</td>\n",
              "      <td>4.03</td>\n",
              "      <td>34.7</td>\n",
              "    </tr>\n",
              "    <tr>\n",
              "      <th>3</th>\n",
              "      <td>0.03237</td>\n",
              "      <td>0.0</td>\n",
              "      <td>2.18</td>\n",
              "      <td>0.0</td>\n",
              "      <td>0.458</td>\n",
              "      <td>6.998</td>\n",
              "      <td>45.8</td>\n",
              "      <td>6.0622</td>\n",
              "      <td>3.0</td>\n",
              "      <td>222.0</td>\n",
              "      <td>18.7</td>\n",
              "      <td>394.63</td>\n",
              "      <td>2.94</td>\n",
              "      <td>33.4</td>\n",
              "    </tr>\n",
              "    <tr>\n",
              "      <th>4</th>\n",
              "      <td>0.06905</td>\n",
              "      <td>0.0</td>\n",
              "      <td>2.18</td>\n",
              "      <td>0.0</td>\n",
              "      <td>0.458</td>\n",
              "      <td>7.147</td>\n",
              "      <td>54.2</td>\n",
              "      <td>6.0622</td>\n",
              "      <td>3.0</td>\n",
              "      <td>222.0</td>\n",
              "      <td>18.7</td>\n",
              "      <td>396.90</td>\n",
              "      <td>5.33</td>\n",
              "      <td>36.2</td>\n",
              "    </tr>\n",
              "  </tbody>\n",
              "</table>\n",
              "</div>"
            ]
          },
          "metadata": {},
          "execution_count": 3
        }
      ],
      "metadata": {
        "colab": {
          "base_uri": "https://localhost:8080/",
          "height": 204
        },
        "id": "pAvMBqCLou1k",
        "outputId": "c7ce8a4f-e749-46d1-df3c-68e92e429159"
      }
    },
    {
      "cell_type": "code",
      "execution_count": 4,
      "source": [
        "y = df.Price\r\n",
        "x = df.drop('Price',axis=1)"
      ],
      "outputs": [],
      "metadata": {
        "id": "IY4LzLAHpS0I"
      }
    },
    {
      "cell_type": "code",
      "execution_count": 5,
      "source": [
        "y.head()"
      ],
      "outputs": [
        {
          "output_type": "execute_result",
          "data": {
            "text/plain": [
              "0    24.0\n",
              "1    21.6\n",
              "2    34.7\n",
              "3    33.4\n",
              "4    36.2\n",
              "Name: Price, dtype: float64"
            ]
          },
          "metadata": {},
          "execution_count": 5
        }
      ],
      "metadata": {
        "colab": {
          "base_uri": "https://localhost:8080/"
        },
        "id": "OD8d926dpj9x",
        "outputId": "17c0908c-0d20-492f-be00-8dfffe7bcb15"
      }
    },
    {
      "cell_type": "code",
      "execution_count": 6,
      "source": [
        "len(x)"
      ],
      "outputs": [
        {
          "output_type": "execute_result",
          "data": {
            "text/plain": [
              "506"
            ]
          },
          "metadata": {},
          "execution_count": 6
        }
      ],
      "metadata": {
        "colab": {
          "base_uri": "https://localhost:8080/"
        },
        "id": "nUL_cgngpnqa",
        "outputId": "3822e6c8-e3c0-437d-cd23-15e8ac334a38"
      }
    },
    {
      "cell_type": "code",
      "execution_count": 7,
      "source": [
        " x_train, x_test, y_train, y_test = train_test_split(x,y, test_size = .2, random_state = 77)"
      ],
      "outputs": [],
      "metadata": {
        "id": "dDFHNbnopqtd"
      }
    },
    {
      "cell_type": "code",
      "execution_count": 8,
      "source": [
        "print(len(x_train))\r\n",
        "print(len(x_test))\r\n",
        "print(len(y_train))\r\n",
        "print(len(y_test))"
      ],
      "outputs": [
        {
          "output_type": "stream",
          "name": "stdout",
          "text": [
            "404\n",
            "102\n",
            "404\n",
            "102\n"
          ]
        }
      ],
      "metadata": {
        "colab": {
          "base_uri": "https://localhost:8080/"
        },
        "id": "eBg5-jaSqFUI",
        "outputId": "6ec91158-918f-408d-c8df-d054d9066b62"
      }
    },
    {
      "cell_type": "code",
      "execution_count": 9,
      "source": [
        "linreg = LinearRegression()\r\n",
        "linreg.fit(x_train,y_train)"
      ],
      "outputs": [
        {
          "output_type": "execute_result",
          "data": {
            "text/plain": [
              "LinearRegression()"
            ]
          },
          "metadata": {},
          "execution_count": 9
        }
      ],
      "metadata": {
        "colab": {
          "base_uri": "https://localhost:8080/"
        },
        "id": "pcjXPtG3qeOu",
        "outputId": "a73b7a27-0f25-4df1-bada-40de5443cb9b"
      }
    },
    {
      "cell_type": "code",
      "execution_count": 10,
      "source": [
        "\r\n",
        "coeff_df = pd.DataFrame(linreg.coef_, x.columns, columns=['Coefficient'])\r\n",
        "coeff_df\r\n",
        "# y= (-.1041)CRIM + (.048031)ZN+......+ (-.558082)LSTAT + 39.02"
      ],
      "outputs": [
        {
          "output_type": "execute_result",
          "data": {
            "text/plain": [
              "         Coefficient\n",
              "CRIM       -0.104127\n",
              "ZN          0.048031\n",
              "INDUS      -0.011906\n",
              "CHAS        3.064590\n",
              "NOX       -19.885375\n",
              "RM          3.811223\n",
              "AGE         0.005227\n",
              "DIS        -1.614652\n",
              "RAD         0.332615\n",
              "TAX        -0.012847\n",
              "PTRATIO    -0.965360\n",
              "B           0.009052\n",
              "LSTAT      -0.558082"
            ],
            "text/html": [
              "<div>\n",
              "<style scoped>\n",
              "    .dataframe tbody tr th:only-of-type {\n",
              "        vertical-align: middle;\n",
              "    }\n",
              "\n",
              "    .dataframe tbody tr th {\n",
              "        vertical-align: top;\n",
              "    }\n",
              "\n",
              "    .dataframe thead th {\n",
              "        text-align: right;\n",
              "    }\n",
              "</style>\n",
              "<table border=\"1\" class=\"dataframe\">\n",
              "  <thead>\n",
              "    <tr style=\"text-align: right;\">\n",
              "      <th></th>\n",
              "      <th>Coefficient</th>\n",
              "    </tr>\n",
              "  </thead>\n",
              "  <tbody>\n",
              "    <tr>\n",
              "      <th>CRIM</th>\n",
              "      <td>-0.104127</td>\n",
              "    </tr>\n",
              "    <tr>\n",
              "      <th>ZN</th>\n",
              "      <td>0.048031</td>\n",
              "    </tr>\n",
              "    <tr>\n",
              "      <th>INDUS</th>\n",
              "      <td>-0.011906</td>\n",
              "    </tr>\n",
              "    <tr>\n",
              "      <th>CHAS</th>\n",
              "      <td>3.064590</td>\n",
              "    </tr>\n",
              "    <tr>\n",
              "      <th>NOX</th>\n",
              "      <td>-19.885375</td>\n",
              "    </tr>\n",
              "    <tr>\n",
              "      <th>RM</th>\n",
              "      <td>3.811223</td>\n",
              "    </tr>\n",
              "    <tr>\n",
              "      <th>AGE</th>\n",
              "      <td>0.005227</td>\n",
              "    </tr>\n",
              "    <tr>\n",
              "      <th>DIS</th>\n",
              "      <td>-1.614652</td>\n",
              "    </tr>\n",
              "    <tr>\n",
              "      <th>RAD</th>\n",
              "      <td>0.332615</td>\n",
              "    </tr>\n",
              "    <tr>\n",
              "      <th>TAX</th>\n",
              "      <td>-0.012847</td>\n",
              "    </tr>\n",
              "    <tr>\n",
              "      <th>PTRATIO</th>\n",
              "      <td>-0.965360</td>\n",
              "    </tr>\n",
              "    <tr>\n",
              "      <th>B</th>\n",
              "      <td>0.009052</td>\n",
              "    </tr>\n",
              "    <tr>\n",
              "      <th>LSTAT</th>\n",
              "      <td>-0.558082</td>\n",
              "    </tr>\n",
              "  </tbody>\n",
              "</table>\n",
              "</div>"
            ]
          },
          "metadata": {},
          "execution_count": 10
        }
      ],
      "metadata": {
        "colab": {
          "base_uri": "https://localhost:8080/",
          "height": 452
        },
        "id": "SCj6WhCFqq_c",
        "outputId": "e543fd65-7a3a-48eb-996f-042bc7a123a7"
      }
    },
    {
      "cell_type": "code",
      "execution_count": 11,
      "source": [
        "linreg.intercept_"
      ],
      "outputs": [
        {
          "output_type": "execute_result",
          "data": {
            "text/plain": [
              "39.024802910932486"
            ]
          },
          "metadata": {},
          "execution_count": 11
        }
      ],
      "metadata": {
        "colab": {
          "base_uri": "https://localhost:8080/"
        },
        "id": "rS9LiN8UrRfN",
        "outputId": "0e573dfd-3ee7-4550-abd5-682258af3127"
      }
    },
    {
      "cell_type": "code",
      "execution_count": 12,
      "source": [
        "train_score = linreg.score(x_train, y_train)\n",
        "test_score = linreg.score(x_test, y_test)\n",
        "print(train_score)\n",
        "print(test_score)"
      ],
      "outputs": [
        {
          "output_type": "stream",
          "name": "stdout",
          "text": [
            "0.7398204023122792\n",
            "0.7269774874059811\n"
          ]
        }
      ],
      "metadata": {
        "colab": {
          "base_uri": "https://localhost:8080/"
        },
        "id": "RCJgHPFUriMd",
        "outputId": "8f878c11-398e-4d28-bd97-381ac0ae8f07"
      }
    },
    {
      "cell_type": "code",
      "execution_count": 13,
      "source": [
        "predicted = linreg.predict(x_test)"
      ],
      "outputs": [],
      "metadata": {
        "id": "GuesU2_ttJnY"
      }
    },
    {
      "cell_type": "code",
      "execution_count": 14,
      "source": [
        "df_pred = pd.DataFrame({'Actual':y_test,'Predicted':predicted})\n",
        "df_pred"
      ],
      "outputs": [
        {
          "output_type": "execute_result",
          "data": {
            "text/plain": [
              "     Actual  Predicted\n",
              "313    21.6  25.921594\n",
              "139    17.8  16.100737\n",
              "314    23.8  25.784393\n",
              "89     28.7  31.468418\n",
              "87     22.2  26.442077\n",
              "..      ...        ...\n",
              "136    17.4  15.524589\n",
              "151    19.6  17.840441\n",
              "177    24.6  29.830597\n",
              "379    10.2  16.943577\n",
              "454    14.9  15.289254\n",
              "\n",
              "[102 rows x 2 columns]"
            ],
            "text/html": [
              "<div>\n",
              "<style scoped>\n",
              "    .dataframe tbody tr th:only-of-type {\n",
              "        vertical-align: middle;\n",
              "    }\n",
              "\n",
              "    .dataframe tbody tr th {\n",
              "        vertical-align: top;\n",
              "    }\n",
              "\n",
              "    .dataframe thead th {\n",
              "        text-align: right;\n",
              "    }\n",
              "</style>\n",
              "<table border=\"1\" class=\"dataframe\">\n",
              "  <thead>\n",
              "    <tr style=\"text-align: right;\">\n",
              "      <th></th>\n",
              "      <th>Actual</th>\n",
              "      <th>Predicted</th>\n",
              "    </tr>\n",
              "  </thead>\n",
              "  <tbody>\n",
              "    <tr>\n",
              "      <th>313</th>\n",
              "      <td>21.6</td>\n",
              "      <td>25.921594</td>\n",
              "    </tr>\n",
              "    <tr>\n",
              "      <th>139</th>\n",
              "      <td>17.8</td>\n",
              "      <td>16.100737</td>\n",
              "    </tr>\n",
              "    <tr>\n",
              "      <th>314</th>\n",
              "      <td>23.8</td>\n",
              "      <td>25.784393</td>\n",
              "    </tr>\n",
              "    <tr>\n",
              "      <th>89</th>\n",
              "      <td>28.7</td>\n",
              "      <td>31.468418</td>\n",
              "    </tr>\n",
              "    <tr>\n",
              "      <th>87</th>\n",
              "      <td>22.2</td>\n",
              "      <td>26.442077</td>\n",
              "    </tr>\n",
              "    <tr>\n",
              "      <th>...</th>\n",
              "      <td>...</td>\n",
              "      <td>...</td>\n",
              "    </tr>\n",
              "    <tr>\n",
              "      <th>136</th>\n",
              "      <td>17.4</td>\n",
              "      <td>15.524589</td>\n",
              "    </tr>\n",
              "    <tr>\n",
              "      <th>151</th>\n",
              "      <td>19.6</td>\n",
              "      <td>17.840441</td>\n",
              "    </tr>\n",
              "    <tr>\n",
              "      <th>177</th>\n",
              "      <td>24.6</td>\n",
              "      <td>29.830597</td>\n",
              "    </tr>\n",
              "    <tr>\n",
              "      <th>379</th>\n",
              "      <td>10.2</td>\n",
              "      <td>16.943577</td>\n",
              "    </tr>\n",
              "    <tr>\n",
              "      <th>454</th>\n",
              "      <td>14.9</td>\n",
              "      <td>15.289254</td>\n",
              "    </tr>\n",
              "  </tbody>\n",
              "</table>\n",
              "<p>102 rows × 2 columns</p>\n",
              "</div>"
            ]
          },
          "metadata": {},
          "execution_count": 14
        }
      ],
      "metadata": {
        "colab": {
          "base_uri": "https://localhost:8080/",
          "height": 419
        },
        "id": "uXV8A-WCtZ2o",
        "outputId": "0524f731-3aeb-42f1-ffe8-881ca383b2a9"
      }
    },
    {
      "cell_type": "code",
      "execution_count": 15,
      "source": [
        "from sklearn import metrics\n",
        "metrics.mean_squared_error(y_test, predicted)"
      ],
      "outputs": [
        {
          "output_type": "execute_result",
          "data": {
            "text/plain": [
              "18.929248330112937"
            ]
          },
          "metadata": {},
          "execution_count": 15
        }
      ],
      "metadata": {
        "colab": {
          "base_uri": "https://localhost:8080/"
        },
        "id": "SwLWVc96t8wD",
        "outputId": "4799a6ab-3286-4154-98ab-92de0784e515"
      }
    },
    {
      "cell_type": "code",
      "execution_count": 16,
      "source": [
        "metrics.mean_absolute_error(y_test,predicted)"
      ],
      "outputs": [
        {
          "output_type": "execute_result",
          "data": {
            "text/plain": [
              "3.369900904881236"
            ]
          },
          "metadata": {},
          "execution_count": 16
        }
      ],
      "metadata": {
        "colab": {
          "base_uri": "https://localhost:8080/"
        },
        "id": "V0gD4xjDuOAU",
        "outputId": "9dcbd9df-d165-4fd2-bab7-898368a563ac"
      }
    },
    {
      "cell_type": "code",
      "execution_count": 17,
      "source": [
        "np.sqrt(metrics.mean_squared_error(y_test, predicted))"
      ],
      "outputs": [
        {
          "output_type": "execute_result",
          "data": {
            "text/plain": [
              "4.350775600983455"
            ]
          },
          "metadata": {},
          "execution_count": 17
        }
      ],
      "metadata": {
        "colab": {
          "base_uri": "https://localhost:8080/"
        },
        "id": "GPfJqCEMuhsx",
        "outputId": "fa07c4c9-a850-461c-e299-958b66d37f2d"
      }
    },
    {
      "cell_type": "code",
      "execution_count": 18,
      "source": [
        "rr = Ridge()\n",
        "rr.fit(x_train, y_train)"
      ],
      "outputs": [
        {
          "output_type": "execute_result",
          "data": {
            "text/plain": [
              "Ridge()"
            ]
          },
          "metadata": {},
          "execution_count": 18
        }
      ],
      "metadata": {
        "colab": {
          "base_uri": "https://localhost:8080/"
        },
        "id": "WvWjqJ4uvob4",
        "outputId": "c993f3a0-244f-4a30-c5dc-43434ad80bd2"
      }
    },
    {
      "cell_type": "code",
      "execution_count": 19,
      "source": [
        "rr100 = Ridge(alpha=100) \n",
        "rr100.fit(x_train,y_train)"
      ],
      "outputs": [
        {
          "output_type": "execute_result",
          "data": {
            "text/plain": [
              "Ridge(alpha=100)"
            ]
          },
          "metadata": {},
          "execution_count": 19
        }
      ],
      "metadata": {
        "colab": {
          "base_uri": "https://localhost:8080/"
        },
        "id": "s76_AZC5v8Eu",
        "outputId": "9a9ab398-4a60-4208-b30d-0c6fd2764bb6"
      }
    },
    {
      "cell_type": "code",
      "execution_count": 20,
      "source": [
        "ridge_train_score = rr.score(x_train, y_train)\n",
        "ridge_test_score = rr.score(x_test, y_test)\n",
        "ridge100_train_score = rr100.score(x_train, y_train)\n",
        "ridge100_test_score = rr100.score(x_test, y_test)"
      ],
      "outputs": [],
      "metadata": {
        "id": "WDx7yNQFvtYG"
      }
    },
    {
      "cell_type": "code",
      "execution_count": 21,
      "source": [
        "predicted_ridge = rr100.predict(x_test)\n",
        "predicted_ridge = pd.DataFrame({'Actual': y_test, 'Predicted':predicted_ridge})\n",
        "predicted_ridge"
      ],
      "outputs": [
        {
          "output_type": "execute_result",
          "data": {
            "text/plain": [
              "     Actual  Predicted\n",
              "313    21.6  26.862535\n",
              "139    17.8  15.410713\n",
              "314    23.8  26.099423\n",
              "89     28.7  30.920117\n",
              "87     22.2  26.520679\n",
              "..      ...        ...\n",
              "136    17.4  15.558216\n",
              "151    19.6  23.877787\n",
              "177    24.6  30.645282\n",
              "379    10.2  15.996422\n",
              "454    14.9  15.451689\n",
              "\n",
              "[102 rows x 2 columns]"
            ],
            "text/html": [
              "<div>\n",
              "<style scoped>\n",
              "    .dataframe tbody tr th:only-of-type {\n",
              "        vertical-align: middle;\n",
              "    }\n",
              "\n",
              "    .dataframe tbody tr th {\n",
              "        vertical-align: top;\n",
              "    }\n",
              "\n",
              "    .dataframe thead th {\n",
              "        text-align: right;\n",
              "    }\n",
              "</style>\n",
              "<table border=\"1\" class=\"dataframe\">\n",
              "  <thead>\n",
              "    <tr style=\"text-align: right;\">\n",
              "      <th></th>\n",
              "      <th>Actual</th>\n",
              "      <th>Predicted</th>\n",
              "    </tr>\n",
              "  </thead>\n",
              "  <tbody>\n",
              "    <tr>\n",
              "      <th>313</th>\n",
              "      <td>21.6</td>\n",
              "      <td>26.862535</td>\n",
              "    </tr>\n",
              "    <tr>\n",
              "      <th>139</th>\n",
              "      <td>17.8</td>\n",
              "      <td>15.410713</td>\n",
              "    </tr>\n",
              "    <tr>\n",
              "      <th>314</th>\n",
              "      <td>23.8</td>\n",
              "      <td>26.099423</td>\n",
              "    </tr>\n",
              "    <tr>\n",
              "      <th>89</th>\n",
              "      <td>28.7</td>\n",
              "      <td>30.920117</td>\n",
              "    </tr>\n",
              "    <tr>\n",
              "      <th>87</th>\n",
              "      <td>22.2</td>\n",
              "      <td>26.520679</td>\n",
              "    </tr>\n",
              "    <tr>\n",
              "      <th>...</th>\n",
              "      <td>...</td>\n",
              "      <td>...</td>\n",
              "    </tr>\n",
              "    <tr>\n",
              "      <th>136</th>\n",
              "      <td>17.4</td>\n",
              "      <td>15.558216</td>\n",
              "    </tr>\n",
              "    <tr>\n",
              "      <th>151</th>\n",
              "      <td>19.6</td>\n",
              "      <td>23.877787</td>\n",
              "    </tr>\n",
              "    <tr>\n",
              "      <th>177</th>\n",
              "      <td>24.6</td>\n",
              "      <td>30.645282</td>\n",
              "    </tr>\n",
              "    <tr>\n",
              "      <th>379</th>\n",
              "      <td>10.2</td>\n",
              "      <td>15.996422</td>\n",
              "    </tr>\n",
              "    <tr>\n",
              "      <th>454</th>\n",
              "      <td>14.9</td>\n",
              "      <td>15.451689</td>\n",
              "    </tr>\n",
              "  </tbody>\n",
              "</table>\n",
              "<p>102 rows × 2 columns</p>\n",
              "</div>"
            ]
          },
          "metadata": {},
          "execution_count": 21
        }
      ],
      "metadata": {
        "colab": {
          "base_uri": "https://localhost:8080/",
          "height": 419
        },
        "id": "3KrhPG1LwOSH",
        "outputId": "2703dbc4-2f7e-4549-8cd0-3be4db29144a"
      }
    },
    {
      "cell_type": "code",
      "execution_count": 22,
      "source": [
        "print(\"linear regression train score:\", train_score)\n",
        "print(\"linear regression test score:\", test_score)\n",
        "print(\"ridge regression train score low alpha:\", ridge_train_score)\n",
        "print(\"ridge regression test score low alpha:\", ridge_test_score)\n",
        "print(\"ridge regression train score high alpha:\", ridge100_train_score)\n",
        "print(\"ridge regression test score high alpha:\", ridge100_test_score)"
      ],
      "outputs": [
        {
          "output_type": "stream",
          "name": "stdout",
          "text": [
            "linear regression train score: 0.7398204023122792\n",
            "linear regression test score: 0.7269774874059811\n",
            "ridge regression train score low alpha: 0.7370295674009033\n",
            "ridge regression test score low alpha: 0.7306005477249631\n",
            "ridge regression train score high alpha: 0.7127107311732339\n",
            "ridge regression test score high alpha: 0.7117154080482151\n"
          ]
        }
      ],
      "metadata": {
        "colab": {
          "base_uri": "https://localhost:8080/"
        },
        "id": "8BrH8vIAwpJE",
        "outputId": "400f5166-8bc2-4cdd-bc07-69323216b644"
      }
    },
    {
      "cell_type": "code",
      "execution_count": 23,
      "source": [
        "fig = plt.figure(facecolor='w',figsize=(18, 6))\r\n",
        "plt.plot(rr.coef_,alpha=0.7,linestyle='none',marker='*',markersize=9,\\\r\n",
        "         color='red',label=r'Ridge; $\\alpha = 0.01$',zorder=7)\r\n",
        "plt.plot(rr100.coef_,alpha=0.5,linestyle='none',marker='d',markersize=10,\\\r\n",
        "         color='blue',label=r'Ridge; $\\alpha = 100$')\r\n",
        "plt.plot(linreg.coef_,alpha=0.4,linestyle='none',marker='o',markersize=14,\\\r\n",
        "         color='green',label='Linear Regression')\r\n",
        "plt.xlabel('Coefficient Index',fontsize=16)\r\n",
        "plt.ylabel('Coefficient Magnitude',fontsize=16)\r\n",
        "plt.legend(fontsize=13,loc=4)\r\n",
        "plt.show()"
      ],
      "outputs": [
        {
          "output_type": "display_data",
          "data": {
            "text/plain": [
              "<Figure size 1296x432 with 1 Axes>"
            ],
            "image/png": "[encoded data removed]"
          },
          "metadata": {}
        }
      ],
      "metadata": {
        "colab": {
          "base_uri": "https://localhost:8080/",
          "height": 723
        },
        "id": "IMKH3UKTxHlo",
        "outputId": "44d12069-77de-4fc0-8f4e-03ddf98f3a21"
      }
    }
  ],
  "metadata": {
    "colab": {
      "name": "Regresión Lineal Ejercicio.ipynb",
      "provenance": []
    },
    "interpreter": {
      "hash": "376f5b0795f81aa7b5d99e448d6274743a66c9892fd26cf11e505993f41df5fa"
    },
    "kernelspec": {
      "display_name": "Python 3.9.6 64-bit",
      "name": "python3"
    },
    "language_info": {
      "codemirror_mode": {
        "name": "ipython",
        "version": 3
      },
      "file_extension": ".py",
      "mimetype": "text/x-python",
      "name": "python",
      "nbconvert_exporter": "python",
      "pygments_lexer": "ipython3",
      "version": "3.9.6"
    }
  },
  "nbformat": 4,
  "nbformat_minor": 2
}