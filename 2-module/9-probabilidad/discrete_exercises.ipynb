{
  "nbformat": 4,
  "nbformat_minor": 0,
  "metadata": {
    "colab": {
      "name": "discrete_exercises.ipynb",
      "provenance": []
    },
    "kernelspec": {
      "name": "python3",
      "display_name": "Python 3"
    }
  },
  "cells": [
    {
      "cell_type": "markdown",
      "metadata": {
        "id": "SSxvjsAWQ6Se"
      },
      "source": [
        "# **Ejercicios**"
      ]
    },
    {
      "cell_type": "markdown",
      "metadata": {
        "id": "DJgudvNtPwZB"
      },
      "source": [
        "\n",
        "\n",
        "1.   According to the maintenance department of a university, the number of toilet blockages obeys a Poisson distribution with an average of $6$ failures everyday. Then what is the approximate probability that there will be $4$ failures during a particular day?\n",
        "\n",
        "2.   Find the expected value of the number of tails when a fair coin is flipped once.\n",
        "\n",
        "3. Reina throws a fair die $16$ times. What is the sum of the expected value and variance of the number of trials where she gets a multiple of $3$?\n",
        "\n",
        "4. Assume that bacteria of a species called $X$ are randomly distributed in a certain river $Y$ according to the Poisson distribution with an average concentration of 16 per 40 ml of water. If we draw 10 ml of water from the river using a test tube, what is the approximate probability that the number of bacteria $X$ in the sample is exactly $4$? \n",
        "\n",
        "5. Consider the Bernoulli distribution with $p=0.8$. If a sequence of $10$ \n",
        "trials are done, what is the expected value of the number of successes that occur?\n",
        "\n",
        "\n"
      ]
    },
    {
      "cell_type": "markdown",
      "metadata": {
        "id": "QN7P4IlIQ5hI"
      },
      "source": [
        ""
      ]
    }
  ]
}