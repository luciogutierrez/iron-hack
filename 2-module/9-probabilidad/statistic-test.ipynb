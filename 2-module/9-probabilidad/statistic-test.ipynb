{
 "cells": [
  {
   "cell_type": "markdown",
   "metadata": {},
   "source": [
    "# Imports"
   ]
  },
  {
   "cell_type": "code",
   "execution_count": 1,
   "metadata": {},
   "outputs": [],
   "source": [
    "import numpy as np\r\n",
    "import pandas as pd\r\n",
    "import seaborn as sns\r\n",
    "from numpy import sqrt, abs, round\r\n",
    "import scipy.stats as stats\r\n",
    "from scipy.stats import norm\r\n"
   ]
  },
  {
   "cell_type": "markdown",
   "metadata": {},
   "source": [
    "# Extraction"
   ]
  },
  {
   "cell_type": "code",
   "execution_count": 2,
   "metadata": {},
   "outputs": [
    {
     "data": {
      "text/html": [
       "<div>\n",
       "<style scoped>\n",
       "    .dataframe tbody tr th:only-of-type {\n",
       "        vertical-align: middle;\n",
       "    }\n",
       "\n",
       "    .dataframe tbody tr th {\n",
       "        vertical-align: top;\n",
       "    }\n",
       "\n",
       "    .dataframe thead th {\n",
       "        text-align: right;\n",
       "    }\n",
       "</style>\n",
       "<table border=\"1\" class=\"dataframe\">\n",
       "  <thead>\n",
       "    <tr style=\"text-align: right;\">\n",
       "      <th></th>\n",
       "      <th>Loan_ID</th>\n",
       "      <th>Gender</th>\n",
       "      <th>Married</th>\n",
       "      <th>Dependents</th>\n",
       "      <th>Education</th>\n",
       "      <th>Self_Employed</th>\n",
       "      <th>ApplicantIncome</th>\n",
       "      <th>CoapplicantIncome</th>\n",
       "      <th>LoanAmount</th>\n",
       "      <th>Loan_Amount_Term</th>\n",
       "      <th>Credit_History</th>\n",
       "      <th>Property_Area</th>\n",
       "      <th>Loan_Status</th>\n",
       "    </tr>\n",
       "  </thead>\n",
       "  <tbody>\n",
       "    <tr>\n",
       "      <th>0</th>\n",
       "      <td>LP001002</td>\n",
       "      <td>Male</td>\n",
       "      <td>No</td>\n",
       "      <td>0</td>\n",
       "      <td>Graduate</td>\n",
       "      <td>No</td>\n",
       "      <td>5849</td>\n",
       "      <td>0.0</td>\n",
       "      <td>NaN</td>\n",
       "      <td>360.0</td>\n",
       "      <td>1.0</td>\n",
       "      <td>Urban</td>\n",
       "      <td>Y</td>\n",
       "    </tr>\n",
       "    <tr>\n",
       "      <th>1</th>\n",
       "      <td>LP001003</td>\n",
       "      <td>Male</td>\n",
       "      <td>Yes</td>\n",
       "      <td>1</td>\n",
       "      <td>Graduate</td>\n",
       "      <td>No</td>\n",
       "      <td>4583</td>\n",
       "      <td>1508.0</td>\n",
       "      <td>128.0</td>\n",
       "      <td>360.0</td>\n",
       "      <td>1.0</td>\n",
       "      <td>Rural</td>\n",
       "      <td>N</td>\n",
       "    </tr>\n",
       "    <tr>\n",
       "      <th>2</th>\n",
       "      <td>LP001005</td>\n",
       "      <td>Male</td>\n",
       "      <td>Yes</td>\n",
       "      <td>0</td>\n",
       "      <td>Graduate</td>\n",
       "      <td>Yes</td>\n",
       "      <td>3000</td>\n",
       "      <td>0.0</td>\n",
       "      <td>66.0</td>\n",
       "      <td>360.0</td>\n",
       "      <td>1.0</td>\n",
       "      <td>Urban</td>\n",
       "      <td>Y</td>\n",
       "    </tr>\n",
       "    <tr>\n",
       "      <th>3</th>\n",
       "      <td>LP001006</td>\n",
       "      <td>Male</td>\n",
       "      <td>Yes</td>\n",
       "      <td>0</td>\n",
       "      <td>Not Graduate</td>\n",
       "      <td>No</td>\n",
       "      <td>2583</td>\n",
       "      <td>2358.0</td>\n",
       "      <td>120.0</td>\n",
       "      <td>360.0</td>\n",
       "      <td>1.0</td>\n",
       "      <td>Urban</td>\n",
       "      <td>Y</td>\n",
       "    </tr>\n",
       "    <tr>\n",
       "      <th>4</th>\n",
       "      <td>LP001008</td>\n",
       "      <td>Male</td>\n",
       "      <td>No</td>\n",
       "      <td>0</td>\n",
       "      <td>Graduate</td>\n",
       "      <td>No</td>\n",
       "      <td>6000</td>\n",
       "      <td>0.0</td>\n",
       "      <td>141.0</td>\n",
       "      <td>360.0</td>\n",
       "      <td>1.0</td>\n",
       "      <td>Urban</td>\n",
       "      <td>Y</td>\n",
       "    </tr>\n",
       "  </tbody>\n",
       "</table>\n",
       "</div>"
      ],
      "text/plain": [
       "    Loan_ID Gender Married Dependents     Education Self_Employed  \\\n",
       "0  LP001002   Male      No          0      Graduate            No   \n",
       "1  LP001003   Male     Yes          1      Graduate            No   \n",
       "2  LP001005   Male     Yes          0      Graduate           Yes   \n",
       "3  LP001006   Male     Yes          0  Not Graduate            No   \n",
       "4  LP001008   Male      No          0      Graduate            No   \n",
       "\n",
       "   ApplicantIncome  CoapplicantIncome  LoanAmount  Loan_Amount_Term  \\\n",
       "0             5849                0.0         NaN             360.0   \n",
       "1             4583             1508.0       128.0             360.0   \n",
       "2             3000                0.0        66.0             360.0   \n",
       "3             2583             2358.0       120.0             360.0   \n",
       "4             6000                0.0       141.0             360.0   \n",
       "\n",
       "   Credit_History Property_Area Loan_Status  \n",
       "0             1.0         Urban           Y  \n",
       "1             1.0         Rural           N  \n",
       "2             1.0         Urban           Y  \n",
       "3             1.0         Urban           Y  \n",
       "4             1.0         Urban           Y  "
      ]
     },
     "execution_count": 2,
     "metadata": {},
     "output_type": "execute_result"
    }
   ],
   "source": [
    "df = pd.read_csv('../../datasets/train_ctrUa4K.csv')\r\n",
    "df.head()"
   ]
  },
  {
   "cell_type": "markdown",
   "metadata": {},
   "source": [
    "# Calculo de variables a utilizar en las pruebas"
   ]
  },
  {
   "cell_type": "code",
   "execution_count": 3,
   "metadata": {},
   "outputs": [
    {
     "name": "stdout",
     "output_type": "stream",
     "text": [
      "M_mean:  5446.460122699386\n",
      "F_mean:  4643.473214285715\n",
      "M_std:  6185.789261678938\n",
      "F_std:  3585.381487888071\n",
      "no_of_M:  489\n",
      "no_of_F:  112\n"
     ]
    }
   ],
   "source": [
    "# Calculating mean, std, size of Male and Female\r\n",
    "M_mean = df.loc[df['Gender']=='Male', 'ApplicantIncome'].mean()\r\n",
    "F_mean = df.loc[df['Gender']=='Female', 'ApplicantIncome'].mean()\r\n",
    "M_std = df.loc[df['Gender']=='Male', 'ApplicantIncome'].std()\r\n",
    "F_std = df.loc[df['Gender']=='Female', 'ApplicantIncome'].std()\r\n",
    "no_of_M = df.loc[df['Gender']=='Male', 'ApplicantIncome'].count()\r\n",
    "no_of_F = df.loc[df['Gender']=='Female', 'ApplicantIncome'].count()\r\n",
    "\r\n",
    "print('M_mean: ',M_mean)\r\n",
    "print('F_mean: ',F_mean)\r\n",
    "print('M_std: ',M_std)\r\n",
    "print('F_std: ',F_std)\r\n",
    "print('no_of_M: ',no_of_M)\r\n",
    "print('no_of_F: ',no_of_F)\r\n"
   ]
  },
  {
   "cell_type": "markdown",
   "metadata": {},
   "source": [
    "# Prueba Z\r\n",
    "### Se utiliza una prueba Z para comparar la media de dos muestras dadas e inferir si pertenecen a la misma distribución o no. \r\n",
    "### No implementamos la prueba Z cuando el tamaño de la muestra es menor a 30."
   ]
  },
  {
   "cell_type": "markdown",
   "metadata": {},
   "source": [
    "## hipotesis\r\n",
    "### No existe diferencias significativas entre los salarios entre hombres y mujeres"
   ]
  },
  {
   "cell_type": "code",
   "execution_count": 4,
   "metadata": {},
   "outputs": [
    {
     "name": "stdout",
     "output_type": "stream",
     "text": [
      "Z =  1.828 p =  0.06759726635832197\n"
     ]
    }
   ],
   "source": [
    "def twoSampZ (X1, X2, mudiff, sd1, sd2, n1, n2): \r\n",
    "    pooledSE = sqrt (sd1 ** 2 / n1 + sd2 ** 2 / n2) \r\n",
    "    z = ((X1 - X2) - mudiff) / pooledSE \r\n",
    "    pval = 2 * (1 - norm.cdf (abs (z))) \r\n",
    "    return round (z, 3), pval \r\n",
    "\r\n",
    "z, p = twoSampZ (M_mean, F_mean, 0, M_std, F_std, no_of_M, no_of_F)\r\n",
    "print('Z = ', z, 'p = ', p)"
   ]
  },
  {
   "cell_type": "code",
   "execution_count": 5,
   "metadata": {},
   "outputs": [
    {
     "name": "stdout",
     "output_type": "stream",
     "text": [
      "Como el valor de pvalue es mayor al margen de tolerancia, Aceptamos la hipotesis nula\n",
      "Por lo tanto llegamos a la conclusión de que NO existe una diferencia significativa entre los ingresos de hombres y mujeres\n"
     ]
    }
   ],
   "source": [
    "if p < 0.05:\r\n",
    "    print('Como el valor de pvalue es menor al margen de tolerancia, Rechazamos la hipotesis nula')\r\n",
    "    print('Por lo tanto llegamos a la conclusión de que existe una diferencia significativa entre los ingresos de hombres y mujeres')\r\n",
    "else:\r\n",
    "    print('Como el valor de pvalue es mayor al margen de tolerancia, Aceptamos la hipotesis nula')\r\n",
    "    print('Por lo tanto llegamos a la conclusión de que NO existe una diferencia significativa entre los ingresos de hombres y mujeres')\r\n"
   ]
  },
  {
   "cell_type": "markdown",
   "metadata": {},
   "source": [
    "# Prueba T\r\n",
    "\r\n",
    "### También se usa una prueba t para comparar la media de dos muestras dadas, como la prueba Z. Sin embargo, se implementa cuando el tamaño de la muestra es menor a 30. Se asume una distribución normal de la muestra. También puede ser de una o dos muestras. \r\n",
    "### El grado de libertad se calcula mediante n-1 donde n es el número de muestras."
   ]
  },
  {
   "cell_type": "code",
   "execution_count": 6,
   "metadata": {},
   "outputs": [
    {
     "name": "stdout",
     "output_type": "stream",
     "text": [
      "Z =  0.605 p =  0.5453075235582108\n"
     ]
    }
   ],
   "source": [
    "\r\n",
    "def twoSampT (X1, X2, mudiff, sd1, sd2, n1, n2): \r\n",
    "    pooledSE = sqrt (sd1 ** 2 / n1 + sd2 ** 2 / n2) \r\n",
    "    z = ((X1 - X2) - mudiff) / pooledSE \r\n",
    "    pval = 2 * (1 - norm.cdf (abs (z))) \r\n",
    "    return round (z, 3), pval \r\n",
    "\r\n",
    "z, p = twoSampZ (M_mean, F_mean, 0, M_std, F_std, 29, 29)\r\n",
    "print('Z = ', z, 'p = ', p)"
   ]
  },
  {
   "cell_type": "code",
   "execution_count": 28,
   "metadata": {},
   "outputs": [
    {
     "name": "stdout",
     "output_type": "stream",
     "text": [
      "Como el valor de pvalue es mayor al margen de tolerancia, Aceptamos la hipotesis nula\n",
      "Por lo tanto llegamos a la conclusión de que NO existe una diferencia significativa entre los ingresos de hombres y mujeres\n"
     ]
    }
   ],
   "source": [
    "if p < 0.05:\r\n",
    "    print('Como el valor de pvalue es menor al margen de tolerancia, Rechazamos la hipotesis nula')\r\n",
    "    print('Por lo tanto llegamos a la conclusión de que existe una diferencia significativa entre los ingresos de hombres y mujeres')\r\n",
    "else:\r\n",
    "    print('Como el valor de pvalue es mayor al margen de tolerancia, Aceptamos la hipotesis nula')\r\n",
    "    print('Por lo tanto llegamos a la conclusión de que NO existe una diferencia significativa entre los ingresos de hombres y mujeres')\r\n"
   ]
  },
  {
   "cell_type": "markdown",
   "metadata": {},
   "source": [
    "# Prueba de Correlación\r\n",
    "### Una prueba de correlación es una métrica para evaluar hasta qué punto las variables están asociadas entre sí.\r\n",
    "### Tenga en cuenta que las variables deben ser continuas para aplicar la prueba de correlación.\r\n",
    "### Existen varios métodos para las pruebas de correlación, es decir, covarianza, coeficiente de correlación de Pearson, coeficiente de correlación de rango de Spearman, etc.\r\n"
   ]
  },
  {
   "cell_type": "markdown",
   "metadata": {},
   "source": [
    "# Coeficiente de correlación de Pearson\r\n",
    "### Se utiliza para medir la correlación lineal entre 2 variables\r\n",
    "### Sus valores se encuentran entre -1 y 1.\r\n",
    "### Si el valor de r es 0, significa que no hay relación entre las variables X e Y.\r\n",
    "### Si el valor de r está entre 0 y 1, significa que hay una relación positiva entre X e Y, y su fuerza aumenta de 0 a 1. Relación positiva significa que si el valor de X aumenta, el valor de Y también aumenta.\r\n",
    "### Si el valor de r está entre -1 y 0, significa que hay una relación negativa entre X e Y, y su fuerza disminuye de -1 a 0. Relación negativa significa que si el valor de X aumenta, el valor de Y disminuye."
   ]
  },
  {
   "cell_type": "markdown",
   "metadata": {},
   "source": [
    "### usaremos dos variables o características continuas: monto del préstamo e ingresos del solicitante . Concluiremos si existe una relación lineal entre el monto del préstamo y los ingresos del solicitante"
   ]
  },
  {
   "cell_type": "code",
   "execution_count": 42,
   "metadata": {},
   "outputs": [
    {
     "name": "stdout",
     "output_type": "stream",
     "text": [
      "<class 'pandas.core.frame.DataFrame'>\n",
      "RangeIndex: 614 entries, 0 to 613\n",
      "Data columns (total 13 columns):\n",
      " #   Column             Non-Null Count  Dtype  \n",
      "---  ------             --------------  -----  \n",
      " 0   Loan_ID            614 non-null    object \n",
      " 1   Gender             601 non-null    object \n",
      " 2   Married            611 non-null    object \n",
      " 3   Dependents         599 non-null    object \n",
      " 4   Education          614 non-null    object \n",
      " 5   Self_Employed      582 non-null    object \n",
      " 6   ApplicantIncome    614 non-null    int64  \n",
      " 7   CoapplicantIncome  614 non-null    float64\n",
      " 8   LoanAmount         592 non-null    float64\n",
      " 9   Loan_Amount_Term   600 non-null    float64\n",
      " 10  Credit_History     564 non-null    float64\n",
      " 11  Property_Area      614 non-null    object \n",
      " 12  Loan_Status        614 non-null    object \n",
      "dtypes: float64(4), int64(1), object(8)\n",
      "memory usage: 62.5+ KB\n"
     ]
    }
   ],
   "source": [
    "df.info()"
   ]
  },
  {
   "cell_type": "markdown",
   "metadata": {},
   "source": [
    "### como podemos apreciar hay algunos valores faltantes en la columna LoanAmount, primero, los llenaremos con el valor medio"
   ]
  },
  {
   "cell_type": "code",
   "execution_count": 53,
   "metadata": {},
   "outputs": [],
   "source": [
    "df['LoanAmount'] = df['LoanAmount'].fillna(df['LoanAmount'].mean())"
   ]
  },
  {
   "cell_type": "code",
   "execution_count": 54,
   "metadata": {},
   "outputs": [
    {
     "data": {
      "text/plain": [
       "Loan_ID               0\n",
       "Gender               13\n",
       "Married               3\n",
       "Dependents           15\n",
       "Education             0\n",
       "Self_Employed        32\n",
       "ApplicantIncome       0\n",
       "CoapplicantIncome     0\n",
       "LoanAmount            0\n",
       "Loan_Amount_Term     14\n",
       "Credit_History       50\n",
       "Property_Area         0\n",
       "Loan_Status           0\n",
       "dtype: int64"
      ]
     },
     "execution_count": 54,
     "metadata": {},
     "output_type": "execute_result"
    }
   ],
   "source": [
    "df.isnull().sum()"
   ]
  },
  {
   "cell_type": "code",
   "execution_count": 55,
   "metadata": {},
   "outputs": [
    {
     "name": "stdout",
     "output_type": "stream",
     "text": [
      "[[1.         0.56562088]\n",
      " [0.56562088 1.        ]]\n"
     ]
    }
   ],
   "source": [
    "# calculamos el coeficiente de correlación\r\n",
    "pcc = np.corrcoef (df.ApplicantIncome, df.LoanAmount.astype(int))\r\n",
    "print(pcc)"
   ]
  },
  {
   "cell_type": "markdown",
   "metadata": {},
   "source": [
    "### Los valores de las diagonales indican la correlación de características con ellos mismos. 0.56 representan que existe alguna correlación entre las dos características."
   ]
  },
  {
   "cell_type": "code",
   "execution_count": 61,
   "metadata": {},
   "outputs": [
    {
     "data": {
      "text/plain": [
       "<AxesSubplot:xlabel='LoanAmount', ylabel='ApplicantIncome'>"
      ]
     },
     "execution_count": 61,
     "metadata": {},
     "output_type": "execute_result"
    },
    {
     "data": {
      "image/png": "[encoded data removed]",
      "text/plain": [
       "<Figure size 432x288 with 1 Axes>"
      ]
     },
     "metadata": {
      "needs_background": "light"
     },
     "output_type": "display_data"
    }
   ],
   "source": [
    "# graficamos la relación\r\n",
    "sns.lineplot(data=df, x='LoanAmount', y='ApplicantIncome');"
   ]
  },
  {
   "cell_type": "markdown",
   "metadata": {},
   "source": [
    "# Prueba ANOVA\r\n",
    "### ANOVA significa Análisis de varianza. Como sugiere el nombre, utiliza la varianza como parámetro para comparar múltiples grupos independientes. \r\n",
    "### ANOVA puede ser ANOVA unidireccional o ANOVA bidireccional. El ANOVA de una vía se aplica cuando hay tres o más grupos independientes de una variable"
   ]
  },
  {
   "cell_type": "markdown",
   "metadata": {},
   "source": [
    "### usaremos la  variable categórica Dependientes y la variable continua ApplicantIncome . Los dependientes tiene 4 grupos: 0,1,2,3+\r\n",
    "\r\n",
    "### Hipótesis nula: no existe una diferencia significativa entre los ingresos medios entre los diferentes grupos de dependientes."
   ]
  },
  {
   "cell_type": "code",
   "execution_count": 70,
   "metadata": {},
   "outputs": [
    {
     "name": "stdout",
     "output_type": "stream",
     "text": [
      "object\n",
      "15\n"
     ]
    }
   ],
   "source": [
    "## revisemos el tipo de datos del campo Dependientes\r\n",
    "print(df.Dependents.dtype)\r\n",
    "print(df.Dependents.isnull().sum())"
   ]
  },
  {
   "cell_type": "code",
   "execution_count": 71,
   "metadata": {},
   "outputs": [],
   "source": [
    "df.Dependents = df.Dependents.fillna('0')"
   ]
  },
  {
   "cell_type": "code",
   "execution_count": 72,
   "metadata": {},
   "outputs": [
    {
     "name": "stdout",
     "output_type": "stream",
     "text": [
      "0\n"
     ]
    }
   ],
   "source": [
    "print(df.Dependents.isnull().sum())"
   ]
  },
  {
   "cell_type": "code",
   "execution_count": 84,
   "metadata": {},
   "outputs": [
    {
     "data": {
      "text/html": [
       "<div>\n",
       "<style scoped>\n",
       "    .dataframe tbody tr th:only-of-type {\n",
       "        vertical-align: middle;\n",
       "    }\n",
       "\n",
       "    .dataframe tbody tr th {\n",
       "        vertical-align: top;\n",
       "    }\n",
       "\n",
       "    .dataframe thead th {\n",
       "        text-align: right;\n",
       "    }\n",
       "</style>\n",
       "<table border=\"1\" class=\"dataframe\">\n",
       "  <thead>\n",
       "    <tr style=\"text-align: right;\">\n",
       "      <th></th>\n",
       "      <th>ApplicantIncome</th>\n",
       "      <th>Dependents</th>\n",
       "    </tr>\n",
       "  </thead>\n",
       "  <tbody>\n",
       "    <tr>\n",
       "      <th>0</th>\n",
       "      <td>5849</td>\n",
       "      <td>0</td>\n",
       "    </tr>\n",
       "    <tr>\n",
       "      <th>1</th>\n",
       "      <td>4583</td>\n",
       "      <td>1</td>\n",
       "    </tr>\n",
       "    <tr>\n",
       "      <th>2</th>\n",
       "      <td>3000</td>\n",
       "      <td>0</td>\n",
       "    </tr>\n",
       "    <tr>\n",
       "      <th>3</th>\n",
       "      <td>2583</td>\n",
       "      <td>0</td>\n",
       "    </tr>\n",
       "    <tr>\n",
       "      <th>4</th>\n",
       "      <td>6000</td>\n",
       "      <td>0</td>\n",
       "    </tr>\n",
       "  </tbody>\n",
       "</table>\n",
       "</div>"
      ],
      "text/plain": [
       "   ApplicantIncome Dependents\n",
       "0             5849          0\n",
       "1             4583          1\n",
       "2             3000          0\n",
       "3             2583          0\n",
       "4             6000          0"
      ]
     },
     "execution_count": 84,
     "metadata": {},
     "output_type": "execute_result"
    }
   ],
   "source": [
    "# creemos un dataset con los taos de dependientes y ingresos del aplicante\r\n",
    "df_anova =  df[['ApplicantIncome','Dependents']]\r\n",
    "df_anova.head()"
   ]
  },
  {
   "cell_type": "code",
   "execution_count": 85,
   "metadata": {},
   "outputs": [
    {
     "data": {
      "text/plain": [
       "array(['0', '1', '2', '3+'], dtype=object)"
      ]
     },
     "execution_count": 85,
     "metadata": {},
     "output_type": "execute_result"
    }
   ],
   "source": [
    "grps = pd.unique(df.Dependents)\r\n",
    "grps"
   ]
  },
  {
   "cell_type": "code",
   "execution_count": 92,
   "metadata": {},
   "outputs": [
    {
     "data": {
      "text/plain": [
       "0      5849\n",
       "2      3000\n",
       "3      2583\n",
       "4      6000\n",
       "6      2333\n",
       "       ... \n",
       "603    3676\n",
       "605    2400\n",
       "608    3232\n",
       "609    2900\n",
       "613    4583\n",
       "Name: ApplicantIncome, Length: 360, dtype: int64"
      ]
     },
     "execution_count": 92,
     "metadata": {},
     "output_type": "execute_result"
    }
   ],
   "source": [
    "d_data = {grp:df_anova['ApplicantIncome'][df_anova.Dependents == grp] for grp in grps}\r\n",
    "first_value = list(d_data.values())[0]\r\n",
    "first_value"
   ]
  },
  {
   "cell_type": "code",
   "execution_count": 93,
   "metadata": {},
   "outputs": [
    {
     "name": "stdout",
     "output_type": "stream",
     "text": [
      "F = 5.955112389949444, p=0.0005260114222572804\n"
     ]
    }
   ],
   "source": [
    "F, p = stats.f_oneway(d_data['0'], d_data['1'], d_data['2'], d_data['3+'])\r\n",
    "print(f'F = {F}, p={p}')\r\n"
   ]
  },
  {
   "cell_type": "code",
   "execution_count": 97,
   "metadata": {},
   "outputs": [
    {
     "name": "stdout",
     "output_type": "stream",
     "text": [
      "Como el valor de pvalue es menor al margen de tolerancia, Rechazamos la hipotesis nula\n",
      "Por lo tanto llegamos a la conclusión de que SI existe una diferencia significativa entre los ingresos medios entre los diferentes grupos de dependientes.\n"
     ]
    }
   ],
   "source": [
    "if p < 0.05:\r\n",
    "    print('Como el valor de pvalue es menor al margen de tolerancia, Rechazamos la hipotesis nula')\r\n",
    "    print('Por lo tanto llegamos a la conclusión de que SI existe una diferencia significativa entre los ingresos medios entre los diferentes grupos de dependientes.')\r\n",
    "else:\r\n",
    "    print('Como el valor de pvalue es mayor al margen de tolerancia, Aceptamos la hipotesis nula')\r\n",
    "    print('Por lo tanto llegamos a la conclusión de que NO existe una diferencia significativa entre los ingresos medios entre los diferentes grupos de dependientes.')"
   ]
  },
  {
   "cell_type": "markdown",
   "metadata": {},
   "source": [
    "# Pueba de Chi-Cuadrado\r\n",
    "\r\n",
    "### Esta prueba se aplica cuando tiene dos variables categóricas de una población. \r\n",
    "### Se utiliza para determinar si existe una asociación o relación significativa entre las dos variables.\r\n",
    "\r\n",
    "### Hay 2 tipos de pruebas de chi-cuadrado: bondad de ajuste de chi-cuadrado y prueba de chi-cuadrado para independencia, implementaremos esta última.\r\n",
    "### El grado de libertad en la prueba de chi-cuadrado se calcula mediante (n-1) * (m-1) donde nym son números de filas y columnas respectivamente."
   ]
  },
  {
   "cell_type": "markdown",
   "metadata": {},
   "source": [
    "### Usaremos dos características categóricas  Género y Estado del préstamo y encontraremos si existe una asociación entre ellas usando la prueba de chi-cuadrado.\r\n",
    "### Hipótesis nula: no existe una asociación significativa entre las características de género y estado del préstamo."
   ]
  },
  {
   "cell_type": "code",
   "execution_count": 134,
   "metadata": {},
   "outputs": [
    {
     "data": {
      "text/html": [
       "<div>\n",
       "<style scoped>\n",
       "    .dataframe tbody tr th:only-of-type {\n",
       "        vertical-align: middle;\n",
       "    }\n",
       "\n",
       "    .dataframe tbody tr th {\n",
       "        vertical-align: top;\n",
       "    }\n",
       "\n",
       "    .dataframe thead th {\n",
       "        text-align: right;\n",
       "    }\n",
       "</style>\n",
       "<table border=\"1\" class=\"dataframe\">\n",
       "  <thead>\n",
       "    <tr style=\"text-align: right;\">\n",
       "      <th></th>\n",
       "      <th>Gender</th>\n",
       "      <th>Loan_Status</th>\n",
       "    </tr>\n",
       "  </thead>\n",
       "  <tbody>\n",
       "    <tr>\n",
       "      <th>0</th>\n",
       "      <td>Male</td>\n",
       "      <td>Y</td>\n",
       "    </tr>\n",
       "    <tr>\n",
       "      <th>1</th>\n",
       "      <td>Male</td>\n",
       "      <td>N</td>\n",
       "    </tr>\n",
       "    <tr>\n",
       "      <th>2</th>\n",
       "      <td>Male</td>\n",
       "      <td>Y</td>\n",
       "    </tr>\n",
       "    <tr>\n",
       "      <th>3</th>\n",
       "      <td>Male</td>\n",
       "      <td>Y</td>\n",
       "    </tr>\n",
       "    <tr>\n",
       "      <th>4</th>\n",
       "      <td>Male</td>\n",
       "      <td>Y</td>\n",
       "    </tr>\n",
       "    <tr>\n",
       "      <th>...</th>\n",
       "      <td>...</td>\n",
       "      <td>...</td>\n",
       "    </tr>\n",
       "    <tr>\n",
       "      <th>609</th>\n",
       "      <td>Female</td>\n",
       "      <td>Y</td>\n",
       "    </tr>\n",
       "    <tr>\n",
       "      <th>610</th>\n",
       "      <td>Male</td>\n",
       "      <td>Y</td>\n",
       "    </tr>\n",
       "    <tr>\n",
       "      <th>611</th>\n",
       "      <td>Male</td>\n",
       "      <td>Y</td>\n",
       "    </tr>\n",
       "    <tr>\n",
       "      <th>612</th>\n",
       "      <td>Male</td>\n",
       "      <td>Y</td>\n",
       "    </tr>\n",
       "    <tr>\n",
       "      <th>613</th>\n",
       "      <td>Female</td>\n",
       "      <td>N</td>\n",
       "    </tr>\n",
       "  </tbody>\n",
       "</table>\n",
       "<p>614 rows × 2 columns</p>\n",
       "</div>"
      ],
      "text/plain": [
       "     Gender Loan_Status\n",
       "0      Male           Y\n",
       "1      Male           N\n",
       "2      Male           Y\n",
       "3      Male           Y\n",
       "4      Male           Y\n",
       "..      ...         ...\n",
       "609  Female           Y\n",
       "610    Male           Y\n",
       "611    Male           Y\n",
       "612    Male           Y\n",
       "613  Female           N\n",
       "\n",
       "[614 rows x 2 columns]"
      ]
     },
     "execution_count": 134,
     "metadata": {},
     "output_type": "execute_result"
    }
   ],
   "source": [
    "# creamos el dataset con los datos a analizar\r\n",
    "data = df[['Gender','Loan_Status']]\r\n",
    "data"
   ]
  },
  {
   "cell_type": "code",
   "execution_count": 135,
   "metadata": {},
   "outputs": [
    {
     "name": "stdout",
     "output_type": "stream",
     "text": [
      "object\n",
      "object\n",
      "Gender         13\n",
      "Loan_Status     0\n",
      "dtype: int64\n"
     ]
    }
   ],
   "source": [
    "# 1 steap review data type\r\n",
    "print(data.Gender.dtype)\r\n",
    "print(data.Loan_Status.dtype)\r\n",
    "print(data.isnull().sum())"
   ]
  },
  {
   "cell_type": "code",
   "execution_count": 144,
   "metadata": {},
   "outputs": [],
   "source": [
    "# fill empty data with mode\r\n",
    "data = data.copy()\r\n",
    "data['Gender'].fillna(data['Gender'].mode()[0], inplace=True)\r\n"
   ]
  },
  {
   "cell_type": "code",
   "execution_count": 145,
   "metadata": {},
   "outputs": [
    {
     "name": "stdout",
     "output_type": "stream",
     "text": [
      "<class 'pandas.core.frame.DataFrame'>\n",
      "RangeIndex: 614 entries, 0 to 613\n",
      "Data columns (total 2 columns):\n",
      " #   Column       Non-Null Count  Dtype \n",
      "---  ------       --------------  ----- \n",
      " 0   Gender       614 non-null    object\n",
      " 1   Loan_Status  614 non-null    object\n",
      "dtypes: object(2)\n",
      "memory usage: 9.7+ KB\n"
     ]
    }
   ],
   "source": [
    "data.info()"
   ]
  },
  {
   "cell_type": "code",
   "execution_count": 141,
   "metadata": {},
   "outputs": [
    {
     "data": {
      "text/html": [
       "<div>\n",
       "<style scoped>\n",
       "    .dataframe tbody tr th:only-of-type {\n",
       "        vertical-align: middle;\n",
       "    }\n",
       "\n",
       "    .dataframe tbody tr th {\n",
       "        vertical-align: top;\n",
       "    }\n",
       "\n",
       "    .dataframe thead th {\n",
       "        text-align: right;\n",
       "    }\n",
       "</style>\n",
       "<table border=\"1\" class=\"dataframe\">\n",
       "  <thead>\n",
       "    <tr style=\"text-align: right;\">\n",
       "      <th>Loan_Status</th>\n",
       "      <th>N</th>\n",
       "      <th>Y</th>\n",
       "    </tr>\n",
       "    <tr>\n",
       "      <th>Gender</th>\n",
       "      <th></th>\n",
       "      <th></th>\n",
       "    </tr>\n",
       "  </thead>\n",
       "  <tbody>\n",
       "    <tr>\n",
       "      <th>Female</th>\n",
       "      <td>37</td>\n",
       "      <td>75</td>\n",
       "    </tr>\n",
       "    <tr>\n",
       "      <th>Male</th>\n",
       "      <td>155</td>\n",
       "      <td>347</td>\n",
       "    </tr>\n",
       "  </tbody>\n",
       "</table>\n",
       "</div>"
      ],
      "text/plain": [
       "Loan_Status    N    Y\n",
       "Gender               \n",
       "Female        37   75\n",
       "Male         155  347"
      ]
     },
     "execution_count": 141,
     "metadata": {},
     "output_type": "execute_result"
    }
   ],
   "source": [
    "chiset = pd.crosstab(data.Gender, data.Loan_Status)\r\n",
    "chiset"
   ]
  },
  {
   "cell_type": "code",
   "execution_count": 150,
   "metadata": {},
   "outputs": [
    {
     "data": {
      "text/plain": [
       "array([[ 37,  75],\n",
       "       [155, 347]], dtype=int64)"
      ]
     },
     "execution_count": 150,
     "metadata": {},
     "output_type": "execute_result"
    }
   ],
   "source": [
    "observed = chiset.values\r\n",
    "observed"
   ]
  },
  {
   "cell_type": "code",
   "execution_count": 160,
   "metadata": {},
   "outputs": [],
   "source": [
    "# Signifact level 5% \r\n",
    "alpha = 0.05"
   ]
  },
  {
   "cell_type": "code",
   "execution_count": 172,
   "metadata": {},
   "outputs": [
    {
     "data": {
      "text/plain": [
       "1"
      ]
     },
     "execution_count": 172,
     "metadata": {},
     "output_type": "execute_result"
    }
   ],
   "source": [
    "# Grado de libertad\r\n",
    "# El grado de libertad en la prueba de chi-cuadrado se calcula mediante (n-1) * (m-1) donde n y m son números de filas y columnas respectivamente.\r\n",
    "# (n-1) * (m-1)\r\n",
    "FG = (2-1) * (2-1)\r\n",
    "FG"
   ]
  },
  {
   "cell_type": "code",
   "execution_count": 159,
   "metadata": {},
   "outputs": [
    {
     "data": {
      "text/plain": [
       "(0.11087854691241235,\n",
       " 0.7391461310869638,\n",
       " 1,\n",
       " array([[ 35.0228013,  76.9771987],\n",
       "        [156.9771987, 345.0228013]]))"
      ]
     },
     "execution_count": 159,
     "metadata": {},
     "output_type": "execute_result"
    }
   ],
   "source": [
    "val = stats.chi2_contingency(chiset)\r\n",
    "val"
   ]
  },
  {
   "cell_type": "code",
   "execution_count": 148,
   "metadata": {},
   "outputs": [
    {
     "data": {
      "text/plain": [
       "array([[ 35.0228013,  76.9771987],\n",
       "       [156.9771987, 345.0228013]])"
      ]
     },
     "execution_count": 148,
     "metadata": {},
     "output_type": "execute_result"
    }
   ],
   "source": [
    "# expected value\r\n",
    "expected = val[3]\r\n",
    "expected"
   ]
  },
  {
   "cell_type": "code",
   "execution_count": 149,
   "metadata": {},
   "outputs": [],
   "source": [
    "from scipy.stats import chi2"
   ]
  },
  {
   "cell_type": "code",
   "execution_count": 174,
   "metadata": {},
   "outputs": [],
   "source": [
    "chi_square=sum([(o-e)**2./e for o,e in zip(observed,expected)])\r\n",
    "chi_square_statistic=chi_square[0]+chi_square[1]\r\n",
    "p_value=1-chi2.cdf(x=chi_square_statistic, df=FG)"
   ]
  },
  {
   "cell_type": "code",
   "execution_count": 1,
   "metadata": {},
   "outputs": [
    {
     "ename": "NameError",
     "evalue": "name 'chi_square_statistic' is not defined",
     "output_type": "error",
     "traceback": [
      "\u001b[1;31m---------------------------------------------------------------------------\u001b[0m",
      "\u001b[1;31mNameError\u001b[0m                                 Traceback (most recent call last)",
      "\u001b[1;32m<ipython-input-1-083bec01388c>\u001b[0m in \u001b[0;36m<module>\u001b[1;34m\u001b[0m\n\u001b[1;32m----> 1\u001b[1;33m \u001b[0mprint\u001b[0m\u001b[1;33m(\u001b[0m\u001b[1;34m\"chi-2 statistic :\"\u001b[0m\u001b[1;33m,\u001b[0m \u001b[0mchi_square_statistic\u001b[0m\u001b[1;33m)\u001b[0m\u001b[1;33m\u001b[0m\u001b[1;33m\u001b[0m\u001b[0m\n\u001b[0m\u001b[0;32m      2\u001b[0m \u001b[0mprint\u001b[0m\u001b[1;33m(\u001b[0m\u001b[1;34m'Significance level: '\u001b[0m\u001b[1;33m,\u001b[0m \u001b[0malpha\u001b[0m\u001b[1;33m)\u001b[0m\u001b[1;33m\u001b[0m\u001b[1;33m\u001b[0m\u001b[0m\n\u001b[0;32m      3\u001b[0m \u001b[0mprint\u001b[0m\u001b[1;33m(\u001b[0m\u001b[1;34m'Degree of Freedom: '\u001b[0m\u001b[1;33m,\u001b[0m \u001b[0mFG\u001b[0m\u001b[1;33m)\u001b[0m\u001b[1;33m\u001b[0m\u001b[1;33m\u001b[0m\u001b[0m\n\u001b[0;32m      4\u001b[0m \u001b[0mprint\u001b[0m\u001b[1;33m(\u001b[0m\u001b[1;34m'p-value:'\u001b[0m\u001b[1;33m,\u001b[0m \u001b[0mp_value\u001b[0m\u001b[1;33m)\u001b[0m\u001b[1;33m\u001b[0m\u001b[1;33m\u001b[0m\u001b[0m\n",
      "\u001b[1;31mNameError\u001b[0m: name 'chi_square_statistic' is not defined"
     ]
    }
   ],
   "source": [
    "print(\"chi-2 statistic :\", chi_square_statistic)\r\n",
    "print('Significance level: ', alpha)\r\n",
    "print('Degree of Freedom: ', FG)\r\n",
    "print('p-value:', p_value)"
   ]
  },
  {
   "cell_type": "code",
   "execution_count": 179,
   "metadata": {},
   "outputs": [
    {
     "name": "stdout",
     "output_type": "stream",
     "text": [
      "Como el valor de pvalue es mayor al margen de tolerancia, Aceptamos la hipotesis nula\n",
      "Por lo tanto llegamos a la conclusión de que SI existe una asociación significativa entre las características de género y estado del préstamo.\n"
     ]
    }
   ],
   "source": [
    "if p_value < 0.05:\r\n",
    "    print('Como el valor de pvalue es menor al margen de tolerancia, Rechazamos la hipotesis nula')\r\n",
    "    print('Por lo tanto llegamos a la conclusión de que NO existe una asociación significativa entre las características de género y estado del préstamo.')\r\n",
    "else:\r\n",
    "    print('Como el valor de pvalue es mayor al margen de tolerancia, Aceptamos la hipotesis nula')\r\n",
    "    print('Por lo tanto llegamos a la conclusión de que SI existe una asociación significativa entre las características de género y estado del préstamo.')"
   ]
  },
  {
   "cell_type": "code",
   "execution_count": null,
   "metadata": {},
   "outputs": [],
   "source": []
  }
 ],
 "metadata": {
  "interpreter": {
   "hash": "376f5b0795f81aa7b5d99e448d6274743a66c9892fd26cf11e505993f41df5fa"
  },
  "kernelspec": {
   "display_name": "Python 3.9.6 64-bit",
   "name": "python3"
  },
  "language_info": {
   "codemirror_mode": {
    "name": "ipython",
    "version": 3
   },
   "file_extension": ".py",
   "mimetype": "text/x-python",
   "name": "python",
   "nbconvert_exporter": "python",
   "pygments_lexer": "ipython3",
   "version": "3.9.6"
  },
  "orig_nbformat": 4
 },
 "nbformat": 4,
 "nbformat_minor": 2
}