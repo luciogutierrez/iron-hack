{
 "cells": [
  {
   "cell_type": "code",
   "execution_count": 1,
   "source": [
    "import pandas as pd\r\n",
    "import numpy as np\r\n",
    "import matplotlib.pyplot as plt\r\n",
    "import seaborn as sns"
   ],
   "outputs": [],
   "metadata": {}
  },
  {
   "cell_type": "code",
   "execution_count": 2,
   "source": [
    "data = pd.read_csv('../../datasets/kickstarter.csv', nrows=10000)"
   ],
   "outputs": [],
   "metadata": {}
  },
  {
   "cell_type": "code",
   "execution_count": 3,
   "source": [
    "# Configuraciones generales de Pandas\r\n",
    "pd.options.display.float_format = '{:.4f}'.format\r\n",
    "pd.set_option(\"display.max_rows\", 30)\r\n",
    "pd.set_option(\"display.max_columns\", 30)\r\n",
    "pd.set_option('display.latex.repr', True)\r\n",
    "pd.set_option('display.notebook_repr_html', True)\r\n",
    "pd.set_option('display.width', None)"
   ],
   "outputs": [],
   "metadata": {}
  },
  {
   "cell_type": "code",
   "execution_count": 4,
   "source": [
    "data.head()"
   ],
   "outputs": [
    {
     "output_type": "execute_result",
     "data": {
      "text/plain": [
       "           ID                                               name  \\\n",
       "0  1000002330                    The Songs of Adelaide & Abullah   \n",
       "1  1000003930      Greeting From Earth: ZGAC Arts Capsule For ET   \n",
       "2  1000004038                                     Where is Hank?   \n",
       "3  1000007540  ToshiCapital Rekordz Needs Help to Complete Album   \n",
       "4  1000011046  Community Film Project: The Art of Neighborhoo...   \n",
       "\n",
       "         category main_category currency    deadline       goal  \\\n",
       "0          Poetry    Publishing      GBP  2015-10-09  1000.0000   \n",
       "1  Narrative Film  Film & Video      USD  2017-11-01 30000.0000   \n",
       "2  Narrative Film  Film & Video      USD  2013-02-26 45000.0000   \n",
       "3           Music         Music      USD  2012-04-16  5000.0000   \n",
       "4    Film & Video  Film & Video      USD  2015-08-29 19500.0000   \n",
       "\n",
       "              launched   pledged     state  backers country  usd pledged  \\\n",
       "0  2015-08-11 12:12:28    0.0000    failed        0      GB       0.0000   \n",
       "1  2017-09-02 04:43:57 2421.0000    failed       15      US     100.0000   \n",
       "2  2013-01-12 00:20:50  220.0000    failed        3      US     220.0000   \n",
       "3  2012-03-17 03:24:11    1.0000    failed        1      US       1.0000   \n",
       "4  2015-07-04 08:35:03 1283.0000  canceled       14      US    1283.0000   \n",
       "\n",
       "   usd_pledged_real  usd_goal_real  \n",
       "0            0.0000      1533.9500  \n",
       "1         2421.0000     30000.0000  \n",
       "2          220.0000     45000.0000  \n",
       "3            1.0000      5000.0000  \n",
       "4         1283.0000     19500.0000  "
      ],
      "text/latex": [
       "\\begin{tabular}{lrlllllrlrlrlrrr}\n",
       "\\toprule\n",
       "{} &          ID &                                               name &        category & main\\_category & currency &    deadline &       goal &             launched &   pledged &     state &  backers & country &  usd pledged &  usd\\_pledged\\_real &  usd\\_goal\\_real \\\\\n",
       "\\midrule\n",
       "0 &  1000002330 &                    The Songs of Adelaide \\& Abullah &          Poetry &    Publishing &      GBP &  2015-10-09 &  1000.0000 &  2015-08-11 12:12:28 &    0.0000 &    failed &        0 &      GB &       0.0000 &            0.0000 &      1533.9500 \\\\\n",
       "1 &  1000003930 &      Greeting From Earth: ZGAC Arts Capsule For ET &  Narrative Film &  Film \\& Video &      USD &  2017-11-01 & 30000.0000 &  2017-09-02 04:43:57 & 2421.0000 &    failed &       15 &      US &     100.0000 &         2421.0000 &     30000.0000 \\\\\n",
       "2 &  1000004038 &                                     Where is Hank? &  Narrative Film &  Film \\& Video &      USD &  2013-02-26 & 45000.0000 &  2013-01-12 00:20:50 &  220.0000 &    failed &        3 &      US &     220.0000 &          220.0000 &     45000.0000 \\\\\n",
       "3 &  1000007540 &  ToshiCapital Rekordz Needs Help to Complete Album &           Music &         Music &      USD &  2012-04-16 &  5000.0000 &  2012-03-17 03:24:11 &    1.0000 &    failed &        1 &      US &       1.0000 &            1.0000 &      5000.0000 \\\\\n",
       "4 &  1000011046 &  Community Film Project: The Art of Neighborhoo... &    Film \\& Video &  Film \\& Video &      USD &  2015-08-29 & 19500.0000 &  2015-07-04 08:35:03 & 1283.0000 &  canceled &       14 &      US &    1283.0000 &         1283.0000 &     19500.0000 \\\\\n",
       "\\bottomrule\n",
       "\\end{tabular}\n"
      ],
      "text/html": [
       "<div>\n",
       "<style scoped>\n",
       "    .dataframe tbody tr th:only-of-type {\n",
       "        vertical-align: middle;\n",
       "    }\n",
       "\n",
       "    .dataframe tbody tr th {\n",
       "        vertical-align: top;\n",
       "    }\n",
       "\n",
       "    .dataframe thead th {\n",
       "        text-align: right;\n",
       "    }\n",
       "</style>\n",
       "<table border=\"1\" class=\"dataframe\">\n",
       "  <thead>\n",
       "    <tr style=\"text-align: right;\">\n",
       "      <th></th>\n",
       "      <th>ID</th>\n",
       "      <th>name</th>\n",
       "      <th>category</th>\n",
       "      <th>main_category</th>\n",
       "      <th>currency</th>\n",
       "      <th>deadline</th>\n",
       "      <th>goal</th>\n",
       "      <th>launched</th>\n",
       "      <th>pledged</th>\n",
       "      <th>state</th>\n",
       "      <th>backers</th>\n",
       "      <th>country</th>\n",
       "      <th>usd pledged</th>\n",
       "      <th>usd_pledged_real</th>\n",
       "      <th>usd_goal_real</th>\n",
       "    </tr>\n",
       "  </thead>\n",
       "  <tbody>\n",
       "    <tr>\n",
       "      <th>0</th>\n",
       "      <td>1000002330</td>\n",
       "      <td>The Songs of Adelaide &amp; Abullah</td>\n",
       "      <td>Poetry</td>\n",
       "      <td>Publishing</td>\n",
       "      <td>GBP</td>\n",
       "      <td>2015-10-09</td>\n",
       "      <td>1000.0000</td>\n",
       "      <td>2015-08-11 12:12:28</td>\n",
       "      <td>0.0000</td>\n",
       "      <td>failed</td>\n",
       "      <td>0</td>\n",
       "      <td>GB</td>\n",
       "      <td>0.0000</td>\n",
       "      <td>0.0000</td>\n",
       "      <td>1533.9500</td>\n",
       "    </tr>\n",
       "    <tr>\n",
       "      <th>1</th>\n",
       "      <td>1000003930</td>\n",
       "      <td>Greeting From Earth: ZGAC Arts Capsule For ET</td>\n",
       "      <td>Narrative Film</td>\n",
       "      <td>Film &amp; Video</td>\n",
       "      <td>USD</td>\n",
       "      <td>2017-11-01</td>\n",
       "      <td>30000.0000</td>\n",
       "      <td>2017-09-02 04:43:57</td>\n",
       "      <td>2421.0000</td>\n",
       "      <td>failed</td>\n",
       "      <td>15</td>\n",
       "      <td>US</td>\n",
       "      <td>100.0000</td>\n",
       "      <td>2421.0000</td>\n",
       "      <td>30000.0000</td>\n",
       "    </tr>\n",
       "    <tr>\n",
       "      <th>2</th>\n",
       "      <td>1000004038</td>\n",
       "      <td>Where is Hank?</td>\n",
       "      <td>Narrative Film</td>\n",
       "      <td>Film &amp; Video</td>\n",
       "      <td>USD</td>\n",
       "      <td>2013-02-26</td>\n",
       "      <td>45000.0000</td>\n",
       "      <td>2013-01-12 00:20:50</td>\n",
       "      <td>220.0000</td>\n",
       "      <td>failed</td>\n",
       "      <td>3</td>\n",
       "      <td>US</td>\n",
       "      <td>220.0000</td>\n",
       "      <td>220.0000</td>\n",
       "      <td>45000.0000</td>\n",
       "    </tr>\n",
       "    <tr>\n",
       "      <th>3</th>\n",
       "      <td>1000007540</td>\n",
       "      <td>ToshiCapital Rekordz Needs Help to Complete Album</td>\n",
       "      <td>Music</td>\n",
       "      <td>Music</td>\n",
       "      <td>USD</td>\n",
       "      <td>2012-04-16</td>\n",
       "      <td>5000.0000</td>\n",
       "      <td>2012-03-17 03:24:11</td>\n",
       "      <td>1.0000</td>\n",
       "      <td>failed</td>\n",
       "      <td>1</td>\n",
       "      <td>US</td>\n",
       "      <td>1.0000</td>\n",
       "      <td>1.0000</td>\n",
       "      <td>5000.0000</td>\n",
       "    </tr>\n",
       "    <tr>\n",
       "      <th>4</th>\n",
       "      <td>1000011046</td>\n",
       "      <td>Community Film Project: The Art of Neighborhoo...</td>\n",
       "      <td>Film &amp; Video</td>\n",
       "      <td>Film &amp; Video</td>\n",
       "      <td>USD</td>\n",
       "      <td>2015-08-29</td>\n",
       "      <td>19500.0000</td>\n",
       "      <td>2015-07-04 08:35:03</td>\n",
       "      <td>1283.0000</td>\n",
       "      <td>canceled</td>\n",
       "      <td>14</td>\n",
       "      <td>US</td>\n",
       "      <td>1283.0000</td>\n",
       "      <td>1283.0000</td>\n",
       "      <td>19500.0000</td>\n",
       "    </tr>\n",
       "  </tbody>\n",
       "</table>\n",
       "</div>"
      ]
     },
     "metadata": {},
     "execution_count": 4
    }
   ],
   "metadata": {}
  },
  {
   "cell_type": "code",
   "execution_count": 5,
   "source": [
    "data.shape"
   ],
   "outputs": [
    {
     "output_type": "execute_result",
     "data": {
      "text/plain": [
       "(10000, 15)"
      ]
     },
     "metadata": {},
     "execution_count": 5
    }
   ],
   "metadata": {}
  },
  {
   "cell_type": "code",
   "execution_count": 6,
   "source": [
    "data.dtypes"
   ],
   "outputs": [
    {
     "output_type": "execute_result",
     "data": {
      "text/plain": [
       "ID                    int64\n",
       "name                 object\n",
       "category             object\n",
       "main_category        object\n",
       "currency             object\n",
       "deadline             object\n",
       "goal                float64\n",
       "launched             object\n",
       "pledged             float64\n",
       "state                object\n",
       "backers               int64\n",
       "country              object\n",
       "usd pledged         float64\n",
       "usd_pledged_real    float64\n",
       "usd_goal_real       float64\n",
       "dtype: object"
      ],
      "text/latex": [
       "\\begin{tabular}{ll}\n",
       "\\toprule\n",
       "{} &        0 \\\\\n",
       "\\midrule\n",
       "ID               &    int64 \\\\\n",
       "name             &   object \\\\\n",
       "category         &   object \\\\\n",
       "main\\_category    &   object \\\\\n",
       "currency         &   object \\\\\n",
       "deadline         &   object \\\\\n",
       "goal             &  float64 \\\\\n",
       "launched         &   object \\\\\n",
       "pledged          &  float64 \\\\\n",
       "state            &   object \\\\\n",
       "backers          &    int64 \\\\\n",
       "country          &   object \\\\\n",
       "usd pledged      &  float64 \\\\\n",
       "usd\\_pledged\\_real &  float64 \\\\\n",
       "usd\\_goal\\_real    &  float64 \\\\\n",
       "\\bottomrule\n",
       "\\end{tabular}\n"
      ]
     },
     "metadata": {},
     "execution_count": 6
    }
   ],
   "metadata": {}
  },
  {
   "cell_type": "code",
   "execution_count": 7,
   "source": [
    "# Explorando las columnas\r\n",
    "data.state.value_counts()"
   ],
   "outputs": [
    {
     "output_type": "execute_result",
     "data": {
      "text/plain": [
       "failed        5204\n",
       "successful    3565\n",
       "canceled      1006\n",
       "undefined       96\n",
       "live            83\n",
       "suspended       46\n",
       "Name: state, dtype: int64"
      ],
      "text/latex": [
       "\\begin{tabular}{lr}\n",
       "\\toprule\n",
       "{} &  state \\\\\n",
       "\\midrule\n",
       "failed     &   5204 \\\\\n",
       "successful &   3565 \\\\\n",
       "canceled   &   1006 \\\\\n",
       "undefined  &     96 \\\\\n",
       "live       &     83 \\\\\n",
       "suspended  &     46 \\\\\n",
       "\\bottomrule\n",
       "\\end{tabular}\n"
      ]
     },
     "metadata": {},
     "execution_count": 7
    }
   ],
   "metadata": {}
  },
  {
   "cell_type": "code",
   "execution_count": 8,
   "source": [
    "# Porcentaje de proyectos de cada grupo\r\n",
    "data.state.value_counts(normalize=True)"
   ],
   "outputs": [
    {
     "output_type": "execute_result",
     "data": {
      "text/plain": [
       "failed       0.5204\n",
       "successful   0.3565\n",
       "canceled     0.1006\n",
       "undefined    0.0096\n",
       "live         0.0083\n",
       "suspended    0.0046\n",
       "Name: state, dtype: float64"
      ],
      "text/latex": [
       "\\begin{tabular}{lr}\n",
       "\\toprule\n",
       "{} &  state \\\\\n",
       "\\midrule\n",
       "failed     & 0.5204 \\\\\n",
       "successful & 0.3565 \\\\\n",
       "canceled   & 0.1006 \\\\\n",
       "undefined  & 0.0096 \\\\\n",
       "live       & 0.0083 \\\\\n",
       "suspended  & 0.0046 \\\\\n",
       "\\bottomrule\n",
       "\\end{tabular}\n"
      ]
     },
     "metadata": {},
     "execution_count": 8
    }
   ],
   "metadata": {}
  },
  {
   "cell_type": "code",
   "execution_count": 9,
   "source": [
    "# el 52% han sido fallidos y el 35% exitoso, las otras clasificaciones no aportan al modelo por lo que las eliminaremos\r\n",
    "df_classify = data[data.state.isin(['failed','successful'])]\r\n",
    "df_classify.state.value_counts(normalize=True)"
   ],
   "outputs": [
    {
     "output_type": "execute_result",
     "data": {
      "text/plain": [
       "failed       0.5935\n",
       "successful   0.4065\n",
       "Name: state, dtype: float64"
      ],
      "text/latex": [
       "\\begin{tabular}{lr}\n",
       "\\toprule\n",
       "{} &  state \\\\\n",
       "\\midrule\n",
       "failed     & 0.5935 \\\\\n",
       "successful & 0.4065 \\\\\n",
       "\\bottomrule\n",
       "\\end{tabular}\n"
      ]
     },
     "metadata": {},
     "execution_count": 9
    }
   ],
   "metadata": {}
  },
  {
   "cell_type": "code",
   "execution_count": 10,
   "source": [
    "# Evaluar columna main_category\r\n",
    "df_classify.main_category.value_counts()"
   ],
   "outputs": [
    {
     "output_type": "execute_result",
     "data": {
      "text/plain": [
       "Film & Video    1506\n",
       "Music           1243\n",
       "Publishing       910\n",
       "Games            801\n",
       "Art              705\n",
       "Design           682\n",
       "Technology       681\n",
       "Food             561\n",
       "Fashion          504\n",
       "Theater          277\n",
       "Comics           268\n",
       "Photography      241\n",
       "Crafts           203\n",
       "Journalism        98\n",
       "Dance             89\n",
       "Name: main_category, dtype: int64"
      ],
      "text/latex": [
       "\\begin{tabular}{lr}\n",
       "\\toprule\n",
       "{} &  main\\_category \\\\\n",
       "\\midrule\n",
       "Film \\& Video &           1506 \\\\\n",
       "Music        &           1243 \\\\\n",
       "Publishing   &            910 \\\\\n",
       "Games        &            801 \\\\\n",
       "Art          &            705 \\\\\n",
       "Design       &            682 \\\\\n",
       "Technology   &            681 \\\\\n",
       "Food         &            561 \\\\\n",
       "Fashion      &            504 \\\\\n",
       "Theater      &            277 \\\\\n",
       "Comics       &            268 \\\\\n",
       "Photography  &            241 \\\\\n",
       "Crafts       &            203 \\\\\n",
       "Journalism   &             98 \\\\\n",
       "Dance        &             89 \\\\\n",
       "\\bottomrule\n",
       "\\end{tabular}\n"
      ]
     },
     "metadata": {},
     "execution_count": 10
    }
   ],
   "metadata": {}
  },
  {
   "cell_type": "code",
   "execution_count": 11,
   "source": [
    "# usemos la función crosstab para ver que tan exitosos son los proyectos de cada categoría\r\n",
    "pd.crosstab(df_classify.main_category, df_classify.state)"
   ],
   "outputs": [
    {
     "output_type": "execute_result",
     "data": {
      "text/plain": [
       "state          failed  successful\n",
       "main_category                    \n",
       "Art               382         323\n",
       "Comics            108         160\n",
       "Crafts            147          56\n",
       "Dance              34          55\n",
       "Design            399         283\n",
       "Fashion           360         144\n",
       "Film & Video      888         618\n",
       "Food              394         167\n",
       "Games             452         349\n",
       "Journalism         77          21\n",
       "Music             577         666\n",
       "Photography       156          85\n",
       "Publishing        614         296\n",
       "Technology        512         169\n",
       "Theater           104         173"
      ],
      "text/latex": [
       "\\begin{tabular}{lrr}\n",
       "\\toprule\n",
       "state &  failed &  successful \\\\\n",
       "main\\_category &         &             \\\\\n",
       "\\midrule\n",
       "Art           &     382 &         323 \\\\\n",
       "Comics        &     108 &         160 \\\\\n",
       "Crafts        &     147 &          56 \\\\\n",
       "Dance         &      34 &          55 \\\\\n",
       "Design        &     399 &         283 \\\\\n",
       "Fashion       &     360 &         144 \\\\\n",
       "Film \\& Video  &     888 &         618 \\\\\n",
       "Food          &     394 &         167 \\\\\n",
       "Games         &     452 &         349 \\\\\n",
       "Journalism    &      77 &          21 \\\\\n",
       "Music         &     577 &         666 \\\\\n",
       "Photography   &     156 &          85 \\\\\n",
       "Publishing    &     614 &         296 \\\\\n",
       "Technology    &     512 &         169 \\\\\n",
       "Theater       &     104 &         173 \\\\\n",
       "\\bottomrule\n",
       "\\end{tabular}\n"
      ],
      "text/html": [
       "<div>\n",
       "<style scoped>\n",
       "    .dataframe tbody tr th:only-of-type {\n",
       "        vertical-align: middle;\n",
       "    }\n",
       "\n",
       "    .dataframe tbody tr th {\n",
       "        vertical-align: top;\n",
       "    }\n",
       "\n",
       "    .dataframe thead th {\n",
       "        text-align: right;\n",
       "    }\n",
       "</style>\n",
       "<table border=\"1\" class=\"dataframe\">\n",
       "  <thead>\n",
       "    <tr style=\"text-align: right;\">\n",
       "      <th>state</th>\n",
       "      <th>failed</th>\n",
       "      <th>successful</th>\n",
       "    </tr>\n",
       "    <tr>\n",
       "      <th>main_category</th>\n",
       "      <th></th>\n",
       "      <th></th>\n",
       "    </tr>\n",
       "  </thead>\n",
       "  <tbody>\n",
       "    <tr>\n",
       "      <th>Art</th>\n",
       "      <td>382</td>\n",
       "      <td>323</td>\n",
       "    </tr>\n",
       "    <tr>\n",
       "      <th>Comics</th>\n",
       "      <td>108</td>\n",
       "      <td>160</td>\n",
       "    </tr>\n",
       "    <tr>\n",
       "      <th>Crafts</th>\n",
       "      <td>147</td>\n",
       "      <td>56</td>\n",
       "    </tr>\n",
       "    <tr>\n",
       "      <th>Dance</th>\n",
       "      <td>34</td>\n",
       "      <td>55</td>\n",
       "    </tr>\n",
       "    <tr>\n",
       "      <th>Design</th>\n",
       "      <td>399</td>\n",
       "      <td>283</td>\n",
       "    </tr>\n",
       "    <tr>\n",
       "      <th>Fashion</th>\n",
       "      <td>360</td>\n",
       "      <td>144</td>\n",
       "    </tr>\n",
       "    <tr>\n",
       "      <th>Film &amp; Video</th>\n",
       "      <td>888</td>\n",
       "      <td>618</td>\n",
       "    </tr>\n",
       "    <tr>\n",
       "      <th>Food</th>\n",
       "      <td>394</td>\n",
       "      <td>167</td>\n",
       "    </tr>\n",
       "    <tr>\n",
       "      <th>Games</th>\n",
       "      <td>452</td>\n",
       "      <td>349</td>\n",
       "    </tr>\n",
       "    <tr>\n",
       "      <th>Journalism</th>\n",
       "      <td>77</td>\n",
       "      <td>21</td>\n",
       "    </tr>\n",
       "    <tr>\n",
       "      <th>Music</th>\n",
       "      <td>577</td>\n",
       "      <td>666</td>\n",
       "    </tr>\n",
       "    <tr>\n",
       "      <th>Photography</th>\n",
       "      <td>156</td>\n",
       "      <td>85</td>\n",
       "    </tr>\n",
       "    <tr>\n",
       "      <th>Publishing</th>\n",
       "      <td>614</td>\n",
       "      <td>296</td>\n",
       "    </tr>\n",
       "    <tr>\n",
       "      <th>Technology</th>\n",
       "      <td>512</td>\n",
       "      <td>169</td>\n",
       "    </tr>\n",
       "    <tr>\n",
       "      <th>Theater</th>\n",
       "      <td>104</td>\n",
       "      <td>173</td>\n",
       "    </tr>\n",
       "  </tbody>\n",
       "</table>\n",
       "</div>"
      ]
     },
     "metadata": {},
     "execution_count": 11
    }
   ],
   "metadata": {}
  },
  {
   "cell_type": "code",
   "execution_count": 12,
   "source": [
    "# agregamos la tasa de exito de cada categoria \r\n",
    "category_crosstab = pd.crosstab(df_classify.main_category, df_classify.state)\r\n",
    "category_crosstab['success_rate'] = category_crosstab.successful/(category_crosstab.successful + category_crosstab.failed)\r\n",
    "category_crosstab"
   ],
   "outputs": [
    {
     "output_type": "execute_result",
     "data": {
      "text/plain": [
       "state          failed  successful  success_rate\n",
       "main_category                                  \n",
       "Art               382         323        0.4582\n",
       "Comics            108         160        0.5970\n",
       "Crafts            147          56        0.2759\n",
       "Dance              34          55        0.6180\n",
       "Design            399         283        0.4150\n",
       "Fashion           360         144        0.2857\n",
       "Film & Video      888         618        0.4104\n",
       "Food              394         167        0.2977\n",
       "Games             452         349        0.4357\n",
       "Journalism         77          21        0.2143\n",
       "Music             577         666        0.5358\n",
       "Photography       156          85        0.3527\n",
       "Publishing        614         296        0.3253\n",
       "Technology        512         169        0.2482\n",
       "Theater           104         173        0.6245"
      ],
      "text/latex": [
       "\\begin{tabular}{lrrr}\n",
       "\\toprule\n",
       "state &  failed &  successful &  success\\_rate \\\\\n",
       "main\\_category &         &             &               \\\\\n",
       "\\midrule\n",
       "Art           &     382 &         323 &        0.4582 \\\\\n",
       "Comics        &     108 &         160 &        0.5970 \\\\\n",
       "Crafts        &     147 &          56 &        0.2759 \\\\\n",
       "Dance         &      34 &          55 &        0.6180 \\\\\n",
       "Design        &     399 &         283 &        0.4150 \\\\\n",
       "Fashion       &     360 &         144 &        0.2857 \\\\\n",
       "Film \\& Video  &     888 &         618 &        0.4104 \\\\\n",
       "Food          &     394 &         167 &        0.2977 \\\\\n",
       "Games         &     452 &         349 &        0.4357 \\\\\n",
       "Journalism    &      77 &          21 &        0.2143 \\\\\n",
       "Music         &     577 &         666 &        0.5358 \\\\\n",
       "Photography   &     156 &          85 &        0.3527 \\\\\n",
       "Publishing    &     614 &         296 &        0.3253 \\\\\n",
       "Technology    &     512 &         169 &        0.2482 \\\\\n",
       "Theater       &     104 &         173 &        0.6245 \\\\\n",
       "\\bottomrule\n",
       "\\end{tabular}\n"
      ],
      "text/html": [
       "<div>\n",
       "<style scoped>\n",
       "    .dataframe tbody tr th:only-of-type {\n",
       "        vertical-align: middle;\n",
       "    }\n",
       "\n",
       "    .dataframe tbody tr th {\n",
       "        vertical-align: top;\n",
       "    }\n",
       "\n",
       "    .dataframe thead th {\n",
       "        text-align: right;\n",
       "    }\n",
       "</style>\n",
       "<table border=\"1\" class=\"dataframe\">\n",
       "  <thead>\n",
       "    <tr style=\"text-align: right;\">\n",
       "      <th>state</th>\n",
       "      <th>failed</th>\n",
       "      <th>successful</th>\n",
       "      <th>success_rate</th>\n",
       "    </tr>\n",
       "    <tr>\n",
       "      <th>main_category</th>\n",
       "      <th></th>\n",
       "      <th></th>\n",
       "      <th></th>\n",
       "    </tr>\n",
       "  </thead>\n",
       "  <tbody>\n",
       "    <tr>\n",
       "      <th>Art</th>\n",
       "      <td>382</td>\n",
       "      <td>323</td>\n",
       "      <td>0.4582</td>\n",
       "    </tr>\n",
       "    <tr>\n",
       "      <th>Comics</th>\n",
       "      <td>108</td>\n",
       "      <td>160</td>\n",
       "      <td>0.5970</td>\n",
       "    </tr>\n",
       "    <tr>\n",
       "      <th>Crafts</th>\n",
       "      <td>147</td>\n",
       "      <td>56</td>\n",
       "      <td>0.2759</td>\n",
       "    </tr>\n",
       "    <tr>\n",
       "      <th>Dance</th>\n",
       "      <td>34</td>\n",
       "      <td>55</td>\n",
       "      <td>0.6180</td>\n",
       "    </tr>\n",
       "    <tr>\n",
       "      <th>Design</th>\n",
       "      <td>399</td>\n",
       "      <td>283</td>\n",
       "      <td>0.4150</td>\n",
       "    </tr>\n",
       "    <tr>\n",
       "      <th>Fashion</th>\n",
       "      <td>360</td>\n",
       "      <td>144</td>\n",
       "      <td>0.2857</td>\n",
       "    </tr>\n",
       "    <tr>\n",
       "      <th>Film &amp; Video</th>\n",
       "      <td>888</td>\n",
       "      <td>618</td>\n",
       "      <td>0.4104</td>\n",
       "    </tr>\n",
       "    <tr>\n",
       "      <th>Food</th>\n",
       "      <td>394</td>\n",
       "      <td>167</td>\n",
       "      <td>0.2977</td>\n",
       "    </tr>\n",
       "    <tr>\n",
       "      <th>Games</th>\n",
       "      <td>452</td>\n",
       "      <td>349</td>\n",
       "      <td>0.4357</td>\n",
       "    </tr>\n",
       "    <tr>\n",
       "      <th>Journalism</th>\n",
       "      <td>77</td>\n",
       "      <td>21</td>\n",
       "      <td>0.2143</td>\n",
       "    </tr>\n",
       "    <tr>\n",
       "      <th>Music</th>\n",
       "      <td>577</td>\n",
       "      <td>666</td>\n",
       "      <td>0.5358</td>\n",
       "    </tr>\n",
       "    <tr>\n",
       "      <th>Photography</th>\n",
       "      <td>156</td>\n",
       "      <td>85</td>\n",
       "      <td>0.3527</td>\n",
       "    </tr>\n",
       "    <tr>\n",
       "      <th>Publishing</th>\n",
       "      <td>614</td>\n",
       "      <td>296</td>\n",
       "      <td>0.3253</td>\n",
       "    </tr>\n",
       "    <tr>\n",
       "      <th>Technology</th>\n",
       "      <td>512</td>\n",
       "      <td>169</td>\n",
       "      <td>0.2482</td>\n",
       "    </tr>\n",
       "    <tr>\n",
       "      <th>Theater</th>\n",
       "      <td>104</td>\n",
       "      <td>173</td>\n",
       "      <td>0.6245</td>\n",
       "    </tr>\n",
       "  </tbody>\n",
       "</table>\n",
       "</div>"
      ]
     },
     "metadata": {},
     "execution_count": 12
    }
   ],
   "metadata": {}
  },
  {
   "cell_type": "code",
   "execution_count": 13,
   "source": [
    "# exploremos la variable de moneda\r\n",
    "df_classify.currency.value_counts()"
   ],
   "outputs": [
    {
     "output_type": "execute_result",
     "data": {
      "text/plain": [
       "USD    6834\n",
       "GBP     821\n",
       "EUR     421\n",
       "CAD     351\n",
       "AUD     154\n",
       "MXN      51\n",
       "SEK      47\n",
       "NZD      24\n",
       "HKD      16\n",
       "DKK      15\n",
       "CHF      15\n",
       "SGD      10\n",
       "NOK      10\n",
       "Name: currency, dtype: int64"
      ],
      "text/latex": [
       "\\begin{tabular}{lr}\n",
       "\\toprule\n",
       "{} &  currency \\\\\n",
       "\\midrule\n",
       "USD &      6834 \\\\\n",
       "GBP &       821 \\\\\n",
       "EUR &       421 \\\\\n",
       "CAD &       351 \\\\\n",
       "AUD &       154 \\\\\n",
       "MXN &        51 \\\\\n",
       "SEK &        47 \\\\\n",
       "NZD &        24 \\\\\n",
       "HKD &        16 \\\\\n",
       "DKK &        15 \\\\\n",
       "CHF &        15 \\\\\n",
       "SGD &        10 \\\\\n",
       "NOK &        10 \\\\\n",
       "\\bottomrule\n",
       "\\end{tabular}\n"
      ]
     },
     "metadata": {},
     "execution_count": 13
    }
   ],
   "metadata": {}
  },
  {
   "cell_type": "code",
   "execution_count": 14,
   "source": [
    "# agregamos la tasa de uso de cada moneda\r\n",
    "currency_crosstab = pd.crosstab(df_classify.currency, df_classify.state)\r\n",
    "currency_crosstab['success_rate'] = currency_crosstab.successful/(currency_crosstab.successful + currency_crosstab.failed)\r\n",
    "currency_crosstab.sort_values(by='success_rate', ascending=False)"
   ],
   "outputs": [
    {
     "output_type": "execute_result",
     "data": {
      "text/plain": [
       "state     failed  successful  success_rate\n",
       "currency                                  \n",
       "CHF            7           8        0.5333\n",
       "NOK            5           5        0.5000\n",
       "USD         3933        2901        0.4245\n",
       "SGD            6           4        0.4000\n",
       "GBP          493         328        0.3995\n",
       "HKD           10           6        0.3750\n",
       "NZD           15           9        0.3750\n",
       "SEK           30          17        0.3617\n",
       "CAD          231         120        0.3419\n",
       "DKK           10           5        0.3333\n",
       "EUR          310         111        0.2637\n",
       "AUD          114          40        0.2597\n",
       "MXN           40          11        0.2157"
      ],
      "text/latex": [
       "\\begin{tabular}{lrrr}\n",
       "\\toprule\n",
       "state &  failed &  successful &  success\\_rate \\\\\n",
       "currency &         &             &               \\\\\n",
       "\\midrule\n",
       "CHF      &       7 &           8 &        0.5333 \\\\\n",
       "NOK      &       5 &           5 &        0.5000 \\\\\n",
       "USD      &    3933 &        2901 &        0.4245 \\\\\n",
       "SGD      &       6 &           4 &        0.4000 \\\\\n",
       "GBP      &     493 &         328 &        0.3995 \\\\\n",
       "HKD      &      10 &           6 &        0.3750 \\\\\n",
       "NZD      &      15 &           9 &        0.3750 \\\\\n",
       "SEK      &      30 &          17 &        0.3617 \\\\\n",
       "CAD      &     231 &         120 &        0.3419 \\\\\n",
       "DKK      &      10 &           5 &        0.3333 \\\\\n",
       "EUR      &     310 &         111 &        0.2637 \\\\\n",
       "AUD      &     114 &          40 &        0.2597 \\\\\n",
       "MXN      &      40 &          11 &        0.2157 \\\\\n",
       "\\bottomrule\n",
       "\\end{tabular}\n"
      ],
      "text/html": [
       "<div>\n",
       "<style scoped>\n",
       "    .dataframe tbody tr th:only-of-type {\n",
       "        vertical-align: middle;\n",
       "    }\n",
       "\n",
       "    .dataframe tbody tr th {\n",
       "        vertical-align: top;\n",
       "    }\n",
       "\n",
       "    .dataframe thead th {\n",
       "        text-align: right;\n",
       "    }\n",
       "</style>\n",
       "<table border=\"1\" class=\"dataframe\">\n",
       "  <thead>\n",
       "    <tr style=\"text-align: right;\">\n",
       "      <th>state</th>\n",
       "      <th>failed</th>\n",
       "      <th>successful</th>\n",
       "      <th>success_rate</th>\n",
       "    </tr>\n",
       "    <tr>\n",
       "      <th>currency</th>\n",
       "      <th></th>\n",
       "      <th></th>\n",
       "      <th></th>\n",
       "    </tr>\n",
       "  </thead>\n",
       "  <tbody>\n",
       "    <tr>\n",
       "      <th>CHF</th>\n",
       "      <td>7</td>\n",
       "      <td>8</td>\n",
       "      <td>0.5333</td>\n",
       "    </tr>\n",
       "    <tr>\n",
       "      <th>NOK</th>\n",
       "      <td>5</td>\n",
       "      <td>5</td>\n",
       "      <td>0.5000</td>\n",
       "    </tr>\n",
       "    <tr>\n",
       "      <th>USD</th>\n",
       "      <td>3933</td>\n",
       "      <td>2901</td>\n",
       "      <td>0.4245</td>\n",
       "    </tr>\n",
       "    <tr>\n",
       "      <th>SGD</th>\n",
       "      <td>6</td>\n",
       "      <td>4</td>\n",
       "      <td>0.4000</td>\n",
       "    </tr>\n",
       "    <tr>\n",
       "      <th>GBP</th>\n",
       "      <td>493</td>\n",
       "      <td>328</td>\n",
       "      <td>0.3995</td>\n",
       "    </tr>\n",
       "    <tr>\n",
       "      <th>HKD</th>\n",
       "      <td>10</td>\n",
       "      <td>6</td>\n",
       "      <td>0.3750</td>\n",
       "    </tr>\n",
       "    <tr>\n",
       "      <th>NZD</th>\n",
       "      <td>15</td>\n",
       "      <td>9</td>\n",
       "      <td>0.3750</td>\n",
       "    </tr>\n",
       "    <tr>\n",
       "      <th>SEK</th>\n",
       "      <td>30</td>\n",
       "      <td>17</td>\n",
       "      <td>0.3617</td>\n",
       "    </tr>\n",
       "    <tr>\n",
       "      <th>CAD</th>\n",
       "      <td>231</td>\n",
       "      <td>120</td>\n",
       "      <td>0.3419</td>\n",
       "    </tr>\n",
       "    <tr>\n",
       "      <th>DKK</th>\n",
       "      <td>10</td>\n",
       "      <td>5</td>\n",
       "      <td>0.3333</td>\n",
       "    </tr>\n",
       "    <tr>\n",
       "      <th>EUR</th>\n",
       "      <td>310</td>\n",
       "      <td>111</td>\n",
       "      <td>0.2637</td>\n",
       "    </tr>\n",
       "    <tr>\n",
       "      <th>AUD</th>\n",
       "      <td>114</td>\n",
       "      <td>40</td>\n",
       "      <td>0.2597</td>\n",
       "    </tr>\n",
       "    <tr>\n",
       "      <th>MXN</th>\n",
       "      <td>40</td>\n",
       "      <td>11</td>\n",
       "      <td>0.2157</td>\n",
       "    </tr>\n",
       "  </tbody>\n",
       "</table>\n",
       "</div>"
      ]
     },
     "metadata": {},
     "execution_count": 14
    }
   ],
   "metadata": {}
  },
  {
   "cell_type": "code",
   "execution_count": 15,
   "source": [
    "# veamos la distribución de la duración del proyecto tanto para proyectos exitos como fallidos\r\n",
    "df_classify = df_classify.copy()\r\n",
    "df_classify['launched_date'] = pd.to_datetime(df_classify.launched)\r\n",
    "df_classify['deadline_date'] = pd.to_datetime(df_classify.deadline)\r\n",
    "df_classify['duration'] = (df_classify.deadline_date - df_classify.launched_date).dt.days\r\n",
    "df_classify"
   ],
   "outputs": [],
   "metadata": {}
  },
  {
   "cell_type": "code",
   "execution_count": null,
   "source": [
    "# histograma de duraciones de proyectos\r\n",
    "df_classify.duration.hist()"
   ],
   "outputs": [
    {
     "output_type": "execute_result",
     "data": {
      "text/plain": [
       "<AxesSubplot:>"
      ]
     },
     "metadata": {},
     "execution_count": 16
    },
    {
     "output_type": "display_data",
     "data": {
      "text/plain": [
       "<Figure size 432x288 with 1 Axes>"
      ],
      "image/png": "[encoded data removed]"
     },
     "metadata": {
      "needs_background": "light"
     }
    }
   ],
   "metadata": {}
  },
  {
   "cell_type": "code",
   "execution_count": null,
   "source": [
    "# proyectos exitos vs fallidos\r\n",
    "df_classify.duration.hist(by=df_classify.state)"
   ],
   "outputs": [
    {
     "output_type": "execute_result",
     "data": {
      "text/plain": [
       "array([<AxesSubplot:title={'center':'failed'}>,\n",
       "       <AxesSubplot:title={'center':'successful'}>], dtype=object)"
      ]
     },
     "metadata": {},
     "execution_count": 17
    },
    {
     "output_type": "display_data",
     "data": {
      "text/plain": [
       "<Figure size 432x288 with 2 Axes>"
      ],
      "image/png": "[encoded data removed]"
     },
     "metadata": {
      "needs_background": "light"
     }
    }
   ],
   "metadata": {}
  },
  {
   "cell_type": "code",
   "execution_count": null,
   "source": [
    "# el comportamiento es el mismo en relación al tiempo duran un la mayoría dura un mes"
   ],
   "outputs": [],
   "metadata": {}
  },
  {
   "cell_type": "code",
   "execution_count": null,
   "source": [
    "# revisemos el uso de DLS \r\n",
    "df_classify.usd_goal_real.hist()"
   ],
   "outputs": [
    {
     "output_type": "execute_result",
     "data": {
      "text/plain": [
       "<AxesSubplot:>"
      ]
     },
     "metadata": {},
     "execution_count": 19
    },
    {
     "output_type": "display_data",
     "data": {
      "text/plain": [
       "<Figure size 432x288 with 1 Axes>"
      ],
      "image/png": "[encoded data removed]"
     },
     "metadata": {
      "needs_background": "light"
     }
    }
   ],
   "metadata": {}
  },
  {
   "cell_type": "code",
   "execution_count": null,
   "source": [
    "# al parecer hay algun outlier que impide ver la distribución correcta, agreguemos unos bins\r\n",
    "df_classify.usd_goal_real.hist(bins=100)\r\n"
   ],
   "outputs": [
    {
     "output_type": "execute_result",
     "data": {
      "text/plain": [
       "<AxesSubplot:>"
      ]
     },
     "metadata": {},
     "execution_count": 20
    },
    {
     "output_type": "display_data",
     "data": {
      "text/plain": [
       "<Figure size 432x288 with 1 Axes>"
      ],
      "image/png": "[encoded data removed]"
     },
     "metadata": {
      "needs_background": "light"
     }
    }
   ],
   "metadata": {}
  },
  {
   "cell_type": "code",
   "execution_count": null,
   "source": [
    "# no es suficiente, siguen habiendo datos extraños revisemos más a detalles\r\n",
    "df_classify.usd_goal_real.plot.box()\r\n"
   ],
   "outputs": [
    {
     "output_type": "execute_result",
     "data": {
      "text/plain": [
       "<AxesSubplot:>"
      ]
     },
     "metadata": {},
     "execution_count": 21
    },
    {
     "output_type": "display_data",
     "data": {
      "text/plain": [
       "<Figure size 432x288 with 1 Axes>"
      ],
      "image/png": "[encoded data removed]"
     },
     "metadata": {
      "needs_background": "light"
     }
    }
   ],
   "metadata": {}
  },
  {
   "cell_type": "code",
   "execution_count": null,
   "source": [
    "# veamos los proyectos que piden más de 1 millon de dolares\r\n",
    "df_classify[df_classify.usd_goal_real>1000000]\r\n"
   ],
   "outputs": [
    {
     "output_type": "execute_result",
     "data": {
      "text/plain": [
       "              ID                                               name  \\\n",
       "340   1001542282                                     You in a novel   \n",
       "971   1004941506                         Maori MBT Awareness Centre   \n",
       "1042  1005237669                             The Old Soul of a Lion   \n",
       "1144  1005820080                            The Million Pound Shirt   \n",
       "1795  1009207145                                      ** GOLIATH **   \n",
       "...          ...                                                ...   \n",
       "7496  1037984441              Irie Jamboree - My life in Jamaica...   \n",
       "7660  1038660841  Make Linkin Park Great Again - Hybrid Theory S...   \n",
       "9061  1045781653                     Salvators' Winery & Restaurant   \n",
       "9157  1046235166                                               Duel   \n",
       "9193  1046429759  Renaissance, The Project -The Fair -The TV Series   \n",
       "\n",
       "             category main_category currency    deadline          goal  \\\n",
       "340        Publishing    Publishing      EUR  2015-11-09  1000000.0000   \n",
       "971               Web    Journalism      CAD  2017-10-18  2000000.0000   \n",
       "1042     Film & Video  Film & Video      USD  2014-10-14  3000000.0000   \n",
       "1144          Fashion       Fashion      GBP  2015-11-25  1000000.0000   \n",
       "1795   Product Design        Design      CAD  2014-07-21  3850000.0000   \n",
       "...               ...           ...      ...         ...           ...   \n",
       "7496     Film & Video  Film & Video      SEK  2015-04-05 12000000.0000   \n",
       "7660            Metal         Music      EUR  2017-04-06  1000000.0000   \n",
       "9061             Food          Food      USD  2012-03-08  3500000.0000   \n",
       "9157  Science Fiction  Film & Video      USD  2016-03-06 10000000.0000   \n",
       "9193           Comedy  Film & Video      USD  2015-10-10  1200000.0000   \n",
       "\n",
       "                 launched   pledged   state  backers country  usd pledged  \\\n",
       "340   2015-09-10 23:03:21   10.0000  failed        1      IT      11.1800   \n",
       "971   2017-08-19 22:13:55 2242.0000  failed       19      CA    1160.6700   \n",
       "1042  2014-08-15 20:16:22    4.0000  failed        2      US       4.0000   \n",
       "1144  2015-10-21 22:00:04   10.0000  failed        1      GB      15.4700   \n",
       "1795  2014-06-21 22:34:21  285.0000  failed        5      CA     263.4100   \n",
       "...                   ...       ...     ...      ...     ...          ...   \n",
       "7496  2015-02-04 08:08:28    8.0000  failed        1      SE       0.9600   \n",
       "7660  2017-02-25 20:24:17   62.0000  failed        2      DE       6.3500   \n",
       "9061  2012-01-08 21:28:40  125.0000  failed        2      US     125.0000   \n",
       "9157  2016-01-06 15:00:11  100.0000  failed        2      US     100.0000   \n",
       "9193  2015-08-11 22:10:51   55.0000  failed        2      US      55.0000   \n",
       "\n",
       "      usd_pledged_real  usd_goal_real       launched_date deadline_date  \\\n",
       "340            10.7600   1076403.0900 2015-09-10 23:03:21    2015-11-09   \n",
       "971          1794.4600   1600768.3700 2017-08-19 22:13:55    2017-10-18   \n",
       "1042            4.0000   3000000.0000 2014-08-15 20:16:22    2014-10-14   \n",
       "1144           15.0500   1505185.3600 2015-10-21 22:00:04    2015-11-25   \n",
       "1795          264.6700   3575408.6200 2014-06-21 22:34:21    2014-07-21   \n",
       "...                ...            ...                 ...           ...   \n",
       "7496            0.9100   1359034.1800 2015-02-04 08:08:28    2015-04-05   \n",
       "7660           65.9100   1063004.2600 2017-02-25 20:24:17    2017-04-06   \n",
       "9061          125.0000   3500000.0000 2012-01-08 21:28:40    2012-03-08   \n",
       "9157          100.0000  10000000.0000 2016-01-06 15:00:11    2016-03-06   \n",
       "9193           55.0000   1200000.0000 2015-08-11 22:10:51    2015-10-10   \n",
       "\n",
       "      duration  \n",
       "340         59  \n",
       "971         59  \n",
       "1042        59  \n",
       "1144        34  \n",
       "1795        29  \n",
       "...        ...  \n",
       "7496        59  \n",
       "7660        39  \n",
       "9061        59  \n",
       "9157        59  \n",
       "9193        59  \n",
       "\n",
       "[23 rows x 18 columns]"
      ],
      "text/latex": [
       "\\begin{tabular}{lrlllllrlrlrlrrrllr}\n",
       "\\toprule\n",
       "{} &          ID &                                               name &         category & main\\_category & currency &    deadline &          goal &             launched &   pledged &   state &  backers & country &  usd pledged &  usd\\_pledged\\_real &  usd\\_goal\\_real &       launched\\_date & deadline\\_date &  duration \\\\\n",
       "\\midrule\n",
       "340  &  1001542282 &                                     You in a novel &       Publishing &    Publishing &      EUR &  2015-11-09 &  1000000.0000 &  2015-09-10 23:03:21 &   10.0000 &  failed &        1 &      IT &      11.1800 &           10.7600 &   1076403.0900 & 2015-09-10 23:03:21 &    2015-11-09 &        59 \\\\\n",
       "971  &  1004941506 &                         Maori MBT Awareness Centre &              Web &    Journalism &      CAD &  2017-10-18 &  2000000.0000 &  2017-08-19 22:13:55 & 2242.0000 &  failed &       19 &      CA &    1160.6700 &         1794.4600 &   1600768.3700 & 2017-08-19 22:13:55 &    2017-10-18 &        59 \\\\\n",
       "1042 &  1005237669 &                             The Old Soul of a Lion &     Film \\& Video &  Film \\& Video &      USD &  2014-10-14 &  3000000.0000 &  2014-08-15 20:16:22 &    4.0000 &  failed &        2 &      US &       4.0000 &            4.0000 &   3000000.0000 & 2014-08-15 20:16:22 &    2014-10-14 &        59 \\\\\n",
       "1144 &  1005820080 &                            The Million Pound Shirt &          Fashion &       Fashion &      GBP &  2015-11-25 &  1000000.0000 &  2015-10-21 22:00:04 &   10.0000 &  failed &        1 &      GB &      15.4700 &           15.0500 &   1505185.3600 & 2015-10-21 22:00:04 &    2015-11-25 &        34 \\\\\n",
       "1795 &  1009207145 &                                      ** GOLIATH ** &   Product Design &        Design &      CAD &  2014-07-21 &  3850000.0000 &  2014-06-21 22:34:21 &  285.0000 &  failed &        5 &      CA &     263.4100 &          264.6700 &   3575408.6200 & 2014-06-21 22:34:21 &    2014-07-21 &        29 \\\\\n",
       "2920 &  1015071175 &                                       Thermal Safe &   Product Design &        Design &      USD &  2015-06-10 &  2000000.0000 &  2015-04-22 03:54:47 &  665.0000 &  failed &        8 &      US &     665.0000 &          665.0000 &   2000000.0000 & 2015-04-22 03:54:47 &    2015-06-10 &        48 \\\\\n",
       "2993 &  1015466274 &                                            Genesis &     Film \\& Video &  Film \\& Video &      EUR &  2015-09-01 &  5000000.0000 &  2015-07-07 21:14:52 &    0.0000 &  failed &        0 &      IT &       0.0000 &            0.0000 &   5568982.9900 & 2015-07-07 21:14:52 &    2015-09-01 &        55 \\\\\n",
       "3140 &  1016210580 &            INDIRA – THE FIRST INDIAN GRAND MUSICAL &          Musical &       Theater &      EUR &  2016-04-27 & 15000000.0000 &  2016-02-27 13:08:01 &   15.0000 &  failed &        6 &      ES &      16.5900 &           17.1000 &  17104542.9700 & 2016-02-27 13:08:01 &    2016-04-27 &        59 \\\\\n",
       "3271 &  1016899157 &  Musée du cirque Gilles MAIGNANT : NICE CIRCUS ... &  Performance Art &           Art &      EUR &  2015-10-25 &  1000000.0000 &  2015-08-26 19:38:53 &  100.0000 &  failed &        1 &      FR &     115.3400 &          110.1700 &   1101697.7200 & 2015-08-26 19:38:53 &    2015-10-25 &        59 \\\\\n",
       "3293 &  1017011422 &                                       Electric Car &       Technology &    Technology &      MXN &  2017-09-13 & 40000000.0000 &  2017-08-19 01:19:23 &  510.0000 &  failed &        2 &      MX &       0.0000 &           28.8700 &   2263980.0800 & 2017-08-19 01:19:23 &    2017-09-13 &        24 \\\\\n",
       "4953 &  1025278667 &  \"Skid Markz\" Community based TV show homed in ... &        Webseries &  Film \\& Video &      GBP &  2015-08-13 &  1000000.0000 &  2015-07-14 13:06:27 &    0.0000 &  failed &        0 &      GB &       0.0000 &            0.0000 &   1563477.1700 & 2015-07-14 13:06:27 &    2015-08-13 &        29 \\\\\n",
       "5225 &  1026649227 &                                         The Studio &            Music &         Music &      EUR &  2016-01-10 &  3000000.0000 &  2015-12-11 03:55:01 &    0.0000 &  failed &        0 &      FR &       0.0000 &            0.0000 &   3274215.5500 & 2015-12-11 03:55:01 &    2016-01-10 &        29 \\\\\n",
       "5471 &  1027934952 &   Monitor,TV,SolarPanel,Slat adjustable cart/dolly &          Gadgets &    Technology &      USD &  2016-07-27 &  3300000.0000 &  2016-07-20 23:06:52 &    0.0000 &  failed &        0 &      US &       0.0000 &            0.0000 &   3300000.0000 & 2016-07-20 23:06:52 &    2016-07-27 &         6 \\\\\n",
       "6161 &  1031487313 &  Music app ( Pupilize) is the next big thing fo... &            Music &         Music &      USD &  2017-02-07 &  5000000.0000 &  2017-01-08 06:49:52 &    0.0000 &  failed &        0 &      US &       0.0000 &            0.0000 &   5000000.0000 & 2017-01-08 06:49:52 &    2017-02-07 &        29 \\\\\n",
       "6909 &  1035074261 &  Enjoy The Old Children's Home: Historic Preser... &     Architecture &        Design &      USD &  2016-09-05 &  1100000.0000 &  2016-08-04 13:22:21 &    1.0000 &  failed &        1 &      US &       0.0000 &            1.0000 &   1100000.0000 & 2016-08-04 13:22:21 &    2016-09-05 &        31 \\\\\n",
       "6999 &  1035586107 &                           Business Start-Up Advice &              Web &    Technology &      GBP &  2015-08-15 &  1100000.0000 &  2015-07-06 19:05:05 &    0.0000 &  failed &        0 &      GB &       0.0000 &            0.0000 &   1723975.8000 & 2015-07-06 19:05:05 &    2015-08-15 &        39 \\\\\n",
       "7272 &  1036946517 &                                        Save Nature &           Nature &   Photography &      USD &  2016-07-12 &  2000000.0000 &  2016-05-13 21:59:33 &   20.0000 &  failed &        1 &      US &      20.0000 &           20.0000 &   2000000.0000 & 2016-05-13 21:59:33 &    2016-07-12 &        59 \\\\\n",
       "7337 &  1037223177 &                                    Cryptic passion &     Film \\& Video &  Film \\& Video &      USD &  2015-05-31 &  3000000.0000 &  2015-04-20 17:37:16 &    0.0000 &  failed &        0 &      US &       0.0000 &            0.0000 &   3000000.0000 & 2015-04-20 17:37:16 &    2015-05-31 &        40 \\\\\n",
       "7496 &  1037984441 &              Irie Jamboree - My life in Jamaica... &     Film \\& Video &  Film \\& Video &      SEK &  2015-04-05 & 12000000.0000 &  2015-02-04 08:08:28 &    8.0000 &  failed &        1 &      SE &       0.9600 &            0.9100 &   1359034.1800 & 2015-02-04 08:08:28 &    2015-04-05 &        59 \\\\\n",
       "7660 &  1038660841 &  Make Linkin Park Great Again - Hybrid Theory S... &            Metal &         Music &      EUR &  2017-04-06 &  1000000.0000 &  2017-02-25 20:24:17 &   62.0000 &  failed &        2 &      DE &       6.3500 &           65.9100 &   1063004.2600 & 2017-02-25 20:24:17 &    2017-04-06 &        39 \\\\\n",
       "9061 &  1045781653 &                     Salvators' Winery \\& Restaurant &             Food &          Food &      USD &  2012-03-08 &  3500000.0000 &  2012-01-08 21:28:40 &  125.0000 &  failed &        2 &      US &     125.0000 &          125.0000 &   3500000.0000 & 2012-01-08 21:28:40 &    2012-03-08 &        59 \\\\\n",
       "9157 &  1046235166 &                                               Duel &  Science Fiction &  Film \\& Video &      USD &  2016-03-06 & 10000000.0000 &  2016-01-06 15:00:11 &  100.0000 &  failed &        2 &      US &     100.0000 &          100.0000 &  10000000.0000 & 2016-01-06 15:00:11 &    2016-03-06 &        59 \\\\\n",
       "9193 &  1046429759 &  Renaissance, The Project -The Fair -The TV Series &           Comedy &  Film \\& Video &      USD &  2015-10-10 &  1200000.0000 &  2015-08-11 22:10:51 &   55.0000 &  failed &        2 &      US &      55.0000 &           55.0000 &   1200000.0000 & 2015-08-11 22:10:51 &    2015-10-10 &        59 \\\\\n",
       "\\bottomrule\n",
       "\\end{tabular}\n"
      ],
      "text/html": [
       "<div>\n",
       "<style scoped>\n",
       "    .dataframe tbody tr th:only-of-type {\n",
       "        vertical-align: middle;\n",
       "    }\n",
       "\n",
       "    .dataframe tbody tr th {\n",
       "        vertical-align: top;\n",
       "    }\n",
       "\n",
       "    .dataframe thead th {\n",
       "        text-align: right;\n",
       "    }\n",
       "</style>\n",
       "<table border=\"1\" class=\"dataframe\">\n",
       "  <thead>\n",
       "    <tr style=\"text-align: right;\">\n",
       "      <th></th>\n",
       "      <th>ID</th>\n",
       "      <th>name</th>\n",
       "      <th>category</th>\n",
       "      <th>main_category</th>\n",
       "      <th>currency</th>\n",
       "      <th>deadline</th>\n",
       "      <th>goal</th>\n",
       "      <th>launched</th>\n",
       "      <th>pledged</th>\n",
       "      <th>state</th>\n",
       "      <th>backers</th>\n",
       "      <th>country</th>\n",
       "      <th>usd pledged</th>\n",
       "      <th>usd_pledged_real</th>\n",
       "      <th>usd_goal_real</th>\n",
       "      <th>launched_date</th>\n",
       "      <th>deadline_date</th>\n",
       "      <th>duration</th>\n",
       "    </tr>\n",
       "  </thead>\n",
       "  <tbody>\n",
       "    <tr>\n",
       "      <th>340</th>\n",
       "      <td>1001542282</td>\n",
       "      <td>You in a novel</td>\n",
       "      <td>Publishing</td>\n",
       "      <td>Publishing</td>\n",
       "      <td>EUR</td>\n",
       "      <td>2015-11-09</td>\n",
       "      <td>1000000.0000</td>\n",
       "      <td>2015-09-10 23:03:21</td>\n",
       "      <td>10.0000</td>\n",
       "      <td>failed</td>\n",
       "      <td>1</td>\n",
       "      <td>IT</td>\n",
       "      <td>11.1800</td>\n",
       "      <td>10.7600</td>\n",
       "      <td>1076403.0900</td>\n",
       "      <td>2015-09-10 23:03:21</td>\n",
       "      <td>2015-11-09</td>\n",
       "      <td>59</td>\n",
       "    </tr>\n",
       "    <tr>\n",
       "      <th>971</th>\n",
       "      <td>1004941506</td>\n",
       "      <td>Maori MBT Awareness Centre</td>\n",
       "      <td>Web</td>\n",
       "      <td>Journalism</td>\n",
       "      <td>CAD</td>\n",
       "      <td>2017-10-18</td>\n",
       "      <td>2000000.0000</td>\n",
       "      <td>2017-08-19 22:13:55</td>\n",
       "      <td>2242.0000</td>\n",
       "      <td>failed</td>\n",
       "      <td>19</td>\n",
       "      <td>CA</td>\n",
       "      <td>1160.6700</td>\n",
       "      <td>1794.4600</td>\n",
       "      <td>1600768.3700</td>\n",
       "      <td>2017-08-19 22:13:55</td>\n",
       "      <td>2017-10-18</td>\n",
       "      <td>59</td>\n",
       "    </tr>\n",
       "    <tr>\n",
       "      <th>1042</th>\n",
       "      <td>1005237669</td>\n",
       "      <td>The Old Soul of a Lion</td>\n",
       "      <td>Film &amp; Video</td>\n",
       "      <td>Film &amp; Video</td>\n",
       "      <td>USD</td>\n",
       "      <td>2014-10-14</td>\n",
       "      <td>3000000.0000</td>\n",
       "      <td>2014-08-15 20:16:22</td>\n",
       "      <td>4.0000</td>\n",
       "      <td>failed</td>\n",
       "      <td>2</td>\n",
       "      <td>US</td>\n",
       "      <td>4.0000</td>\n",
       "      <td>4.0000</td>\n",
       "      <td>3000000.0000</td>\n",
       "      <td>2014-08-15 20:16:22</td>\n",
       "      <td>2014-10-14</td>\n",
       "      <td>59</td>\n",
       "    </tr>\n",
       "    <tr>\n",
       "      <th>1144</th>\n",
       "      <td>1005820080</td>\n",
       "      <td>The Million Pound Shirt</td>\n",
       "      <td>Fashion</td>\n",
       "      <td>Fashion</td>\n",
       "      <td>GBP</td>\n",
       "      <td>2015-11-25</td>\n",
       "      <td>1000000.0000</td>\n",
       "      <td>2015-10-21 22:00:04</td>\n",
       "      <td>10.0000</td>\n",
       "      <td>failed</td>\n",
       "      <td>1</td>\n",
       "      <td>GB</td>\n",
       "      <td>15.4700</td>\n",
       "      <td>15.0500</td>\n",
       "      <td>1505185.3600</td>\n",
       "      <td>2015-10-21 22:00:04</td>\n",
       "      <td>2015-11-25</td>\n",
       "      <td>34</td>\n",
       "    </tr>\n",
       "    <tr>\n",
       "      <th>1795</th>\n",
       "      <td>1009207145</td>\n",
       "      <td>** GOLIATH **</td>\n",
       "      <td>Product Design</td>\n",
       "      <td>Design</td>\n",
       "      <td>CAD</td>\n",
       "      <td>2014-07-21</td>\n",
       "      <td>3850000.0000</td>\n",
       "      <td>2014-06-21 22:34:21</td>\n",
       "      <td>285.0000</td>\n",
       "      <td>failed</td>\n",
       "      <td>5</td>\n",
       "      <td>CA</td>\n",
       "      <td>263.4100</td>\n",
       "      <td>264.6700</td>\n",
       "      <td>3575408.6200</td>\n",
       "      <td>2014-06-21 22:34:21</td>\n",
       "      <td>2014-07-21</td>\n",
       "      <td>29</td>\n",
       "    </tr>\n",
       "    <tr>\n",
       "      <th>...</th>\n",
       "      <td>...</td>\n",
       "      <td>...</td>\n",
       "      <td>...</td>\n",
       "      <td>...</td>\n",
       "      <td>...</td>\n",
       "      <td>...</td>\n",
       "      <td>...</td>\n",
       "      <td>...</td>\n",
       "      <td>...</td>\n",
       "      <td>...</td>\n",
       "      <td>...</td>\n",
       "      <td>...</td>\n",
       "      <td>...</td>\n",
       "      <td>...</td>\n",
       "      <td>...</td>\n",
       "      <td>...</td>\n",
       "      <td>...</td>\n",
       "      <td>...</td>\n",
       "    </tr>\n",
       "    <tr>\n",
       "      <th>7496</th>\n",
       "      <td>1037984441</td>\n",
       "      <td>Irie Jamboree - My life in Jamaica...</td>\n",
       "      <td>Film &amp; Video</td>\n",
       "      <td>Film &amp; Video</td>\n",
       "      <td>SEK</td>\n",
       "      <td>2015-04-05</td>\n",
       "      <td>12000000.0000</td>\n",
       "      <td>2015-02-04 08:08:28</td>\n",
       "      <td>8.0000</td>\n",
       "      <td>failed</td>\n",
       "      <td>1</td>\n",
       "      <td>SE</td>\n",
       "      <td>0.9600</td>\n",
       "      <td>0.9100</td>\n",
       "      <td>1359034.1800</td>\n",
       "      <td>2015-02-04 08:08:28</td>\n",
       "      <td>2015-04-05</td>\n",
       "      <td>59</td>\n",
       "    </tr>\n",
       "    <tr>\n",
       "      <th>7660</th>\n",
       "      <td>1038660841</td>\n",
       "      <td>Make Linkin Park Great Again - Hybrid Theory S...</td>\n",
       "      <td>Metal</td>\n",
       "      <td>Music</td>\n",
       "      <td>EUR</td>\n",
       "      <td>2017-04-06</td>\n",
       "      <td>1000000.0000</td>\n",
       "      <td>2017-02-25 20:24:17</td>\n",
       "      <td>62.0000</td>\n",
       "      <td>failed</td>\n",
       "      <td>2</td>\n",
       "      <td>DE</td>\n",
       "      <td>6.3500</td>\n",
       "      <td>65.9100</td>\n",
       "      <td>1063004.2600</td>\n",
       "      <td>2017-02-25 20:24:17</td>\n",
       "      <td>2017-04-06</td>\n",
       "      <td>39</td>\n",
       "    </tr>\n",
       "    <tr>\n",
       "      <th>9061</th>\n",
       "      <td>1045781653</td>\n",
       "      <td>Salvators' Winery &amp; Restaurant</td>\n",
       "      <td>Food</td>\n",
       "      <td>Food</td>\n",
       "      <td>USD</td>\n",
       "      <td>2012-03-08</td>\n",
       "      <td>3500000.0000</td>\n",
       "      <td>2012-01-08 21:28:40</td>\n",
       "      <td>125.0000</td>\n",
       "      <td>failed</td>\n",
       "      <td>2</td>\n",
       "      <td>US</td>\n",
       "      <td>125.0000</td>\n",
       "      <td>125.0000</td>\n",
       "      <td>3500000.0000</td>\n",
       "      <td>2012-01-08 21:28:40</td>\n",
       "      <td>2012-03-08</td>\n",
       "      <td>59</td>\n",
       "    </tr>\n",
       "    <tr>\n",
       "      <th>9157</th>\n",
       "      <td>1046235166</td>\n",
       "      <td>Duel</td>\n",
       "      <td>Science Fiction</td>\n",
       "      <td>Film &amp; Video</td>\n",
       "      <td>USD</td>\n",
       "      <td>2016-03-06</td>\n",
       "      <td>10000000.0000</td>\n",
       "      <td>2016-01-06 15:00:11</td>\n",
       "      <td>100.0000</td>\n",
       "      <td>failed</td>\n",
       "      <td>2</td>\n",
       "      <td>US</td>\n",
       "      <td>100.0000</td>\n",
       "      <td>100.0000</td>\n",
       "      <td>10000000.0000</td>\n",
       "      <td>2016-01-06 15:00:11</td>\n",
       "      <td>2016-03-06</td>\n",
       "      <td>59</td>\n",
       "    </tr>\n",
       "    <tr>\n",
       "      <th>9193</th>\n",
       "      <td>1046429759</td>\n",
       "      <td>Renaissance, The Project -The Fair -The TV Series</td>\n",
       "      <td>Comedy</td>\n",
       "      <td>Film &amp; Video</td>\n",
       "      <td>USD</td>\n",
       "      <td>2015-10-10</td>\n",
       "      <td>1200000.0000</td>\n",
       "      <td>2015-08-11 22:10:51</td>\n",
       "      <td>55.0000</td>\n",
       "      <td>failed</td>\n",
       "      <td>2</td>\n",
       "      <td>US</td>\n",
       "      <td>55.0000</td>\n",
       "      <td>55.0000</td>\n",
       "      <td>1200000.0000</td>\n",
       "      <td>2015-08-11 22:10:51</td>\n",
       "      <td>2015-10-10</td>\n",
       "      <td>59</td>\n",
       "    </tr>\n",
       "  </tbody>\n",
       "</table>\n",
       "<p>23 rows × 18 columns</p>\n",
       "</div>"
      ]
     },
     "metadata": {},
     "execution_count": 22
    }
   ],
   "metadata": {}
  },
  {
   "cell_type": "code",
   "execution_count": null,
   "source": [
    "# vemos el desgloce de exitos\r\n",
    "df_classify[df_classify.usd_goal_real>1000000].state.value_counts()"
   ],
   "outputs": [
    {
     "output_type": "execute_result",
     "data": {
      "text/plain": [
       "failed    23\n",
       "Name: state, dtype: int64"
      ],
      "text/latex": [
       "\\begin{tabular}{lr}\n",
       "\\toprule\n",
       "{} &  state \\\\\n",
       "\\midrule\n",
       "failed &     23 \\\\\n",
       "\\bottomrule\n",
       "\\end{tabular}\n"
      ]
     },
     "metadata": {},
     "execution_count": 23
    }
   ],
   "metadata": {}
  },
  {
   "cell_type": "code",
   "execution_count": null,
   "source": [
    "# son 11 proyecto fallidos, dado que los datos parecen legitimos mantendremos los registros en el dataset\r\n",
    "df_classify.corr()"
   ],
   "outputs": [
    {
     "output_type": "execute_result",
     "data": {
      "text/plain": [
       "                      ID   goal  pledged  backers  usd pledged  \\\n",
       "ID                1.0000 0.0110   0.0051  -0.0015      -0.0011   \n",
       "goal              0.0110 1.0000   0.0189   0.0145       0.0186   \n",
       "pledged           0.0051 0.0189   1.0000   0.8033       0.8421   \n",
       "backers          -0.0015 0.0145   0.8033   1.0000       0.8035   \n",
       "usd pledged      -0.0011 0.0186   0.8421   0.8035       1.0000   \n",
       "usd_pledged_real  0.0031 0.0172   0.9731   0.8226       0.8600   \n",
       "usd_goal_real     0.0134 0.5519   0.0357   0.0328       0.0399   \n",
       "duration          0.0232 0.0317   0.0046   0.0030       0.0012   \n",
       "\n",
       "                  usd_pledged_real  usd_goal_real  duration  \n",
       "ID                          0.0031         0.0134    0.0232  \n",
       "goal                        0.0172         0.5519    0.0317  \n",
       "pledged                     0.9731         0.0357    0.0046  \n",
       "backers                     0.8226         0.0328    0.0030  \n",
       "usd pledged                 0.8600         0.0399    0.0012  \n",
       "usd_pledged_real            1.0000         0.0370    0.0054  \n",
       "usd_goal_real               0.0370         1.0000    0.0640  \n",
       "duration                    0.0054         0.0640    1.0000  "
      ],
      "text/latex": [
       "\\begin{tabular}{lrrrrrrrr}\n",
       "\\toprule\n",
       "{} &      ID &   goal &  pledged &  backers &  usd pledged &  usd\\_pledged\\_real &  usd\\_goal\\_real &  duration \\\\\n",
       "\\midrule\n",
       "ID               &  1.0000 & 0.0110 &   0.0051 &  -0.0015 &      -0.0011 &            0.0031 &         0.0134 &    0.0232 \\\\\n",
       "goal             &  0.0110 & 1.0000 &   0.0189 &   0.0145 &       0.0186 &            0.0172 &         0.5519 &    0.0317 \\\\\n",
       "pledged          &  0.0051 & 0.0189 &   1.0000 &   0.8033 &       0.8421 &            0.9731 &         0.0357 &    0.0046 \\\\\n",
       "backers          & -0.0015 & 0.0145 &   0.8033 &   1.0000 &       0.8035 &            0.8226 &         0.0328 &    0.0030 \\\\\n",
       "usd pledged      & -0.0011 & 0.0186 &   0.8421 &   0.8035 &       1.0000 &            0.8600 &         0.0399 &    0.0012 \\\\\n",
       "usd\\_pledged\\_real &  0.0031 & 0.0172 &   0.9731 &   0.8226 &       0.8600 &            1.0000 &         0.0370 &    0.0054 \\\\\n",
       "usd\\_goal\\_real    &  0.0134 & 0.5519 &   0.0357 &   0.0328 &       0.0399 &            0.0370 &         1.0000 &    0.0640 \\\\\n",
       "duration         &  0.0232 & 0.0317 &   0.0046 &   0.0030 &       0.0012 &            0.0054 &         0.0640 &    1.0000 \\\\\n",
       "\\bottomrule\n",
       "\\end{tabular}\n"
      ],
      "text/html": [
       "<div>\n",
       "<style scoped>\n",
       "    .dataframe tbody tr th:only-of-type {\n",
       "        vertical-align: middle;\n",
       "    }\n",
       "\n",
       "    .dataframe tbody tr th {\n",
       "        vertical-align: top;\n",
       "    }\n",
       "\n",
       "    .dataframe thead th {\n",
       "        text-align: right;\n",
       "    }\n",
       "</style>\n",
       "<table border=\"1\" class=\"dataframe\">\n",
       "  <thead>\n",
       "    <tr style=\"text-align: right;\">\n",
       "      <th></th>\n",
       "      <th>ID</th>\n",
       "      <th>goal</th>\n",
       "      <th>pledged</th>\n",
       "      <th>backers</th>\n",
       "      <th>usd pledged</th>\n",
       "      <th>usd_pledged_real</th>\n",
       "      <th>usd_goal_real</th>\n",
       "      <th>duration</th>\n",
       "    </tr>\n",
       "  </thead>\n",
       "  <tbody>\n",
       "    <tr>\n",
       "      <th>ID</th>\n",
       "      <td>1.0000</td>\n",
       "      <td>0.0110</td>\n",
       "      <td>0.0051</td>\n",
       "      <td>-0.0015</td>\n",
       "      <td>-0.0011</td>\n",
       "      <td>0.0031</td>\n",
       "      <td>0.0134</td>\n",
       "      <td>0.0232</td>\n",
       "    </tr>\n",
       "    <tr>\n",
       "      <th>goal</th>\n",
       "      <td>0.0110</td>\n",
       "      <td>1.0000</td>\n",
       "      <td>0.0189</td>\n",
       "      <td>0.0145</td>\n",
       "      <td>0.0186</td>\n",
       "      <td>0.0172</td>\n",
       "      <td>0.5519</td>\n",
       "      <td>0.0317</td>\n",
       "    </tr>\n",
       "    <tr>\n",
       "      <th>pledged</th>\n",
       "      <td>0.0051</td>\n",
       "      <td>0.0189</td>\n",
       "      <td>1.0000</td>\n",
       "      <td>0.8033</td>\n",
       "      <td>0.8421</td>\n",
       "      <td>0.9731</td>\n",
       "      <td>0.0357</td>\n",
       "      <td>0.0046</td>\n",
       "    </tr>\n",
       "    <tr>\n",
       "      <th>backers</th>\n",
       "      <td>-0.0015</td>\n",
       "      <td>0.0145</td>\n",
       "      <td>0.8033</td>\n",
       "      <td>1.0000</td>\n",
       "      <td>0.8035</td>\n",
       "      <td>0.8226</td>\n",
       "      <td>0.0328</td>\n",
       "      <td>0.0030</td>\n",
       "    </tr>\n",
       "    <tr>\n",
       "      <th>usd pledged</th>\n",
       "      <td>-0.0011</td>\n",
       "      <td>0.0186</td>\n",
       "      <td>0.8421</td>\n",
       "      <td>0.8035</td>\n",
       "      <td>1.0000</td>\n",
       "      <td>0.8600</td>\n",
       "      <td>0.0399</td>\n",
       "      <td>0.0012</td>\n",
       "    </tr>\n",
       "    <tr>\n",
       "      <th>usd_pledged_real</th>\n",
       "      <td>0.0031</td>\n",
       "      <td>0.0172</td>\n",
       "      <td>0.9731</td>\n",
       "      <td>0.8226</td>\n",
       "      <td>0.8600</td>\n",
       "      <td>1.0000</td>\n",
       "      <td>0.0370</td>\n",
       "      <td>0.0054</td>\n",
       "    </tr>\n",
       "    <tr>\n",
       "      <th>usd_goal_real</th>\n",
       "      <td>0.0134</td>\n",
       "      <td>0.5519</td>\n",
       "      <td>0.0357</td>\n",
       "      <td>0.0328</td>\n",
       "      <td>0.0399</td>\n",
       "      <td>0.0370</td>\n",
       "      <td>1.0000</td>\n",
       "      <td>0.0640</td>\n",
       "    </tr>\n",
       "    <tr>\n",
       "      <th>duration</th>\n",
       "      <td>0.0232</td>\n",
       "      <td>0.0317</td>\n",
       "      <td>0.0046</td>\n",
       "      <td>0.0030</td>\n",
       "      <td>0.0012</td>\n",
       "      <td>0.0054</td>\n",
       "      <td>0.0640</td>\n",
       "      <td>1.0000</td>\n",
       "    </tr>\n",
       "  </tbody>\n",
       "</table>\n",
       "</div>"
      ]
     },
     "metadata": {},
     "execution_count": 24
    }
   ],
   "metadata": {}
  },
  {
   "cell_type": "code",
   "execution_count": null,
   "source": [
    "sns.heatmap(df_classify.corr())"
   ],
   "outputs": [
    {
     "output_type": "execute_result",
     "data": {
      "text/plain": [
       "<AxesSubplot:>"
      ]
     },
     "metadata": {},
     "execution_count": 25
    },
    {
     "output_type": "display_data",
     "data": {
      "text/plain": [
       "<Figure size 432x288 with 2 Axes>"
      ],
      "image/png": "[encoded data removed]"
     },
     "metadata": {
      "needs_background": "light"
     }
    }
   ],
   "metadata": {}
  },
  {
   "cell_type": "code",
   "execution_count": null,
   "source": [
    "df_classify.isnull().sum()"
   ],
   "outputs": [
    {
     "output_type": "execute_result",
     "data": {
      "text/plain": [
       "ID                  0\n",
       "name                0\n",
       "category            0\n",
       "main_category       0\n",
       "currency            0\n",
       "deadline            0\n",
       "goal                0\n",
       "launched            0\n",
       "pledged             0\n",
       "state               0\n",
       "backers             0\n",
       "country             0\n",
       "usd pledged         5\n",
       "usd_pledged_real    0\n",
       "usd_goal_real       0\n",
       "launched_date       0\n",
       "deadline_date       0\n",
       "duration            0\n",
       "dtype: int64"
      ],
      "text/latex": [
       "\\begin{tabular}{lr}\n",
       "\\toprule\n",
       "{} &  0 \\\\\n",
       "\\midrule\n",
       "ID               &  0 \\\\\n",
       "name             &  0 \\\\\n",
       "category         &  0 \\\\\n",
       "main\\_category    &  0 \\\\\n",
       "currency         &  0 \\\\\n",
       "deadline         &  0 \\\\\n",
       "goal             &  0 \\\\\n",
       "launched         &  0 \\\\\n",
       "pledged          &  0 \\\\\n",
       "state            &  0 \\\\\n",
       "backers          &  0 \\\\\n",
       "country          &  0 \\\\\n",
       "usd pledged      &  5 \\\\\n",
       "usd\\_pledged\\_real &  0 \\\\\n",
       "usd\\_goal\\_real    &  0 \\\\\n",
       "launched\\_date    &  0 \\\\\n",
       "deadline\\_date    &  0 \\\\\n",
       "duration         &  0 \\\\\n",
       "\\bottomrule\n",
       "\\end{tabular}\n"
      ]
     },
     "metadata": {},
     "execution_count": 28
    }
   ],
   "metadata": {}
  },
  {
   "cell_type": "code",
   "execution_count": null,
   "source": [
    "# la unica columna que contiene nullos es usd pledged"
   ],
   "outputs": [],
   "metadata": {}
  },
  {
   "cell_type": "code",
   "execution_count": null,
   "source": [
    "# preparando datos para aplicar algoritmos ML\r\n",
    "# seleccionamos las columnas a incluir en el modelo\r\n",
    "df_variables = df_classify[['usd_goal_real','backers','main_category','duration','currency']]\r\n",
    "df_variables.head()"
   ],
   "outputs": [
    {
     "output_type": "execute_result",
     "data": {
      "text/plain": [
       "   usd_goal_real  backers main_category  duration currency\n",
       "0      1533.9500        0    Publishing        58      GBP\n",
       "1     30000.0000       15  Film & Video        59      USD\n",
       "2     45000.0000        3  Film & Video        44      USD\n",
       "3      5000.0000        1         Music        29      USD\n",
       "5     50000.0000      224          Food        34      USD"
      ],
      "text/latex": [
       "\\begin{tabular}{lrrlrl}\n",
       "\\toprule\n",
       "{} &  usd\\_goal\\_real &  backers & main\\_category &  duration & currency \\\\\n",
       "\\midrule\n",
       "0 &      1533.9500 &        0 &    Publishing &        58 &      GBP \\\\\n",
       "1 &     30000.0000 &       15 &  Film \\& Video &        59 &      USD \\\\\n",
       "2 &     45000.0000 &        3 &  Film \\& Video &        44 &      USD \\\\\n",
       "3 &      5000.0000 &        1 &         Music &        29 &      USD \\\\\n",
       "5 &     50000.0000 &      224 &          Food &        34 &      USD \\\\\n",
       "\\bottomrule\n",
       "\\end{tabular}\n"
      ],
      "text/html": [
       "<div>\n",
       "<style scoped>\n",
       "    .dataframe tbody tr th:only-of-type {\n",
       "        vertical-align: middle;\n",
       "    }\n",
       "\n",
       "    .dataframe tbody tr th {\n",
       "        vertical-align: top;\n",
       "    }\n",
       "\n",
       "    .dataframe thead th {\n",
       "        text-align: right;\n",
       "    }\n",
       "</style>\n",
       "<table border=\"1\" class=\"dataframe\">\n",
       "  <thead>\n",
       "    <tr style=\"text-align: right;\">\n",
       "      <th></th>\n",
       "      <th>usd_goal_real</th>\n",
       "      <th>backers</th>\n",
       "      <th>main_category</th>\n",
       "      <th>duration</th>\n",
       "      <th>currency</th>\n",
       "    </tr>\n",
       "  </thead>\n",
       "  <tbody>\n",
       "    <tr>\n",
       "      <th>0</th>\n",
       "      <td>1533.9500</td>\n",
       "      <td>0</td>\n",
       "      <td>Publishing</td>\n",
       "      <td>58</td>\n",
       "      <td>GBP</td>\n",
       "    </tr>\n",
       "    <tr>\n",
       "      <th>1</th>\n",
       "      <td>30000.0000</td>\n",
       "      <td>15</td>\n",
       "      <td>Film &amp; Video</td>\n",
       "      <td>59</td>\n",
       "      <td>USD</td>\n",
       "    </tr>\n",
       "    <tr>\n",
       "      <th>2</th>\n",
       "      <td>45000.0000</td>\n",
       "      <td>3</td>\n",
       "      <td>Film &amp; Video</td>\n",
       "      <td>44</td>\n",
       "      <td>USD</td>\n",
       "    </tr>\n",
       "    <tr>\n",
       "      <th>3</th>\n",
       "      <td>5000.0000</td>\n",
       "      <td>1</td>\n",
       "      <td>Music</td>\n",
       "      <td>29</td>\n",
       "      <td>USD</td>\n",
       "    </tr>\n",
       "    <tr>\n",
       "      <th>5</th>\n",
       "      <td>50000.0000</td>\n",
       "      <td>224</td>\n",
       "      <td>Food</td>\n",
       "      <td>34</td>\n",
       "      <td>USD</td>\n",
       "    </tr>\n",
       "  </tbody>\n",
       "</table>\n",
       "</div>"
      ]
     },
     "metadata": {},
     "execution_count": 49
    }
   ],
   "metadata": {}
  },
  {
   "cell_type": "code",
   "execution_count": null,
   "source": [
    "# Convertimos las variables categoricas a variables ficticias o dummies\r\n",
    "X = pd.get_dummies(data=df_variables, columns=['main_category','currency'], drop_first=True)\r\n",
    "X.head()\r\n"
   ],
   "outputs": [
    {
     "output_type": "execute_result",
     "data": {
      "text/plain": [
       "   usd_goal_real  backers  duration  main_category_Comics  \\\n",
       "0      1533.9500        0        58                     0   \n",
       "1     30000.0000       15        59                     0   \n",
       "2     45000.0000        3        44                     0   \n",
       "3      5000.0000        1        29                     0   \n",
       "5     50000.0000      224        34                     0   \n",
       "\n",
       "   main_category_Crafts  main_category_Dance  main_category_Design  \\\n",
       "0                     0                    0                     0   \n",
       "1                     0                    0                     0   \n",
       "2                     0                    0                     0   \n",
       "3                     0                    0                     0   \n",
       "5                     0                    0                     0   \n",
       "\n",
       "   main_category_Fashion  main_category_Film & Video  main_category_Food  \\\n",
       "0                      0                           0                   0   \n",
       "1                      0                           1                   0   \n",
       "2                      0                           1                   0   \n",
       "3                      0                           0                   0   \n",
       "5                      0                           0                   1   \n",
       "\n",
       "   main_category_Games  main_category_Journalism  main_category_Music  \\\n",
       "0                    0                         0                    0   \n",
       "1                    0                         0                    0   \n",
       "2                    0                         0                    0   \n",
       "3                    0                         0                    1   \n",
       "5                    0                         0                    0   \n",
       "\n",
       "   main_category_Photography  main_category_Publishing  \\\n",
       "0                          0                         1   \n",
       "1                          0                         0   \n",
       "2                          0                         0   \n",
       "3                          0                         0   \n",
       "5                          0                         0   \n",
       "\n",
       "   main_category_Technology  main_category_Theater  currency_CAD  \\\n",
       "0                         0                      0             0   \n",
       "1                         0                      0             0   \n",
       "2                         0                      0             0   \n",
       "3                         0                      0             0   \n",
       "5                         0                      0             0   \n",
       "\n",
       "   currency_CHF  currency_DKK  currency_EUR  currency_GBP  currency_HKD  \\\n",
       "0             0             0             0             1             0   \n",
       "1             0             0             0             0             0   \n",
       "2             0             0             0             0             0   \n",
       "3             0             0             0             0             0   \n",
       "5             0             0             0             0             0   \n",
       "\n",
       "   currency_MXN  currency_NOK  currency_NZD  currency_SEK  currency_SGD  \\\n",
       "0             0             0             0             0             0   \n",
       "1             0             0             0             0             0   \n",
       "2             0             0             0             0             0   \n",
       "3             0             0             0             0             0   \n",
       "5             0             0             0             0             0   \n",
       "\n",
       "   currency_USD  \n",
       "0             0  \n",
       "1             1  \n",
       "2             1  \n",
       "3             1  \n",
       "5             1  "
      ],
      "text/latex": [
       "\\begin{tabular}{lrrrrrrrrrrrrrrrrrrrrrrrrrrrrr}\n",
       "\\toprule\n",
       "{} &  usd\\_goal\\_real &  backers &  duration &  main\\_category\\_Comics &  main\\_category\\_Crafts &  main\\_category\\_Dance &  main\\_category\\_Design &  main\\_category\\_Fashion &  main\\_category\\_Film \\& Video &  main\\_category\\_Food &  main\\_category\\_Games &  main\\_category\\_Journalism &  main\\_category\\_Music &  main\\_category\\_Photography &  main\\_category\\_Publishing &  main\\_category\\_Technology &  main\\_category\\_Theater &  currency\\_CAD &  currency\\_CHF &  currency\\_DKK &  currency\\_EUR &  currency\\_GBP &  currency\\_HKD &  currency\\_MXN &  currency\\_NOK &  currency\\_NZD &  currency\\_SEK &  currency\\_SGD &  currency\\_USD \\\\\n",
       "\\midrule\n",
       "0 &      1533.9500 &        0 &        58 &                     0 &                     0 &                    0 &                     0 &                      0 &                           0 &                   0 &                    0 &                         0 &                    0 &                          0 &                         1 &                         0 &                      0 &             0 &             0 &             0 &             0 &             1 &             0 &             0 &             0 &             0 &             0 &             0 &             0 \\\\\n",
       "1 &     30000.0000 &       15 &        59 &                     0 &                     0 &                    0 &                     0 &                      0 &                           1 &                   0 &                    0 &                         0 &                    0 &                          0 &                         0 &                         0 &                      0 &             0 &             0 &             0 &             0 &             0 &             0 &             0 &             0 &             0 &             0 &             0 &             1 \\\\\n",
       "2 &     45000.0000 &        3 &        44 &                     0 &                     0 &                    0 &                     0 &                      0 &                           1 &                   0 &                    0 &                         0 &                    0 &                          0 &                         0 &                         0 &                      0 &             0 &             0 &             0 &             0 &             0 &             0 &             0 &             0 &             0 &             0 &             0 &             1 \\\\\n",
       "3 &      5000.0000 &        1 &        29 &                     0 &                     0 &                    0 &                     0 &                      0 &                           0 &                   0 &                    0 &                         0 &                    1 &                          0 &                         0 &                         0 &                      0 &             0 &             0 &             0 &             0 &             0 &             0 &             0 &             0 &             0 &             0 &             0 &             1 \\\\\n",
       "5 &     50000.0000 &      224 &        34 &                     0 &                     0 &                    0 &                     0 &                      0 &                           0 &                   1 &                    0 &                         0 &                    0 &                          0 &                         0 &                         0 &                      0 &             0 &             0 &             0 &             0 &             0 &             0 &             0 &             0 &             0 &             0 &             0 &             1 \\\\\n",
       "\\bottomrule\n",
       "\\end{tabular}\n"
      ],
      "text/html": [
       "<div>\n",
       "<style scoped>\n",
       "    .dataframe tbody tr th:only-of-type {\n",
       "        vertical-align: middle;\n",
       "    }\n",
       "\n",
       "    .dataframe tbody tr th {\n",
       "        vertical-align: top;\n",
       "    }\n",
       "\n",
       "    .dataframe thead th {\n",
       "        text-align: right;\n",
       "    }\n",
       "</style>\n",
       "<table border=\"1\" class=\"dataframe\">\n",
       "  <thead>\n",
       "    <tr style=\"text-align: right;\">\n",
       "      <th></th>\n",
       "      <th>usd_goal_real</th>\n",
       "      <th>backers</th>\n",
       "      <th>duration</th>\n",
       "      <th>main_category_Comics</th>\n",
       "      <th>main_category_Crafts</th>\n",
       "      <th>main_category_Dance</th>\n",
       "      <th>main_category_Design</th>\n",
       "      <th>main_category_Fashion</th>\n",
       "      <th>main_category_Film &amp; Video</th>\n",
       "      <th>main_category_Food</th>\n",
       "      <th>main_category_Games</th>\n",
       "      <th>main_category_Journalism</th>\n",
       "      <th>main_category_Music</th>\n",
       "      <th>main_category_Photography</th>\n",
       "      <th>main_category_Publishing</th>\n",
       "      <th>main_category_Technology</th>\n",
       "      <th>main_category_Theater</th>\n",
       "      <th>currency_CAD</th>\n",
       "      <th>currency_CHF</th>\n",
       "      <th>currency_DKK</th>\n",
       "      <th>currency_EUR</th>\n",
       "      <th>currency_GBP</th>\n",
       "      <th>currency_HKD</th>\n",
       "      <th>currency_MXN</th>\n",
       "      <th>currency_NOK</th>\n",
       "      <th>currency_NZD</th>\n",
       "      <th>currency_SEK</th>\n",
       "      <th>currency_SGD</th>\n",
       "      <th>currency_USD</th>\n",
       "    </tr>\n",
       "  </thead>\n",
       "  <tbody>\n",
       "    <tr>\n",
       "      <th>0</th>\n",
       "      <td>1533.9500</td>\n",
       "      <td>0</td>\n",
       "      <td>58</td>\n",
       "      <td>0</td>\n",
       "      <td>0</td>\n",
       "      <td>0</td>\n",
       "      <td>0</td>\n",
       "      <td>0</td>\n",
       "      <td>0</td>\n",
       "      <td>0</td>\n",
       "      <td>0</td>\n",
       "      <td>0</td>\n",
       "      <td>0</td>\n",
       "      <td>0</td>\n",
       "      <td>1</td>\n",
       "      <td>0</td>\n",
       "      <td>0</td>\n",
       "      <td>0</td>\n",
       "      <td>0</td>\n",
       "      <td>0</td>\n",
       "      <td>0</td>\n",
       "      <td>1</td>\n",
       "      <td>0</td>\n",
       "      <td>0</td>\n",
       "      <td>0</td>\n",
       "      <td>0</td>\n",
       "      <td>0</td>\n",
       "      <td>0</td>\n",
       "      <td>0</td>\n",
       "    </tr>\n",
       "    <tr>\n",
       "      <th>1</th>\n",
       "      <td>30000.0000</td>\n",
       "      <td>15</td>\n",
       "      <td>59</td>\n",
       "      <td>0</td>\n",
       "      <td>0</td>\n",
       "      <td>0</td>\n",
       "      <td>0</td>\n",
       "      <td>0</td>\n",
       "      <td>1</td>\n",
       "      <td>0</td>\n",
       "      <td>0</td>\n",
       "      <td>0</td>\n",
       "      <td>0</td>\n",
       "      <td>0</td>\n",
       "      <td>0</td>\n",
       "      <td>0</td>\n",
       "      <td>0</td>\n",
       "      <td>0</td>\n",
       "      <td>0</td>\n",
       "      <td>0</td>\n",
       "      <td>0</td>\n",
       "      <td>0</td>\n",
       "      <td>0</td>\n",
       "      <td>0</td>\n",
       "      <td>0</td>\n",
       "      <td>0</td>\n",
       "      <td>0</td>\n",
       "      <td>0</td>\n",
       "      <td>1</td>\n",
       "    </tr>\n",
       "    <tr>\n",
       "      <th>2</th>\n",
       "      <td>45000.0000</td>\n",
       "      <td>3</td>\n",
       "      <td>44</td>\n",
       "      <td>0</td>\n",
       "      <td>0</td>\n",
       "      <td>0</td>\n",
       "      <td>0</td>\n",
       "      <td>0</td>\n",
       "      <td>1</td>\n",
       "      <td>0</td>\n",
       "      <td>0</td>\n",
       "      <td>0</td>\n",
       "      <td>0</td>\n",
       "      <td>0</td>\n",
       "      <td>0</td>\n",
       "      <td>0</td>\n",
       "      <td>0</td>\n",
       "      <td>0</td>\n",
       "      <td>0</td>\n",
       "      <td>0</td>\n",
       "      <td>0</td>\n",
       "      <td>0</td>\n",
       "      <td>0</td>\n",
       "      <td>0</td>\n",
       "      <td>0</td>\n",
       "      <td>0</td>\n",
       "      <td>0</td>\n",
       "      <td>0</td>\n",
       "      <td>1</td>\n",
       "    </tr>\n",
       "    <tr>\n",
       "      <th>3</th>\n",
       "      <td>5000.0000</td>\n",
       "      <td>1</td>\n",
       "      <td>29</td>\n",
       "      <td>0</td>\n",
       "      <td>0</td>\n",
       "      <td>0</td>\n",
       "      <td>0</td>\n",
       "      <td>0</td>\n",
       "      <td>0</td>\n",
       "      <td>0</td>\n",
       "      <td>0</td>\n",
       "      <td>0</td>\n",
       "      <td>1</td>\n",
       "      <td>0</td>\n",
       "      <td>0</td>\n",
       "      <td>0</td>\n",
       "      <td>0</td>\n",
       "      <td>0</td>\n",
       "      <td>0</td>\n",
       "      <td>0</td>\n",
       "      <td>0</td>\n",
       "      <td>0</td>\n",
       "      <td>0</td>\n",
       "      <td>0</td>\n",
       "      <td>0</td>\n",
       "      <td>0</td>\n",
       "      <td>0</td>\n",
       "      <td>0</td>\n",
       "      <td>1</td>\n",
       "    </tr>\n",
       "    <tr>\n",
       "      <th>5</th>\n",
       "      <td>50000.0000</td>\n",
       "      <td>224</td>\n",
       "      <td>34</td>\n",
       "      <td>0</td>\n",
       "      <td>0</td>\n",
       "      <td>0</td>\n",
       "      <td>0</td>\n",
       "      <td>0</td>\n",
       "      <td>0</td>\n",
       "      <td>1</td>\n",
       "      <td>0</td>\n",
       "      <td>0</td>\n",
       "      <td>0</td>\n",
       "      <td>0</td>\n",
       "      <td>0</td>\n",
       "      <td>0</td>\n",
       "      <td>0</td>\n",
       "      <td>0</td>\n",
       "      <td>0</td>\n",
       "      <td>0</td>\n",
       "      <td>0</td>\n",
       "      <td>0</td>\n",
       "      <td>0</td>\n",
       "      <td>0</td>\n",
       "      <td>0</td>\n",
       "      <td>0</td>\n",
       "      <td>0</td>\n",
       "      <td>0</td>\n",
       "      <td>1</td>\n",
       "    </tr>\n",
       "  </tbody>\n",
       "</table>\n",
       "</div>"
      ]
     },
     "metadata": {},
     "execution_count": 50
    }
   ],
   "metadata": {}
  },
  {
   "cell_type": "code",
   "execution_count": null,
   "source": [
    "# genermos columnas dummies para el dato categorico de estado\r\n",
    "y = pd.get_dummies(data = df_classify.state, drop_first=True)\r\n",
    "y.head()"
   ],
   "outputs": [
    {
     "output_type": "execute_result",
     "data": {
      "text/plain": [
       "   successful\n",
       "0           0\n",
       "1           0\n",
       "2           0\n",
       "3           0\n",
       "5           1"
      ],
      "text/latex": [
       "\\begin{tabular}{lr}\n",
       "\\toprule\n",
       "{} &  successful \\\\\n",
       "\\midrule\n",
       "0 &           0 \\\\\n",
       "1 &           0 \\\\\n",
       "2 &           0 \\\\\n",
       "3 &           0 \\\\\n",
       "5 &           1 \\\\\n",
       "\\bottomrule\n",
       "\\end{tabular}\n"
      ],
      "text/html": [
       "<div>\n",
       "<style scoped>\n",
       "    .dataframe tbody tr th:only-of-type {\n",
       "        vertical-align: middle;\n",
       "    }\n",
       "\n",
       "    .dataframe tbody tr th {\n",
       "        vertical-align: top;\n",
       "    }\n",
       "\n",
       "    .dataframe thead th {\n",
       "        text-align: right;\n",
       "    }\n",
       "</style>\n",
       "<table border=\"1\" class=\"dataframe\">\n",
       "  <thead>\n",
       "    <tr style=\"text-align: right;\">\n",
       "      <th></th>\n",
       "      <th>successful</th>\n",
       "    </tr>\n",
       "  </thead>\n",
       "  <tbody>\n",
       "    <tr>\n",
       "      <th>0</th>\n",
       "      <td>0</td>\n",
       "    </tr>\n",
       "    <tr>\n",
       "      <th>1</th>\n",
       "      <td>0</td>\n",
       "    </tr>\n",
       "    <tr>\n",
       "      <th>2</th>\n",
       "      <td>0</td>\n",
       "    </tr>\n",
       "    <tr>\n",
       "      <th>3</th>\n",
       "      <td>0</td>\n",
       "    </tr>\n",
       "    <tr>\n",
       "      <th>5</th>\n",
       "      <td>1</td>\n",
       "    </tr>\n",
       "  </tbody>\n",
       "</table>\n",
       "</div>"
      ]
     },
     "metadata": {},
     "execution_count": 51
    }
   ],
   "metadata": {}
  },
  {
   "cell_type": "code",
   "execution_count": null,
   "source": [
    "from sklearn.model_selection import train_test_split\r\n",
    "X_train, X_test, y_train, y_test = train_test_split(X, y, test_size=.2)"
   ],
   "outputs": [],
   "metadata": {}
  },
  {
   "cell_type": "markdown",
   "source": [
    "# Dado que es un problema de clasificación podemos utilizar los siguientes algortmos\r\n",
    "## Regresión Logistica\r\n",
    "## Bosque Aleatorio\r\n",
    "## SVM (no recomendado para datasets con mas de 10000 registros)\r\n"
   ],
   "metadata": {}
  },
  {
   "cell_type": "code",
   "execution_count": null,
   "source": [
    "# Creamos el modelo\r\n",
    "from sklearn.linear_model import LogisticRegression\r\n",
    "ks_model = LogisticRegression().fit(X_train, y_train)"
   ],
   "outputs": [
    {
     "output_type": "stream",
     "name": "stderr",
     "text": [
      "C:\\Users\\lgutierrez\\AppData\\Local\\Programs\\Python\\Python39\\lib\\site-packages\\sklearn\\utils\\validation.py:63: DataConversionWarning: A column-vector y was passed when a 1d array was expected. Please change the shape of y to (n_samples, ), for example using ravel().\n",
      "  return f(*args, **kwargs)\n"
     ]
    }
   ],
   "metadata": {}
  },
  {
   "cell_type": "code",
   "execution_count": null,
   "source": [
    "# Validamos el modelo \r\n",
    "# aplicando una matriz de confusión\r\n",
    "from sklearn.metrics import confusion_matrix\r\n",
    "y_pred_test = ks_model.predict(X_test)\r\n",
    "confusion_matrix(y_test, y_pred_test)"
   ],
   "outputs": [
    {
     "output_type": "execute_result",
     "data": {
      "text/plain": [
       "array([[1026,   43],\n",
       "       [ 125,  560]], dtype=int64)"
      ]
     },
     "metadata": {},
     "execution_count": 54
    }
   ],
   "metadata": {}
  },
  {
   "cell_type": "markdown",
   "source": [
    "# Interpretación de la matriz de confusión\r\n",
    "## [Entradas clasificadas correctamente como 0 o falla     -     Entradas clasificadas incorrectamente como 1 o exito\r\n",
    "## Entradas clasificadas incorrectamente como 0 o fallas  -     Entradas clasificadas correctamente como 1 o exitos]\r\n",
    "\r\n",
    "### El objetivo maximizar la primera y la última entrada y minimizar las entradas clasificadas incorrectamente\r\n",
    "\r\n",
    "### en nuestro ejemplo se clasificó correctamente el 89.4%\r\n",
    "\r\n"
   ],
   "metadata": {}
  },
  {
   "cell_type": "code",
   "execution_count": null,
   "source": [
    "# Evaluamos el modelo utilizando la curva ROC (cuanto mayor es el área bajo la curva el algoritmo es más preciso)\r\n",
    "from sklearn import metrics\r\n",
    "y_pred_proba = ks_model.predict_proba(X_test)[::,1]\r\n",
    "fpr, tpr, _ = metrics.roc_curve(y_test, y_pred_proba)\r\n",
    "auc = metrics.roc_auc_score(y_test, y_pred_proba)\r\n",
    "plt.plot(fpr, tpr)"
   ],
   "outputs": [
    {
     "output_type": "execute_result",
     "data": {
      "text/plain": [
       "[<matplotlib.lines.Line2D at 0x2b187923dc0>]"
      ]
     },
     "metadata": {},
     "execution_count": 60
    },
    {
     "output_type": "display_data",
     "data": {
      "text/plain": [
       "<Figure size 432x288 with 1 Axes>"
      ],
      "image/png": "[encoded data removed]"
     },
     "metadata": {
      "needs_background": "light"
     }
    }
   ],
   "metadata": {}
  },
  {
   "cell_type": "code",
   "execution_count": null,
   "source": [
    "# Accuray Score\r\n",
    "auc"
   ],
   "outputs": [
    {
     "output_type": "execute_result",
     "data": {
      "text/plain": [
       "0.9549404928543628"
      ]
     },
     "metadata": {},
     "execution_count": 61
    }
   ],
   "metadata": {}
  },
  {
   "cell_type": "code",
   "execution_count": null,
   "source": [
    "# el área bajo la curva es superior al 95% lo cual es un buen indicador de que el modelo funciona correctamente\r\n",
    "# auqnue es posible mejorar ese numero con un algoritmo diferente"
   ],
   "outputs": [],
   "metadata": {}
  },
  {
   "cell_type": "code",
   "execution_count": null,
   "source": [
    "# Bosque aleatorio\r\n",
    "from sklearn.ensemble import RandomForestClassifier\r\n",
    "ks_rf = RandomForestClassifier().fit(X_train, y_train)"
   ],
   "outputs": [
    {
     "output_type": "stream",
     "name": "stderr",
     "text": [
      "<ipython-input-67-b3ef4208de55>:3: DataConversionWarning: A column-vector y was passed when a 1d array was expected. Please change the shape of y to (n_samples,), for example using ravel().\n",
      "  ks_rf = RandomForestClassifier().fit(X_train, y_train)\n"
     ]
    }
   ],
   "metadata": {}
  },
  {
   "cell_type": "code",
   "execution_count": null,
   "source": [
    "# generamos la matriz de confusión\r\n",
    "y_pred_test_rf = ks_rf.predict(X_test)\r\n",
    "confusion_matrix(y_test, y_pred_test_rf)"
   ],
   "outputs": [
    {
     "output_type": "execute_result",
     "data": {
      "text/plain": [
       "array([[1000,   69],\n",
       "       [  72,  613]], dtype=int64)"
      ]
     },
     "metadata": {},
     "execution_count": 68
    }
   ],
   "metadata": {}
  },
  {
   "cell_type": "code",
   "execution_count": null,
   "source": [
    "# el 91.25% de las entradas fueron clasificadas correctamente"
   ],
   "outputs": [],
   "metadata": {}
  },
  {
   "cell_type": "code",
   "execution_count": null,
   "source": [
    "# trazamos la curva ROC para el bosque aleatorio que hemos creado\r\n",
    "y_pred_proba_rf = ks_rf.predict_proba(X_test)[::,1]\r\n",
    "fpr, tpr, _ = metrics.roc_curve(y_test, y_pred_proba_rf)\r\n",
    "auc = metrics.roc_auc_score(y_test, y_pred_proba_rf)\r\n",
    "plt.plot(fpr, tpr)"
   ],
   "outputs": [
    {
     "output_type": "execute_result",
     "data": {
      "text/plain": [
       "[<matplotlib.lines.Line2D at 0x2b18a333640>]"
      ]
     },
     "metadata": {},
     "execution_count": 72
    },
    {
     "output_type": "display_data",
     "data": {
      "text/plain": [
       "<Figure size 432x288 with 1 Axes>"
      ],
      "image/png": "[encoded data removed]"
     },
     "metadata": {
      "needs_background": "light"
     }
    }
   ],
   "metadata": {}
  },
  {
   "cell_type": "code",
   "execution_count": null,
   "source": [
    "# Acuraccy es modelo de random forest es mejor opción al mejorar en 2 puntos porcentules la evaluación del modelo.\r\n",
    "auc"
   ],
   "outputs": [
    {
     "output_type": "execute_result",
     "data": {
      "text/plain": [
       "0.9735922104702532"
      ]
     },
     "metadata": {},
     "execution_count": 74
    }
   ],
   "metadata": {}
  },
  {
   "cell_type": "code",
   "execution_count": null,
   "source": [],
   "outputs": [],
   "metadata": {}
  }
 ],
 "metadata": {
  "orig_nbformat": 4,
  "language_info": {
   "name": "python",
   "version": "3.9.6",
   "mimetype": "text/x-python",
   "codemirror_mode": {
    "name": "ipython",
    "version": 3
   },
   "pygments_lexer": "ipython3",
   "nbconvert_exporter": "python",
   "file_extension": ".py"
  },
  "kernelspec": {
   "name": "python3",
   "display_name": "Python 3.9.6 64-bit"
  },
  "interpreter": {
   "hash": "376f5b0795f81aa7b5d99e448d6274743a66c9892fd26cf11e505993f41df5fa"
  }
 },
 "nbformat": 4,
 "nbformat_minor": 2
}