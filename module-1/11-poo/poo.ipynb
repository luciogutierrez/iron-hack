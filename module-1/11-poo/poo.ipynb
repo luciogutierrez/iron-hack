{
 "metadata": {
  "language_info": {
   "codemirror_mode": {
    "name": "ipython",
    "version": 3
   },
   "file_extension": ".py",
   "mimetype": "text/x-python",
   "name": "python",
   "nbconvert_exporter": "python",
   "pygments_lexer": "ipython3",
   "version": "3.9.1"
  },
  "orig_nbformat": 2,
  "kernelspec": {
   "name": "python391jvsc74a57bd0376f5b0795f81aa7b5d99e448d6274743a66c9892fd26cf11e505993f41df5fa",
   "display_name": "Python 3.9.1 64-bit"
  },
  "metadata": {
   "interpreter": {
    "hash": "6af16443e49605eaf1f7f5b375df12eb0e61812ff6dd89ffc1c2d2f251c0d791"
   }
  }
 },
 "nbformat": 4,
 "nbformat_minor": 2,
 "cells": [
  {
   "source": [
    "# Programación Orientada a Objetos"
   ],
   "cell_type": "markdown",
   "metadata": {}
  },
  {
   "source": [
    "## Ejemplo"
   ],
   "cell_type": "markdown",
   "metadata": {}
  },
  {
   "cell_type": "code",
   "execution_count": 5,
   "metadata": {},
   "outputs": [],
   "source": [
    "import numpy as np\n",
    "def ordinary_least_squares(X, y):\n",
    "    # Esta función regresa los coeficientes de regresión del modelo lineal\n",
    "    # input: \"X\" - es la variable de predicción y \"y\" variables de respuesta\n",
    "    # output: coeficiente de regresion\n",
    "    xtx = np.dot(X.T, X) ## x-traspose time x\n",
    "    xtx_inv = np.linalg.inv(xtx) ## inversa de los tiempos de transposición x\n",
    "    xty = np.dot(X.T, y) ## tiempos de transposición de x y\n",
    "    return np.dot(xtx_inv, xty)\n",
    "\n"
   ]
  },
  {
   "source": [
    "### Esta función devuelve los coeficientes de regresion. para hacer una predicción primero\n",
    "### llamaremos la función de minimos cuadrado y luego multiplicaremos los valores obaservados\n",
    "### por los coeficientes"
   ],
   "cell_type": "markdown",
   "metadata": {}
  },
  {
   "cell_type": "code",
   "execution_count": 6,
   "metadata": {},
   "outputs": [],
   "source": [
    "coefficients = ordinary_least_squares(X, y)\n",
    "predicted = np.dot(X, coefficients)"
   ]
  },
  {
   "source": [
    "## Creando un Objeto\n",
    "\n",
    "### las clases tiene dos objetos interesantes\n",
    "\n",
    "## self - la variable self\n",
    "### la variable self es accesible por todas las otra variables y metodos dentro de la clase.\n",
    "### esta variable nos ayuda a pasar información sin tener que volver a calcular la clase cada vez.\n",
    "\n",
    "## \\_\\_init\\_\\_ la función\n",
    "### suele ser la primera función de un objeto. la razón por la que tiene dos guiones bajos antes y despues \n",
    "### del nombre es para indicar que es interna al objeto y podrá llamarse desde fuera del mismo.\n"
   ],
   "cell_type": "markdown",
   "metadata": {}
  },
  {
   "cell_type": "code",
   "execution_count": null,
   "metadata": {},
   "outputs": [],
   "source": [
    "class linearReg:\n",
    "    def __init__(self, fit_intercept=True):\n",
    "        self.fit_intercept = fit_intercept\n",
    "        self.coefficients = None\n",
    "        self.fit_intercept = None"
   ]
  },
  {
   "source": [
    "### En esta función de la clase establecemos el valor \"True\" predeterminado a la variable \"fit_intercept\".\n",
    "### luego asignamos este valor a \"self\". Tambien definimos dos atributos adicionales para self que por el momento\n",
    "### estan inicializados en None, los calcularemos más tarde."
   ],
   "cell_type": "markdown",
   "metadata": {}
  },
  {
   "source": [
    "## Construyendo la clase"
   ],
   "cell_type": "markdown",
   "metadata": {}
  },
  {
   "cell_type": "code",
   "execution_count": 8,
   "metadata": {},
   "outputs": [],
   "source": [
    "import numpy as np\n",
    "class linearReg:\n",
    "    def __init__(self, fit_intercept=True):\n",
    "        self.fit_intercept = fit_intercept\n",
    "        self.coefficients = None\n",
    "        self.fit_intercept = None\n",
    "    \n",
    "    def fit(self, X, y):\n",
    "        # Esta función devuelve el modelo lineal ajustado\n",
    "        # input : X -variable predictora y \"y\" variable de respuesta\n",
    "        # output: coeficientes de regresion.\n",
    "        xtx = np.dot(X.T, X) ## x-traspose time x\n",
    "        xtx_inv = np.linalg.inv(xtx) ## inversa de los tiempos de transposición x\n",
    "        xty = np.dot(X.T, y) ## tiempos de transposición de x y\n",
    "        coefficients = np.dot(xtx_inv, xty)\n",
    "\n",
    "        if self.fit_intercept:\n",
    "            self.intercept = coefficients[0]\n",
    "            self.coefficients = coefficients[1:]\n",
    "        else:\n",
    "            self.intercept = 0\n",
    "            self.coefficients = coefficients\n",
    "\n",
    "    def predict(self, X):\n",
    "        # Esta función devuelve los valores predecidos\n",
    "        # input: arreglo de variables dependientes\n",
    "        # output: valores predecidos\n",
    "        if len(X.shape) == 1:\n",
    "            X = X.reshape(-1, 1)\n",
    "            return self.intercept + np.dot(X, self.coef_)\n",
    "            "
   ]
  },
  {
   "source": [
    "## Iniciar la Clase\n",
    "\n",
    "### cuando invocamos la clase generamos una instancia de la clase y se convoca la función \\_\\_init\\_\\_"
   ],
   "cell_type": "markdown",
   "metadata": {}
  },
  {
   "cell_type": "code",
   "execution_count": 9,
   "metadata": {},
   "outputs": [],
   "source": [
    "linereg = linearReg()"
   ]
  },
  {
   "source": [
    "### ahora podemos usar la instancia para invocar los metodos y funcioens de la clase"
   ],
   "cell_type": "markdown",
   "metadata": {}
  },
  {
   "cell_type": "code",
   "execution_count": null,
   "metadata": {},
   "outputs": [],
   "source": [
    "linereg.fit(X, y)"
   ]
  },
  {
   "source": [
    "# POO Clases, Objetos y Métodos"
   ],
   "cell_type": "markdown",
   "metadata": {}
  },
  {
   "source": [
    "## Creación de una clase\n",
    "\n",
    "### para crear una clase lo hacesmos escribiendo la palabra class seguida del nombre de la clase\n",
    "### la clase debe empezar con una letra Mayuscula y si tiene más palabras utiliza la notación del camillito.\n"
   ],
   "cell_type": "markdown",
   "metadata": {}
  },
  {
   "cell_type": "code",
   "execution_count": null,
   "metadata": {},
   "outputs": [],
   "source": [
    "class Carro:"
   ]
  },
  {
   "source": [
    "### los metodos se deben sangrar dentro de la clase"
   ],
   "cell_type": "markdown",
   "metadata": {}
  },
  {
   "cell_type": "code",
   "execution_count": 11,
   "metadata": {},
   "outputs": [],
   "source": [
    "class Carro:\n",
    "    ruedas=4"
   ]
  },
  {
   "source": [
    "### Los metodos se declaran como las funciones con \"def\" y a diferencia de las funciones los metodos en python\n",
    "### con el parametro \"self\"."
   ],
   "cell_type": "markdown",
   "metadata": {}
  },
  {
   "cell_type": "code",
   "execution_count": 18,
   "metadata": {},
   "outputs": [],
   "source": [
    "class Carro:\n",
    "    ruedas = 4\n",
    "\n",
    "    def desplazamiento(self):\n",
    "        return print('El carro se dezpalza sobre 4 ruedas')\n"
   ]
  },
  {
   "source": [
    "### Una vez que la clase esta lista, para utilizarla se crean objetos o instancias de la clase."
   ],
   "cell_type": "markdown",
   "metadata": {}
  },
  {
   "cell_type": "code",
   "execution_count": 14,
   "metadata": {},
   "outputs": [],
   "source": [
    "mi_Carro = Carro()"
   ]
  },
  {
   "cell_type": "code",
   "execution_count": 19,
   "metadata": {},
   "outputs": [
    {
     "output_type": "stream",
     "name": "stdout",
     "text": [
      "4\n"
     ]
    }
   ],
   "source": [
    "print(mi_Carro.ruedas)"
   ]
  },
  {
   "cell_type": "code",
   "execution_count": 20,
   "metadata": {},
   "outputs": [
    {
     "output_type": "stream",
     "name": "stdout",
     "text": [
      "El carro se dezpalza sobre 4 ruedas\nNone\n"
     ]
    }
   ],
   "source": [
    "print(mi_Carro.desplazamiento())"
   ]
  },
  {
   "source": [
    "## Metodo Constructor\n",
    "\n",
    "## El metodo constructor le da el estado inicial a una clase\n"
   ],
   "cell_type": "markdown",
   "metadata": {}
  },
  {
   "cell_type": "code",
   "execution_count": 23,
   "metadata": {},
   "outputs": [],
   "source": [
    "class Carro:\n",
    "\n",
    "    def __init__(self, color, marca):\n",
    "        self.color = color\n",
    "        self.marca = marca\n",
    "\n",
    "    ruedas = 4\n",
    "\n",
    "    def desplazamiento(self):\n",
    "        return print('El carro se dezpalza sobre 4 ruedas')\n"
   ]
  },
  {
   "source": [
    "## Al instanciar la clase, creamos un objeto carro y hay que pasarle los parametros iniciales"
   ],
   "cell_type": "markdown",
   "metadata": {}
  },
  {
   "cell_type": "code",
   "execution_count": 24,
   "metadata": {},
   "outputs": [],
   "source": [
    "mi_Carro = Carro('rojo','vw')"
   ]
  },
  {
   "cell_type": "code",
   "execution_count": 26,
   "metadata": {},
   "outputs": [
    {
     "output_type": "stream",
     "name": "stdout",
     "text": [
      "Mi carro es de la marca vw y es de color rojo\n"
     ]
    }
   ],
   "source": [
    "print('Mi carro es de la marca {} y es de color {}' .format(mi_Carro.marca, mi_Carro.color))"
   ]
  },
  {
   "source": [
    "## Metodo string\n",
    "\n",
    "### permite agregar una descripción del mentodo"
   ],
   "cell_type": "markdown",
   "metadata": {}
  },
  {
   "cell_type": "code",
   "execution_count": 31,
   "metadata": {},
   "outputs": [
    {
     "output_type": "stream",
     "name": "stdout",
     "text": [
      "<__main__.Carro object at 0x000001C829FC5640>\n"
     ]
    }
   ],
   "source": [
    "print(mi_Carro)"
   ]
  },
  {
   "cell_type": "code",
   "execution_count": 38,
   "metadata": {},
   "outputs": [],
   "source": [
    "class Carro:\n",
    "\n",
    "    def __init__(self, color, marca):\n",
    "        self.color = color\n",
    "        self.marca = marca\n",
    "\n",
    "    def __str__(self):\n",
    "            return \"\"\"\\\n",
    "    Marca: {}\n",
    "    Color: {}\"\"\".format(self.marca, self.color)\n",
    "\n",
    "    ruedas = 4\n",
    "\n",
    "    def desplazamiento(self):\n",
    "        return print('El carro se dezpalza sobre 4 ruedas')\n"
   ]
  },
  {
   "cell_type": "code",
   "execution_count": 39,
   "metadata": {},
   "outputs": [
    {
     "output_type": "stream",
     "name": "stdout",
     "text": [
      "    Marca: vw\n    Color: rojo\n"
     ]
    }
   ],
   "source": [
    "mi_Carro = Carro('rojo','vw')\n",
    "print(mi_Carro)"
   ]
  },
  {
   "source": [
    "## Herencia\n",
    "\n",
    "### se denomina herencia a la accion de crear una clase a partir de una clase previamente creda"
   ],
   "cell_type": "markdown",
   "metadata": {}
  },
  {
   "cell_type": "code",
   "execution_count": 51,
   "metadata": {},
   "outputs": [],
   "source": [
    "class moto(Carro):\n",
    "    ruedas = 2\n",
    "    \n",
    "    def desplazamiento(self):\n",
    "        return print('Mi moto se desplaza en 2 ruedas')\n"
   ]
  },
  {
   "cell_type": "code",
   "execution_count": 56,
   "metadata": {},
   "outputs": [
    {
     "output_type": "stream",
     "name": "stdout",
     "text": [
      "2\nAzul\n"
     ]
    }
   ],
   "source": [
    "mi_moto = moto('Azul','MB')\n",
    "print(mi_moto.ruedas)\n",
    "print(mi_moto.color)"
   ]
  },
  {
   "cell_type": "code",
   "execution_count": 57,
   "metadata": {},
   "outputs": [
    {
     "output_type": "stream",
     "name": "stdout",
     "text": [
      "Mi moto se desplaza en 2 ruedas\nNone\n"
     ]
    }
   ],
   "source": [
    "print(mi_moto.desplazamiento())"
   ]
  },
  {
   "source": [
    "# POO Python\n",
    "\n",
    "### Organizar bloques de código muy grandes que sean flexibles y optimizados\n",
    "### Provee una estructura más limpia para codear.\n",
    "### Falilita el mantenimiento y modificación de código existente.\n",
    "* Compartir clases y reusar código"
   ],
   "cell_type": "markdown",
   "metadata": {}
  },
  {
   "cell_type": "code",
   "execution_count": 3,
   "metadata": {},
   "outputs": [],
   "source": [
    "# Clase\n",
    "class Nuevo:\n",
    "    # Metodo\n",
    "    def has_algo(self):\n",
    "        pass"
   ]
  },
  {
   "cell_type": "code",
   "execution_count": 4,
   "metadata": {},
   "outputs": [],
   "source": [
    "# Creando una instancia de Nuevo\n",
    "# Hereda todo lo que tiene la clase nuevo\n",
    "producto = Nuevo()"
   ]
  },
  {
   "cell_type": "code",
   "execution_count": 5,
   "metadata": {},
   "outputs": [
    {
     "output_type": "execute_result",
     "data": {
      "text/plain": [
       "__main__.Nuevo"
      ]
     },
     "metadata": {},
     "execution_count": 5
    }
   ],
   "source": [
    "# type nos muesta el nombre de la clase origen\n",
    "type(producto)"
   ]
  },
  {
   "cell_type": "code",
   "execution_count": 6,
   "metadata": {},
   "outputs": [],
   "source": [
    "# se peuden agregar atributos de instancia que son exclusivos de esta \n",
    "producto.nombre = 'Laptop'"
   ]
  },
  {
   "cell_type": "code",
   "execution_count": 7,
   "metadata": {},
   "outputs": [
    {
     "output_type": "execute_result",
     "data": {
      "text/plain": [
       "'Laptop'"
      ]
     },
     "metadata": {},
     "execution_count": 7
    }
   ],
   "source": [
    "# se peuden agregar atributos de instancia que son exclusivos de esta \n",
    "producto.nombre"
   ]
  },
  {
   "cell_type": "code",
   "execution_count": 8,
   "metadata": {},
   "outputs": [],
   "source": [
    "producto.marcas = ['hp','alienware','rensorbook']"
   ]
  },
  {
   "cell_type": "code",
   "execution_count": 10,
   "metadata": {},
   "outputs": [
    {
     "output_type": "execute_result",
     "data": {
      "text/plain": [
       "['hp', 'alienware', 'rensorbook']"
      ]
     },
     "metadata": {},
     "execution_count": 10
    }
   ],
   "source": [
    "producto.marcas"
   ]
  },
  {
   "cell_type": "code",
   "execution_count": 12,
   "metadata": {},
   "outputs": [
    {
     "output_type": "error",
     "ename": "AttributeError",
     "evalue": "'Nuevo' object has no attribute 'nombre'",
     "traceback": [
      "\u001b[1;31m---------------------------------------------------------------------------\u001b[0m",
      "\u001b[1;31mAttributeError\u001b[0m                            Traceback (most recent call last)",
      "\u001b[1;32m<ipython-input-12-15f799f395c8>\u001b[0m in \u001b[0;36m<module>\u001b[1;34m\u001b[0m\n\u001b[0;32m      1\u001b[0m \u001b[1;31m# el atributos nombre no existe en la clase solo en la instancia\u001b[0m\u001b[1;33m\u001b[0m\u001b[1;33m\u001b[0m\u001b[1;33m\u001b[0m\u001b[0m\n\u001b[0;32m      2\u001b[0m \u001b[0malimentos\u001b[0m \u001b[1;33m=\u001b[0m \u001b[0mNuevo\u001b[0m\u001b[1;33m(\u001b[0m\u001b[1;33m)\u001b[0m\u001b[1;33m\u001b[0m\u001b[1;33m\u001b[0m\u001b[0m\n\u001b[1;32m----> 3\u001b[1;33m \u001b[0malimentos\u001b[0m\u001b[1;33m.\u001b[0m\u001b[0mnombre\u001b[0m\u001b[1;33m\u001b[0m\u001b[1;33m\u001b[0m\u001b[0m\n\u001b[0m",
      "\u001b[1;31mAttributeError\u001b[0m: 'Nuevo' object has no attribute 'nombre'"
     ]
    }
   ],
   "source": [
    "# el atributos nombre no existe en la clase solo en la instancia\n",
    "alimentos = Nuevo()\n",
    "alimentos.nombre"
   ]
  },
  {
   "cell_type": "code",
   "execution_count": 24,
   "metadata": {},
   "outputs": [],
   "source": [
    "class Inmuebles():\n",
    "\n",
    "    # Constructor que inicializa la instancia dentreo de la clase\n",
    "    def __init__(self, area, precio, alberca):\n",
    "        self.area = area\n",
    "        self.precio = precio\n",
    "        self.alberca = alberca\n",
    "        # def __init__(hacienda_cristina, 1000, 450000, True)\n",
    "        # hacienda_cristina.area = 10000\n",
    "        # hacienda_cristina.precio = 450000\n",
    "        # hacienda_cristina.area = True\n",
    "        "
   ]
  },
  {
   "cell_type": "code",
   "execution_count": 22,
   "metadata": {},
   "outputs": [
    {
     "output_type": "error",
     "ename": "TypeError",
     "evalue": "__init__() missing 3 required positional arguments: 'area', 'precio', and 'alberca'",
     "traceback": [
      "\u001b[1;31m---------------------------------------------------------------------------\u001b[0m",
      "\u001b[1;31mTypeError\u001b[0m                                 Traceback (most recent call last)",
      "\u001b[1;32m<ipython-input-22-f89dca96a525>\u001b[0m in \u001b[0;36m<module>\u001b[1;34m\u001b[0m\n\u001b[1;32m----> 1\u001b[1;33m \u001b[0mhacienda\u001b[0m \u001b[1;33m=\u001b[0m \u001b[0mInmuebles\u001b[0m\u001b[1;33m(\u001b[0m\u001b[1;33m)\u001b[0m\u001b[1;33m\u001b[0m\u001b[1;33m\u001b[0m\u001b[0m\n\u001b[0m",
      "\u001b[1;31mTypeError\u001b[0m: __init__() missing 3 required positional arguments: 'area', 'precio', and 'alberca'"
     ]
    }
   ],
   "source": [
    "hacienda = Inmuebles()"
   ]
  },
  {
   "cell_type": "code",
   "execution_count": 27,
   "metadata": {},
   "outputs": [],
   "source": [
    "hacienda_cristina = Inmuebles(1000,450000,True)"
   ]
  },
  {
   "cell_type": "code",
   "execution_count": 28,
   "metadata": {},
   "outputs": [
    {
     "output_type": "execute_result",
     "data": {
      "text/plain": [
       "1000"
      ]
     },
     "metadata": {},
     "execution_count": 28
    }
   ],
   "source": [
    "hacienda_cristina.area"
   ]
  },
  {
   "cell_type": "code",
   "execution_count": 30,
   "metadata": {},
   "outputs": [],
   "source": [
    "penthouse_rho = Inmuebles(300, 1500000, False)"
   ]
  },
  {
   "cell_type": "code",
   "execution_count": 32,
   "metadata": {},
   "outputs": [
    {
     "output_type": "stream",
     "name": "stdout",
     "text": [
      "450000 1500000\n"
     ]
    }
   ],
   "source": [
    "print(hacienda_cristina.precio, penthouse_rho.precio)"
   ]
  },
  {
   "cell_type": "code",
   "execution_count": 34,
   "metadata": {},
   "outputs": [
    {
     "output_type": "execute_result",
     "data": {
      "text/plain": [
       "{'area': 1000, 'precio': 450000, 'alberca': True}"
      ]
     },
     "metadata": {},
     "execution_count": 34
    }
   ],
   "source": [
    "## __dict__ descripción de la instancia\n",
    "hacienda_cristina.__dict__"
   ]
  },
  {
   "cell_type": "code",
   "execution_count": 30,
   "metadata": {},
   "outputs": [],
   "source": [
    "class Pelicula():\n",
    "    genero = \"accion\"\n",
    "    def __init__(self, precioPorDia):\n",
    "        self.precioPorDdia = precioPorDia\n"
   ]
  },
  {
   "cell_type": "code",
   "execution_count": 31,
   "metadata": {},
   "outputs": [],
   "source": [
    "lord_of_the_rings = Pelicula(30)"
   ]
  },
  {
   "cell_type": "code",
   "execution_count": 67,
   "metadata": {},
   "outputs": [
    {
     "output_type": "execute_result",
     "data": {
      "text/plain": [
       "{'precioPorDdia': 30}"
      ]
     },
     "metadata": {},
     "execution_count": 67
    }
   ],
   "source": [
    "lord_of_the_rings.__dict__"
   ]
  },
  {
   "cell_type": "code",
   "execution_count": 33,
   "metadata": {},
   "outputs": [],
   "source": [
    "the_mask = Pelicula(20)"
   ]
  },
  {
   "cell_type": "code",
   "execution_count": 35,
   "metadata": {},
   "outputs": [],
   "source": [
    "class Auto():\n",
    "    tipo = \"electrico\"\n",
    "    def __init__(self, color=\"rojo\"):\n",
    "        self.color = color"
   ]
  },
  {
   "cell_type": "code",
   "execution_count": 36,
   "metadata": {},
   "outputs": [
    {
     "output_type": "execute_result",
     "data": {
      "text/plain": [
       "mappingproxy({'__module__': '__main__',\n",
       "              'tipo': 'electrico',\n",
       "              '__init__': <function __main__.Auto.__init__(self, color='rojo')>,\n",
       "              '__dict__': <attribute '__dict__' of 'Auto' objects>,\n",
       "              '__weakref__': <attribute '__weakref__' of 'Auto' objects>,\n",
       "              '__doc__': None})"
      ]
     },
     "metadata": {},
     "execution_count": 36
    }
   ],
   "source": [
    "Auto.__dict__"
   ]
  },
  {
   "cell_type": "code",
   "execution_count": 37,
   "metadata": {},
   "outputs": [
    {
     "output_type": "error",
     "ename": "AttributeError",
     "evalue": "type object 'Auto' has no attribute 'color'",
     "traceback": [
      "\u001b[1;31m---------------------------------------------------------------------------\u001b[0m",
      "\u001b[1;31mAttributeError\u001b[0m                            Traceback (most recent call last)",
      "\u001b[1;32m<ipython-input-37-9b5914a67515>\u001b[0m in \u001b[0;36m<module>\u001b[1;34m\u001b[0m\n\u001b[1;32m----> 1\u001b[1;33m \u001b[0mAuto\u001b[0m\u001b[1;33m.\u001b[0m\u001b[0mcolor\u001b[0m\u001b[1;33m\u001b[0m\u001b[1;33m\u001b[0m\u001b[0m\n\u001b[0m",
      "\u001b[1;31mAttributeError\u001b[0m: type object 'Auto' has no attribute 'color'"
     ]
    }
   ],
   "source": [
    "Auto.color"
   ]
  },
  {
   "cell_type": "code",
   "execution_count": 75,
   "metadata": {},
   "outputs": [],
   "source": [
    "audi = Auto()"
   ]
  },
  {
   "cell_type": "code",
   "execution_count": 78,
   "metadata": {},
   "outputs": [
    {
     "output_type": "execute_result",
     "data": {
      "text/plain": [
       "'rojo'"
      ]
     },
     "metadata": {},
     "execution_count": 78
    }
   ],
   "source": [
    "audi.color"
   ]
  },
  {
   "cell_type": "code",
   "execution_count": 79,
   "metadata": {},
   "outputs": [
    {
     "output_type": "execute_result",
     "data": {
      "text/plain": [
       "{'color': 'rojo'}"
      ]
     },
     "metadata": {},
     "execution_count": 79
    }
   ],
   "source": [
    "audi.__dict__"
   ]
  },
  {
   "cell_type": "code",
   "execution_count": 13,
   "metadata": {},
   "outputs": [],
   "source": [
    "# Calse para ventas\n",
    "from statistics import mean\n",
    "\n",
    "class Custumers:\n",
    "    region = 'Mexico'\n",
    "    segmento = '\"Celulares'\n",
    "\n",
    "    def __init__(self, nombre, edad, compañia, email, id_cliente, metodo_pago):\n",
    "        self.nombre         = nombre\n",
    "        self.edad           = edad\n",
    "        self.compañia       = compañia\n",
    "        self.email          = email\n",
    "        self.id_cliente     = id_cliente\n",
    "        self.metodo_pago    = metodo_pago\n",
    "\n",
    "    def avg_ticket(self, compras):\n",
    "        return mean(compras)\n",
    "    \n",
    "    def antiguedad(self, fecha_registro, fecha_actual):\n",
    "        return fecha_actual - fecha_registro"
   ]
  },
  {
   "cell_type": "code",
   "execution_count": 6,
   "metadata": {},
   "outputs": [],
   "source": [
    "toro = Custumers('Toro','29','Telcel','toro@toromexico.com','00','Bitcoin')"
   ]
  },
  {
   "cell_type": "code",
   "execution_count": 7,
   "metadata": {},
   "outputs": [
    {
     "output_type": "execute_result",
     "data": {
      "text/plain": [
       "{'nombre': 'Toro',\n",
       " 'edad': '29',\n",
       " 'compañia': 'Telcel',\n",
       " 'email': 'toro@toromexico.com',\n",
       " 'id_cliente': '00',\n",
       " 'metodo_pago': 'Bitcoin'}"
      ]
     },
     "metadata": {},
     "execution_count": 7
    }
   ],
   "source": [
    "toro.__dict__"
   ]
  },
  {
   "cell_type": "code",
   "execution_count": 8,
   "metadata": {},
   "outputs": [
    {
     "output_type": "execute_result",
     "data": {
      "text/plain": [
       "38.75"
      ]
     },
     "metadata": {},
     "execution_count": 8
    }
   ],
   "source": [
    "toro_pago = toro.avg_ticket([39,40,53,23])\n",
    "toro_pago"
   ]
  },
  {
   "cell_type": "code",
   "execution_count": 9,
   "metadata": {},
   "outputs": [
    {
     "output_type": "execute_result",
     "data": {
      "text/plain": [
       "14"
      ]
     },
     "metadata": {},
     "execution_count": 9
    }
   ],
   "source": [
    "toro.antiguedad(20100101, 20100115)"
   ]
  },
  {
   "cell_type": "code",
   "execution_count": 15,
   "metadata": {},
   "outputs": [],
   "source": [
    "jose_juan = Custumers('Jose Juan','00','Virgin Mobile','josejuan@jj.com','01','usd')\n",
    "rho = Custumers('Rho','00','Bair','bair@hotmial.com','01','pesos')"
   ]
  },
  {
   "cell_type": "code",
   "execution_count": 26,
   "metadata": {},
   "outputs": [],
   "source": [
    "def ticket_promedio(compras):\n",
    "    return mean(compras)"
   ]
  },
  {
   "cell_type": "code",
   "execution_count": 20,
   "metadata": {},
   "outputs": [
    {
     "output_type": "execute_result",
     "data": {
      "text/plain": [
       "38.75"
      ]
     },
     "metadata": {},
     "execution_count": 20
    }
   ],
   "source": [
    "jose_juan_pago = jose_juan.avg_ticket([39,40,53,23])\n",
    "jose_juan_pago"
   ]
  },
  {
   "cell_type": "code",
   "execution_count": 21,
   "metadata": {},
   "outputs": [
    {
     "output_type": "execute_result",
     "data": {
      "text/plain": [
       "38.75"
      ]
     },
     "metadata": {},
     "execution_count": 21
    }
   ],
   "source": [
    "rho_pago = rho.avg_ticket([39,40,53,23])\n",
    "rho_pago"
   ]
  },
  {
   "cell_type": "code",
   "execution_count": 22,
   "metadata": {},
   "outputs": [
    {
     "output_type": "execute_result",
     "data": {
      "text/plain": [
       "38.75"
      ]
     },
     "metadata": {},
     "execution_count": 22
    }
   ],
   "source": [
    "toro_pago = toro.avg_ticket([39,40,53,23])\n",
    "toro_pago"
   ]
  },
  {
   "cell_type": "code",
   "execution_count": 27,
   "metadata": {},
   "outputs": [
    {
     "output_type": "execute_result",
     "data": {
      "text/plain": [
       "38.75"
      ]
     },
     "metadata": {},
     "execution_count": 27
    }
   ],
   "source": [
    "lista = [toro_pago, jose_juan_pago, rho_pago]\n",
    "ticket_promedio(lista)"
   ]
  },
  {
   "cell_type": "code",
   "execution_count": 28,
   "metadata": {},
   "outputs": [
    {
     "output_type": "error",
     "ename": "SyntaxError",
     "evalue": "invalid syntax (<ipython-input-28-83105510b3c1>, line 1)",
     "traceback": [
      "\u001b[1;36m  File \u001b[1;32m\"<ipython-input-28-83105510b3c1>\"\u001b[1;36m, line \u001b[1;32m1\u001b[0m\n\u001b[1;33m    toro_2 = Customers('toro 2','00','Virgin Mobile'.'josejuan@jj.com','01','usd')\u001b[0m\n\u001b[1;37m                                                     ^\u001b[0m\n\u001b[1;31mSyntaxError\u001b[0m\u001b[1;31m:\u001b[0m invalid syntax\n"
     ]
    }
   ],
   "source": [
    "toro_2 = Customers('toro 2','00','Virgin Mobile'.'josejuan@jj.com','01','usd')\n",
    "toro_2.nacionalidad"
   ]
  },
  {
   "source": [
    "# OOP Herencia"
   ],
   "cell_type": "markdown",
   "metadata": {}
  },
  {
   "cell_type": "code",
   "execution_count": 39,
   "metadata": {},
   "outputs": [],
   "source": [
    "class Animal:\n",
    "    color = \"rojo\"\n",
    "\n",
    "    def imprimir_color(color):\n",
    "        print(color)\n",
    "\n"
   ]
  },
  {
   "cell_type": "code",
   "execution_count": 40,
   "metadata": {},
   "outputs": [
    {
     "output_type": "execute_result",
     "data": {
      "text/plain": [
       "'rojo'"
      ]
     },
     "metadata": {},
     "execution_count": 40
    }
   ],
   "source": [
    "Animal.color"
   ]
  },
  {
   "cell_type": "code",
   "execution_count": 41,
   "metadata": {},
   "outputs": [
    {
     "output_type": "stream",
     "name": "stdout",
     "text": [
      "Azul\n"
     ]
    }
   ],
   "source": [
    "Animal.imprimir_color(\"Azul\")"
   ]
  },
  {
   "cell_type": "code",
   "execution_count": 42,
   "metadata": {},
   "outputs": [
    {
     "output_type": "execute_result",
     "data": {
      "text/plain": [
       "type"
      ]
     },
     "metadata": {},
     "execution_count": 42
    }
   ],
   "source": [
    "type(str)"
   ]
  },
  {
   "cell_type": "code",
   "execution_count": 44,
   "metadata": {},
   "outputs": [],
   "source": [
    "a = \"det\""
   ]
  },
  {
   "cell_type": "code",
   "execution_count": 45,
   "metadata": {},
   "outputs": [
    {
     "output_type": "execute_result",
     "data": {
      "text/plain": [
       "str"
      ]
     },
     "metadata": {},
     "execution_count": 45
    }
   ],
   "source": [
    "type(a)"
   ]
  },
  {
   "cell_type": "code",
   "execution_count": 7,
   "metadata": {},
   "outputs": [],
   "source": [
    "class Animal:\n",
    "    color = \"rojo\"\n",
    "    \n",
    "    def __init__(self, tamano):\n",
    "        self.tamano = tamano\n",
    "        \n",
    "    def imprimir_color(color):\n",
    "        print(color)\n",
    "    \n",
    "    def imprimir_tamano(self):\n",
    "        print(self.tamano)\n"
   ]
  },
  {
   "cell_type": "code",
   "execution_count": 8,
   "metadata": {},
   "outputs": [],
   "source": [
    "cardenal = Animal(10)"
   ]
  },
  {
   "cell_type": "code",
   "execution_count": 9,
   "metadata": {},
   "outputs": [
    {
     "output_type": "stream",
     "name": "stdout",
     "text": [
      "10\n"
     ]
    }
   ],
   "source": [
    "cardenal.imprimir_tamano()"
   ]
  },
  {
   "cell_type": "code",
   "execution_count": 11,
   "metadata": {},
   "outputs": [
    {
     "output_type": "error",
     "ename": "TypeError",
     "evalue": "imprimir_color() takes 1 positional argument but 2 were given",
     "traceback": [
      "\u001b[1;31m---------------------------------------------------------------------------\u001b[0m",
      "\u001b[1;31mTypeError\u001b[0m                                 Traceback (most recent call last)",
      "\u001b[1;32m<ipython-input-11-0cfb1fd29e72>\u001b[0m in \u001b[0;36m<module>\u001b[1;34m\u001b[0m\n\u001b[1;32m----> 1\u001b[1;33m \u001b[0mcardenal\u001b[0m\u001b[1;33m.\u001b[0m\u001b[0mimprimir_color\u001b[0m\u001b[1;33m(\u001b[0m\u001b[1;34m\"Azul\"\u001b[0m\u001b[1;33m)\u001b[0m\u001b[1;33m\u001b[0m\u001b[1;33m\u001b[0m\u001b[0m\n\u001b[0m",
      "\u001b[1;31mTypeError\u001b[0m: imprimir_color() takes 1 positional argument but 2 were given"
     ]
    }
   ],
   "source": [
    "cardenal.imprimir_color(\"Azul\")"
   ]
  },
  {
   "cell_type": "code",
   "execution_count": 32,
   "metadata": {},
   "outputs": [],
   "source": [
    "def saludar():\n",
    "    return 'hola'\n"
   ]
  },
  {
   "cell_type": "code",
   "execution_count": 33,
   "metadata": {},
   "outputs": [],
   "source": [
    "def despedir():\n",
    "    return 'Adios'"
   ]
  },
  {
   "cell_type": "code",
   "execution_count": 23,
   "metadata": {},
   "outputs": [
    {
     "output_type": "stream",
     "name": "stdout",
     "text": [
      "hola\n"
     ]
    }
   ],
   "source": [
    "saludar()\n"
   ]
  },
  {
   "cell_type": "code",
   "execution_count": 22,
   "metadata": {},
   "outputs": [
    {
     "output_type": "stream",
     "name": "stdout",
     "text": [
      "Adios\n"
     ]
    }
   ],
   "source": [
    "despedir()"
   ]
  },
  {
   "cell_type": "code",
   "execution_count": 26,
   "metadata": {},
   "outputs": [],
   "source": [
    "def mayus(variable):\n",
    "    return variable.upper()"
   ]
  },
  {
   "cell_type": "code",
   "execution_count": 27,
   "metadata": {},
   "outputs": [
    {
     "output_type": "execute_result",
     "data": {
      "text/plain": [
       "'DF'"
      ]
     },
     "metadata": {},
     "execution_count": 27
    }
   ],
   "source": [
    "mayus(\"df\")"
   ]
  },
  {
   "cell_type": "code",
   "execution_count": 34,
   "metadata": {},
   "outputs": [
    {
     "output_type": "execute_result",
     "data": {
      "text/plain": [
       "'ADIOS'"
      ]
     },
     "metadata": {},
     "execution_count": 34
    }
   ],
   "source": [
    "mayus(despedir())"
   ]
  },
  {
   "cell_type": "code",
   "execution_count": 35,
   "metadata": {},
   "outputs": [],
   "source": [
    "def upper_decorator(function):\n",
    "    val = function()\n",
    "    val_up = val.upper()\n",
    "    return val_up"
   ]
  },
  {
   "cell_type": "code",
   "execution_count": 37,
   "metadata": {},
   "outputs": [
    {
     "output_type": "execute_result",
     "data": {
      "text/plain": [
       "'EXPLICACION'"
      ]
     },
     "metadata": {},
     "execution_count": 37
    }
   ],
   "source": [
    "upper_decorator(expl)"
   ]
  },
  {
   "cell_type": "code",
   "execution_count": 36,
   "metadata": {},
   "outputs": [],
   "source": [
    "def expl():\n",
    "    return \"explicacion\""
   ]
  },
  {
   "cell_type": "code",
   "execution_count": 39,
   "metadata": {},
   "outputs": [],
   "source": [
    "class Animal:\n",
    "    color = \"rojo\"\n",
    "    \n",
    "    def __init__(self, tamano):\n",
    "        self.tamano = tamano\n",
    "\n",
    "    @staticmethod        \n",
    "    def imprimir_color(color):\n",
    "        print(color)\n",
    "    \n",
    "    def imprimir_tamano(self):\n",
    "        print(self.tamano)\n",
    "\n",
    "    @classmethod\n",
    "    def imprimir_clase(cls):\n",
    "        print(cls.color)\n",
    "\n",
    "    @classmethod\n",
    "    def crear_lista(cls, lista):\n",
    "        return cls(lista[0], lista[1])\n",
    "\n"
   ]
  },
  {
   "cell_type": "code",
   "execution_count": 20,
   "metadata": {},
   "outputs": [],
   "source": [
    "def upper_decorator(function):\n",
    "    def wrapper():\n",
    "        val = function()\n",
    "        val_up = val.upper()\n",
    "        return val_up"
   ]
  },
  {
   "cell_type": "code",
   "execution_count": 21,
   "metadata": {},
   "outputs": [],
   "source": [
    "@upper_decorator\n",
    "def saludar():\n",
    "    return \"hola\"\n",
    "\n",
    "@upper_decorator   \n",
    "def despedir():\n",
    "    return \"adios\"\n",
    "\n",
    "@upper_decorator\n",
    "def expl():\n",
    "    return \"explicacion\""
   ]
  },
  {
   "cell_type": "code",
   "execution_count": 22,
   "metadata": {},
   "outputs": [],
   "source": [
    "decorate = upper_decorator(saludar)"
   ]
  },
  {
   "cell_type": "code",
   "execution_count": 23,
   "metadata": {},
   "outputs": [
    {
     "output_type": "error",
     "ename": "TypeError",
     "evalue": "'NoneType' object is not callable",
     "traceback": [
      "\u001b[1;31m---------------------------------------------------------------------------\u001b[0m",
      "\u001b[1;31mTypeError\u001b[0m                                 Traceback (most recent call last)",
      "\u001b[1;32m<ipython-input-23-154ee7e37eaa>\u001b[0m in \u001b[0;36m<module>\u001b[1;34m\u001b[0m\n\u001b[1;32m----> 1\u001b[1;33m \u001b[0mdecorate\u001b[0m\u001b[1;33m(\u001b[0m\u001b[1;33m)\u001b[0m\u001b[1;33m\u001b[0m\u001b[1;33m\u001b[0m\u001b[0m\n\u001b[0m",
      "\u001b[1;31mTypeError\u001b[0m: 'NoneType' object is not callable"
     ]
    }
   ],
   "source": [
    "decorate()"
   ]
  },
  {
   "cell_type": "code",
   "execution_count": 18,
   "metadata": {},
   "outputs": [
    {
     "output_type": "error",
     "ename": "TypeError",
     "evalue": "'NoneType' object is not callable",
     "traceback": [
      "\u001b[1;31m---------------------------------------------------------------------------\u001b[0m",
      "\u001b[1;31mTypeError\u001b[0m                                 Traceback (most recent call last)",
      "\u001b[1;32m<ipython-input-18-67e92cc24e58>\u001b[0m in \u001b[0;36m<module>\u001b[1;34m\u001b[0m\n\u001b[1;32m----> 1\u001b[1;33m \u001b[0msaludar\u001b[0m\u001b[1;33m(\u001b[0m\u001b[1;33m)\u001b[0m\u001b[1;33m\u001b[0m\u001b[1;33m\u001b[0m\u001b[0m\n\u001b[0m",
      "\u001b[1;31mTypeError\u001b[0m: 'NoneType' object is not callable"
     ]
    }
   ],
   "source": [
    "saludar()"
   ]
  },
  {
   "cell_type": "code",
   "execution_count": null,
   "metadata": {},
   "outputs": [],
   "source": []
  },
  {
   "cell_type": "code",
   "execution_count": 26,
   "metadata": {},
   "outputs": [],
   "source": [
    "@classmethod\n",
    "def imprimir_clase(cls):\n",
    "    print(cls.color)"
   ]
  },
  {
   "cell_type": "code",
   "execution_count": 27,
   "metadata": {},
   "outputs": [
    {
     "output_type": "error",
     "ename": "TypeError",
     "evalue": "__init__() takes 2 positional arguments but 3 were given",
     "traceback": [
      "\u001b[1;31m---------------------------------------------------------------------------\u001b[0m",
      "\u001b[1;31mTypeError\u001b[0m                                 Traceback (most recent call last)",
      "\u001b[1;32m<ipython-input-27-2a348c244a5a>\u001b[0m in \u001b[0;36m<module>\u001b[1;34m\u001b[0m\n\u001b[1;32m----> 1\u001b[1;33m \u001b[0mperro\u001b[0m \u001b[1;33m=\u001b[0m \u001b[0mAnimal\u001b[0m\u001b[1;33m(\u001b[0m\u001b[1;34m\"Grande\"\u001b[0m\u001b[1;33m,\u001b[0m \u001b[1;36m20\u001b[0m\u001b[1;33m)\u001b[0m\u001b[1;33m\u001b[0m\u001b[1;33m\u001b[0m\u001b[0m\n\u001b[0m",
      "\u001b[1;31mTypeError\u001b[0m: __init__() takes 2 positional arguments but 3 were given"
     ]
    }
   ],
   "source": [
    "perro = Animal(\"Grande\", 20)"
   ]
  },
  {
   "cell_type": "code",
   "execution_count": 40,
   "metadata": {},
   "outputs": [],
   "source": [
    "lista = [\"grande\", 20]"
   ]
  },
  {
   "cell_type": "code",
   "execution_count": 41,
   "metadata": {},
   "outputs": [
    {
     "output_type": "error",
     "ename": "TypeError",
     "evalue": "__init__() takes 2 positional arguments but 3 were given",
     "traceback": [
      "\u001b[1;31m---------------------------------------------------------------------------\u001b[0m",
      "\u001b[1;31mTypeError\u001b[0m                                 Traceback (most recent call last)",
      "\u001b[1;32m<ipython-input-41-40ea2caaa570>\u001b[0m in \u001b[0;36m<module>\u001b[1;34m\u001b[0m\n\u001b[1;32m----> 1\u001b[1;33m \u001b[0mperro\u001b[0m \u001b[1;33m=\u001b[0m \u001b[0mAnimal\u001b[0m\u001b[1;33m.\u001b[0m\u001b[0mcrear_lista\u001b[0m\u001b[1;33m(\u001b[0m\u001b[0mlista\u001b[0m\u001b[1;33m)\u001b[0m\u001b[1;33m\u001b[0m\u001b[1;33m\u001b[0m\u001b[0m\n\u001b[0m",
      "\u001b[1;32m<ipython-input-39-a3f6119a79d5>\u001b[0m in \u001b[0;36mcrear_lista\u001b[1;34m(cls, lista)\u001b[0m\n\u001b[0;32m     18\u001b[0m     \u001b[1;33m@\u001b[0m\u001b[0mclassmethod\u001b[0m\u001b[1;33m\u001b[0m\u001b[1;33m\u001b[0m\u001b[0m\n\u001b[0;32m     19\u001b[0m     \u001b[1;32mdef\u001b[0m \u001b[0mcrear_lista\u001b[0m\u001b[1;33m(\u001b[0m\u001b[0mcls\u001b[0m\u001b[1;33m,\u001b[0m \u001b[0mlista\u001b[0m\u001b[1;33m)\u001b[0m\u001b[1;33m:\u001b[0m\u001b[1;33m\u001b[0m\u001b[1;33m\u001b[0m\u001b[0m\n\u001b[1;32m---> 20\u001b[1;33m         \u001b[1;32mreturn\u001b[0m \u001b[0mcls\u001b[0m\u001b[1;33m(\u001b[0m\u001b[0mlista\u001b[0m\u001b[1;33m[\u001b[0m\u001b[1;36m0\u001b[0m\u001b[1;33m]\u001b[0m\u001b[1;33m,\u001b[0m \u001b[0mlista\u001b[0m\u001b[1;33m[\u001b[0m\u001b[1;36m1\u001b[0m\u001b[1;33m]\u001b[0m\u001b[1;33m)\u001b[0m\u001b[1;33m\u001b[0m\u001b[1;33m\u001b[0m\u001b[0m\n\u001b[0m\u001b[0;32m     21\u001b[0m \u001b[1;33m\u001b[0m\u001b[0m\n",
      "\u001b[1;31mTypeError\u001b[0m: __init__() takes 2 positional arguments but 3 were given"
     ]
    }
   ],
   "source": [
    "perro = Animal.crear_lista(lista)"
   ]
  },
  {
   "source": [
    "# Poo herencia"
   ],
   "cell_type": "markdown",
   "metadata": {}
  },
  {
   "cell_type": "code",
   "execution_count": 2,
   "metadata": {},
   "outputs": [],
   "source": [
    "class Animal:\n",
    "\n",
    "    def __init__(self, nombre, tamano):\n",
    "        self.nombre = nombre\n",
    "        self.tamano = tamano\n",
    "\n",
    "    def ruido(self):\n",
    "        print(\"chuchu\")\n"
   ]
  },
  {
   "cell_type": "code",
   "execution_count": 3,
   "metadata": {},
   "outputs": [],
   "source": [
    "animal1 = Animal(\"rocho\", 10)"
   ]
  },
  {
   "cell_type": "code",
   "execution_count": 4,
   "metadata": {},
   "outputs": [
    {
     "output_type": "execute_result",
     "data": {
      "text/plain": [
       "{'nombre': 'rocho', 'tamano': 10}"
      ]
     },
     "metadata": {},
     "execution_count": 4
    }
   ],
   "source": [
    "animal1.__dict__"
   ]
  },
  {
   "cell_type": "code",
   "execution_count": 5,
   "metadata": {},
   "outputs": [
    {
     "output_type": "stream",
     "name": "stdout",
     "text": [
      "chuchu\n"
     ]
    }
   ],
   "source": [
    "animal1.ruido()"
   ]
  },
  {
   "cell_type": "code",
   "execution_count": 6,
   "metadata": {},
   "outputs": [],
   "source": [
    "class Perro(Animal):\n",
    "\n",
    "    def __init__(self, raza, velocidad):\n",
    "        self.raza = raza\n",
    "        self.velocidad = velocidad"
   ]
  },
  {
   "cell_type": "code",
   "execution_count": 7,
   "metadata": {},
   "outputs": [],
   "source": [
    "firu = Perro"
   ]
  },
  {
   "cell_type": "code",
   "execution_count": 74,
   "metadata": {},
   "outputs": [
    {
     "output_type": "execute_result",
     "data": {
      "text/plain": [
       "mappingproxy({'__module__': '__main__',\n",
       "              '__init__': <function __main__.Perro.__init__(self, raza, velocidad)>,\n",
       "              '__doc__': None})"
      ]
     },
     "metadata": {},
     "execution_count": 74
    }
   ],
   "source": [
    "firu.__dict__"
   ]
  },
  {
   "cell_type": "code",
   "execution_count": 62,
   "metadata": {},
   "outputs": [
    {
     "output_type": "error",
     "ename": "TypeError",
     "evalue": "ruido() missing 1 required positional argument: 'self'",
     "traceback": [
      "\u001b[1;31m---------------------------------------------------------------------------\u001b[0m",
      "\u001b[1;31mTypeError\u001b[0m                                 Traceback (most recent call last)",
      "\u001b[1;32m<ipython-input-62-fe404562179d>\u001b[0m in \u001b[0;36m<module>\u001b[1;34m\u001b[0m\n\u001b[1;32m----> 1\u001b[1;33m \u001b[0mfiru\u001b[0m\u001b[1;33m.\u001b[0m\u001b[0mruido\u001b[0m\u001b[1;33m(\u001b[0m\u001b[1;33m)\u001b[0m\u001b[1;33m\u001b[0m\u001b[1;33m\u001b[0m\u001b[0m\n\u001b[0m",
      "\u001b[1;31mTypeError\u001b[0m: ruido() missing 1 required positional argument: 'self'"
     ]
    }
   ],
   "source": [
    "firu.ruido()"
   ]
  },
  {
   "cell_type": "code",
   "execution_count": 13,
   "metadata": {},
   "outputs": [],
   "source": [
    "class Gato(Animal):\n",
    "\n",
    "    def __init__(self, raza, sigilo):\n",
    "        self.raza = raza\n",
    "        self.sigilo = sigilo\n",
    "\n",
    "    def ruido(self):\n",
    "        print(\"miau\")\n",
    "\n",
    "    "
   ]
  },
  {
   "cell_type": "code",
   "execution_count": 15,
   "metadata": {},
   "outputs": [],
   "source": [
    "misi = Gato"
   ]
  },
  {
   "cell_type": "code",
   "execution_count": 16,
   "metadata": {},
   "outputs": [
    {
     "output_type": "execute_result",
     "data": {
      "text/plain": [
       "mappingproxy({'__module__': '__main__',\n",
       "              '__init__': <function __main__.Gato.__init__(self, raza, sigilo)>,\n",
       "              'ruido': <function __main__.Gato.ruido(self)>,\n",
       "              '__doc__': None})"
      ]
     },
     "metadata": {},
     "execution_count": 16
    }
   ],
   "source": [
    "misi.__dict__"
   ]
  },
  {
   "cell_type": "code",
   "execution_count": 17,
   "metadata": {},
   "outputs": [
    {
     "output_type": "error",
     "ename": "TypeError",
     "evalue": "ruido() missing 1 required positional argument: 'self'",
     "traceback": [
      "\u001b[1;31m---------------------------------------------------------------------------\u001b[0m",
      "\u001b[1;31mTypeError\u001b[0m                                 Traceback (most recent call last)",
      "\u001b[1;32m<ipython-input-17-6624691abf8e>\u001b[0m in \u001b[0;36m<module>\u001b[1;34m\u001b[0m\n\u001b[1;32m----> 1\u001b[1;33m \u001b[0mmisi\u001b[0m\u001b[1;33m.\u001b[0m\u001b[0mruido\u001b[0m\u001b[1;33m(\u001b[0m\u001b[1;33m)\u001b[0m\u001b[1;33m\u001b[0m\u001b[1;33m\u001b[0m\u001b[0m\n\u001b[0m",
      "\u001b[1;31mTypeError\u001b[0m: ruido() missing 1 required positional argument: 'self'"
     ]
    }
   ],
   "source": [
    "misi.ruido()"
   ]
  },
  {
   "cell_type": "code",
   "execution_count": 75,
   "metadata": {},
   "outputs": [
    {
     "output_type": "execute_result",
     "data": {
      "text/plain": [
       "False"
      ]
     },
     "metadata": {},
     "execution_count": 75
    }
   ],
   "source": [
    "isinstance(firu, Perro)"
   ]
  },
  {
   "cell_type": "code",
   "execution_count": 76,
   "metadata": {},
   "outputs": [
    {
     "output_type": "execute_result",
     "data": {
      "text/plain": [
       "False"
      ]
     },
     "metadata": {},
     "execution_count": 76
    }
   ],
   "source": [
    "isinstance(misi, Perro)"
   ]
  },
  {
   "cell_type": "code",
   "execution_count": 77,
   "metadata": {},
   "outputs": [
    {
     "output_type": "execute_result",
     "data": {
      "text/plain": [
       "False"
      ]
     },
     "metadata": {},
     "execution_count": 77
    }
   ],
   "source": [
    "isinstance(firu, Animal)"
   ]
  },
  {
   "cell_type": "code",
   "execution_count": 8,
   "metadata": {},
   "outputs": [
    {
     "output_type": "execute_result",
     "data": {
      "text/plain": [
       "True"
      ]
     },
     "metadata": {},
     "execution_count": 8
    }
   ],
   "source": [
    "issubclass(Perro, Animal)"
   ]
  },
  {
   "cell_type": "code",
   "execution_count": 9,
   "metadata": {},
   "outputs": [
    {
     "output_type": "execute_result",
     "data": {
      "text/plain": [
       "False"
      ]
     },
     "metadata": {},
     "execution_count": 9
    }
   ],
   "source": [
    "issubclass(Animal, Perro)"
   ]
  },
  {
   "cell_type": "code",
   "execution_count": 12,
   "metadata": {},
   "outputs": [
    {
     "output_type": "execute_result",
     "data": {
      "text/plain": [
       "True"
      ]
     },
     "metadata": {},
     "execution_count": 12
    }
   ],
   "source": [
    "issubclass(Gato, Animal)"
   ]
  },
  {
   "cell_type": "code",
   "execution_count": 54,
   "metadata": {},
   "outputs": [],
   "source": [
    "class Animal:\n",
    "\n",
    "    def __init__(self, nombre, tamano):\n",
    "        self.nombre = nombre\n",
    "        self.tamano = tamano\n",
    "\n",
    "    def ruido(self):\n",
    "        print(\"chuchu\")\n",
    "\n",
    "class Perro(Animal):\n",
    "\n",
    "    def __init__(self, nombre, tamano,raza, velocidad):\n",
    "        self.raza = raza\n",
    "        self.velocidad = velocidad\n",
    "        #Animal.__init__(self, nombre, tamano)\n",
    "        # cuando se utiliza super(), hay que quitar el self\n",
    "        super().__init__(nombre, tamano)\n",
    "\n",
    "    def ruido(self):\n",
    "        print(\"guau\")\n",
    "\n",
    "class Gato(Animal):\n",
    "\n",
    "    def __init__(self, nombre, tamano, raza, sigilo):\n",
    "        self.raza = raza\n",
    "        self.sigilo = sigilo\n",
    "        super().__init__(nombre, tamano)\n",
    "\n",
    "    def ruido(self):\n",
    "        print(\"miau\")\n"
   ]
  },
  {
   "cell_type": "code",
   "execution_count": 30,
   "metadata": {},
   "outputs": [],
   "source": [
    "firu = Perro(\"Chihuahua\", 100, \"firu\", 1)"
   ]
  },
  {
   "cell_type": "code",
   "execution_count": 32,
   "metadata": {},
   "outputs": [
    {
     "output_type": "stream",
     "name": "stdout",
     "text": [
      "guau\n"
     ]
    }
   ],
   "source": [
    "firu.ruido()"
   ]
  },
  {
   "cell_type": "code",
   "execution_count": 38,
   "metadata": {},
   "outputs": [],
   "source": [
    "class A:\n",
    "    label=\"A\"\n",
    "\n",
    "class B(A):\n",
    "    label=\"B\"\n",
    "\n",
    "class C(A):\n",
    "    label=\"C\"    \n",
    "\n",
    "class D(B, C):\n",
    "    pass"
   ]
  },
  {
   "cell_type": "code",
   "execution_count": 39,
   "metadata": {},
   "outputs": [],
   "source": [
    "a = A()"
   ]
  },
  {
   "cell_type": "code",
   "execution_count": 40,
   "metadata": {},
   "outputs": [
    {
     "output_type": "execute_result",
     "data": {
      "text/plain": [
       "'A'"
      ]
     },
     "metadata": {},
     "execution_count": 40
    }
   ],
   "source": [
    "a.label"
   ]
  },
  {
   "cell_type": "code",
   "execution_count": 41,
   "metadata": {},
   "outputs": [],
   "source": [
    "b = B()"
   ]
  },
  {
   "cell_type": "code",
   "execution_count": 42,
   "metadata": {},
   "outputs": [
    {
     "output_type": "execute_result",
     "data": {
      "text/plain": [
       "'B'"
      ]
     },
     "metadata": {},
     "execution_count": 42
    }
   ],
   "source": [
    "b.label"
   ]
  },
  {
   "cell_type": "code",
   "execution_count": 43,
   "metadata": {},
   "outputs": [],
   "source": [
    "c=C()"
   ]
  },
  {
   "cell_type": "code",
   "execution_count": 44,
   "metadata": {},
   "outputs": [
    {
     "output_type": "execute_result",
     "data": {
      "text/plain": [
       "'C'"
      ]
     },
     "metadata": {},
     "execution_count": 44
    }
   ],
   "source": [
    "c.label"
   ]
  },
  {
   "cell_type": "code",
   "execution_count": 46,
   "metadata": {},
   "outputs": [],
   "source": [
    "d = D()"
   ]
  },
  {
   "cell_type": "code",
   "execution_count": 47,
   "metadata": {},
   "outputs": [
    {
     "output_type": "execute_result",
     "data": {
      "text/plain": [
       "'B'"
      ]
     },
     "metadata": {},
     "execution_count": 47
    }
   ],
   "source": [
    "d.label"
   ]
  },
  {
   "cell_type": "code",
   "execution_count": 50,
   "metadata": {},
   "outputs": [
    {
     "output_type": "stream",
     "name": "stdout",
     "text": [
      "[<class '__main__.D'>, <class '__main__.B'>, <class '__main__.C'>, <class '__main__.A'>, <class 'object'>]\n"
     ]
    }
   ],
   "source": [
    "# __class__ atributo que regresa el orden en que se ejecutan la herancia\n",
    "print(d.__class__.mro())"
   ]
  },
  {
   "cell_type": "code",
   "execution_count": 55,
   "metadata": {},
   "outputs": [],
   "source": [
    "misi = Gato(\"Negro\",50,\"misi\",3)"
   ]
  },
  {
   "cell_type": "code",
   "execution_count": null,
   "metadata": {},
   "outputs": [],
   "source": [
    "animals = "
   ]
  },
  {
   "cell_type": "code",
   "execution_count": 57,
   "metadata": {},
   "outputs": [
    {
     "output_type": "error",
     "ename": "NameError",
     "evalue": "name 'animals' is not defined",
     "traceback": [
      "\u001b[1;31m---------------------------------------------------------------------------\u001b[0m",
      "\u001b[1;31mNameError\u001b[0m                                 Traceback (most recent call last)",
      "\u001b[1;32m<ipython-input-57-6f3aa1d57acb>\u001b[0m in \u001b[0;36m<module>\u001b[1;34m\u001b[0m\n\u001b[1;32m----> 1\u001b[1;33m \u001b[1;32mfor\u001b[0m \u001b[0manimal\u001b[0m \u001b[1;32min\u001b[0m \u001b[0manimals\u001b[0m\u001b[1;33m:\u001b[0m\u001b[1;33m\u001b[0m\u001b[1;33m\u001b[0m\u001b[0m\n\u001b[0m\u001b[0;32m      2\u001b[0m     \u001b[0manimal\u001b[0m\u001b[1;33m.\u001b[0m\u001b[0mruido\u001b[0m\u001b[1;33m(\u001b[0m\u001b[1;33m)\u001b[0m\u001b[1;33m\u001b[0m\u001b[1;33m\u001b[0m\u001b[0m\n",
      "\u001b[1;31mNameError\u001b[0m: name 'animals' is not defined"
     ]
    }
   ],
   "source": [
    "for animal in animals:\n",
    "    animal.ruido()\n"
   ]
  },
  {
   "cell_type": "code",
   "execution_count": 61,
   "metadata": {},
   "outputs": [],
   "source": [
    "class Book():\n",
    "    def __init__(self, title, autor, paginas):\n",
    "        self.title = title\n",
    "        self.autor = autor\n",
    "        self.paginas = paginas\n",
    "\n",
    "    def __str__(self):\n",
    "        return f\"Titulo {self.title}\"\n"
   ]
  },
  {
   "cell_type": "code",
   "execution_count": 62,
   "metadata": {},
   "outputs": [],
   "source": [
    "libro = Book(\"LOTR\", \"TT\",96)"
   ]
  },
  {
   "cell_type": "code",
   "execution_count": 63,
   "metadata": {},
   "outputs": [
    {
     "output_type": "execute_result",
     "data": {
      "text/plain": [
       "{'title': 'LOTR', 'autor': 'TT', 'paginas': 96}"
      ]
     },
     "metadata": {},
     "execution_count": 63
    }
   ],
   "source": [
    "libro.__dict__"
   ]
  },
  {
   "cell_type": "code",
   "execution_count": 64,
   "metadata": {},
   "outputs": [
    {
     "output_type": "execute_result",
     "data": {
      "text/plain": [
       "'Titulo LOTR'"
      ]
     },
     "metadata": {},
     "execution_count": 64
    }
   ],
   "source": [
    "str(libro)"
   ]
  }
 ]
}