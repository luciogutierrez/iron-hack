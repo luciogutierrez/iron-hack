{
 "metadata": {
  "language_info": {
   "codemirror_mode": {
    "name": "ipython",
    "version": 3
   },
   "file_extension": ".py",
   "mimetype": "text/x-python",
   "name": "python",
   "nbconvert_exporter": "python",
   "pygments_lexer": "ipython3",
   "version": "3.9.1"
  },
  "orig_nbformat": 2,
  "kernelspec": {
   "name": "python391jvsc74a57bd0376f5b0795f81aa7b5d99e448d6274743a66c9892fd26cf11e505993f41df5fa",
   "display_name": "Python 3.9.1 64-bit"
  }
 },
 "nbformat": 4,
 "nbformat_minor": 2,
 "cells": [
  {
   "source": [
    "# Programación Orientada a Objetos"
   ],
   "cell_type": "markdown",
   "metadata": {}
  },
  {
   "source": [
    "## Ejemplo"
   ],
   "cell_type": "markdown",
   "metadata": {}
  },
  {
   "cell_type": "code",
   "execution_count": 5,
   "metadata": {},
   "outputs": [],
   "source": [
    "import numpy as np\n",
    "def ordinary_least_squares(X, y):\n",
    "    # Esta función regresa los coeficientes de regresión del modelo lineal\n",
    "    # input: \"X\" - es la variable de predicción y \"y\" variables de respuesta\n",
    "    # output: coeficiente de regresion\n",
    "    xtx = np.dot(X.T, X) ## x-traspose time x\n",
    "    xtx_inv = np.linalg.inv(xtx) ## inversa de los tiempos de transposición x\n",
    "    xty = np.dot(X.T, y) ## tiempos de transposición de x y\n",
    "    return np.dot(xtx_inv, xty)\n",
    "\n"
   ]
  },
  {
   "source": [
    "### Esta función devuelve los coeficientes de regresion. para hacer una predicción primero\n",
    "### llamaremos la función de minimos cuadrado y luego multiplicaremos los valores obaservados\n",
    "### por los coeficientes"
   ],
   "cell_type": "markdown",
   "metadata": {}
  },
  {
   "cell_type": "code",
   "execution_count": 6,
   "metadata": {},
   "outputs": [],
   "source": [
    "coefficients = ordinary_least_squares(X, y)\n",
    "predicted = np.dot(X, coefficients)"
   ]
  },
  {
   "source": [
    "## Creando un Objeto\n",
    "\n",
    "### las clases tiene dos objetos interesantes\n",
    "\n",
    "## self - la variable self\n",
    "### la variable self es accesible por todas las otra variables y metodos dentro de la clase.\n",
    "### esta variable nos ayuda a pasar información sin tener que volver a calcular la clase cada vez.\n",
    "\n",
    "## \\_\\_init\\_\\_ la función\n",
    "### suele ser la primera función de un objeto. la razón por la que tiene dos guiones bajos antes y despues \n",
    "### del nombre es para indicar que es interna al objeto y podrá llamarse desde fuera del mismo.\n"
   ],
   "cell_type": "markdown",
   "metadata": {}
  },
  {
   "cell_type": "code",
   "execution_count": null,
   "metadata": {},
   "outputs": [],
   "source": [
    "class linearReg:\n",
    "    def __init__(self, fit_intercept=True):\n",
    "        self.fit_intercept = fit_intercept\n",
    "        self.coefficients = None\n",
    "        self.fit_intercept = None"
   ]
  },
  {
   "source": [
    "### En esta función de la clase establecemos el valor \"True\" predeterminado a la variable \"fit_intercept\".\n",
    "### luego asignamos este valor a \"self\". Tambien definimos dos atributos adicionales para self que por el momento\n",
    "### estan inicializados en None, los calcularemos más tarde."
   ],
   "cell_type": "markdown",
   "metadata": {}
  },
  {
   "source": [
    "## Construyendo la clase"
   ],
   "cell_type": "markdown",
   "metadata": {}
  },
  {
   "cell_type": "code",
   "execution_count": 8,
   "metadata": {},
   "outputs": [],
   "source": [
    "import numpy as np\n",
    "class linearReg:\n",
    "    def __init__(self, fit_intercept=True):\n",
    "        self.fit_intercept = fit_intercept\n",
    "        self.coefficients = None\n",
    "        self.fit_intercept = None\n",
    "    \n",
    "    def fit(self, X, y):\n",
    "        # Esta función devuelve el modelo lineal ajustado\n",
    "        # input : X -variable predictora y \"y\" variable de respuesta\n",
    "        # output: coeficientes de regresion.\n",
    "        xtx = np.dot(X.T, X) ## x-traspose time x\n",
    "        xtx_inv = np.linalg.inv(xtx) ## inversa de los tiempos de transposición x\n",
    "        xty = np.dot(X.T, y) ## tiempos de transposición de x y\n",
    "        coefficients = np.dot(xtx_inv, xty)\n",
    "\n",
    "        if self.fit_intercept:\n",
    "            self.intercept = coefficients[0]\n",
    "            self.coefficients = coefficients[1:]\n",
    "        else:\n",
    "            self.intercept = 0\n",
    "            self.coefficients = coefficients\n",
    "\n",
    "    def predict(self, X):\n",
    "        # Esta función devuelve los valores predecidos\n",
    "        # input: arreglo de variables dependientes\n",
    "        # output: valores predecidos\n",
    "        if len(X.shape) == 1:\n",
    "            X = X.reshape(-1, 1)\n",
    "            return self.intercept + np.dot(X, self.coef_)\n",
    "            "
   ]
  },
  {
   "source": [
    "## Iniciar la Clase\n",
    "\n",
    "### cuando invocamos la clase generamos una instancia de la clase y se convoca la función \\_\\_init\\_\\_"
   ],
   "cell_type": "markdown",
   "metadata": {}
  },
  {
   "cell_type": "code",
   "execution_count": 9,
   "metadata": {},
   "outputs": [],
   "source": [
    "linereg = linearReg()"
   ]
  },
  {
   "source": [
    "### ahora podemos usar la instancia para invocar los metodos y funcioens de la clase"
   ],
   "cell_type": "markdown",
   "metadata": {}
  },
  {
   "cell_type": "code",
   "execution_count": null,
   "metadata": {},
   "outputs": [],
   "source": [
    "linereg.fit(X, y)"
   ]
  },
  {
   "source": [
    "# POO Clases, Objetos y Métodos"
   ],
   "cell_type": "markdown",
   "metadata": {}
  },
  {
   "source": [
    "## Creación de una clase\n",
    "\n",
    "### para crear una clase lo hacesmos escribiendo la palabra class seguida del nombre de la clase\n",
    "### la clase debe empezar con una letra Mayuscula y si tiene más palabras utiliza la notación del camillito.\n"
   ],
   "cell_type": "markdown",
   "metadata": {}
  },
  {
   "cell_type": "code",
   "execution_count": null,
   "metadata": {},
   "outputs": [],
   "source": [
    "class Carro:"
   ]
  },
  {
   "source": [
    "### los metodos se deben sangrar dentro de la clase"
   ],
   "cell_type": "markdown",
   "metadata": {}
  },
  {
   "cell_type": "code",
   "execution_count": 11,
   "metadata": {},
   "outputs": [],
   "source": [
    "class Carro:\n",
    "    ruedas=4"
   ]
  },
  {
   "source": [
    "### Los metodos se declaran como las funciones con \"def\" y a diferencia de las funciones los metodos en python\n",
    "### con el parametro \"self\"."
   ],
   "cell_type": "markdown",
   "metadata": {}
  },
  {
   "cell_type": "code",
   "execution_count": 18,
   "metadata": {},
   "outputs": [],
   "source": [
    "class Carro:\n",
    "    ruedas = 4\n",
    "\n",
    "    def desplazamiento(self):\n",
    "        return print('El carro se dezpalza sobre 4 ruedas')\n"
   ]
  },
  {
   "source": [
    "### Una vez que la clase esta lista, para utilizarla se crean objetos o instancias de la clase."
   ],
   "cell_type": "markdown",
   "metadata": {}
  },
  {
   "cell_type": "code",
   "execution_count": 14,
   "metadata": {},
   "outputs": [],
   "source": [
    "mi_Carro = Carro()"
   ]
  },
  {
   "cell_type": "code",
   "execution_count": 19,
   "metadata": {},
   "outputs": [
    {
     "output_type": "stream",
     "name": "stdout",
     "text": [
      "4\n"
     ]
    }
   ],
   "source": [
    "print(mi_Carro.ruedas)"
   ]
  },
  {
   "cell_type": "code",
   "execution_count": 20,
   "metadata": {},
   "outputs": [
    {
     "output_type": "stream",
     "name": "stdout",
     "text": [
      "El carro se dezpalza sobre 4 ruedas\nNone\n"
     ]
    }
   ],
   "source": [
    "print(mi_Carro.desplazamiento())"
   ]
  },
  {
   "source": [
    "## Metodo Constructor\n",
    "\n",
    "## El metodo constructor le da el estado inicial a una clase\n"
   ],
   "cell_type": "markdown",
   "metadata": {}
  },
  {
   "cell_type": "code",
   "execution_count": 23,
   "metadata": {},
   "outputs": [],
   "source": [
    "class Carro:\n",
    "\n",
    "    def __init__(self, color, marca):\n",
    "        self.color = color\n",
    "        self.marca = marca\n",
    "\n",
    "    ruedas = 4\n",
    "\n",
    "    def desplazamiento(self):\n",
    "        return print('El carro se dezpalza sobre 4 ruedas')\n"
   ]
  },
  {
   "source": [
    "## Al instanciar la clase, creamos un objeto carro y hay que pasarle los parametros iniciales"
   ],
   "cell_type": "markdown",
   "metadata": {}
  },
  {
   "cell_type": "code",
   "execution_count": 24,
   "metadata": {},
   "outputs": [],
   "source": [
    "mi_Carro = Carro('rojo','vw')"
   ]
  },
  {
   "cell_type": "code",
   "execution_count": 26,
   "metadata": {},
   "outputs": [
    {
     "output_type": "stream",
     "name": "stdout",
     "text": [
      "Mi carro es de la marca vw y es de color rojo\n"
     ]
    }
   ],
   "source": [
    "print('Mi carro es de la marca {} y es de color {}' .format(mi_Carro.marca, mi_Carro.color))"
   ]
  },
  {
   "source": [
    "## Metodo string\n",
    "\n",
    "### permite agregar una descripción del mentodo"
   ],
   "cell_type": "markdown",
   "metadata": {}
  },
  {
   "cell_type": "code",
   "execution_count": 31,
   "metadata": {},
   "outputs": [
    {
     "output_type": "stream",
     "name": "stdout",
     "text": [
      "<__main__.Carro object at 0x000001C829FC5640>\n"
     ]
    }
   ],
   "source": [
    "print(mi_Carro)"
   ]
  },
  {
   "cell_type": "code",
   "execution_count": 38,
   "metadata": {},
   "outputs": [],
   "source": [
    "class Carro:\n",
    "\n",
    "    def __init__(self, color, marca):\n",
    "        self.color = color\n",
    "        self.marca = marca\n",
    "\n",
    "    def __str__(self):\n",
    "            return \"\"\"\\\n",
    "    Marca: {}\n",
    "    Color: {}\"\"\".format(self.marca, self.color)\n",
    "\n",
    "    ruedas = 4\n",
    "\n",
    "    def desplazamiento(self):\n",
    "        return print('El carro se dezpalza sobre 4 ruedas')\n"
   ]
  },
  {
   "cell_type": "code",
   "execution_count": 39,
   "metadata": {},
   "outputs": [
    {
     "output_type": "stream",
     "name": "stdout",
     "text": [
      "    Marca: vw\n    Color: rojo\n"
     ]
    }
   ],
   "source": [
    "mi_Carro = Carro('rojo','vw')\n",
    "print(mi_Carro)"
   ]
  },
  {
   "source": [
    "## Herencia\n",
    "\n",
    "### se denomina herencia a la accion de crear una clase a partir de una clase previamente creda"
   ],
   "cell_type": "markdown",
   "metadata": {}
  },
  {
   "cell_type": "code",
   "execution_count": 51,
   "metadata": {},
   "outputs": [],
   "source": [
    "class moto(Carro):\n",
    "    ruedas = 2\n",
    "    \n",
    "    def desplazamiento(self):\n",
    "        return print('Mi moto se desplaza en 2 ruedas')\n"
   ]
  },
  {
   "cell_type": "code",
   "execution_count": 56,
   "metadata": {},
   "outputs": [
    {
     "output_type": "stream",
     "name": "stdout",
     "text": [
      "2\nAzul\n"
     ]
    }
   ],
   "source": [
    "mi_moto = moto('Azul','MB')\n",
    "print(mi_moto.ruedas)\n",
    "print(mi_moto.color)"
   ]
  },
  {
   "cell_type": "code",
   "execution_count": 57,
   "metadata": {},
   "outputs": [
    {
     "output_type": "stream",
     "name": "stdout",
     "text": [
      "Mi moto se desplaza en 2 ruedas\nNone\n"
     ]
    }
   ],
   "source": [
    "print(mi_moto.desplazamiento())"
   ]
  },
  {
   "cell_type": "code",
   "execution_count": null,
   "metadata": {},
   "outputs": [],
   "source": []
  }
 ]
}