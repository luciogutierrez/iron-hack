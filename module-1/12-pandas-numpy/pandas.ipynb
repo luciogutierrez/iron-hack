{
 "metadata": {
  "language_info": {
   "codemirror_mode": {
    "name": "ipython",
    "version": 3
   },
   "file_extension": ".py",
   "mimetype": "text/x-python",
   "name": "python",
   "nbconvert_exporter": "python",
   "pygments_lexer": "ipython3",
   "version": "3.9.4"
  },
  "orig_nbformat": 2,
  "kernelspec": {
   "name": "python394jvsc74a57bd0376f5b0795f81aa7b5d99e448d6274743a66c9892fd26cf11e505993f41df5fa",
   "display_name": "Python 3.9.4 64-bit"
  }
 },
 "nbformat": 4,
 "nbformat_minor": 2,
 "cells": [
  {
   "cell_type": "code",
   "execution_count": 6,
   "metadata": {},
   "outputs": [],
   "source": [
    "import pandas as pd\n",
    "import numpy as np"
   ]
  },
  {
   "cell_type": "code",
   "execution_count": 7,
   "metadata": {},
   "outputs": [
    {
     "output_type": "execute_result",
     "data": {
      "text/plain": [
       "               Make                Model  Year  Engine Displacement  \\\n",
       "0        AM General    DJ Po Vehicle 2WD  1984                  2.5   \n",
       "1        AM General     FJ8c Post Office  1984                  4.2   \n",
       "2        AM General  Post Office DJ5 2WD  1985                  2.5   \n",
       "3        AM General  Post Office DJ8 2WD  1985                  4.2   \n",
       "4  ASC Incorporated                  GNX  1987                  3.8   \n",
       "\n",
       "   Cylinders     Transmission        Drivetrain                Vehicle Class  \\\n",
       "0        4.0  Automatic 3-spd     2-Wheel Drive  Special Purpose Vehicle 2WD   \n",
       "1        6.0  Automatic 3-spd     2-Wheel Drive  Special Purpose Vehicle 2WD   \n",
       "2        4.0  Automatic 3-spd  Rear-Wheel Drive  Special Purpose Vehicle 2WD   \n",
       "3        6.0  Automatic 3-spd  Rear-Wheel Drive  Special Purpose Vehicle 2WD   \n",
       "4        6.0  Automatic 4-spd  Rear-Wheel Drive                 Midsize Cars   \n",
       "\n",
       "  Fuel Type  Fuel Barrels/Year  City MPG  Highway MPG  Combined MPG  \\\n",
       "0   Regular          19.388824        18           17            17   \n",
       "1   Regular          25.354615        13           13            13   \n",
       "2   Regular          20.600625        16           17            16   \n",
       "3   Regular          25.354615        13           13            13   \n",
       "4   Premium          20.600625        14           21            16   \n",
       "\n",
       "   CO2 Emission Grams/Mile  Fuel Cost/Year  \n",
       "0               522.764706            1950  \n",
       "1               683.615385            2550  \n",
       "2               555.437500            2100  \n",
       "3               683.615385            2550  \n",
       "4               555.437500            2550  "
      ],
      "text/html": "<div>\n<style scoped>\n    .dataframe tbody tr th:only-of-type {\n        vertical-align: middle;\n    }\n\n    .dataframe tbody tr th {\n        vertical-align: top;\n    }\n\n    .dataframe thead th {\n        text-align: right;\n    }\n</style>\n<table border=\"1\" class=\"dataframe\">\n  <thead>\n    <tr style=\"text-align: right;\">\n      <th></th>\n      <th>Make</th>\n      <th>Model</th>\n      <th>Year</th>\n      <th>Engine Displacement</th>\n      <th>Cylinders</th>\n      <th>Transmission</th>\n      <th>Drivetrain</th>\n      <th>Vehicle Class</th>\n      <th>Fuel Type</th>\n      <th>Fuel Barrels/Year</th>\n      <th>City MPG</th>\n      <th>Highway MPG</th>\n      <th>Combined MPG</th>\n      <th>CO2 Emission Grams/Mile</th>\n      <th>Fuel Cost/Year</th>\n    </tr>\n  </thead>\n  <tbody>\n    <tr>\n      <th>0</th>\n      <td>AM General</td>\n      <td>DJ Po Vehicle 2WD</td>\n      <td>1984</td>\n      <td>2.5</td>\n      <td>4.0</td>\n      <td>Automatic 3-spd</td>\n      <td>2-Wheel Drive</td>\n      <td>Special Purpose Vehicle 2WD</td>\n      <td>Regular</td>\n      <td>19.388824</td>\n      <td>18</td>\n      <td>17</td>\n      <td>17</td>\n      <td>522.764706</td>\n      <td>1950</td>\n    </tr>\n    <tr>\n      <th>1</th>\n      <td>AM General</td>\n      <td>FJ8c Post Office</td>\n      <td>1984</td>\n      <td>4.2</td>\n      <td>6.0</td>\n      <td>Automatic 3-spd</td>\n      <td>2-Wheel Drive</td>\n      <td>Special Purpose Vehicle 2WD</td>\n      <td>Regular</td>\n      <td>25.354615</td>\n      <td>13</td>\n      <td>13</td>\n      <td>13</td>\n      <td>683.615385</td>\n      <td>2550</td>\n    </tr>\n    <tr>\n      <th>2</th>\n      <td>AM General</td>\n      <td>Post Office DJ5 2WD</td>\n      <td>1985</td>\n      <td>2.5</td>\n      <td>4.0</td>\n      <td>Automatic 3-spd</td>\n      <td>Rear-Wheel Drive</td>\n      <td>Special Purpose Vehicle 2WD</td>\n      <td>Regular</td>\n      <td>20.600625</td>\n      <td>16</td>\n      <td>17</td>\n      <td>16</td>\n      <td>555.437500</td>\n      <td>2100</td>\n    </tr>\n    <tr>\n      <th>3</th>\n      <td>AM General</td>\n      <td>Post Office DJ8 2WD</td>\n      <td>1985</td>\n      <td>4.2</td>\n      <td>6.0</td>\n      <td>Automatic 3-spd</td>\n      <td>Rear-Wheel Drive</td>\n      <td>Special Purpose Vehicle 2WD</td>\n      <td>Regular</td>\n      <td>25.354615</td>\n      <td>13</td>\n      <td>13</td>\n      <td>13</td>\n      <td>683.615385</td>\n      <td>2550</td>\n    </tr>\n    <tr>\n      <th>4</th>\n      <td>ASC Incorporated</td>\n      <td>GNX</td>\n      <td>1987</td>\n      <td>3.8</td>\n      <td>6.0</td>\n      <td>Automatic 4-spd</td>\n      <td>Rear-Wheel Drive</td>\n      <td>Midsize Cars</td>\n      <td>Premium</td>\n      <td>20.600625</td>\n      <td>14</td>\n      <td>21</td>\n      <td>16</td>\n      <td>555.437500</td>\n      <td>2550</td>\n    </tr>\n  </tbody>\n</table>\n</div>"
     },
     "metadata": {},
     "execution_count": 7
    }
   ],
   "source": [
    "mainpath = r'/Users/lgutierrez/Documents/Desarrollo/iron-hack/module-1/12-pandas-numpy/datasets/'\n",
    "filename = r'vehicles.csv'\n",
    "fullpath = mainpath+filename\n",
    "data = pd.read_csv(fullpath)\n",
    "data.head()\n"
   ]
  },
  {
   "cell_type": "code",
   "execution_count": 9,
   "metadata": {},
   "outputs": [
    {
     "output_type": "stream",
     "name": "stdout",
     "text": [
      "1.2.3\n1.20.1\n"
     ]
    }
   ],
   "source": [
    "print(pd.__version__)\n",
    "print(np.__version__)"
   ]
  },
  {
   "cell_type": "code",
   "execution_count": 10,
   "metadata": {},
   "outputs": [
    {
     "output_type": "stream",
     "name": "stdout",
     "text": [
      "0    38\n1    39\n2     3\n3    81\n4    62\n5    55\n6     2\n7     7\n8    12\n9    50\ndtype: int32\n"
     ]
    }
   ],
   "source": [
    "serie = pd.Series(np.random.randint(100,size=10))\n",
    "print(serie)"
   ]
  },
  {
   "cell_type": "code",
   "execution_count": 12,
   "metadata": {},
   "outputs": [
    {
     "output_type": "execute_result",
     "data": {
      "text/plain": [
       "81"
      ]
     },
     "metadata": {},
     "execution_count": 12
    }
   ],
   "source": [
    "serie[3]"
   ]
  },
  {
   "cell_type": "code",
   "execution_count": 14,
   "metadata": {},
   "outputs": [
    {
     "output_type": "execute_result",
     "data": {
      "text/plain": [
       "    0   1   2   3\n",
       "0  32   3  66  75\n",
       "1  65  56  71  44\n",
       "2  44  25  18  81\n",
       "3  37  51  69  34\n",
       "4  92  44  94  85\n",
       "5  47  56  90  96\n",
       "6  19  25  58   7\n",
       "7  89  17  63  34\n",
       "8  35  58   3  55\n",
       "9  35  24  71  81"
      ],
      "text/html": "<div>\n<style scoped>\n    .dataframe tbody tr th:only-of-type {\n        vertical-align: middle;\n    }\n\n    .dataframe tbody tr th {\n        vertical-align: top;\n    }\n\n    .dataframe thead th {\n        text-align: right;\n    }\n</style>\n<table border=\"1\" class=\"dataframe\">\n  <thead>\n    <tr style=\"text-align: right;\">\n      <th></th>\n      <th>0</th>\n      <th>1</th>\n      <th>2</th>\n      <th>3</th>\n    </tr>\n  </thead>\n  <tbody>\n    <tr>\n      <th>0</th>\n      <td>32</td>\n      <td>3</td>\n      <td>66</td>\n      <td>75</td>\n    </tr>\n    <tr>\n      <th>1</th>\n      <td>65</td>\n      <td>56</td>\n      <td>71</td>\n      <td>44</td>\n    </tr>\n    <tr>\n      <th>2</th>\n      <td>44</td>\n      <td>25</td>\n      <td>18</td>\n      <td>81</td>\n    </tr>\n    <tr>\n      <th>3</th>\n      <td>37</td>\n      <td>51</td>\n      <td>69</td>\n      <td>34</td>\n    </tr>\n    <tr>\n      <th>4</th>\n      <td>92</td>\n      <td>44</td>\n      <td>94</td>\n      <td>85</td>\n    </tr>\n    <tr>\n      <th>5</th>\n      <td>47</td>\n      <td>56</td>\n      <td>90</td>\n      <td>96</td>\n    </tr>\n    <tr>\n      <th>6</th>\n      <td>19</td>\n      <td>25</td>\n      <td>58</td>\n      <td>7</td>\n    </tr>\n    <tr>\n      <th>7</th>\n      <td>89</td>\n      <td>17</td>\n      <td>63</td>\n      <td>34</td>\n    </tr>\n    <tr>\n      <th>8</th>\n      <td>35</td>\n      <td>58</td>\n      <td>3</td>\n      <td>55</td>\n    </tr>\n    <tr>\n      <th>9</th>\n      <td>35</td>\n      <td>24</td>\n      <td>71</td>\n      <td>81</td>\n    </tr>\n  </tbody>\n</table>\n</div>"
     },
     "metadata": {},
     "execution_count": 14
    }
   ],
   "source": [
    "df = pd.DataFrame(np.random.randint(100, size=[10,4]))\n",
    "df"
   ]
  },
  {
   "cell_type": "code",
   "execution_count": 15,
   "metadata": {},
   "outputs": [
    {
     "output_type": "execute_result",
     "data": {
      "text/plain": [
       "RangeIndex(start=0, stop=4, step=1)"
      ]
     },
     "metadata": {},
     "execution_count": 15
    }
   ],
   "source": [
    "df.columns"
   ]
  },
  {
   "cell_type": "code",
   "execution_count": 16,
   "metadata": {},
   "outputs": [
    {
     "output_type": "execute_result",
     "data": {
      "text/plain": [
       "0    32\n",
       "1    65\n",
       "2    44\n",
       "3    37\n",
       "4    92\n",
       "5    47\n",
       "6    19\n",
       "7    89\n",
       "8    35\n",
       "9    35\n",
       "Name: 0, dtype: int32"
      ]
     },
     "metadata": {},
     "execution_count": 16
    }
   ],
   "source": [
    "df[0]"
   ]
  },
  {
   "cell_type": "code",
   "execution_count": 18,
   "metadata": {},
   "outputs": [
    {
     "output_type": "execute_result",
     "data": {
      "text/plain": [
       "   columna_1  columna_2  columna_3  columna_4\n",
       "0         32          3         66         75\n",
       "1         65         56         71         44\n",
       "2         44         25         18         81\n",
       "3         37         51         69         34\n",
       "4         92         44         94         85\n",
       "5         47         56         90         96\n",
       "6         19         25         58          7\n",
       "7         89         17         63         34\n",
       "8         35         58          3         55\n",
       "9         35         24         71         81"
      ],
      "text/html": "<div>\n<style scoped>\n    .dataframe tbody tr th:only-of-type {\n        vertical-align: middle;\n    }\n\n    .dataframe tbody tr th {\n        vertical-align: top;\n    }\n\n    .dataframe thead th {\n        text-align: right;\n    }\n</style>\n<table border=\"1\" class=\"dataframe\">\n  <thead>\n    <tr style=\"text-align: right;\">\n      <th></th>\n      <th>columna_1</th>\n      <th>columna_2</th>\n      <th>columna_3</th>\n      <th>columna_4</th>\n    </tr>\n  </thead>\n  <tbody>\n    <tr>\n      <th>0</th>\n      <td>32</td>\n      <td>3</td>\n      <td>66</td>\n      <td>75</td>\n    </tr>\n    <tr>\n      <th>1</th>\n      <td>65</td>\n      <td>56</td>\n      <td>71</td>\n      <td>44</td>\n    </tr>\n    <tr>\n      <th>2</th>\n      <td>44</td>\n      <td>25</td>\n      <td>18</td>\n      <td>81</td>\n    </tr>\n    <tr>\n      <th>3</th>\n      <td>37</td>\n      <td>51</td>\n      <td>69</td>\n      <td>34</td>\n    </tr>\n    <tr>\n      <th>4</th>\n      <td>92</td>\n      <td>44</td>\n      <td>94</td>\n      <td>85</td>\n    </tr>\n    <tr>\n      <th>5</th>\n      <td>47</td>\n      <td>56</td>\n      <td>90</td>\n      <td>96</td>\n    </tr>\n    <tr>\n      <th>6</th>\n      <td>19</td>\n      <td>25</td>\n      <td>58</td>\n      <td>7</td>\n    </tr>\n    <tr>\n      <th>7</th>\n      <td>89</td>\n      <td>17</td>\n      <td>63</td>\n      <td>34</td>\n    </tr>\n    <tr>\n      <th>8</th>\n      <td>35</td>\n      <td>58</td>\n      <td>3</td>\n      <td>55</td>\n    </tr>\n    <tr>\n      <th>9</th>\n      <td>35</td>\n      <td>24</td>\n      <td>71</td>\n      <td>81</td>\n    </tr>\n  </tbody>\n</table>\n</div>"
     },
     "metadata": {},
     "execution_count": 18
    }
   ],
   "source": [
    "df = df.rename(columns = {0:\"columna_1\", 1:\"columna_2\", 2:\"columna_3\", 3:\"columna_4\"})\n",
    "df"
   ]
  },
  {
   "cell_type": "code",
   "execution_count": 19,
   "metadata": {},
   "outputs": [
    {
     "output_type": "execute_result",
     "data": {
      "text/plain": [
       "    A   B   C   D\n",
       "0  32   3  66  75\n",
       "1  65  56  71  44\n",
       "2  44  25  18  81\n",
       "3  37  51  69  34\n",
       "4  92  44  94  85\n",
       "5  47  56  90  96\n",
       "6  19  25  58   7\n",
       "7  89  17  63  34\n",
       "8  35  58   3  55\n",
       "9  35  24  71  81"
      ],
      "text/html": "<div>\n<style scoped>\n    .dataframe tbody tr th:only-of-type {\n        vertical-align: middle;\n    }\n\n    .dataframe tbody tr th {\n        vertical-align: top;\n    }\n\n    .dataframe thead th {\n        text-align: right;\n    }\n</style>\n<table border=\"1\" class=\"dataframe\">\n  <thead>\n    <tr style=\"text-align: right;\">\n      <th></th>\n      <th>A</th>\n      <th>B</th>\n      <th>C</th>\n      <th>D</th>\n    </tr>\n  </thead>\n  <tbody>\n    <tr>\n      <th>0</th>\n      <td>32</td>\n      <td>3</td>\n      <td>66</td>\n      <td>75</td>\n    </tr>\n    <tr>\n      <th>1</th>\n      <td>65</td>\n      <td>56</td>\n      <td>71</td>\n      <td>44</td>\n    </tr>\n    <tr>\n      <th>2</th>\n      <td>44</td>\n      <td>25</td>\n      <td>18</td>\n      <td>81</td>\n    </tr>\n    <tr>\n      <th>3</th>\n      <td>37</td>\n      <td>51</td>\n      <td>69</td>\n      <td>34</td>\n    </tr>\n    <tr>\n      <th>4</th>\n      <td>92</td>\n      <td>44</td>\n      <td>94</td>\n      <td>85</td>\n    </tr>\n    <tr>\n      <th>5</th>\n      <td>47</td>\n      <td>56</td>\n      <td>90</td>\n      <td>96</td>\n    </tr>\n    <tr>\n      <th>6</th>\n      <td>19</td>\n      <td>25</td>\n      <td>58</td>\n      <td>7</td>\n    </tr>\n    <tr>\n      <th>7</th>\n      <td>89</td>\n      <td>17</td>\n      <td>63</td>\n      <td>34</td>\n    </tr>\n    <tr>\n      <th>8</th>\n      <td>35</td>\n      <td>58</td>\n      <td>3</td>\n      <td>55</td>\n    </tr>\n    <tr>\n      <th>9</th>\n      <td>35</td>\n      <td>24</td>\n      <td>71</td>\n      <td>81</td>\n    </tr>\n  </tbody>\n</table>\n</div>"
     },
     "metadata": {},
     "execution_count": 19
    }
   ],
   "source": [
    "df.columns = [\"A\",\"B\",\"C\",\"D\"]\n",
    "df"
   ]
  },
  {
   "cell_type": "code",
   "execution_count": 21,
   "metadata": {},
   "outputs": [
    {
     "output_type": "execute_result",
     "data": {
      "text/plain": [
       "   columna_1  columna_2  columna_3  columna_4\n",
       "0         32          3         66         75\n",
       "1         65         56         71         44\n",
       "2         44         25         18         81\n",
       "3         37         51         69         34\n",
       "4         92         44         94         85\n",
       "5         47         56         90         96\n",
       "6         19         25         58          7\n",
       "7         89         17         63         34\n",
       "8         35         58          3         55\n",
       "9         35         24         71         81"
      ],
      "text/html": "<div>\n<style scoped>\n    .dataframe tbody tr th:only-of-type {\n        vertical-align: middle;\n    }\n\n    .dataframe tbody tr th {\n        vertical-align: top;\n    }\n\n    .dataframe thead th {\n        text-align: right;\n    }\n</style>\n<table border=\"1\" class=\"dataframe\">\n  <thead>\n    <tr style=\"text-align: right;\">\n      <th></th>\n      <th>columna_1</th>\n      <th>columna_2</th>\n      <th>columna_3</th>\n      <th>columna_4</th>\n    </tr>\n  </thead>\n  <tbody>\n    <tr>\n      <th>0</th>\n      <td>32</td>\n      <td>3</td>\n      <td>66</td>\n      <td>75</td>\n    </tr>\n    <tr>\n      <th>1</th>\n      <td>65</td>\n      <td>56</td>\n      <td>71</td>\n      <td>44</td>\n    </tr>\n    <tr>\n      <th>2</th>\n      <td>44</td>\n      <td>25</td>\n      <td>18</td>\n      <td>81</td>\n    </tr>\n    <tr>\n      <th>3</th>\n      <td>37</td>\n      <td>51</td>\n      <td>69</td>\n      <td>34</td>\n    </tr>\n    <tr>\n      <th>4</th>\n      <td>92</td>\n      <td>44</td>\n      <td>94</td>\n      <td>85</td>\n    </tr>\n    <tr>\n      <th>5</th>\n      <td>47</td>\n      <td>56</td>\n      <td>90</td>\n      <td>96</td>\n    </tr>\n    <tr>\n      <th>6</th>\n      <td>19</td>\n      <td>25</td>\n      <td>58</td>\n      <td>7</td>\n    </tr>\n    <tr>\n      <th>7</th>\n      <td>89</td>\n      <td>17</td>\n      <td>63</td>\n      <td>34</td>\n    </tr>\n    <tr>\n      <th>8</th>\n      <td>35</td>\n      <td>58</td>\n      <td>3</td>\n      <td>55</td>\n    </tr>\n    <tr>\n      <th>9</th>\n      <td>35</td>\n      <td>24</td>\n      <td>71</td>\n      <td>81</td>\n    </tr>\n  </tbody>\n</table>\n</div>"
     },
     "metadata": {},
     "execution_count": 21
    }
   ],
   "source": [
    "# los nuevos nombres se asignan a u nuevo df\n",
    "df = df.rename(columns = {\"A\":\"columna_1\", \"B\":\"columna_2\", \"C\":\"columna_3\", \"D\":\"columna_4\"})\n",
    "df"
   ]
  },
  {
   "cell_type": "code",
   "execution_count": 23,
   "metadata": {},
   "outputs": [
    {
     "output_type": "execute_result",
     "data": {
      "text/plain": [
       "   columna_1  columna_2  columna_3  columna_4\n",
       "0         32          3         66         75\n",
       "1         65         56         71         44\n",
       "2         44         25         18         81\n",
       "3         37         51         69         34\n",
       "4         92         44         94         85\n",
       "5         47         56         90         96\n",
       "6         19         25         58          7\n",
       "7         89         17         63         34\n",
       "8         35         58          3         55\n",
       "9         35         24         71         81"
      ],
      "text/html": "<div>\n<style scoped>\n    .dataframe tbody tr th:only-of-type {\n        vertical-align: middle;\n    }\n\n    .dataframe tbody tr th {\n        vertical-align: top;\n    }\n\n    .dataframe thead th {\n        text-align: right;\n    }\n</style>\n<table border=\"1\" class=\"dataframe\">\n  <thead>\n    <tr style=\"text-align: right;\">\n      <th></th>\n      <th>columna_1</th>\n      <th>columna_2</th>\n      <th>columna_3</th>\n      <th>columna_4</th>\n    </tr>\n  </thead>\n  <tbody>\n    <tr>\n      <th>0</th>\n      <td>32</td>\n      <td>3</td>\n      <td>66</td>\n      <td>75</td>\n    </tr>\n    <tr>\n      <th>1</th>\n      <td>65</td>\n      <td>56</td>\n      <td>71</td>\n      <td>44</td>\n    </tr>\n    <tr>\n      <th>2</th>\n      <td>44</td>\n      <td>25</td>\n      <td>18</td>\n      <td>81</td>\n    </tr>\n    <tr>\n      <th>3</th>\n      <td>37</td>\n      <td>51</td>\n      <td>69</td>\n      <td>34</td>\n    </tr>\n    <tr>\n      <th>4</th>\n      <td>92</td>\n      <td>44</td>\n      <td>94</td>\n      <td>85</td>\n    </tr>\n    <tr>\n      <th>5</th>\n      <td>47</td>\n      <td>56</td>\n      <td>90</td>\n      <td>96</td>\n    </tr>\n    <tr>\n      <th>6</th>\n      <td>19</td>\n      <td>25</td>\n      <td>58</td>\n      <td>7</td>\n    </tr>\n    <tr>\n      <th>7</th>\n      <td>89</td>\n      <td>17</td>\n      <td>63</td>\n      <td>34</td>\n    </tr>\n    <tr>\n      <th>8</th>\n      <td>35</td>\n      <td>58</td>\n      <td>3</td>\n      <td>55</td>\n    </tr>\n    <tr>\n      <th>9</th>\n      <td>35</td>\n      <td>24</td>\n      <td>71</td>\n      <td>81</td>\n    </tr>\n  </tbody>\n</table>\n</div>"
     },
     "metadata": {},
     "execution_count": 23
    }
   ],
   "source": [
    "# inplace sirve para hacer el cambio sin asignarloa un nuevo df\n",
    "df.rename(columns = {\"A\":\"columna_1\", \"B\":\"columna_2\", \"C\":\"columna_3\", \"D\":\"columna_4\"}, inplace=True)\n",
    "df"
   ]
  },
  {
   "cell_type": "code",
   "execution_count": 24,
   "metadata": {},
   "outputs": [
    {
     "output_type": "execute_result",
     "data": {
      "text/plain": [
       "0    32\n",
       "1    65\n",
       "2    44\n",
       "3    37\n",
       "4    92\n",
       "5    47\n",
       "6    19\n",
       "7    89\n",
       "8    35\n",
       "9    35\n",
       "Name: columna_1, dtype: int32"
      ]
     },
     "metadata": {},
     "execution_count": 24
    }
   ],
   "source": [
    "df[\"columna_1\"]"
   ]
  },
  {
   "cell_type": "code",
   "execution_count": 33,
   "metadata": {},
   "outputs": [
    {
     "output_type": "execute_result",
     "data": {
      "text/plain": [
       "   columna_4  columna_3  columna_2\n",
       "0         75         66          3\n",
       "1         44         71         56\n",
       "2         81         18         25\n",
       "3         34         69         51\n",
       "4         85         94         44\n",
       "5         96         90         56\n",
       "6          7         58         25\n",
       "7         34         63         17\n",
       "8         55          3         58\n",
       "9         81         71         24"
      ],
      "text/html": "<div>\n<style scoped>\n    .dataframe tbody tr th:only-of-type {\n        vertical-align: middle;\n    }\n\n    .dataframe tbody tr th {\n        vertical-align: top;\n    }\n\n    .dataframe thead th {\n        text-align: right;\n    }\n</style>\n<table border=\"1\" class=\"dataframe\">\n  <thead>\n    <tr style=\"text-align: right;\">\n      <th></th>\n      <th>columna_4</th>\n      <th>columna_3</th>\n      <th>columna_2</th>\n    </tr>\n  </thead>\n  <tbody>\n    <tr>\n      <th>0</th>\n      <td>75</td>\n      <td>66</td>\n      <td>3</td>\n    </tr>\n    <tr>\n      <th>1</th>\n      <td>44</td>\n      <td>71</td>\n      <td>56</td>\n    </tr>\n    <tr>\n      <th>2</th>\n      <td>81</td>\n      <td>18</td>\n      <td>25</td>\n    </tr>\n    <tr>\n      <th>3</th>\n      <td>34</td>\n      <td>69</td>\n      <td>51</td>\n    </tr>\n    <tr>\n      <th>4</th>\n      <td>85</td>\n      <td>94</td>\n      <td>44</td>\n    </tr>\n    <tr>\n      <th>5</th>\n      <td>96</td>\n      <td>90</td>\n      <td>56</td>\n    </tr>\n    <tr>\n      <th>6</th>\n      <td>7</td>\n      <td>58</td>\n      <td>25</td>\n    </tr>\n    <tr>\n      <th>7</th>\n      <td>34</td>\n      <td>63</td>\n      <td>17</td>\n    </tr>\n    <tr>\n      <th>8</th>\n      <td>55</td>\n      <td>3</td>\n      <td>58</td>\n    </tr>\n    <tr>\n      <th>9</th>\n      <td>81</td>\n      <td>71</td>\n      <td>24</td>\n    </tr>\n  </tbody>\n</table>\n</div>"
     },
     "metadata": {},
     "execution_count": 33
    }
   ],
   "source": [
    "df_subset = df[[\"columna_4\",\"columna_3\",\"columna_2\"]]\n",
    "df_subset"
   ]
  },
  {
   "cell_type": "code",
   "execution_count": 34,
   "metadata": {},
   "outputs": [
    {
     "output_type": "execute_result",
     "data": {
      "text/plain": [
       "           columna_3  columna_2\n",
       "columna_4                      \n",
       "75                66          3\n",
       "44                71         56\n",
       "81                18         25\n",
       "34                69         51\n",
       "85                94         44\n",
       "96                90         56\n",
       "7                 58         25\n",
       "34                63         17\n",
       "55                 3         58\n",
       "81                71         24"
      ],
      "text/html": "<div>\n<style scoped>\n    .dataframe tbody tr th:only-of-type {\n        vertical-align: middle;\n    }\n\n    .dataframe tbody tr th {\n        vertical-align: top;\n    }\n\n    .dataframe thead th {\n        text-align: right;\n    }\n</style>\n<table border=\"1\" class=\"dataframe\">\n  <thead>\n    <tr style=\"text-align: right;\">\n      <th></th>\n      <th>columna_3</th>\n      <th>columna_2</th>\n    </tr>\n    <tr>\n      <th>columna_4</th>\n      <th></th>\n      <th></th>\n    </tr>\n  </thead>\n  <tbody>\n    <tr>\n      <th>75</th>\n      <td>66</td>\n      <td>3</td>\n    </tr>\n    <tr>\n      <th>44</th>\n      <td>71</td>\n      <td>56</td>\n    </tr>\n    <tr>\n      <th>81</th>\n      <td>18</td>\n      <td>25</td>\n    </tr>\n    <tr>\n      <th>34</th>\n      <td>69</td>\n      <td>51</td>\n    </tr>\n    <tr>\n      <th>85</th>\n      <td>94</td>\n      <td>44</td>\n    </tr>\n    <tr>\n      <th>96</th>\n      <td>90</td>\n      <td>56</td>\n    </tr>\n    <tr>\n      <th>7</th>\n      <td>58</td>\n      <td>25</td>\n    </tr>\n    <tr>\n      <th>34</th>\n      <td>63</td>\n      <td>17</td>\n    </tr>\n    <tr>\n      <th>55</th>\n      <td>3</td>\n      <td>58</td>\n    </tr>\n    <tr>\n      <th>81</th>\n      <td>71</td>\n      <td>24</td>\n    </tr>\n  </tbody>\n</table>\n</div>"
     },
     "metadata": {},
     "execution_count": 34
    }
   ],
   "source": [
    "df_subset.set_index(keys=\"columna_4\", inplace=True)\n",
    "df_subset"
   ]
  },
  {
   "cell_type": "code",
   "execution_count": 35,
   "metadata": {},
   "outputs": [
    {
     "output_type": "execute_result",
     "data": {
      "text/plain": [
       "           columna_3  columna_2\n",
       "columna_4                      \n",
       "75                66          3\n",
       "44                71         56\n",
       "81                18         25\n",
       "34                69         51\n",
       "85                94         44"
      ],
      "text/html": "<div>\n<style scoped>\n    .dataframe tbody tr th:only-of-type {\n        vertical-align: middle;\n    }\n\n    .dataframe tbody tr th {\n        vertical-align: top;\n    }\n\n    .dataframe thead th {\n        text-align: right;\n    }\n</style>\n<table border=\"1\" class=\"dataframe\">\n  <thead>\n    <tr style=\"text-align: right;\">\n      <th></th>\n      <th>columna_3</th>\n      <th>columna_2</th>\n    </tr>\n    <tr>\n      <th>columna_4</th>\n      <th></th>\n      <th></th>\n    </tr>\n  </thead>\n  <tbody>\n    <tr>\n      <th>75</th>\n      <td>66</td>\n      <td>3</td>\n    </tr>\n    <tr>\n      <th>44</th>\n      <td>71</td>\n      <td>56</td>\n    </tr>\n    <tr>\n      <th>81</th>\n      <td>18</td>\n      <td>25</td>\n    </tr>\n    <tr>\n      <th>34</th>\n      <td>69</td>\n      <td>51</td>\n    </tr>\n    <tr>\n      <th>85</th>\n      <td>94</td>\n      <td>44</td>\n    </tr>\n  </tbody>\n</table>\n</div>"
     },
     "metadata": {},
     "execution_count": 35
    }
   ],
   "source": [
    "df_subset.head(5)"
   ]
  },
  {
   "cell_type": "code",
   "execution_count": 36,
   "metadata": {},
   "outputs": [
    {
     "output_type": "execute_result",
     "data": {
      "text/plain": [
       "columna_4\n",
       "75    66\n",
       "44    71\n",
       "81    18\n",
       "34    69\n",
       "85    94\n",
       "96    90\n",
       "7     58\n",
       "34    63\n",
       "55     3\n",
       "81    71\n",
       "Name: columna_3, dtype: int32"
      ]
     },
     "metadata": {},
     "execution_count": 36
    }
   ],
   "source": [
    "df_subset[\"columna_3\"]"
   ]
  },
  {
   "cell_type": "code",
   "execution_count": 46,
   "metadata": {},
   "outputs": [
    {
     "output_type": "execute_result",
     "data": {
      "text/plain": [
       "   Stock_price\n",
       "0       119.04\n",
       "1        43.19\n",
       "2         7.29\n",
       "3        37.95\n",
       "4       167.35\n",
       "5        27.33\n",
       "6         7.67"
      ],
      "text/html": "<div>\n<style scoped>\n    .dataframe tbody tr th:only-of-type {\n        vertical-align: middle;\n    }\n\n    .dataframe tbody tr th {\n        vertical-align: top;\n    }\n\n    .dataframe thead th {\n        text-align: right;\n    }\n</style>\n<table border=\"1\" class=\"dataframe\">\n  <thead>\n    <tr style=\"text-align: right;\">\n      <th></th>\n      <th>Stock_price</th>\n    </tr>\n  </thead>\n  <tbody>\n    <tr>\n      <th>0</th>\n      <td>119.04</td>\n    </tr>\n    <tr>\n      <th>1</th>\n      <td>43.19</td>\n    </tr>\n    <tr>\n      <th>2</th>\n      <td>7.29</td>\n    </tr>\n    <tr>\n      <th>3</th>\n      <td>37.95</td>\n    </tr>\n    <tr>\n      <th>4</th>\n      <td>167.35</td>\n    </tr>\n    <tr>\n      <th>5</th>\n      <td>27.33</td>\n    </tr>\n    <tr>\n      <th>6</th>\n      <td>7.67</td>\n    </tr>\n  </tbody>\n</table>\n</div>"
     },
     "metadata": {},
     "execution_count": 46
    }
   ],
   "source": [
    "company = [\"Apple\", \"Citigroup\", \"General_Electric\", \n",
    "          \"Pfizer\", \"Boing_Co\", \"AT&t\", \"Ford\"]\n",
    "price = [119.04, 43.19, 7.29, 37.95, 167.35, 27.33, 7.67]\n",
    "\n",
    "df = pd.DataFrame(price, columns=[\"Stock_price\"])\n",
    "df"
   ]
  },
  {
   "cell_type": "code",
   "execution_count": 37,
   "metadata": {},
   "outputs": [
    {
     "output_type": "execute_result",
     "data": {
      "text/plain": [
       "[array([0.26908048, 0.2116987 , 0.77484236, 0.69457172, 0.54626841,\n",
       "        0.5345544 , 0.25817756, 0.55463614, 0.4628496 , 0.22794325]),\n",
       " array([0.52332399, 0.15193861, 0.04905273, 0.62322571, 0.67942465,\n",
       "        0.35413168, 0.34161692, 0.01175337, 0.47400491, 0.26862209]),\n",
       " array([0.27776556, 0.99495547, 0.2609615 , 0.67665792, 0.32092977,\n",
       "        0.87300173, 0.96440936, 0.8375854 , 0.39230258, 0.0241579 ]),\n",
       " array([0.51729089, 0.87857294, 0.33475445, 0.07811764, 0.6329945 ,\n",
       "        0.50411893, 0.64136808, 0.70433798, 0.30813732, 0.11942684])]"
      ]
     },
     "metadata": {},
     "execution_count": 37
    }
   ],
   "source": [
    "lista_de_listas = [np.random.random(10) for i in range(4)]\n",
    "lista_de_listas"
   ]
  },
  {
   "cell_type": "code",
   "execution_count": 42,
   "metadata": {},
   "outputs": [
    {
     "output_type": "stream",
     "name": "stdout",
     "text": [
      "['columna0', 'columna1', 'columna2', 'columna3', 'columna4', 'columna5', 'columna6', 'columna7', 'columna8', 'columna9']\n"
     ]
    }
   ],
   "source": [
    "nombre_de_columna = [f\"columna{i}\" for i in range(len(lista_de_listas[0]))]\n",
    "print(nombre_de_columna)"
   ]
  },
  {
   "cell_type": "code",
   "execution_count": 50,
   "metadata": {},
   "outputs": [
    {
     "output_type": "execute_result",
     "data": {
      "text/plain": [
       "   columna0  columna1  columna2  columna3  columna4  columna5  columna6  \\\n",
       "0  0.269080  0.211699  0.774842  0.694572  0.546268  0.534554  0.258178   \n",
       "1  0.523324  0.151939  0.049053  0.623226  0.679425  0.354132  0.341617   \n",
       "2  0.277766  0.994955  0.260961  0.676658  0.320930  0.873002  0.964409   \n",
       "3  0.517291  0.878573  0.334754  0.078118  0.632995  0.504119  0.641368   \n",
       "\n",
       "   columna7  columna8  columna9  \n",
       "0  0.554636  0.462850  0.227943  \n",
       "1  0.011753  0.474005  0.268622  \n",
       "2  0.837585  0.392303  0.024158  \n",
       "3  0.704338  0.308137  0.119427  "
      ],
      "text/html": "<div>\n<style scoped>\n    .dataframe tbody tr th:only-of-type {\n        vertical-align: middle;\n    }\n\n    .dataframe tbody tr th {\n        vertical-align: top;\n    }\n\n    .dataframe thead th {\n        text-align: right;\n    }\n</style>\n<table border=\"1\" class=\"dataframe\">\n  <thead>\n    <tr style=\"text-align: right;\">\n      <th></th>\n      <th>columna0</th>\n      <th>columna1</th>\n      <th>columna2</th>\n      <th>columna3</th>\n      <th>columna4</th>\n      <th>columna5</th>\n      <th>columna6</th>\n      <th>columna7</th>\n      <th>columna8</th>\n      <th>columna9</th>\n    </tr>\n  </thead>\n  <tbody>\n    <tr>\n      <th>0</th>\n      <td>0.269080</td>\n      <td>0.211699</td>\n      <td>0.774842</td>\n      <td>0.694572</td>\n      <td>0.546268</td>\n      <td>0.534554</td>\n      <td>0.258178</td>\n      <td>0.554636</td>\n      <td>0.462850</td>\n      <td>0.227943</td>\n    </tr>\n    <tr>\n      <th>1</th>\n      <td>0.523324</td>\n      <td>0.151939</td>\n      <td>0.049053</td>\n      <td>0.623226</td>\n      <td>0.679425</td>\n      <td>0.354132</td>\n      <td>0.341617</td>\n      <td>0.011753</td>\n      <td>0.474005</td>\n      <td>0.268622</td>\n    </tr>\n    <tr>\n      <th>2</th>\n      <td>0.277766</td>\n      <td>0.994955</td>\n      <td>0.260961</td>\n      <td>0.676658</td>\n      <td>0.320930</td>\n      <td>0.873002</td>\n      <td>0.964409</td>\n      <td>0.837585</td>\n      <td>0.392303</td>\n      <td>0.024158</td>\n    </tr>\n    <tr>\n      <th>3</th>\n      <td>0.517291</td>\n      <td>0.878573</td>\n      <td>0.334754</td>\n      <td>0.078118</td>\n      <td>0.632995</td>\n      <td>0.504119</td>\n      <td>0.641368</td>\n      <td>0.704338</td>\n      <td>0.308137</td>\n      <td>0.119427</td>\n    </tr>\n  </tbody>\n</table>\n</div>"
     },
     "metadata": {},
     "execution_count": 50
    }
   ],
   "source": [
    "df = pd.DataFrame(lista_de_listas, columns = nombre_de_columna)\n",
    "df"
   ]
  },
  {
   "cell_type": "code",
   "execution_count": 51,
   "metadata": {},
   "outputs": [
    {
     "output_type": "execute_result",
     "data": {
      "text/plain": [
       "                 0         1         2         3\n",
       "columna0  0.269080  0.523324  0.277766  0.517291\n",
       "columna1  0.211699  0.151939  0.994955  0.878573\n",
       "columna2  0.774842  0.049053  0.260961  0.334754\n",
       "columna3  0.694572  0.623226  0.676658  0.078118\n",
       "columna4  0.546268  0.679425  0.320930  0.632995\n",
       "columna5  0.534554  0.354132  0.873002  0.504119\n",
       "columna6  0.258178  0.341617  0.964409  0.641368\n",
       "columna7  0.554636  0.011753  0.837585  0.704338\n",
       "columna8  0.462850  0.474005  0.392303  0.308137\n",
       "columna9  0.227943  0.268622  0.024158  0.119427"
      ],
      "text/html": "<div>\n<style scoped>\n    .dataframe tbody tr th:only-of-type {\n        vertical-align: middle;\n    }\n\n    .dataframe tbody tr th {\n        vertical-align: top;\n    }\n\n    .dataframe thead th {\n        text-align: right;\n    }\n</style>\n<table border=\"1\" class=\"dataframe\">\n  <thead>\n    <tr style=\"text-align: right;\">\n      <th></th>\n      <th>0</th>\n      <th>1</th>\n      <th>2</th>\n      <th>3</th>\n    </tr>\n  </thead>\n  <tbody>\n    <tr>\n      <th>columna0</th>\n      <td>0.269080</td>\n      <td>0.523324</td>\n      <td>0.277766</td>\n      <td>0.517291</td>\n    </tr>\n    <tr>\n      <th>columna1</th>\n      <td>0.211699</td>\n      <td>0.151939</td>\n      <td>0.994955</td>\n      <td>0.878573</td>\n    </tr>\n    <tr>\n      <th>columna2</th>\n      <td>0.774842</td>\n      <td>0.049053</td>\n      <td>0.260961</td>\n      <td>0.334754</td>\n    </tr>\n    <tr>\n      <th>columna3</th>\n      <td>0.694572</td>\n      <td>0.623226</td>\n      <td>0.676658</td>\n      <td>0.078118</td>\n    </tr>\n    <tr>\n      <th>columna4</th>\n      <td>0.546268</td>\n      <td>0.679425</td>\n      <td>0.320930</td>\n      <td>0.632995</td>\n    </tr>\n    <tr>\n      <th>columna5</th>\n      <td>0.534554</td>\n      <td>0.354132</td>\n      <td>0.873002</td>\n      <td>0.504119</td>\n    </tr>\n    <tr>\n      <th>columna6</th>\n      <td>0.258178</td>\n      <td>0.341617</td>\n      <td>0.964409</td>\n      <td>0.641368</td>\n    </tr>\n    <tr>\n      <th>columna7</th>\n      <td>0.554636</td>\n      <td>0.011753</td>\n      <td>0.837585</td>\n      <td>0.704338</td>\n    </tr>\n    <tr>\n      <th>columna8</th>\n      <td>0.462850</td>\n      <td>0.474005</td>\n      <td>0.392303</td>\n      <td>0.308137</td>\n    </tr>\n    <tr>\n      <th>columna9</th>\n      <td>0.227943</td>\n      <td>0.268622</td>\n      <td>0.024158</td>\n      <td>0.119427</td>\n    </tr>\n  </tbody>\n</table>\n</div>"
     },
     "metadata": {},
     "execution_count": 51
    }
   ],
   "source": [
    "df = df.transpose()\n",
    "df"
   ]
  },
  {
   "cell_type": "code",
   "execution_count": null,
   "metadata": {},
   "outputs": [],
   "source": []
  }
 ]
}