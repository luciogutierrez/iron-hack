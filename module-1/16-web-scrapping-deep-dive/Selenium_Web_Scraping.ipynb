{
 "cells": [
  {
   "cell_type": "code",
   "execution_count": 1,
   "id": "8f10bddd",
   "metadata": {},
   "outputs": [],
   "source": [
    "import pandas as pd\n",
    "import requests\n",
    "import time\n",
    "\n",
    "from selenium import webdriver\n",
    "from selenium.webdriver.common.keys import Keys"
   ]
  },
  {
   "cell_type": "code",
   "execution_count": 17,
   "id": "1a42413d",
   "metadata": {},
   "outputs": [],
   "source": [
    "path_to_driver = 'C:\\Program Files\\ChromeDriver\\chromedriver.exe'"
   ]
  },
  {
   "cell_type": "code",
   "execution_count": 2,
   "id": "14d2249e",
   "metadata": {},
   "outputs": [],
   "source": [
    "driver = webdriver.Chrome(r'C:\\Program Files\\ChromeDriver\\chromedriver.exe')"
   ]
  },
  {
   "cell_type": "code",
   "execution_count": 3,
   "id": "ab9fea4b",
   "metadata": {},
   "outputs": [],
   "source": [
    "driver.get('http://www.python.org')"
   ]
  },
  {
   "cell_type": "code",
   "execution_count": 4,
   "id": "b1176562",
   "metadata": {},
   "outputs": [],
   "source": [
    "assert \"Python\" in driver.title"
   ]
  },
  {
   "cell_type": "code",
   "execution_count": 5,
   "id": "594e7009",
   "metadata": {},
   "outputs": [],
   "source": [
    "time.sleep(5)"
   ]
  },
  {
   "cell_type": "code",
   "execution_count": 6,
   "id": "85c14e89",
   "metadata": {},
   "outputs": [],
   "source": [
    "elem = driver.find_element_by_name('q')"
   ]
  },
  {
   "cell_type": "code",
   "execution_count": 8,
   "id": "e714527a",
   "metadata": {},
   "outputs": [],
   "source": [
    "elem.clear()"
   ]
  },
  {
   "cell_type": "code",
   "execution_count": 9,
   "id": "a2cb09e6",
   "metadata": {},
   "outputs": [],
   "source": [
    "elem.send_keys('pycon')"
   ]
  },
  {
   "cell_type": "code",
   "execution_count": 10,
   "id": "ab04ef87",
   "metadata": {},
   "outputs": [],
   "source": [
    "elem.send_keys(Keys.RETURN)"
   ]
  },
  {
   "cell_type": "code",
   "execution_count": 11,
   "id": "290150f0",
   "metadata": {},
   "outputs": [],
   "source": [
    "assert \"No results found.\" not in driver.page_source"
   ]
  },
  {
   "cell_type": "code",
   "execution_count": 13,
   "id": "66aafaf1",
   "metadata": {},
   "outputs": [],
   "source": [
    "time.sleep(5)"
   ]
  },
  {
   "cell_type": "code",
   "execution_count": 14,
   "id": "d608a7fa",
   "metadata": {},
   "outputs": [],
   "source": [
    "driver.close()"
   ]
  },
  {
   "cell_type": "code",
   "execution_count": 18,
   "id": "47802dfa",
   "metadata": {},
   "outputs": [],
   "source": [
    "driver = webdriver.Chrome(path_to_driver)\n",
    "driver.get(\"http://www.python.org\")\n",
    "assert \"Python\" in driver.title\n",
    "time.sleep(5)\n",
    "elem = driver.find_element_by_name(\"q\")\n",
    "elem.clear()\n",
    "elem.send_keys(\"pycon\")\n",
    "elem.send_keys(Keys.RETURN)\n",
    "assert \"No results found.\" not in driver.page_source\n",
    "time.sleep(5)\n",
    "driver.close()"
   ]
  },
  {
   "cell_type": "markdown",
   "id": "db75f5ea",
   "metadata": {},
   "source": [
    "### Alies Parsons Project"
   ]
  },
  {
   "cell_type": "code",
   "execution_count": 19,
   "id": "01cb82a0",
   "metadata": {},
   "outputs": [],
   "source": [
    "import time \n",
    "import re\n",
    "import sys\n",
    "import requests\n",
    "import numpy as np\n",
    "import pandas as pd\n",
    "from pathlib import Path\n",
    "\n",
    "from bs4 import BeautifulSoup\n",
    "\n",
    "from selenium import webdriver\n",
    "from selenium.webdriver.common.keys import Keys\n",
    "from selenium.webdriver.common.action_chains import ActionChains"
   ]
  },
  {
   "cell_type": "code",
   "execution_count": 20,
   "id": "ee3b81ff",
   "metadata": {},
   "outputs": [],
   "source": [
    "aliexpress = requests.get('https://sale.aliexpress\\\n",
    ".com/es/__pc/global_selection_pc.htm?spm=a2g0o.home.01002.3.39a670e51lwa26').content"
   ]
  },
  {
   "cell_type": "code",
   "execution_count": 22,
   "id": "b9bae60f",
   "metadata": {},
   "outputs": [],
   "source": [
    "world_selection = BeautifulSoup(aliexpress, 'html')"
   ]
  },
  {
   "cell_type": "code",
   "execution_count": 23,
   "id": "249a931d",
   "metadata": {},
   "outputs": [
    {
     "data": {
      "text/plain": [
       "<!DOCTYPE html>\n",
       "<html dir=\"ltr\" lang=\"es_ES\">\n",
       "<head>\n",
       "<meta charset=\"utf-8\"/>\n",
       "<meta content=\"es\" http-equiv=\"content-language\"/>\n",
       "<title></title>\n",
       "<link href=\"//i.alicdn.com\" rel=\"dns-prefetch\"/>\n",
       "<link href=\"//ae01.alicdn.com\" rel=\"dns-prefetch\"/>\n",
       "<meta content=\"\" name=\"description\"/>\n",
       "<meta content=\"\" name=\"keywords\"/>\n",
       "<meta content=\"a2g01\" name=\"data-spm\"/>\n",
       "<meta content=\"width=device-width, initial-scale=1.0, maximum-scale=1.0, user-scalable=no\" name=\"viewport\"/>\n",
       "<meta content=\"\" property=\"og:title\"/>\n",
       "<meta content=\"\" property=\"og:description\"/>\n",
       "<meta content=\"activity\" property=\"og:type\"/>\n",
       "<meta content=\"https://sale.aliexpress.com/global_selection_pc.htm\" property=\"og:url\"/>\n",
       "<meta content=\"https://ae01.alicdn.com/kf/HTB18eCBQXXXXXXfXXXX760XFXXXa.png\" property=\"og:image\"/>\n",
       "<meta content=\"aliexpress://goto?fbsrc=fbapplink_sale_android\" property=\"al:android:url\"/>\n",
       "<meta content=\"com.alibaba.aliexpresshd\" property=\"al:android:package\"/>\n",
       "<meta content=\"AliExpress\" property=\"al:android:app_name\"/>\n",
       "<meta content=\"aliexpress://goto?fbsrc=fbapplink_sale_ios\" property=\"al:iphone:url\"/>\n",
       "<meta content=\"436672029\" property=\"al:iphone:app_store_id\"/>\n",
       "<meta content=\"AliExpress\" property=\"al:iphone:app_name\"/>\n",
       "<meta content=\"100001353684210,644984273\" property=\"fb:admins\"/>\n",
       "<meta content=\"335963307560\" property=\"fb:page_id\"/>\n",
       "<meta content=\"176044105761845\" property=\"fb:app_id\"/>\n",
       "<meta content=\"1\" name=\"ahot-aplus\"/>\n",
       "<meta content=\"0.2\" name=\"aplus-rate-ahot\"/>\n",
       "<meta content=\"0.5\" name=\"aplus-auto-exp-visible\"/>\n",
       "<meta content=\"500\" name=\"aplus-auto-exp-duration\"/>\n",
       "<meta content=\"project_id=180114&amp;exp_page=ams\" name=\"aplus-exinfo\"/>\n",
       "<meta content=\"[{'logkey':'/ae.pc_ctr.statweb_ae_ctr','tag':'section','filter':'data-exp-s','props': ['exp_type','exp_attribute']},{'logkey':'/ae.pc_ctr.statweb_ae_ctr','tag':'div','filter':'data-exp-s','props': ['exp_type','exp_attribute']},{'logkey':'/ae.pc_ctr.statweb_ae_ctr','tag':'li','filter':'data-exp-s','pkgSize':10,'props': ['data-exp-s']}]\" name=\"aplus-auto-exp\"/>\n",
       "<meta content=\"[{'logkey':'/ae.pc_click.statweb_ae_click','tag':'a','filter':'data-clk-s','props': ['data-clk-s']}]\" name=\"aplus-auto-clk\"/>\n",
       "<link href=\"//ae01.alicdn.com/images/eng/wholesale/icon/aliexpress.ico\" rel=\"shortcut icon\" type=\"image/x-icon\"/>\n",
       "<link href=\"//i.alicdn.com/ams-static/3.0.0/global/base.css\" media=\"all\" rel=\"stylesheet\" type=\"text/css\"/>\n",
       "<script src=\"//i.alicdn.com/ams-static/3.0.0/global/base.js\" type=\"text/javascript\"></script>\n",
       "<script type=\"text/javascript\">\n",
       "        window.AE_SITE_LANGUAGE_CODE = \"es-es\"</script>\n",
       "<script src=\"//i.alicdn.com/ae-ams-ui/1.1.0/widget/index.js\" type=\"text/javascript\"></script>\n",
       "<link href=\"https://assets.alicdn.com/g/ae-fe/header-ui/0.0.4/prev/front/ae-header-es.css\" rel=\"stylesheet\" type=\"text/css\"/>\n",
       "<link href=\"//i.alicdn.com/ae-channel-ui/2.0.0/global-selection/global-selection.css\" rel=\"stylesheet\"/>\n",
       "</head>\n",
       "<body class=\"ams-lang-es\" data-spm=\"12525780\"><script>try{with (document)with (body)with (insertBefore(createElement('script'), firstChild))setAttribute('exparams', 'aplus&sidx=aplusSidx', id = 'beacon-aplus', src = '//assets.alicdn.com/g/alilog/??aplus_plugin_aefront/index.js,mlog/aplus_int.js')}catch(e){}</script><script type=\"text/javascript\">try{var PAGE_TIMING = {pageType: 'aeactivity-page'};PAGE_TIMING.startRenderImage = new Image();PAGE_TIMING.startRenderImage.onload=function(){PAGE_TIMING.startRender = new Date().getTime()};PAGE_TIMING.startRenderImage.src = '//ae01.alicdn.com/wimg/monitor/start-render.png';}catch(e){}</script>\n",
       "<script>\n",
       "!(function(c,b,d,a){c[a]||(c[a]={});c[a].config={pid:\"f1fxt4k42w@32acc08dc310df3\",appType:\"web\",imgUrl:\"https://retcode-us-west-1.arms.aliyuncs.com/r.png?\",sendResource:true,enableLinkTrace:false,behavior:true,useFmp:true,enableConsole:true};\n",
       "with(b)with(body)with(insertBefore(createElement(\"script\"),firstChild))setAttribute(\"crossorigin\",\"\",src=d)\n",
       "})(window,document,\"//assets.alicdn.com/g/retcode/cloud-sdk/bl.js\",\"__bl\");</script>\n",
       "<!--ams-page-header-start-->\n",
       "<div class=\"top-lighthouse\" data-spm=\"1000001\" id=\"top-lighthouse\">\n",
       "<div class=\"top-lighthouse-wrap container\">\n",
       "<div class=\"nav-global\" id=\"nav-global\">\n",
       "<div class=\"ng-item ng-setting-proxy\" data-role=\"privacy-setting\" style=\"display:none;\"><a href=\"javascript:;\">Configuración De Privacidad</a></div>\n",
       "<div class=\"ng-item ng-bp\"><a href=\"//sale.aliexpress.com/v8Yr8f629D.htm\" rel=\"nofollow\">Protección del comprador</a></div>\n",
       "<div class=\"ng-item ng-help ng-sub\"><span class=\"ng-sub-title\">Ayuda</span>\n",
       "<ul class=\"ng-sub-list\">\n",
       "<li><a class=\"ng-help-link\" data-role=\"help-center-link\" href=\"//sale.aliexpress.com/kr_helpcenter.htm\" rel=\"nofollow\">Servicio al Cliente</a></li>\n",
       "<li><a data-role=\"complaint-link\" href=\"//report.aliexpress.com\" rel=\"nofollow\">Disputas</a></li>\n",
       "</ul>\n",
       "</div>\n",
       "<div class=\"ng-item ng-mobile\"><a href=\"//sale.aliexpress.com/download_app_guide.htm\" rel=\"nofollow\">Gasta menos con la app</a></div>\n",
       "</div>\n",
       "</div>\n",
       "</div>\n",
       "<div class=\"header header-outer-container\" data-spm=\"1000002\" id=\"header\">\n",
       "<div class=\"header-wrap container\">\n",
       "<div class=\"hm-left\">\n",
       "<div class=\"header-categories\" id=\"header-categories\"><span class=\"categories-title\">CATEGORIES</span> </div>\n",
       "<div class=\"site-logo inside-page-logo\"><a href=\"//www.aliexpress.com/\"><span class=\"logo-base\">AliExpress</span> <span class=\"logo-slogan\">Smarter Shopping, Better Living!</span> </a></div>\n",
       "</div>\n",
       "<div class=\"hm-right\">\n",
       "<div class=\"nav-cart nav-cart-box\"><a href=\"//shoppingcart.aliexpress.com/shopcart/shopcartDetail.htm\" rel=\"nofollow\"><span class=\"text hidden-sm\">Cesta</span></a><span class=\"cart-number\" id=\"nav-cart-num\">0</span></div>\n",
       "<div class=\"nav-wishlist\"><a href=\"//my.aliexpress.com/wishlist/wish_list_product_list.htm\" rel=\"nofollow\"><span class=\"text hidden-sm\">Lista de Deseos</span></a></div>\n",
       "<div class=\"nav-user-account\" id=\"nav-user-account\">\n",
       "<div class=\"user-account-info\" data-role=\"user-account-top\">\n",
       "<div class=\"user-account-inner hidden-sm\"><span class=\"account-unsigned\" data-role=\"unsigned\"><a data-role=\"sign-link\" href=\"//login.aliexpress.com/express/mulSiteLogin.htm\" rel=\"nofollow\">Identifícate</a><span class=\"ua-line\">|</span><a data-role=\"join-link\" href=\"//login.aliexpress.com/join/buyer/expressJoin.htm\" rel=\"nofollow\">Regístrate</a></span> <span class=\"account-name\" data-role=\"username\"> </span>\n",
       "<div class=\"myaliexpress\" data-role=\"myaliexpress\"><span data-role=\"myaliexpress-link\">Mi AliExpress</span><b>(0)</b></div>\n",
       "</div>\n",
       "</div>\n",
       "<div class=\"user-account-main\" data-role=\"user-account-main\">\n",
       "<div class=\"flyout-user-signout\" data-role=\"signout-btn\"><a href=\"//login.aliexpress.com/xman/xlogout.htm\" rel=\"nofollow\">Cerrar sesión</a></div>\n",
       "<div class=\"flyout-user-signIn\" data-role=\"user-signIn\">\n",
       "<p class=\"flyout-welcome-text\" data-role=\"flyout-welcome\"></p>\n",
       "<p><a class=\"sign-btn\" data-role=\"sign-link\" href=\"//login.aliexpress.com/express/mulSiteLogin.htm\" rel=\"nofollow\">Identifícate</a></p>\n",
       "<p class=\"flyout-signIn-type\"><span>Entrar con</span> <a class=\"nus-icon nus-facebook\" data-role=\"login-type\" href=\"//thirdparty.aliexpress.com/login.htm?type=fb&amp;tracelog=ws_fb_topbar\" rel=\"nofollow\" title=\"facebook\"> </a> <a class=\"nus-icon nus-vk\" data-role=\"login-type\" href=\"//thirdparty.aliexpress.com/login.htm?type=vk&amp;tracelog=ws_vk_topbar\" rel=\"nofollow\" title=\"vk\"> </a> <a class=\"nus-icon nus-google\" data-role=\"login-type\" href=\"//thirdparty.aliexpress.com/login.htm?type=gg&amp;tracelog=ws_gg_mainlogin\" rel=\"nofollow\" title=\"google\"> </a></p>\n",
       "</div>\n",
       "<dl class=\"flyout-visitors-login\" data-role=\"user-login\">\n",
       "<dt>¿Nuevo cliente?</dt>\n",
       "<dd><a class=\"join-btn\" data-role=\"join-link\" href=\"//login.aliexpress.com/join/buyer/expressJoin.htm\" rel=\"nofollow\">Regístrate gratis</a></dd>\n",
       "</dl>\n",
       "<div class=\"flyout-remind-list\" id=\"flyout-remind-list\"></div>\n",
       "<ul class=\"flyout-quick-entry\" data-role=\"quick-entry\">\n",
       "<li><a href=\"//home.aliexpress.com/index.htm\" rel=\"nofollow\">Mi AliExpress</a></li>\n",
       "<li><a href=\"//trade.aliexpress.com/orderList.htm\" rel=\"nofollow\">Mis Pedidos</a></li>\n",
       "<li><a href=\"//msg.aliexpress.com/buyerMsgList.htm\" rel=\"nofollow\">Centro de Mensajes</a></li>\n",
       "<li><a href=\"//my.aliexpress.com/wishlist/wish_list_product_list.htm\" rel=\"nofollow\">Lista de Deseos</a></li>\n",
       "<li><a class=\"js-menu-my-favorite-stores\" href=\"//my.aliexpress.com/wishlist/wish_list_store_list.htm\" rel=\"nofollow\">Mis tiendas favoritas</a></li>\n",
       "<li><a href=\"//my.aliexpress.com/coupon/buyerCouponList.htm?sortBy=2\" rel=\"nofollow\">Mis Cupones</a></li>\n",
       "</ul>\n",
       "</div>\n",
       "</div>\n",
       "</div>\n",
       "<div class=\"hm-middle\">\n",
       "<form action=\"/wholesale\" class=\"searchbar-form\" id=\"form-searchbar\" method=\"get\"><input id=\"catId\" name=\"catId\" type=\"hidden\" value=\"0\"/> <input id=\"historyTab\" type=\"hidden\"/> <input id=\"historySearchInput\" type=\"hidden\"/> <input id=\"historySearchCountry\" type=\"hidden\"/> <input id=\"initiative_id\" name=\"initiative_id\" type=\"hidden\" value=\"\"/>\n",
       "<div class=\"searchbar-operate-box\"><input class=\"search-button\" type=\"submit\" value=\"\"/></div>\n",
       "<div class=\"search-key-box\"><input autocomplete=\"off\" class=\"search-key\" id=\"search-key\" maxlength=\"50\" name=\"SearchText\" placeholder=\"Estoy buscando...\" type=\"text\" value=\"\"/></div>\n",
       "</form>\n",
       "</div>\n",
       "</div>\n",
       "</div>\n",
       "<script type=\"text/javascript\">\n",
       "var headerConfig = {\n",
       "    locale: 'es_ES',\n",
       "    site:'esp'\n",
       "}</script>\n",
       "<script async=\"\" defer=\"defer\" src=\"https://assets.alicdn.com/g/ae-fe/header-ui/0.0.4/prev/front/ae-header.js\"></script>\n",
       "<!--ams-page-header-end-->\n",
       "<style type=\"text/css\">.prime-menu { height: 120px; }\n",
       "    .prime-menu.category-fix { height: 96px; }\n",
       "    .prime-menu  { display: none; }\n",
       "    .header-banner { display: none; }\n",
       "\t\t</style>\n",
       "<div class=\"gs-container\">\n",
       "<div class=\"channel-header\">\n",
       "<div class=\"channel-header container\">\n",
       "<div class=\"channel-title\">Selección Mundial</div>\n",
       "<div class=\"channel-subtitle\">Entrega gratis en 3-14 días</div>\n",
       "</div>\n",
       "</div>\n",
       "<div class=\"header-banner\">\n",
       "<p class=\"breadcrumb\"> &gt; Artículos</p>\n",
       "<div class=\"header-banner-content\"></div>\n",
       "</div>\n",
       "<div class=\"gs-main\">\n",
       "<div class=\"prime-menu container\" id=\"pjhvjhr0yep5uab\">\n",
       "<div class=\"category-menu\" data-role=\"category-menu\" data-spm=\"gspcl001\">\n",
       "<div class=\"menu-container\" data-role=\"menu-container\">\n",
       "<ul class=\"category-menu-lists\" data-role=\"category-menu-lists\">\n",
       "<li class=\"category-menu-item active\" data-role=\"category-menu-item\" data-widgetid=\"6060220\">\n",
       "<div class=\"menu-item-img\"><img class=\"menu-item-icon\" src=\"//ae01.alicdn.com/kf/H39e12673a5974018956dbf3b32e25ae5R.png\"/></div>\n",
       "<div class=\"menu-item-desc\"><span class=\"menu-item-title\">Destacados</span></div>\n",
       "<div></div>\n",
       "</li>\n",
       "<li class=\"category-menu-item\" data-role=\"category-menu-item\" data-widgetid=\"6303605\">\n",
       "<div class=\"menu-item-img\"><img class=\"menu-item-icon\" src=\"//ae01.alicdn.com/kf/HTB12RDsLG6qK1RjSZFm7600PFXa6.png\"/></div>\n",
       "<div class=\"menu-item-desc\"><span class=\"menu-item-title\">Entrega en 7 días</span></div>\n",
       "<div></div>\n",
       "</li>\n",
       "<li class=\"category-menu-item\" data-role=\"category-menu-item\" data-widgetid=\"5903402\">\n",
       "<div class=\"menu-item-img\"><img class=\"menu-item-icon\" src=\"//ae01.alicdn.com/kf/HTB1rakiaPzuK1Rjy0Fp761EpFXa4.png\"/></div>\n",
       "<div class=\"menu-item-desc\"><span class=\"menu-item-title\">Tech y móvil</span></div>\n",
       "<div></div>\n",
       "</li>\n",
       "<li class=\"category-menu-item\" data-role=\"category-menu-item\" data-widgetid=\"5903408\">\n",
       "<div class=\"menu-item-img\"><img class=\"menu-item-icon\" src=\"//ae01.alicdn.com/kf/HTB1yoZbaJfvK1RjSspo762fNpXaa.png\"/></div>\n",
       "<div class=\"menu-item-desc\"><span class=\"menu-item-title\">Casa y jardín</span></div>\n",
       "<div></div>\n",
       "</li>\n",
       "<li class=\"category-menu-item\" data-role=\"category-menu-item\" data-widgetid=\"5902364\">\n",
       "<div class=\"menu-item-img\"><img class=\"menu-item-icon\" src=\"//ae01.alicdn.com/kf/HTB1paogaIvrK1Rjy0Fe763TmVXaG.png\"/></div>\n",
       "<div class=\"menu-item-desc\"><span class=\"menu-item-title\">Infantil y juguetes</span></div>\n",
       "<div></div>\n",
       "</li>\n",
       "<li class=\"category-menu-item\" data-role=\"category-menu-item\" data-widgetid=\"6464430\">\n",
       "<div class=\"menu-item-img\"><img class=\"menu-item-icon\" src=\"//ae01.alicdn.com/kf/HTB17BPrP4TpK1RjSZFM762G_VXau.png\"/></div>\n",
       "<div class=\"menu-item-desc\"><span class=\"menu-item-title\">Deportes y ocio</span></div>\n",
       "<div></div>\n",
       "</li>\n",
       "<li class=\"category-menu-item\" data-role=\"category-menu-item\" data-widgetid=\"5903405\">\n",
       "<div class=\"menu-item-img\"><img class=\"menu-item-icon\" src=\"//ae01.alicdn.com/kf/HTB1XcwlaJjvK1RjSspi763EqXXaP.png\"/></div>\n",
       "<div class=\"menu-item-desc\"><span class=\"menu-item-title\">Moda internacional</span></div>\n",
       "<div></div>\n",
       "</li>\n",
       "<li class=\"category-menu-item\" data-role=\"category-menu-item\" data-widgetid=\"6075891\">\n",
       "<div class=\"menu-item-img\"><img class=\"menu-item-icon\" src=\"//ae01.alicdn.com/kf/HTB1zyy1eDZmx1VjSZFG761x2XXau.png\"/></div>\n",
       "<div class=\"menu-item-desc\"><span class=\"menu-item-title\">Moda europea</span></div>\n",
       "<div></div>\n",
       "</li>\n",
       "</ul>\n",
       "</div>\n",
       "</div>\n",
       "</div>\n",
       "<div class=\"gs-main container\">\n",
       "<div class=\"list-container\" data-menuid=\"#pjhvjhr0yep5uab\" data-role=\"list-container\">\n",
       "<div class=\"gs-list\" data-role=\"gs-list\" data-spm=\"gspcl002\"></div>\n",
       "<div class=\"loading\" data-role=\"gs-scroll\"></div>\n",
       "</div>\n",
       "</div>\n",
       "</div>\n",
       "<div class=\"gs-footer\">\n",
       "<div class=\"channel-footer\">\n",
       "<div class=\"channel-footer container\">\n",
       "<div class=\"footer-channel-title\">Selección Mundial</div>\n",
       "<div class=\"footer-channel-subtitle\">Entrega gratis en 3-14 días</div>\n",
       "</div>\n",
       "</div>\n",
       "<div class=\"footer-category\">\n",
       "<ul>\n",
       "<li><a href=\"//sale.aliexpress.com/global_selection_pc.htm?widgetId=5589645\">Destacados</a></li>\n",
       "<li><a href=\"//sale.aliexpress.com/global_selection_pc.htm?widgetId=6303605\">Entrega en 7 días</a></li>\n",
       "<li><a href=\"//sale.aliexpress.com/global_selection_pc.htm?widgetId=5903402\">Todo tecnología</a></li>\n",
       "<li><a href=\"//sale.aliexpress.com/global_selection_pc.htm?widgetId=5903408\">Casa y jardín</a></li>\n",
       "<li><a href=\"//sale.aliexpress.com/global_selection_pc.htm?widgetId=5902364\">Infantil y juguetes</a></li>\n",
       "<li><a href=\"//sale.aliexpress.com/global_selection_pc.htm?widgetId=6464430\">Deportes y ocio</a></li>\n",
       "<li><a href=\"//sale.aliexpress.com/global_selection_pc.htm?widgetId=5903405\">Moda internacional</a></li>\n",
       "<li><a href=\"//sale.aliexpress.com/global_selection_pc.htm?widgetId=6075891\">Moda europea</a></li>\n",
       "</ul>\n",
       "</div>\n",
       "</div>\n",
       "<div class=\"fixed-panel-go-top\"></div>\n",
       "</div>\n",
       "<script>\n",
       "    if (!window.gsList) {\n",
       "        window.gsList = {\n",
       "            freeShipping:\"Envío gratis\"\n",
       "        };\n",
       "    }</script>\n",
       "<script src=\"//i.alicdn.com/ae-channel-ui/2.0.0/global-selection/index.js\" type=\"text/javascript\"></script>\n",
       "<!--ams-page-footer-start--> <!--ams-page-footer-end-->\n",
       "<script type=\"text/javascript\">\n",
       "    $('.studio-group').each(function() {\n",
       "        var studioEle = $(this);\n",
       "        var groupId = studioEle.attr('id');\n",
       "        if (groupId) {\n",
       "            var parent = studioEle.parent();\n",
       "            var parentIsBody = parent[0].tagName.toLowerCase() === 'body';\n",
       "            if(parentIsBody) return true;\n",
       "            parent.attr('data-spm', groupId);\n",
       "        }\n",
       "    });</script>\n",
       "<!--ams-page-id 31101,34770--></body>\n",
       "</html>"
      ]
     },
     "execution_count": 23,
     "metadata": {},
     "output_type": "execute_result"
    }
   ],
   "source": [
    "world_selection"
   ]
  },
  {
   "cell_type": "code",
   "execution_count": 25,
   "id": "63d6fb8a",
   "metadata": {},
   "outputs": [],
   "source": [
    "url = 'https://sale.aliexpress\\\n",
    ".com/es/__pc/global_selection_pc.htm?spm=a2g0o.home.01002.3.39a670e51lwa26'"
   ]
  },
  {
   "cell_type": "code",
   "execution_count": 24,
   "id": "8ed23105",
   "metadata": {},
   "outputs": [],
   "source": [
    "driver = webdriver.Chrome(path_to_driver)"
   ]
  },
  {
   "cell_type": "code",
   "execution_count": 26,
   "id": "a449aea3",
   "metadata": {},
   "outputs": [],
   "source": [
    "driver.get(url)"
   ]
  },
  {
   "cell_type": "code",
   "execution_count": 27,
   "id": "9882c8b5",
   "metadata": {},
   "outputs": [],
   "source": [
    "page_source = driver.page_source\n",
    "driver.quit()"
   ]
  },
  {
   "cell_type": "code",
   "execution_count": 29,
   "id": "68be4514",
   "metadata": {},
   "outputs": [],
   "source": [
    "# page_source"
   ]
  },
  {
   "cell_type": "code",
   "execution_count": 31,
   "id": "7737bf71",
   "metadata": {},
   "outputs": [],
   "source": [
    "world_selection = BeautifulSoup(page_source, 'lxml')"
   ]
  },
  {
   "cell_type": "code",
   "execution_count": 33,
   "id": "98107443",
   "metadata": {},
   "outputs": [],
   "source": [
    "# print(world_selection.prettify())"
   ]
  },
  {
   "cell_type": "code",
   "execution_count": 37,
   "id": "aff0f96b",
   "metadata": {},
   "outputs": [],
   "source": [
    "link_to_product = world_selection.select('div.gs-item-inner a[href]')\n",
    "# link_to_product"
   ]
  },
  {
   "cell_type": "code",
   "execution_count": 38,
   "id": "b94feca5",
   "metadata": {},
   "outputs": [],
   "source": [
    "links = [link['href'] for link in link_to_product]"
   ]
  },
  {
   "cell_type": "code",
   "execution_count": 42,
   "id": "9edd5272",
   "metadata": {
    "scrolled": true
   },
   "outputs": [],
   "source": [
    "# links"
   ]
  },
  {
   "cell_type": "code",
   "execution_count": 41,
   "id": "bbcd616a",
   "metadata": {},
   "outputs": [
    {
     "data": {
      "text/plain": [
       "20"
      ]
     },
     "execution_count": 41,
     "metadata": {},
     "output_type": "execute_result"
    }
   ],
   "source": [
    "len(links)"
   ]
  },
  {
   "cell_type": "code",
   "execution_count": 43,
   "id": "4e3fd12b",
   "metadata": {},
   "outputs": [],
   "source": [
    "driver = webdriver.Chrome(path_to_driver)\n",
    "driver.get(url)"
   ]
  },
  {
   "cell_type": "code",
   "execution_count": 45,
   "id": "b4ffbbaf",
   "metadata": {},
   "outputs": [],
   "source": [
    "ActionChains(driver).send_keys(Keys.END).perform()\n",
    "time.sleep(3)\n",
    "ActionChains(driver).send_keys(Keys.END).perform()\n",
    "time.sleep(3)\n",
    "ActionChains(driver).send_keys(Keys.END).perform()\n",
    "time.sleep(3)\n",
    "page_source = driver.page_source\n",
    "driver.quit()"
   ]
  },
  {
   "cell_type": "code",
   "execution_count": null,
   "id": "49876346",
   "metadata": {},
   "outputs": [],
   "source": [
    "# SCROLL_PAUSE_TIME = 0.5\n",
    "\n",
    "# # Get scroll height\n",
    "# last_height = driver.execute_script(\"return document.body.scrollHeight\")\n",
    "\n",
    "# while True:\n",
    "#     # Scroll down to bottom\n",
    "#     driver.execute_script(\"window.scrollTo(0, document.body.scrollHeight);\")\n",
    "\n",
    "#     # Wait to load page\n",
    "#     time.sleep(SCROLL_PAUSE_TIME)\n",
    "\n",
    "#     # Calculate new scroll height and compare with last scroll height\n",
    "#     new_height = driver.execute_script(\"return document.body.scrollHeight\")\n",
    "#     if new_height == last_height:\n",
    "#         break\n",
    "#     last_height = new_height"
   ]
  },
  {
   "cell_type": "code",
   "execution_count": 49,
   "id": "97c41268",
   "metadata": {},
   "outputs": [],
   "source": [
    "world_selection = BeautifulSoup(page_source, 'lxml')\n",
    "# print(world_selection.prettify())"
   ]
  },
  {
   "cell_type": "code",
   "execution_count": 50,
   "id": "85d169cf",
   "metadata": {},
   "outputs": [
    {
     "data": {
      "text/plain": [
       "48"
      ]
     },
     "execution_count": 50,
     "metadata": {},
     "output_type": "execute_result"
    }
   ],
   "source": [
    "sys.getsizeof(world_selection)"
   ]
  },
  {
   "cell_type": "code",
   "execution_count": 51,
   "id": "57d859ef",
   "metadata": {},
   "outputs": [],
   "source": [
    "link_to_product = world_selection.select('div.gs-item-inner a[href]')"
   ]
  },
  {
   "cell_type": "code",
   "execution_count": 52,
   "id": "31b5b4b2",
   "metadata": {},
   "outputs": [
    {
     "data": {
      "text/plain": [
       "bs4.element.ResultSet"
      ]
     },
     "execution_count": 52,
     "metadata": {},
     "output_type": "execute_result"
    }
   ],
   "source": [
    "type(link_to_product)"
   ]
  },
  {
   "cell_type": "code",
   "execution_count": 53,
   "id": "3bfa0b7d",
   "metadata": {},
   "outputs": [
    {
     "data": {
      "text/plain": [
       "872"
      ]
     },
     "execution_count": 53,
     "metadata": {},
     "output_type": "execute_result"
    }
   ],
   "source": [
    "sys.getsizeof(link_to_product)"
   ]
  },
  {
   "cell_type": "code",
   "execution_count": 55,
   "id": "297aa006",
   "metadata": {},
   "outputs": [],
   "source": [
    "links = [str(link['href']) for link in link_to_product]\n",
    "# links"
   ]
  },
  {
   "cell_type": "code",
   "execution_count": 56,
   "id": "ccd64e8c",
   "metadata": {},
   "outputs": [
    {
     "data": {
      "text/plain": [
       "100"
      ]
     },
     "execution_count": 56,
     "metadata": {},
     "output_type": "execute_result"
    }
   ],
   "source": [
    "len(links)"
   ]
  },
  {
   "cell_type": "code",
   "execution_count": 57,
   "id": "bd937288",
   "metadata": {},
   "outputs": [
    {
     "data": {
      "text/plain": [
       "'//www.aliexpress.com/item/4000238174774.html?gps-id=6060220&scm=1007.16233.119941.0&scm_id=1007.16233.119941.0&scm-url=1007.16233.119941.0&pvid=786e8b5f-80b5-4daa-ac03-7d88d9630c0b'"
      ]
     },
     "execution_count": 57,
     "metadata": {},
     "output_type": "execute_result"
    }
   ],
   "source": [
    "first_product = links[0]\n",
    "first_product"
   ]
  },
  {
   "cell_type": "code",
   "execution_count": 59,
   "id": "3300067b",
   "metadata": {},
   "outputs": [],
   "source": [
    "driver = webdriver.Chrome(path_to_driver)\n",
    "driver.get(first_product)\n",
    "time.sleep(5)\n",
    "ActionChains(driver).send_keys(Keys.END).perform()\n",
    "time.sleep(5)\n",
    "page_source = driver.page_source\n",
    "driver.quit()"
   ]
  },
  {
   "cell_type": "code",
   "execution_count": 60,
   "id": "fe2016cb",
   "metadata": {},
   "outputs": [],
   "source": [
    "protocol = 'https:'\n",
    "links_with_protocol = [protocol + link for link in links]"
   ]
  },
  {
   "cell_type": "code",
   "execution_count": 65,
   "id": "b8ae0753",
   "metadata": {},
   "outputs": [],
   "source": [
    "# links_with_protocol[:2]"
   ]
  },
  {
   "cell_type": "code",
   "execution_count": 66,
   "id": "f2cc4707",
   "metadata": {},
   "outputs": [],
   "source": [
    "correct_link = links_with_protocol[0]\n",
    "# correct_link"
   ]
  },
  {
   "cell_type": "code",
   "execution_count": 64,
   "id": "466eafea",
   "metadata": {},
   "outputs": [],
   "source": [
    "driver = webdriver.Chrome(path_to_driver)\n",
    "driver.get(correct_link)\n",
    "time.sleep(5)\n",
    "ActionChains(driver).send_keys(Keys.END).perform()\n",
    "time.sleep(5)\n",
    "page_source = driver.page_source\n",
    "driver.quit()"
   ]
  },
  {
   "cell_type": "code",
   "execution_count": 67,
   "id": "d6969c2c",
   "metadata": {},
   "outputs": [],
   "source": [
    "prod_world_selection = BeautifulSoup(page_source, 'lxml')"
   ]
  },
  {
   "cell_type": "code",
   "execution_count": 71,
   "id": "e32aa27a",
   "metadata": {},
   "outputs": [
    {
     "data": {
      "text/plain": [
       "48"
      ]
     },
     "execution_count": 71,
     "metadata": {},
     "output_type": "execute_result"
    }
   ],
   "source": [
    "sys.getsizeof(prod_world_selection)"
   ]
  },
  {
   "cell_type": "code",
   "execution_count": 73,
   "id": "c7628a90",
   "metadata": {},
   "outputs": [
    {
     "data": {
      "text/plain": [
       "'Xiaomi Amazfit-Reloj inteligente resistente al agua dispositivo de pulsera inteligente de 47mm con música, resistente al agua hasta 5ATM, compatible con Android y iOS'"
      ]
     },
     "execution_count": 73,
     "metadata": {},
     "output_type": "execute_result"
    }
   ],
   "source": [
    "product_name = prod_world_selection.find(\"div\", class_='product-title').get_text()\n",
    "product_name"
   ]
  },
  {
   "cell_type": "code",
   "execution_count": 74,
   "id": "7c094695",
   "metadata": {},
   "outputs": [
    {
     "data": {
      "text/plain": [
       "'€ 117,87'"
      ]
     },
     "execution_count": 74,
     "metadata": {},
     "output_type": "execute_result"
    }
   ],
   "source": [
    "prize = prod_world_selection.find('span', class_='product-price-value').get_text()\n",
    "prize"
   ]
  },
  {
   "cell_type": "code",
   "execution_count": 76,
   "id": "e148caa9",
   "metadata": {
    "scrolled": true
   },
   "outputs": [],
   "source": [
    "orders = prod_world_selection.find('div', class_='product-reviewer')\n",
    "# orders"
   ]
  },
  {
   "cell_type": "code",
   "execution_count": 77,
   "id": "f1cda943",
   "metadata": {},
   "outputs": [
    {
     "data": {
      "text/plain": [
       "['4.9', '925 Valoraciones', '1711 vendidos']"
      ]
     },
     "execution_count": 77,
     "metadata": {},
     "output_type": "execute_result"
    }
   ],
   "source": [
    "text = [x.text for x in orders]\n",
    "text"
   ]
  },
  {
   "cell_type": "code",
   "execution_count": 78,
   "id": "187f1045",
   "metadata": {},
   "outputs": [
    {
     "data": {
      "text/plain": [
       "['4.9']"
      ]
     },
     "execution_count": 78,
     "metadata": {},
     "output_type": "execute_result"
    }
   ],
   "source": [
    "avg_rating = re.findall(r'\\d\\.\\d', text[0])\n",
    "avg_rating"
   ]
  },
  {
   "cell_type": "code",
   "execution_count": 79,
   "id": "93457cba",
   "metadata": {},
   "outputs": [
    {
     "data": {
      "text/plain": [
       "['925']"
      ]
     },
     "execution_count": 79,
     "metadata": {},
     "output_type": "execute_result"
    }
   ],
   "source": [
    "num_reviews = re.findall(r'\\d+', text[1])\n",
    "num_reviews"
   ]
  },
  {
   "cell_type": "code",
   "execution_count": 80,
   "id": "65f8d076",
   "metadata": {},
   "outputs": [
    {
     "data": {
      "text/plain": [
       "['1711']"
      ]
     },
     "execution_count": 80,
     "metadata": {},
     "output_type": "execute_result"
    }
   ],
   "source": [
    "orders_made = re.findall(r'\\d+', text[2])\n",
    "orders_made"
   ]
  },
  {
   "cell_type": "code",
   "execution_count": 90,
   "id": "2cb85c8c",
   "metadata": {},
   "outputs": [],
   "source": [
    "def get_links(url: str, path_to_driver: str = 'C:\\Program Files\\ChromeDriver\\chromedriver.exe'):\n",
    "    randint = np.random.randint\n",
    "    options = webdriver.ChromeOptions(path_to_driver)\n",
    "    options.add_argument('--ignore-certificate-errors')\n",
    "    options.add_argument('--incognito')\n",
    "    #options.add_argument('--headless')\n",
    "    driver = webdriver.Chrome(chrome_options = options)\n",
    "    \n",
    "    driver.get(url)\n",
    "    time.sleep(8)\n",
    "    ActionChains(driver).send_keys(Keys.END).perform()\n",
    "    time.sleep(randint(5, high = 10))\n",
    "    ActionChains(driver).send_keys(Keys.END).perform()\n",
    "    time.sleep(randint(5, high = 10))\n",
    "    ActionChains(driver).send_keys(Keys.END).perform()\n",
    "    \n",
    "    page_source = driver.page_source\n",
    "    driver.quit()\n",
    "    \n",
    "    return page_source\n",
    "\n",
    "def source_parsing(page_source: str):\n",
    "    \n",
    "    world_selection = BeautifulSoup(page_source, \"lxml\")\n",
    "\n",
    "    link_to_product = world_selection.select('div.gs-item-inner a[href]') \n",
    "\n",
    "    links = [link['href'] for link in link_to_product]\n",
    "\n",
    "    protocol = \"https:\"\n",
    "    links_with_protocol = [protocol + link for link in links]\n",
    "    \n",
    "    return links_with_protocol\n",
    "    "
   ]
  },
  {
   "cell_type": "code",
   "execution_count": 82,
   "id": "9cda73f3",
   "metadata": {},
   "outputs": [
    {
     "name": "stderr",
     "output_type": "stream",
     "text": [
      "<ipython-input-81-12e2785b9be3>:7: DeprecationWarning: use options instead of chrome_options\n",
      "  driver = webdriver.Chrome(path_to_driver, chrome_options=options)\n"
     ]
    }
   ],
   "source": [
    "source = get_links(url=url)"
   ]
  },
  {
   "cell_type": "code",
   "execution_count": 91,
   "id": "7d478565",
   "metadata": {},
   "outputs": [],
   "source": [
    "list_of_links = source_parsing(source)"
   ]
  },
  {
   "cell_type": "code",
   "execution_count": 92,
   "id": "23340b5c",
   "metadata": {},
   "outputs": [
    {
     "data": {
      "text/plain": [
       "['https://www.aliexpress.com/item/1005001424998642.html?gps-id=6060220&scm=1007.16233.119941.0&scm_id=1007.16233.119941.0&scm-url=1007.16233.119941.0&pvid=cff6dd6d-6801-4232-b47e-3910855ba878',\n",
       " 'https://www.aliexpress.com/item/1005001720647573.html?gps-id=6060220&scm=1007.16233.119941.0&scm_id=1007.16233.119941.0&scm-url=1007.16233.119941.0&pvid=cff6dd6d-6801-4232-b47e-3910855ba878']"
      ]
     },
     "execution_count": 92,
     "metadata": {},
     "output_type": "execute_result"
    }
   ],
   "source": [
    "list_of_links[:2]"
   ]
  },
  {
   "cell_type": "code",
   "execution_count": 93,
   "id": "70335881",
   "metadata": {},
   "outputs": [],
   "source": [
    "def random_keypress_generator():\n",
    "    keys = [Keys.ARROW_DOWN, Keys.ARROW_LEFT, Keys.ARROW_UP,\\\n",
    "            Keys.ARROW_RIGHT, Keys.DOWN, Keys.END, Keys.PAGE_UP]\n",
    "    action = np.random.choice(keys, p=[0.3, 0.05, 0.05, 0.1, 0.2, 0.2, 0.1])\n",
    "    return action"
   ]
  },
  {
   "cell_type": "code",
   "execution_count": 94,
   "id": "f8f93817",
   "metadata": {},
   "outputs": [],
   "source": [
    "def web_content(link: str, path_to_driver: str = 'C:\\Program Files\\ChromeDriver\\chromedriver.exe'):\n",
    "    random = np.random.choice\n",
    "    \n",
    "    driver = webdriver.Chrome(path_to_driver)\n",
    "    driver.get(link)\n",
    "    time.sleep(random(10))\n",
    "    for ran in range(random(7)):\n",
    "        ActionChains(driver).send_keys(random_keypress_generator).perform()\n",
    "        time.sleep(3)\n",
    "    page_source = driver.page_source\n",
    "    driver.close()\n",
    "    return page_source"
   ]
  },
  {
   "cell_type": "code",
   "execution_count": null,
   "id": "740dff61",
   "metadata": {},
   "outputs": [],
   "source": [
    "def alies_parser(page_source):\n",
    "    world_selection = BeautifulSoup(page_source, \"html5lib\")\n",
    "    product_name = world_selection.find(\"div\", class_= \"product-title\").get_text()\n",
    "    prize = world_selection.find(\"span\", class_= \"product-price-value\").get_text()\n",
    "    orders_avgreview_reviews = world_selection.find(\"div\", class_= \"product-reviewer\")\n",
    "    text = [element.text for element in orders_avgreview_reviews]\n",
    "    avg_rating = re.findall(r\"\\d\\.\\d\", text[0])\n",
    "    avg_rating = avg_rating[0]\n",
    "    num_reviews = re.findall(r\"\\d+\", text[1])\n",
    "    num_reviews = num_reviews[0]\n",
    "    orders_made = re.findall(r\"\\d+\", text[2])\n",
    "    orders_made = orders_made[0]\n",
    "#     shipping = world_selection.find(\"div\", class_= \"product-shipping-price\").get_text()\n",
    "#     shipp = re.findall(r\"\\w+\", shipping)\n",
    "#     shipping_fee = \" \".join(shipp)\n",
    "#     shipping_date = world_selection.find(\"span\", class_= \"product-shipping-delivery\").get_text(\"\", strip = True)\n",
    "#     date = re.findall(r\"\\d+.\\d+\", shipping_date)\n",
    "    store_name = world_selection.find(\"h3\", class_= \"store-name\").get_text(\"\", strip = True)\n",
    "    return [product_name, prize, orders_made, avg_rating, num_reviews,\n",
    "#             shipping_fee, date, \n",
    "            store_name]"
   ]
  },
  {
   "cell_type": "code",
   "execution_count": null,
   "id": "535b20e7",
   "metadata": {},
   "outputs": [],
   "source": [
    "def alis_parson_project():\n",
    "    links = get_links(\"https://sale.aliexpress.com/__pc/global_selection_pc.htm?spm=a2g01.12525780.1000001.7.3078qhmVqhmVQZ\")\n",
    "    print(len(links))\n",
    "\n",
    "    for num, link in enumerate(links):\n",
    "\n",
    "        df = pd.DataFrame(columns = [\"Product_Name\", \"Prize\", \"Orders\", \"Avg_Review_Rating\", \"Total_Reviews\", \"Store_Name\", \"Link\"],\n",
    "                          dtype = object)\n",
    "\n",
    "        print(f\"This link is #{num}\")\n",
    "        filename = f\"product_{num}_aliexpress.csv\"\n",
    "        filename = \"../data/\"+filename\n",
    "        print(\"Document will be call: \"+filename)\n",
    "\n",
    "        if not Path(filename).is_file():\n",
    "            page_source = web_content(link)\n",
    "            print(\"Finish extracting product's page source.\")\n",
    "            print(\"Parsing content.\")\n",
    "            variables = alies_parser(page_source)\n",
    "            print(\"Finish Parsing. Appending.\")\n",
    "\n",
    "            df[\"Product_Name\"] = variables[0]\n",
    "            df[\"Prize\"] = variables[1]\n",
    "            df[\"Orders\"] = variables[2]\n",
    "            df[\"Avg_Review_Rating\"] = variables[3]\n",
    "            df[\"Total_Reviews\"] = variables[4]\n",
    "        #     shipping_fee.append(variables[5])\n",
    "        #     lead_time.append(variables[6])\n",
    "            df[\"Store_Name\"] = variables[5]\n",
    "            df[\"Link\"] = link\n",
    "\n",
    "            df.to_csv(filename, index = False)\n",
    "            print(f\"{filename} saved.\")\n",
    "\n",
    "    print(\"Finished!\")"
   ]
  }
 ],
 "metadata": {
  "kernelspec": {
   "display_name": "Python 3",
   "language": "python",
   "name": "python3"
  },
  "language_info": {
   "codemirror_mode": {
    "name": "ipython",
    "version": 3
   },
   "file_extension": ".py",
   "mimetype": "text/x-python",
   "name": "python",
   "nbconvert_exporter": "python",
   "pygments_lexer": "ipython3",
   "version": "3.9.4"
  }
 },
 "nbformat": 4,
 "nbformat_minor": 5
}
