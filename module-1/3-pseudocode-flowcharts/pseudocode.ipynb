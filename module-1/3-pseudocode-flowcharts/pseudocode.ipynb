{
 "metadata": {
  "language_info": {
   "codemirror_mode": {
    "name": "ipython",
    "version": 3
   },
   "file_extension": ".py",
   "mimetype": "text/x-python",
   "name": "python",
   "nbconvert_exporter": "python",
   "pygments_lexer": "ipython3",
   "version": "3.9.1"
  },
  "orig_nbformat": 2,
  "kernelspec": {
   "name": "python391jvsc74a57bd0376f5b0795f81aa7b5d99e448d6274743a66c9892fd26cf11e505993f41df5fa",
   "display_name": "Python 3.9.1 64-bit"
  }
 },
 "nbformat": 4,
 "nbformat_minor": 2,
 "cells": [
  {
   "source": [
    "# Precise Temperature"
   ],
   "cell_type": "markdown",
   "metadata": {}
  },
  {
   "cell_type": "code",
   "execution_count": 1,
   "metadata": {},
   "outputs": [
    {
     "output_type": "stream",
     "name": "stdout",
     "text": [
      "Your temperature in Celsius is: 37.77777777777778.\n"
     ]
    }
   ],
   "source": [
    "x = input('Please input a temperature in Fahrenheit: ')\n",
    "y = (float(x)-32)*5/9\n",
    "print('Your temperature in Celsius is: %s.' %y)"
   ]
  },
  {
   "cell_type": "code",
   "execution_count": 8,
   "metadata": {},
   "outputs": [
    {
     "output_type": "stream",
     "name": "stdout",
     "text": [
      "99.9986\n"
     ]
    }
   ],
   "source": [
    "x = (int(input(\"press 1 to convert from Fahrenheit to Celsius or 2 to Celsius to Fahrenheit\")))\n",
    "y = float(input(\"what is the number you want to convert\"))\n",
    "z = float(x)\n",
    "\n",
    "if z == 1:\n",
    "    y=(y-32)*5/9\n",
    "    print(y)\n",
    "elif z == 2:\n",
    "    y=y*9/5+32\n",
    "    print(y)\n",
    "else:\n",
    "    print('please enter either 1 or 2')    "
   ]
  },
  {
   "cell_type": "code",
   "execution_count": 11,
   "metadata": {},
   "outputs": [
    {
     "output_type": "stream",
     "name": "stdout",
     "text": [
      "ERROR: please enter either 1 or 2\n",
      "ERROR: please enter either 1 or 2\n",
      "ERROR: please enter a number\n",
      "ERROR: please enter a number\n",
      "0.0\n"
     ]
    }
   ],
   "source": [
    "flag1=False\n",
    "while flag1==False:\n",
    "    x = input(\"press 1 to convert from Fahrenheit to Celsius or 2 to Celsius to Fahrenheit\")\n",
    "    if x not in ['1','2']:\n",
    "        print('ERROR: please enter either 1 or 2')\n",
    "    else:\n",
    "        z = int(x)\n",
    "        flag1=True\n",
    "\n",
    "flag2=False\n",
    "while flag2==False:\n",
    "    y = input(\"what is the number you want to convert\")\n",
    "    if y.replace(\".\",\"\").lstrip('+-').isdigit()==False:\n",
    "        print('ERROR: please enter a number')\n",
    "    else:\n",
    "        y = float(y)\n",
    "        flag2=True\n",
    "\n",
    "if z == 1:\n",
    "    y=(y-32)*5/9\n",
    "    print(y)\n",
    "elif z == 2:\n",
    "    y=y*9/5+32\n",
    "    print(y)\n"
   ]
  },
  {
   "source": [
    "# Pseudocode\n",
    "\n",
    "Normalmente puede ir comentado en el codigo/notebook que usen.\n",
    "Aterrizar el proceso que hayamos creado econ el flowchar de manera que podamos empezar a programar.\n",
    "\n",
    "Ej. Como obtener la capitalización demercado de bitcoin. (se obtiene multiplicando los bitcoins en cirulación por el precio actual del mercado)."
   ],
   "cell_type": "markdown",
   "metadata": {}
  },
  {
   "cell_type": "code",
   "execution_count": null,
   "metadata": {},
   "outputs": [],
   "source": [
    "# define list of bitcoins_in_circulation\n",
    "# get precio_actual_por_bitcoin\n",
    "# actual_price = calculated list\n",
    "# for price in list of bitcoins_in_circulations\n",
    "#     add price of item + precio_actual_por_bitcoin to market_cap_list\n",
    "# market_cap = sum of prices + precio_actual for each price in list\n",
    "# display market_cap list\n"
   ]
  },
  {
   "source": [
    "# Listas\n",
    "\n",
    "Se crean usando [ ], los elementos de la lista estan indexados, el primer elemento tendra como indice el 0, el seugnod el 1, etc.\n",
    "\n",
    "- Orden: puede tener un orden definido y no cambiara esto, es decir, si se agrega un nuevo item se agregará al final de la lista.\n",
    "\n",
    "- Mutable: podemos cambiar, agregar y quietar elementos.\n",
    "- Permite duplicados: como son valores indexaso, permite tener valores duplicados.\n",
    "\n"
   ],
   "cell_type": "markdown",
   "metadata": {}
  },
  {
   "source": [
    "# Puede tener cualuqier tiempo de elementos.\n",
    "lista = [\"Ironhack\", 2021, True, [2,3]]"
   ],
   "cell_type": "code",
   "metadata": {},
   "execution_count": 1,
   "outputs": []
  },
  {
   "cell_type": "code",
   "execution_count": 2,
   "metadata": {},
   "outputs": [
    {
     "output_type": "execute_result",
     "data": {
      "text/plain": [
       "'Ironhack'"
      ]
     },
     "metadata": {},
     "execution_count": 2
    }
   ],
   "source": [
    "lista[0]"
   ]
  },
  {
   "cell_type": "code",
   "execution_count": 4,
   "metadata": {},
   "outputs": [
    {
     "output_type": "execute_result",
     "data": {
      "text/plain": [
       "['Ironhack', 2021]"
      ]
     },
     "metadata": {},
     "execution_count": 4
    }
   ],
   "source": [
    "# trae los elementos del indice 0,1. el número indicado no lo trae\n",
    "# el lado izquierdo es incluyente el lado derecho es excluyente\n",
    "lista[:2]"
   ]
  },
  {
   "cell_type": "code",
   "execution_count": 8,
   "metadata": {},
   "outputs": [
    {
     "output_type": "execute_result",
     "data": {
      "text/plain": [
       "[2, 3]"
      ]
     },
     "metadata": {},
     "execution_count": 8
    }
   ],
   "source": [
    "# indeces negativos\n",
    "lista[-1]"
   ]
  },
  {
   "cell_type": "code",
   "execution_count": 10,
   "metadata": {},
   "outputs": [
    {
     "output_type": "execute_result",
     "data": {
      "text/plain": [
       "2"
      ]
     },
     "metadata": {},
     "execution_count": 10
    }
   ],
   "source": [
    "# indeces negativos\n",
    "lista[-1][0] # el segundo 0 trae el primer valor de la sublista"
   ]
  },
  {
   "cell_type": "code",
   "execution_count": null,
   "metadata": {},
   "outputs": [],
   "source": []
  },
  {
   "source": [
    "# Tuplas\n",
    "\n",
    "Se usan para almacernar multiples items en una variable. se crean usando () y los elmentos tambien estan indexados. tienen las siguietnes caracteristicas:\n",
    "\n",
    "- Orden: al igual que las listas, pueden tener un orden definido que no cambiara.\n",
    "- No son mutables: No podemos agregar, quietar o modificar valores despues de que una tupla fue creada.\n",
    "- Duplicados: al ser indexados, podemos tener valores duplicados.\n",
    "\n",
    "Beneficios: tiene permisos de solo lectura es dedcir no puede escribir o modificar una tupla creada"
   ],
   "cell_type": "markdown",
   "metadata": {}
  },
  {
   "cell_type": "code",
   "execution_count": 14,
   "metadata": {},
   "outputs": [
    {
     "output_type": "execute_result",
     "data": {
      "text/plain": [
       "('a', 'b', 'c', 'd', True, 123)"
      ]
     },
     "metadata": {},
     "execution_count": 14
    }
   ],
   "source": [
    "tupla = ('a', 'b','c','d',True,123)\n",
    "tupla"
   ]
  },
  {
   "cell_type": "code",
   "execution_count": 15,
   "metadata": {},
   "outputs": [
    {
     "output_type": "execute_result",
     "data": {
      "text/plain": [
       "True"
      ]
     },
     "metadata": {},
     "execution_count": 15
    }
   ],
   "source": [
    "tupla[4]"
   ]
  },
  {
   "cell_type": "code",
   "execution_count": 17,
   "metadata": {},
   "outputs": [
    {
     "output_type": "execute_result",
     "data": {
      "text/plain": [
       "True"
      ]
     },
     "metadata": {},
     "execution_count": 17
    }
   ],
   "source": [
    "tupla[-2]"
   ]
  },
  {
   "cell_type": "code",
   "execution_count": 18,
   "metadata": {},
   "outputs": [],
   "source": [
    "tupla = ('a', 'b','c','d',True,123,[2,3])"
   ]
  },
  {
   "source": [
    "# Modificar lista dentro de la tupla\n",
    "tupla[-1][0]"
   ],
   "cell_type": "code",
   "metadata": {},
   "execution_count": 20,
   "outputs": [
    {
     "output_type": "execute_result",
     "data": {
      "text/plain": [
       "2"
      ]
     },
     "metadata": {},
     "execution_count": 20
    }
   ]
  },
  {
   "cell_type": "code",
   "execution_count": 22,
   "metadata": {},
   "outputs": [
    {
     "output_type": "execute_result",
     "data": {
      "text/plain": [
       "('a', 'b', 'c', 'd', True, 123, [2, 3, 4, 4])"
      ]
     },
     "metadata": {},
     "execution_count": 22
    }
   ],
   "source": [
    "tupla[-1].append(4)\n",
    "tupla"
   ]
  },
  {
   "cell_type": "code",
   "execution_count": 25,
   "metadata": {},
   "outputs": [
    {
     "output_type": "execute_result",
     "data": {
      "text/plain": [
       "1"
      ]
     },
     "metadata": {},
     "execution_count": 25
    }
   ],
   "source": [
    "tupla.count('a')"
   ]
  },
  {
   "cell_type": "code",
   "execution_count": 26,
   "metadata": {},
   "outputs": [
    {
     "output_type": "execute_result",
     "data": {
      "text/plain": [
       "3"
      ]
     },
     "metadata": {},
     "execution_count": 26
    }
   ],
   "source": [
    "tupla.index('d')"
   ]
  },
  {
   "cell_type": "code",
   "execution_count": 28,
   "metadata": {},
   "outputs": [
    {
     "output_type": "stream",
     "name": "stdout",
     "text": [
      "Help on tuple object:\n\nclass tuple(object)\n |  tuple(iterable=(), /)\n |  \n |  Built-in immutable sequence.\n |  \n |  If no argument is given, the constructor returns an empty tuple.\n |  If iterable is specified the tuple is initialized from iterable's items.\n |  \n |  If the argument is a tuple, the return value is the same object.\n |  \n |  Built-in subclasses:\n |      asyncgen_hooks\n |      UnraisableHookArgs\n |  \n |  Methods defined here:\n |  \n |  __add__(self, value, /)\n |      Return self+value.\n |  \n |  __contains__(self, key, /)\n |      Return key in self.\n |  \n |  __eq__(self, value, /)\n |      Return self==value.\n |  \n |  __ge__(self, value, /)\n |      Return self>=value.\n |  \n |  __getattribute__(self, name, /)\n |      Return getattr(self, name).\n |  \n |  __getitem__(self, key, /)\n |      Return self[key].\n |  \n |  __getnewargs__(self, /)\n |  \n |  __gt__(self, value, /)\n |      Return self>value.\n |  \n |  __hash__(self, /)\n |      Return hash(self).\n |  \n |  __iter__(self, /)\n |      Implement iter(self).\n |  \n |  __le__(self, value, /)\n |      Return self<=value.\n |  \n |  __len__(self, /)\n |      Return len(self).\n |  \n |  __lt__(self, value, /)\n |      Return self<value.\n |  \n |  __mul__(self, value, /)\n |      Return self*value.\n |  \n |  __ne__(self, value, /)\n |      Return self!=value.\n |  \n |  __repr__(self, /)\n |      Return repr(self).\n |  \n |  __rmul__(self, value, /)\n |      Return value*self.\n |  \n |  count(self, value, /)\n |      Return number of occurrences of value.\n |  \n |  index(self, value, start=0, stop=9223372036854775807, /)\n |      Return first index of value.\n |      \n |      Raises ValueError if the value is not present.\n |  \n |  ----------------------------------------------------------------------\n |  Class methods defined here:\n |  \n |  __class_getitem__(...) from builtins.type\n |      See PEP 585\n |  \n |  ----------------------------------------------------------------------\n |  Static methods defined here:\n |  \n |  __new__(*args, **kwargs) from builtins.type\n |      Create and return a new object.  See help(type) for accurate signature.\n\n"
     ]
    }
   ],
   "source": [
    "help(tupla)"
   ]
  },
  {
   "source": [
    "# SET\n",
    "\n",
    "Los conjuntos/set son usados para almacenar multiples elementos en una sola variable. sus elementos no están indexados y cada elemento va de la siguiente manera: {\"element\",\"element2\"}\n",
    "\n",
    "Tienen las siguientes caracteristicas:\n",
    "- Orden: No tiene orden definido(numero si), y no podemos hacer referencia a ellos por algún indice\n",
    "- No son mutables: No podemos modificar sus elementos pe si podemos agregar nuevos.\n",
    "- No permite duplicados.\n",
    "\n",
    "Los set requieren item que sean inmutables\n"
   ],
   "cell_type": "markdown",
   "metadata": {}
  },
  {
   "cell_type": "code",
   "execution_count": 29,
   "metadata": {},
   "outputs": [],
   "source": [
    "list = [1,2,3,4,5,44,33,22,5,3,5,2,1,2]"
   ]
  },
  {
   "cell_type": "code",
   "execution_count": 30,
   "metadata": {},
   "outputs": [
    {
     "output_type": "execute_result",
     "data": {
      "text/plain": [
       "{1, 2, 3, 4, 5, 22, 33, 44}"
      ]
     },
     "metadata": {},
     "execution_count": 30
    }
   ],
   "source": [
    "# Set es como  un UNIQUE, trae los valores únicos de una lista\n",
    "set(list)"
   ]
  },
  {
   "cell_type": "code",
   "execution_count": 32,
   "metadata": {},
   "outputs": [
    {
     "output_type": "execute_result",
     "data": {
      "text/plain": [
       "{1, 2, 3, 4, 5, 22, 33, 44, 100}"
      ]
     },
     "metadata": {},
     "execution_count": 32
    }
   ],
   "source": [
    "set1 = set(list)\n",
    "set1.add(100)\n",
    "set1"
   ]
  },
  {
   "cell_type": "code",
   "execution_count": 33,
   "metadata": {},
   "outputs": [
    {
     "output_type": "execute_result",
     "data": {
      "text/plain": [
       "<function set.copy>"
      ]
     },
     "metadata": {},
     "execution_count": 33
    }
   ],
   "source": [
    "set2=set1.copy\n",
    "set2"
   ]
  },
  {
   "cell_type": "code",
   "execution_count": 34,
   "metadata": {},
   "outputs": [
    {
     "output_type": "execute_result",
     "data": {
      "text/plain": [
       "<function set.copy>"
      ]
     },
     "metadata": {},
     "execution_count": 34
    }
   ],
   "source": [
    "set2"
   ]
  },
  {
   "cell_type": "code",
   "execution_count": 35,
   "metadata": {},
   "outputs": [
    {
     "output_type": "execute_result",
     "data": {
      "text/plain": [
       "1"
      ]
     },
     "metadata": {},
     "execution_count": 35
    }
   ],
   "source": [
    "# pop elimina un elemento aleatorio del set\n",
    "set1.pop()"
   ]
  },
  {
   "cell_type": "code",
   "execution_count": 36,
   "metadata": {},
   "outputs": [
    {
     "output_type": "execute_result",
     "data": {
      "text/plain": [
       "{2, 3, 4, 5, 22, 33, 44, 100}"
      ]
     },
     "metadata": {},
     "execution_count": 36
    }
   ],
   "source": [
    "set1"
   ]
  },
  {
   "source": [
    "# Dictionary\n",
    "\n"
   ],
   "cell_type": "markdown",
   "metadata": {}
  }
 ]
}