{
 "metadata": {
  "language_info": {
   "codemirror_mode": {
    "name": "ipython",
    "version": 3
   },
   "file_extension": ".py",
   "mimetype": "text/x-python",
   "name": "python",
   "nbconvert_exporter": "python",
   "pygments_lexer": "ipython3",
   "version": "3.9.1"
  },
  "orig_nbformat": 2,
  "kernelspec": {
   "name": "python391jvsc74a57bd0376f5b0795f81aa7b5d99e448d6274743a66c9892fd26cf11e505993f41df5fa",
   "display_name": "Python 3.9.1 64-bit"
  }
 },
 "nbformat": 4,
 "nbformat_minor": 2,
 "cells": [
  {
   "source": [
    "# Precise Temperature"
   ],
   "cell_type": "markdown",
   "metadata": {}
  },
  {
   "cell_type": "code",
   "execution_count": 1,
   "metadata": {},
   "outputs": [
    {
     "output_type": "stream",
     "name": "stdout",
     "text": [
      "Your temperature in Celsius is: 37.77777777777778.\n"
     ]
    }
   ],
   "source": [
    "x = input('Please input a temperature in Fahrenheit: ')\n",
    "y = (float(x)-32)*5/9\n",
    "print('Your temperature in Celsius is: %s.' %y)"
   ]
  },
  {
   "cell_type": "code",
   "execution_count": 8,
   "metadata": {},
   "outputs": [
    {
     "output_type": "stream",
     "name": "stdout",
     "text": [
      "99.9986\n"
     ]
    }
   ],
   "source": [
    "x = (int(input(\"press 1 to convert from Fahrenheit to Celsius or 2 to Celsius to Fahrenheit\")))\n",
    "y = float(input(\"what is the number you want to convert\"))\n",
    "z = float(x)\n",
    "\n",
    "if z == 1:\n",
    "    y=(y-32)*5/9\n",
    "    print(y)\n",
    "elif z == 2:\n",
    "    y=y*9/5+32\n",
    "    print(y)\n",
    "else:\n",
    "    print('please enter either 1 or 2')    "
   ]
  },
  {
   "cell_type": "code",
   "execution_count": null,
   "metadata": {},
   "outputs": [],
   "source": [
    "flag1=False\n",
    "while flag1==false:\n",
    "    x = input(\"press 1 to convert from Fahrenheit to Celsius or 2 to Celsius to Fahrenheit\")\n",
    "    if x not in ['1','2']:\n",
    "        print('ERROR: please enter either 1 or 2')\n",
    "    else:\n",
    "        z = int(x)\n",
    "        flag1=True\n",
    "\n",
    "flag2=False\n",
    "while flag2==false:\n",
    "    y = input(\"what is the number you want to convert\")\n",
    "    if y.replace(\".\",\"\",1).lstrip('+-').isdigit()==False:\n",
    "        print('ERROR: please enter a number')\n",
    "    else:\n",
    "        y = float(y)\n",
    "        flag2=True\n",
    "\n",
    "if z == 1:\n",
    "    y=(y-32)*5/9\n",
    "    print(y)\n",
    "elif z == 2:\n",
    "    y=y*9/5+32\n",
    "    print(y)\n"
   ]
  }
 ]
}