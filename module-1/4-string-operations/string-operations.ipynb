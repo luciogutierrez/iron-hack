{
 "metadata": {
  "language_info": {
   "codemirror_mode": {
    "name": "ipython",
    "version": 3
   },
   "file_extension": ".py",
   "mimetype": "text/x-python",
   "name": "python",
   "nbconvert_exporter": "python",
   "pygments_lexer": "ipython3",
   "version": "3.9.1"
  },
  "orig_nbformat": 2,
  "kernelspec": {
   "name": "python391jvsc74a57bd0376f5b0795f81aa7b5d99e448d6274743a66c9892fd26cf11e505993f41df5fa",
   "display_name": "Python 3.9.1 64-bit"
  }
 },
 "nbformat": 4,
 "nbformat_minor": 2,
 "cells": [
  {
   "source": [
    "## Combining storage and iteration"
   ],
   "cell_type": "markdown",
   "metadata": {}
  },
  {
   "cell_type": "code",
   "execution_count": 1,
   "metadata": {},
   "outputs": [
    {
     "output_type": "stream",
     "name": "stdout",
     "text": [
      "[0, 1, 2, 3, 4, 5, 6, 7, 8, 9]\n"
     ]
    }
   ],
   "source": [
    "lst = []\n",
    "\n",
    "for i in range(10):\n",
    "    lst.append(i)\n",
    "print(lst)    "
   ]
  },
  {
   "source": [
    "## List comprehension"
   ],
   "cell_type": "markdown",
   "metadata": {}
  },
  {
   "cell_type": "code",
   "execution_count": 2,
   "metadata": {},
   "outputs": [
    {
     "output_type": "stream",
     "name": "stdout",
     "text": [
      "[0, 1, 2, 3, 4, 5, 6, 7, 8, 9]\n"
     ]
    }
   ],
   "source": [
    "lst = [i for i in range(10)]\n",
    "print(lst)"
   ]
  },
  {
   "source": [
    "## Adding conditions to list comprehensions"
   ],
   "cell_type": "markdown",
   "metadata": {}
  },
  {
   "cell_type": "code",
   "execution_count": 7,
   "metadata": {},
   "outputs": [
    {
     "output_type": "stream",
     "name": "stdout",
     "text": [
      "[5, 6, 7, 8, 9, 10, 11, 12, 13, 14, 15, 16, 17, 18, 19]\n"
     ]
    }
   ],
   "source": [
    "lst = [i for i in range(20) if i>=5]\n",
    "print(lst)"
   ]
  },
  {
   "cell_type": "code",
   "execution_count": 10,
   "metadata": {},
   "outputs": [
    {
     "output_type": "stream",
     "name": "stdout",
     "text": [
      "[6, 8, 10]\n"
     ]
    }
   ],
   "source": [
    "lst_lst = [[1,2,3,4,5],[6,7,8],[9,10,11]]\n",
    "\n",
    "lst = [y for x in lst_lst if len(x)<4 for y in x if y %2 ==0]\n",
    "print(lst)"
   ]
  },
  {
   "source": [
    "## Multiple For-Loops in List Comprehensions"
   ],
   "cell_type": "markdown",
   "metadata": {}
  },
  {
   "cell_type": "code",
   "execution_count": 11,
   "metadata": {},
   "outputs": [
    {
     "output_type": "stream",
     "name": "stdout",
     "text": [
      "[1, 2, 3, 4, 5, 6, 7, 8, 9]\n"
     ]
    }
   ],
   "source": [
    "lst_lst = [[1,2,3],[4,5,6],[7,8,9]]\n",
    "lst=[]\n",
    "for x in lst_lst:\n",
    "    for y in x:\n",
    "        lst.append(y)\n",
    "print(lst)        "
   ]
  },
  {
   "source": [
    "## using comprehension"
   ],
   "cell_type": "markdown",
   "metadata": {}
  },
  {
   "cell_type": "code",
   "execution_count": 12,
   "metadata": {},
   "outputs": [
    {
     "output_type": "stream",
     "name": "stdout",
     "text": [
      "[1, 2, 3, 4, 5, 6, 7, 8, 9]\n"
     ]
    }
   ],
   "source": [
    "lst_lst = [[1,2,3],[4,5,6],[7,8,9]]\n",
    "\n",
    "lst = [y for x in lst_lst for y in x]\n",
    "print(lst)"
   ]
  },
  {
   "source": [
    "# Practical uses for list comprehensions"
   ],
   "cell_type": "markdown",
   "metadata": {}
  },
  {
   "source": [
    "## Reading multiple files"
   ],
   "cell_type": "markdown",
   "metadata": {}
  },
  {
   "cell_type": "code",
   "execution_count": 21,
   "metadata": {},
   "outputs": [
    {
     "output_type": "execute_result",
     "data": {
      "text/plain": [
       "            name      brand  cylinders\n",
       "0          jetta         vw          4\n",
       "1          bocho         vw          4\n",
       "0       corvette  chevrolet         12\n",
       "1  grand marquis       ford          8"
      ],
      "text/html": "<div>\n<style scoped>\n    .dataframe tbody tr th:only-of-type {\n        vertical-align: middle;\n    }\n\n    .dataframe tbody tr th {\n        vertical-align: top;\n    }\n\n    .dataframe thead th {\n        text-align: right;\n    }\n</style>\n<table border=\"1\" class=\"dataframe\">\n  <thead>\n    <tr style=\"text-align: right;\">\n      <th></th>\n      <th>name</th>\n      <th>brand</th>\n      <th>cylinders</th>\n    </tr>\n  </thead>\n  <tbody>\n    <tr>\n      <th>0</th>\n      <td>jetta</td>\n      <td>vw</td>\n      <td>4</td>\n    </tr>\n    <tr>\n      <th>1</th>\n      <td>bocho</td>\n      <td>vw</td>\n      <td>4</td>\n    </tr>\n    <tr>\n      <th>0</th>\n      <td>corvette</td>\n      <td>chevrolet</td>\n      <td>12</td>\n    </tr>\n    <tr>\n      <th>1</th>\n      <td>grand marquis</td>\n      <td>ford</td>\n      <td>8</td>\n    </tr>\n  </tbody>\n</table>\n</div>"
     },
     "metadata": {},
     "execution_count": 21
    }
   ],
   "source": [
    "import os\n",
    "import pandas as pd \n",
    "\n",
    "file_list = [f for f in os.listdir('data') if f.endswith('.csv')]\n",
    "data_sets = [pd.read_csv(os.path.join('data', f)) for f in file_list]\n",
    "data = pd.concat(data_sets, axis=0)\n",
    "data\n"
   ]
  },
  {
   "source": [
    "## Selecting data frame columns based on conditions"
   ],
   "cell_type": "markdown",
   "metadata": {}
  },
  {
   "cell_type": "code",
   "execution_count": 23,
   "metadata": {},
   "outputs": [
    {
     "output_type": "stream",
     "name": "stdout",
     "text": [
      "['cylinders']\n"
     ]
    }
   ],
   "source": [
    "data = pd.read_csv('data/vehicles1.csv')\n",
    "selected_columns = [col for col in data._get_numeric_data() if data[col].mean()>2]\n",
    "print(selected_columns)"
   ]
  },
  {
   "source": [
    "# String Operations"
   ],
   "cell_type": "markdown",
   "metadata": {}
  },
  {
   "cell_type": "code",
   "execution_count": 13,
   "metadata": {},
   "outputs": [
    {
     "output_type": "execute_result",
     "data": {
      "text/plain": [
       "' \\n            para escribir texto \\n            en varios renglones\\n    '"
      ]
     },
     "metadata": {},
     "execution_count": 13
    }
   ],
   "source": [
    "# Unicode\n",
    "caracter1 = 'cualquier linea de texto o s1mb0l0'\n",
    "caracter1\n",
    "caracter2 = \"cualquier linea de texto o s1mb0l0\"\n",
    "caracter2\n",
    "caracter3 = \"\"\" \n",
    "            para escribir texto \n",
    "            en varios renglones\n",
    "    \"\"\"\n",
    "caracter3    "
   ]
  },
  {
   "cell_type": "code",
   "execution_count": 11,
   "metadata": {},
   "outputs": [
    {
     "output_type": "stream",
     "name": "stdout",
     "text": [
      "\"cualquier linea de texto o s1mb0l0\ncualquier linea de texto o s1mb0l0\n \n            para escribir texto \n            en varios renglones\n    \n"
     ]
    }
   ],
   "source": [
    "print(caracter1)\n",
    "print(caracter2)\n",
    "print(caracter3)"
   ]
  },
  {
   "cell_type": "code",
   "execution_count": 14,
   "metadata": {},
   "outputs": [
    {
     "output_type": "stream",
     "name": "stdout",
     "text": [
      "34\n34\n71\n"
     ]
    }
   ],
   "source": [
    "print(len(caracter1))\n",
    "print(len(caracter2))\n",
    "print(len(caracter3))"
   ]
  },
  {
   "cell_type": "code",
   "execution_count": 16,
   "metadata": {},
   "outputs": [
    {
     "output_type": "stream",
     "name": "stdout",
     "text": [
      "83\n83\n120\n"
     ]
    }
   ],
   "source": [
    "import sys\n",
    "print(sys.getsizeof(caracter1))\n",
    "print(sys.getsizeof(caracter2))\n",
    "print(sys.getsizeof(caracter3))\n"
   ]
  },
  {
   "cell_type": "code",
   "execution_count": 17,
   "metadata": {},
   "outputs": [
    {
     "output_type": "execute_result",
     "data": {
      "text/plain": [
       "str"
      ]
     },
     "metadata": {},
     "execution_count": 17
    }
   ],
   "source": [
    "# UTF-8 tipo de condificación\n",
    "string = 'Esto es unico22_='\n",
    "type(string)"
   ]
  },
  {
   "cell_type": "code",
   "execution_count": 21,
   "metadata": {},
   "outputs": [
    {
     "output_type": "execute_result",
     "data": {
      "text/plain": [
       "b'Esto es \\xc3\\xbcnico22_='"
      ]
     },
     "metadata": {},
     "execution_count": 21
    }
   ],
   "source": [
    "string = 'Esto es ünico22_='\n",
    "type(string)\n",
    "encoded_string = string.encode('utf-8')\n",
    "encoded_string\n"
   ]
  },
  {
   "cell_type": "code",
   "execution_count": 28,
   "metadata": {},
   "outputs": [
    {
     "output_type": "stream",
     "name": "stdout",
     "text": [
      "E\ni\nE\nedio de un silencio desierto....\n med\n e\n"
     ]
    }
   ],
   "source": [
    "nocturno = \"En medio de un silencio desierto....\"\n",
    "print(nocturno[0])\n",
    "print(nocturno[6])\n",
    "print(nocturno[0])\n",
    "print(nocturno[4:])\n",
    "print(nocturno[2:6])\n",
    "print(nocturno[2:6:2]) # para brincos en la extracción"
   ]
  },
  {
   "cell_type": "code",
   "execution_count": 31,
   "metadata": {},
   "outputs": [
    {
     "output_type": "execute_result",
     "data": {
      "text/plain": [
       "[0, 1, 2, 3, 4, 5, 6, 7, 8, 9]"
      ]
     },
     "metadata": {},
     "execution_count": 31
    }
   ],
   "source": [
    "lst = list(range(10))\n",
    "lst"
   ]
  },
  {
   "cell_type": "code",
   "execution_count": 32,
   "metadata": {},
   "outputs": [
    {
     "output_type": "execute_result",
     "data": {
      "text/plain": [
       "[0, 2, 4, 6, 8]"
      ]
     },
     "metadata": {},
     "execution_count": 32
    }
   ],
   "source": [
    "lst = list(range(0,10,2))\n",
    "lst"
   ]
  },
  {
   "cell_type": "code",
   "execution_count": 33,
   "metadata": {},
   "outputs": [
    {
     "output_type": "execute_result",
     "data": {
      "text/plain": [
       "[0, 10, 20, 30, 40, 50, 60, 70, 80, 90]"
      ]
     },
     "metadata": {},
     "execution_count": 33
    }
   ],
   "source": [
    "lst = list(range(0,100,10))\n",
    "lst"
   ]
  },
  {
   "cell_type": "code",
   "execution_count": 34,
   "metadata": {},
   "outputs": [
    {
     "output_type": "execute_result",
     "data": {
      "text/plain": [
       "'En medio de un silencio desierto....'"
      ]
     },
     "metadata": {},
     "execution_count": 34
    }
   ],
   "source": [
    "nocturno[:]"
   ]
  },
  {
   "cell_type": "code",
   "execution_count": 39,
   "metadata": {},
   "outputs": [
    {
     "output_type": "execute_result",
     "data": {
      "text/plain": [
       "'...'"
      ]
     },
     "metadata": {},
     "execution_count": 39
    }
   ],
   "source": [
    "nocturno[-4:-1]"
   ]
  },
  {
   "cell_type": "code",
   "execution_count": 41,
   "metadata": {},
   "outputs": [],
   "source": [
    "nocturno2 = 'como la calle antes del crimen'"
   ]
  },
  {
   "cell_type": "code",
   "execution_count": 42,
   "metadata": {},
   "outputs": [
    {
     "output_type": "execute_result",
     "data": {
      "text/plain": [
       "'En medio de un silencio desierto....como la calle antes del crimen'"
      ]
     },
     "metadata": {},
     "execution_count": 42
    }
   ],
   "source": [
    "nocturno + nocturno2"
   ]
  },
  {
   "cell_type": "code",
   "execution_count": 43,
   "metadata": {},
   "outputs": [
    {
     "output_type": "execute_result",
     "data": {
      "text/plain": [
       "'En medio de un silencio desierto.... como la calle antes del crimen'"
      ]
     },
     "metadata": {},
     "execution_count": 43
    }
   ],
   "source": [
    "verso = [nocturno, nocturno2]\n",
    "' '.join(verso)"
   ]
  },
  {
   "cell_type": "code",
   "execution_count": 44,
   "metadata": {},
   "outputs": [
    {
     "output_type": "error",
     "ename": "TypeError",
     "evalue": "sequence item 2: expected str instance, int found",
     "traceback": [
      "\u001b[1;31m---------------------------------------------------------------------------\u001b[0m",
      "\u001b[1;31mTypeError\u001b[0m                                 Traceback (most recent call last)",
      "\u001b[1;32m<ipython-input-44-408a7c5d2491>\u001b[0m in \u001b[0;36m<module>\u001b[1;34m\u001b[0m\n\u001b[0;32m      1\u001b[0m \u001b[0mverso\u001b[0m \u001b[1;33m=\u001b[0m \u001b[1;33m[\u001b[0m\u001b[0mnocturno\u001b[0m\u001b[1;33m,\u001b[0m \u001b[0mnocturno2\u001b[0m\u001b[1;33m,\u001b[0m \u001b[1;36m3\u001b[0m\u001b[1;33m]\u001b[0m\u001b[1;33m\u001b[0m\u001b[1;33m\u001b[0m\u001b[0m\n\u001b[1;32m----> 2\u001b[1;33m \u001b[1;34m' '\u001b[0m\u001b[1;33m.\u001b[0m\u001b[0mjoin\u001b[0m\u001b[1;33m(\u001b[0m\u001b[0mverso\u001b[0m\u001b[1;33m)\u001b[0m\u001b[1;33m\u001b[0m\u001b[1;33m\u001b[0m\u001b[0m\n\u001b[0m",
      "\u001b[1;31mTypeError\u001b[0m: sequence item 2: expected str instance, int found"
     ]
    }
   ],
   "source": [
    "verso = [nocturno, nocturno2, 3]\n",
    "' '.join(verso)"
   ]
  },
  {
   "cell_type": "code",
   "execution_count": 45,
   "metadata": {},
   "outputs": [
    {
     "output_type": "execute_result",
     "data": {
      "text/plain": [
       "'En medio de un silencio desierto.... como la calle antes del crimen 3'"
      ]
     },
     "metadata": {},
     "execution_count": 45
    }
   ],
   "source": [
    "verso = [nocturno, nocturno2, str(3)]\n",
    "' '.join(verso)"
   ]
  },
  {
   "cell_type": "code",
   "execution_count": 47,
   "metadata": {},
   "outputs": [
    {
     "output_type": "stream",
     "name": "stdout",
     "text": [
      "------- \n------- \n------- \n------- \n------- \n------- \n------- \n------- \n------- \n------- \n\n"
     ]
    }
   ],
   "source": [
    "print('------- \\n' * 10)"
   ]
  },
  {
   "source": [
    "# formatos de cadena"
   ],
   "cell_type": "markdown",
   "metadata": {}
  },
  {
   "cell_type": "code",
   "execution_count": 50,
   "metadata": {},
   "outputs": [
    {
     "output_type": "execute_result",
     "data": {
      "text/plain": [
       "'Alo policia soy Llponz'"
      ]
     },
     "metadata": {},
     "execution_count": 50
    }
   ],
   "source": [
    "saluditos = \"Alo policia soy %s\"\n",
    "saluditos % \"Llponz\""
   ]
  },
  {
   "cell_type": "code",
   "execution_count": 52,
   "metadata": {},
   "outputs": [
    {
     "output_type": "execute_result",
     "data": {
      "text/plain": [
       "'Alo policia soy LlPonzEl TA más...'"
      ]
     },
     "metadata": {},
     "execution_count": 52
    }
   ],
   "source": [
    "saluditos2 = \"Alo policia soy {}{}\"\n",
    "saluditos2.format('LlPonz','El TA más...')\n"
   ]
  },
  {
   "cell_type": "code",
   "execution_count": 53,
   "metadata": {},
   "outputs": [
    {
     "output_type": "execute_result",
     "data": {
      "text/plain": [
       "'También se puede  repetir, no repetir,repetir'"
      ]
     },
     "metadata": {},
     "execution_count": 53
    }
   ],
   "source": [
    "saluditos3 = \"También se puede  {0}, {1},{0}\"\n",
    "saluditos3.format(\"repetir\", \"no repetir\")"
   ]
  },
  {
   "cell_type": "code",
   "execution_count": 54,
   "metadata": {},
   "outputs": [
    {
     "output_type": "execute_result",
     "data": {
      "text/plain": [
       "'Alo, soy Luis Alberto y tengo 27 años de edad'"
      ]
     },
     "metadata": {},
     "execution_count": 54
    }
   ],
   "source": [
    "nombre = \"Luis Alberto\"\n",
    "edad = 27\n",
    "f\"Alo, soy {nombre} y tengo {edad} años de edad\""
   ]
  },
  {
   "cell_type": "code",
   "execution_count": 55,
   "metadata": {},
   "outputs": [],
   "source": [
    "poema = \"\"\"Do not go gentle into that good night, \n",
    "Old age should burn and rave at close of day;\n",
    "Rage, rage against the dying of the light.\"\"\""
   ]
  },
  {
   "cell_type": "code",
   "execution_count": 57,
   "metadata": {},
   "outputs": [
    {
     "output_type": "stream",
     "name": "stdout",
     "text": [
      "['Do', 'not', 'go', 'gentle', 'into', 'that', 'good', 'night,', 'Old', 'age', 'should', 'burn', 'and', 'rave', 'at', 'close', 'of', 'day;', 'Rage,', 'rage', 'against', 'the', 'dying', 'of', 'the', 'light.']\n"
     ]
    }
   ],
   "source": [
    "print(poema.split())"
   ]
  },
  {
   "cell_type": "code",
   "execution_count": 58,
   "metadata": {},
   "outputs": [
    {
     "output_type": "stream",
     "name": "stdout",
     "text": [
      "['Do not go gentle into that good night, \\nOld age should burn and rave at close of day', '\\nRage, rage against the dying of the light.']\n"
     ]
    }
   ],
   "source": [
    "print(poema.split(';'))"
   ]
  },
  {
   "cell_type": "code",
   "execution_count": 59,
   "metadata": {},
   "outputs": [
    {
     "output_type": "stream",
     "name": "stdout",
     "text": [
      "['Do not go gentle into that good night', ' \\nOld age should burn and rave at close of day;\\nRage', ' rage against the dying of the light.']\n"
     ]
    }
   ],
   "source": [
    "print(poema.split(','))"
   ]
  },
  {
   "cell_type": "code",
   "execution_count": 60,
   "metadata": {},
   "outputs": [
    {
     "output_type": "stream",
     "name": "stdout",
     "text": [
      "True\n"
     ]
    }
   ],
   "source": [
    "print(poema.startswith('Do not'))"
   ]
  },
  {
   "cell_type": "code",
   "execution_count": 61,
   "metadata": {},
   "outputs": [
    {
     "output_type": "stream",
     "name": "stdout",
     "text": [
      "False\n"
     ]
    }
   ],
   "source": [
    "print(poema.startswith('do not'))"
   ]
  },
  {
   "cell_type": "code",
   "execution_count": 62,
   "metadata": {},
   "outputs": [
    {
     "output_type": "stream",
     "name": "stdout",
     "text": [
      "False\n"
     ]
    }
   ],
   "source": [
    "print(poema.endswith('ght'))"
   ]
  },
  {
   "cell_type": "code",
   "execution_count": 63,
   "metadata": {},
   "outputs": [
    {
     "output_type": "stream",
     "name": "stdout",
     "text": [
      "True\n"
     ]
    }
   ],
   "source": [
    "print(poema.endswith('ght.'))"
   ]
  },
  {
   "cell_type": "code",
   "execution_count": 65,
   "metadata": {},
   "outputs": [
    {
     "output_type": "execute_result",
     "data": {
      "text/plain": [
       "True"
      ]
     },
     "metadata": {},
     "execution_count": 65
    }
   ],
   "source": [
    "'rage' in poema"
   ]
  },
  {
   "cell_type": "code",
   "execution_count": 66,
   "metadata": {},
   "outputs": [],
   "source": [
    "# confirmar que la cadena existe en el texto\n",
    "assert 'rage' in poema\n"
   ]
  },
  {
   "cell_type": "code",
   "execution_count": 67,
   "metadata": {},
   "outputs": [
    {
     "output_type": "error",
     "ename": "AssertionError",
     "evalue": "",
     "traceback": [
      "\u001b[1;31m---------------------------------------------------------------------------\u001b[0m",
      "\u001b[1;31mAssertionError\u001b[0m                            Traceback (most recent call last)",
      "\u001b[1;32m<ipython-input-67-f54ed30b46b9>\u001b[0m in \u001b[0;36m<module>\u001b[1;34m\u001b[0m\n\u001b[0;32m      1\u001b[0m \u001b[1;31m# confirmar que la cadena existe en el texto\u001b[0m\u001b[1;33m\u001b[0m\u001b[1;33m\u001b[0m\u001b[1;33m\u001b[0m\u001b[0m\n\u001b[1;32m----> 2\u001b[1;33m \u001b[1;32massert\u001b[0m \u001b[1;34m'range'\u001b[0m \u001b[1;32min\u001b[0m \u001b[0mpoema\u001b[0m\u001b[1;33m\u001b[0m\u001b[1;33m\u001b[0m\u001b[0m\n\u001b[0m",
      "\u001b[1;31mAssertionError\u001b[0m: "
     ]
    }
   ],
   "source": [
    "# confirmar que la cadena existe en el texto\n",
    "assert 'range' in poema\n"
   ]
  },
  {
   "cell_type": "code",
   "execution_count": 69,
   "metadata": {},
   "outputs": [
    {
     "output_type": "stream",
     "name": "stdout",
     "text": [
      "do not go getle intothan good night\nDO NOT GO GETLE INTOTHAN GOOD NIGHT\nDo not go getle intothan good night\nDo Not Go Getle Intothan Good Night\n"
     ]
    }
   ],
   "source": [
    "poem  = \"Do not Go geTle Intothan GOOD night\"\n",
    "\n",
    "print(poem.lower())\n",
    "print(poem.upper())\n",
    "print(poem.capitalize())\n",
    "print(poem.title())"
   ]
  },
  {
   "source": [
    "# Expresiones Regulares"
   ],
   "cell_type": "markdown",
   "metadata": {}
  },
  {
   "cell_type": "code",
   "execution_count": 2,
   "metadata": {},
   "outputs": [],
   "source": [
    "import re\n",
    "v = \"\"\"Voilà! In view, a humble vaudevillian veteran, \n",
    "cast vicariously as both victim and villain by the vicissitudes\n",
    "of Fate. This visage, no mere veneer of vanity, is it vestige \n",
    "of the vox populi, now vacant, vanished, as the once vital voice \n",
    "of the verisimilitude now venerates what they once vilified.\n",
    "However, this valorous visitation of a bygone vexation stands\n",
    "vivified, and has vowed to vanquish these venal and virulent\n",
    "vermin vanguarding vice and vouchsafing the violently vicious \n",
    "and voracious violation of volition. \n",
    "The only verdict is vengeance; \n",
    "a vendetta held as a votive, not in vain,\n",
    "for the value and veracity of such shall one day vindicate\n",
    "the vigilant and the virtuous.\n",
    "Verily, this vichyssoise of verbiage veers most verbose\n",
    "vis-à-vis an introduction,\n",
    "and so it is my very good honor to meet you\n",
    "and you may call me V.\"\"\" \n"
   ]
  },
  {
   "cell_type": "code",
   "execution_count": 3,
   "metadata": {},
   "outputs": [
    {
     "output_type": "stream",
     "name": "stdout",
     "text": [
      "['ver', 'ver', 'ver', 'ver', 'ver', 'ver', 'ver', 'ver']\n"
     ]
    }
   ],
   "source": [
    "# se utiliza r para identificar para omitir los saltos de linea \\n, como si no existieran\n",
    "print(re.findall(r'ver', v))"
   ]
  },
  {
   "cell_type": "code",
   "execution_count": 74,
   "metadata": {},
   "outputs": [
    {
     "output_type": "execute_result",
     "data": {
      "text/plain": [
       "['Voilà! In view, a humble vaudevillian veteran, \\ncast vicariously as both victim ',\n",
       " ' villain by the vicissitudes\\nof Fate. This visage, no mere veneer of vanity, is it vestige \\nof the vox populi, now vacant, vanished, as the once vital voice \\nof the verisimilitude now venerates what they once vilified.\\nHowever, this valorous visitation of a bygone vexation st',\n",
       " 's\\nvivified, ',\n",
       " ' has vowed to vanquish these venal ',\n",
       " ' virulent\\nvermin vanguarding vice ',\n",
       " ' vouchsafing the violently vicious \\n',\n",
       " ' voracious violation of volition. \\nThe only verdict is vengeance; \\na vendetta held as a votive, not in vain,\\nfor the value ',\n",
       " ' veracity of such shall one day vindicate\\nthe vigilant ',\n",
       " ' the virtuous.\\nVerily, this vichyssoise of verbiage veers most verbose\\nvis-à-vis an introduction,\\n',\n",
       " ' so it is my very good honor to meet you\\n',\n",
       " ' you may call me V.']"
      ]
     },
     "metadata": {},
     "execution_count": 74
    }
   ],
   "source": [
    "re.split(r'and', v)"
   ]
  },
  {
   "cell_type": "code",
   "execution_count": 75,
   "metadata": {},
   "outputs": [
    {
     "output_type": "execute_result",
     "data": {
      "text/plain": [
       "['Voilà! In view',\n",
       " ' a humble vaudevillian veteran',\n",
       " ' \\ncast vicariously as both victim and villain by the vicissitudes\\nof Fate',\n",
       " ' This visage',\n",
       " ' no mere veneer of vanity',\n",
       " ' is it vestige \\nof the vox populi',\n",
       " ' now vacant',\n",
       " ' vanished',\n",
       " ' as the once vital voice \\nof the verisimilitude now venerates what they once vilified',\n",
       " '\\nHowever',\n",
       " ' this valorous visitation of a bygone vexation stands\\nvivified',\n",
       " ' and has vowed to vanquish these venal and virulent\\nvermin vanguarding vice and vouchsafing the violently vicious \\nand voracious violation of volition',\n",
       " ' \\nThe only verdict is vengeance; \\na vendetta held as a votive',\n",
       " ' not in vain',\n",
       " '\\nfor the value and veracity of such shall one day vindicate\\nthe vigilant and the virtuous',\n",
       " '\\nVerily',\n",
       " ' this vichyssoise of verbiage veers most verbose\\nvis-à-vis an introduction',\n",
       " '\\nand so it is my very good honor to meet you\\nand you may call me V',\n",
       " '']"
      ]
     },
     "metadata": {},
     "execution_count": 75
    }
   ],
   "source": [
    "re.split(r'[,\\.]', v)"
   ]
  },
  {
   "cell_type": "code",
   "execution_count": 76,
   "metadata": {},
   "outputs": [
    {
     "output_type": "execute_result",
     "data": {
      "text/plain": [
       "<re.Match object; span=(799, 804), match='honor'>"
      ]
     },
     "metadata": {},
     "execution_count": 76
    }
   ],
   "source": [
    "re.search(r'honor', v)"
   ]
  },
  {
   "cell_type": "code",
   "execution_count": 78,
   "metadata": {},
   "outputs": [
    {
     "output_type": "stream",
     "name": "stdout",
     "text": [
      "['o', 'i', 'l', 'n', 'v', 'i', 'e', 'w', 'a', 'h', 'u', 'm', 'b', 'l', 'e', 'v', 'a', 'u', 'd', 'e', 'v', 'i', 'l', 'l', 'i', 'a', 'n', 'v', 'e', 't', 'e', 'r', 'a', 'n', 'c', 'a', 's', 't', 'v', 'i', 'c', 'a', 'r', 'i', 'o', 'u', 's', 'l', 'y', 'a', 's', 'b', 'o', 't', 'h', 'v', 'i', 'c', 't', 'i', 'm', 'a', 'n', 'd', 'v', 'i', 'l', 'l', 'a', 'i', 'n', 'b', 'y', 't', 'h', 'e', 'v', 'i', 'c', 'i', 's', 's', 'i', 't', 'u', 'd', 'e', 's', 'o', 'f', 'a', 't', 'e', 'h', 'i', 's', 'v', 'i', 's', 'a', 'g', 'e', 'n', 'o', 'm', 'e', 'r', 'e', 'v', 'e', 'n', 'e', 'e', 'r', 'o', 'f', 'v', 'a', 'n', 'i', 't', 'y', 'i', 's', 'i', 't', 'v', 'e', 's', 't', 'i', 'g', 'e', 'o', 'f', 't', 'h', 'e', 'v', 'o', 'x', 'p', 'o', 'p', 'u', 'l', 'i', 'n', 'o', 'w', 'v', 'a', 'c', 'a', 'n', 't', 'v', 'a', 'n', 'i', 's', 'h', 'e', 'd', 'a', 's', 't', 'h', 'e', 'o', 'n', 'c', 'e', 'v', 'i', 't', 'a', 'l', 'v', 'o', 'i', 'c', 'e', 'o', 'f', 't', 'h', 'e', 'v', 'e', 'r', 'i', 's', 'i', 'm', 'i', 'l', 'i', 't', 'u', 'd', 'e', 'n', 'o', 'w', 'v', 'e', 'n', 'e', 'r', 'a', 't', 'e', 's', 'w', 'h', 'a', 't', 't', 'h', 'e', 'y', 'o', 'n', 'c', 'e', 'v', 'i', 'l', 'i', 'f', 'i', 'e', 'd', 'o', 'w', 'e', 'v', 'e', 'r', 't', 'h', 'i', 's', 'v', 'a', 'l', 'o', 'r', 'o', 'u', 's', 'v', 'i', 's', 'i', 't', 'a', 't', 'i', 'o', 'n', 'o', 'f', 'a', 'b', 'y', 'g', 'o', 'n', 'e', 'v', 'e', 'x', 'a', 't', 'i', 'o', 'n', 's', 't', 'a', 'n', 'd', 's', 'v', 'i', 'v', 'i', 'f', 'i', 'e', 'd', 'a', 'n', 'd', 'h', 'a', 's', 'v', 'o', 'w', 'e', 'd', 't', 'o', 'v', 'a', 'n', 'q', 'u', 'i', 's', 'h', 't', 'h', 'e', 's', 'e', 'v', 'e', 'n', 'a', 'l', 'a', 'n', 'd', 'v', 'i', 'r', 'u', 'l', 'e', 'n', 't', 'v', 'e', 'r', 'm', 'i', 'n', 'v', 'a', 'n', 'g', 'u', 'a', 'r', 'd', 'i', 'n', 'g', 'v', 'i', 'c', 'e', 'a', 'n', 'd', 'v', 'o', 'u', 'c', 'h', 's', 'a', 'f', 'i', 'n', 'g', 't', 'h', 'e', 'v', 'i', 'o', 'l', 'e', 'n', 't', 'l', 'y', 'v', 'i', 'c', 'i', 'o', 'u', 's', 'a', 'n', 'd', 'v', 'o', 'r', 'a', 'c', 'i', 'o', 'u', 's', 'v', 'i', 'o', 'l', 'a', 't', 'i', 'o', 'n', 'o', 'f', 'v', 'o', 'l', 'i', 't', 'i', 'o', 'n', 'h', 'e', 'o', 'n', 'l', 'y', 'v', 'e', 'r', 'd', 'i', 'c', 't', 'i', 's', 'v', 'e', 'n', 'g', 'e', 'a', 'n', 'c', 'e', 'a', 'v', 'e', 'n', 'd', 'e', 't', 't', 'a', 'h', 'e', 'l', 'd', 'a', 's', 'a', 'v', 'o', 't', 'i', 'v', 'e', 'n', 'o', 't', 'i', 'n', 'v', 'a', 'i', 'n', 'f', 'o', 'r', 't', 'h', 'e', 'v', 'a', 'l', 'u', 'e', 'a', 'n', 'd', 'v', 'e', 'r', 'a', 'c', 'i', 't', 'y', 'o', 'f', 's', 'u', 'c', 'h', 's', 'h', 'a', 'l', 'l', 'o', 'n', 'e', 'd', 'a', 'y', 'v', 'i', 'n', 'd', 'i', 'c', 'a', 't', 'e', 't', 'h', 'e', 'v', 'i', 'g', 'i', 'l', 'a', 'n', 't', 'a', 'n', 'd', 't', 'h', 'e', 'v', 'i', 'r', 't', 'u', 'o', 'u', 's', 'e', 'r', 'i', 'l', 'y', 't', 'h', 'i', 's', 'v', 'i', 'c', 'h', 'y', 's', 's', 'o', 'i', 's', 'e', 'o', 'f', 'v', 'e', 'r', 'b', 'i', 'a', 'g', 'e', 'v', 'e', 'e', 'r', 's', 'm', 'o', 's', 't', 'v', 'e', 'r', 'b', 'o', 's', 'e', 'v', 'i', 's', 'v', 'i', 's', 'a', 'n', 'i', 'n', 't', 'r', 'o', 'd', 'u', 'c', 't', 'i', 'o', 'n', 'a', 'n', 'd', 's', 'o', 'i', 't', 'i', 's', 'm', 'y', 'v', 'e', 'r', 'y', 'g', 'o', 'o', 'd', 'h', 'o', 'n', 'o', 'r', 't', 'o', 'm', 'e', 'e', 't', 'y', 'o', 'u', 'a', 'n', 'd', 'y', 'o', 'u', 'm', 'a', 'y', 'c', 'a', 'l', 'l', 'm', 'e']\n"
     ]
    }
   ],
   "source": [
    "print(re.findall(r'[a-z]',v))"
   ]
  },
  {
   "cell_type": "code",
   "execution_count": 79,
   "metadata": {},
   "outputs": [
    {
     "output_type": "stream",
     "name": "stdout",
     "text": [
      "['V', 'I', 'F', 'T', 'H', 'T', 'V', 'V']\n"
     ]
    }
   ],
   "source": [
    "# find all capital characters\n",
    "print(re.findall(r'[A-Z]', v))"
   ]
  },
  {
   "cell_type": "code",
   "execution_count": 80,
   "metadata": {},
   "outputs": [
    {
     "output_type": "stream",
     "name": "stdout",
     "text": [
      "['V', 'à', '!', ' ', 'I', ' ', ',', ' ', ' ', ' ', ' ', ',', ' ', '\\n', ' ', ' ', ' ', ' ', ' ', ' ', ' ', ' ', ' ', '\\n', ' ', 'F', '.', ' ', 'T', ' ', ',', ' ', ' ', ' ', ' ', ' ', ',', ' ', ' ', ' ', ' ', '\\n', ' ', ' ', ' ', ',', ' ', ' ', ',', ' ', ',', ' ', ' ', ' ', ' ', ' ', ' ', '\\n', ' ', ' ', ' ', ' ', ' ', ' ', ' ', ' ', '.', '\\n', 'H', ',', ' ', ' ', ' ', ' ', ' ', ' ', ' ', ' ', '\\n', ',', ' ', ' ', ' ', ' ', ' ', ' ', ' ', ' ', ' ', '\\n', ' ', ' ', ' ', ' ', ' ', ' ', ' ', ' ', '\\n', ' ', ' ', ' ', ' ', '.', ' ', '\\n', 'T', ' ', ' ', ' ', ' ', ';', ' ', '\\n', ' ', ' ', ' ', ' ', ' ', ',', ' ', ' ', ' ', ',', '\\n', ' ', ' ', ' ', ' ', ' ', ' ', ' ', ' ', ' ', ' ', '\\n', ' ', ' ', ' ', ' ', '.', '\\n', 'V', ',', ' ', ' ', ' ', ' ', ' ', ' ', ' ', '\\n', '-', 'à', '-', ' ', ' ', ',', '\\n', ' ', ' ', ' ', ' ', ' ', ' ', ' ', ' ', ' ', ' ', '\\n', ' ', ' ', ' ', ' ', ' ', 'V', '.']\n"
     ]
    }
   ],
   "source": [
    "print(re.findall('[^a-z]', v))"
   ]
  },
  {
   "cell_type": "code",
   "execution_count": 86,
   "metadata": {},
   "outputs": [
    {
     "output_type": "stream",
     "name": "stdout",
     "text": [
      "['xation']\n"
     ]
    }
   ],
   "source": [
    "print(re.findall(r'xation', v))"
   ]
  },
  {
   "cell_type": "code",
   "execution_count": 88,
   "metadata": {},
   "outputs": [
    {
     "output_type": "stream",
     "name": "stdout",
     "text": [
      "['n', 'n', 'n', 'n', 'n', 'n', 'n', 'n', 'n', 'n', 'n', 'n', 'n', 'n', 'n', 'n', 'n', 'n', 'n', 'n', 'n', 'n', 'n', 'n', 'n', 'n', 'n', 'n', 'n', 'n', 'n', 'n', 'n', 'n', 'n', 'n', 'n', 'n', 'n', 'n', 'n', 'n', 'n', 'n', 'n', 'n', 'n', 'n', 'n', 'n', 'n']\n"
     ]
    }
   ],
   "source": [
    "print(re.findall(r'[$n]', v))"
   ]
  },
  {
   "cell_type": "code",
   "execution_count": 90,
   "metadata": {},
   "outputs": [
    {
     "output_type": "stream",
     "name": "stdout",
     "text": [
      "['V', 'o', 'i', 'l', 'à', '!', ' ', 'I', 'n', ' ', 'v', 'i', 'e', 'w', ',', ' ', 'a', ' ', 'h', 'u', 'm', 'b', 'l', 'e', ' ', 'v', 'a', 'u', 'd', 'e', 'v', 'i', 'l', 'l', 'i', 'a', 'n', ' ', 'v', 'e', 't', 'e', 'r', 'a', 'n', ',', ' ', '\\n', 'c', 'a', 's', 't', ' ', 'v', 'i', 'c', 'a', 'r', 'i', 'o', 'u', 's', 'l', 'y', ' ', 'a', 's', ' ', 'b', 'o', 't', 'h', ' ', 'v', 'i', 'c', 't', 'i', 'm', ' ', 'a', 'n', 'd', ' ', 'v', 'i', 'l', 'l', 'a', 'i', 'n', ' ', 'b', 'y', ' ', 't', 'h', 'e', ' ', 'v', 'i', 'c', 'i', 's', 's', 'i', 't', 'u', 'd', 'e', 's', '\\n', 'o', 'f', ' ', 'F', 'a', 't', 'e', '.', ' ', 'T', 'h', 'i', 's', ' ', 'v', 'i', 's', 'a', 'g', 'e', ',', ' ', 'n', 'o', ' ', 'm', 'e', 'r', 'e', ' ', 'v', 'e', 'n', 'e', 'e', 'r', ' ', 'o', 'f', ' ', 'v', 'a', 'n', 'i', 't', 'y', ',', ' ', 'i', 's', ' ', 'i', 't', ' ', 'v', 'e', 's', 't', 'i', 'g', 'e', ' ', '\\n', 'o', 'f', ' ', 't', 'h', 'e', ' ', 'v', 'o', 'x', ' ', 'p', 'o', 'p', 'u', 'l', 'i', ',', ' ', 'n', 'o', 'w', ' ', 'v', 'a', 'c', 'a', 'n', 't', ',', ' ', 'v', 'a', 'n', 'i', 's', 'h', 'e', 'd', ',', ' ', 'a', 's', ' ', 't', 'h', 'e', ' ', 'o', 'n', 'c', 'e', ' ', 'v', 'i', 't', 'a', 'l', ' ', 'v', 'o', 'i', 'c', 'e', ' ', '\\n', 'o', 'f', ' ', 't', 'h', 'e', ' ', 'v', 'e', 'r', 'i', 's', 'i', 'm', 'i', 'l', 'i', 't', 'u', 'd', 'e', ' ', 'n', 'o', 'w', ' ', 'v', 'e', 'n', 'e', 'r', 'a', 't', 'e', 's', ' ', 'w', 'h', 'a', 't', ' ', 't', 'h', 'e', 'y', ' ', 'o', 'n', 'c', 'e', ' ', 'v', 'i', 'l', 'i', 'f', 'i', 'e', 'd', '.', '\\n', 'H', 'o', 'w', 'e', 'v', 'e', 'r', ',', ' ', 't', 'h', 'i', 's', ' ', 'v', 'a', 'l', 'o', 'r', 'o', 'u', 's', ' ', 'v', 'i', 's', 'i', 't', 'a', 't', 'i', 'o', 'n', ' ', 'o', 'f', ' ', 'a', ' ', 'b', 'y', 'g', 'o', 'n', 'e', ' ', 'v', 'e', 'x', 'a', 't', 'i', 'o', 'n', ' ', 's', 't', 'a', 'n', 'd', 's', '\\n', 'v', 'i', 'v', 'i', 'f', 'i', 'e', 'd', ',', ' ', 'a', 'n', 'd', ' ', 'h', 'a', 's', ' ', 'v', 'o', 'w', 'e', 'd', ' ', 't', 'o', ' ', 'v', 'a', 'n', 'q', 'u', 'i', 's', 'h', ' ', 't', 'h', 'e', 's', 'e', ' ', 'v', 'e', 'n', 'a', 'l', ' ', 'a', 'n', 'd', ' ', 'v', 'i', 'r', 'u', 'l', 'e', 'n', 't', '\\n', 'v', 'e', 'r', 'm', 'i', 'n', ' ', 'v', 'a', 'n', 'g', 'u', 'a', 'r', 'd', 'i', 'n', 'g', ' ', 'v', 'i', 'c', 'e', ' ', 'a', 'n', 'd', ' ', 'v', 'o', 'u', 'c', 'h', 's', 'a', 'f', 'i', 'n', 'g', ' ', 't', 'h', 'e', ' ', 'v', 'i', 'o', 'l', 'e', 'n', 't', 'l', 'y', ' ', 'v', 'i', 'c', 'i', 'o', 'u', 's', ' ', '\\n', 'a', 'n', 'd', ' ', 'v', 'o', 'r', 'a', 'c', 'i', 'o', 'u', 's', ' ', 'v', 'i', 'o', 'l', 'a', 't', 'i', 'o', 'n', ' ', 'o', 'f', ' ', 'v', 'o', 'l', 'i', 't', 'i', 'o', 'n', '.', ' ', '\\n', 'T', 'h', 'e', ' ', 'o', 'n', 'l', 'y', ' ', 'v', 'e', 'r', 'd', 'i', 'c', 't', ' ', 'i', 's', ' ', 'v', 'e', 'n', 'g', 'e', 'a', 'n', 'c', 'e', ';', ' ', '\\n', 'a', ' ', 'v', 'e', 'n', 'd', 'e', 't', 't', 'a', ' ', 'h', 'e', 'l', 'd', ' ', 'a', 's', ' ', 'a', ' ', 'v', 'o', 't', 'i', 'v', 'e', ',', ' ', 'n', 'o', 't', ' ', 'i', 'n', ' ', 'v', 'a', 'i', 'n', ',', '\\n', 'f', 'o', 'r', ' ', 't', 'h', 'e', ' ', 'v', 'a', 'l', 'u', 'e', ' ', 'a', 'n', 'd', ' ', 'v', 'e', 'r', 'a', 'c', 'i', 't', 'y', ' ', 'o', 'f', ' ', 's', 'u', 'c', 'h', ' ', 's', 'h', 'a', 'l', 'l', ' ', 'o', 'n', 'e', ' ', 'd', 'a', 'y', ' ', 'v', 'i', 'n', 'd', 'i', 'c', 'a', 't', 'e', '\\n', 't', 'h', 'e', ' ', 'v', 'i', 'g', 'i', 'l', 'a', 'n', 't', ' ', 'a', 'n', 'd', ' ', 't', 'h', 'e', ' ', 'v', 'i', 'r', 't', 'u', 'o', 'u', 's', '.', '\\n', 'V', 'e', 'r', 'i', 'l', 'y', ',', ' ', 't', 'h', 'i', 's', ' ', 'v', 'i', 'c', 'h', 'y', 's', 's', 'o', 'i', 's', 'e', ' ', 'o', 'f', ' ', 'v', 'e', 'r', 'b', 'i', 'a', 'g', 'e', ' ', 'v', 'e', 'e', 'r', 's', ' ', 'm', 'o', 's', 't', ' ', 'v', 'e', 'r', 'b', 'o', 's', 'e', '\\n', 'v', 'i', 's', '-', 'à', '-', 'v', 'i', 's', ' ', 'a', 'n', ' ', 'i', 'n', 't', 'r', 'o', 'd', 'u', 'c', 't', 'i', 'o', 'n', ',', '\\n', 'a', 'n', 'd', ' ', 's', 'o', ' ', 'i', 't', ' ', 'i', 's', ' ', 'm', 'y', ' ', 'v', 'e', 'r', 'y', ' ', 'g', 'o', 'o', 'd', ' ', 'h', 'o', 'n', 'o', 'r', ' ', 't', 'o', ' ', 'm', 'e', 'e', 't', ' ', 'y', 'o', 'u', '\\n', 'a', 'n', 'd', ' ', 'y', 'o', 'u', ' ', 'm', 'a', 'y', ' ', 'c', 'a', 'l', 'l', ' ', 'm', 'e', ' ', 'V', '.']\n"
     ]
    }
   ],
   "source": [
    "print(re.findall(r'[\\D]', v))"
   ]
  },
  {
   "cell_type": "code",
   "execution_count": 91,
   "metadata": {},
   "outputs": [
    {
     "output_type": "stream",
     "name": "stdout",
     "text": [
      "['!', ' ', ' ', ',', ' ', ' ', ' ', ' ', ',', ' ', '\\n', ' ', ' ', ' ', ' ', ' ', ' ', ' ', ' ', ' ', '\\n', ' ', '.', ' ', ' ', ',', ' ', ' ', ' ', ' ', ' ', ',', ' ', ' ', ' ', ' ', '\\n', ' ', ' ', ' ', ',', ' ', ' ', ',', ' ', ',', ' ', ' ', ' ', ' ', ' ', ' ', '\\n', ' ', ' ', ' ', ' ', ' ', ' ', ' ', ' ', '.', '\\n', ',', ' ', ' ', ' ', ' ', ' ', ' ', ' ', ' ', '\\n', ',', ' ', ' ', ' ', ' ', ' ', ' ', ' ', ' ', ' ', '\\n', ' ', ' ', ' ', ' ', ' ', ' ', ' ', ' ', '\\n', ' ', ' ', ' ', ' ', '.', ' ', '\\n', ' ', ' ', ' ', ' ', ';', ' ', '\\n', ' ', ' ', ' ', ' ', ' ', ',', ' ', ' ', ' ', ',', '\\n', ' ', ' ', ' ', ' ', ' ', ' ', ' ', ' ', ' ', ' ', '\\n', ' ', ' ', ' ', ' ', '.', '\\n', ',', ' ', ' ', ' ', ' ', ' ', ' ', ' ', '\\n', '-', '-', ' ', ' ', ',', '\\n', ' ', ' ', ' ', ' ', ' ', ' ', ' ', ' ', ' ', ' ', '\\n', ' ', ' ', ' ', ' ', ' ', '.']\n"
     ]
    }
   ],
   "source": [
    "print(re.findall(r'[\\W]', v))"
   ]
  }
 ]
}