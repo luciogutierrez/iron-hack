{
 "metadata": {
  "language_info": {
   "codemirror_mode": {
    "name": "ipython",
    "version": 3
   },
   "file_extension": ".py",
   "mimetype": "text/x-python",
   "name": "python",
   "nbconvert_exporter": "python",
   "pygments_lexer": "ipython3",
   "version": "3.9.1"
  },
  "orig_nbformat": 2,
  "kernelspec": {
   "name": "python391jvsc74a57bd0376f5b0795f81aa7b5d99e448d6274743a66c9892fd26cf11e505993f41df5fa",
   "display_name": "Python 3.9.1 64-bit"
  }
 },
 "nbformat": 4,
 "nbformat_minor": 2,
 "cells": [
  {
   "cell_type": "code",
   "execution_count": 37,
   "metadata": {},
   "outputs": [],
   "source": [
    "import re"
   ]
  },
  {
   "cell_type": "code",
   "execution_count": 2,
   "metadata": {},
   "outputs": [],
   "source": [
    "text = \"\\\n",
    "Mochila    1.051    48.25\\\n",
    "Playera     1.024   180.54\\\n",
    "Reloj    0.524    47.20\\\n",
    "Gorra    0.251    27.14\\\n",
    "Bufanda    0.508    41.05\\\n",
    "Bufandita$$    1.348    00.05\""
   ]
  },
  {
   "cell_type": "code",
   "execution_count": 6,
   "metadata": {},
   "outputs": [
    {
     "output_type": "stream",
     "name": "stdout",
     "text": [
      "['M', 'o', 'c', 'h', 'i', 'l', 'a', 'P', 'l', 'a', 'y', 'e', 'r', 'a', 'R', 'e', 'l', 'o', 'j', 'G', 'o', 'r', 'r', 'a', 'B', 'u', 'f', 'a', 'n', 'd', 'a', 'B', 'u', 'f', 'a', 'n', 'd', 'i', 't', 'a']\n"
     ]
    }
   ],
   "source": [
    "# permite encontrar todo lo que cumpla el patron\n",
    "words_pattern ='[a-zA-Z]'\n",
    "print(re.findall(words_pattern,text))"
   ]
  },
  {
   "cell_type": "code",
   "execution_count": 7,
   "metadata": {},
   "outputs": [
    {
     "output_type": "stream",
     "name": "stdout",
     "text": [
      "['Mochila', 'Playera', 'Reloj', 'Gorra', 'Bufanda', 'Bufandita']\n"
     ]
    }
   ],
   "source": [
    "# el + sirve para mentener las palabras juntas\n",
    "# usando los flags de re\n",
    "print(re.findall('[a-z]+',text,flags=re.IGNORECASE))"
   ]
  },
  {
   "cell_type": "code",
   "execution_count": 8,
   "metadata": {},
   "outputs": [
    {
     "output_type": "stream",
     "name": "stdout",
     "text": [
      "['Bufanda', 'Bufandita']\n"
     ]
    }
   ],
   "source": [
    "# palabras que empiezan con buf sin importar el casesensitive\n",
    "print(re.findall('buf[a-z]+',text, flags=re.IGNORECASE))"
   ]
  },
  {
   "cell_type": "code",
   "execution_count": 9,
   "metadata": {},
   "outputs": [
    {
     "output_type": "execute_result",
     "data": {
      "text/plain": [
       "'Mochila    1.051    48.25Playera     1.024   180.54Reloj    0.524    47.20Gorra    0.251    27.14Bufanda    0.508    41.05Bufandita    1.348    00.05'"
      ]
     },
     "metadata": {},
     "execution_count": 9
    }
   ],
   "source": [
    "# Sub se utiliza para sustituir texto en una cadena\n",
    "re.sub(\"[$]\",\"\",text)"
   ]
  },
  {
   "cell_type": "code",
   "execution_count": 10,
   "metadata": {},
   "outputs": [],
   "source": [
    "poem = \"Once upon a midnight s, while I pondereeeeed, weak and weary\" \\\n",
    "       \"Nameless here for evermore.\"\\\n",
    "       \"Pondered as my dear \"\\\n",
    "       \"Once upon a time\""
   ]
  },
  {
   "cell_type": "code",
   "execution_count": 11,
   "metadata": {},
   "outputs": [
    {
     "output_type": "stream",
     "name": "stdout",
     "text": [
      "<re.Match object; span=(102, 106), match='dear'>\n"
     ]
    }
   ],
   "source": [
    "# search busca la primer ocurrencia en el texto\n",
    "print(re.search('dear', poem))"
   ]
  },
  {
   "cell_type": "code",
   "execution_count": 13,
   "metadata": {},
   "outputs": [
    {
     "output_type": "stream",
     "name": "stdout",
     "text": [
      "['a time']\n"
     ]
    }
   ],
   "source": [
    "# el \\w encuentra cualquier tipo caracter alfanumerico\n",
    "# el \\W encuentra todo menos caracteres alfanumericos\n",
    "# el + concatena la palabra antes del time\n",
    "# $ busca el texto pero al final (cuando la horación termine con time)\n",
    "print(re.findall('\\w+ time$',poem))"
   ]
  },
  {
   "cell_type": "code",
   "execution_count": null,
   "metadata": {},
   "outputs": [],
   "source": [
    "print(re.findall('[][]'))"
   ]
  },
  {
   "cell_type": "code",
   "execution_count": 16,
   "metadata": {},
   "outputs": [],
   "source": [
    "poem_2 ='Mexico MEXICO MeXiCo ah AH'"
   ]
  },
  {
   "cell_type": "code",
   "execution_count": 18,
   "metadata": {},
   "outputs": [
    {
     "output_type": "stream",
     "name": "stdout",
     "text": [
      "['Mexico', 'MEXICO', 'MeXiCo', 'ah', 'AH']\n"
     ]
    }
   ],
   "source": [
    "# el caracter | es \"O\"\n",
    "print(re.findall('Mexico|ah', poem_2, flags=re.IGNORECASE))"
   ]
  },
  {
   "cell_type": "code",
   "execution_count": 19,
   "metadata": {},
   "outputs": [
    {
     "output_type": "stream",
     "name": "stdout",
     "text": [
      "['Mexico']\n"
     ]
    }
   ],
   "source": [
    "# ^ trae el resultado que inicie con ese patron\n",
    "print(re.findall(\"^Mexico\", poem_2))"
   ]
  },
  {
   "cell_type": "code",
   "execution_count": 22,
   "metadata": {},
   "outputs": [
    {
     "output_type": "stream",
     "name": "stdout",
     "text": [
      "['O', 'n', 'c', ' ', 'p', 'n', ' ', ' ', 'm', 'd', 'n', 'g', 'h', 't', ' ', 's', ',', ' ', 'w', 'h', 'l', ' ', 'I', ' ', 'p', 'n', 'd', 'r', 'd', ',', ' ', 'w', 'k', ' ', 'n', 'd', ' ', 'w', 'r', 'y', 'N', 'm', 'l', 's', 's', ' ', 'h', 'r', ' ', 'f', 'r', ' ', 'v', 'r', 'm', 'r', '.', 'P', 'n', 'd', 'r', 'd', ' ', 's', ' ', 'm', 'y', ' ', 'd', 'r', ' ', 'O', 'n', 'c', ' ', 'p', 'n', ' ', ' ', 't', 'm']\n"
     ]
    }
   ],
   "source": [
    "# ^ trae el resultado que inicie con ese patron\n",
    "print(re.findall(\"[^aeiou]\", poem))"
   ]
  },
  {
   "cell_type": "code",
   "execution_count": 24,
   "metadata": {},
   "outputs": [
    {
     "output_type": "execute_result",
     "data": {
      "text/plain": [
       "'Once upon a midnight s, while I pondereeeeed, weak and wearyNameless here for evermore.Pondered as my dear Once upon a time'"
      ]
     },
     "metadata": {},
     "execution_count": 24
    }
   ],
   "source": [
    "poem"
   ]
  },
  {
   "cell_type": "code",
   "execution_count": 26,
   "metadata": {},
   "outputs": [
    {
     "output_type": "stream",
     "name": "stdout",
     "text": [
      "['pondereeeeed', 'Pondered']\n"
     ]
    }
   ],
   "source": [
    "print(re.findall(\"pondere{1,}\\w\", poem, flags=re.IGNORECASE))"
   ]
  },
  {
   "cell_type": "code",
   "execution_count": 27,
   "metadata": {},
   "outputs": [
    {
     "output_type": "stream",
     "name": "stdout",
     "text": [
      "     I have a tendency.\nto    leave    trailing\nspaces.       \n"
     ]
    }
   ],
   "source": [
    "espacios = \"\"\"     I have a tendency.\n",
    "to    leave    trailing\n",
    "spaces.       \"\"\"\n",
    "print(espacios)"
   ]
  },
  {
   "cell_type": "code",
   "execution_count": 31,
   "metadata": {},
   "outputs": [
    {
     "output_type": "stream",
     "name": "stdout",
     "text": [
      "     I have a tendency. to    leave    trailing spaces.       \n"
     ]
    }
   ],
   "source": [
    "# \\s encuentra espacios\n",
    "print(re.sub('\\s',' ', espacios))\n"
   ]
  },
  {
   "cell_type": "code",
   "execution_count": 33,
   "metadata": {},
   "outputs": [
    {
     "output_type": "stream",
     "name": "stdout",
     "text": [
      "I have a tendency.\nto    leave    trailing\nspaces.       \n"
     ]
    }
   ],
   "source": [
    "print(espacios.lstrip())"
   ]
  },
  {
   "cell_type": "code",
   "execution_count": 42,
   "metadata": {},
   "outputs": [
    {
     "output_type": "stream",
     "name": "stdout",
     "text": [
      "<re.Match object; span=(0, 12), match='Ironhacer Mx'>\n<re.Match object; span=(0, 14), match='Ingles moderno'>\n"
     ]
    }
   ],
   "source": [
    "# ?:negar que se un grupo\n",
    "# () agrupa\n",
    "listas = [\"Ironhacer Mx\", \"Ingles moderno\", \"Trabajo Solo\"]\n",
    "for element in listas:\n",
    "    z=re.match(\"(?:I\\w+)\\W(?:m\\w+)\", element, flags=re.IGNORECASE )\n",
    "    if z:\n",
    "        print(z)\n"
   ]
  },
  {
   "cell_type": "code",
   "execution_count": 46,
   "metadata": {},
   "outputs": [
    {
     "output_type": "stream",
     "name": "stdout",
     "text": [
      "Deebras\"invertir en estudio\" en \"invertir en estudio es para toda la vida\" ->  Buena decisión!\nDeebras\"invertir en auto\" en \"invertir en estudio es para toda la vida\" ->  Piensalo de nuevo\n"
     ]
    }
   ],
   "source": [
    "# \n",
    "patterns = ['invertir en estudio', 'invertir en auto']\n",
    "text = 'invertir en estudio es para toda la vida'\n",
    "for pattern in patterns:\n",
    "    print('Deebras\"%s\" en \"%s\" -> ' %(pattern, text), end=' ')\n",
    "    if re.search(pattern, text):\n",
    "        print(\"Buena decisión!\")\n",
    "else:\n",
    "    print(\"Piensalo de nuevo\")\n"
   ]
  },
  {
   "cell_type": "code",
   "execution_count": 47,
   "metadata": {},
   "outputs": [],
   "source": [
    "frase = \"Somos 16 alumnos y 3 teachers\""
   ]
  },
  {
   "cell_type": "code",
   "execution_count": 49,
   "metadata": {},
   "outputs": [
    {
     "output_type": "execute_result",
     "data": {
      "text/plain": [
       "\"['16', '3']\""
      ]
     },
     "metadata": {},
     "execution_count": 49
    }
   ],
   "source": [
    "# Encontrar numeros\n",
    "resultado = re.findall('\\d+', frase)\n",
    "str(resultado)"
   ]
  },
  {
   "cell_type": "code",
   "execution_count": 53,
   "metadata": {},
   "outputs": [],
   "source": [
    "%reset -f\n",
    "import re"
   ]
  },
  {
   "cell_type": "code",
   "execution_count": 55,
   "metadata": {},
   "outputs": [
    {
     "output_type": "stream",
     "name": "stdout",
     "text": [
      "user1@ironhack.com\nuser2@hotmail.com\nusers@yahoo.com\n"
     ]
    }
   ],
   "source": [
    "abc = 'user1@ironhack.com, user2@hotmail.com, users@yahoo.com'\n",
    "correos = re.findall(\"[\\w]+@[\\w\\.]+\",abc)\n",
    "for correo in correos:\n",
    "    print(correo)"
   ]
  },
  {
   "cell_type": "code",
   "execution_count": 56,
   "metadata": {},
   "outputs": [],
   "source": [
    "text = \"The puppy saw all the rest of the puppies playing and wanted to join them. I saw this and wanted a puppy of my own!\""
   ]
  },
  {
   "cell_type": "code",
   "execution_count": 59,
   "metadata": {},
   "outputs": [
    {
     "output_type": "execute_result",
     "data": {
      "text/plain": [
       "'\\n\"From r  Wed Oct 30 21:41:56 2002 \" \"Return-Path: <robers_mexaloha@mailrey.c> \" \"X-Sieve: cmu-sieve 2.0 \" \"Return-Path: <robers_mexaloha@mailrey.com> \" \"Message-Id: <200210310241_g9V2fNm6028281@cs.CU> \" \"From: MR. Robers Mexaloha. <robers_mexaloha@mailrey.com> \" \"Reply-To: robers_mexaloha@mailrey.com \" \"To: webmaster@aclweb.org \" \"Date: Thu, 31 Oct 2002 02:38:20 +0000 \" \"Subject: BITCOIN GIFT FROM US \" \"X-Mailer: Microsoft Outlook Express 5.00.2919.6900 DM \" \\\\ '"
      ]
     },
     "metadata": {},
     "execution_count": 59
    }
   ],
   "source": [
    "lista_correos = \"\"\"\n",
    "\"From r  Wed Oct 30 21:41:56 2002 \" \\\n",
    "\"Return-Path: <robers_mexaloha@mailrey.c> \" \\\n",
    "\"X-Sieve: cmu-sieve 2.0 \" \\\n",
    "\"Return-Path: <robers_mexaloha@mailrey.com> \" \\\n",
    "\"Message-Id: <200210310241_g9V2fNm6028281@cs.CU> \" \\\n",
    "\"From: MR. Robers Mexaloha. <robers_mexaloha@mailrey.com> \" \\\n",
    "\"Reply-To: robers_mexaloha@mailrey.com \" \\\n",
    "\"To: webmaster@aclweb.org \" \\\n",
    "\"Date: Thu, 31 Oct 2002 02:38:20 +0000 \" \\\n",
    "\"Subject: BITCOIN GIFT FROM US \" \\\n",
    "\"X-Mailer: Microsoft Outlook Express 5.00.2919.6900 DM \" \\ \"\"\"\n",
    "correos"
   ]
  },
  {
   "source": [
    "## \\w+@\\w+\\.(?:org|com|CU)\n",
    "## \\w+@\\w+\\.+\\w{2,3}\n"
   ],
   "cell_type": "markdown",
   "metadata": {}
  },
  {
   "cell_type": "code",
   "execution_count": 60,
   "metadata": {},
   "outputs": [
    {
     "output_type": "stream",
     "name": "stdout",
     "text": [
      "robers_mexaloha@mailrey.com\n200210310241_g9V2fNm6028281@cs.CU\nrobers_mexaloha@mailrey.com\nrobers_mexaloha@mailrey.com\nwebmaster@aclweb.org\n"
     ]
    }
   ],
   "source": [
    "correos = re.findall(\"\\w+@\\w+.(?:org|com|CU)\",lista_correos)\n",
    "for correo in correos:\n",
    "    print(correo)"
   ]
  },
  {
   "cell_type": "code",
   "execution_count": null,
   "metadata": {},
   "outputs": [],
   "source": []
  }
 ]
}