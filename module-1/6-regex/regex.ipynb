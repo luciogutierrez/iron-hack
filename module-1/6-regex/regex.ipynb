{
 "metadata": {
  "language_info": {
   "codemirror_mode": {
    "name": "ipython",
    "version": 3
   },
   "file_extension": ".py",
   "mimetype": "text/x-python",
   "name": "python",
   "nbconvert_exporter": "python",
   "pygments_lexer": "ipython3",
   "version": "3.9.1"
  },
  "orig_nbformat": 2,
  "kernelspec": {
   "name": "python391jvsc74a57bd0376f5b0795f81aa7b5d99e448d6274743a66c9892fd26cf11e505993f41df5fa",
   "display_name": "Python 3.9.1 64-bit"
  }
 },
 "nbformat": 4,
 "nbformat_minor": 2,
 "cells": [
  {
   "source": [
    "# RegEx"
   ],
   "cell_type": "markdown",
   "metadata": {}
  },
  {
   "cell_type": "code",
   "execution_count": null,
   "metadata": {},
   "outputs": [],
   "source": [
    "# borrar todas las variables de la memoria de jupyter sin preguntar por confirmaci+ón\n",
    "%reset -f "
   ]
  },
  {
   "cell_type": "code",
   "execution_count": 20,
   "metadata": {},
   "outputs": [],
   "source": [
    "# paso 1\n",
    "# importar el módulo regex de python\n",
    "import re"
   ]
  },
  {
   "cell_type": "code",
   "execution_count": 21,
   "metadata": {},
   "outputs": [],
   "source": [
    "# paso 2\n",
    "# compilando la regex en un objeto de patrones de python\n",
    "patron = re.compile(r'\\bfoo\\b') # busca la palabra foo"
   ]
  },
  {
   "source": [
    "# funciones RegEx\n",
    "## match(): determinada si la regex tiene coincidencias en el comienzo del texto.\n",
    "## search(): escanea todo el texto buscando cualquier ubicación donde haya una coincidencia.\n",
    "## findall(): encuentra todos los subtextos donde haya una coincidencia y nos devuelve estas coincidencias como una lista.\n",
    "## finditer(): es similar al anterior pero en lugar de devolvernos una lista nos devuelve un iterador."
   ],
   "cell_type": "markdown",
   "metadata": {}
  },
  {
   "cell_type": "code",
   "execution_count": 23,
   "metadata": {},
   "outputs": [],
   "source": [
    "# texto de entrada\n",
    "texto = \"\"\" bar foo bar\n",
    "foo barbarfoo\n",
    "foofoo foo bar\n",
    "\"\"\""
   ]
  },
  {
   "cell_type": "code",
   "execution_count": 24,
   "metadata": {},
   "outputs": [
    {
     "output_type": "stream",
     "name": "stdout",
     "text": [
      "None\n"
     ]
    }
   ],
   "source": [
    "# match nos devuelve None porque no hubo coincidenci al comie3nzo del texto\n",
    "print(patron.match(texto))"
   ]
  },
  {
   "cell_type": "code",
   "execution_count": 25,
   "metadata": {},
   "outputs": [
    {
     "output_type": "execute_result",
     "data": {
      "text/plain": [
       "<re.Match object; span=(0, 3), match='foo'>"
      ]
     },
     "metadata": {},
     "execution_count": 25
    }
   ],
   "source": [
    "# match encuentra una coincidenca en el cmienzo del texto\n",
    "m = patron.match('foo bar')\n",
    "m"
   ]
  },
  {
   "cell_type": "code",
   "execution_count": 27,
   "metadata": {},
   "outputs": [
    {
     "output_type": "execute_result",
     "data": {
      "text/plain": [
       "<re.Match object; span=(5, 8), match='foo'>"
      ]
     },
     "metadata": {},
     "execution_count": 27
    }
   ],
   "source": [
    "# search nos devuelve la coincidencia en cualuqier ubicación\n",
    "s = patron.search(texto)\n",
    "s"
   ]
  },
  {
   "cell_type": "code",
   "execution_count": 29,
   "metadata": {},
   "outputs": [
    {
     "output_type": "execute_result",
     "data": {
      "text/plain": [
       "['foo', 'foo', 'foo']"
      ]
     },
     "metadata": {},
     "execution_count": 29
    }
   ],
   "source": [
    "# findall devuelve una lista de todas las conincidencias\n",
    "fa = patron.findall(texto)\n",
    "fa"
   ]
  },
  {
   "cell_type": "code",
   "execution_count": 31,
   "metadata": {},
   "outputs": [
    {
     "output_type": "execute_result",
     "data": {
      "text/plain": [
       "<callable_iterator at 0x25862753430>"
      ]
     },
     "metadata": {},
     "execution_count": 31
    }
   ],
   "source": [
    "# finditer devuelve un iterador\n",
    "fi = patron.finditer(texto)\n",
    "fi"
   ]
  },
  {
   "cell_type": "code",
   "execution_count": 32,
   "metadata": {},
   "outputs": [
    {
     "output_type": "execute_result",
     "data": {
      "text/plain": [
       "<re.Match object; span=(5, 8), match='foo'>"
      ]
     },
     "metadata": {},
     "execution_count": 32
    }
   ],
   "source": [
    "# iterando por las distintas concidencias\n",
    "next(fi)"
   ]
  },
  {
   "cell_type": "code",
   "execution_count": 33,
   "metadata": {},
   "outputs": [
    {
     "output_type": "execute_result",
     "data": {
      "text/plain": [
       "<re.Match object; span=(13, 16), match='foo'>"
      ]
     },
     "metadata": {},
     "execution_count": 33
    }
   ],
   "source": [
    "# iterando por las distintas concidencias\n",
    "next(fi)"
   ]
  },
  {
   "cell_type": "code",
   "execution_count": 34,
   "metadata": {},
   "outputs": [
    {
     "output_type": "execute_result",
     "data": {
      "text/plain": [
       "<re.Match object; span=(34, 37), match='foo'>"
      ]
     },
     "metadata": {},
     "execution_count": 34
    }
   ],
   "source": [
    "# iterando por las distintas concidencias\n",
    "next(fi)"
   ]
  },
  {
   "cell_type": "code",
   "execution_count": null,
   "metadata": {},
   "outputs": [],
   "source": [
    "# iterando por las distintas concidencias\n",
    "next(fi)\n"
   ]
  },
  {
   "source": [
    "# Methodos del objeto que devuelve python (salvo finall() que duvuelve una lista).\n",
    "## group(): devuelve el texto que coincide con la expresion regular.\n",
    "## start(): devuelve la posición inicial de la coincidencia.\n",
    "## end(): devuelve la posición final de la coincidencia.\n",
    "## span(): devuelve una tupla con la posición inicial y final de la coincidencia."
   ],
   "cell_type": "markdown",
   "metadata": {}
  },
  {
   "cell_type": "code",
   "execution_count": 35,
   "metadata": {},
   "outputs": [
    {
     "output_type": "execute_result",
     "data": {
      "text/plain": [
       "('foo', 0, 3, (0, 3))"
      ]
     },
     "metadata": {},
     "execution_count": 35
    }
   ],
   "source": [
    "# Metodo del objeto de coincidencia\n",
    "m.group(), m.start(), m.end(), m.span()"
   ]
  },
  {
   "cell_type": "code",
   "execution_count": 36,
   "metadata": {},
   "outputs": [
    {
     "output_type": "execute_result",
     "data": {
      "text/plain": [
       "('foo', 5, 8, (5, 8))"
      ]
     },
     "metadata": {},
     "execution_count": 36
    }
   ],
   "source": [
    "# Metodo del objeto de coincidencia\n",
    "s.group(), s.start(), s.end(), s.span()"
   ]
  },
  {
   "source": [
    "# Modificando el texto de entra\n",
    "\n",
    "### Además de buscar coincidencias de nuestro patro, podemos utilizar ese mismo patrón para realizar modifidaciones al texto de entrada.\n",
    "\n",
    "## split(): divide el texto en una lista, donde se cumple con la expresion regular.\n",
    "## sub(): encuentra todos los subtextos  y luego los reemplaza con un nuevo texto.\n",
    "## subn(): es similar al anterior pero además devuelve el numero de reemplazos que realizó."
   ],
   "cell_type": "markdown",
   "metadata": {}
  },
  {
   "cell_type": "code",
   "execution_count": 38,
   "metadata": {},
   "outputs": [],
   "source": [
    "%reset -f"
   ]
  },
  {
   "cell_type": "code",
   "execution_count": 42,
   "metadata": {},
   "outputs": [],
   "source": [
    "import re"
   ]
  },
  {
   "cell_type": "code",
   "execution_count": 39,
   "metadata": {},
   "outputs": [],
   "source": [
    "# texto de entrada\n",
    "becquer = \"\"\"Podrá nublarse el sol eternamente; \n",
    "Podrá secarse en un instante el mar; \n",
    "Podrá romperse el eje de la tierra \n",
    "como un débil cristal. \n",
    "¡todo sucederá! Podrá la muerte \n",
    "cubrirme con su fúnebre crespón; \n",
    "Pero jamás en mí podrá apagarse \n",
    "la llama de tu amor.\"\"\""
   ]
  },
  {
   "cell_type": "code",
   "execution_count": 45,
   "metadata": {},
   "outputs": [],
   "source": [
    "# patron para dividir donde no encuentre un caracter alfanumerico.abs\n",
    "patron = re.compile(r'\\W+')"
   ]
  },
  {
   "cell_type": "code",
   "execution_count": 47,
   "metadata": {},
   "outputs": [
    {
     "output_type": "execute_result",
     "data": {
      "text/plain": [
       "['Podrá',\n",
       " 'nublarse',\n",
       " 'el',\n",
       " 'sol',\n",
       " 'eternamente',\n",
       " 'Podrá',\n",
       " 'secarse',\n",
       " 'en',\n",
       " 'un',\n",
       " 'instante']"
      ]
     },
     "metadata": {},
     "execution_count": 47
    }
   ],
   "source": [
    "palabras = patron.split(becquer)\n",
    "palabras[:10]"
   ]
  },
  {
   "cell_type": "code",
   "execution_count": 49,
   "metadata": {},
   "outputs": [
    {
     "output_type": "execute_result",
     "data": {
      "text/plain": [
       "['Podrá nublarse el sol eternamente; ',\n",
       " 'Podrá secarse en un instante el mar; ',\n",
       " 'Podrá romperse el eje de la tierra ',\n",
       " 'como un débil cristal. ',\n",
       " '¡todo sucederá! Podrá la muerte ',\n",
       " 'cubrirme con su fúnebre crespón; ',\n",
       " 'Pero jamás en mí podrá apagarse ',\n",
       " 'la llama de tu amor.']"
      ]
     },
     "metadata": {},
     "execution_count": 49
    }
   ],
   "source": [
    "# Tambien se pueden utilizar versiones no compiladas de splt\n",
    "re.split(r'\\n',becquer) # divide el texto por lineas"
   ]
  },
  {
   "cell_type": "code",
   "execution_count": 52,
   "metadata": {},
   "outputs": [
    {
     "output_type": "execute_result",
     "data": {
      "text/plain": [
       "['Podrá',\n",
       " 'nublarse',\n",
       " 'el',\n",
       " 'sol',\n",
       " 'eternamente',\n",
       " 'Podrá',\n",
       " 'secarse',\n",
       " 'en',\n",
       " 'un',\n",
       " 'instante',\n",
       " 'el mar; \\nPodrá romperse el eje de la tierra \\ncomo un débil cristal. \\n¡todo sucederá! Podrá la muerte \\ncubrirme con su fúnebre crespón; \\nPero jamás en mí podrá apagarse \\nla llama de tu amor.']"
      ]
     },
     "metadata": {},
     "execution_count": 52
    }
   ],
   "source": [
    "# Utilizando el tope de divisiones\n",
    "patron.split(becquer, 10)"
   ]
  },
  {
   "cell_type": "code",
   "execution_count": 54,
   "metadata": {},
   "outputs": [
    {
     "output_type": "stream",
     "name": "stdout",
     "text": [
      "Puede nublarse el sol eternamente; \nPuede secarse en un instante el mar; \nPuede romperse el eje de la tierra \ncomo un débil cristal. \n¡todo sucederá! Puede la muerte \ncubrirme con su fúnebre crespón; \nPero jamás en mí Puede apagarse \nla llama de tu amor.\n"
     ]
    }
   ],
   "source": [
    "# Cambiando subtextos dentro del texto\n",
    "podra = re.compile(r'\\b(P|p)odrá\\b')\n",
    "puede = podra.sub(\"Puede\", becquer)\n",
    "print(puede)"
   ]
  },
  {
   "cell_type": "code",
   "execution_count": 55,
   "metadata": {},
   "outputs": [
    {
     "output_type": "stream",
     "name": "stdout",
     "text": [
      "Puede nublarse el sol eternamente; \nPuede secarse en un instante el mar; \nPodrá romperse el eje de la tierra \ncomo un débil cristal. \n¡todo sucederá! Podrá la muerte \ncubrirme con su fúnebre crespón; \nPero jamás en mí podrá apagarse \nla llama de tu amor.\n"
     ]
    }
   ],
   "source": [
    "# Limitando el número de reemplazos\n",
    "puede = podra.sub(\"Puede\", becquer, 2)\n",
    "print(puede)"
   ]
  },
  {
   "cell_type": "code",
   "execution_count": 56,
   "metadata": {},
   "outputs": [
    {
     "output_type": "execute_result",
     "data": {
      "text/plain": [
       "('Puede nublarse el sol eternamente; \\nPuede secarse en un instante el mar; \\nPuede romperse el eje de la tierra \\ncomo un débil cristal. \\n¡todo sucederá! Puede la muerte \\ncubrirme con su fúnebre crespón; \\nPero jamás en mí Puede apagarse \\nla llama de tu amor.',\n",
       " 5)"
      ]
     },
     "metadata": {},
     "execution_count": 56
    }
   ],
   "source": [
    "# Utilizando la versión no compilada de subn\n",
    "re.subn(r'\\b(P|p)odrá\\b',\"Puede\",becquer)"
   ]
  },
  {
   "source": [
    "# Funciones no compiladas\n",
    "\n",
    "### Cada función match, search, findall, findinter, split, sub y subn existe una versión sin necesidad de compilar primero."
   ],
   "cell_type": "markdown",
   "metadata": {}
  },
  {
   "cell_type": "code",
   "execution_count": 58,
   "metadata": {},
   "outputs": [],
   "source": [
    "# texto de entrada\n",
    "texto = \"\"\" bar foo bar\n",
    "foo barbarfoo\n",
    "foofoo foo bar\n",
    "\"\"\""
   ]
  },
  {
   "cell_type": "code",
   "execution_count": 60,
   "metadata": {},
   "outputs": [
    {
     "output_type": "execute_result",
     "data": {
      "text/plain": [
       "['foo', 'foo', 'foo']"
      ]
     },
     "metadata": {},
     "execution_count": 60
    }
   ],
   "source": [
    "# Ejemplo de finall con la fucnión a nivel modulo (sin compilar)\n",
    "re.findall(r'\\bfoo\\b', texto)"
   ]
  },
  {
   "source": [
    "# Banderas de compilacaión\n",
    "\n",
    "### Las banderas permiten modificar algunos aspectos funcionales delas RegEx\n",
    "\n",
    "## IGNORECASE, I: Para realizar búsquedas sin tener en cuenta las minúsculas o mayúsculas.\n",
    "## VERBOSE, X: habilita modo verborrágico, el cual permite organizar el patrón de búsqueda de una forma que sea más sencilla de entender y leer.\n",
    "## ASCII, A: hace que las secuencias de escape \\w, \\b, \\s and \\d funciones para coincidencias con los caracteres ASCII.\n",
    "## DOTALL, S: hace que el metacaracter . funcione para cualquier caracter, incluyendo el las líneas nuevas.\n",
    "## LOCALE, L: hace que \\w, \\W, \\b, \\B, \\s, y \\S dependientes de la localización actual.\n",
    "## MULTILINE, M: habilita la coincidencia en múltiples líneas, afectando el funcionamiento de los metacaracteres ^ and $."
   ],
   "cell_type": "markdown",
   "metadata": {}
  },
  {
   "cell_type": "code",
   "execution_count": 61,
   "metadata": {},
   "outputs": [
    {
     "output_type": "stream",
     "name": "stdout",
     "text": [
      "Puede nublarse el sol eternamente; \nPuede secarse en un instante el mar; \nPuede romperse el eje de la tierra \ncomo un débil cristal. \n¡todo sucederá! Puede la muerte \ncubrirme con su fúnebre crespón; \nPero jamás en mí Puede apagarse \nla llama de tu amor.\n"
     ]
    }
   ],
   "source": [
    "# Ejemplo de IGNORECASE\n",
    "# Cambiando \"Podrá\" o \"podra\" por \"Puede\"\n",
    "podra = re.compile(r'podrá\\b', re.I) \n",
    "puede = podra.sub(\"Puede\", becquer)\n",
    "print(puede)"
   ]
  },
  {
   "cell_type": "code",
   "execution_count": 73,
   "metadata": {},
   "outputs": [],
   "source": [
    "# Ejemplo de VERBOSE\n",
    "regex_email = re.compile(r\"\"\"\n",
    "\\b             # comienzo de delimitador de palabra\n",
    "[\\w.%+-]       # usuario: Cualquier caracter alfanumerico mas los signos (.%+-)\n",
    "+@             # seguido de @\n",
    "[\\w.-]         # dominio: Cualquier caracter alfanumerico mas los signos (.-)\n",
    "+\\.            # seguido de .\n",
    "[a-zA-Z]{2,6}  # dominio de alto nivel: 2 a 6 letras en minúsculas o mayúsculas.\n",
    "\\b             # fin de delimitador de palabra\n",
    "\"\"\", re.X)"
   ]
  },
  {
   "cell_type": "code",
   "execution_count": 74,
   "metadata": {},
   "outputs": [],
   "source": [
    "mails = \"\"\"raul.lopez@relopezbriega.com, Raul Lopez Briega,\n",
    "foo bar, relopezbriega@relopezbriega.com.ar, raul@github.io, \n",
    "https://relopezbriega.com.ar, https://relopezbriega.github.io, \n",
    "python@python, river@riverplate.com.ar, pythonAR@python.pythonAR\n",
    "\"\"\""
   ]
  },
  {
   "cell_type": "code",
   "execution_count": 75,
   "metadata": {},
   "outputs": [
    {
     "output_type": "execute_result",
     "data": {
      "text/plain": [
       "['raul.lopez@relopezbriega.com',\n",
       " 'relopezbriega@relopezbriega.com.ar',\n",
       " 'raul@github.io',\n",
       " 'river@riverplate.com.ar']"
      ]
     },
     "metadata": {},
     "execution_count": 75
    }
   ],
   "source": [
    "# filtrando mails con estructura valida\n",
    "regex_email.findall(mails)"
   ]
  },
  {
   "source": [
    "# Nombrando grupos\n",
    "\n",
    "### Permite ponerle nombre a los grupos de RegEx"
   ],
   "cell_type": "markdown",
   "metadata": {}
  },
  {
   "cell_type": "code",
   "execution_count": 65,
   "metadata": {},
   "outputs": [],
   "source": [
    "# Accediendo a los grupos por sus indices\n",
    "patron = re.compile(r'(\\w+) (\\w+)')\n",
    "s = patron.search(\"Raul Lopez\")"
   ]
  },
  {
   "cell_type": "code",
   "execution_count": 67,
   "metadata": {},
   "outputs": [
    {
     "output_type": "execute_result",
     "data": {
      "text/plain": [
       "'Raul'"
      ]
     },
     "metadata": {},
     "execution_count": 67
    }
   ],
   "source": [
    "# group 1\n",
    "s.group(1)"
   ]
  },
  {
   "cell_type": "code",
   "execution_count": 68,
   "metadata": {},
   "outputs": [
    {
     "output_type": "execute_result",
     "data": {
      "text/plain": [
       "'Lopez'"
      ]
     },
     "metadata": {},
     "execution_count": 68
    }
   ],
   "source": [
    "# group 2\n",
    "s.group(2)"
   ]
  },
  {
   "cell_type": "code",
   "execution_count": 69,
   "metadata": {},
   "outputs": [],
   "source": [
    "# Accediendo a los grupos por nombre\n",
    "patron = re.compile(r'(?P<nombre>\\w+) (?P<apellido>\\w+)')\n",
    "s = patron.search('Raul Lopez')"
   ]
  },
  {
   "cell_type": "code",
   "execution_count": 70,
   "metadata": {},
   "outputs": [
    {
     "output_type": "execute_result",
     "data": {
      "text/plain": [
       "'Raul'"
      ]
     },
     "metadata": {},
     "execution_count": 70
    }
   ],
   "source": [
    "# grupo nombre\n",
    "s.group('nombre')"
   ]
  },
  {
   "cell_type": "code",
   "execution_count": 71,
   "metadata": {},
   "outputs": [
    {
     "output_type": "execute_result",
     "data": {
      "text/plain": [
       "'Lopez'"
      ]
     },
     "metadata": {},
     "execution_count": 71
    }
   ],
   "source": [
    "# grupo apellido\n",
    "s.group('apellido')"
   ]
  },
  {
   "source": [
    "# Otros ejemplos de RegEX"
   ],
   "cell_type": "markdown",
   "metadata": {}
  },
  {
   "cell_type": "code",
   "execution_count": 78,
   "metadata": {},
   "outputs": [
    {
     "output_type": "execute_result",
     "data": {
      "text/plain": [
       "['lucio.gutierrez@ferromex.mx']"
      ]
     },
     "metadata": {},
     "execution_count": 78
    }
   ],
   "source": [
    "# validando un email\n",
    "regex_email = re.compile(r'\\b[\\w.%+-]+@[\\w.-]+\\.[a-zA-Z]{2,6}\\b')\n",
    "email = 'lucio.gutierrez@ferromex.mx'\n",
    "v_email = regex_email.findall(email)\n",
    "v_email\n"
   ]
  },
  {
   "cell_type": "code",
   "execution_count": 80,
   "metadata": {},
   "outputs": [
    {
     "output_type": "execute_result",
     "data": {
      "text/plain": [
       "<re.Match object; span=(0, 28), match='https://relopezbriega.com.mx'>"
      ]
     },
     "metadata": {},
     "execution_count": 80
    }
   ],
   "source": [
    "# validando una url\n",
    "regex_url = re.compile(r'^(https?:\\/\\/)?([\\da-z\\.-]+)\\.([a-z\\.]{2,6})([\\/\\w\\.]*)*\\/?$')\n",
    "url = 'https://relopezbriega.com.mx'\n",
    "v_url = regex_url.search(url)\n",
    "v_url"
   ]
  },
  {
   "cell_type": "code",
   "execution_count": 89,
   "metadata": {},
   "outputs": [
    {
     "output_type": "stream",
     "name": "stdout",
     "text": [
      "None\n"
     ]
    }
   ],
   "source": [
    "url = 'https://relopezbriega!.com.mx'\n",
    "v_url = regex_url.search(url)\n",
    "print(v_url)"
   ]
  },
  {
   "cell_type": "code",
   "execution_count": 90,
   "metadata": {},
   "outputs": [
    {
     "output_type": "stream",
     "name": "stdout",
     "text": [
      "None\n"
     ]
    }
   ],
   "source": [
    "# validando una IP\n",
    "regex_ip = re.compile(r'^(?:(?:25[0-5]|2[0-4][0-9]|[01]?[0-9][0-9]?)\\.){3}(?:25[0-5]|2[0-4][0-9]|[01]?[0-9][0-9]?)$')\n",
    "ip = '256.60.124.136'\n",
    "v_ip = regex_ip.search(ip)\n",
    "print(v_ip)"
   ]
  },
  {
   "cell_type": "code",
   "execution_count": 91,
   "metadata": {},
   "outputs": [
    {
     "output_type": "stream",
     "name": "stdout",
     "text": [
      "<re.Match object; span=(0, 13), match='73.60.124.136'>\n"
     ]
    }
   ],
   "source": [
    "ip = '73.60.124.136'\n",
    "v_ip = regex_ip.search(ip)\n",
    "print(v_ip)"
   ]
  },
  {
   "cell_type": "code",
   "execution_count": 102,
   "metadata": {},
   "outputs": [
    {
     "output_type": "stream",
     "name": "stdout",
     "text": [
      "<re.Match object; span=(0, 10), match='13/02/1982'>\n"
     ]
    }
   ],
   "source": [
    "# Validando un afecha\n",
    "regex_date = re.compile(r'^(0?[1-9]|[12][0-9]|3[01])/(0?[1-9]|1[012])/((19|20)\\d\\d)$')\n",
    "date = '13/02/1982'\n",
    "v_date = regex_date.search(date)\n",
    "print(v_date)"
   ]
  },
  {
   "cell_type": "code",
   "execution_count": 103,
   "metadata": {},
   "outputs": [
    {
     "output_type": "stream",
     "name": "stdout",
     "text": [
      "None\n"
     ]
    }
   ],
   "source": [
    "date = '13/02/2182'\n",
    "v_date = regex_date.search(date)\n",
    "print(v_date)"
   ]
  },
  {
   "cell_type": "code",
   "execution_count": 117,
   "metadata": {},
   "outputs": [
    {
     "output_type": "stream",
     "name": "stdout",
     "text": [
      "<re.Match object; span=(0, 10), match='30/06/1970'>\n"
     ]
    }
   ],
   "source": [
    "date = '30/06/1970'\n",
    "v_date = regex_date.search(date)\n",
    "print(v_date)"
   ]
  },
  {
   "cell_type": "code",
   "execution_count": null,
   "metadata": {},
   "outputs": [],
   "source": []
  }
 ]
}