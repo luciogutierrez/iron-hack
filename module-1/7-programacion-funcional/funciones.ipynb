{
 "metadata": {
  "language_info": {
   "codemirror_mode": {
    "name": "ipython",
    "version": 3
   },
   "file_extension": ".py",
   "mimetype": "text/x-python",
   "name": "python",
   "nbconvert_exporter": "python",
   "pygments_lexer": "ipython3",
   "version": "3.9.1"
  },
  "orig_nbformat": 2,
  "kernelspec": {
   "name": "python391jvsc74a57bd0376f5b0795f81aa7b5d99e448d6274743a66c9892fd26cf11e505993f41df5fa",
   "display_name": "Python 3.9.1 64-bit"
  }
 },
 "nbformat": 4,
 "nbformat_minor": 2,
 "cells": [
  {
   "source": [
    "# Programación funcional"
   ],
   "cell_type": "markdown",
   "metadata": {}
  },
  {
   "cell_type": "code",
   "execution_count": 1,
   "metadata": {},
   "outputs": [
    {
     "output_type": "stream",
     "name": "stdout",
     "text": [
      "6 9\n"
     ]
    }
   ],
   "source": [
    "a = [1,3,5,6]\n",
    "b = [2,4,5,9]\n",
    "for i, j in zip(a,b):\n",
    "    if i % 2 == 0 and j % 2 ==1:\n",
    "        print(i, j)"
   ]
  },
  {
   "cell_type": "code",
   "execution_count": 3,
   "metadata": {},
   "outputs": [
    {
     "output_type": "stream",
     "name": "stdout",
     "text": [
      "Hello World!\n"
     ]
    }
   ],
   "source": [
    "def nombre_de_mi_funcion():\n",
    "    print('Hello World!')\n",
    "\n",
    "nombre_de_mi_funcion()\n",
    "\n"
   ]
  },
  {
   "source": [
    "# Input Agruments"
   ],
   "cell_type": "markdown",
   "metadata": {}
  },
  {
   "source": [
    "## posicionales\n",
    "\n",
    "### los argumentos tienen que respetar el orden dispuesto en la función"
   ],
   "cell_type": "markdown",
   "metadata": {}
  },
  {
   "cell_type": "code",
   "execution_count": 8,
   "metadata": {},
   "outputs": [
    {
     "output_type": "error",
     "ename": "TypeError",
     "evalue": "mi_funcion() missing 2 required positional arguments: 'b' and 'c'",
     "traceback": [
      "\u001b[1;31m---------------------------------------------------------------------------\u001b[0m",
      "\u001b[1;31mTypeError\u001b[0m                                 Traceback (most recent call last)",
      "\u001b[1;32m<ipython-input-8-6358dc214e4a>\u001b[0m in \u001b[0;36m<module>\u001b[1;34m\u001b[0m\n\u001b[0;32m      2\u001b[0m     \u001b[0mprint\u001b[0m\u001b[1;33m(\u001b[0m\u001b[0ma\u001b[0m\u001b[1;33m,\u001b[0m \u001b[0mb\u001b[0m\u001b[1;33m,\u001b[0m \u001b[0mc\u001b[0m\u001b[1;33m)\u001b[0m\u001b[1;33m\u001b[0m\u001b[1;33m\u001b[0m\u001b[0m\n\u001b[0;32m      3\u001b[0m \u001b[1;33m\u001b[0m\u001b[0m\n\u001b[1;32m----> 4\u001b[1;33m \u001b[0mmi_funcion\u001b[0m\u001b[1;33m(\u001b[0m\u001b[1;36m1\u001b[0m\u001b[1;33m)\u001b[0m\u001b[1;33m\u001b[0m\u001b[1;33m\u001b[0m\u001b[0m\n\u001b[0m",
      "\u001b[1;31mTypeError\u001b[0m: mi_funcion() missing 2 required positional arguments: 'b' and 'c'"
     ]
    }
   ],
   "source": [
    "def mi_funcion(a, b, c):\n",
    "    print(a, b, c)\n",
    "\n",
    "mi_funcion(1)"
   ]
  },
  {
   "source": [
    "## valores por defautl"
   ],
   "cell_type": "markdown",
   "metadata": {}
  },
  {
   "cell_type": "code",
   "execution_count": 9,
   "metadata": {},
   "outputs": [
    {
     "output_type": "stream",
     "name": "stdout",
     "text": [
      "1 0 0\n"
     ]
    }
   ],
   "source": [
    "def mi_funcion(a=0, b=0, c=0):\n",
    "    print(a, b, c)\n",
    "\n",
    "mi_funcion(1)"
   ]
  },
  {
   "source": [
    "## Keyword arguments\n",
    "\n",
    "### no importa el orden en que se envien, la función los acomoda "
   ],
   "cell_type": "markdown",
   "metadata": {}
  },
  {
   "cell_type": "code",
   "execution_count": 11,
   "metadata": {},
   "outputs": [
    {
     "output_type": "stream",
     "name": "stdout",
     "text": [
      "2 4 8\n"
     ]
    }
   ],
   "source": [
    "def mi_funcion(a, b, c):\n",
    "    print(a, b, c)\n",
    "\n",
    "mi_funcion(a=2, b=4, c=8)"
   ]
  },
  {
   "cell_type": "code",
   "execution_count": 13,
   "metadata": {},
   "outputs": [
    {
     "output_type": "stream",
     "name": "stdout",
     "text": [
      "2 4 8\n"
     ]
    }
   ],
   "source": [
    "mi_funcion(c=8, b=4, a=2)"
   ]
  },
  {
   "source": [
    "# argumentos variables"
   ],
   "cell_type": "markdown",
   "metadata": {}
  },
  {
   "cell_type": "code",
   "execution_count": 18,
   "metadata": {},
   "outputs": [
    {
     "output_type": "stream",
     "name": "stdout",
     "text": [
      "((1, 2, 3, 4),)\n"
     ]
    }
   ],
   "source": [
    "# el * en la función permite recibir un paquete de valores\n",
    "def funcion(*args):\n",
    "    print(args)\n",
    "\n",
    "valores = (1,2,3,4)    \n",
    "funcion(valores)"
   ]
  },
  {
   "cell_type": "code",
   "execution_count": 20,
   "metadata": {},
   "outputs": [
    {
     "output_type": "stream",
     "name": "stdout",
     "text": [
      "(1, 2, 3, 4)\n"
     ]
    }
   ],
   "source": [
    "# el * al invocar la función desempaqueta los valores\n",
    "def funcion(*args):\n",
    "    print(args)\n",
    "\n",
    "valores = (1,2,3,4)    \n",
    "funcion(*valores)"
   ]
  },
  {
   "cell_type": "code",
   "execution_count": 21,
   "metadata": {},
   "outputs": [
    {
     "output_type": "stream",
     "name": "stdout",
     "text": [
      "{'a': 1, 'b': 2}\n"
     ]
    }
   ],
   "source": [
    "# los ** se utilizan para desempaquetar el diccionario\n",
    "def funcion(**kwargs):\n",
    "    print(kwargs)\n",
    "\n",
    "diccionario = {'a':1, 'b':2}\n",
    "\n",
    "funcion(**diccionario)"
   ]
  },
  {
   "cell_type": "code",
   "execution_count": 22,
   "metadata": {},
   "outputs": [
    {
     "output_type": "stream",
     "name": "stdout",
     "text": [
      "{'a': 1, 'b': 2}\n"
     ]
    }
   ],
   "source": [
    "funcion(**{'a':1, 'b':2})"
   ]
  },
  {
   "cell_type": "code",
   "execution_count": 23,
   "metadata": {},
   "outputs": [
    {
     "output_type": "stream",
     "name": "stdout",
     "text": [
      "{'a': 1, 'b': 2}\n"
     ]
    }
   ],
   "source": [
    "funcion(a=1, b=2)"
   ]
  },
  {
   "cell_type": "code",
   "execution_count": 24,
   "metadata": {},
   "outputs": [],
   "source": [
    "def conexion(**options):\n",
    "    conn_params = {\n",
    "        'host': options.get('host', '127.0.0.1'),\n",
    "        'port': options.get('port', 5432),\n",
    "        'user': options.get('user', ''),\n",
    "        'pwd': options.get('pwd', ''),\n",
    "    }\n",
    "    print(conn_params)"
   ]
  },
  {
   "cell_type": "code",
   "execution_count": 26,
   "metadata": {},
   "outputs": [
    {
     "output_type": "stream",
     "name": "stdout",
     "text": [
      "{'host': '127.0.0.1', 'port': 5432, 'user': '', 'pwd': ''}\n"
     ]
    }
   ],
   "source": [
    "conexion()"
   ]
  },
  {
   "cell_type": "code",
   "execution_count": 27,
   "metadata": {},
   "outputs": [
    {
     "output_type": "stream",
     "name": "stdout",
     "text": [
      "{'host': 'url', 'port': '5433', 'user': '', 'pwd': ''}\n"
     ]
    }
   ],
   "source": [
    "conexion(host=\"url\", port=\"5433\")"
   ]
  },
  {
   "cell_type": "code",
   "execution_count": 28,
   "metadata": {},
   "outputs": [
    {
     "output_type": "stream",
     "name": "stdout",
     "text": [
      "{'host': '127.0.0.1', 'port': 3333, 'user': 'Ponz', 'pwd': 'password'}\n"
     ]
    }
   ],
   "source": [
    "conexion(port=3333, user=\"Ponz\", pwd=\"password\")"
   ]
  },
  {
   "cell_type": "code",
   "execution_count": 33,
   "metadata": {},
   "outputs": [],
   "source": [
    "def funcion(a, b, c=7, *args, **kwargs):\n",
    "    print('a,b,c:', a, b, c)\n",
    "    print('args:', args)\n",
    "    print('kwars:', kwargs)"
   ]
  },
  {
   "cell_type": "code",
   "execution_count": 34,
   "metadata": {},
   "outputs": [
    {
     "output_type": "stream",
     "name": "stdout",
     "text": [
      "a,b,c: 1 2 (6, 7, 8, 6, 7, 8, 6, 7, 8)\nargs: ()\nkwars: {'A': 'a'}\n"
     ]
    }
   ],
   "source": [
    "funcion(1,2,3 *(6,7,8),**{'A':'a'})"
   ]
  },
  {
   "source": [
    "# valores mutables"
   ],
   "cell_type": "markdown",
   "metadata": {}
  },
  {
   "cell_type": "code",
   "execution_count": 37,
   "metadata": {},
   "outputs": [],
   "source": [
    "def funcion(a=[], b={}):\n",
    "    print(a)\n",
    "    print(b)\n",
    "    print('#' * 12)\n",
    "    a.append(len(a))\n",
    "    b[len(a)] = len(a)\n"
   ]
  },
  {
   "cell_type": "code",
   "execution_count": 38,
   "metadata": {},
   "outputs": [
    {
     "output_type": "stream",
     "name": "stdout",
     "text": [
      "[]\n{}\n############\n"
     ]
    }
   ],
   "source": [
    "funcion()"
   ]
  },
  {
   "cell_type": "code",
   "execution_count": 39,
   "metadata": {},
   "outputs": [
    {
     "output_type": "stream",
     "name": "stdout",
     "text": [
      "[0]\n{1: 1}\n############\n"
     ]
    }
   ],
   "source": [
    "funcion()"
   ]
  },
  {
   "cell_type": "code",
   "execution_count": 40,
   "metadata": {},
   "outputs": [
    {
     "output_type": "stream",
     "name": "stdout",
     "text": [
      "[0, 1]\n{1: 1, 2: 2}\n############\n"
     ]
    }
   ],
   "source": [
    "funcion()"
   ]
  },
  {
   "source": [
    "# Factoriales"
   ],
   "cell_type": "markdown",
   "metadata": {}
  },
  {
   "cell_type": "code",
   "execution_count": 47,
   "metadata": {},
   "outputs": [],
   "source": [
    "def factorial(n):\n",
    "    if n in (0,1):\n",
    "        return 1\n",
    "    result = n\n",
    "    for k in range(2, n):\n",
    "        result *= k\n",
    "    return result        "
   ]
  },
  {
   "cell_type": "code",
   "execution_count": 49,
   "metadata": {},
   "outputs": [
    {
     "output_type": "execute_result",
     "data": {
      "text/plain": [
       "1"
      ]
     },
     "metadata": {},
     "execution_count": 49
    }
   ],
   "source": [
    "factorial(1)"
   ]
  },
  {
   "cell_type": "code",
   "execution_count": 51,
   "metadata": {},
   "outputs": [
    {
     "output_type": "execute_result",
     "data": {
      "text/plain": [
       "120"
      ]
     },
     "metadata": {},
     "execution_count": 51
    }
   ],
   "source": [
    "factorial(5)"
   ]
  },
  {
   "source": [
    "# docs strings\n",
    "### \"\"\" utilizamos 3 comillas dobles para documentar \"\"\""
   ],
   "cell_type": "markdown",
   "metadata": {}
  },
  {
   "cell_type": "code",
   "execution_count": 56,
   "metadata": {},
   "outputs": [],
   "source": [
    "def connect(host, port, user, password):\n",
    "    \"\"\"Connect to a database.\n",
    "    Connect to a PostgreSQL database directly, using the given\n",
    "    parameters.\n",
    "    :param host: The host IP.\n",
    "    :param port: The desired port.\n",
    "    :param user: The connection username.\n",
    "    :param password: The connection password.\n",
    "    :return: The connection object.\n",
    "    \"\"\"\n",
    "    pass\n"
   ]
  },
  {
   "cell_type": "code",
   "execution_count": 57,
   "metadata": {},
   "outputs": [
    {
     "output_type": "execute_result",
     "data": {
      "text/plain": [
       "'Connect to a database.\\n    Connect to a PostgreSQL database directly, using the given\\n    parameters.\\n    :param host: The host IP.\\n    :param port: The desired port.\\n    :param user: The connection username.\\n    :param password: The connection password.\\n    :return: The connection object.\\n    '"
      ]
     },
     "metadata": {},
     "execution_count": 57
    }
   ],
   "source": [
    "connect.__doc__"
   ]
  },
  {
   "cell_type": "code",
   "execution_count": null,
   "metadata": {},
   "outputs": [],
   "source": []
  }
 ]
}