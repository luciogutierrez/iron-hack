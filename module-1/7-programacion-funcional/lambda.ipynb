{
 "metadata": {
  "language_info": {
   "codemirror_mode": {
    "name": "ipython",
    "version": 3
   },
   "file_extension": ".py",
   "mimetype": "text/x-python",
   "name": "python",
   "nbconvert_exporter": "python",
   "pygments_lexer": "ipython3",
   "version": "3.9.1"
  },
  "orig_nbformat": 2,
  "kernelspec": {
   "name": "python391jvsc74a57bd0376f5b0795f81aa7b5d99e448d6274743a66c9892fd26cf11e505993f41df5fa",
   "display_name": "Python 3.9.1 64-bit"
  }
 },
 "nbformat": 4,
 "nbformat_minor": 2,
 "cells": [
  {
   "source": [
    "# Lambdas\n",
    "\n",
    "## Lambdas son mejor conocidas funciones anonimas"
   ],
   "cell_type": "markdown",
   "metadata": {}
  },
  {
   "cell_type": "code",
   "execution_count": 2,
   "metadata": {},
   "outputs": [],
   "source": [
    "suma_4 = lambda x: x + 4"
   ]
  },
  {
   "cell_type": "code",
   "execution_count": 3,
   "metadata": {},
   "outputs": [
    {
     "output_type": "execute_result",
     "data": {
      "text/plain": [
       "10"
      ]
     },
     "metadata": {},
     "execution_count": 3
    }
   ],
   "source": [
    "suma_4(6)"
   ]
  },
  {
   "cell_type": "code",
   "execution_count": 4,
   "metadata": {},
   "outputs": [],
   "source": [
    "producto = lambda x, y: x*y"
   ]
  },
  {
   "cell_type": "code",
   "execution_count": 5,
   "metadata": {},
   "outputs": [
    {
     "output_type": "execute_result",
     "data": {
      "text/plain": [
       "20"
      ]
     },
     "metadata": {},
     "execution_count": 5
    }
   ],
   "source": [
    "producto(5, 4)"
   ]
  },
  {
   "cell_type": "code",
   "execution_count": 6,
   "metadata": {},
   "outputs": [
    {
     "output_type": "execute_result",
     "data": {
      "text/plain": [
       "45"
      ]
     },
     "metadata": {},
     "execution_count": 6
    }
   ],
   "source": [
    "producto(suma_4(5), 5)"
   ]
  },
  {
   "cell_type": "code",
   "execution_count": null,
   "metadata": {},
   "outputs": [],
   "source": [
    "lambda argumentos:codigo\n",
    "\n",
    "def nombre(argumentos):\n",
    "    return codigo"
   ]
  },
  {
   "cell_type": "code",
   "execution_count": 10,
   "metadata": {},
   "outputs": [],
   "source": [
    "producto2 = lambda x, y=2: x*y"
   ]
  },
  {
   "cell_type": "code",
   "execution_count": 11,
   "metadata": {},
   "outputs": [
    {
     "output_type": "execute_result",
     "data": {
      "text/plain": [
       "10"
      ]
     },
     "metadata": {},
     "execution_count": 11
    }
   ],
   "source": [
    "producto2(5)"
   ]
  },
  {
   "cell_type": "code",
   "execution_count": 12,
   "metadata": {},
   "outputs": [],
   "source": [
    "fake_bin = lambda x: '0' if x < '5' else '1'"
   ]
  },
  {
   "cell_type": "code",
   "execution_count": 14,
   "metadata": {},
   "outputs": [
    {
     "output_type": "execute_result",
     "data": {
      "text/plain": [
       "'0'"
      ]
     },
     "metadata": {},
     "execution_count": 14
    }
   ],
   "source": [
    "fake_bin('4')"
   ]
  },
  {
   "cell_type": "code",
   "execution_count": 16,
   "metadata": {},
   "outputs": [
    {
     "output_type": "execute_result",
     "data": {
      "text/plain": [
       "'65465465456212874'"
      ]
     },
     "metadata": {},
     "execution_count": 16
    }
   ],
   "source": [
    "numero = '65465465456212874'\n",
    "numero"
   ]
  },
  {
   "cell_type": "code",
   "execution_count": 17,
   "metadata": {},
   "outputs": [
    {
     "output_type": "execute_result",
     "data": {
      "text/plain": [
       "'1'"
      ]
     },
     "metadata": {},
     "execution_count": 17
    }
   ],
   "source": [
    "fake_bin(numero)"
   ]
  },
  {
   "cell_type": "code",
   "execution_count": 21,
   "metadata": {},
   "outputs": [
    {
     "output_type": "execute_result",
     "data": {
      "text/plain": [
       "['1',\n",
       " '1',\n",
       " '0',\n",
       " '1',\n",
       " '1',\n",
       " '0',\n",
       " '1',\n",
       " '1',\n",
       " '0',\n",
       " '1',\n",
       " '1',\n",
       " '0',\n",
       " '0',\n",
       " '0',\n",
       " '1',\n",
       " '1',\n",
       " '0']"
      ]
     },
     "metadata": {},
     "execution_count": 21
    }
   ],
   "source": [
    "respuesta = map(fake_bin, numero)\n",
    "list(respuesta)"
   ]
  },
  {
   "cell_type": "code",
   "execution_count": 23,
   "metadata": {},
   "outputs": [
    {
     "output_type": "execute_result",
     "data": {
      "text/plain": [
       "['1',\n",
       " '1',\n",
       " '0',\n",
       " '1',\n",
       " '1',\n",
       " '0',\n",
       " '1',\n",
       " '1',\n",
       " '0',\n",
       " '1',\n",
       " '1',\n",
       " '0',\n",
       " '0',\n",
       " '0',\n",
       " '1',\n",
       " '1',\n",
       " '0']"
      ]
     },
     "metadata": {},
     "execution_count": 23
    }
   ],
   "source": [
    "respuesta = map( lambda x: '0' if x < '5' else '1', numero)\n",
    "list(respuesta)"
   ]
  },
  {
   "cell_type": "code",
   "execution_count": 24,
   "metadata": {},
   "outputs": [
    {
     "output_type": "execute_result",
     "data": {
      "text/plain": [
       "[0, 1, 2, 3, 4, 5, 6, 7, 8, 9]"
      ]
     },
     "metadata": {},
     "execution_count": 24
    }
   ],
   "source": [
    "numeros = [x for x in range(10)]\n",
    "numeros"
   ]
  },
  {
   "cell_type": "code",
   "execution_count": 27,
   "metadata": {},
   "outputs": [],
   "source": [
    "respuesta = map(lambda x: x+2, numeros)"
   ]
  },
  {
   "cell_type": "code",
   "execution_count": 28,
   "metadata": {},
   "outputs": [
    {
     "output_type": "execute_result",
     "data": {
      "text/plain": [
       "[2, 3, 4, 5, 6, 7, 8, 9, 10, 11]"
      ]
     },
     "metadata": {},
     "execution_count": 28
    }
   ],
   "source": [
    "list(respuesta)"
   ]
  },
  {
   "cell_type": "code",
   "execution_count": 29,
   "metadata": {},
   "outputs": [],
   "source": [
    "complicada = lambda x, y: 1 if x%2==0 else 1 if y%2==0 else 0"
   ]
  },
  {
   "cell_type": "code",
   "execution_count": 32,
   "metadata": {},
   "outputs": [
    {
     "output_type": "execute_result",
     "data": {
      "text/plain": [
       "1"
      ]
     },
     "metadata": {},
     "execution_count": 32
    }
   ],
   "source": [
    "complicada(2,4)"
   ]
  },
  {
   "cell_type": "code",
   "execution_count": 43,
   "metadata": {},
   "outputs": [],
   "source": [
    "def potencia(exponente):\n",
    "    return lambda x: x ** exponente"
   ]
  },
  {
   "cell_type": "code",
   "execution_count": 45,
   "metadata": {},
   "outputs": [
    {
     "output_type": "execute_result",
     "data": {
      "text/plain": [
       "27"
      ]
     },
     "metadata": {},
     "execution_count": 45
    }
   ],
   "source": [
    "# cubo = lambda x: x**3\n",
    "cubo = potencia(3)\n",
    "cubo(3)"
   ]
  },
  {
   "cell_type": "code",
   "execution_count": 46,
   "metadata": {},
   "outputs": [
    {
     "output_type": "execute_result",
     "data": {
      "text/plain": [
       "16"
      ]
     },
     "metadata": {},
     "execution_count": 46
    }
   ],
   "source": [
    "cuadrado = potencia(2)\n",
    "cuadrado(4)"
   ]
  },
  {
   "cell_type": "code",
   "execution_count": 47,
   "metadata": {},
   "outputs": [],
   "source": [
    "fake_bin = lambda x: 0 if x < 5 else 1"
   ]
  },
  {
   "cell_type": "code",
   "execution_count": 48,
   "metadata": {},
   "outputs": [],
   "source": [
    "def fake_func(x):\n",
    "    return 0 if x < 5 else 1"
   ]
  },
  {
   "cell_type": "code",
   "execution_count": 50,
   "metadata": {},
   "outputs": [
    {
     "output_type": "execute_result",
     "data": {
      "text/plain": [
       "[4, 5, 6, 7, 8, 9, 10, 11, 12, 13]"
      ]
     },
     "metadata": {},
     "execution_count": 50
    }
   ],
   "source": [
    "# sumar_4 le suma 4 a un numero\n",
    "lista = [suma_4(x) for x in range(10)]\n",
    "lista"
   ]
  },
  {
   "cell_type": "code",
   "execution_count": 52,
   "metadata": {},
   "outputs": [
    {
     "output_type": "execute_result",
     "data": {
      "text/plain": [
       "[2, 3, 4, 5, 6, 7, 8, 9, 10, 11]"
      ]
     },
     "metadata": {},
     "execution_count": 52
    }
   ],
   "source": [
    "# se puede utilizar una lamda idrectamente en el codigo\n",
    "# y no se guarda en la memoria\n",
    "lista = [(lambda x:x+2)(x) for x in range(10)]\n",
    "lista"
   ]
  },
  {
   "cell_type": "code",
   "execution_count": 53,
   "metadata": {},
   "outputs": [
    {
     "output_type": "stream",
     "name": "stdout",
     "text": [
      "yei\n"
     ]
    }
   ],
   "source": [
    "import re\n",
    "if re.search('32','321004713'):\n",
    "    print('yei')"
   ]
  },
  {
   "cell_type": "code",
   "execution_count": 54,
   "metadata": {},
   "outputs": [
    {
     "output_type": "stream",
     "name": "stdout",
     "text": [
      "yei\n"
     ]
    }
   ],
   "source": [
    "resultado = re.search('32','321004713')\n",
    "if resultado != None:\n",
    "    print('yei')"
   ]
  },
  {
   "cell_type": "code",
   "execution_count": 56,
   "metadata": {},
   "outputs": [
    {
     "output_type": "execute_result",
     "data": {
      "text/plain": [
       "[None, '', [], 0, {}, set(), False]"
      ]
     },
     "metadata": {},
     "execution_count": 56
    }
   ],
   "source": [
    "lista = [None, str(), list(), int(), dict(), set(), bool()]\n",
    "lista"
   ]
  },
  {
   "cell_type": "code",
   "execution_count": 62,
   "metadata": {},
   "outputs": [
    {
     "output_type": "stream",
     "name": "stdout",
     "text": [
      "None\nnein\n\nnein\n[]\nnein\n0\nnein\n{}\nnein\nset()\nnein\nFalse\nnein\n"
     ]
    }
   ],
   "source": [
    "lista = [None, str(), list(), int(), dict(), set(), bool()]\n",
    "for elem in lista:\n",
    "    print(elem)\n",
    "    if elem:\n",
    "        print('yei')\n",
    "    if not(elem):\n",
    "        print('nein')"
   ]
  },
  {
   "cell_type": "code",
   "execution_count": 64,
   "metadata": {},
   "outputs": [
    {
     "output_type": "stream",
     "name": "stdout",
     "text": [
      "nein\n"
     ]
    }
   ],
   "source": [
    "if re.search('32','5464512'):\n",
    "    print('yei')\n",
    "else:\n",
    "    print('nein')    "
   ]
  },
  {
   "cell_type": "code",
   "execution_count": 67,
   "metadata": {},
   "outputs": [
    {
     "output_type": "stream",
     "name": "stdout",
     "text": [
      "Lucio\n"
     ]
    }
   ],
   "source": [
    "nombre = input()\n",
    "if nombre:\n",
    "    print(nombre)\n",
    "else:\n",
    "    print('oshe y tu nombre')    "
   ]
  },
  {
   "cell_type": "code",
   "execution_count": 68,
   "metadata": {},
   "outputs": [
    {
     "output_type": "execute_result",
     "data": {
      "text/plain": [
       "<re.Match object; span=(1, 2), match='a'>"
      ]
     },
     "metadata": {},
     "execution_count": 68
    }
   ],
   "source": [
    "# busca y te regresa si encuent algo\n",
    "re.search('a', 'faldkjf')"
   ]
  },
  {
   "cell_type": "code",
   "execution_count": 69,
   "metadata": {},
   "outputs": [
    {
     "output_type": "execute_result",
     "data": {
      "text/plain": [
       "<re.Match object; span=(0, 1), match='a'>"
      ]
     },
     "metadata": {},
     "execution_count": 69
    }
   ],
   "source": [
    "# busca un patron al inico del string\n",
    "re.match('a','afd')"
   ]
  },
  {
   "cell_type": "code",
   "execution_count": 78,
   "metadata": {},
   "outputs": [
    {
     "output_type": "execute_result",
     "data": {
      "text/plain": [
       "<re.Match object; span=(0, 9), match='65465454d'>"
      ]
     },
     "metadata": {},
     "execution_count": 78
    }
   ],
   "source": [
    "# busca que string sea igual al patron\n",
    "re.fullmatch('\\d*d','65465454d')"
   ]
  },
  {
   "cell_type": "code",
   "execution_count": 75,
   "metadata": {},
   "outputs": [
    {
     "output_type": "execute_result",
     "data": {
      "text/plain": [
       "['kjfka', 'j', 'dfk', 'djf', 'laksdfj']"
      ]
     },
     "metadata": {},
     "execution_count": 75
    }
   ],
   "source": [
    "re.split('\\d','kjfka2j5dfk6djf7laksdfj')"
   ]
  },
  {
   "cell_type": "code",
   "execution_count": 83,
   "metadata": {},
   "outputs": [
    {
     "output_type": "execute_result",
     "data": {
      "text/plain": [
       "['k', 'j', 'a', 'i', 'f']"
      ]
     },
     "metadata": {},
     "execution_count": 83
    }
   ],
   "source": [
    "# todo lo que caiga en el rango entre corchetes\n",
    "re.findall(r'[abcf-k]','kljdaifo')"
   ]
  },
  {
   "cell_type": "code",
   "execution_count": 85,
   "metadata": {},
   "outputs": [
    {
     "output_type": "execute_result",
     "data": {
      "text/plain": [
       "['k', 'j', 'a', 'i', 'f']"
      ]
     },
     "metadata": {},
     "execution_count": 85
    }
   ],
   "source": [
    "# ^ todo lo que no caiga en el rango\n",
    "re.findall(r'[abcf-k]','kljdaifo')\n"
   ]
  },
  {
   "cell_type": "code",
   "execution_count": 86,
   "metadata": {},
   "outputs": [
    {
     "output_type": "execute_result",
     "data": {
      "text/plain": [
       "107"
      ]
     },
     "metadata": {},
     "execution_count": 86
    }
   ],
   "source": [
    "ord('k')"
   ]
  },
  {
   "cell_type": "code",
   "execution_count": 87,
   "metadata": {},
   "outputs": [
    {
     "output_type": "execute_result",
     "data": {
      "text/plain": [
       "106"
      ]
     },
     "metadata": {},
     "execution_count": 87
    }
   ],
   "source": [
    "ord('j')"
   ]
  },
  {
   "source": [
    "## * lo que tenga del lado izquiero se repita sin limite"
   ],
   "cell_type": "markdown",
   "metadata": {}
  },
  {
   "cell_type": "code",
   "execution_count": 88,
   "metadata": {},
   "outputs": [
    {
     "output_type": "execute_result",
     "data": {
      "text/plain": [
       "'a*b'"
      ]
     },
     "metadata": {},
     "execution_count": 88
    }
   ],
   "source": [
    "r'a*b' # cualquier cantidad de a + una b"
   ]
  },
  {
   "cell_type": "code",
   "execution_count": 89,
   "metadata": {},
   "outputs": [
    {
     "output_type": "execute_result",
     "data": {
      "text/plain": [
       "'[afb]*b'"
      ]
     },
     "metadata": {},
     "execution_count": 89
    }
   ],
   "source": [
    "r'[afb]*b' # cualquier cantidad de a f y b y termine cona una b"
   ]
  },
  {
   "cell_type": "code",
   "execution_count": 90,
   "metadata": {},
   "outputs": [
    {
     "output_type": "execute_result",
     "data": {
      "text/plain": [
       "'[afb]+b'"
      ]
     },
     "metadata": {},
     "execution_count": 90
    }
   ],
   "source": [
    "r'[afb]+b' # debe almenos tener un valor de los corchetes y el b"
   ]
  },
  {
   "cell_type": "code",
   "execution_count": 91,
   "metadata": {},
   "outputs": [
    {
     "output_type": "execute_result",
     "data": {
      "text/plain": [
       "'a{3:4}b'"
      ]
     },
     "metadata": {},
     "execution_count": 91
    }
   ],
   "source": [
    "r'a{:4}b' # longitud de 4"
   ]
  },
  {
   "cell_type": "code",
   "execution_count": 92,
   "metadata": {},
   "outputs": [
    {
     "output_type": "execute_result",
     "data": {
      "text/plain": [
       "'.'"
      ]
     },
     "metadata": {},
     "execution_count": 92
    }
   ],
   "source": [
    "r'.' # todo"
   ]
  },
  {
   "cell_type": "code",
   "execution_count": 94,
   "metadata": {},
   "outputs": [
    {
     "output_type": "execute_result",
     "data": {
      "text/plain": [
       "'\\\\b'"
      ]
     },
     "metadata": {},
     "execution_count": 94
    }
   ],
   "source": [
    "# la r indica que son cadenas de RegEx y no de Python (no indentica las caracteres de python como \\n )\n",
    "r'\\b'"
   ]
  },
  {
   "cell_type": "code",
   "execution_count": 95,
   "metadata": {},
   "outputs": [
    {
     "output_type": "execute_result",
     "data": {
      "text/plain": [
       "'a?b'"
      ]
     },
     "metadata": {},
     "execution_count": 95
    }
   ],
   "source": [
    "# ? significa 0 o ninguna vez\n",
    "r'a?b' "
   ]
  },
  {
   "cell_type": "code",
   "execution_count": 96,
   "metadata": {},
   "outputs": [
    {
     "output_type": "execute_result",
     "data": {
      "text/plain": [
       "'[ab]+?b'"
      ]
     },
     "metadata": {},
     "execution_count": 96
    }
   ],
   "source": [
    "# ? lo convierte de ready a lasy\n",
    "# reday toma todo como cadenas más grandes\n",
    "# lasy en cunto encuentra un match, termina, y empieza una nueva busqueda\n",
    "r'[ab]+?b' "
   ]
  },
  {
   "cell_type": "code",
   "execution_count": 97,
   "metadata": {},
   "outputs": [],
   "source": [
    "numero = \"981/8492/843/910\"\n",
    "\n",
    "# (342) 4234-432-342"
   ]
  },
  {
   "cell_type": "code",
   "execution_count": 102,
   "metadata": {},
   "outputs": [
    {
     "output_type": "execute_result",
     "data": {
      "text/plain": [
       "[('981', '8492', '843', '910')]"
      ]
     },
     "metadata": {},
     "execution_count": 102
    }
   ],
   "source": [
    "re.findall('(\\d{3})/(\\d{4})/(\\d{3})/(\\d{3})', numero)"
   ]
  },
  {
   "cell_type": "code",
   "execution_count": 103,
   "metadata": {},
   "outputs": [
    {
     "output_type": "execute_result",
     "data": {
      "text/plain": [
       "'(981)8492-843-910'"
      ]
     },
     "metadata": {},
     "execution_count": 103
    }
   ],
   "source": [
    "# \n",
    "re.sub('(\\d{3})/(\\d{4})/(\\d{3})/(\\d{3})','(\\g<1>)\\g<2>-\\g<3>-\\g<4>', numero)"
   ]
  }
 ]
}