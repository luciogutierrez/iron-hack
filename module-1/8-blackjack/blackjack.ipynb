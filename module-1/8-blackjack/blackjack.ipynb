{
 "metadata": {
  "language_info": {
   "codemirror_mode": {
    "name": "ipython",
    "version": 3
   },
   "file_extension": ".py",
   "mimetype": "text/x-python",
   "name": "python",
   "nbconvert_exporter": "python",
   "pygments_lexer": "ipython3",
   "version": "3.9.1"
  },
  "orig_nbformat": 2,
  "kernelspec": {
   "name": "python391jvsc74a57bd0376f5b0795f81aa7b5d99e448d6274743a66c9892fd26cf11e505993f41df5fa",
   "display_name": "Python 3.9.1 64-bit"
  }
 },
 "nbformat": 4,
 "nbformat_minor": 2,
 "cells": [
  {
   "source": [
    "# Blackjack\n",
    "## Reglas\n",
    "### Regla 1: el 1 puede tomar el valor de 1 o 11 segun convenga.\n",
    "### Regla 2: los números 10, 11 y 12 tienen un valor de 1\n",
    "\n",
    "## Modo de juego\n",
    "### 1- El objetivo del juego es sumar las cartas y denterse cuando la suma de los cartas sea lo más cerca de 21 sin pasarse. \n",
    "### 2- Cada jugador inicia con dos cartas.\n",
    "### 3- El jugador en turno puede elegir entre sacar una nueva carta o detenerse con las cartas que tiene y sederá el turno al siguiente jugador.\n"
   ],
   "cell_type": "markdown",
   "metadata": {}
  },
  {
   "cell_type": "code",
   "execution_count": null,
   "metadata": {},
   "outputs": [],
   "source": [
    "# Head\n",
    "# Imports, Global variables, Functions\n",
    "import random"
   ]
  },
  {
   "cell_type": "code",
   "execution_count": null,
   "metadata": {},
   "outputs": [],
   "source": [
    "# reparto inicial\n",
    "def reparto_inicial():\n",
    "    return [random.randint(1,12) for num in range(2)]"
   ]
  },
  {
   "cell_type": "code",
   "execution_count": null,
   "metadata": {},
   "outputs": [],
   "source": [
    "# Nueva sacada\n",
    "def sacar_tarjeta():\n",
    "    return random.randint(1,12)"
   ]
  },
  {
   "cell_type": "code",
   "execution_count": 81,
   "metadata": {},
   "outputs": [],
   "source": [
    "def suma_gamer(gamer):\n",
    "    total = 0\n",
    "    for num in gamer:\n",
    "        if num > 9:\n",
    "            total += 10\n",
    "        else:\n",
    "            total += num\n",
    "    return total"
   ]
  },
  {
   "cell_type": "code",
   "execution_count": 90,
   "metadata": {},
   "outputs": [
    {
     "output_type": "execute_result",
     "data": {
      "text/plain": [
       "[10, 12]"
      ]
     },
     "metadata": {},
     "execution_count": 90
    }
   ],
   "source": [
    "gamer = reparto_inicial()\n",
    "gamer"
   ]
  },
  {
   "cell_type": "code",
   "execution_count": 89,
   "metadata": {},
   "outputs": [
    {
     "output_type": "stream",
     "name": "stdout",
     "text": [
      "[5, 2, 4, 6, 10, 4] 31\nPERDISTE\n"
     ]
    }
   ],
   "source": [
    "# nueva tirada\n",
    "respuesta = \"y\"\n",
    "while respuesta == \"y\":\n",
    "    respuesta = input(\"¿Quires sacar otra tarjeta? y/n\")        \n",
    "    if respuesta == \"y\":\n",
    "        gamer.append(sacar_tarjeta())\n",
    "        suma=(suma_gamer(gamer))\n",
    "        print(gamer,suma)\n",
    "        if suma > 21:\n",
    "            print(\"PERDISTE\")\n",
    "            break\n"
   ]
  },
  {
   "cell_type": "code",
   "execution_count": null,
   "metadata": {},
   "outputs": [],
   "source": []
  }
 ]
}