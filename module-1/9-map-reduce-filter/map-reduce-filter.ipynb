{
 "metadata": {
  "language_info": {
   "codemirror_mode": {
    "name": "ipython",
    "version": 3
   },
   "file_extension": ".py",
   "mimetype": "text/x-python",
   "name": "python",
   "nbconvert_exporter": "python",
   "pygments_lexer": "ipython3",
   "version": "3.9.1"
  },
  "orig_nbformat": 2,
  "kernelspec": {
   "name": "python391jvsc74a57bd0376f5b0795f81aa7b5d99e448d6274743a66c9892fd26cf11e505993f41df5fa",
   "display_name": "Python 3.9.1 64-bit"
  }
 },
 "nbformat": 4,
 "nbformat_minor": 2,
 "cells": [
  {
   "source": [
    "# Map function\n",
    "\n",
    "## return a map object (which is an iterator)\n",
    "## syntax: map( function, iterator) could be a list, tuple o dic\n"
   ],
   "cell_type": "markdown",
   "metadata": {}
  },
  {
   "cell_type": "code",
   "execution_count": 1,
   "metadata": {},
   "outputs": [],
   "source": [
    "def half(x):\n",
    "    return x/2"
   ]
  },
  {
   "cell_type": "code",
   "execution_count": 3,
   "metadata": {},
   "outputs": [
    {
     "output_type": "execute_result",
     "data": {
      "text/plain": [
       "[5.0, 6.0, 17.0, 11.5]"
      ]
     },
     "metadata": {},
     "execution_count": 3
    }
   ],
   "source": [
    "num_list = [10,12,34,23]\n",
    "list(map(half, num_list))"
   ]
  },
  {
   "cell_type": "code",
   "execution_count": null,
   "metadata": {},
   "outputs": [],
   "source": []
  },
  {
   "source": [
    "# Filter function\n",
    "\n",
    "## constructs an interator from elements of an iterable for which a function return true\n",
    "## syntax filter(function, iterable)"
   ],
   "cell_type": "markdown",
   "metadata": {}
  },
  {
   "cell_type": "code",
   "execution_count": 11,
   "metadata": {},
   "outputs": [
    {
     "output_type": "execute_result",
     "data": {
      "text/plain": [
       "[23]"
      ]
     },
     "metadata": {},
     "execution_count": 11
    }
   ],
   "source": [
    "list(filter(lambda x: x%2==1, num_list))"
   ]
  },
  {
   "cell_type": "code",
   "execution_count": 13,
   "metadata": {},
   "outputs": [
    {
     "output_type": "execute_result",
     "data": {
      "text/plain": [
       "34"
      ]
     },
     "metadata": {},
     "execution_count": 13
    }
   ],
   "source": [
    "max(num_list)"
   ]
  },
  {
   "source": [
    "# Reduce function\n",
    "\n",
    "## itera over all elements of an interable object, start with de first and second\n",
    "\n",
    "## syntax: reduce(functions, iterable)"
   ],
   "cell_type": "markdown",
   "metadata": {}
  },
  {
   "cell_type": "code",
   "execution_count": 23,
   "metadata": {},
   "outputs": [],
   "source": [
    "from functools import reduce"
   ]
  },
  {
   "cell_type": "code",
   "execution_count": 24,
   "metadata": {},
   "outputs": [
    {
     "output_type": "stream",
     "name": "stdout",
     "text": [
      "79\n"
     ]
    }
   ],
   "source": [
    "# use reduce tu compute sum of list\n",
    "print(reduce(lambda a,b: a+b, num_list))"
   ]
  },
  {
   "cell_type": "code",
   "execution_count": 25,
   "metadata": {},
   "outputs": [
    {
     "output_type": "stream",
     "name": "stdout",
     "text": [
      "34\n"
     ]
    }
   ],
   "source": [
    "# using reduce to compute maximum elemente from list\n",
    "print(reduce(lambda a,b: a if a>b else b, num_list))"
   ]
  },
  {
   "source": [
    "# pandas apply() function"
   ],
   "cell_type": "markdown",
   "metadata": {}
  },
  {
   "cell_type": "code",
   "execution_count": 27,
   "metadata": {},
   "outputs": [
    {
     "output_type": "execute_result",
     "data": {
      "text/plain": [
       "          a         b         c\n",
       "0  0.038576  0.838023  0.474442\n",
       "1  0.258593  0.325511  0.128853\n",
       "2  0.434209  0.582294  0.710835\n",
       "3  0.478293  0.331627  0.621481"
      ],
      "text/html": "<div>\n<style scoped>\n    .dataframe tbody tr th:only-of-type {\n        vertical-align: middle;\n    }\n\n    .dataframe tbody tr th {\n        vertical-align: top;\n    }\n\n    .dataframe thead th {\n        text-align: right;\n    }\n</style>\n<table border=\"1\" class=\"dataframe\">\n  <thead>\n    <tr style=\"text-align: right;\">\n      <th></th>\n      <th>a</th>\n      <th>b</th>\n      <th>c</th>\n    </tr>\n  </thead>\n  <tbody>\n    <tr>\n      <th>0</th>\n      <td>0.038576</td>\n      <td>0.838023</td>\n      <td>0.474442</td>\n    </tr>\n    <tr>\n      <th>1</th>\n      <td>0.258593</td>\n      <td>0.325511</td>\n      <td>0.128853</td>\n    </tr>\n    <tr>\n      <th>2</th>\n      <td>0.434209</td>\n      <td>0.582294</td>\n      <td>0.710835</td>\n    </tr>\n    <tr>\n      <th>3</th>\n      <td>0.478293</td>\n      <td>0.331627</td>\n      <td>0.621481</td>\n    </tr>\n  </tbody>\n</table>\n</div>"
     },
     "metadata": {},
     "execution_count": 27
    }
   ],
   "source": [
    "import numpy as np\n",
    "import pandas as pd\n",
    "\n",
    "df = pd.DataFrame(np.random.rand(4, 3), columns=['a','b','c'])\n",
    "df"
   ]
  },
  {
   "cell_type": "code",
   "execution_count": 28,
   "metadata": {},
   "outputs": [
    {
     "output_type": "execute_result",
     "data": {
      "text/plain": [
       "          a         b         c\n",
       "0  0.019288  0.419011  0.237221\n",
       "1  0.129296  0.162755  0.064427\n",
       "2  0.217105  0.291147  0.355418\n",
       "3  0.239147  0.165814  0.310740"
      ],
      "text/html": "<div>\n<style scoped>\n    .dataframe tbody tr th:only-of-type {\n        vertical-align: middle;\n    }\n\n    .dataframe tbody tr th {\n        vertical-align: top;\n    }\n\n    .dataframe thead th {\n        text-align: right;\n    }\n</style>\n<table border=\"1\" class=\"dataframe\">\n  <thead>\n    <tr style=\"text-align: right;\">\n      <th></th>\n      <th>a</th>\n      <th>b</th>\n      <th>c</th>\n    </tr>\n  </thead>\n  <tbody>\n    <tr>\n      <th>0</th>\n      <td>0.019288</td>\n      <td>0.419011</td>\n      <td>0.237221</td>\n    </tr>\n    <tr>\n      <th>1</th>\n      <td>0.129296</td>\n      <td>0.162755</td>\n      <td>0.064427</td>\n    </tr>\n    <tr>\n      <th>2</th>\n      <td>0.217105</td>\n      <td>0.291147</td>\n      <td>0.355418</td>\n    </tr>\n    <tr>\n      <th>3</th>\n      <td>0.239147</td>\n      <td>0.165814</td>\n      <td>0.310740</td>\n    </tr>\n  </tbody>\n</table>\n</div>"
     },
     "metadata": {},
     "execution_count": 28
    }
   ],
   "source": [
    "df.apply(half)"
   ]
  },
  {
   "cell_type": "code",
   "execution_count": 29,
   "metadata": {},
   "outputs": [],
   "source": [
    "# doing a function to apply in pandas df\n",
    "def range_func(x):\n",
    "    return max(x) - min(x)"
   ]
  },
  {
   "cell_type": "code",
   "execution_count": 30,
   "metadata": {},
   "outputs": [
    {
     "output_type": "execute_result",
     "data": {
      "text/plain": [
       "a    0.439717\n",
       "b    0.512512\n",
       "c    0.581982\n",
       "dtype: float64"
      ]
     },
     "metadata": {},
     "execution_count": 30
    }
   ],
   "source": [
    "df.apply(range_func)"
   ]
  }
 ]
}