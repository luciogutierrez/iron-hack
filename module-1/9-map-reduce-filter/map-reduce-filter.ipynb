{
 "metadata": {
  "language_info": {
   "codemirror_mode": {
    "name": "ipython",
    "version": 3
   },
   "file_extension": ".py",
   "mimetype": "text/x-python",
   "name": "python",
   "nbconvert_exporter": "python",
   "pygments_lexer": "ipython3",
   "version": "3.9.1"
  },
  "orig_nbformat": 2,
  "kernelspec": {
   "name": "python391jvsc74a57bd0376f5b0795f81aa7b5d99e448d6274743a66c9892fd26cf11e505993f41df5fa",
   "display_name": "Python 3.9.1 64-bit"
  }
 },
 "nbformat": 4,
 "nbformat_minor": 2,
 "cells": [
  {
   "source": [
    "# Map function\n",
    "\n",
    "## return a map object (which is an iterator)\n",
    "## syntax: map(function, iterator) could be a list, tuple o dic\n",
    "### Recibe una función y una secuencia (estructura de datos) y le aplica la función a cada elemento"
   ],
   "cell_type": "markdown",
   "metadata": {}
  },
  {
   "cell_type": "code",
   "execution_count": 1,
   "metadata": {},
   "outputs": [],
   "source": [
    "def half(x):\n",
    "    return x/2"
   ]
  },
  {
   "cell_type": "code",
   "execution_count": 3,
   "metadata": {},
   "outputs": [
    {
     "output_type": "execute_result",
     "data": {
      "text/plain": [
       "[5.0, 6.0, 17.0, 11.5]"
      ]
     },
     "metadata": {},
     "execution_count": 3
    }
   ],
   "source": [
    "num_list = [10,12,34,23]\n",
    "list(map(half, num_list))"
   ]
  },
  {
   "cell_type": "code",
   "execution_count": 36,
   "metadata": {},
   "outputs": [
    {
     "output_type": "execute_result",
     "data": {
      "text/plain": [
       "[(True, 'Las funciones lambda son funciones anonimas'),\n",
       " (False, 'es decir, no tienen un nombre.'),\n",
       " (False, 'Funciones son objetos en Python.')]"
      ]
     },
     "metadata": {},
     "execution_count": 36
    }
   ],
   "source": [
    "txt = ['Las funciones lambda son funciones anonimas',\n",
    "       'es decir, no tienen un nombre.',\n",
    "       'Funciones son objetos en Python.']\n",
    "\n",
    "anonimato = list(map(lambda s:(True,s) if 'anonimas' in s else (False,s), txt))\n",
    "anonimato"
   ]
  },
  {
   "cell_type": "code",
   "execution_count": 37,
   "metadata": {},
   "outputs": [
    {
     "output_type": "stream",
     "name": "stdout",
     "text": [
      "[['Las', 'funciones', 'lambda', 'son', 'funciones', 'anonimas'], ['es', 'decir,', 'no', 'tienen', 'un', 'nombre.'], ['Funciones', 'son', 'objetos', 'en', 'Python.']]\n"
     ]
    }
   ],
   "source": [
    "slicing = list(map(lambda s: s.split(), txt))\n",
    "print(slicing)"
   ]
  },
  {
   "cell_type": "code",
   "execution_count": 40,
   "metadata": {},
   "outputs": [
    {
     "output_type": "stream",
     "name": "stdout",
     "text": [
      "[['Las', 'funciones', 'lambda', 'son', 'funciones', 'anonimas'], ['es', 'decir,', 'no', 'tienen', 'un', 'nombre.'], ['Funciones', 'son', 'objetos', 'en', 'Python.']]\n"
     ]
    }
   ],
   "source": [
    "print(list(map(str.split,txt)))"
   ]
  },
  {
   "cell_type": "code",
   "execution_count": 42,
   "metadata": {},
   "outputs": [
    {
     "output_type": "stream",
     "name": "stdout",
     "text": [
      "['Las funciones lambda son funciones anonimas', 'Es decir, no tienen un nombre.', 'Funciones son objetos en Python.']\n"
     ]
    }
   ],
   "source": [
    "upper = list(map(lambda s: s[0].upper() + s[1:], txt))\n",
    "print(upper)"
   ]
  },
  {
   "cell_type": "code",
   "execution_count": 45,
   "metadata": {},
   "outputs": [
    {
     "output_type": "stream",
     "name": "stdout",
     "text": [
      "[1, 4, 9, 16, 25]\n"
     ]
    }
   ],
   "source": [
    "def squeare(num):\n",
    "    return num**2\n",
    "num=[1,2,3,4,5]\n",
    "cuadrado = list(map(squeare, num))\n",
    "print(cuadrado)"
   ]
  },
  {
   "cell_type": "code",
   "execution_count": 46,
   "metadata": {},
   "outputs": [
    {
     "output_type": "stream",
     "name": "stdout",
     "text": [
      "1\n4\n9\n16\n25\n"
     ]
    }
   ],
   "source": [
    "# regresar cada elemento en lugar de una lista\n",
    "for i in map(squeare, num):\n",
    "    print(i)"
   ]
  },
  {
   "cell_type": "code",
   "execution_count": 52,
   "metadata": {},
   "outputs": [],
   "source": [
    "def par_char(txt):\n",
    "    if len(txt)%2 == 0 :\n",
    "        return 'PAR'\n",
    "    else:\n",
    "        return 'NO PAR'"
   ]
  },
  {
   "cell_type": "code",
   "execution_count": 49,
   "metadata": {},
   "outputs": [
    {
     "output_type": "execute_result",
     "data": {
      "text/plain": [
       "14"
      ]
     },
     "metadata": {},
     "execution_count": 49
    }
   ],
   "source": [
    "len('Soy ironhacker')"
   ]
  },
  {
   "cell_type": "code",
   "execution_count": 53,
   "metadata": {},
   "outputs": [
    {
     "output_type": "stream",
     "name": "stdout",
     "text": [
      "['NO PAR', 'PAR', 'PAR']\n"
     ]
    }
   ],
   "source": [
    "string_pares = list(map(par_char, txt))\n",
    "print(string_pares)"
   ]
  },
  {
   "cell_type": "code",
   "execution_count": 11,
   "metadata": {},
   "outputs": [],
   "source": [
    "def multiplica(num):\n",
    "    return lambda x: x*num"
   ]
  },
  {
   "cell_type": "code",
   "execution_count": 12,
   "metadata": {},
   "outputs": [
    {
     "output_type": "execute_result",
     "data": {
      "text/plain": [
       "[200, 300, 400, 500]"
      ]
     },
     "metadata": {},
     "execution_count": 12
    }
   ],
   "source": [
    "lista = [20,30,40,50]\n",
    "por10 = multiplica(10)\n",
    "list(map(por10, lista))"
   ]
  },
  {
   "cell_type": "code",
   "execution_count": 15,
   "metadata": {},
   "outputs": [],
   "source": [
    "def multiplica_varios(elem1, elem2, elem3):\n",
    "    return elem1*elem2*elem3"
   ]
  },
  {
   "cell_type": "code",
   "execution_count": 16,
   "metadata": {},
   "outputs": [
    {
     "output_type": "stream",
     "name": "stdout",
     "text": [
      "[1000, 3150, 7200, 13750]\n"
     ]
    }
   ],
   "source": [
    "lista1 = [25,35,45,55]\n",
    "lista2 = [20,30,40,50]\n",
    "lista3 = [2,3,4,5]\n",
    "\n",
    "resultado = list(map(multiplica_varios,lista1,lista2,lista3))\n",
    "print(resultado)"
   ]
  },
  {
   "cell_type": "code",
   "execution_count": 17,
   "metadata": {},
   "outputs": [],
   "source": [
    "temps = [(\"Alemania\", 29), ('Mexico', 28), \n",
    "         ('Japon', 40), ('Korea', 17),\n",
    "         ('España', 32), ('Argentina', 11)\n",
    "         ]"
   ]
  },
  {
   "cell_type": "code",
   "execution_count": 18,
   "metadata": {},
   "outputs": [
    {
     "output_type": "execute_result",
     "data": {
      "text/plain": [
       "[('Berlin', 84.2),\n",
       " ('Mexico', 82.4),\n",
       " ('Japon', 104.0),\n",
       " ('Korea', 62.6),\n",
       " ('España', 89.6),\n",
       " ('Argentina', 51.8)]"
      ]
     },
     "metadata": {},
     "execution_count": 18
    }
   ],
   "source": [
    "# Convertir a Fahernheit\n",
    "fahrenheit = lambda t: (t[0],(9/5)*t[1]+32)\n",
    "list(map(fahrenheit,temps))\n"
   ]
  },
  {
   "cell_type": "code",
   "execution_count": 24,
   "metadata": {},
   "outputs": [],
   "source": [
    "from statistics import mean, median, mode\n",
    "from random import choice"
   ]
  },
  {
   "cell_type": "code",
   "execution_count": 27,
   "metadata": {},
   "outputs": [],
   "source": [
    "# definición de flotantes\n",
    "flotantes =[1.3,6.5,4.3,12.5]\n",
    "# genramos datos, elegir de flotantes 50 numeros aleatorios\n",
    "data = [choice(flotantes) for i in range(50)]"
   ]
  },
  {
   "cell_type": "code",
   "execution_count": 29,
   "metadata": {},
   "outputs": [],
   "source": [
    "avg = mean(data)\n",
    "mdn = median(data)\n",
    "mda = mode(data)"
   ]
  },
  {
   "cell_type": "code",
   "execution_count": 30,
   "metadata": {},
   "outputs": [
    {
     "output_type": "stream",
     "name": "stdout",
     "text": [
      "6.252\n6.5\n6.5\n"
     ]
    }
   ],
   "source": [
    "print(avg)\n",
    "print(mdn)\n",
    "print(mda)"
   ]
  },
  {
   "cell_type": "code",
   "execution_count": 31,
   "metadata": {},
   "outputs": [
    {
     "output_type": "execute_result",
     "data": {
      "text/plain": [
       "[12.5, 12.5, 12.5, 12.5, 12.5, 12.5, 12.5, 12.5, 12.5, 12.5, 12.5, 12.5]"
      ]
     },
     "metadata": {},
     "execution_count": 31
    }
   ],
   "source": [
    "list(filter(lambda x: x>mda, data))"
   ]
  },
  {
   "cell_type": "code",
   "execution_count": 33,
   "metadata": {},
   "outputs": [
    {
     "output_type": "execute_result",
     "data": {
      "text/plain": [
       "['ferrari', 'mercedez', 'audi']"
      ]
     },
     "metadata": {},
     "execution_count": 33
    }
   ],
   "source": [
    "vacios = [\"\", \"ferrari\",\"mercedez\",\"audi\"]\n",
    "list(filter(None, vacios))"
   ]
  },
  {
   "cell_type": "code",
   "execution_count": 34,
   "metadata": {},
   "outputs": [
    {
     "output_type": "execute_result",
     "data": {
      "text/plain": [
       "[33, 12]"
      ]
     },
     "metadata": {},
     "execution_count": 34
    }
   ],
   "source": [
    "numeros_2 = [443,535351,33,12,1,5453]\n",
    "list(filter(lambda x: x%2==0 or x%3==0, numeros_2))"
   ]
  },
  {
   "source": [
    "# Filter function\n",
    "\n",
    "## constructs an interator from elements of an iterable for which a function return true\n",
    "## syntax filter(function, iterable)"
   ],
   "cell_type": "markdown",
   "metadata": {}
  },
  {
   "cell_type": "code",
   "execution_count": 11,
   "metadata": {},
   "outputs": [
    {
     "output_type": "execute_result",
     "data": {
      "text/plain": [
       "[23]"
      ]
     },
     "metadata": {},
     "execution_count": 11
    }
   ],
   "source": [
    "list(filter(lambda x: x%2==1, num_list))"
   ]
  },
  {
   "cell_type": "code",
   "execution_count": 13,
   "metadata": {},
   "outputs": [
    {
     "output_type": "execute_result",
     "data": {
      "text/plain": [
       "34"
      ]
     },
     "metadata": {},
     "execution_count": 13
    }
   ],
   "source": [
    "max(num_list)"
   ]
  },
  {
   "cell_type": "code",
   "execution_count": 19,
   "metadata": {},
   "outputs": [],
   "source": [
    "def revisamos_par(num):\n",
    "    return num%2 ==0"
   ]
  },
  {
   "cell_type": "code",
   "execution_count": 20,
   "metadata": {},
   "outputs": [],
   "source": [
    "nums = [1,54,643,212,665,7753]"
   ]
  },
  {
   "cell_type": "code",
   "execution_count": 21,
   "metadata": {},
   "outputs": [
    {
     "output_type": "execute_result",
     "data": {
      "text/plain": [
       "[54, 212]"
      ]
     },
     "metadata": {},
     "execution_count": 21
    }
   ],
   "source": [
    "list(filter(revisamos_par, nums))"
   ]
  },
  {
   "source": [
    "# Reduce function\n",
    "\n",
    "## itera over all elements of an interable object, start with de first and second\n",
    "\n",
    "## syntax: reduce(functions, iterable)"
   ],
   "cell_type": "markdown",
   "metadata": {}
  },
  {
   "cell_type": "code",
   "execution_count": 23,
   "metadata": {},
   "outputs": [],
   "source": [
    "from functools import reduce"
   ]
  },
  {
   "cell_type": "code",
   "execution_count": 24,
   "metadata": {},
   "outputs": [
    {
     "output_type": "stream",
     "name": "stdout",
     "text": [
      "79\n"
     ]
    }
   ],
   "source": [
    "# use reduce tu compute sum of list\n",
    "print(reduce(lambda a,b: a+b, num_list))"
   ]
  },
  {
   "cell_type": "code",
   "execution_count": 25,
   "metadata": {},
   "outputs": [
    {
     "output_type": "stream",
     "name": "stdout",
     "text": [
      "34\n"
     ]
    }
   ],
   "source": [
    "# using reduce to compute maximum elemente from list\n",
    "print(reduce(lambda a,b: a if a>b else b, num_list))"
   ]
  },
  {
   "cell_type": "code",
   "execution_count": 38,
   "metadata": {},
   "outputs": [
    {
     "output_type": "execute_result",
     "data": {
      "text/plain": [
       "[0, 1, 2, 3, 4, 5, 6, 7, 8, 9]"
      ]
     },
     "metadata": {},
     "execution_count": 38
    }
   ],
   "source": [
    "numeros = list(range(10))\n",
    "numeros"
   ]
  },
  {
   "cell_type": "code",
   "execution_count": 40,
   "metadata": {},
   "outputs": [
    {
     "output_type": "stream",
     "name": "stdout",
     "text": [
      "1\n-1\n2\n-3\n3\n-6\n4\n-10\n5\n-15\n6\n-21\n7\n-28\n8\n-36\n9\n-45\n"
     ]
    }
   ],
   "source": [
    "x = numeros[0]\n",
    "for i in numeros[1:]:\n",
    "    x = x - i\n",
    "    print(i)\n",
    "    print(x)"
   ]
  },
  {
   "cell_type": "code",
   "execution_count": 42,
   "metadata": {},
   "outputs": [
    {
     "output_type": "execute_result",
     "data": {
      "text/plain": [
       "-45"
      ]
     },
     "metadata": {},
     "execution_count": 42
    }
   ],
   "source": [
    "from functools import reduce\n",
    "reduce(lambda x,y: x-y, numeros)"
   ]
  },
  {
   "cell_type": "code",
   "execution_count": 43,
   "metadata": {},
   "outputs": [
    {
     "output_type": "stream",
     "name": "stdout",
     "text": [
      "10000\n"
     ]
    }
   ],
   "source": [
    "diez = [10,10,10,10]\n",
    "a = 1\n",
    "\n",
    "for i in diez:\n",
    "    a= i*a\n",
    "print(a)\n"
   ]
  },
  {
   "cell_type": "code",
   "execution_count": 44,
   "metadata": {},
   "outputs": [
    {
     "output_type": "execute_result",
     "data": {
      "text/plain": [
       "10000"
      ]
     },
     "metadata": {},
     "execution_count": 44
    }
   ],
   "source": [
    "reduce(lambda x,y : x*y, diez)"
   ]
  },
  {
   "cell_type": "code",
   "execution_count": 45,
   "metadata": {},
   "outputs": [
    {
     "output_type": "execute_result",
     "data": {
      "text/plain": [
       "15"
      ]
     },
     "metadata": {},
     "execution_count": 45
    }
   ],
   "source": [
    "reduce(lambda x,y: x+y, [1,2,3,4,5])"
   ]
  },
  {
   "cell_type": "code",
   "execution_count": 47,
   "metadata": {},
   "outputs": [],
   "source": [
    "# 5! = 5*4*3*2*1\n",
    "def factorial(num):\n",
    "    return reduce(lambda x,y: x*y, [i for i in range(1,num+1)])"
   ]
  },
  {
   "cell_type": "code",
   "execution_count": 49,
   "metadata": {},
   "outputs": [
    {
     "output_type": "execute_result",
     "data": {
      "text/plain": [
       "120"
      ]
     },
     "metadata": {},
     "execution_count": 49
    }
   ],
   "source": [
    "factorial(5)"
   ]
  },
  {
   "cell_type": "code",
   "execution_count": 53,
   "metadata": {},
   "outputs": [
    {
     "output_type": "execute_result",
     "data": {
      "text/plain": [
       "'Ironhackers loves math loves data loves learning'"
      ]
     },
     "metadata": {},
     "execution_count": 53
    }
   ],
   "source": [
    "ultimo = reduce(lambda x,y: x+\" loves \"+y, ['math', 'data','learning'],\"Ironhackers\")\n",
    "ultimo\n"
   ]
  },
  {
   "source": [
    "### x=\"Ironhackers, y=” math: return \"Ironhacker loves math“ \\\\\n",
    "### x=\"Ironhackers loves math, y=data: return ”Ironhacker loves math loves data\" \\\\\n",
    "### x=”Ironhacker loves math loves data“, y=”learning” : return ”Ironhacker loves math loves data loves learning"
   ],
   "cell_type": "markdown",
   "metadata": {}
  },
  {
   "source": [
    "# Apply en pandas"
   ],
   "cell_type": "markdown",
   "metadata": {}
  },
  {
   "cell_type": "code",
   "execution_count": 27,
   "metadata": {},
   "outputs": [
    {
     "output_type": "execute_result",
     "data": {
      "text/plain": [
       "          a         b         c\n",
       "0  0.038576  0.838023  0.474442\n",
       "1  0.258593  0.325511  0.128853\n",
       "2  0.434209  0.582294  0.710835\n",
       "3  0.478293  0.331627  0.621481"
      ],
      "text/html": "<div>\n<style scoped>\n    .dataframe tbody tr th:only-of-type {\n        vertical-align: middle;\n    }\n\n    .dataframe tbody tr th {\n        vertical-align: top;\n    }\n\n    .dataframe thead th {\n        text-align: right;\n    }\n</style>\n<table border=\"1\" class=\"dataframe\">\n  <thead>\n    <tr style=\"text-align: right;\">\n      <th></th>\n      <th>a</th>\n      <th>b</th>\n      <th>c</th>\n    </tr>\n  </thead>\n  <tbody>\n    <tr>\n      <th>0</th>\n      <td>0.038576</td>\n      <td>0.838023</td>\n      <td>0.474442</td>\n    </tr>\n    <tr>\n      <th>1</th>\n      <td>0.258593</td>\n      <td>0.325511</td>\n      <td>0.128853</td>\n    </tr>\n    <tr>\n      <th>2</th>\n      <td>0.434209</td>\n      <td>0.582294</td>\n      <td>0.710835</td>\n    </tr>\n    <tr>\n      <th>3</th>\n      <td>0.478293</td>\n      <td>0.331627</td>\n      <td>0.621481</td>\n    </tr>\n  </tbody>\n</table>\n</div>"
     },
     "metadata": {},
     "execution_count": 27
    }
   ],
   "source": [
    "import numpy as np\n",
    "import pandas as pd\n",
    "\n",
    "df = pd.DataFrame(np.random.rand(4, 3), columns=['a','b','c'])\n",
    "df"
   ]
  },
  {
   "cell_type": "code",
   "execution_count": 28,
   "metadata": {},
   "outputs": [
    {
     "output_type": "execute_result",
     "data": {
      "text/plain": [
       "          a         b         c\n",
       "0  0.019288  0.419011  0.237221\n",
       "1  0.129296  0.162755  0.064427\n",
       "2  0.217105  0.291147  0.355418\n",
       "3  0.239147  0.165814  0.310740"
      ],
      "text/html": "<div>\n<style scoped>\n    .dataframe tbody tr th:only-of-type {\n        vertical-align: middle;\n    }\n\n    .dataframe tbody tr th {\n        vertical-align: top;\n    }\n\n    .dataframe thead th {\n        text-align: right;\n    }\n</style>\n<table border=\"1\" class=\"dataframe\">\n  <thead>\n    <tr style=\"text-align: right;\">\n      <th></th>\n      <th>a</th>\n      <th>b</th>\n      <th>c</th>\n    </tr>\n  </thead>\n  <tbody>\n    <tr>\n      <th>0</th>\n      <td>0.019288</td>\n      <td>0.419011</td>\n      <td>0.237221</td>\n    </tr>\n    <tr>\n      <th>1</th>\n      <td>0.129296</td>\n      <td>0.162755</td>\n      <td>0.064427</td>\n    </tr>\n    <tr>\n      <th>2</th>\n      <td>0.217105</td>\n      <td>0.291147</td>\n      <td>0.355418</td>\n    </tr>\n    <tr>\n      <th>3</th>\n      <td>0.239147</td>\n      <td>0.165814</td>\n      <td>0.310740</td>\n    </tr>\n  </tbody>\n</table>\n</div>"
     },
     "metadata": {},
     "execution_count": 28
    }
   ],
   "source": [
    "df.apply(half)"
   ]
  },
  {
   "cell_type": "code",
   "execution_count": 29,
   "metadata": {},
   "outputs": [],
   "source": [
    "# doing a function to apply in pandas df\n",
    "def range_func(x):\n",
    "    return max(x) - min(x)"
   ]
  },
  {
   "cell_type": "code",
   "execution_count": 30,
   "metadata": {},
   "outputs": [
    {
     "output_type": "execute_result",
     "data": {
      "text/plain": [
       "a    0.439717\n",
       "b    0.512512\n",
       "c    0.581982\n",
       "dtype: float64"
      ]
     },
     "metadata": {},
     "execution_count": 30
    }
   ],
   "source": [
    "df.apply(range_func)"
   ]
  }
 ]
}