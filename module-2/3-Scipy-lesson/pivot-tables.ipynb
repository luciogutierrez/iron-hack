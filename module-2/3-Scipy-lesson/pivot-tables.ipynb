{
 "metadata": {
  "language_info": {
   "codemirror_mode": {
    "name": "ipython",
    "version": 3
   },
   "file_extension": ".py",
   "mimetype": "text/x-python",
   "name": "python",
   "nbconvert_exporter": "python",
   "pygments_lexer": "ipython3",
   "version": "3.9.5"
  },
  "orig_nbformat": 2,
  "kernelspec": {
   "name": "python395jvsc74a57bd0376f5b0795f81aa7b5d99e448d6274743a66c9892fd26cf11e505993f41df5fa",
   "display_name": "Python 3.9.5 64-bit"
  }
 },
 "nbformat": 4,
 "nbformat_minor": 2,
 "cells": [
  {
   "cell_type": "code",
   "execution_count": 1,
   "metadata": {},
   "outputs": [],
   "source": [
    "import numpy as np\n",
    "import pandas as pd\n"
   ]
  },
  {
   "cell_type": "code",
   "execution_count": 46,
   "metadata": {},
   "outputs": [
    {
     "output_type": "stream",
     "name": "stdout",
     "text": [
      "{'encoding': 'ISO-8859-1', 'confidence': 0.73, 'language': ''}\n"
     ]
    }
   ],
   "source": [
    "\n",
    "import chardet\n",
    "with open ('../../data-sets/denue_inegi_01_.csv', 'rb') as rawdata: \n",
    "  result = chardet.detect(rawdata.read(1000))\n",
    "print (result)"
   ]
  },
  {
   "cell_type": "code",
   "execution_count": 47,
   "metadata": {},
   "outputs": [
    {
     "output_type": "stream",
     "name": "stderr",
     "text": [
      "C:\\Users\\lgutierrez\\AppData\\Local\\Programs\\Python\\Python39\\lib\\site-packages\\IPython\\core\\interactiveshell.py:3155: DtypeWarning: Columns (34) have mixed types.Specify dtype option on import or set low_memory=False.\n  has_raised = await self.run_ast_nodes(code_ast.body, cell_name,\n"
     ]
    }
   ],
   "source": [
    "df1 = pd.read_csv('../../data-sets/denue_inegi_01_.csv', encoding='ISO-8859-1')\n",
    "df2 = pd.read_csv('../../data-sets/denue_inegi_02_.csv', encoding='ISO-8859-1')\n",
    "df3 = pd.read_csv('../../data-sets/denue_inegi_03_.csv', encoding='ISO-8859-1')\n",
    "df4 = pd.read_csv('../../data-sets/denue_inegi_04_.csv', encoding='ISO-8859-1')\n",
    "df5 = pd.read_csv('../../data-sets/denue_inegi_05_.csv', encoding='ISO-8859-1')"
   ]
  },
  {
   "cell_type": "code",
   "execution_count": 48,
   "metadata": {},
   "outputs": [
    {
     "output_type": "execute_result",
     "data": {
      "text/plain": [
       "      per_ocupacion                        nom_estab  \\\n",
       "0  31 a 50 personas  AGROPECUARIA CHARCOS DE QUEZADA   \n",
       "1    0 a 5 personas        AGROPECUARIO LOS ALAMITOS   \n",
       "\n",
       "                                          raz_social  codigo_act  \\\n",
       "0  AGROPECUARIA CHARCOS DE QUEZADA SOCIEDAD DE PR...      115119   \n",
       "1                                                NaN      115119   \n",
       "\n",
       "                                        nombre_act tipo_vial  numero_ext  \\\n",
       "0  Otros servicios relacionados con la agricultura   AVENIDA       602.0   \n",
       "1  Otros servicios relacionados con la agricultura     CALLE       103.0   \n",
       "\n",
       "               nom_vial tipo_v_e_1         nom_v_e_1  ...       localidad  \\\n",
       "0           UNIVERSIDAD      CALLE   BENJAMÍN MÉNDEZ  ...  Aguascalientes   \n",
       "1  J. ENCARNACION PAYEN      CALLE  JARDINES ETERNOS  ...  Aguascalientes   \n",
       "\n",
       "  ageb manzana      telefono                    correoelec  www tipoUniEco  \\\n",
       "0  233       9  4.492854e+09  MICHAEL.GALINDO@UGASA.COM.MX  NaN       Fijo   \n",
       "1  322      18  4.499960e+09                           NaN  NaN       Fijo   \n",
       "\n",
       "     latitud    longitud fecha_alta  \n",
       "0  21.906992 -102.309807    2019-04  \n",
       "1  21.889926 -102.314009    2019-11  \n",
       "\n",
       "[2 rows x 41 columns]"
      ],
      "text/html": "<div>\n<style scoped>\n    .dataframe tbody tr th:only-of-type {\n        vertical-align: middle;\n    }\n\n    .dataframe tbody tr th {\n        vertical-align: top;\n    }\n\n    .dataframe thead th {\n        text-align: right;\n    }\n</style>\n<table border=\"1\" class=\"dataframe\">\n  <thead>\n    <tr style=\"text-align: right;\">\n      <th></th>\n      <th>per_ocupacion</th>\n      <th>nom_estab</th>\n      <th>raz_social</th>\n      <th>codigo_act</th>\n      <th>nombre_act</th>\n      <th>tipo_vial</th>\n      <th>numero_ext</th>\n      <th>nom_vial</th>\n      <th>tipo_v_e_1</th>\n      <th>nom_v_e_1</th>\n      <th>...</th>\n      <th>localidad</th>\n      <th>ageb</th>\n      <th>manzana</th>\n      <th>telefono</th>\n      <th>correoelec</th>\n      <th>www</th>\n      <th>tipoUniEco</th>\n      <th>latitud</th>\n      <th>longitud</th>\n      <th>fecha_alta</th>\n    </tr>\n  </thead>\n  <tbody>\n    <tr>\n      <th>0</th>\n      <td>31 a 50 personas</td>\n      <td>AGROPECUARIA CHARCOS DE QUEZADA</td>\n      <td>AGROPECUARIA CHARCOS DE QUEZADA SOCIEDAD DE PR...</td>\n      <td>115119</td>\n      <td>Otros servicios relacionados con la agricultura</td>\n      <td>AVENIDA</td>\n      <td>602.0</td>\n      <td>UNIVERSIDAD</td>\n      <td>CALLE</td>\n      <td>BENJAMÍN MÉNDEZ</td>\n      <td>...</td>\n      <td>Aguascalientes</td>\n      <td>233</td>\n      <td>9</td>\n      <td>4.492854e+09</td>\n      <td>MICHAEL.GALINDO@UGASA.COM.MX</td>\n      <td>NaN</td>\n      <td>Fijo</td>\n      <td>21.906992</td>\n      <td>-102.309807</td>\n      <td>2019-04</td>\n    </tr>\n    <tr>\n      <th>1</th>\n      <td>0 a 5 personas</td>\n      <td>AGROPECUARIO LOS ALAMITOS</td>\n      <td>NaN</td>\n      <td>115119</td>\n      <td>Otros servicios relacionados con la agricultura</td>\n      <td>CALLE</td>\n      <td>103.0</td>\n      <td>J. ENCARNACION PAYEN</td>\n      <td>CALLE</td>\n      <td>JARDINES ETERNOS</td>\n      <td>...</td>\n      <td>Aguascalientes</td>\n      <td>322</td>\n      <td>18</td>\n      <td>4.499960e+09</td>\n      <td>NaN</td>\n      <td>NaN</td>\n      <td>Fijo</td>\n      <td>21.889926</td>\n      <td>-102.314009</td>\n      <td>2019-11</td>\n    </tr>\n  </tbody>\n</table>\n<p>2 rows × 41 columns</p>\n</div>"
     },
     "metadata": {},
     "execution_count": 48
    }
   ],
   "source": [
    "df1.head(2)"
   ]
  },
  {
   "cell_type": "code",
   "execution_count": 49,
   "metadata": {},
   "outputs": [],
   "source": [
    "df1 = df1.reindex(sorted(df1.columns), axis=1)\n",
    "df2 = df2.reindex(sorted(df1.columns), axis=1)\n",
    "df3 = df3.reindex(sorted(df1.columns), axis=1)\n",
    "df4 = df4.reindex(sorted(df1.columns), axis=1)\n",
    "df5 = df5.reindex(sorted(df1.columns), axis=1)"
   ]
  },
  {
   "cell_type": "code",
   "execution_count": 50,
   "metadata": {},
   "outputs": [
    {
     "output_type": "execute_result",
     "data": {
      "text/plain": [
       "array([ True,  True,  True,  True,  True,  True,  True,  True,  True,\n",
       "        True,  True,  True,  True,  True,  True,  True,  True,  True,\n",
       "        True,  True,  True,  True,  True,  True,  True,  True,  True,\n",
       "        True,  True,  True,  True,  True,  True,  True,  True,  True,\n",
       "        True,  True,  True,  True,  True])"
      ]
     },
     "metadata": {},
     "execution_count": 50
    }
   ],
   "source": [
    "df1.columns == df2.columns"
   ]
  },
  {
   "cell_type": "code",
   "execution_count": 51,
   "metadata": {},
   "outputs": [
    {
     "output_type": "execute_result",
     "data": {
      "text/plain": [
       "Index([], dtype='object')"
      ]
     },
     "metadata": {},
     "execution_count": 51
    }
   ],
   "source": [
    "df1_columns = df1.columns\n",
    "df2_columns = df2.columns\n",
    "df1_columns.difference(df2_columns)"
   ]
  },
  {
   "cell_type": "code",
   "execution_count": 52,
   "metadata": {},
   "outputs": [
    {
     "output_type": "execute_result",
     "data": {
      "text/plain": [
       "array([ True,  True,  True,  True,  True,  True,  True,  True,  True,\n",
       "        True,  True,  True,  True,  True,  True,  True,  True,  True,\n",
       "        True,  True,  True,  True,  True,  True,  True,  True,  True,\n",
       "        True,  True,  True,  True,  True,  True,  True,  True,  True,\n",
       "        True,  True,  True,  True,  True])"
      ]
     },
     "metadata": {},
     "execution_count": 52
    }
   ],
   "source": [
    "df1.columns == df5.columns"
   ]
  },
  {
   "cell_type": "code",
   "execution_count": 53,
   "metadata": {},
   "outputs": [
    {
     "output_type": "execute_result",
     "data": {
      "text/plain": [
       "        ageb  cod_postal codigo_act                      correoelec  cve_ent  \\\n",
       "0        233     20130.0     115119    MICHAEL.GALINDO@UGASA.COM.MX        1   \n",
       "1        322     20040.0     115119                             NaN        1   \n",
       "2       1068     20346.0     114119                             NaN        1   \n",
       "3         78     20437.0     112512                             NaN        1   \n",
       "4         69     20336.0     112512                             NaN        1   \n",
       "...      ...         ...        ...                             ...      ...   \n",
       "113717  0176     26170.0     931610                             NaN        5   \n",
       "113718  1773     26262.0     931610  SUPERVISION.ACU420@HOTMAIL.COM        5   \n",
       "113719  0038     27800.0     931610                             NaN        5   \n",
       "113720  095A     27805.0     931610                             NaN        5   \n",
       "113721  0447     26767.0     931610                             NaN        5   \n",
       "\n",
       "        cve_loc  cve_mun             edificio  edificio_e  \\\n",
       "0             1        1                  NaN         NaN   \n",
       "1             1        1                  NaN         NaN   \n",
       "2           127        1                  NaN         NaN   \n",
       "3           239        7                  NaN         NaN   \n",
       "4           272       10                  NaN         NaN   \n",
       "...         ...      ...                  ...         ...   \n",
       "113717        1       22                  NaN         NaN   \n",
       "113718        1        2                  NaN         NaN   \n",
       "113719        1       33  EDIFICIO SIN NOMBRE         1.0   \n",
       "113720        1       33                  NaN         NaN   \n",
       "113721        1       28                  NaN         NaN   \n",
       "\n",
       "                     entidad  ...  \\\n",
       "0             AGUASCALIENTES  ...   \n",
       "1             AGUASCALIENTES  ...   \n",
       "2             AGUASCALIENTES  ...   \n",
       "3             AGUASCALIENTES  ...   \n",
       "4             AGUASCALIENTES  ...   \n",
       "...                      ...  ...   \n",
       "113717  COAHUILA DE ZARAGOZA  ...   \n",
       "113718  COAHUILA DE ZARAGOZA  ...   \n",
       "113719  COAHUILA DE ZARAGOZA  ...   \n",
       "113720  COAHUILA DE ZARAGOZA  ...   \n",
       "113721  COAHUILA DE ZARAGOZA  ...   \n",
       "\n",
       "                                               raz_social      telefono  \\\n",
       "0       AGROPECUARIA CHARCOS DE QUEZADA SOCIEDAD DE PR...  4492853716.0   \n",
       "1                                                     NaN  4499960472.0   \n",
       "2                     SOCIEDAD COOPERATIVA SC DE RL DE CV  4495444405.0   \n",
       "3                                                SAGARPA            NaN   \n",
       "4                                                     NaN           NaN   \n",
       "...                                                   ...           ...   \n",
       "113717                   SECRETARÍA DE EDUCACIÓN PÚBLICA   8626246080.0   \n",
       "113718  SECRETARÍA DE EDUCACIÓN Y CULTURA GOBIERNO FED...           NaN   \n",
       "113719                   SECRETARIA DE EDUCACION PUBLICA            NaN   \n",
       "113720                                                NaN           NaN   \n",
       "113721                     MUNICIPIO DE SABINAS COAHUILA            NaN   \n",
       "\n",
       "                               tipoCenCom tipoUniEco       tipo_asent  \\\n",
       "0                                     NaN       Fijo          COLONIA   \n",
       "1                                     NaN       Fijo  FRACCIONAMIENTO   \n",
       "2                                     NaN       Fijo        LOCALIDAD   \n",
       "3                                     NaN       Fijo        LOCALIDAD   \n",
       "4                                     NaN       Fijo        LOCALIDAD   \n",
       "...                                   ...        ...              ...   \n",
       "113717                                NaN       Fijo          COLONIA   \n",
       "113718                                NaN       Fijo          COLONIA   \n",
       "113719  EDIFICIO COMERCIAL Y DE SERVICIOS       Fijo   ZONA COMERCIAL   \n",
       "113720                                NaN       Fijo           BARRIO   \n",
       "113721                                NaN       Fijo          COLONIA   \n",
       "\n",
       "                tipo_v_e_1          tipo_v_e_2          tipo_v_e_3  tipo_vial  \\\n",
       "0                    CALLE               CALLE               CALLE    AVENIDA   \n",
       "1                    CALLE               CALLE               CALLE      CALLE   \n",
       "2                    CALLE               CALLE  OTRO (ESPECIFIQUE)      CALLE   \n",
       "3       OTRO (ESPECIFIQUE)  OTRO (ESPECIFIQUE)  OTRO (ESPECIFIQUE)      CALLE   \n",
       "4       OTRO (ESPECIFIQUE)  OTRO (ESPECIFIQUE)  OTRO (ESPECIFIQUE)  CARRETERA   \n",
       "...                    ...                 ...                 ...        ...   \n",
       "113717               CALLE               CALLE               CALLE      CALLE   \n",
       "113718               CALLE               CALLE               CALLE      CALLE   \n",
       "113719             AVENIDA             AVENIDA               CALLE      CALLE   \n",
       "113720               CALLE               CALLE             AVENIDA    AVENIDA   \n",
       "113721             AVENIDA             AVENIDA               CALLE    AVENIDA   \n",
       "\n",
       "                         www  \n",
       "0                        NaN  \n",
       "1                        NaN  \n",
       "2                        NaN  \n",
       "3       WWW.GOB.MX/CONAPESCA  \n",
       "4                        NaN  \n",
       "...                      ...  \n",
       "113717                   NaN  \n",
       "113718                   NaN  \n",
       "113719                   NaN  \n",
       "113720                   NaN  \n",
       "113721                   NaN  \n",
       "\n",
       "[377847 rows x 41 columns]"
      ],
      "text/html": "<div>\n<style scoped>\n    .dataframe tbody tr th:only-of-type {\n        vertical-align: middle;\n    }\n\n    .dataframe tbody tr th {\n        vertical-align: top;\n    }\n\n    .dataframe thead th {\n        text-align: right;\n    }\n</style>\n<table border=\"1\" class=\"dataframe\">\n  <thead>\n    <tr style=\"text-align: right;\">\n      <th></th>\n      <th>ageb</th>\n      <th>cod_postal</th>\n      <th>codigo_act</th>\n      <th>correoelec</th>\n      <th>cve_ent</th>\n      <th>cve_loc</th>\n      <th>cve_mun</th>\n      <th>edificio</th>\n      <th>edificio_e</th>\n      <th>entidad</th>\n      <th>...</th>\n      <th>raz_social</th>\n      <th>telefono</th>\n      <th>tipoCenCom</th>\n      <th>tipoUniEco</th>\n      <th>tipo_asent</th>\n      <th>tipo_v_e_1</th>\n      <th>tipo_v_e_2</th>\n      <th>tipo_v_e_3</th>\n      <th>tipo_vial</th>\n      <th>www</th>\n    </tr>\n  </thead>\n  <tbody>\n    <tr>\n      <th>0</th>\n      <td>233</td>\n      <td>20130.0</td>\n      <td>115119</td>\n      <td>MICHAEL.GALINDO@UGASA.COM.MX</td>\n      <td>1</td>\n      <td>1</td>\n      <td>1</td>\n      <td>NaN</td>\n      <td>NaN</td>\n      <td>AGUASCALIENTES</td>\n      <td>...</td>\n      <td>AGROPECUARIA CHARCOS DE QUEZADA SOCIEDAD DE PR...</td>\n      <td>4492853716.0</td>\n      <td>NaN</td>\n      <td>Fijo</td>\n      <td>COLONIA</td>\n      <td>CALLE</td>\n      <td>CALLE</td>\n      <td>CALLE</td>\n      <td>AVENIDA</td>\n      <td>NaN</td>\n    </tr>\n    <tr>\n      <th>1</th>\n      <td>322</td>\n      <td>20040.0</td>\n      <td>115119</td>\n      <td>NaN</td>\n      <td>1</td>\n      <td>1</td>\n      <td>1</td>\n      <td>NaN</td>\n      <td>NaN</td>\n      <td>AGUASCALIENTES</td>\n      <td>...</td>\n      <td>NaN</td>\n      <td>4499960472.0</td>\n      <td>NaN</td>\n      <td>Fijo</td>\n      <td>FRACCIONAMIENTO</td>\n      <td>CALLE</td>\n      <td>CALLE</td>\n      <td>CALLE</td>\n      <td>CALLE</td>\n      <td>NaN</td>\n    </tr>\n    <tr>\n      <th>2</th>\n      <td>1068</td>\n      <td>20346.0</td>\n      <td>114119</td>\n      <td>NaN</td>\n      <td>1</td>\n      <td>127</td>\n      <td>1</td>\n      <td>NaN</td>\n      <td>NaN</td>\n      <td>AGUASCALIENTES</td>\n      <td>...</td>\n      <td>SOCIEDAD COOPERATIVA SC DE RL DE CV</td>\n      <td>4495444405.0</td>\n      <td>NaN</td>\n      <td>Fijo</td>\n      <td>LOCALIDAD</td>\n      <td>CALLE</td>\n      <td>CALLE</td>\n      <td>OTRO (ESPECIFIQUE)</td>\n      <td>CALLE</td>\n      <td>NaN</td>\n    </tr>\n    <tr>\n      <th>3</th>\n      <td>78</td>\n      <td>20437.0</td>\n      <td>112512</td>\n      <td>NaN</td>\n      <td>1</td>\n      <td>239</td>\n      <td>7</td>\n      <td>NaN</td>\n      <td>NaN</td>\n      <td>AGUASCALIENTES</td>\n      <td>...</td>\n      <td>SAGARPA</td>\n      <td>NaN</td>\n      <td>NaN</td>\n      <td>Fijo</td>\n      <td>LOCALIDAD</td>\n      <td>OTRO (ESPECIFIQUE)</td>\n      <td>OTRO (ESPECIFIQUE)</td>\n      <td>OTRO (ESPECIFIQUE)</td>\n      <td>CALLE</td>\n      <td>WWW.GOB.MX/CONAPESCA</td>\n    </tr>\n    <tr>\n      <th>4</th>\n      <td>69</td>\n      <td>20336.0</td>\n      <td>112512</td>\n      <td>NaN</td>\n      <td>1</td>\n      <td>272</td>\n      <td>10</td>\n      <td>NaN</td>\n      <td>NaN</td>\n      <td>AGUASCALIENTES</td>\n      <td>...</td>\n      <td>NaN</td>\n      <td>NaN</td>\n      <td>NaN</td>\n      <td>Fijo</td>\n      <td>LOCALIDAD</td>\n      <td>OTRO (ESPECIFIQUE)</td>\n      <td>OTRO (ESPECIFIQUE)</td>\n      <td>OTRO (ESPECIFIQUE)</td>\n      <td>CARRETERA</td>\n      <td>NaN</td>\n    </tr>\n    <tr>\n      <th>...</th>\n      <td>...</td>\n      <td>...</td>\n      <td>...</td>\n      <td>...</td>\n      <td>...</td>\n      <td>...</td>\n      <td>...</td>\n      <td>...</td>\n      <td>...</td>\n      <td>...</td>\n      <td>...</td>\n      <td>...</td>\n      <td>...</td>\n      <td>...</td>\n      <td>...</td>\n      <td>...</td>\n      <td>...</td>\n      <td>...</td>\n      <td>...</td>\n      <td>...</td>\n      <td>...</td>\n    </tr>\n    <tr>\n      <th>113717</th>\n      <td>0176</td>\n      <td>26170.0</td>\n      <td>931610</td>\n      <td>NaN</td>\n      <td>5</td>\n      <td>1</td>\n      <td>22</td>\n      <td>NaN</td>\n      <td>NaN</td>\n      <td>COAHUILA DE ZARAGOZA</td>\n      <td>...</td>\n      <td>SECRETARÍA DE EDUCACIÓN PÚBLICA</td>\n      <td>8626246080.0</td>\n      <td>NaN</td>\n      <td>Fijo</td>\n      <td>COLONIA</td>\n      <td>CALLE</td>\n      <td>CALLE</td>\n      <td>CALLE</td>\n      <td>CALLE</td>\n      <td>NaN</td>\n    </tr>\n    <tr>\n      <th>113718</th>\n      <td>1773</td>\n      <td>26262.0</td>\n      <td>931610</td>\n      <td>SUPERVISION.ACU420@HOTMAIL.COM</td>\n      <td>5</td>\n      <td>1</td>\n      <td>2</td>\n      <td>NaN</td>\n      <td>NaN</td>\n      <td>COAHUILA DE ZARAGOZA</td>\n      <td>...</td>\n      <td>SECRETARÍA DE EDUCACIÓN Y CULTURA GOBIERNO FED...</td>\n      <td>NaN</td>\n      <td>NaN</td>\n      <td>Fijo</td>\n      <td>COLONIA</td>\n      <td>CALLE</td>\n      <td>CALLE</td>\n      <td>CALLE</td>\n      <td>CALLE</td>\n      <td>NaN</td>\n    </tr>\n    <tr>\n      <th>113719</th>\n      <td>0038</td>\n      <td>27800.0</td>\n      <td>931610</td>\n      <td>NaN</td>\n      <td>5</td>\n      <td>1</td>\n      <td>33</td>\n      <td>EDIFICIO SIN NOMBRE</td>\n      <td>1.0</td>\n      <td>COAHUILA DE ZARAGOZA</td>\n      <td>...</td>\n      <td>SECRETARIA DE EDUCACION PUBLICA</td>\n      <td>NaN</td>\n      <td>EDIFICIO COMERCIAL Y DE SERVICIOS</td>\n      <td>Fijo</td>\n      <td>ZONA COMERCIAL</td>\n      <td>AVENIDA</td>\n      <td>AVENIDA</td>\n      <td>CALLE</td>\n      <td>CALLE</td>\n      <td>NaN</td>\n    </tr>\n    <tr>\n      <th>113720</th>\n      <td>095A</td>\n      <td>27805.0</td>\n      <td>931610</td>\n      <td>NaN</td>\n      <td>5</td>\n      <td>1</td>\n      <td>33</td>\n      <td>NaN</td>\n      <td>NaN</td>\n      <td>COAHUILA DE ZARAGOZA</td>\n      <td>...</td>\n      <td>NaN</td>\n      <td>NaN</td>\n      <td>NaN</td>\n      <td>Fijo</td>\n      <td>BARRIO</td>\n      <td>CALLE</td>\n      <td>CALLE</td>\n      <td>AVENIDA</td>\n      <td>AVENIDA</td>\n      <td>NaN</td>\n    </tr>\n    <tr>\n      <th>113721</th>\n      <td>0447</td>\n      <td>26767.0</td>\n      <td>931610</td>\n      <td>NaN</td>\n      <td>5</td>\n      <td>1</td>\n      <td>28</td>\n      <td>NaN</td>\n      <td>NaN</td>\n      <td>COAHUILA DE ZARAGOZA</td>\n      <td>...</td>\n      <td>MUNICIPIO DE SABINAS COAHUILA</td>\n      <td>NaN</td>\n      <td>NaN</td>\n      <td>Fijo</td>\n      <td>COLONIA</td>\n      <td>AVENIDA</td>\n      <td>AVENIDA</td>\n      <td>CALLE</td>\n      <td>AVENIDA</td>\n      <td>NaN</td>\n    </tr>\n  </tbody>\n</table>\n<p>377847 rows × 41 columns</p>\n</div>"
     },
     "metadata": {},
     "execution_count": 53
    }
   ],
   "source": [
    "data_frames = [df2, df3, df4, df5]\n",
    "df = df1.append(data_frames)\n",
    "df"
   ]
  },
  {
   "cell_type": "code",
   "execution_count": 27,
   "metadata": {},
   "outputs": [
    {
     "output_type": "execute_result",
     "data": {
      "text/plain": [
       "ageb                  6\n",
       "cod_postal          547\n",
       "codigo_act            0\n",
       "correoelec       301008\n",
       "cve_ent               0\n",
       "cve_loc               0\n",
       "cve_mun               0\n",
       "edificio         349115\n",
       "edificio_e       348734\n",
       "entidad               0\n",
       "fecha_alta            0\n",
       "id                    0\n",
       "latitud               0\n",
       "letra_ext        206005\n",
       "letra_int        357115\n",
       "localidad             0\n",
       "longitud              0\n",
       "manzana               6\n",
       "municipio             0\n",
       "nom_CenCom       348950\n",
       "nom_estab             0\n",
       "nom_v_e_1          7229\n",
       "nom_v_e_2          7852\n",
       "nom_v_e_3          7136\n",
       "nom_vial             22\n",
       "nomb_asent           95\n",
       "nombre_act            0\n",
       "num_local        349375\n",
       "numero_ext       110638\n",
       "numero_int       247060\n",
       "per_ocupacion    316523\n",
       "raz_social       281178\n",
       "telefono         234277\n",
       "tipoCenCom       350291\n",
       "tipoUniEco            0\n",
       "tipo_asent          395\n",
       "tipo_v_e_1         7997\n",
       "tipo_v_e_2         8592\n",
       "tipo_v_e_3         8083\n",
       "tipo_vial           635\n",
       "www              351036\n",
       "dtype: int64"
      ]
     },
     "metadata": {},
     "execution_count": 27
    }
   ],
   "source": [
    "nulos = df.isnull().sum()\n",
    "nulos\n"
   ]
  },
  {
   "cell_type": "code",
   "execution_count": 54,
   "metadata": {},
   "outputs": [
    {
     "output_type": "execute_result",
     "data": {
      "text/plain": [
       "Index(['correoelec', 'edificio', 'edificio_e', 'letra_ext', 'letra_int',\n",
       "       'nom_CenCom', 'num_local', 'numero_ext', 'numero_int', 'per_ocupacion',\n",
       "       'raz_social', 'telefono', 'tipoCenCom', 'www'],\n",
       "      dtype='object')"
      ]
     },
     "metadata": {},
     "execution_count": 54
    }
   ],
   "source": [
    "nulos[nulos>40000].index"
   ]
  },
  {
   "cell_type": "code",
   "execution_count": 55,
   "metadata": {},
   "outputs": [
    {
     "output_type": "execute_result",
     "data": {
      "text/plain": [
       "        ageb  cod_postal codigo_act  cve_ent  cve_loc  cve_mun  \\\n",
       "0        233     20130.0     115119        1        1        1   \n",
       "1        322     20040.0     115119        1        1        1   \n",
       "2       1068     20346.0     114119        1      127        1   \n",
       "3         78     20437.0     112512        1      239        7   \n",
       "4         69     20336.0     112512        1      272       10   \n",
       "...      ...         ...        ...      ...      ...      ...   \n",
       "113717  0176     26170.0     931610        5        1       22   \n",
       "113718  1773     26262.0     931610        5        1        2   \n",
       "113719  0038     27800.0     931610        5        1       33   \n",
       "113720  095A     27805.0     931610        5        1       33   \n",
       "113721  0447     26767.0     931610        5        1       28   \n",
       "\n",
       "                     entidad fecha_alta       id    latitud  ...  \\\n",
       "0             AGUASCALIENTES    2019-04  6862345  21.906992  ...   \n",
       "1             AGUASCALIENTES    2019-11  6905212  21.889926  ...   \n",
       "2             AGUASCALIENTES    2020-04  9223169  21.782099  ...   \n",
       "3             AGUASCALIENTES    2010-07  6166248  22.167778  ...   \n",
       "4             AGUASCALIENTES    2019-11  8908791  21.956298  ...   \n",
       "...                      ...        ...      ...        ...  ...   \n",
       "113717  COAHUILA DE ZARAGOZA    2010-07   237654  28.431493  ...   \n",
       "113718  COAHUILA DE ZARAGOZA    2010-07   228355  29.315194  ...   \n",
       "113719  COAHUILA DE ZARAGOZA    2019-11  8224117  25.759379  ...   \n",
       "113720  COAHUILA DE ZARAGOZA    2010-07   240300  25.755237  ...   \n",
       "113721  COAHUILA DE ZARAGOZA    2019-11  7393446  27.859814  ...   \n",
       "\n",
       "                                   nom_v_e_3  \\\n",
       "0          MARÍA DEL CARMEN MARTÍN DEL CAMPO   \n",
       "1       PROFESORA MARÍA CONCEPCIÓN MALDONADO   \n",
       "2                                    NINGUNO   \n",
       "3                             SIN REFERENCIA   \n",
       "4                             SIN REFERENCIA   \n",
       "...                                      ...   \n",
       "113717                                ACACIA   \n",
       "113718                       IGNACIO RAMÍREZ   \n",
       "113719                          MANUEL ACUÑA   \n",
       "113720                             DEGOLLADO   \n",
       "113721                   MIGUEL RAMOS ARIZPE   \n",
       "\n",
       "                                                 nom_vial  \\\n",
       "0                                             UNIVERSIDAD   \n",
       "1                                    J. ENCARNACION PAYEN   \n",
       "2                                                 TAMPICO   \n",
       "3                                                 NINGUNO   \n",
       "4       SECTOR DE PRODUCCION N0 1 TERREMOTO EL LLANO A...   \n",
       "...                                                   ...   \n",
       "113717                                   CALLE DEL BOSQUE   \n",
       "113718                                    EMILIANO ZAPATA   \n",
       "113719                                    GONZALEZ ORTEGA   \n",
       "113720                                    LERDO DE TEJADA   \n",
       "113721                                         CUAUHTEMOC   \n",
       "\n",
       "                              nomb_asent  \\\n",
       "0                        UNIDAD GANADERA   \n",
       "1                           LA CONCORDIA   \n",
       "2                              LOS CAÑOS   \n",
       "3                     VIVERO PSIFACTORIA   \n",
       "4                EL LLANO (EL TERREMOTO)   \n",
       "...                                  ...   \n",
       "113717                        DEL BOSQUE   \n",
       "113718                            ISSSTE   \n",
       "113719                            CENTRO   \n",
       "113720                      BARRIO NUEVO   \n",
       "113721  PROFESOR FEDERICO BERRUETO RAMOS   \n",
       "\n",
       "                                               nombre_act tipoUniEco  \\\n",
       "0         Otros servicios relacionados con la agricultura       Fijo   \n",
       "1         Otros servicios relacionados con la agricultura       Fijo   \n",
       "2       Pesca y captura de peces, crustáceos, moluscos...       Fijo   \n",
       "3       Piscicultura y otra acuicultura, excepto camar...       Fijo   \n",
       "4       Piscicultura y otra acuicultura, excepto camar...       Fijo   \n",
       "...                                                   ...        ...   \n",
       "113717  Actividades administrativas de instituciones d...       Fijo   \n",
       "113718  Actividades administrativas de instituciones d...       Fijo   \n",
       "113719  Actividades administrativas de instituciones d...       Fijo   \n",
       "113720  Actividades administrativas de instituciones d...       Fijo   \n",
       "113721  Actividades administrativas de instituciones d...       Fijo   \n",
       "\n",
       "             tipo_asent          tipo_v_e_1          tipo_v_e_2  \\\n",
       "0               COLONIA               CALLE               CALLE   \n",
       "1       FRACCIONAMIENTO               CALLE               CALLE   \n",
       "2             LOCALIDAD               CALLE               CALLE   \n",
       "3             LOCALIDAD  OTRO (ESPECIFIQUE)  OTRO (ESPECIFIQUE)   \n",
       "4             LOCALIDAD  OTRO (ESPECIFIQUE)  OTRO (ESPECIFIQUE)   \n",
       "...                 ...                 ...                 ...   \n",
       "113717          COLONIA               CALLE               CALLE   \n",
       "113718          COLONIA               CALLE               CALLE   \n",
       "113719   ZONA COMERCIAL             AVENIDA             AVENIDA   \n",
       "113720           BARRIO               CALLE               CALLE   \n",
       "113721          COLONIA             AVENIDA             AVENIDA   \n",
       "\n",
       "                tipo_v_e_3  tipo_vial  \n",
       "0                    CALLE    AVENIDA  \n",
       "1                    CALLE      CALLE  \n",
       "2       OTRO (ESPECIFIQUE)      CALLE  \n",
       "3       OTRO (ESPECIFIQUE)      CALLE  \n",
       "4       OTRO (ESPECIFIQUE)  CARRETERA  \n",
       "...                    ...        ...  \n",
       "113717               CALLE      CALLE  \n",
       "113718               CALLE      CALLE  \n",
       "113719               CALLE      CALLE  \n",
       "113720             AVENIDA    AVENIDA  \n",
       "113721               CALLE    AVENIDA  \n",
       "\n",
       "[377847 rows x 27 columns]"
      ],
      "text/html": "<div>\n<style scoped>\n    .dataframe tbody tr th:only-of-type {\n        vertical-align: middle;\n    }\n\n    .dataframe tbody tr th {\n        vertical-align: top;\n    }\n\n    .dataframe thead th {\n        text-align: right;\n    }\n</style>\n<table border=\"1\" class=\"dataframe\">\n  <thead>\n    <tr style=\"text-align: right;\">\n      <th></th>\n      <th>ageb</th>\n      <th>cod_postal</th>\n      <th>codigo_act</th>\n      <th>cve_ent</th>\n      <th>cve_loc</th>\n      <th>cve_mun</th>\n      <th>entidad</th>\n      <th>fecha_alta</th>\n      <th>id</th>\n      <th>latitud</th>\n      <th>...</th>\n      <th>nom_v_e_3</th>\n      <th>nom_vial</th>\n      <th>nomb_asent</th>\n      <th>nombre_act</th>\n      <th>tipoUniEco</th>\n      <th>tipo_asent</th>\n      <th>tipo_v_e_1</th>\n      <th>tipo_v_e_2</th>\n      <th>tipo_v_e_3</th>\n      <th>tipo_vial</th>\n    </tr>\n  </thead>\n  <tbody>\n    <tr>\n      <th>0</th>\n      <td>233</td>\n      <td>20130.0</td>\n      <td>115119</td>\n      <td>1</td>\n      <td>1</td>\n      <td>1</td>\n      <td>AGUASCALIENTES</td>\n      <td>2019-04</td>\n      <td>6862345</td>\n      <td>21.906992</td>\n      <td>...</td>\n      <td>MARÍA DEL CARMEN MARTÍN DEL CAMPO</td>\n      <td>UNIVERSIDAD</td>\n      <td>UNIDAD GANADERA</td>\n      <td>Otros servicios relacionados con la agricultura</td>\n      <td>Fijo</td>\n      <td>COLONIA</td>\n      <td>CALLE</td>\n      <td>CALLE</td>\n      <td>CALLE</td>\n      <td>AVENIDA</td>\n    </tr>\n    <tr>\n      <th>1</th>\n      <td>322</td>\n      <td>20040.0</td>\n      <td>115119</td>\n      <td>1</td>\n      <td>1</td>\n      <td>1</td>\n      <td>AGUASCALIENTES</td>\n      <td>2019-11</td>\n      <td>6905212</td>\n      <td>21.889926</td>\n      <td>...</td>\n      <td>PROFESORA MARÍA CONCEPCIÓN MALDONADO</td>\n      <td>J. ENCARNACION PAYEN</td>\n      <td>LA CONCORDIA</td>\n      <td>Otros servicios relacionados con la agricultura</td>\n      <td>Fijo</td>\n      <td>FRACCIONAMIENTO</td>\n      <td>CALLE</td>\n      <td>CALLE</td>\n      <td>CALLE</td>\n      <td>CALLE</td>\n    </tr>\n    <tr>\n      <th>2</th>\n      <td>1068</td>\n      <td>20346.0</td>\n      <td>114119</td>\n      <td>1</td>\n      <td>127</td>\n      <td>1</td>\n      <td>AGUASCALIENTES</td>\n      <td>2020-04</td>\n      <td>9223169</td>\n      <td>21.782099</td>\n      <td>...</td>\n      <td>NINGUNO</td>\n      <td>TAMPICO</td>\n      <td>LOS CAÑOS</td>\n      <td>Pesca y captura de peces, crustáceos, moluscos...</td>\n      <td>Fijo</td>\n      <td>LOCALIDAD</td>\n      <td>CALLE</td>\n      <td>CALLE</td>\n      <td>OTRO (ESPECIFIQUE)</td>\n      <td>CALLE</td>\n    </tr>\n    <tr>\n      <th>3</th>\n      <td>78</td>\n      <td>20437.0</td>\n      <td>112512</td>\n      <td>1</td>\n      <td>239</td>\n      <td>7</td>\n      <td>AGUASCALIENTES</td>\n      <td>2010-07</td>\n      <td>6166248</td>\n      <td>22.167778</td>\n      <td>...</td>\n      <td>SIN REFERENCIA</td>\n      <td>NINGUNO</td>\n      <td>VIVERO PSIFACTORIA</td>\n      <td>Piscicultura y otra acuicultura, excepto camar...</td>\n      <td>Fijo</td>\n      <td>LOCALIDAD</td>\n      <td>OTRO (ESPECIFIQUE)</td>\n      <td>OTRO (ESPECIFIQUE)</td>\n      <td>OTRO (ESPECIFIQUE)</td>\n      <td>CALLE</td>\n    </tr>\n    <tr>\n      <th>4</th>\n      <td>69</td>\n      <td>20336.0</td>\n      <td>112512</td>\n      <td>1</td>\n      <td>272</td>\n      <td>10</td>\n      <td>AGUASCALIENTES</td>\n      <td>2019-11</td>\n      <td>8908791</td>\n      <td>21.956298</td>\n      <td>...</td>\n      <td>SIN REFERENCIA</td>\n      <td>SECTOR DE PRODUCCION N0 1 TERREMOTO EL LLANO A...</td>\n      <td>EL LLANO (EL TERREMOTO)</td>\n      <td>Piscicultura y otra acuicultura, excepto camar...</td>\n      <td>Fijo</td>\n      <td>LOCALIDAD</td>\n      <td>OTRO (ESPECIFIQUE)</td>\n      <td>OTRO (ESPECIFIQUE)</td>\n      <td>OTRO (ESPECIFIQUE)</td>\n      <td>CARRETERA</td>\n    </tr>\n    <tr>\n      <th>...</th>\n      <td>...</td>\n      <td>...</td>\n      <td>...</td>\n      <td>...</td>\n      <td>...</td>\n      <td>...</td>\n      <td>...</td>\n      <td>...</td>\n      <td>...</td>\n      <td>...</td>\n      <td>...</td>\n      <td>...</td>\n      <td>...</td>\n      <td>...</td>\n      <td>...</td>\n      <td>...</td>\n      <td>...</td>\n      <td>...</td>\n      <td>...</td>\n      <td>...</td>\n      <td>...</td>\n    </tr>\n    <tr>\n      <th>113717</th>\n      <td>0176</td>\n      <td>26170.0</td>\n      <td>931610</td>\n      <td>5</td>\n      <td>1</td>\n      <td>22</td>\n      <td>COAHUILA DE ZARAGOZA</td>\n      <td>2010-07</td>\n      <td>237654</td>\n      <td>28.431493</td>\n      <td>...</td>\n      <td>ACACIA</td>\n      <td>CALLE DEL BOSQUE</td>\n      <td>DEL BOSQUE</td>\n      <td>Actividades administrativas de instituciones d...</td>\n      <td>Fijo</td>\n      <td>COLONIA</td>\n      <td>CALLE</td>\n      <td>CALLE</td>\n      <td>CALLE</td>\n      <td>CALLE</td>\n    </tr>\n    <tr>\n      <th>113718</th>\n      <td>1773</td>\n      <td>26262.0</td>\n      <td>931610</td>\n      <td>5</td>\n      <td>1</td>\n      <td>2</td>\n      <td>COAHUILA DE ZARAGOZA</td>\n      <td>2010-07</td>\n      <td>228355</td>\n      <td>29.315194</td>\n      <td>...</td>\n      <td>IGNACIO RAMÍREZ</td>\n      <td>EMILIANO ZAPATA</td>\n      <td>ISSSTE</td>\n      <td>Actividades administrativas de instituciones d...</td>\n      <td>Fijo</td>\n      <td>COLONIA</td>\n      <td>CALLE</td>\n      <td>CALLE</td>\n      <td>CALLE</td>\n      <td>CALLE</td>\n    </tr>\n    <tr>\n      <th>113719</th>\n      <td>0038</td>\n      <td>27800.0</td>\n      <td>931610</td>\n      <td>5</td>\n      <td>1</td>\n      <td>33</td>\n      <td>COAHUILA DE ZARAGOZA</td>\n      <td>2019-11</td>\n      <td>8224117</td>\n      <td>25.759379</td>\n      <td>...</td>\n      <td>MANUEL ACUÑA</td>\n      <td>GONZALEZ ORTEGA</td>\n      <td>CENTRO</td>\n      <td>Actividades administrativas de instituciones d...</td>\n      <td>Fijo</td>\n      <td>ZONA COMERCIAL</td>\n      <td>AVENIDA</td>\n      <td>AVENIDA</td>\n      <td>CALLE</td>\n      <td>CALLE</td>\n    </tr>\n    <tr>\n      <th>113720</th>\n      <td>095A</td>\n      <td>27805.0</td>\n      <td>931610</td>\n      <td>5</td>\n      <td>1</td>\n      <td>33</td>\n      <td>COAHUILA DE ZARAGOZA</td>\n      <td>2010-07</td>\n      <td>240300</td>\n      <td>25.755237</td>\n      <td>...</td>\n      <td>DEGOLLADO</td>\n      <td>LERDO DE TEJADA</td>\n      <td>BARRIO NUEVO</td>\n      <td>Actividades administrativas de instituciones d...</td>\n      <td>Fijo</td>\n      <td>BARRIO</td>\n      <td>CALLE</td>\n      <td>CALLE</td>\n      <td>AVENIDA</td>\n      <td>AVENIDA</td>\n    </tr>\n    <tr>\n      <th>113721</th>\n      <td>0447</td>\n      <td>26767.0</td>\n      <td>931610</td>\n      <td>5</td>\n      <td>1</td>\n      <td>28</td>\n      <td>COAHUILA DE ZARAGOZA</td>\n      <td>2019-11</td>\n      <td>7393446</td>\n      <td>27.859814</td>\n      <td>...</td>\n      <td>MIGUEL RAMOS ARIZPE</td>\n      <td>CUAUHTEMOC</td>\n      <td>PROFESOR FEDERICO BERRUETO RAMOS</td>\n      <td>Actividades administrativas de instituciones d...</td>\n      <td>Fijo</td>\n      <td>COLONIA</td>\n      <td>AVENIDA</td>\n      <td>AVENIDA</td>\n      <td>CALLE</td>\n      <td>AVENIDA</td>\n    </tr>\n  </tbody>\n</table>\n<p>377847 rows × 27 columns</p>\n</div>"
     },
     "metadata": {},
     "execution_count": 55
    }
   ],
   "source": [
    "df_no_nulos = df.drop(nulos[nulos>40000].index, axis=1)\n",
    "df_no_nulos"
   ]
  },
  {
   "cell_type": "code",
   "execution_count": 34,
   "metadata": {},
   "outputs": [
    {
     "output_type": "execute_result",
     "data": {
      "text/plain": [
       "  ageb  cod_postal codigo_act  cve_ent  cve_loc  cve_mun         entidad  \\\n",
       "0  233     20130.0     115119        1        1        1  AGUASCALIENTES   \n",
       "1  322     20040.0     115119        1        1        1  AGUASCALIENTES   \n",
       "\n",
       "  fecha_alta       id    latitud  ...                             nom_v_e_3  \\\n",
       "0    2019-04  6862345  21.906992  ...     MAR�A DEL CARMEN MART�N DEL CAMPO   \n",
       "1    2019-11  6905212  21.889926  ...  PROFESORA MAR�A CONCEPCI�N MALDONADO   \n",
       "\n",
       "               nom_vial       nomb_asent  \\\n",
       "0           UNIVERSIDAD  UNIDAD GANADERA   \n",
       "1  J. ENCARNACION PAYEN     LA CONCORDIA   \n",
       "\n",
       "                                        nombre_act tipoUniEco  \\\n",
       "0  Otros servicios relacionados con la agricultura       Fijo   \n",
       "1  Otros servicios relacionados con la agricultura       Fijo   \n",
       "\n",
       "        tipo_asent tipo_v_e_1 tipo_v_e_2 tipo_v_e_3 tipo_vial  \n",
       "0          COLONIA      CALLE      CALLE      CALLE   AVENIDA  \n",
       "1  FRACCIONAMIENTO      CALLE      CALLE      CALLE     CALLE  \n",
       "\n",
       "[2 rows x 27 columns]"
      ],
      "text/html": "<div>\n<style scoped>\n    .dataframe tbody tr th:only-of-type {\n        vertical-align: middle;\n    }\n\n    .dataframe tbody tr th {\n        vertical-align: top;\n    }\n\n    .dataframe thead th {\n        text-align: right;\n    }\n</style>\n<table border=\"1\" class=\"dataframe\">\n  <thead>\n    <tr style=\"text-align: right;\">\n      <th></th>\n      <th>ageb</th>\n      <th>cod_postal</th>\n      <th>codigo_act</th>\n      <th>cve_ent</th>\n      <th>cve_loc</th>\n      <th>cve_mun</th>\n      <th>entidad</th>\n      <th>fecha_alta</th>\n      <th>id</th>\n      <th>latitud</th>\n      <th>...</th>\n      <th>nom_v_e_3</th>\n      <th>nom_vial</th>\n      <th>nomb_asent</th>\n      <th>nombre_act</th>\n      <th>tipoUniEco</th>\n      <th>tipo_asent</th>\n      <th>tipo_v_e_1</th>\n      <th>tipo_v_e_2</th>\n      <th>tipo_v_e_3</th>\n      <th>tipo_vial</th>\n    </tr>\n  </thead>\n  <tbody>\n    <tr>\n      <th>0</th>\n      <td>233</td>\n      <td>20130.0</td>\n      <td>115119</td>\n      <td>1</td>\n      <td>1</td>\n      <td>1</td>\n      <td>AGUASCALIENTES</td>\n      <td>2019-04</td>\n      <td>6862345</td>\n      <td>21.906992</td>\n      <td>...</td>\n      <td>MAR�A DEL CARMEN MART�N DEL CAMPO</td>\n      <td>UNIVERSIDAD</td>\n      <td>UNIDAD GANADERA</td>\n      <td>Otros servicios relacionados con la agricultura</td>\n      <td>Fijo</td>\n      <td>COLONIA</td>\n      <td>CALLE</td>\n      <td>CALLE</td>\n      <td>CALLE</td>\n      <td>AVENIDA</td>\n    </tr>\n    <tr>\n      <th>1</th>\n      <td>322</td>\n      <td>20040.0</td>\n      <td>115119</td>\n      <td>1</td>\n      <td>1</td>\n      <td>1</td>\n      <td>AGUASCALIENTES</td>\n      <td>2019-11</td>\n      <td>6905212</td>\n      <td>21.889926</td>\n      <td>...</td>\n      <td>PROFESORA MAR�A CONCEPCI�N MALDONADO</td>\n      <td>J. ENCARNACION PAYEN</td>\n      <td>LA CONCORDIA</td>\n      <td>Otros servicios relacionados con la agricultura</td>\n      <td>Fijo</td>\n      <td>FRACCIONAMIENTO</td>\n      <td>CALLE</td>\n      <td>CALLE</td>\n      <td>CALLE</td>\n      <td>CALLE</td>\n    </tr>\n  </tbody>\n</table>\n<p>2 rows × 27 columns</p>\n</div>"
     },
     "metadata": {},
     "execution_count": 34
    }
   ],
   "source": [
    "df_no_nulos.head(2)"
   ]
  },
  {
   "cell_type": "code",
   "execution_count": 64,
   "metadata": {},
   "outputs": [
    {
     "output_type": "execute_result",
     "data": {
      "text/plain": [
       "0           otros servicios relacionados con la agricultura\n",
       "1           otros servicios relacionados con la agricultura\n",
       "2         pesca y captura de peces, crustáceos, moluscos...\n",
       "3         piscicultura y otra acuicultura, excepto camar...\n",
       "4         piscicultura y otra acuicultura, excepto camar...\n",
       "                                ...                        \n",
       "113717    actividades administrativas de instituciones d...\n",
       "113718    actividades administrativas de instituciones d...\n",
       "113719    actividades administrativas de instituciones d...\n",
       "113720    actividades administrativas de instituciones d...\n",
       "113721    actividades administrativas de instituciones d...\n",
       "Name: nombre_act_limpio, Length: 377847, dtype: object"
      ]
     },
     "metadata": {},
     "execution_count": 64
    }
   ],
   "source": [
    "df_no_nulos['nombre_act_limpio'] = df_no_nulos['nombre_act'].str.lower()\n",
    "df_no_nulos['nombre_act_limpio']"
   ]
  },
  {
   "cell_type": "code",
   "execution_count": 65,
   "metadata": {},
   "outputs": [],
   "source": [
    "puntuacion = [\".\", \",\" , \"-\", \"\\n\", \":\", \";\",'\"', \"'\", \"  \",\n",
    "                \"!\", \"¡\", \"¿\", \"?\", \"(\", \")\", \"<\", \"«\", \"»\", \"~\",]\n"
   ]
  },
  {
   "cell_type": "code",
   "execution_count": 66,
   "metadata": {},
   "outputs": [
    {
     "output_type": "stream",
     "name": "stderr",
     "text": [
      "<ipython-input-66-24d720e8c49b>:2: FutureWarning: The default value of regex will change from True to False in a future version. In addition, single character regular expressions will*not* be treated as literal strings when regex=True.\n  df_no_nulos['nombre_act_limpio'] = df_no_nulos['nombre_act_limpio'].str.replace(p,\"\")\n"
     ]
    }
   ],
   "source": [
    "for p in puntuacion:\n",
    "  df_no_nulos['nombre_act_limpio'] = df_no_nulos['nombre_act_limpio'].str.replace(p,\"\")"
   ]
  },
  {
   "cell_type": "code",
   "execution_count": 67,
   "metadata": {},
   "outputs": [
    {
     "output_type": "execute_result",
     "data": {
      "text/plain": [
       "0           otros servicios relacionados con la agricultura\n",
       "1           otros servicios relacionados con la agricultura\n",
       "2         pesca y captura de peces crustáceos moluscos y...\n",
       "3         piscicultura y otra acuicultura excepto camaro...\n",
       "4         piscicultura y otra acuicultura excepto camaro...\n",
       "                                ...                        \n",
       "113717    actividades administrativas de instituciones d...\n",
       "113718    actividades administrativas de instituciones d...\n",
       "113719    actividades administrativas de instituciones d...\n",
       "113720    actividades administrativas de instituciones d...\n",
       "113721    actividades administrativas de instituciones d...\n",
       "Name: nombre_act_limpio, Length: 377847, dtype: object"
      ]
     },
     "metadata": {},
     "execution_count": 67
    }
   ],
   "source": [
    "df_no_nulos['nombre_act_limpio']"
   ]
  },
  {
   "cell_type": "code",
   "execution_count": 68,
   "metadata": {},
   "outputs": [
    {
     "output_type": "execute_result",
     "data": {
      "text/plain": [
       "['otros servicios relacionados con la agricultura',\n",
       " 'pesca y captura de peces, crustáceos, moluscos y otras especies',\n",
       " 'piscicultura y otra acuicultura, excepto camaronicultura',\n",
       " 'beneficio de productos agrícolas',\n",
       " 'servicios relacionados con la cría y explotación de animales',\n",
       " 'minería de piedra caliza',\n",
       " 'minería de arena y grava para la construcción',\n",
       " 'minería de otros minerales no metálicos',\n",
       " 'minería de oro',\n",
       " 'minería de otras piedras dimensionadas']"
      ]
     },
     "metadata": {},
     "execution_count": 68
    }
   ],
   "source": [
    "df_no_nulos['nombre_act'].unique().tolist()[:10]"
   ]
  },
  {
   "cell_type": "code",
   "execution_count": 70,
   "metadata": {},
   "outputs": [
    {
     "output_type": "execute_result",
     "data": {
      "text/plain": [
       "['servicios de investigación científica y desarrollo en ciencias sociales y humanidades, prestados por el sector privado',\n",
       " 'servicios de investigación científica y desarrollo en ciencias sociales y humanidades, prestados por el sector público']"
      ]
     },
     "metadata": {},
     "execution_count": 70
    }
   ],
   "source": [
    "# datos originales\n",
    "df_no_nulos['nombre_act'][df_no_nulos['nombre_act'].str.contains(\"humanidades\")].unique().tolist()"
   ]
  },
  {
   "cell_type": "code",
   "execution_count": 69,
   "metadata": {},
   "outputs": [
    {
     "output_type": "execute_result",
     "data": {
      "text/plain": [
       "['servicios de investigación científica y desarrollo en ciencias sociales y humanidades prestados por el sector privado',\n",
       " 'servicios de investigación científica y desarrollo en ciencias sociales y humanidades prestados por el sector público']"
      ]
     },
     "metadata": {},
     "execution_count": 69
    }
   ],
   "source": [
    "# quitamos caracteres especiales\n",
    "df_no_nulos['nombre_act_limpio'][df_no_nulos['nombre_act_limpio'].str.contains(\"humanidades\")].unique().tolist()"
   ]
  },
  {
   "cell_type": "code",
   "execution_count": 72,
   "metadata": {},
   "outputs": [],
   "source": [
    "# NFKD elimina acentos\n",
    "df_no_nulos['nombre_act_limpio'] = df_no_nulos['nombre_act_limpio'].str.normalize('NFKD').str.encode('ascii', errors='ignore').str.decode('utf-8')"
   ]
  },
  {
   "cell_type": "code",
   "execution_count": 73,
   "metadata": {},
   "outputs": [
    {
     "output_type": "execute_result",
     "data": {
      "text/plain": [
       "['servicios de investigacion cientifica y desarrollo en ciencias sociales y humanidades prestados por el sector privado',\n",
       " 'servicios de investigacion cientifica y desarrollo en ciencias sociales y humanidades prestados por el sector publico']"
      ]
     },
     "metadata": {},
     "execution_count": 73
    }
   ],
   "source": [
    "# quitamos acentos\n",
    "df_no_nulos['nombre_act_limpio'][df_no_nulos['nombre_act_limpio'].str.contains(\"humanidades\")].unique().tolist()"
   ]
  },
  {
   "cell_type": "code",
   "execution_count": 75,
   "metadata": {},
   "outputs": [
    {
     "output_type": "execute_result",
     "data": {
      "text/plain": [
       "comercio al por menor en tiendas de abarrotes ultramarinos y miscelaneas    33300\n",
       "0 a 5 personas                                                              28516\n",
       "salones y clinicas de belleza y peluquerias                                 16381\n",
       "restaurantes con servicio de preparacion de antojitos                        9427\n",
       "comercio al por menor de ropa excepto de bebe y lenceria                     8393\n",
       "                                                                            ...  \n",
       "mineria de otras arcillas y de otros minerales refractarios                     1\n",
       "recuperacion de residuos por el sector publico                                  1\n",
       "preparacion y envasado de te                                                    1\n",
       "elaboracion de sidra y otras bebidas fermentadas                                1\n",
       "extraccion de petroleo y gas natural asociado                                   1\n",
       "Name: nombre_act_limpio, Length: 944, dtype: int64"
      ]
     },
     "metadata": {},
     "execution_count": 75
    }
   ],
   "source": [
    "df_no_nulos['nombre_act_limpio'].value_counts()"
   ]
  },
  {
   "cell_type": "code",
   "execution_count": 85,
   "metadata": {},
   "outputs": [
    {
     "output_type": "execute_result",
     "data": {
      "text/plain": [
       "                                     nombre_act_limpio     id\n",
       "0                                       0 a 5 personas  28516\n",
       "1                                   101 a 250 personas    196\n",
       "2                                     11 a 30 personas   2853\n",
       "3                                   251 y mas personas    120\n",
       "4                                     31 a 50 personas    494\n",
       "..                                                 ...    ...\n",
       "939  tratamiento de la madera y fabricacion de post...      1\n",
       "940  tratamiento y disposicion final de residuos no...     13\n",
       "941  tratamiento y disposicion final de residuos pe...      2\n",
       "942                                 uniones de credito     26\n",
       "943  venta de billetes de loteria pronosticos depor...    372\n",
       "\n",
       "[944 rows x 2 columns]"
      ],
      "text/html": "<div>\n<style scoped>\n    .dataframe tbody tr th:only-of-type {\n        vertical-align: middle;\n    }\n\n    .dataframe tbody tr th {\n        vertical-align: top;\n    }\n\n    .dataframe thead th {\n        text-align: right;\n    }\n</style>\n<table border=\"1\" class=\"dataframe\">\n  <thead>\n    <tr style=\"text-align: right;\">\n      <th></th>\n      <th>nombre_act_limpio</th>\n      <th>id</th>\n    </tr>\n  </thead>\n  <tbody>\n    <tr>\n      <th>0</th>\n      <td>0 a 5 personas</td>\n      <td>28516</td>\n    </tr>\n    <tr>\n      <th>1</th>\n      <td>101 a 250 personas</td>\n      <td>196</td>\n    </tr>\n    <tr>\n      <th>2</th>\n      <td>11 a 30 personas</td>\n      <td>2853</td>\n    </tr>\n    <tr>\n      <th>3</th>\n      <td>251 y mas personas</td>\n      <td>120</td>\n    </tr>\n    <tr>\n      <th>4</th>\n      <td>31 a 50 personas</td>\n      <td>494</td>\n    </tr>\n    <tr>\n      <th>...</th>\n      <td>...</td>\n      <td>...</td>\n    </tr>\n    <tr>\n      <th>939</th>\n      <td>tratamiento de la madera y fabricacion de post...</td>\n      <td>1</td>\n    </tr>\n    <tr>\n      <th>940</th>\n      <td>tratamiento y disposicion final de residuos no...</td>\n      <td>13</td>\n    </tr>\n    <tr>\n      <th>941</th>\n      <td>tratamiento y disposicion final de residuos pe...</td>\n      <td>2</td>\n    </tr>\n    <tr>\n      <th>942</th>\n      <td>uniones de credito</td>\n      <td>26</td>\n    </tr>\n    <tr>\n      <th>943</th>\n      <td>venta de billetes de loteria pronosticos depor...</td>\n      <td>372</td>\n    </tr>\n  </tbody>\n</table>\n<p>944 rows × 2 columns</p>\n</div>"
     },
     "metadata": {},
     "execution_count": 85
    }
   ],
   "source": [
    "df_conteo = df_no_nulos.groupby(['nombre_act_limpio']).agg({'id':'count'}).reset_index()\n",
    "df_conteo"
   ]
  },
  {
   "cell_type": "code",
   "execution_count": 87,
   "metadata": {},
   "outputs": [
    {
     "output_type": "execute_result",
     "data": {
      "text/plain": [
       "Int64Index([  7,   9,  10,  11,  12,  14,  16,  19,  20,  21,\n",
       "            ...\n",
       "            933, 934, 935, 936, 937, 938, 939, 940, 941, 942],\n",
       "           dtype='int64', length=625)"
      ]
     },
     "metadata": {},
     "execution_count": 87
    }
   ],
   "source": [
    "# .index regresa solo el indice\n",
    "df_conteo[df_conteo['id']<100].index"
   ]
  },
  {
   "cell_type": "code",
   "execution_count": 88,
   "metadata": {},
   "outputs": [
    {
     "output_type": "execute_result",
     "data": {
      "text/plain": [
       "                                     nombre_act_limpio  id\n",
       "7                        acabado de productos textiles  21\n",
       "9                    actividades de seguridad nacional  85\n",
       "10         administracion de aeropuertos y helipuertos  12\n",
       "11   administracion de cajas de pension y de seguro...  35\n",
       "12   administracion de cementerios pertenecientes a...  33\n",
       "..                                                 ...  ..\n",
       "938                    transporte turistico por tierra  53\n",
       "939  tratamiento de la madera y fabricacion de post...   1\n",
       "940  tratamiento y disposicion final de residuos no...  13\n",
       "941  tratamiento y disposicion final de residuos pe...   2\n",
       "942                                 uniones de credito  26\n",
       "\n",
       "[625 rows x 2 columns]"
      ],
      "text/html": "<div>\n<style scoped>\n    .dataframe tbody tr th:only-of-type {\n        vertical-align: middle;\n    }\n\n    .dataframe tbody tr th {\n        vertical-align: top;\n    }\n\n    .dataframe thead th {\n        text-align: right;\n    }\n</style>\n<table border=\"1\" class=\"dataframe\">\n  <thead>\n    <tr style=\"text-align: right;\">\n      <th></th>\n      <th>nombre_act_limpio</th>\n      <th>id</th>\n    </tr>\n  </thead>\n  <tbody>\n    <tr>\n      <th>7</th>\n      <td>acabado de productos textiles</td>\n      <td>21</td>\n    </tr>\n    <tr>\n      <th>9</th>\n      <td>actividades de seguridad nacional</td>\n      <td>85</td>\n    </tr>\n    <tr>\n      <th>10</th>\n      <td>administracion de aeropuertos y helipuertos</td>\n      <td>12</td>\n    </tr>\n    <tr>\n      <th>11</th>\n      <td>administracion de cajas de pension y de seguro...</td>\n      <td>35</td>\n    </tr>\n    <tr>\n      <th>12</th>\n      <td>administracion de cementerios pertenecientes a...</td>\n      <td>33</td>\n    </tr>\n    <tr>\n      <th>...</th>\n      <td>...</td>\n      <td>...</td>\n    </tr>\n    <tr>\n      <th>938</th>\n      <td>transporte turistico por tierra</td>\n      <td>53</td>\n    </tr>\n    <tr>\n      <th>939</th>\n      <td>tratamiento de la madera y fabricacion de post...</td>\n      <td>1</td>\n    </tr>\n    <tr>\n      <th>940</th>\n      <td>tratamiento y disposicion final de residuos no...</td>\n      <td>13</td>\n    </tr>\n    <tr>\n      <th>941</th>\n      <td>tratamiento y disposicion final de residuos pe...</td>\n      <td>2</td>\n    </tr>\n    <tr>\n      <th>942</th>\n      <td>uniones de credito</td>\n      <td>26</td>\n    </tr>\n  </tbody>\n</table>\n<p>625 rows × 2 columns</p>\n</div>"
     },
     "metadata": {},
     "execution_count": 88
    }
   ],
   "source": [
    "df_conteo[df_conteo['id']<100]\n"
   ]
  },
  {
   "cell_type": "code",
   "execution_count": 90,
   "metadata": {},
   "outputs": [
    {
     "output_type": "execute_result",
     "data": {
      "text/plain": [
       "                                    nombre_act_limpio     id\n",
       "0                                      0 a 5 personas  28516\n",
       "1                                  101 a 250 personas    196\n",
       "2                                    11 a 30 personas   2853\n",
       "3                                  251 y mas personas    120\n",
       "4                                    31 a 50 personas    494\n",
       "5                                   51 a 100 personas    319\n",
       "6                                     6 a 10 personas   3834\n",
       "8   actividades administrativas de instituciones d...   1436\n",
       "13  administracion de cementerios pertenecientes a...    123\n",
       "15                  administracion publica en general   1502"
      ],
      "text/html": "<div>\n<style scoped>\n    .dataframe tbody tr th:only-of-type {\n        vertical-align: middle;\n    }\n\n    .dataframe tbody tr th {\n        vertical-align: top;\n    }\n\n    .dataframe thead th {\n        text-align: right;\n    }\n</style>\n<table border=\"1\" class=\"dataframe\">\n  <thead>\n    <tr style=\"text-align: right;\">\n      <th></th>\n      <th>nombre_act_limpio</th>\n      <th>id</th>\n    </tr>\n  </thead>\n  <tbody>\n    <tr>\n      <th>0</th>\n      <td>0 a 5 personas</td>\n      <td>28516</td>\n    </tr>\n    <tr>\n      <th>1</th>\n      <td>101 a 250 personas</td>\n      <td>196</td>\n    </tr>\n    <tr>\n      <th>2</th>\n      <td>11 a 30 personas</td>\n      <td>2853</td>\n    </tr>\n    <tr>\n      <th>3</th>\n      <td>251 y mas personas</td>\n      <td>120</td>\n    </tr>\n    <tr>\n      <th>4</th>\n      <td>31 a 50 personas</td>\n      <td>494</td>\n    </tr>\n    <tr>\n      <th>5</th>\n      <td>51 a 100 personas</td>\n      <td>319</td>\n    </tr>\n    <tr>\n      <th>6</th>\n      <td>6 a 10 personas</td>\n      <td>3834</td>\n    </tr>\n    <tr>\n      <th>8</th>\n      <td>actividades administrativas de instituciones d...</td>\n      <td>1436</td>\n    </tr>\n    <tr>\n      <th>13</th>\n      <td>administracion de cementerios pertenecientes a...</td>\n      <td>123</td>\n    </tr>\n    <tr>\n      <th>15</th>\n      <td>administracion publica en general</td>\n      <td>1502</td>\n    </tr>\n  </tbody>\n</table>\n</div>"
     },
     "metadata": {},
     "execution_count": 90
    }
   ],
   "source": [
    "rows_to_remove = list(df_conteo[df_conteo['id']<100].index)\n",
    "df_conteo_limpio = df_conteo.drop(rows_to_remove, axis=0)\n",
    "df_conteo_limpio.head(10)"
   ]
  },
  {
   "cell_type": "code",
   "execution_count": 105,
   "metadata": {},
   "outputs": [
    {
     "output_type": "execute_result",
     "data": {
      "text/plain": [
       "                                     nombre_act_limpio     id   class\n",
       "267  comercio al por menor en tiendas de abarrotes ...  33300  top_10\n",
       "0                                       0 a 5 personas  28516  top_10\n",
       "818        salones y clinicas de belleza y peluquerias  16381  top_10\n",
       "811  restaurantes con servicio de preparacion de an...   9427  top_10\n",
       "256  comercio al por menor de ropa excepto de bebe ...   8393  top_10"
      ],
      "text/html": "<div>\n<style scoped>\n    .dataframe tbody tr th:only-of-type {\n        vertical-align: middle;\n    }\n\n    .dataframe tbody tr th {\n        vertical-align: top;\n    }\n\n    .dataframe thead th {\n        text-align: right;\n    }\n</style>\n<table border=\"1\" class=\"dataframe\">\n  <thead>\n    <tr style=\"text-align: right;\">\n      <th></th>\n      <th>nombre_act_limpio</th>\n      <th>id</th>\n      <th>class</th>\n    </tr>\n  </thead>\n  <tbody>\n    <tr>\n      <th>267</th>\n      <td>comercio al por menor en tiendas de abarrotes ...</td>\n      <td>33300</td>\n      <td>top_10</td>\n    </tr>\n    <tr>\n      <th>0</th>\n      <td>0 a 5 personas</td>\n      <td>28516</td>\n      <td>top_10</td>\n    </tr>\n    <tr>\n      <th>818</th>\n      <td>salones y clinicas de belleza y peluquerias</td>\n      <td>16381</td>\n      <td>top_10</td>\n    </tr>\n    <tr>\n      <th>811</th>\n      <td>restaurantes con servicio de preparacion de an...</td>\n      <td>9427</td>\n      <td>top_10</td>\n    </tr>\n    <tr>\n      <th>256</th>\n      <td>comercio al por menor de ropa excepto de bebe ...</td>\n      <td>8393</td>\n      <td>top_10</td>\n    </tr>\n  </tbody>\n</table>\n</div>"
     },
     "metadata": {},
     "execution_count": 105
    }
   ],
   "source": [
    "# nlarget regresa el top n\n",
    "df_top_10 = df_conteo_limpio.nlargest(10,'id')\n",
    "df_top_10['class'] = 'top_10'\n",
    "df_top_10.head(5)"
   ]
  },
  {
   "cell_type": "code",
   "execution_count": 106,
   "metadata": {},
   "outputs": [
    {
     "output_type": "execute_result",
     "data": {
      "text/plain": [
       "                                     nombre_act_limpio   id   class\n",
       "142  comercio al por mayor de desechos de papel y d...  101  low_10\n",
       "690  operadores de servicios de telecomunicaciones ...  101  low_10\n",
       "163  comercio al por mayor de maquinaria y equipo p...  102  low_10\n",
       "176  comercio al por mayor de otros materiales para...  103  low_10\n",
       "705  otro autotransporte foraneo de carga especiali...  103  low_10"
      ],
      "text/html": "<div>\n<style scoped>\n    .dataframe tbody tr th:only-of-type {\n        vertical-align: middle;\n    }\n\n    .dataframe tbody tr th {\n        vertical-align: top;\n    }\n\n    .dataframe thead th {\n        text-align: right;\n    }\n</style>\n<table border=\"1\" class=\"dataframe\">\n  <thead>\n    <tr style=\"text-align: right;\">\n      <th></th>\n      <th>nombre_act_limpio</th>\n      <th>id</th>\n      <th>class</th>\n    </tr>\n  </thead>\n  <tbody>\n    <tr>\n      <th>142</th>\n      <td>comercio al por mayor de desechos de papel y d...</td>\n      <td>101</td>\n      <td>low_10</td>\n    </tr>\n    <tr>\n      <th>690</th>\n      <td>operadores de servicios de telecomunicaciones ...</td>\n      <td>101</td>\n      <td>low_10</td>\n    </tr>\n    <tr>\n      <th>163</th>\n      <td>comercio al por mayor de maquinaria y equipo p...</td>\n      <td>102</td>\n      <td>low_10</td>\n    </tr>\n    <tr>\n      <th>176</th>\n      <td>comercio al por mayor de otros materiales para...</td>\n      <td>103</td>\n      <td>low_10</td>\n    </tr>\n    <tr>\n      <th>705</th>\n      <td>otro autotransporte foraneo de carga especiali...</td>\n      <td>103</td>\n      <td>low_10</td>\n    </tr>\n  </tbody>\n</table>\n</div>"
     },
     "metadata": {},
     "execution_count": 106
    }
   ],
   "source": [
    "# nsmallest regresa el top n inverso\n",
    "df_low_10 = df_conteo_limpio.nsmallest(10,'id')\n",
    "df_low_10['class'] = 'low_10'\n",
    "df_low_10.head(5)"
   ]
  },
  {
   "cell_type": "code",
   "execution_count": 107,
   "metadata": {},
   "outputs": [
    {
     "output_type": "execute_result",
     "data": {
      "text/plain": [
       "                                     nombre_act_limpio   id   class\n",
       "142  comercio al por mayor de desechos de papel y d...  101  low_10\n",
       "690  operadores de servicios de telecomunicaciones ...  101  low_10"
      ],
      "text/html": "<div>\n<style scoped>\n    .dataframe tbody tr th:only-of-type {\n        vertical-align: middle;\n    }\n\n    .dataframe tbody tr th {\n        vertical-align: top;\n    }\n\n    .dataframe thead th {\n        text-align: right;\n    }\n</style>\n<table border=\"1\" class=\"dataframe\">\n  <thead>\n    <tr style=\"text-align: right;\">\n      <th></th>\n      <th>nombre_act_limpio</th>\n      <th>id</th>\n      <th>class</th>\n    </tr>\n  </thead>\n  <tbody>\n    <tr>\n      <th>142</th>\n      <td>comercio al por mayor de desechos de papel y d...</td>\n      <td>101</td>\n      <td>low_10</td>\n    </tr>\n    <tr>\n      <th>690</th>\n      <td>operadores de servicios de telecomunicaciones ...</td>\n      <td>101</td>\n      <td>low_10</td>\n    </tr>\n  </tbody>\n</table>\n</div>"
     },
     "metadata": {},
     "execution_count": 107
    }
   ],
   "source": [
    "df_tops = df_low_10.append(df_top_10)\n",
    "df_tops.head(2)"
   ]
  },
  {
   "cell_type": "code",
   "execution_count": 108,
   "metadata": {},
   "outputs": [
    {
     "output_type": "execute_result",
     "data": {
      "text/plain": [
       "3266      low_10\n",
       "3267      low_10\n",
       "3268      low_10\n",
       "3269      low_10\n",
       "3281      low_10\n",
       "           ...  \n",
       "376260    top_10\n",
       "376262    top_10\n",
       "376264    top_10\n",
       "376265    top_10\n",
       "376267    top_10\n",
       "Name: class, Length: 131704, dtype: object"
      ]
     },
     "metadata": {},
     "execution_count": 108
    }
   ],
   "source": [
    "df_final = pd.merge(df_no_nulos, df_tops, how='left', on=['nombre_act_limpio'])\n",
    "df_final['class'][df_final['class'].notnull()]"
   ]
  },
  {
   "source": [
    "# Pivot Tables\n"
   ],
   "cell_type": "markdown",
   "metadata": {}
  },
  {
   "cell_type": "code",
   "execution_count": 111,
   "metadata": {},
   "outputs": [],
   "source": [
    "df = pd.read_csv('../../data-sets/database_liquors.csv')"
   ]
  },
  {
   "cell_type": "code",
   "execution_count": 113,
   "metadata": {},
   "outputs": [
    {
     "output_type": "execute_result",
     "data": {
      "text/plain": [
       "           invoice        date  store_number  \\\n",
       "0  INV-22970800091  11/01/2019          2569   \n",
       "1  INV-22958000044  11/01/2019          2603   \n",
       "\n",
       "                             store_name                address          city  \\\n",
       "0   Hy-Vee Food Store #2 / Cedar Rapids    279 Collins Road NE  Cedar Rapids   \n",
       "1  Hy-Vee Wine and Spirits / Bettendorf  2890 Devils Glen Road    Bettendorf   \n",
       "\n",
       "   zip_code                store_location  county_number county  ...  \\\n",
       "0     52402  POINT (-91.630677 42.027805)             57   LINN  ...   \n",
       "1     52722  POINT (-90.483701 41.552338)             82  SCOTT  ...   \n",
       "\n",
       "   item_number     item_description  pack bottle_volume  state_bottle_cost  \\\n",
       "0        42718   Malibu Coconut Rum     6          1.75              16.99   \n",
       "1        45278  Paramount White Rum     6          1.75               7.84   \n",
       "\n",
       "  state_bottle_retail  bottles_sold  sale_usd  volume_sold_lt  \\\n",
       "0               25.49           1.0     25.49            1.75   \n",
       "1               11.76           6.0     70.56           10.50   \n",
       "\n",
       "   volume_sold_gallons  \n",
       "0                 0.46  \n",
       "1                 2.77  \n",
       "\n",
       "[2 rows x 24 columns]"
      ],
      "text/html": "<div>\n<style scoped>\n    .dataframe tbody tr th:only-of-type {\n        vertical-align: middle;\n    }\n\n    .dataframe tbody tr th {\n        vertical-align: top;\n    }\n\n    .dataframe thead th {\n        text-align: right;\n    }\n</style>\n<table border=\"1\" class=\"dataframe\">\n  <thead>\n    <tr style=\"text-align: right;\">\n      <th></th>\n      <th>invoice</th>\n      <th>date</th>\n      <th>store_number</th>\n      <th>store_name</th>\n      <th>address</th>\n      <th>city</th>\n      <th>zip_code</th>\n      <th>store_location</th>\n      <th>county_number</th>\n      <th>county</th>\n      <th>...</th>\n      <th>item_number</th>\n      <th>item_description</th>\n      <th>pack</th>\n      <th>bottle_volume</th>\n      <th>state_bottle_cost</th>\n      <th>state_bottle_retail</th>\n      <th>bottles_sold</th>\n      <th>sale_usd</th>\n      <th>volume_sold_lt</th>\n      <th>volume_sold_gallons</th>\n    </tr>\n  </thead>\n  <tbody>\n    <tr>\n      <th>0</th>\n      <td>INV-22970800091</td>\n      <td>11/01/2019</td>\n      <td>2569</td>\n      <td>Hy-Vee Food Store #2 / Cedar Rapids</td>\n      <td>279 Collins Road NE</td>\n      <td>Cedar Rapids</td>\n      <td>52402</td>\n      <td>POINT (-91.630677 42.027805)</td>\n      <td>57</td>\n      <td>LINN</td>\n      <td>...</td>\n      <td>42718</td>\n      <td>Malibu Coconut Rum</td>\n      <td>6</td>\n      <td>1.75</td>\n      <td>16.99</td>\n      <td>25.49</td>\n      <td>1.0</td>\n      <td>25.49</td>\n      <td>1.75</td>\n      <td>0.46</td>\n    </tr>\n    <tr>\n      <th>1</th>\n      <td>INV-22958000044</td>\n      <td>11/01/2019</td>\n      <td>2603</td>\n      <td>Hy-Vee Wine and Spirits / Bettendorf</td>\n      <td>2890 Devils Glen Road</td>\n      <td>Bettendorf</td>\n      <td>52722</td>\n      <td>POINT (-90.483701 41.552338)</td>\n      <td>82</td>\n      <td>SCOTT</td>\n      <td>...</td>\n      <td>45278</td>\n      <td>Paramount White Rum</td>\n      <td>6</td>\n      <td>1.75</td>\n      <td>7.84</td>\n      <td>11.76</td>\n      <td>6.0</td>\n      <td>70.56</td>\n      <td>10.50</td>\n      <td>2.77</td>\n    </tr>\n  </tbody>\n</table>\n<p>2 rows × 24 columns</p>\n</div>"
     },
     "metadata": {},
     "execution_count": 113
    }
   ],
   "source": [
    "df.head(2)"
   ]
  },
  {
   "cell_type": "code",
   "execution_count": 117,
   "metadata": {},
   "outputs": [
    {
     "output_type": "execute_result",
     "data": {
      "text/plain": [
       "                                                bottle_volume  bottles_sold  \\\n",
       "category_name item_description                                                \n",
       "0             99 Pineapple Mini                        600.00      6.528814   \n",
       "              99 Watermelon Mini                       600.00     20.000000   \n",
       "              Aalborg Jubilaeums Aquavit               750.00     24.000000   \n",
       "              Aberlour A'bunadh                        750.00      6.000000   \n",
       "              Black Saddle Bourbon                     750.00      6.000000   \n",
       "              Blue Chair Bay Banana Rum Cream          750.00      6.584270   \n",
       "              Burnetts Ruby Red Grapefruit             750.00     12.000000   \n",
       "              Cedar Ridge Barrel Proof Bourbon         750.00    110.000000   \n",
       "              Cedar Ridge Reserve Bourbon              750.00     15.538462   \n",
       "              Deep Eddy  Lemon Vodka                     1.75     12.000000   \n",
       "\n",
       "                                                category  county_number  \\\n",
       "category_name item_description                                            \n",
       "0             99 Pineapple Mini                        0      63.077966   \n",
       "              99 Watermelon Mini                       0      78.000000   \n",
       "              Aalborg Jubilaeums Aquavit               0      33.500000   \n",
       "              Aberlour A'bunadh                        0      67.000000   \n",
       "              Black Saddle Bourbon                     0       7.000000   \n",
       "              Blue Chair Bay Banana Rum Cream          0      51.483146   \n",
       "              Burnetts Ruby Red Grapefruit             0      82.000000   \n",
       "              Cedar Ridge Barrel Proof Bourbon         0      60.333333   \n",
       "              Cedar Ridge Reserve Bourbon              0      65.410256   \n",
       "              Deep Eddy  Lemon Vodka                   0      82.000000   \n",
       "\n",
       "                                                item_number  pack    sale_usd  \\\n",
       "category_name item_description                                                  \n",
       "0             99 Pineapple Mini                     84197.0  10.0   58.759322   \n",
       "              99 Watermelon Mini                   984393.0  10.0  180.000000   \n",
       "              Aalborg Jubilaeums Aquavit           964049.0   6.0  468.000000   \n",
       "              Aberlour A'bunadh                    994046.0   6.0  373.320000   \n",
       "              Black Saddle Bourbon                 916839.0   6.0  232.560000   \n",
       "              Blue Chair Bay Banana Rum Cream       80024.0  12.0   93.035730   \n",
       "              Burnetts Ruby Red Grapefruit         940146.0  12.0   81.000000   \n",
       "              Cedar Ridge Barrel Proof Bourbon     927367.0   6.0  145.040000   \n",
       "              Cedar Ridge Reserve Bourbon           27849.0   6.0  211.624615   \n",
       "              Deep Eddy  Lemon Vodka               940055.0   6.0  260.880000   \n",
       "\n",
       "                                                state_bottle_cost  \\\n",
       "category_name item_description                                      \n",
       "0             99 Pineapple Mini                              6.00   \n",
       "              99 Watermelon Mini                             6.00   \n",
       "              Aalborg Jubilaeums Aquavit                    13.00   \n",
       "              Aberlour A'bunadh                             41.48   \n",
       "              Black Saddle Bourbon                          25.84   \n",
       "              Blue Chair Bay Banana Rum Cream                9.42   \n",
       "              Burnetts Ruby Red Grapefruit                   4.50   \n",
       "              Cedar Ridge Barrel Proof Bourbon              24.17   \n",
       "              Cedar Ridge Reserve Bourbon                   25.47   \n",
       "              Deep Eddy  Lemon Vodka                        14.49   \n",
       "\n",
       "                                                state_bottle_retail  \\\n",
       "category_name item_description                                        \n",
       "0             99 Pineapple Mini                                9.00   \n",
       "              99 Watermelon Mini                               9.00   \n",
       "              Aalborg Jubilaeums Aquavit                      19.50   \n",
       "              Aberlour A'bunadh                               62.22   \n",
       "              Black Saddle Bourbon                            38.76   \n",
       "              Blue Chair Bay Banana Rum Cream                 14.13   \n",
       "              Burnetts Ruby Red Grapefruit                     6.75   \n",
       "              Cedar Ridge Barrel Proof Bourbon                36.26   \n",
       "              Cedar Ridge Reserve Bourbon                     38.21   \n",
       "              Deep Eddy  Lemon Vodka                          21.74   \n",
       "\n",
       "                                                store_number  vendor_number  \\\n",
       "category_name item_description                                                \n",
       "0             99 Pineapple Mini                  4484.989831           55.0   \n",
       "              99 Watermelon Mini                 4312.000000           55.0   \n",
       "              Aalborg Jubilaeums Aquavit         2438.000000          421.0   \n",
       "              Aberlour A'bunadh                  3247.000000          370.0   \n",
       "              Black Saddle Bourbon               4988.000000          198.0   \n",
       "              Blue Chair Bay Banana Rum Cream    3329.011236          305.0   \n",
       "              Burnetts Ruby Red Grapefruit       2614.000000          259.0   \n",
       "              Cedar Ridge Barrel Proof Bourbon   6834.666667          125.0   \n",
       "              Cedar Ridge Reserve Bourbon        3787.179487          125.0   \n",
       "              Deep Eddy  Lemon Vodka             2614.000000          259.0   \n",
       "\n",
       "                                                volume_sold_gallons  \\\n",
       "category_name item_description                                        \n",
       "0             99 Pineapple Mini                            1.029153   \n",
       "              99 Watermelon Mini                           3.170000   \n",
       "              Aalborg Jubilaeums Aquavit                   4.750000   \n",
       "              Aberlour A'bunadh                            1.180000   \n",
       "              Black Saddle Bourbon                         1.180000   \n",
       "              Blue Chair Bay Banana Rum Cream              1.298652   \n",
       "              Burnetts Ruby Red Grapefruit                 2.370000   \n",
       "              Cedar Ridge Barrel Proof Bourbon            21.790000   \n",
       "              Cedar Ridge Reserve Bourbon                  3.071026   \n",
       "              Deep Eddy  Lemon Vodka                       5.540000   \n",
       "\n",
       "                                                volume_sold_lt      zip_code  \n",
       "category_name item_description                                                \n",
       "0             99 Pineapple Mini                       3.917288  51485.620339  \n",
       "              99 Watermelon Mini                     12.000000  51501.000000  \n",
       "              Aalborg Jubilaeums Aquavit             18.000000  51131.000000  \n",
       "              Aberlour A'bunadh                       4.500000  52522.500000  \n",
       "              Black Saddle Bourbon                    4.500000  50613.000000  \n",
       "              Blue Chair Bay Banana Rum Cream         4.938202  51253.674157  \n",
       "              Burnetts Ruby Red Grapefruit            9.000000  52807.000000  \n",
       "              Cedar Ridge Barrel Proof Bourbon       82.500000  51565.666667  \n",
       "              Cedar Ridge Reserve Bourbon            11.653846  51635.153846  \n",
       "              Deep Eddy  Lemon Vodka                 21.000000  52807.000000  "
      ],
      "text/html": "<div>\n<style scoped>\n    .dataframe tbody tr th:only-of-type {\n        vertical-align: middle;\n    }\n\n    .dataframe tbody tr th {\n        vertical-align: top;\n    }\n\n    .dataframe thead th {\n        text-align: right;\n    }\n</style>\n<table border=\"1\" class=\"dataframe\">\n  <thead>\n    <tr style=\"text-align: right;\">\n      <th></th>\n      <th></th>\n      <th>bottle_volume</th>\n      <th>bottles_sold</th>\n      <th>category</th>\n      <th>county_number</th>\n      <th>item_number</th>\n      <th>pack</th>\n      <th>sale_usd</th>\n      <th>state_bottle_cost</th>\n      <th>state_bottle_retail</th>\n      <th>store_number</th>\n      <th>vendor_number</th>\n      <th>volume_sold_gallons</th>\n      <th>volume_sold_lt</th>\n      <th>zip_code</th>\n    </tr>\n    <tr>\n      <th>category_name</th>\n      <th>item_description</th>\n      <th></th>\n      <th></th>\n      <th></th>\n      <th></th>\n      <th></th>\n      <th></th>\n      <th></th>\n      <th></th>\n      <th></th>\n      <th></th>\n      <th></th>\n      <th></th>\n      <th></th>\n      <th></th>\n    </tr>\n  </thead>\n  <tbody>\n    <tr>\n      <th rowspan=\"10\" valign=\"top\">0</th>\n      <th>99 Pineapple Mini</th>\n      <td>600.00</td>\n      <td>6.528814</td>\n      <td>0</td>\n      <td>63.077966</td>\n      <td>84197.0</td>\n      <td>10.0</td>\n      <td>58.759322</td>\n      <td>6.00</td>\n      <td>9.00</td>\n      <td>4484.989831</td>\n      <td>55.0</td>\n      <td>1.029153</td>\n      <td>3.917288</td>\n      <td>51485.620339</td>\n    </tr>\n    <tr>\n      <th>99 Watermelon Mini</th>\n      <td>600.00</td>\n      <td>20.000000</td>\n      <td>0</td>\n      <td>78.000000</td>\n      <td>984393.0</td>\n      <td>10.0</td>\n      <td>180.000000</td>\n      <td>6.00</td>\n      <td>9.00</td>\n      <td>4312.000000</td>\n      <td>55.0</td>\n      <td>3.170000</td>\n      <td>12.000000</td>\n      <td>51501.000000</td>\n    </tr>\n    <tr>\n      <th>Aalborg Jubilaeums Aquavit</th>\n      <td>750.00</td>\n      <td>24.000000</td>\n      <td>0</td>\n      <td>33.500000</td>\n      <td>964049.0</td>\n      <td>6.0</td>\n      <td>468.000000</td>\n      <td>13.00</td>\n      <td>19.50</td>\n      <td>2438.000000</td>\n      <td>421.0</td>\n      <td>4.750000</td>\n      <td>18.000000</td>\n      <td>51131.000000</td>\n    </tr>\n    <tr>\n      <th>Aberlour A'bunadh</th>\n      <td>750.00</td>\n      <td>6.000000</td>\n      <td>0</td>\n      <td>67.000000</td>\n      <td>994046.0</td>\n      <td>6.0</td>\n      <td>373.320000</td>\n      <td>41.48</td>\n      <td>62.22</td>\n      <td>3247.000000</td>\n      <td>370.0</td>\n      <td>1.180000</td>\n      <td>4.500000</td>\n      <td>52522.500000</td>\n    </tr>\n    <tr>\n      <th>Black Saddle Bourbon</th>\n      <td>750.00</td>\n      <td>6.000000</td>\n      <td>0</td>\n      <td>7.000000</td>\n      <td>916839.0</td>\n      <td>6.0</td>\n      <td>232.560000</td>\n      <td>25.84</td>\n      <td>38.76</td>\n      <td>4988.000000</td>\n      <td>198.0</td>\n      <td>1.180000</td>\n      <td>4.500000</td>\n      <td>50613.000000</td>\n    </tr>\n    <tr>\n      <th>Blue Chair Bay Banana Rum Cream</th>\n      <td>750.00</td>\n      <td>6.584270</td>\n      <td>0</td>\n      <td>51.483146</td>\n      <td>80024.0</td>\n      <td>12.0</td>\n      <td>93.035730</td>\n      <td>9.42</td>\n      <td>14.13</td>\n      <td>3329.011236</td>\n      <td>305.0</td>\n      <td>1.298652</td>\n      <td>4.938202</td>\n      <td>51253.674157</td>\n    </tr>\n    <tr>\n      <th>Burnetts Ruby Red Grapefruit</th>\n      <td>750.00</td>\n      <td>12.000000</td>\n      <td>0</td>\n      <td>82.000000</td>\n      <td>940146.0</td>\n      <td>12.0</td>\n      <td>81.000000</td>\n      <td>4.50</td>\n      <td>6.75</td>\n      <td>2614.000000</td>\n      <td>259.0</td>\n      <td>2.370000</td>\n      <td>9.000000</td>\n      <td>52807.000000</td>\n    </tr>\n    <tr>\n      <th>Cedar Ridge Barrel Proof Bourbon</th>\n      <td>750.00</td>\n      <td>110.000000</td>\n      <td>0</td>\n      <td>60.333333</td>\n      <td>927367.0</td>\n      <td>6.0</td>\n      <td>145.040000</td>\n      <td>24.17</td>\n      <td>36.26</td>\n      <td>6834.666667</td>\n      <td>125.0</td>\n      <td>21.790000</td>\n      <td>82.500000</td>\n      <td>51565.666667</td>\n    </tr>\n    <tr>\n      <th>Cedar Ridge Reserve Bourbon</th>\n      <td>750.00</td>\n      <td>15.538462</td>\n      <td>0</td>\n      <td>65.410256</td>\n      <td>27849.0</td>\n      <td>6.0</td>\n      <td>211.624615</td>\n      <td>25.47</td>\n      <td>38.21</td>\n      <td>3787.179487</td>\n      <td>125.0</td>\n      <td>3.071026</td>\n      <td>11.653846</td>\n      <td>51635.153846</td>\n    </tr>\n    <tr>\n      <th>Deep Eddy  Lemon Vodka</th>\n      <td>1.75</td>\n      <td>12.000000</td>\n      <td>0</td>\n      <td>82.000000</td>\n      <td>940055.0</td>\n      <td>6.0</td>\n      <td>260.880000</td>\n      <td>14.49</td>\n      <td>21.74</td>\n      <td>2614.000000</td>\n      <td>259.0</td>\n      <td>5.540000</td>\n      <td>21.000000</td>\n      <td>52807.000000</td>\n    </tr>\n  </tbody>\n</table>\n</div>"
     },
     "metadata": {},
     "execution_count": 117
    }
   ],
   "source": [
    "df.pivot_table(index=['category_name','item_description']).head(10)"
   ]
  },
  {
   "cell_type": "code",
   "execution_count": 124,
   "metadata": {},
   "outputs": [
    {
     "output_type": "execute_result",
     "data": {
      "text/plain": [
       "                                           bottles_sold                        \\\n",
       "county                                                0 ADAIR ADAMS ALLAMAKEE   \n",
       "item_description                                                                \n",
       "1800 Anejo                                            0     0     0         0   \n",
       "1800 Coconut                                          8     0     0         0   \n",
       "1800 Reposado                                         6     0     0        10   \n",
       "1800 Silver                                           6     2     0         0   \n",
       "1800 Silver Mini                                      0     0     0         1   \n",
       "1800 Silver Tequila w/Replica Shot Glasses            0     0     0         0   \n",
       "1800 Ultimate Mango Margarita                         0     0     0         0   \n",
       "1800 Ultimate Margarita                               0     0     0         0   \n",
       "1800 Ultimate Peach Margarita                         0     0     0         0   \n",
       "1800 Ultimate Pineapple Margarita                     0     0     0         0   \n",
       "\n",
       "                                                                     \\\n",
       "county                                     APPANOOSE AUDUBON BENTON   \n",
       "item_description                                                      \n",
       "1800 Anejo                                         0       0      0   \n",
       "1800 Coconut                                       0       0      0   \n",
       "1800 Reposado                                      0       0      0   \n",
       "1800 Silver                                        2       0      2   \n",
       "1800 Silver Mini                                   0       0      0   \n",
       "1800 Silver Tequila w/Replica Shot Glasses         0       3      0   \n",
       "1800 Ultimate Mango Margarita                      0       0      0   \n",
       "1800 Ultimate Margarita                            6       0      2   \n",
       "1800 Ultimate Peach Margarita                      1       0      0   \n",
       "1800 Ultimate Pineapple Margarita                  0       0      0   \n",
       "\n",
       "                                                                    ...  \\\n",
       "county                                     BLACK HAWK BOONE BREMER  ...   \n",
       "item_description                                                    ...   \n",
       "1800 Anejo                                          5     0      0  ...   \n",
       "1800 Coconut                                        0     0      0  ...   \n",
       "1800 Reposado                                     118     1      1  ...   \n",
       "1800 Silver                                       232    22      0  ...   \n",
       "1800 Silver Mini                                    6     0      0  ...   \n",
       "1800 Silver Tequila w/Replica Shot Glasses         33     6      0  ...   \n",
       "1800 Ultimate Mango Margarita                      13     6      0  ...   \n",
       "1800 Ultimate Margarita                            57     6      2  ...   \n",
       "1800 Ultimate Peach Margarita                      14     0      0  ...   \n",
       "1800 Ultimate Pineapple Margarita                  13     0      0  ...   \n",
       "\n",
       "                                             sale_usd                          \\\n",
       "county                                     WASHINGTON WAYNE WEBSTER WINNEBAGO   \n",
       "item_description                                                                \n",
       "1800 Anejo                                      33.62   0.0  100.86      0.00   \n",
       "1800 Coconut                                     0.00   0.0   46.38      0.00   \n",
       "1800 Reposado                                   23.19   0.0  602.94     23.19   \n",
       "1800 Silver                                      0.00   0.0  278.28    332.07   \n",
       "1800 Silver Mini                                 0.00   0.0    0.00      0.00   \n",
       "1800 Silver Tequila w/Replica Shot Glasses     162.33   0.0    0.00      0.00   \n",
       "1800 Ultimate Mango Margarita                    0.00   0.0   30.12      0.00   \n",
       "1800 Ultimate Margarita                          0.00   0.0    0.00      0.00   \n",
       "1800 Ultimate Peach Margarita                    0.00   0.0   30.12      0.00   \n",
       "1800 Ultimate Pineapple Margarita                0.00   0.0    0.00      0.00   \n",
       "\n",
       "                                                                              \\\n",
       "county                                     WINNESHIEK WOODBURY WORTH  WRIGHT   \n",
       "item_description                                                               \n",
       "1800 Anejo                                       0.00   773.26   0.0    0.00   \n",
       "1800 Coconut                                     0.00   115.95   0.0    0.00   \n",
       "1800 Reposado                                  324.66  3261.75   0.0   92.76   \n",
       "1800 Silver                                      0.00  4877.37   0.0  443.67   \n",
       "1800 Silver Mini                                 0.00    33.15   0.0    0.00   \n",
       "1800 Silver Tequila w/Replica Shot Glasses       0.00   417.42   0.0    0.00   \n",
       "1800 Ultimate Mango Margarita                    0.00   120.48   0.0    0.00   \n",
       "1800 Ultimate Margarita                         90.36   572.28   0.0    0.00   \n",
       "1800 Ultimate Peach Margarita                    0.00     0.00   0.0    0.00   \n",
       "1800 Ultimate Pineapple Margarita                0.00   180.72   0.0    0.00   \n",
       "\n",
       "                                                            \n",
       "county                                     Wapello Webster  \n",
       "item_description                                            \n",
       "1800 Anejo                                    0.00    0.00  \n",
       "1800 Coconut                                  0.00    0.00  \n",
       "1800 Reposado                               278.28   69.57  \n",
       "1800 Silver                                   0.00    0.00  \n",
       "1800 Silver Mini                              0.00    0.00  \n",
       "1800 Silver Tequila w/Replica Shot Glasses  139.14    0.00  \n",
       "1800 Ultimate Mango Margarita                 0.00    0.00  \n",
       "1800 Ultimate Margarita                       0.00    0.00  \n",
       "1800 Ultimate Peach Margarita                 0.00    0.00  \n",
       "1800 Ultimate Pineapple Margarita             0.00    0.00  \n",
       "\n",
       "[10 rows x 238 columns]"
      ],
      "text/html": "<div>\n<style scoped>\n    .dataframe tbody tr th:only-of-type {\n        vertical-align: middle;\n    }\n\n    .dataframe tbody tr th {\n        vertical-align: top;\n    }\n\n    .dataframe thead tr th {\n        text-align: left;\n    }\n\n    .dataframe thead tr:last-of-type th {\n        text-align: right;\n    }\n</style>\n<table border=\"1\" class=\"dataframe\">\n  <thead>\n    <tr>\n      <th></th>\n      <th colspan=\"10\" halign=\"left\">bottles_sold</th>\n      <th>...</th>\n      <th colspan=\"10\" halign=\"left\">sale_usd</th>\n    </tr>\n    <tr>\n      <th>county</th>\n      <th>0</th>\n      <th>ADAIR</th>\n      <th>ADAMS</th>\n      <th>ALLAMAKEE</th>\n      <th>APPANOOSE</th>\n      <th>AUDUBON</th>\n      <th>BENTON</th>\n      <th>BLACK HAWK</th>\n      <th>BOONE</th>\n      <th>BREMER</th>\n      <th>...</th>\n      <th>WASHINGTON</th>\n      <th>WAYNE</th>\n      <th>WEBSTER</th>\n      <th>WINNEBAGO</th>\n      <th>WINNESHIEK</th>\n      <th>WOODBURY</th>\n      <th>WORTH</th>\n      <th>WRIGHT</th>\n      <th>Wapello</th>\n      <th>Webster</th>\n    </tr>\n    <tr>\n      <th>item_description</th>\n      <th></th>\n      <th></th>\n      <th></th>\n      <th></th>\n      <th></th>\n      <th></th>\n      <th></th>\n      <th></th>\n      <th></th>\n      <th></th>\n      <th></th>\n      <th></th>\n      <th></th>\n      <th></th>\n      <th></th>\n      <th></th>\n      <th></th>\n      <th></th>\n      <th></th>\n      <th></th>\n      <th></th>\n    </tr>\n  </thead>\n  <tbody>\n    <tr>\n      <th>1800 Anejo</th>\n      <td>0</td>\n      <td>0</td>\n      <td>0</td>\n      <td>0</td>\n      <td>0</td>\n      <td>0</td>\n      <td>0</td>\n      <td>5</td>\n      <td>0</td>\n      <td>0</td>\n      <td>...</td>\n      <td>33.62</td>\n      <td>0.0</td>\n      <td>100.86</td>\n      <td>0.00</td>\n      <td>0.00</td>\n      <td>773.26</td>\n      <td>0.0</td>\n      <td>0.00</td>\n      <td>0.00</td>\n      <td>0.00</td>\n    </tr>\n    <tr>\n      <th>1800 Coconut</th>\n      <td>8</td>\n      <td>0</td>\n      <td>0</td>\n      <td>0</td>\n      <td>0</td>\n      <td>0</td>\n      <td>0</td>\n      <td>0</td>\n      <td>0</td>\n      <td>0</td>\n      <td>...</td>\n      <td>0.00</td>\n      <td>0.0</td>\n      <td>46.38</td>\n      <td>0.00</td>\n      <td>0.00</td>\n      <td>115.95</td>\n      <td>0.0</td>\n      <td>0.00</td>\n      <td>0.00</td>\n      <td>0.00</td>\n    </tr>\n    <tr>\n      <th>1800 Reposado</th>\n      <td>6</td>\n      <td>0</td>\n      <td>0</td>\n      <td>10</td>\n      <td>0</td>\n      <td>0</td>\n      <td>0</td>\n      <td>118</td>\n      <td>1</td>\n      <td>1</td>\n      <td>...</td>\n      <td>23.19</td>\n      <td>0.0</td>\n      <td>602.94</td>\n      <td>23.19</td>\n      <td>324.66</td>\n      <td>3261.75</td>\n      <td>0.0</td>\n      <td>92.76</td>\n      <td>278.28</td>\n      <td>69.57</td>\n    </tr>\n    <tr>\n      <th>1800 Silver</th>\n      <td>6</td>\n      <td>2</td>\n      <td>0</td>\n      <td>0</td>\n      <td>2</td>\n      <td>0</td>\n      <td>2</td>\n      <td>232</td>\n      <td>22</td>\n      <td>0</td>\n      <td>...</td>\n      <td>0.00</td>\n      <td>0.0</td>\n      <td>278.28</td>\n      <td>332.07</td>\n      <td>0.00</td>\n      <td>4877.37</td>\n      <td>0.0</td>\n      <td>443.67</td>\n      <td>0.00</td>\n      <td>0.00</td>\n    </tr>\n    <tr>\n      <th>1800 Silver Mini</th>\n      <td>0</td>\n      <td>0</td>\n      <td>0</td>\n      <td>1</td>\n      <td>0</td>\n      <td>0</td>\n      <td>0</td>\n      <td>6</td>\n      <td>0</td>\n      <td>0</td>\n      <td>...</td>\n      <td>0.00</td>\n      <td>0.0</td>\n      <td>0.00</td>\n      <td>0.00</td>\n      <td>0.00</td>\n      <td>33.15</td>\n      <td>0.0</td>\n      <td>0.00</td>\n      <td>0.00</td>\n      <td>0.00</td>\n    </tr>\n    <tr>\n      <th>1800 Silver Tequila w/Replica Shot Glasses</th>\n      <td>0</td>\n      <td>0</td>\n      <td>0</td>\n      <td>0</td>\n      <td>0</td>\n      <td>3</td>\n      <td>0</td>\n      <td>33</td>\n      <td>6</td>\n      <td>0</td>\n      <td>...</td>\n      <td>162.33</td>\n      <td>0.0</td>\n      <td>0.00</td>\n      <td>0.00</td>\n      <td>0.00</td>\n      <td>417.42</td>\n      <td>0.0</td>\n      <td>0.00</td>\n      <td>139.14</td>\n      <td>0.00</td>\n    </tr>\n    <tr>\n      <th>1800 Ultimate Mango Margarita</th>\n      <td>0</td>\n      <td>0</td>\n      <td>0</td>\n      <td>0</td>\n      <td>0</td>\n      <td>0</td>\n      <td>0</td>\n      <td>13</td>\n      <td>6</td>\n      <td>0</td>\n      <td>...</td>\n      <td>0.00</td>\n      <td>0.0</td>\n      <td>30.12</td>\n      <td>0.00</td>\n      <td>0.00</td>\n      <td>120.48</td>\n      <td>0.0</td>\n      <td>0.00</td>\n      <td>0.00</td>\n      <td>0.00</td>\n    </tr>\n    <tr>\n      <th>1800 Ultimate Margarita</th>\n      <td>0</td>\n      <td>0</td>\n      <td>0</td>\n      <td>0</td>\n      <td>6</td>\n      <td>0</td>\n      <td>2</td>\n      <td>57</td>\n      <td>6</td>\n      <td>2</td>\n      <td>...</td>\n      <td>0.00</td>\n      <td>0.0</td>\n      <td>0.00</td>\n      <td>0.00</td>\n      <td>90.36</td>\n      <td>572.28</td>\n      <td>0.0</td>\n      <td>0.00</td>\n      <td>0.00</td>\n      <td>0.00</td>\n    </tr>\n    <tr>\n      <th>1800 Ultimate Peach Margarita</th>\n      <td>0</td>\n      <td>0</td>\n      <td>0</td>\n      <td>0</td>\n      <td>1</td>\n      <td>0</td>\n      <td>0</td>\n      <td>14</td>\n      <td>0</td>\n      <td>0</td>\n      <td>...</td>\n      <td>0.00</td>\n      <td>0.0</td>\n      <td>30.12</td>\n      <td>0.00</td>\n      <td>0.00</td>\n      <td>0.00</td>\n      <td>0.0</td>\n      <td>0.00</td>\n      <td>0.00</td>\n      <td>0.00</td>\n    </tr>\n    <tr>\n      <th>1800 Ultimate Pineapple Margarita</th>\n      <td>0</td>\n      <td>0</td>\n      <td>0</td>\n      <td>0</td>\n      <td>0</td>\n      <td>0</td>\n      <td>0</td>\n      <td>13</td>\n      <td>0</td>\n      <td>0</td>\n      <td>...</td>\n      <td>0.00</td>\n      <td>0.0</td>\n      <td>0.00</td>\n      <td>0.00</td>\n      <td>0.00</td>\n      <td>180.72</td>\n      <td>0.0</td>\n      <td>0.00</td>\n      <td>0.00</td>\n      <td>0.00</td>\n    </tr>\n  </tbody>\n</table>\n<p>10 rows × 238 columns</p>\n</div>"
     },
     "metadata": {},
     "execution_count": 124
    }
   ],
   "source": [
    "df_pivot_table = df.pivot_table(index=['item_description'], values=['sale_usd','bottles_sold'], columns=['county'], aggfunc=np.sum, fill_value=0).head(10)\n",
    "df_pivot_table"
   ]
  },
  {
   "cell_type": "code",
   "execution_count": 125,
   "metadata": {},
   "outputs": [
    {
     "output_type": "execute_result",
     "data": {
      "text/plain": [
       "pandas.core.frame.DataFrame"
      ]
     },
     "metadata": {},
     "execution_count": 125
    }
   ],
   "source": [
    "type(df_pivot_table)"
   ]
  },
  {
   "cell_type": "code",
   "execution_count": 126,
   "metadata": {},
   "outputs": [
    {
     "output_type": "execute_result",
     "data": {
      "text/plain": [
       "                                            sale_usd  bottles_sold\n",
       "category_name item_description  county                            \n",
       "0             99 Pineapple Mini BENTON        387.00          43.0\n",
       "                                BLACK HAWK    873.00          97.0\n",
       "                                BOONE          90.00          10.0\n",
       "                                BREMER         90.00          10.0\n",
       "                                CARROLL        18.00           2.0\n",
       "...                                              ...           ...\n",
       "White Rum     Steel Drum        MARION         36.28           2.0\n",
       "                                POLK         1469.34          81.0\n",
       "                                STORY          90.70           5.0\n",
       "                                WAPELLO       108.84           6.0\n",
       "                                WARREN       1360.50          75.0\n",
       "\n",
       "[56929 rows x 2 columns]"
      ],
      "text/html": "<div>\n<style scoped>\n    .dataframe tbody tr th:only-of-type {\n        vertical-align: middle;\n    }\n\n    .dataframe tbody tr th {\n        vertical-align: top;\n    }\n\n    .dataframe thead th {\n        text-align: right;\n    }\n</style>\n<table border=\"1\" class=\"dataframe\">\n  <thead>\n    <tr style=\"text-align: right;\">\n      <th></th>\n      <th></th>\n      <th></th>\n      <th>sale_usd</th>\n      <th>bottles_sold</th>\n    </tr>\n    <tr>\n      <th>category_name</th>\n      <th>item_description</th>\n      <th>county</th>\n      <th></th>\n      <th></th>\n    </tr>\n  </thead>\n  <tbody>\n    <tr>\n      <th rowspan=\"5\" valign=\"top\">0</th>\n      <th rowspan=\"5\" valign=\"top\">99 Pineapple Mini</th>\n      <th>BENTON</th>\n      <td>387.00</td>\n      <td>43.0</td>\n    </tr>\n    <tr>\n      <th>BLACK HAWK</th>\n      <td>873.00</td>\n      <td>97.0</td>\n    </tr>\n    <tr>\n      <th>BOONE</th>\n      <td>90.00</td>\n      <td>10.0</td>\n    </tr>\n    <tr>\n      <th>BREMER</th>\n      <td>90.00</td>\n      <td>10.0</td>\n    </tr>\n    <tr>\n      <th>CARROLL</th>\n      <td>18.00</td>\n      <td>2.0</td>\n    </tr>\n    <tr>\n      <th>...</th>\n      <th>...</th>\n      <th>...</th>\n      <td>...</td>\n      <td>...</td>\n    </tr>\n    <tr>\n      <th rowspan=\"5\" valign=\"top\">White Rum</th>\n      <th rowspan=\"5\" valign=\"top\">Steel Drum</th>\n      <th>MARION</th>\n      <td>36.28</td>\n      <td>2.0</td>\n    </tr>\n    <tr>\n      <th>POLK</th>\n      <td>1469.34</td>\n      <td>81.0</td>\n    </tr>\n    <tr>\n      <th>STORY</th>\n      <td>90.70</td>\n      <td>5.0</td>\n    </tr>\n    <tr>\n      <th>WAPELLO</th>\n      <td>108.84</td>\n      <td>6.0</td>\n    </tr>\n    <tr>\n      <th>WARREN</th>\n      <td>1360.50</td>\n      <td>75.0</td>\n    </tr>\n  </tbody>\n</table>\n<p>56929 rows × 2 columns</p>\n</div>"
     },
     "metadata": {},
     "execution_count": 126
    }
   ],
   "source": [
    "df_group_bay = df.groupby(['category_name','item_description','county']).agg({'sale_usd':'sum', 'bottles_sold':'sum'})\n",
    "df_group_bay"
   ]
  },
  {
   "cell_type": "code",
   "execution_count": null,
   "metadata": {},
   "outputs": [],
   "source": [
    "d"
   ]
  }
 ]
}